{
  "nbformat": 4,
  "nbformat_minor": 0,
  "metadata": {
    "colab": {
      "name": "Assignment Day 3 | 8th July 2020 | Ishan Pradhan.ipynb",
      "provenance": [],
      "collapsed_sections": []
    },
    "kernelspec": {
      "name": "python3",
      "display_name": "Python 3"
    }
  },
  "cells": [
    {
      "cell_type": "code",
      "metadata": {
        "id": "q5DJqRKir6TD",
        "colab_type": "code",
        "colab": {
          "base_uri": "https://localhost:8080/",
          "height": 34
        },
        "outputId": "bcadd807-5c0f-465f-9d17-9b62d70ad875"
      },
      "source": [
        "#Question 1\n",
        "A=complex(6,8)\n",
        "B=complex(10,12)\n",
        "C=A-B\n",
        "print(\"Sutraction =\",C)"
      ],
      "execution_count": null,
      "outputs": [
        {
          "output_type": "stream",
          "text": [
            "Sutraction = (-4-4j)\n"
          ],
          "name": "stdout"
        }
      ]
    },
    {
      "cell_type": "code",
      "metadata": {
        "id": "d4wMam2DsLER",
        "colab_type": "code",
        "colab": {
          "base_uri": "https://localhost:8080/",
          "height": 34
        },
        "outputId": "5b5da159-0d4d-4f0c-9315-1d9a15382263"
      },
      "source": [
        "#Question 2\n",
        "import math\n",
        "a=12\n",
        "rt=math.pow(a,0.25)\n",
        "print(rt)"
      ],
      "execution_count": null,
      "outputs": [
        {
          "output_type": "stream",
          "text": [
            "1.8612097182041991\n"
          ],
          "name": "stdout"
        }
      ]
    },
    {
      "cell_type": "code",
      "metadata": {
        "id": "326eVqSxs16P",
        "colab_type": "code",
        "colab": {
          "base_uri": "https://localhost:8080/",
          "height": 85
        },
        "outputId": "c3fcd5e2-f52e-4c1e-ba63-6ebec2574efc"
      },
      "source": [
        "#Question 3\n",
        "x=7\n",
        "y=9\n",
        "temp=x\n",
        "x=y\n",
        "y=temp\n",
        "print(\"The value of x is: \",temp)\n",
        "print(\"The value of y is: \",x)\n",
        "print(\"The value of x after swapping is: \",x)\n",
        "print(\"The value of y after swapping is: \",y)"
      ],
      "execution_count": null,
      "outputs": [
        {
          "output_type": "stream",
          "text": [
            "The value of x is:  7\n",
            "The value of y is:  9\n",
            "The value of x after swapping is:  9\n",
            "The value of y after swapping is:  7\n"
          ],
          "name": "stdout"
        }
      ]
    },
    {
      "cell_type": "code",
      "metadata": {
        "id": "fk7Jb6Yvs_BH",
        "colab_type": "code",
        "colab": {
          "base_uri": "https://localhost:8080/",
          "height": 51
        },
        "outputId": "ba691440-e1cb-41d6-85d0-c2caac4b81ff"
      },
      "source": [
        "#Question 4\n",
        "x=5\n",
        "y=6\n",
        "x ,y=y ,x\n",
        "print(\"The value of x after swapping is: \",x)\n",
        "print(\"The value of y after swapping is: \",y)"
      ],
      "execution_count": null,
      "outputs": [
        {
          "output_type": "stream",
          "text": [
            "The value of x after swapping is:  6\n",
            "The value of y after swapping is:  5\n"
          ],
          "name": "stdout"
        }
      ]
    },
    {
      "cell_type": "code",
      "metadata": {
        "id": "MszPTHlftCO3",
        "colab_type": "code",
        "colab": {
          "base_uri": "https://localhost:8080/",
          "height": 51
        },
        "outputId": "d4bc3af4-aa50-45a7-8f15-031032ad9110"
      },
      "source": [
        "#Question 5\n",
        "f=98\n",
        "c=(f-32)*5/9\n",
        "k=c+273.15\n",
        "print(\"Celcius\",c)\n",
        "print(\"Kelvin\",k)"
      ],
      "execution_count": null,
      "outputs": [
        {
          "output_type": "stream",
          "text": [
            "Celcius 36.666666666666664\n",
            "Kelvin 309.81666666666666\n"
          ],
          "name": "stdout"
        }
      ]
    },
    {
      "cell_type": "code",
      "metadata": {
        "id": "d064IHd1tHhu",
        "colab_type": "code",
        "colab": {
          "base_uri": "https://localhost:8080/",
          "height": 34
        },
        "outputId": "447c1899-5efc-48b1-857b-8df30057484a"
      },
      "source": [
        "#Question 6\n",
        "\n",
        "type(12)"
      ],
      "execution_count": null,
      "outputs": [
        {
          "output_type": "execute_result",
          "data": {
            "text/plain": [
              "int"
            ]
          },
          "metadata": {
            "tags": []
          },
          "execution_count": 8
        }
      ]
    },
    {
      "cell_type": "code",
      "metadata": {
        "id": "n1LHV2x7tdbW",
        "colab_type": "code",
        "colab": {
          "base_uri": "https://localhost:8080/",
          "height": 34
        },
        "outputId": "892502e3-5709-44b5-b5c1-abfada4c1b00"
      },
      "source": [
        "type(17.6)"
      ],
      "execution_count": null,
      "outputs": [
        {
          "output_type": "execute_result",
          "data": {
            "text/plain": [
              "float"
            ]
          },
          "metadata": {
            "tags": []
          },
          "execution_count": 9
        }
      ]
    },
    {
      "cell_type": "code",
      "metadata": {
        "id": "8UDVFnf7tfp6",
        "colab_type": "code",
        "colab": {
          "base_uri": "https://localhost:8080/",
          "height": 34
        },
        "outputId": "cd8daf49-ffb7-4cc4-d10b-a174649644b8"
      },
      "source": [
        "type(\"Pradhan\")"
      ],
      "execution_count": null,
      "outputs": [
        {
          "output_type": "execute_result",
          "data": {
            "text/plain": [
              "str"
            ]
          },
          "metadata": {
            "tags": []
          },
          "execution_count": 13
        }
      ]
    },
    {
      "cell_type": "code",
      "metadata": {
        "id": "2q0Hpy92tiwy",
        "colab_type": "code",
        "colab": {
          "base_uri": "https://localhost:8080/",
          "height": 34
        },
        "outputId": "fcbfd82e-9cec-4499-80c0-deddab7047fb"
      },
      "source": [
        "type([1,2,3,4])"
      ],
      "execution_count": null,
      "outputs": [
        {
          "output_type": "execute_result",
          "data": {
            "text/plain": [
              "list"
            ]
          },
          "metadata": {
            "tags": []
          },
          "execution_count": 14
        }
      ]
    },
    {
      "cell_type": "code",
      "metadata": {
        "id": "KiO1ssRQtmJF",
        "colab_type": "code",
        "colab": {
          "base_uri": "https://localhost:8080/",
          "height": 34
        },
        "outputId": "d4c49e0b-f7d7-4a91-b78c-f2e1366b4a93"
      },
      "source": [
        "type({1:\"Ishan\"})"
      ],
      "execution_count": null,
      "outputs": [
        {
          "output_type": "execute_result",
          "data": {
            "text/plain": [
              "dict"
            ]
          },
          "metadata": {
            "tags": []
          },
          "execution_count": 15
        }
      ]
    },
    {
      "cell_type": "code",
      "metadata": {
        "id": "g3aBKQvZto0e",
        "colab_type": "code",
        "colab": {}
      },
      "source": [
        "#Question 7"
      ],
      "execution_count": null,
      "outputs": []
    },
    {
      "cell_type": "markdown",
      "metadata": {
        "id": "6jj_YNj1uDc8",
        "colab_type": "text"
      },
      "source": [
        "\n",
        "# Steps to create a github profile and upload the link\n",
        "# Step 1: Sign up to github if you dont have an account.\n",
        "# Step 2: Create a folder named by number of day you are doing the assignment and put the assignment in that folder.\n",
        "# Step 3: Go to new option near Repository and create a new repository named LetsUpgrade-AI-ML\n",
        "# Step 4: Go to \"upload an existing file\" option\n",
        "# step 5: Drag and drop the folder and click on comit changes\n",
        "# Step 6: Copy the link of the file and paste it in the assignment submission file"
      ]
    },
    {
      "cell_type": "code",
      "metadata": {
        "id": "_MywgNnjuIRx",
        "colab_type": "code",
        "colab": {}
      },
      "source": [
        ""
      ],
      "execution_count": null,
      "outputs": []
    }
  ]
}