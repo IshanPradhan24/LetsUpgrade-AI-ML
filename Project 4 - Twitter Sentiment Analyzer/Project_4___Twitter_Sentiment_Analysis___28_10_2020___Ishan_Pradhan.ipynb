{
  "nbformat": 4,
  "nbformat_minor": 0,
  "metadata": {
    "colab": {
      "name": "Project 4 | Twitter Sentiment Analysis | 28/10/2020 | Ishan Pradhan.ipynb",
      "provenance": [],
      "collapsed_sections": []
    },
    "kernelspec": {
      "name": "python3",
      "display_name": "Python 3"
    }
  },
  "cells": [
    {
      "cell_type": "markdown",
      "metadata": {
        "id": "rI0Fgu3C95Sg"
      },
      "source": [
        "#We will collect text data using Twitter API."
      ]
    },
    {
      "cell_type": "code",
      "metadata": {
        "id": "bCt6vdLlhgwn",
        "outputId": "bebac42c-c375-4db0-fb56-071e8fd4f1ef",
        "colab": {
          "base_uri": "https://localhost:8080/"
        }
      },
      "source": [
        "!pip install tweepy"
      ],
      "execution_count": null,
      "outputs": [
        {
          "output_type": "stream",
          "text": [
            "Requirement already satisfied: tweepy in /usr/local/lib/python3.6/dist-packages (3.6.0)\n",
            "Requirement already satisfied: six>=1.10.0 in /usr/local/lib/python3.6/dist-packages (from tweepy) (1.15.0)\n",
            "Requirement already satisfied: requests>=2.11.1 in /usr/local/lib/python3.6/dist-packages (from tweepy) (2.23.0)\n",
            "Requirement already satisfied: requests-oauthlib>=0.7.0 in /usr/local/lib/python3.6/dist-packages (from tweepy) (1.3.0)\n",
            "Requirement already satisfied: PySocks>=1.5.7 in /usr/local/lib/python3.6/dist-packages (from tweepy) (1.7.1)\n",
            "Requirement already satisfied: certifi>=2017.4.17 in /usr/local/lib/python3.6/dist-packages (from requests>=2.11.1->tweepy) (2020.6.20)\n",
            "Requirement already satisfied: chardet<4,>=3.0.2 in /usr/local/lib/python3.6/dist-packages (from requests>=2.11.1->tweepy) (3.0.4)\n",
            "Requirement already satisfied: urllib3!=1.25.0,!=1.25.1,<1.26,>=1.21.1 in /usr/local/lib/python3.6/dist-packages (from requests>=2.11.1->tweepy) (1.24.3)\n",
            "Requirement already satisfied: idna<3,>=2.5 in /usr/local/lib/python3.6/dist-packages (from requests>=2.11.1->tweepy) (2.10)\n",
            "Requirement already satisfied: oauthlib>=3.0.0 in /usr/local/lib/python3.6/dist-packages (from requests-oauthlib>=0.7.0->tweepy) (3.1.0)\n"
          ],
          "name": "stdout"
        }
      ]
    },
    {
      "cell_type": "code",
      "metadata": {
        "id": "bBro7wsZ-Ct3",
        "outputId": "45df9fff-4346-4262-b749-b9dfcd047e0d",
        "colab": {
          "base_uri": "https://localhost:8080/"
        }
      },
      "source": [
        "!pip install openpyxl"
      ],
      "execution_count": null,
      "outputs": [
        {
          "output_type": "stream",
          "text": [
            "Requirement already satisfied: openpyxl in /usr/local/lib/python3.6/dist-packages (2.5.9)\n",
            "Requirement already satisfied: jdcal in /usr/local/lib/python3.6/dist-packages (from openpyxl) (1.4.1)\n",
            "Requirement already satisfied: et-xmlfile in /usr/local/lib/python3.6/dist-packages (from openpyxl) (1.0.1)\n"
          ],
          "name": "stdout"
        }
      ]
    },
    {
      "cell_type": "code",
      "metadata": {
        "id": "Wf_T_pUa-nc2"
      },
      "source": [
        "import numpy as np\n",
        "import pandas as pd\n",
        "import tweepy\n",
        "import json\n",
        "from tweepy import OAuthHandler"
      ],
      "execution_count": null,
      "outputs": []
    },
    {
      "cell_type": "code",
      "metadata": {
        "id": "i9rA1Ide-GOt"
      },
      "source": [
        "consumer_key = \"zsYVyAx81uMJVdMB9KBOEndjC\"\n",
        "consumer_secret = \"NlMYKvJoL9lbx3VdahgJNsLg35QrFXPSwDCKl7pPArbpxOEFSG\"\n",
        "access_token = \"3052766490-qRwNpxcKK5QXu3yazwQMd4B5NzWgaVUYeO9PLXe\"\n",
        "access_token_secret = \"wDzrraoXVUnJUXimh2q0nsFfqdiLxgAzMxH2XHacgicWq\""
      ],
      "execution_count": null,
      "outputs": []
    },
    {
      "cell_type": "code",
      "metadata": {
        "id": "d5a406No-YOt"
      },
      "source": [
        "auth = tweepy.OAuthHandler( consumer_key , consumer_secret )\n",
        "auth.set_access_token( access_token , access_token_secret )\n",
        "api = tweepy.API(auth)"
      ],
      "execution_count": null,
      "outputs": []
    },
    {
      "cell_type": "code",
      "metadata": {
        "id": "rGVEFJWb-tT_"
      },
      "source": [
        "query = \"RCB winning IPL\""
      ],
      "execution_count": null,
      "outputs": []
    },
    {
      "cell_type": "code",
      "metadata": {
        "id": "eYQcrm6y-ujH",
        "outputId": "172ed631-0c45-4de6-f3e5-4d637dc02b9c",
        "colab": {
          "base_uri": "https://localhost:8080/"
        }
      },
      "source": [
        "Tweets = api.search( query , count=10 , lang='en' , exclude='retweets' , tweet_mode='extended' )\n",
        "# tweet_mode='extended'\n",
        "# tweet_mode='compat'\n",
        "\n",
        "for tweet in Tweets:\n",
        "    print(tweet,\"\\n\")\n",
        "    print(\".....................................\\n\")"
      ],
      "execution_count": null,
      "outputs": [
        {
          "output_type": "stream",
          "text": [
            "Status(_api=<tweepy.api.API object at 0x7f6fe7a7ea20>, _json={'created_at': 'Mon Nov 02 21:21:54 +0000 2020', 'id': 1323374803684749313, 'id_str': '1323374803684749313', 'full_text': '#RCB please release #ABD, he deserves to be a part of IPL winning team. \\n#RCBvsDC \\n#iplseason13', 'truncated': False, 'display_text_range': [0, 95], 'entities': {'hashtags': [{'text': 'RCB', 'indices': [0, 4]}, {'text': 'ABD', 'indices': [20, 24]}, {'text': 'RCBvsDC', 'indices': [73, 81]}, {'text': 'iplseason13', 'indices': [83, 95]}], 'symbols': [], 'user_mentions': [], 'urls': []}, 'metadata': {'iso_language_code': 'en', 'result_type': 'recent'}, 'source': '<a href=\"https://mobile.twitter.com\" rel=\"nofollow\">Twitter Web App</a>', 'in_reply_to_status_id': None, 'in_reply_to_status_id_str': None, 'in_reply_to_user_id': None, 'in_reply_to_user_id_str': None, 'in_reply_to_screen_name': None, 'user': {'id': 1313338901696704517, 'id_str': '1313338901696704517', 'name': 'Rohit yadav', 'screen_name': 'Rohitya47625372', 'location': '', 'description': 'Live each day as if it is the last day of your life', 'url': None, 'entities': {'description': {'urls': []}}, 'protected': False, 'followers_count': 4, 'friends_count': 0, 'listed_count': 0, 'created_at': 'Tue Oct 06 04:42:58 +0000 2020', 'favourites_count': 101, 'utc_offset': None, 'time_zone': None, 'geo_enabled': False, 'verified': False, 'statuses_count': 57, 'lang': None, 'contributors_enabled': False, 'is_translator': False, 'is_translation_enabled': False, 'profile_background_color': 'F5F8FA', 'profile_background_image_url': None, 'profile_background_image_url_https': None, 'profile_background_tile': False, 'profile_image_url': 'http://pbs.twimg.com/profile_images/1313339039882199042/S7PGGthx_normal.jpg', 'profile_image_url_https': 'https://pbs.twimg.com/profile_images/1313339039882199042/S7PGGthx_normal.jpg', 'profile_link_color': '1DA1F2', 'profile_sidebar_border_color': 'C0DEED', 'profile_sidebar_fill_color': 'DDEEF6', 'profile_text_color': '333333', 'profile_use_background_image': True, 'has_extended_profile': True, 'default_profile': True, 'default_profile_image': False, 'following': False, 'follow_request_sent': False, 'notifications': False, 'translator_type': 'none'}, 'geo': None, 'coordinates': None, 'place': None, 'contributors': None, 'is_quote_status': False, 'retweet_count': 0, 'favorite_count': 0, 'favorited': False, 'retweeted': False, 'lang': 'en'}, created_at=datetime.datetime(2020, 11, 2, 21, 21, 54), id=1323374803684749313, id_str='1323374803684749313', full_text='#RCB please release #ABD, he deserves to be a part of IPL winning team. \\n#RCBvsDC \\n#iplseason13', truncated=False, display_text_range=[0, 95], entities={'hashtags': [{'text': 'RCB', 'indices': [0, 4]}, {'text': 'ABD', 'indices': [20, 24]}, {'text': 'RCBvsDC', 'indices': [73, 81]}, {'text': 'iplseason13', 'indices': [83, 95]}], 'symbols': [], 'user_mentions': [], 'urls': []}, metadata={'iso_language_code': 'en', 'result_type': 'recent'}, source='Twitter Web App', source_url='https://mobile.twitter.com', in_reply_to_status_id=None, in_reply_to_status_id_str=None, in_reply_to_user_id=None, in_reply_to_user_id_str=None, in_reply_to_screen_name=None, author=User(_api=<tweepy.api.API object at 0x7f6fe7a7ea20>, _json={'id': 1313338901696704517, 'id_str': '1313338901696704517', 'name': 'Rohit yadav', 'screen_name': 'Rohitya47625372', 'location': '', 'description': 'Live each day as if it is the last day of your life', 'url': None, 'entities': {'description': {'urls': []}}, 'protected': False, 'followers_count': 4, 'friends_count': 0, 'listed_count': 0, 'created_at': 'Tue Oct 06 04:42:58 +0000 2020', 'favourites_count': 101, 'utc_offset': None, 'time_zone': None, 'geo_enabled': False, 'verified': False, 'statuses_count': 57, 'lang': None, 'contributors_enabled': False, 'is_translator': False, 'is_translation_enabled': False, 'profile_background_color': 'F5F8FA', 'profile_background_image_url': None, 'profile_background_image_url_https': None, 'profile_background_tile': False, 'profile_image_url': 'http://pbs.twimg.com/profile_images/1313339039882199042/S7PGGthx_normal.jpg', 'profile_image_url_https': 'https://pbs.twimg.com/profile_images/1313339039882199042/S7PGGthx_normal.jpg', 'profile_link_color': '1DA1F2', 'profile_sidebar_border_color': 'C0DEED', 'profile_sidebar_fill_color': 'DDEEF6', 'profile_text_color': '333333', 'profile_use_background_image': True, 'has_extended_profile': True, 'default_profile': True, 'default_profile_image': False, 'following': False, 'follow_request_sent': False, 'notifications': False, 'translator_type': 'none'}, id=1313338901696704517, id_str='1313338901696704517', name='Rohit yadav', screen_name='Rohitya47625372', location='', description='Live each day as if it is the last day of your life', url=None, entities={'description': {'urls': []}}, protected=False, followers_count=4, friends_count=0, listed_count=0, created_at=datetime.datetime(2020, 10, 6, 4, 42, 58), favourites_count=101, utc_offset=None, time_zone=None, geo_enabled=False, verified=False, statuses_count=57, lang=None, contributors_enabled=False, is_translator=False, is_translation_enabled=False, profile_background_color='F5F8FA', profile_background_image_url=None, profile_background_image_url_https=None, profile_background_tile=False, profile_image_url='http://pbs.twimg.com/profile_images/1313339039882199042/S7PGGthx_normal.jpg', profile_image_url_https='https://pbs.twimg.com/profile_images/1313339039882199042/S7PGGthx_normal.jpg', profile_link_color='1DA1F2', profile_sidebar_border_color='C0DEED', profile_sidebar_fill_color='DDEEF6', profile_text_color='333333', profile_use_background_image=True, has_extended_profile=True, default_profile=True, default_profile_image=False, following=False, follow_request_sent=False, notifications=False, translator_type='none'), user=User(_api=<tweepy.api.API object at 0x7f6fe7a7ea20>, _json={'id': 1313338901696704517, 'id_str': '1313338901696704517', 'name': 'Rohit yadav', 'screen_name': 'Rohitya47625372', 'location': '', 'description': 'Live each day as if it is the last day of your life', 'url': None, 'entities': {'description': {'urls': []}}, 'protected': False, 'followers_count': 4, 'friends_count': 0, 'listed_count': 0, 'created_at': 'Tue Oct 06 04:42:58 +0000 2020', 'favourites_count': 101, 'utc_offset': None, 'time_zone': None, 'geo_enabled': False, 'verified': False, 'statuses_count': 57, 'lang': None, 'contributors_enabled': False, 'is_translator': False, 'is_translation_enabled': False, 'profile_background_color': 'F5F8FA', 'profile_background_image_url': None, 'profile_background_image_url_https': None, 'profile_background_tile': False, 'profile_image_url': 'http://pbs.twimg.com/profile_images/1313339039882199042/S7PGGthx_normal.jpg', 'profile_image_url_https': 'https://pbs.twimg.com/profile_images/1313339039882199042/S7PGGthx_normal.jpg', 'profile_link_color': '1DA1F2', 'profile_sidebar_border_color': 'C0DEED', 'profile_sidebar_fill_color': 'DDEEF6', 'profile_text_color': '333333', 'profile_use_background_image': True, 'has_extended_profile': True, 'default_profile': True, 'default_profile_image': False, 'following': False, 'follow_request_sent': False, 'notifications': False, 'translator_type': 'none'}, id=1313338901696704517, id_str='1313338901696704517', name='Rohit yadav', screen_name='Rohitya47625372', location='', description='Live each day as if it is the last day of your life', url=None, entities={'description': {'urls': []}}, protected=False, followers_count=4, friends_count=0, listed_count=0, created_at=datetime.datetime(2020, 10, 6, 4, 42, 58), favourites_count=101, utc_offset=None, time_zone=None, geo_enabled=False, verified=False, statuses_count=57, lang=None, contributors_enabled=False, is_translator=False, is_translation_enabled=False, profile_background_color='F5F8FA', profile_background_image_url=None, profile_background_image_url_https=None, profile_background_tile=False, profile_image_url='http://pbs.twimg.com/profile_images/1313339039882199042/S7PGGthx_normal.jpg', profile_image_url_https='https://pbs.twimg.com/profile_images/1313339039882199042/S7PGGthx_normal.jpg', profile_link_color='1DA1F2', profile_sidebar_border_color='C0DEED', profile_sidebar_fill_color='DDEEF6', profile_text_color='333333', profile_use_background_image=True, has_extended_profile=True, default_profile=True, default_profile_image=False, following=False, follow_request_sent=False, notifications=False, translator_type='none'), geo=None, coordinates=None, place=None, contributors=None, is_quote_status=False, retweet_count=0, favorite_count=0, favorited=False, retweeted=False, lang='en') \n",
            "\n",
            ".....................................\n",
            "\n",
            "Status(_api=<tweepy.api.API object at 0x7f6fe7a7ea20>, _json={'created_at': 'Mon Nov 02 20:29:44 +0000 2020', 'id': 1323361672367644679, 'id_str': '1323361672367644679', 'full_text': \"@Underta54955802 @AbdPakku @Viratkohli18f_c @IPL Really? That's why his winning % is more than any other Indian captain? Tbh Virat Kohli should be credited to single handedly carrying RCB to finals during 2016 IPL and he is the highest run scorer in entire IPL. Give him a team like MI he will win every trophy #DCvRCB #IPL2020\", 'truncated': False, 'display_text_range': [49, 327], 'entities': {'hashtags': [{'text': 'DCvRCB', 'indices': [311, 318]}, {'text': 'IPL2020', 'indices': [319, 327]}], 'symbols': [], 'user_mentions': [{'screen_name': 'Underta54955802', 'name': 'Undertaker', 'id': 1312081537307795457, 'id_str': '1312081537307795457', 'indices': [0, 16]}, {'screen_name': 'AbdPakku', 'name': 'Pakku\\U0001f970Abd', 'id': 1321159288748793856, 'id_str': '1321159288748793856', 'indices': [17, 26]}, {'screen_name': 'Viratkohli18f_c', 'name': 'Virat Kohli', 'id': 914852856410161152, 'id_str': '914852856410161152', 'indices': [27, 43]}, {'screen_name': 'IPL', 'name': 'IndianPremierLeague', 'id': 15639696, 'id_str': '15639696', 'indices': [44, 48]}], 'urls': []}, 'metadata': {'iso_language_code': 'en', 'result_type': 'recent'}, 'source': '<a href=\"https://mobile.twitter.com\" rel=\"nofollow\">Twitter Web App</a>', 'in_reply_to_status_id': 1323324098089349123, 'in_reply_to_status_id_str': '1323324098089349123', 'in_reply_to_user_id': 1312081537307795457, 'in_reply_to_user_id_str': '1312081537307795457', 'in_reply_to_screen_name': 'Underta54955802', 'user': {'id': 1321563916917448707, 'id_str': '1321563916917448707', 'name': 'ssngage', 'screen_name': 'ssngage', 'location': '', 'description': '24. Indian. RCB. Liverpool.\\n\\nEat. Sleep. Conquer. Repeat.', 'url': None, 'entities': {'description': {'urls': []}}, 'protected': False, 'followers_count': 0, 'friends_count': 17, 'listed_count': 0, 'created_at': 'Wed Oct 28 21:26:33 +0000 2020', 'favourites_count': 97, 'utc_offset': None, 'time_zone': None, 'geo_enabled': False, 'verified': False, 'statuses_count': 175, 'lang': None, 'contributors_enabled': False, 'is_translator': False, 'is_translation_enabled': False, 'profile_background_color': 'F5F8FA', 'profile_background_image_url': None, 'profile_background_image_url_https': None, 'profile_background_tile': False, 'profile_image_url': 'http://abs.twimg.com/sticky/default_profile_images/default_profile_normal.png', 'profile_image_url_https': 'https://abs.twimg.com/sticky/default_profile_images/default_profile_normal.png', 'profile_link_color': '1DA1F2', 'profile_sidebar_border_color': 'C0DEED', 'profile_sidebar_fill_color': 'DDEEF6', 'profile_text_color': '333333', 'profile_use_background_image': True, 'has_extended_profile': True, 'default_profile': True, 'default_profile_image': True, 'following': False, 'follow_request_sent': False, 'notifications': False, 'translator_type': 'none'}, 'geo': None, 'coordinates': None, 'place': None, 'contributors': None, 'is_quote_status': False, 'retweet_count': 0, 'favorite_count': 1, 'favorited': False, 'retweeted': False, 'lang': 'en'}, created_at=datetime.datetime(2020, 11, 2, 20, 29, 44), id=1323361672367644679, id_str='1323361672367644679', full_text=\"@Underta54955802 @AbdPakku @Viratkohli18f_c @IPL Really? That's why his winning % is more than any other Indian captain? Tbh Virat Kohli should be credited to single handedly carrying RCB to finals during 2016 IPL and he is the highest run scorer in entire IPL. Give him a team like MI he will win every trophy #DCvRCB #IPL2020\", truncated=False, display_text_range=[49, 327], entities={'hashtags': [{'text': 'DCvRCB', 'indices': [311, 318]}, {'text': 'IPL2020', 'indices': [319, 327]}], 'symbols': [], 'user_mentions': [{'screen_name': 'Underta54955802', 'name': 'Undertaker', 'id': 1312081537307795457, 'id_str': '1312081537307795457', 'indices': [0, 16]}, {'screen_name': 'AbdPakku', 'name': 'Pakku\\U0001f970Abd', 'id': 1321159288748793856, 'id_str': '1321159288748793856', 'indices': [17, 26]}, {'screen_name': 'Viratkohli18f_c', 'name': 'Virat Kohli', 'id': 914852856410161152, 'id_str': '914852856410161152', 'indices': [27, 43]}, {'screen_name': 'IPL', 'name': 'IndianPremierLeague', 'id': 15639696, 'id_str': '15639696', 'indices': [44, 48]}], 'urls': []}, metadata={'iso_language_code': 'en', 'result_type': 'recent'}, source='Twitter Web App', source_url='https://mobile.twitter.com', in_reply_to_status_id=1323324098089349123, in_reply_to_status_id_str='1323324098089349123', in_reply_to_user_id=1312081537307795457, in_reply_to_user_id_str='1312081537307795457', in_reply_to_screen_name='Underta54955802', author=User(_api=<tweepy.api.API object at 0x7f6fe7a7ea20>, _json={'id': 1321563916917448707, 'id_str': '1321563916917448707', 'name': 'ssngage', 'screen_name': 'ssngage', 'location': '', 'description': '24. Indian. RCB. Liverpool.\\n\\nEat. Sleep. Conquer. Repeat.', 'url': None, 'entities': {'description': {'urls': []}}, 'protected': False, 'followers_count': 0, 'friends_count': 17, 'listed_count': 0, 'created_at': 'Wed Oct 28 21:26:33 +0000 2020', 'favourites_count': 97, 'utc_offset': None, 'time_zone': None, 'geo_enabled': False, 'verified': False, 'statuses_count': 175, 'lang': None, 'contributors_enabled': False, 'is_translator': False, 'is_translation_enabled': False, 'profile_background_color': 'F5F8FA', 'profile_background_image_url': None, 'profile_background_image_url_https': None, 'profile_background_tile': False, 'profile_image_url': 'http://abs.twimg.com/sticky/default_profile_images/default_profile_normal.png', 'profile_image_url_https': 'https://abs.twimg.com/sticky/default_profile_images/default_profile_normal.png', 'profile_link_color': '1DA1F2', 'profile_sidebar_border_color': 'C0DEED', 'profile_sidebar_fill_color': 'DDEEF6', 'profile_text_color': '333333', 'profile_use_background_image': True, 'has_extended_profile': True, 'default_profile': True, 'default_profile_image': True, 'following': False, 'follow_request_sent': False, 'notifications': False, 'translator_type': 'none'}, id=1321563916917448707, id_str='1321563916917448707', name='ssngage', screen_name='ssngage', location='', description='24. Indian. RCB. Liverpool.\\n\\nEat. Sleep. Conquer. Repeat.', url=None, entities={'description': {'urls': []}}, protected=False, followers_count=0, friends_count=17, listed_count=0, created_at=datetime.datetime(2020, 10, 28, 21, 26, 33), favourites_count=97, utc_offset=None, time_zone=None, geo_enabled=False, verified=False, statuses_count=175, lang=None, contributors_enabled=False, is_translator=False, is_translation_enabled=False, profile_background_color='F5F8FA', profile_background_image_url=None, profile_background_image_url_https=None, profile_background_tile=False, profile_image_url='http://abs.twimg.com/sticky/default_profile_images/default_profile_normal.png', profile_image_url_https='https://abs.twimg.com/sticky/default_profile_images/default_profile_normal.png', profile_link_color='1DA1F2', profile_sidebar_border_color='C0DEED', profile_sidebar_fill_color='DDEEF6', profile_text_color='333333', profile_use_background_image=True, has_extended_profile=True, default_profile=True, default_profile_image=True, following=False, follow_request_sent=False, notifications=False, translator_type='none'), user=User(_api=<tweepy.api.API object at 0x7f6fe7a7ea20>, _json={'id': 1321563916917448707, 'id_str': '1321563916917448707', 'name': 'ssngage', 'screen_name': 'ssngage', 'location': '', 'description': '24. Indian. RCB. Liverpool.\\n\\nEat. Sleep. Conquer. Repeat.', 'url': None, 'entities': {'description': {'urls': []}}, 'protected': False, 'followers_count': 0, 'friends_count': 17, 'listed_count': 0, 'created_at': 'Wed Oct 28 21:26:33 +0000 2020', 'favourites_count': 97, 'utc_offset': None, 'time_zone': None, 'geo_enabled': False, 'verified': False, 'statuses_count': 175, 'lang': None, 'contributors_enabled': False, 'is_translator': False, 'is_translation_enabled': False, 'profile_background_color': 'F5F8FA', 'profile_background_image_url': None, 'profile_background_image_url_https': None, 'profile_background_tile': False, 'profile_image_url': 'http://abs.twimg.com/sticky/default_profile_images/default_profile_normal.png', 'profile_image_url_https': 'https://abs.twimg.com/sticky/default_profile_images/default_profile_normal.png', 'profile_link_color': '1DA1F2', 'profile_sidebar_border_color': 'C0DEED', 'profile_sidebar_fill_color': 'DDEEF6', 'profile_text_color': '333333', 'profile_use_background_image': True, 'has_extended_profile': True, 'default_profile': True, 'default_profile_image': True, 'following': False, 'follow_request_sent': False, 'notifications': False, 'translator_type': 'none'}, id=1321563916917448707, id_str='1321563916917448707', name='ssngage', screen_name='ssngage', location='', description='24. Indian. RCB. Liverpool.\\n\\nEat. Sleep. Conquer. Repeat.', url=None, entities={'description': {'urls': []}}, protected=False, followers_count=0, friends_count=17, listed_count=0, created_at=datetime.datetime(2020, 10, 28, 21, 26, 33), favourites_count=97, utc_offset=None, time_zone=None, geo_enabled=False, verified=False, statuses_count=175, lang=None, contributors_enabled=False, is_translator=False, is_translation_enabled=False, profile_background_color='F5F8FA', profile_background_image_url=None, profile_background_image_url_https=None, profile_background_tile=False, profile_image_url='http://abs.twimg.com/sticky/default_profile_images/default_profile_normal.png', profile_image_url_https='https://abs.twimg.com/sticky/default_profile_images/default_profile_normal.png', profile_link_color='1DA1F2', profile_sidebar_border_color='C0DEED', profile_sidebar_fill_color='DDEEF6', profile_text_color='333333', profile_use_background_image=True, has_extended_profile=True, default_profile=True, default_profile_image=True, following=False, follow_request_sent=False, notifications=False, translator_type='none'), geo=None, coordinates=None, place=None, contributors=None, is_quote_status=False, retweet_count=0, favorite_count=1, favorited=False, retweeted=False, lang='en') \n",
            "\n",
            ".....................................\n",
            "\n",
            "Status(_api=<tweepy.api.API object at 0x7f6fe7a7ea20>, _json={'created_at': 'Mon Nov 02 20:13:22 +0000 2020', 'id': 1323357556635430912, 'id_str': '1323357556635430912', 'full_text': '@ThorOffl @stranger2898 Devdutta\\nMoeen\\nVirat\\nFinch\\nAbd\\nDube\\nMorris\\nSundar\\nSaini \\nChahal \\nSiraj \\n\\nIpl winning team 👑\\nNoone can beat this team\\U0001f929\\nIntha team ah qoute pani rcb ah mention pani vidunga\\n@RCBTweets', 'truncated': False, 'display_text_range': [24, 205], 'entities': {'hashtags': [], 'symbols': [], 'user_mentions': [{'screen_name': 'ThorOffl', 'name': 'இடி மின்னல் தேவன் ⚡⚡⚡', 'id': 915497964038086656, 'id_str': '915497964038086656', 'indices': [0, 9]}, {'screen_name': 'stranger2898', 'name': 'Aravind', 'id': 3661842493, 'id_str': '3661842493', 'indices': [10, 23]}, {'screen_name': 'RCBTweets', 'name': 'Royal Challengers Bangalore', 'id': 70931004, 'id_str': '70931004', 'indices': [195, 205]}], 'urls': []}, 'metadata': {'iso_language_code': 'en', 'result_type': 'recent'}, 'source': '<a href=\"http://twitter.com/download/android\" rel=\"nofollow\">Twitter for Android</a>', 'in_reply_to_status_id': 1323357103944163328, 'in_reply_to_status_id_str': '1323357103944163328', 'in_reply_to_user_id': 915497964038086656, 'in_reply_to_user_id_str': '915497964038086656', 'in_reply_to_screen_name': 'ThorOffl', 'user': {'id': 1200054125167181824, 'id_str': '1200054125167181824', 'name': '🆆🆁🅾🅽🅶 🆃🆄🆁🅽༒', 'screen_name': 'rto7777', 'location': '', 'description': \"#Thalaajith &\\n#kingkohli addicts...\\n\\n\\nIt's not about how hard you fall. It's how quick you get back up that matters in life.\", 'url': None, 'entities': {'description': {'urls': []}}, 'protected': False, 'followers_count': 178, 'friends_count': 252, 'listed_count': 0, 'created_at': 'Thu Nov 28 14:09:45 +0000 2019', 'favourites_count': 13101, 'utc_offset': None, 'time_zone': None, 'geo_enabled': False, 'verified': False, 'statuses_count': 14476, 'lang': None, 'contributors_enabled': False, 'is_translator': False, 'is_translation_enabled': False, 'profile_background_color': 'F5F8FA', 'profile_background_image_url': None, 'profile_background_image_url_https': None, 'profile_background_tile': False, 'profile_image_url': 'http://pbs.twimg.com/profile_images/1295754025317539840/-65opgLR_normal.jpg', 'profile_image_url_https': 'https://pbs.twimg.com/profile_images/1295754025317539840/-65opgLR_normal.jpg', 'profile_banner_url': 'https://pbs.twimg.com/profile_banners/1200054125167181824/1592045439', 'profile_link_color': '1DA1F2', 'profile_sidebar_border_color': 'C0DEED', 'profile_sidebar_fill_color': 'DDEEF6', 'profile_text_color': '333333', 'profile_use_background_image': True, 'has_extended_profile': False, 'default_profile': True, 'default_profile_image': False, 'following': False, 'follow_request_sent': False, 'notifications': False, 'translator_type': 'none'}, 'geo': None, 'coordinates': None, 'place': None, 'contributors': None, 'is_quote_status': False, 'retweet_count': 0, 'favorite_count': 2, 'favorited': False, 'retweeted': False, 'lang': 'en'}, created_at=datetime.datetime(2020, 11, 2, 20, 13, 22), id=1323357556635430912, id_str='1323357556635430912', full_text='@ThorOffl @stranger2898 Devdutta\\nMoeen\\nVirat\\nFinch\\nAbd\\nDube\\nMorris\\nSundar\\nSaini \\nChahal \\nSiraj \\n\\nIpl winning team 👑\\nNoone can beat this team\\U0001f929\\nIntha team ah qoute pani rcb ah mention pani vidunga\\n@RCBTweets', truncated=False, display_text_range=[24, 205], entities={'hashtags': [], 'symbols': [], 'user_mentions': [{'screen_name': 'ThorOffl', 'name': 'இடி மின்னல் தேவன் ⚡⚡⚡', 'id': 915497964038086656, 'id_str': '915497964038086656', 'indices': [0, 9]}, {'screen_name': 'stranger2898', 'name': 'Aravind', 'id': 3661842493, 'id_str': '3661842493', 'indices': [10, 23]}, {'screen_name': 'RCBTweets', 'name': 'Royal Challengers Bangalore', 'id': 70931004, 'id_str': '70931004', 'indices': [195, 205]}], 'urls': []}, metadata={'iso_language_code': 'en', 'result_type': 'recent'}, source='Twitter for Android', source_url='http://twitter.com/download/android', in_reply_to_status_id=1323357103944163328, in_reply_to_status_id_str='1323357103944163328', in_reply_to_user_id=915497964038086656, in_reply_to_user_id_str='915497964038086656', in_reply_to_screen_name='ThorOffl', author=User(_api=<tweepy.api.API object at 0x7f6fe7a7ea20>, _json={'id': 1200054125167181824, 'id_str': '1200054125167181824', 'name': '🆆🆁🅾🅽🅶 🆃🆄🆁🅽༒', 'screen_name': 'rto7777', 'location': '', 'description': \"#Thalaajith &\\n#kingkohli addicts...\\n\\n\\nIt's not about how hard you fall. It's how quick you get back up that matters in life.\", 'url': None, 'entities': {'description': {'urls': []}}, 'protected': False, 'followers_count': 178, 'friends_count': 252, 'listed_count': 0, 'created_at': 'Thu Nov 28 14:09:45 +0000 2019', 'favourites_count': 13101, 'utc_offset': None, 'time_zone': None, 'geo_enabled': False, 'verified': False, 'statuses_count': 14476, 'lang': None, 'contributors_enabled': False, 'is_translator': False, 'is_translation_enabled': False, 'profile_background_color': 'F5F8FA', 'profile_background_image_url': None, 'profile_background_image_url_https': None, 'profile_background_tile': False, 'profile_image_url': 'http://pbs.twimg.com/profile_images/1295754025317539840/-65opgLR_normal.jpg', 'profile_image_url_https': 'https://pbs.twimg.com/profile_images/1295754025317539840/-65opgLR_normal.jpg', 'profile_banner_url': 'https://pbs.twimg.com/profile_banners/1200054125167181824/1592045439', 'profile_link_color': '1DA1F2', 'profile_sidebar_border_color': 'C0DEED', 'profile_sidebar_fill_color': 'DDEEF6', 'profile_text_color': '333333', 'profile_use_background_image': True, 'has_extended_profile': False, 'default_profile': True, 'default_profile_image': False, 'following': False, 'follow_request_sent': False, 'notifications': False, 'translator_type': 'none'}, id=1200054125167181824, id_str='1200054125167181824', name='🆆🆁🅾🅽🅶 🆃🆄🆁🅽༒', screen_name='rto7777', location='', description=\"#Thalaajith &\\n#kingkohli addicts...\\n\\n\\nIt's not about how hard you fall. It's how quick you get back up that matters in life.\", url=None, entities={'description': {'urls': []}}, protected=False, followers_count=178, friends_count=252, listed_count=0, created_at=datetime.datetime(2019, 11, 28, 14, 9, 45), favourites_count=13101, utc_offset=None, time_zone=None, geo_enabled=False, verified=False, statuses_count=14476, lang=None, contributors_enabled=False, is_translator=False, is_translation_enabled=False, profile_background_color='F5F8FA', profile_background_image_url=None, profile_background_image_url_https=None, profile_background_tile=False, profile_image_url='http://pbs.twimg.com/profile_images/1295754025317539840/-65opgLR_normal.jpg', profile_image_url_https='https://pbs.twimg.com/profile_images/1295754025317539840/-65opgLR_normal.jpg', profile_banner_url='https://pbs.twimg.com/profile_banners/1200054125167181824/1592045439', profile_link_color='1DA1F2', profile_sidebar_border_color='C0DEED', profile_sidebar_fill_color='DDEEF6', profile_text_color='333333', profile_use_background_image=True, has_extended_profile=False, default_profile=True, default_profile_image=False, following=False, follow_request_sent=False, notifications=False, translator_type='none'), user=User(_api=<tweepy.api.API object at 0x7f6fe7a7ea20>, _json={'id': 1200054125167181824, 'id_str': '1200054125167181824', 'name': '🆆🆁🅾🅽🅶 🆃🆄🆁🅽༒', 'screen_name': 'rto7777', 'location': '', 'description': \"#Thalaajith &\\n#kingkohli addicts...\\n\\n\\nIt's not about how hard you fall. It's how quick you get back up that matters in life.\", 'url': None, 'entities': {'description': {'urls': []}}, 'protected': False, 'followers_count': 178, 'friends_count': 252, 'listed_count': 0, 'created_at': 'Thu Nov 28 14:09:45 +0000 2019', 'favourites_count': 13101, 'utc_offset': None, 'time_zone': None, 'geo_enabled': False, 'verified': False, 'statuses_count': 14476, 'lang': None, 'contributors_enabled': False, 'is_translator': False, 'is_translation_enabled': False, 'profile_background_color': 'F5F8FA', 'profile_background_image_url': None, 'profile_background_image_url_https': None, 'profile_background_tile': False, 'profile_image_url': 'http://pbs.twimg.com/profile_images/1295754025317539840/-65opgLR_normal.jpg', 'profile_image_url_https': 'https://pbs.twimg.com/profile_images/1295754025317539840/-65opgLR_normal.jpg', 'profile_banner_url': 'https://pbs.twimg.com/profile_banners/1200054125167181824/1592045439', 'profile_link_color': '1DA1F2', 'profile_sidebar_border_color': 'C0DEED', 'profile_sidebar_fill_color': 'DDEEF6', 'profile_text_color': '333333', 'profile_use_background_image': True, 'has_extended_profile': False, 'default_profile': True, 'default_profile_image': False, 'following': False, 'follow_request_sent': False, 'notifications': False, 'translator_type': 'none'}, id=1200054125167181824, id_str='1200054125167181824', name='🆆🆁🅾🅽🅶 🆃🆄🆁🅽༒', screen_name='rto7777', location='', description=\"#Thalaajith &\\n#kingkohli addicts...\\n\\n\\nIt's not about how hard you fall. It's how quick you get back up that matters in life.\", url=None, entities={'description': {'urls': []}}, protected=False, followers_count=178, friends_count=252, listed_count=0, created_at=datetime.datetime(2019, 11, 28, 14, 9, 45), favourites_count=13101, utc_offset=None, time_zone=None, geo_enabled=False, verified=False, statuses_count=14476, lang=None, contributors_enabled=False, is_translator=False, is_translation_enabled=False, profile_background_color='F5F8FA', profile_background_image_url=None, profile_background_image_url_https=None, profile_background_tile=False, profile_image_url='http://pbs.twimg.com/profile_images/1295754025317539840/-65opgLR_normal.jpg', profile_image_url_https='https://pbs.twimg.com/profile_images/1295754025317539840/-65opgLR_normal.jpg', profile_banner_url='https://pbs.twimg.com/profile_banners/1200054125167181824/1592045439', profile_link_color='1DA1F2', profile_sidebar_border_color='C0DEED', profile_sidebar_fill_color='DDEEF6', profile_text_color='333333', profile_use_background_image=True, has_extended_profile=False, default_profile=True, default_profile_image=False, following=False, follow_request_sent=False, notifications=False, translator_type='none'), geo=None, coordinates=None, place=None, contributors=None, is_quote_status=False, retweet_count=0, favorite_count=2, favorited=False, retweeted=False, lang='en') \n",
            "\n",
            ".....................................\n",
            "\n",
            "Status(_api=<tweepy.api.API object at 0x7f6fe7a7ea20>, _json={'created_at': 'Mon Nov 02 19:08:40 +0000 2020', 'id': 1323341271247646721, 'id_str': '1323341271247646721', 'full_text': \"@imVkohli @RCBTweets We r so happy that u qualified but we didn't expect such type qualification...... Plz  @Viratkohli play like a  #kingkohli ...... Winning or losing is a part of game nd we always here to support #RCB.... We expect so much from u @kohli ... U have to win 2020 IPL, trophy🏆🏆\", 'truncated': False, 'display_text_range': [21, 293], 'entities': {'hashtags': [{'text': 'kingkohli', 'indices': [133, 143]}, {'text': 'RCB', 'indices': [216, 220]}], 'symbols': [], 'user_mentions': [{'screen_name': 'imVkohli', 'name': 'Virat Kohli', 'id': 71201743, 'id_str': '71201743', 'indices': [0, 9]}, {'screen_name': 'RCBTweets', 'name': 'Royal Challengers Bangalore', 'id': 70931004, 'id_str': '70931004', 'indices': [10, 20]}, {'screen_name': 'ViratKohli', 'name': 'Virat Kohli', 'id': 810813145124139008, 'id_str': '810813145124139008', 'indices': [108, 119]}, {'screen_name': 'kohli', 'name': 'Virat Kohli', 'id': 2691523342, 'id_str': '2691523342', 'indices': [250, 256]}], 'urls': []}, 'metadata': {'iso_language_code': 'en', 'result_type': 'recent'}, 'source': '<a href=\"http://twitter.com/download/android\" rel=\"nofollow\">Twitter for Android</a>', 'in_reply_to_status_id': 1323324655290081280, 'in_reply_to_status_id_str': '1323324655290081280', 'in_reply_to_user_id': 71201743, 'in_reply_to_user_id_str': '71201743', 'in_reply_to_screen_name': 'imVkohli', 'user': {'id': 1247514747907395584, 'id_str': '1247514747907395584', 'name': 'Shamiya Shami Iraqui', 'screen_name': 'IraquiShami', 'location': 'India', 'description': 'Be real!!! Believe in yourself coz u r the only  who can change ur life...😘😘', 'url': None, 'entities': {'description': {'urls': []}}, 'protected': False, 'followers_count': 27, 'friends_count': 27, 'listed_count': 0, 'created_at': 'Tue Apr 07 13:21:25 +0000 2020', 'favourites_count': 3661, 'utc_offset': None, 'time_zone': None, 'geo_enabled': False, 'verified': False, 'statuses_count': 194, 'lang': None, 'contributors_enabled': False, 'is_translator': False, 'is_translation_enabled': False, 'profile_background_color': 'F5F8FA', 'profile_background_image_url': None, 'profile_background_image_url_https': None, 'profile_background_tile': False, 'profile_image_url': 'http://pbs.twimg.com/profile_images/1289965451200442368/0fRKz6L6_normal.jpg', 'profile_image_url_https': 'https://pbs.twimg.com/profile_images/1289965451200442368/0fRKz6L6_normal.jpg', 'profile_banner_url': 'https://pbs.twimg.com/profile_banners/1247514747907395584/1591302580', 'profile_link_color': '1DA1F2', 'profile_sidebar_border_color': 'C0DEED', 'profile_sidebar_fill_color': 'DDEEF6', 'profile_text_color': '333333', 'profile_use_background_image': True, 'has_extended_profile': True, 'default_profile': True, 'default_profile_image': False, 'following': False, 'follow_request_sent': False, 'notifications': False, 'translator_type': 'none'}, 'geo': None, 'coordinates': None, 'place': None, 'contributors': None, 'is_quote_status': False, 'retweet_count': 0, 'favorite_count': 0, 'favorited': False, 'retweeted': False, 'lang': 'en'}, created_at=datetime.datetime(2020, 11, 2, 19, 8, 40), id=1323341271247646721, id_str='1323341271247646721', full_text=\"@imVkohli @RCBTweets We r so happy that u qualified but we didn't expect such type qualification...... Plz  @Viratkohli play like a  #kingkohli ...... Winning or losing is a part of game nd we always here to support #RCB.... We expect so much from u @kohli ... U have to win 2020 IPL, trophy🏆🏆\", truncated=False, display_text_range=[21, 293], entities={'hashtags': [{'text': 'kingkohli', 'indices': [133, 143]}, {'text': 'RCB', 'indices': [216, 220]}], 'symbols': [], 'user_mentions': [{'screen_name': 'imVkohli', 'name': 'Virat Kohli', 'id': 71201743, 'id_str': '71201743', 'indices': [0, 9]}, {'screen_name': 'RCBTweets', 'name': 'Royal Challengers Bangalore', 'id': 70931004, 'id_str': '70931004', 'indices': [10, 20]}, {'screen_name': 'ViratKohli', 'name': 'Virat Kohli', 'id': 810813145124139008, 'id_str': '810813145124139008', 'indices': [108, 119]}, {'screen_name': 'kohli', 'name': 'Virat Kohli', 'id': 2691523342, 'id_str': '2691523342', 'indices': [250, 256]}], 'urls': []}, metadata={'iso_language_code': 'en', 'result_type': 'recent'}, source='Twitter for Android', source_url='http://twitter.com/download/android', in_reply_to_status_id=1323324655290081280, in_reply_to_status_id_str='1323324655290081280', in_reply_to_user_id=71201743, in_reply_to_user_id_str='71201743', in_reply_to_screen_name='imVkohli', author=User(_api=<tweepy.api.API object at 0x7f6fe7a7ea20>, _json={'id': 1247514747907395584, 'id_str': '1247514747907395584', 'name': 'Shamiya Shami Iraqui', 'screen_name': 'IraquiShami', 'location': 'India', 'description': 'Be real!!! Believe in yourself coz u r the only  who can change ur life...😘😘', 'url': None, 'entities': {'description': {'urls': []}}, 'protected': False, 'followers_count': 27, 'friends_count': 27, 'listed_count': 0, 'created_at': 'Tue Apr 07 13:21:25 +0000 2020', 'favourites_count': 3661, 'utc_offset': None, 'time_zone': None, 'geo_enabled': False, 'verified': False, 'statuses_count': 194, 'lang': None, 'contributors_enabled': False, 'is_translator': False, 'is_translation_enabled': False, 'profile_background_color': 'F5F8FA', 'profile_background_image_url': None, 'profile_background_image_url_https': None, 'profile_background_tile': False, 'profile_image_url': 'http://pbs.twimg.com/profile_images/1289965451200442368/0fRKz6L6_normal.jpg', 'profile_image_url_https': 'https://pbs.twimg.com/profile_images/1289965451200442368/0fRKz6L6_normal.jpg', 'profile_banner_url': 'https://pbs.twimg.com/profile_banners/1247514747907395584/1591302580', 'profile_link_color': '1DA1F2', 'profile_sidebar_border_color': 'C0DEED', 'profile_sidebar_fill_color': 'DDEEF6', 'profile_text_color': '333333', 'profile_use_background_image': True, 'has_extended_profile': True, 'default_profile': True, 'default_profile_image': False, 'following': False, 'follow_request_sent': False, 'notifications': False, 'translator_type': 'none'}, id=1247514747907395584, id_str='1247514747907395584', name='Shamiya Shami Iraqui', screen_name='IraquiShami', location='India', description='Be real!!! Believe in yourself coz u r the only  who can change ur life...😘😘', url=None, entities={'description': {'urls': []}}, protected=False, followers_count=27, friends_count=27, listed_count=0, created_at=datetime.datetime(2020, 4, 7, 13, 21, 25), favourites_count=3661, utc_offset=None, time_zone=None, geo_enabled=False, verified=False, statuses_count=194, lang=None, contributors_enabled=False, is_translator=False, is_translation_enabled=False, profile_background_color='F5F8FA', profile_background_image_url=None, profile_background_image_url_https=None, profile_background_tile=False, profile_image_url='http://pbs.twimg.com/profile_images/1289965451200442368/0fRKz6L6_normal.jpg', profile_image_url_https='https://pbs.twimg.com/profile_images/1289965451200442368/0fRKz6L6_normal.jpg', profile_banner_url='https://pbs.twimg.com/profile_banners/1247514747907395584/1591302580', profile_link_color='1DA1F2', profile_sidebar_border_color='C0DEED', profile_sidebar_fill_color='DDEEF6', profile_text_color='333333', profile_use_background_image=True, has_extended_profile=True, default_profile=True, default_profile_image=False, following=False, follow_request_sent=False, notifications=False, translator_type='none'), user=User(_api=<tweepy.api.API object at 0x7f6fe7a7ea20>, _json={'id': 1247514747907395584, 'id_str': '1247514747907395584', 'name': 'Shamiya Shami Iraqui', 'screen_name': 'IraquiShami', 'location': 'India', 'description': 'Be real!!! Believe in yourself coz u r the only  who can change ur life...😘😘', 'url': None, 'entities': {'description': {'urls': []}}, 'protected': False, 'followers_count': 27, 'friends_count': 27, 'listed_count': 0, 'created_at': 'Tue Apr 07 13:21:25 +0000 2020', 'favourites_count': 3661, 'utc_offset': None, 'time_zone': None, 'geo_enabled': False, 'verified': False, 'statuses_count': 194, 'lang': None, 'contributors_enabled': False, 'is_translator': False, 'is_translation_enabled': False, 'profile_background_color': 'F5F8FA', 'profile_background_image_url': None, 'profile_background_image_url_https': None, 'profile_background_tile': False, 'profile_image_url': 'http://pbs.twimg.com/profile_images/1289965451200442368/0fRKz6L6_normal.jpg', 'profile_image_url_https': 'https://pbs.twimg.com/profile_images/1289965451200442368/0fRKz6L6_normal.jpg', 'profile_banner_url': 'https://pbs.twimg.com/profile_banners/1247514747907395584/1591302580', 'profile_link_color': '1DA1F2', 'profile_sidebar_border_color': 'C0DEED', 'profile_sidebar_fill_color': 'DDEEF6', 'profile_text_color': '333333', 'profile_use_background_image': True, 'has_extended_profile': True, 'default_profile': True, 'default_profile_image': False, 'following': False, 'follow_request_sent': False, 'notifications': False, 'translator_type': 'none'}, id=1247514747907395584, id_str='1247514747907395584', name='Shamiya Shami Iraqui', screen_name='IraquiShami', location='India', description='Be real!!! Believe in yourself coz u r the only  who can change ur life...😘😘', url=None, entities={'description': {'urls': []}}, protected=False, followers_count=27, friends_count=27, listed_count=0, created_at=datetime.datetime(2020, 4, 7, 13, 21, 25), favourites_count=3661, utc_offset=None, time_zone=None, geo_enabled=False, verified=False, statuses_count=194, lang=None, contributors_enabled=False, is_translator=False, is_translation_enabled=False, profile_background_color='F5F8FA', profile_background_image_url=None, profile_background_image_url_https=None, profile_background_tile=False, profile_image_url='http://pbs.twimg.com/profile_images/1289965451200442368/0fRKz6L6_normal.jpg', profile_image_url_https='https://pbs.twimg.com/profile_images/1289965451200442368/0fRKz6L6_normal.jpg', profile_banner_url='https://pbs.twimg.com/profile_banners/1247514747907395584/1591302580', profile_link_color='1DA1F2', profile_sidebar_border_color='C0DEED', profile_sidebar_fill_color='DDEEF6', profile_text_color='333333', profile_use_background_image=True, has_extended_profile=True, default_profile=True, default_profile_image=False, following=False, follow_request_sent=False, notifications=False, translator_type='none'), geo=None, coordinates=None, place=None, contributors=None, is_quote_status=False, retweet_count=0, favorite_count=0, favorited=False, retweeted=False, lang='en') \n",
            "\n",
            ".....................................\n",
            "\n",
            "Status(_api=<tweepy.api.API object at 0x7f6fe7a7ea20>, _json={'created_at': 'Mon Nov 02 19:01:40 +0000 2020', 'id': 1323339511766552577, 'id_str': '1323339511766552577', 'full_text': \"I don't have much to live. My last wish is to see @imVkohli lift that @IPL trophy. I'm going to die of natural causes. But I want too see Kohli as the IPL winning captain before I go @RCBTweets #RCBvsDC #RCB #MIvsRCB #MIvSRH #IPL2020 #ipl\", 'truncated': False, 'display_text_range': [0, 238], 'entities': {'hashtags': [{'text': 'RCBvsDC', 'indices': [194, 202]}, {'text': 'RCB', 'indices': [203, 207]}, {'text': 'MIvsRCB', 'indices': [208, 216]}, {'text': 'MIvSRH', 'indices': [217, 224]}, {'text': 'IPL2020', 'indices': [225, 233]}, {'text': 'ipl', 'indices': [234, 238]}], 'symbols': [], 'user_mentions': [{'screen_name': 'imVkohli', 'name': 'Virat Kohli', 'id': 71201743, 'id_str': '71201743', 'indices': [50, 59]}, {'screen_name': 'IPL', 'name': 'IndianPremierLeague', 'id': 15639696, 'id_str': '15639696', 'indices': [70, 74]}, {'screen_name': 'RCBTweets', 'name': 'Royal Challengers Bangalore', 'id': 70931004, 'id_str': '70931004', 'indices': [183, 193]}], 'urls': []}, 'metadata': {'iso_language_code': 'en', 'result_type': 'recent'}, 'source': '<a href=\"http://twitter.com/download/android\" rel=\"nofollow\">Twitter for Android</a>', 'in_reply_to_status_id': None, 'in_reply_to_status_id_str': None, 'in_reply_to_user_id': None, 'in_reply_to_user_id_str': None, 'in_reply_to_screen_name': None, 'user': {'id': 1195376912564047877, 'id_str': '1195376912564047877', 'name': 'Mufaddal Johns', 'screen_name': 'LordRelator', 'location': '', 'description': '', 'url': None, 'entities': {'description': {'urls': []}}, 'protected': False, 'followers_count': 3, 'friends_count': 93, 'listed_count': 0, 'created_at': 'Fri Nov 15 16:24:10 +0000 2019', 'favourites_count': 27, 'utc_offset': None, 'time_zone': None, 'geo_enabled': False, 'verified': False, 'statuses_count': 48, 'lang': None, 'contributors_enabled': False, 'is_translator': False, 'is_translation_enabled': False, 'profile_background_color': 'F5F8FA', 'profile_background_image_url': None, 'profile_background_image_url_https': None, 'profile_background_tile': False, 'profile_image_url': 'http://pbs.twimg.com/profile_images/1321530161288810497/c_FpcqfS_normal.jpg', 'profile_image_url_https': 'https://pbs.twimg.com/profile_images/1321530161288810497/c_FpcqfS_normal.jpg', 'profile_link_color': '1DA1F2', 'profile_sidebar_border_color': 'C0DEED', 'profile_sidebar_fill_color': 'DDEEF6', 'profile_text_color': '333333', 'profile_use_background_image': True, 'has_extended_profile': False, 'default_profile': True, 'default_profile_image': False, 'following': False, 'follow_request_sent': False, 'notifications': False, 'translator_type': 'none'}, 'geo': None, 'coordinates': None, 'place': None, 'contributors': None, 'is_quote_status': False, 'retweet_count': 0, 'favorite_count': 0, 'favorited': False, 'retweeted': False, 'lang': 'en'}, created_at=datetime.datetime(2020, 11, 2, 19, 1, 40), id=1323339511766552577, id_str='1323339511766552577', full_text=\"I don't have much to live. My last wish is to see @imVkohli lift that @IPL trophy. I'm going to die of natural causes. But I want too see Kohli as the IPL winning captain before I go @RCBTweets #RCBvsDC #RCB #MIvsRCB #MIvSRH #IPL2020 #ipl\", truncated=False, display_text_range=[0, 238], entities={'hashtags': [{'text': 'RCBvsDC', 'indices': [194, 202]}, {'text': 'RCB', 'indices': [203, 207]}, {'text': 'MIvsRCB', 'indices': [208, 216]}, {'text': 'MIvSRH', 'indices': [217, 224]}, {'text': 'IPL2020', 'indices': [225, 233]}, {'text': 'ipl', 'indices': [234, 238]}], 'symbols': [], 'user_mentions': [{'screen_name': 'imVkohli', 'name': 'Virat Kohli', 'id': 71201743, 'id_str': '71201743', 'indices': [50, 59]}, {'screen_name': 'IPL', 'name': 'IndianPremierLeague', 'id': 15639696, 'id_str': '15639696', 'indices': [70, 74]}, {'screen_name': 'RCBTweets', 'name': 'Royal Challengers Bangalore', 'id': 70931004, 'id_str': '70931004', 'indices': [183, 193]}], 'urls': []}, metadata={'iso_language_code': 'en', 'result_type': 'recent'}, source='Twitter for Android', source_url='http://twitter.com/download/android', in_reply_to_status_id=None, in_reply_to_status_id_str=None, in_reply_to_user_id=None, in_reply_to_user_id_str=None, in_reply_to_screen_name=None, author=User(_api=<tweepy.api.API object at 0x7f6fe7a7ea20>, _json={'id': 1195376912564047877, 'id_str': '1195376912564047877', 'name': 'Mufaddal Johns', 'screen_name': 'LordRelator', 'location': '', 'description': '', 'url': None, 'entities': {'description': {'urls': []}}, 'protected': False, 'followers_count': 3, 'friends_count': 93, 'listed_count': 0, 'created_at': 'Fri Nov 15 16:24:10 +0000 2019', 'favourites_count': 27, 'utc_offset': None, 'time_zone': None, 'geo_enabled': False, 'verified': False, 'statuses_count': 48, 'lang': None, 'contributors_enabled': False, 'is_translator': False, 'is_translation_enabled': False, 'profile_background_color': 'F5F8FA', 'profile_background_image_url': None, 'profile_background_image_url_https': None, 'profile_background_tile': False, 'profile_image_url': 'http://pbs.twimg.com/profile_images/1321530161288810497/c_FpcqfS_normal.jpg', 'profile_image_url_https': 'https://pbs.twimg.com/profile_images/1321530161288810497/c_FpcqfS_normal.jpg', 'profile_link_color': '1DA1F2', 'profile_sidebar_border_color': 'C0DEED', 'profile_sidebar_fill_color': 'DDEEF6', 'profile_text_color': '333333', 'profile_use_background_image': True, 'has_extended_profile': False, 'default_profile': True, 'default_profile_image': False, 'following': False, 'follow_request_sent': False, 'notifications': False, 'translator_type': 'none'}, id=1195376912564047877, id_str='1195376912564047877', name='Mufaddal Johns', screen_name='LordRelator', location='', description='', url=None, entities={'description': {'urls': []}}, protected=False, followers_count=3, friends_count=93, listed_count=0, created_at=datetime.datetime(2019, 11, 15, 16, 24, 10), favourites_count=27, utc_offset=None, time_zone=None, geo_enabled=False, verified=False, statuses_count=48, lang=None, contributors_enabled=False, is_translator=False, is_translation_enabled=False, profile_background_color='F5F8FA', profile_background_image_url=None, profile_background_image_url_https=None, profile_background_tile=False, profile_image_url='http://pbs.twimg.com/profile_images/1321530161288810497/c_FpcqfS_normal.jpg', profile_image_url_https='https://pbs.twimg.com/profile_images/1321530161288810497/c_FpcqfS_normal.jpg', profile_link_color='1DA1F2', profile_sidebar_border_color='C0DEED', profile_sidebar_fill_color='DDEEF6', profile_text_color='333333', profile_use_background_image=True, has_extended_profile=False, default_profile=True, default_profile_image=False, following=False, follow_request_sent=False, notifications=False, translator_type='none'), user=User(_api=<tweepy.api.API object at 0x7f6fe7a7ea20>, _json={'id': 1195376912564047877, 'id_str': '1195376912564047877', 'name': 'Mufaddal Johns', 'screen_name': 'LordRelator', 'location': '', 'description': '', 'url': None, 'entities': {'description': {'urls': []}}, 'protected': False, 'followers_count': 3, 'friends_count': 93, 'listed_count': 0, 'created_at': 'Fri Nov 15 16:24:10 +0000 2019', 'favourites_count': 27, 'utc_offset': None, 'time_zone': None, 'geo_enabled': False, 'verified': False, 'statuses_count': 48, 'lang': None, 'contributors_enabled': False, 'is_translator': False, 'is_translation_enabled': False, 'profile_background_color': 'F5F8FA', 'profile_background_image_url': None, 'profile_background_image_url_https': None, 'profile_background_tile': False, 'profile_image_url': 'http://pbs.twimg.com/profile_images/1321530161288810497/c_FpcqfS_normal.jpg', 'profile_image_url_https': 'https://pbs.twimg.com/profile_images/1321530161288810497/c_FpcqfS_normal.jpg', 'profile_link_color': '1DA1F2', 'profile_sidebar_border_color': 'C0DEED', 'profile_sidebar_fill_color': 'DDEEF6', 'profile_text_color': '333333', 'profile_use_background_image': True, 'has_extended_profile': False, 'default_profile': True, 'default_profile_image': False, 'following': False, 'follow_request_sent': False, 'notifications': False, 'translator_type': 'none'}, id=1195376912564047877, id_str='1195376912564047877', name='Mufaddal Johns', screen_name='LordRelator', location='', description='', url=None, entities={'description': {'urls': []}}, protected=False, followers_count=3, friends_count=93, listed_count=0, created_at=datetime.datetime(2019, 11, 15, 16, 24, 10), favourites_count=27, utc_offset=None, time_zone=None, geo_enabled=False, verified=False, statuses_count=48, lang=None, contributors_enabled=False, is_translator=False, is_translation_enabled=False, profile_background_color='F5F8FA', profile_background_image_url=None, profile_background_image_url_https=None, profile_background_tile=False, profile_image_url='http://pbs.twimg.com/profile_images/1321530161288810497/c_FpcqfS_normal.jpg', profile_image_url_https='https://pbs.twimg.com/profile_images/1321530161288810497/c_FpcqfS_normal.jpg', profile_link_color='1DA1F2', profile_sidebar_border_color='C0DEED', profile_sidebar_fill_color='DDEEF6', profile_text_color='333333', profile_use_background_image=True, has_extended_profile=False, default_profile=True, default_profile_image=False, following=False, follow_request_sent=False, notifications=False, translator_type='none'), geo=None, coordinates=None, place=None, contributors=None, is_quote_status=False, retweet_count=0, favorite_count=0, favorited=False, retweeted=False, lang='en') \n",
            "\n",
            ".....................................\n",
            "\n",
            "Status(_api=<tweepy.api.API object at 0x7f6fe7a7ea20>, _json={'created_at': 'Mon Nov 02 18:54:37 +0000 2020', 'id': 1323337736615415808, 'id_str': '1323337736615415808', 'full_text': '#IPL2020 #SRHvMI | MI Predicted XI against SRH: Mumbai Indians to continue with same winning combination\\n\\nhttps://t.co/ZTLFha6X01', 'truncated': False, 'display_text_range': [0, 129], 'entities': {'hashtags': [{'text': 'IPL2020', 'indices': [0, 8]}, {'text': 'SRHvMI', 'indices': [9, 16]}], 'symbols': [], 'user_mentions': [], 'urls': [{'url': 'https://t.co/ZTLFha6X01', 'expanded_url': 'https://www.hindustantimes.com/cricket/ipl-2020-mi-predicted-xi-against-rcb-mumbai-indians-to-continue-with-same-winning-combination/story-4irwmQ6RLggi9V7YAG3pdO.html', 'display_url': 'hindustantimes.com/cricket/ipl-20…', 'indices': [106, 129]}]}, 'metadata': {'iso_language_code': 'en', 'result_type': 'recent'}, 'source': '<a href=\"https://about.twitter.com/products/tweetdeck\" rel=\"nofollow\">TweetDeck</a>', 'in_reply_to_status_id': None, 'in_reply_to_status_id_str': None, 'in_reply_to_user_id': None, 'in_reply_to_user_id_str': None, 'in_reply_to_screen_name': None, 'user': {'id': 2532884354, 'id_str': '2532884354', 'name': 'HT Sports', 'screen_name': 'HTSportsNews', 'location': 'India', 'description': \"India's premier destination for cricket, football, tennis and other sports from all over the world.\", 'url': 'http://t.co/4q7tpTsmJ2', 'entities': {'url': {'urls': [{'url': 'http://t.co/4q7tpTsmJ2', 'expanded_url': 'http://hindustantimes.com', 'display_url': 'hindustantimes.com', 'indices': [0, 22]}]}, 'description': {'urls': []}}, 'protected': False, 'followers_count': 101406, 'friends_count': 375, 'listed_count': 346, 'created_at': 'Thu May 29 15:42:59 +0000 2014', 'favourites_count': 339, 'utc_offset': None, 'time_zone': None, 'geo_enabled': False, 'verified': True, 'statuses_count': 111487, 'lang': None, 'contributors_enabled': False, 'is_translator': False, 'is_translation_enabled': False, 'profile_background_color': 'C0DEED', 'profile_background_image_url': 'http://abs.twimg.com/images/themes/theme1/bg.png', 'profile_background_image_url_https': 'https://abs.twimg.com/images/themes/theme1/bg.png', 'profile_background_tile': True, 'profile_image_url': 'http://pbs.twimg.com/profile_images/1299777577742073857/TzFpLDLX_normal.jpg', 'profile_image_url_https': 'https://pbs.twimg.com/profile_images/1299777577742073857/TzFpLDLX_normal.jpg', 'profile_banner_url': 'https://pbs.twimg.com/profile_banners/2532884354/1599448059', 'profile_link_color': '0084B4', 'profile_sidebar_border_color': 'FFFFFF', 'profile_sidebar_fill_color': 'DDEEF6', 'profile_text_color': '333333', 'profile_use_background_image': False, 'has_extended_profile': False, 'default_profile': False, 'default_profile_image': False, 'following': False, 'follow_request_sent': False, 'notifications': False, 'translator_type': 'none'}, 'geo': None, 'coordinates': None, 'place': None, 'contributors': None, 'is_quote_status': False, 'retweet_count': 0, 'favorite_count': 2, 'favorited': False, 'retweeted': False, 'possibly_sensitive': False, 'lang': 'en'}, created_at=datetime.datetime(2020, 11, 2, 18, 54, 37), id=1323337736615415808, id_str='1323337736615415808', full_text='#IPL2020 #SRHvMI | MI Predicted XI against SRH: Mumbai Indians to continue with same winning combination\\n\\nhttps://t.co/ZTLFha6X01', truncated=False, display_text_range=[0, 129], entities={'hashtags': [{'text': 'IPL2020', 'indices': [0, 8]}, {'text': 'SRHvMI', 'indices': [9, 16]}], 'symbols': [], 'user_mentions': [], 'urls': [{'url': 'https://t.co/ZTLFha6X01', 'expanded_url': 'https://www.hindustantimes.com/cricket/ipl-2020-mi-predicted-xi-against-rcb-mumbai-indians-to-continue-with-same-winning-combination/story-4irwmQ6RLggi9V7YAG3pdO.html', 'display_url': 'hindustantimes.com/cricket/ipl-20…', 'indices': [106, 129]}]}, metadata={'iso_language_code': 'en', 'result_type': 'recent'}, source='TweetDeck', source_url='https://about.twitter.com/products/tweetdeck', in_reply_to_status_id=None, in_reply_to_status_id_str=None, in_reply_to_user_id=None, in_reply_to_user_id_str=None, in_reply_to_screen_name=None, author=User(_api=<tweepy.api.API object at 0x7f6fe7a7ea20>, _json={'id': 2532884354, 'id_str': '2532884354', 'name': 'HT Sports', 'screen_name': 'HTSportsNews', 'location': 'India', 'description': \"India's premier destination for cricket, football, tennis and other sports from all over the world.\", 'url': 'http://t.co/4q7tpTsmJ2', 'entities': {'url': {'urls': [{'url': 'http://t.co/4q7tpTsmJ2', 'expanded_url': 'http://hindustantimes.com', 'display_url': 'hindustantimes.com', 'indices': [0, 22]}]}, 'description': {'urls': []}}, 'protected': False, 'followers_count': 101406, 'friends_count': 375, 'listed_count': 346, 'created_at': 'Thu May 29 15:42:59 +0000 2014', 'favourites_count': 339, 'utc_offset': None, 'time_zone': None, 'geo_enabled': False, 'verified': True, 'statuses_count': 111487, 'lang': None, 'contributors_enabled': False, 'is_translator': False, 'is_translation_enabled': False, 'profile_background_color': 'C0DEED', 'profile_background_image_url': 'http://abs.twimg.com/images/themes/theme1/bg.png', 'profile_background_image_url_https': 'https://abs.twimg.com/images/themes/theme1/bg.png', 'profile_background_tile': True, 'profile_image_url': 'http://pbs.twimg.com/profile_images/1299777577742073857/TzFpLDLX_normal.jpg', 'profile_image_url_https': 'https://pbs.twimg.com/profile_images/1299777577742073857/TzFpLDLX_normal.jpg', 'profile_banner_url': 'https://pbs.twimg.com/profile_banners/2532884354/1599448059', 'profile_link_color': '0084B4', 'profile_sidebar_border_color': 'FFFFFF', 'profile_sidebar_fill_color': 'DDEEF6', 'profile_text_color': '333333', 'profile_use_background_image': False, 'has_extended_profile': False, 'default_profile': False, 'default_profile_image': False, 'following': False, 'follow_request_sent': False, 'notifications': False, 'translator_type': 'none'}, id=2532884354, id_str='2532884354', name='HT Sports', screen_name='HTSportsNews', location='India', description=\"India's premier destination for cricket, football, tennis and other sports from all over the world.\", url='http://t.co/4q7tpTsmJ2', entities={'url': {'urls': [{'url': 'http://t.co/4q7tpTsmJ2', 'expanded_url': 'http://hindustantimes.com', 'display_url': 'hindustantimes.com', 'indices': [0, 22]}]}, 'description': {'urls': []}}, protected=False, followers_count=101406, friends_count=375, listed_count=346, created_at=datetime.datetime(2014, 5, 29, 15, 42, 59), favourites_count=339, utc_offset=None, time_zone=None, geo_enabled=False, verified=True, statuses_count=111487, lang=None, contributors_enabled=False, is_translator=False, is_translation_enabled=False, profile_background_color='C0DEED', profile_background_image_url='http://abs.twimg.com/images/themes/theme1/bg.png', profile_background_image_url_https='https://abs.twimg.com/images/themes/theme1/bg.png', profile_background_tile=True, profile_image_url='http://pbs.twimg.com/profile_images/1299777577742073857/TzFpLDLX_normal.jpg', profile_image_url_https='https://pbs.twimg.com/profile_images/1299777577742073857/TzFpLDLX_normal.jpg', profile_banner_url='https://pbs.twimg.com/profile_banners/2532884354/1599448059', profile_link_color='0084B4', profile_sidebar_border_color='FFFFFF', profile_sidebar_fill_color='DDEEF6', profile_text_color='333333', profile_use_background_image=False, has_extended_profile=False, default_profile=False, default_profile_image=False, following=False, follow_request_sent=False, notifications=False, translator_type='none'), user=User(_api=<tweepy.api.API object at 0x7f6fe7a7ea20>, _json={'id': 2532884354, 'id_str': '2532884354', 'name': 'HT Sports', 'screen_name': 'HTSportsNews', 'location': 'India', 'description': \"India's premier destination for cricket, football, tennis and other sports from all over the world.\", 'url': 'http://t.co/4q7tpTsmJ2', 'entities': {'url': {'urls': [{'url': 'http://t.co/4q7tpTsmJ2', 'expanded_url': 'http://hindustantimes.com', 'display_url': 'hindustantimes.com', 'indices': [0, 22]}]}, 'description': {'urls': []}}, 'protected': False, 'followers_count': 101406, 'friends_count': 375, 'listed_count': 346, 'created_at': 'Thu May 29 15:42:59 +0000 2014', 'favourites_count': 339, 'utc_offset': None, 'time_zone': None, 'geo_enabled': False, 'verified': True, 'statuses_count': 111487, 'lang': None, 'contributors_enabled': False, 'is_translator': False, 'is_translation_enabled': False, 'profile_background_color': 'C0DEED', 'profile_background_image_url': 'http://abs.twimg.com/images/themes/theme1/bg.png', 'profile_background_image_url_https': 'https://abs.twimg.com/images/themes/theme1/bg.png', 'profile_background_tile': True, 'profile_image_url': 'http://pbs.twimg.com/profile_images/1299777577742073857/TzFpLDLX_normal.jpg', 'profile_image_url_https': 'https://pbs.twimg.com/profile_images/1299777577742073857/TzFpLDLX_normal.jpg', 'profile_banner_url': 'https://pbs.twimg.com/profile_banners/2532884354/1599448059', 'profile_link_color': '0084B4', 'profile_sidebar_border_color': 'FFFFFF', 'profile_sidebar_fill_color': 'DDEEF6', 'profile_text_color': '333333', 'profile_use_background_image': False, 'has_extended_profile': False, 'default_profile': False, 'default_profile_image': False, 'following': False, 'follow_request_sent': False, 'notifications': False, 'translator_type': 'none'}, id=2532884354, id_str='2532884354', name='HT Sports', screen_name='HTSportsNews', location='India', description=\"India's premier destination for cricket, football, tennis and other sports from all over the world.\", url='http://t.co/4q7tpTsmJ2', entities={'url': {'urls': [{'url': 'http://t.co/4q7tpTsmJ2', 'expanded_url': 'http://hindustantimes.com', 'display_url': 'hindustantimes.com', 'indices': [0, 22]}]}, 'description': {'urls': []}}, protected=False, followers_count=101406, friends_count=375, listed_count=346, created_at=datetime.datetime(2014, 5, 29, 15, 42, 59), favourites_count=339, utc_offset=None, time_zone=None, geo_enabled=False, verified=True, statuses_count=111487, lang=None, contributors_enabled=False, is_translator=False, is_translation_enabled=False, profile_background_color='C0DEED', profile_background_image_url='http://abs.twimg.com/images/themes/theme1/bg.png', profile_background_image_url_https='https://abs.twimg.com/images/themes/theme1/bg.png', profile_background_tile=True, profile_image_url='http://pbs.twimg.com/profile_images/1299777577742073857/TzFpLDLX_normal.jpg', profile_image_url_https='https://pbs.twimg.com/profile_images/1299777577742073857/TzFpLDLX_normal.jpg', profile_banner_url='https://pbs.twimg.com/profile_banners/2532884354/1599448059', profile_link_color='0084B4', profile_sidebar_border_color='FFFFFF', profile_sidebar_fill_color='DDEEF6', profile_text_color='333333', profile_use_background_image=False, has_extended_profile=False, default_profile=False, default_profile_image=False, following=False, follow_request_sent=False, notifications=False, translator_type='none'), geo=None, coordinates=None, place=None, contributors=None, is_quote_status=False, retweet_count=0, favorite_count=2, favorited=False, retweeted=False, possibly_sensitive=False, lang='en') \n",
            "\n",
            ".....................................\n",
            "\n",
            "Status(_api=<tweepy.api.API object at 0x7f6fe7a7ea20>, _json={'created_at': 'Mon Nov 02 18:47:37 +0000 2020', 'id': 1323335973896298496, 'id_str': '1323335973896298496', 'full_text': \"It's the best chance for @RCBTweets to have a go for the title as this year 2020 has always been the year favouring uncertain things to happen, may be one more i.e @RCBTweets winning the @IPL . And I doubt there could be any year better than 2020 to come for #RCB.. #ESCN\", 'truncated': False, 'display_text_range': [0, 271], 'entities': {'hashtags': [{'text': 'RCB', 'indices': [259, 263]}, {'text': 'ESCN', 'indices': [266, 271]}], 'symbols': [], 'user_mentions': [{'screen_name': 'RCBTweets', 'name': 'Royal Challengers Bangalore', 'id': 70931004, 'id_str': '70931004', 'indices': [25, 35]}, {'screen_name': 'RCBTweets', 'name': 'Royal Challengers Bangalore', 'id': 70931004, 'id_str': '70931004', 'indices': [164, 174]}, {'screen_name': 'IPL', 'name': 'IndianPremierLeague', 'id': 15639696, 'id_str': '15639696', 'indices': [187, 191]}], 'urls': []}, 'metadata': {'iso_language_code': 'en', 'result_type': 'recent'}, 'source': '<a href=\"http://twitter.com/download/android\" rel=\"nofollow\">Twitter for Android</a>', 'in_reply_to_status_id': None, 'in_reply_to_status_id_str': None, 'in_reply_to_user_id': None, 'in_reply_to_user_id_str': None, 'in_reply_to_screen_name': None, 'user': {'id': 1320936724923441153, 'id_str': '1320936724923441153', 'name': 'Bclontia_7', 'screen_name': 'BharatB40433239', 'location': 'Rohtak, India', 'description': '💻Engineer\\nPassionate 🏏⚽ Fan\\n#ALL_LIVES_MATTER 👨\\U0001f9d1🏻👨🏿👨🏼👨🏾👨🏽 🐾🕊️\\n#SRKian', 'url': None, 'entities': {'description': {'urls': []}}, 'protected': False, 'followers_count': 0, 'friends_count': 110, 'listed_count': 0, 'created_at': 'Tue Oct 27 03:54:07 +0000 2020', 'favourites_count': 30, 'utc_offset': None, 'time_zone': None, 'geo_enabled': False, 'verified': False, 'statuses_count': 23, 'lang': None, 'contributors_enabled': False, 'is_translator': False, 'is_translation_enabled': False, 'profile_background_color': 'F5F8FA', 'profile_background_image_url': None, 'profile_background_image_url_https': None, 'profile_background_tile': False, 'profile_image_url': 'http://pbs.twimg.com/profile_images/1320974651405733888/c30tTzE5_normal.jpg', 'profile_image_url_https': 'https://pbs.twimg.com/profile_images/1320974651405733888/c30tTzE5_normal.jpg', 'profile_banner_url': 'https://pbs.twimg.com/profile_banners/1320936724923441153/1603779874', 'profile_link_color': '1DA1F2', 'profile_sidebar_border_color': 'C0DEED', 'profile_sidebar_fill_color': 'DDEEF6', 'profile_text_color': '333333', 'profile_use_background_image': True, 'has_extended_profile': True, 'default_profile': True, 'default_profile_image': False, 'following': False, 'follow_request_sent': False, 'notifications': False, 'translator_type': 'none'}, 'geo': None, 'coordinates': None, 'place': None, 'contributors': None, 'is_quote_status': False, 'retweet_count': 0, 'favorite_count': 1, 'favorited': False, 'retweeted': False, 'lang': 'en'}, created_at=datetime.datetime(2020, 11, 2, 18, 47, 37), id=1323335973896298496, id_str='1323335973896298496', full_text=\"It's the best chance for @RCBTweets to have a go for the title as this year 2020 has always been the year favouring uncertain things to happen, may be one more i.e @RCBTweets winning the @IPL . And I doubt there could be any year better than 2020 to come for #RCB.. #ESCN\", truncated=False, display_text_range=[0, 271], entities={'hashtags': [{'text': 'RCB', 'indices': [259, 263]}, {'text': 'ESCN', 'indices': [266, 271]}], 'symbols': [], 'user_mentions': [{'screen_name': 'RCBTweets', 'name': 'Royal Challengers Bangalore', 'id': 70931004, 'id_str': '70931004', 'indices': [25, 35]}, {'screen_name': 'RCBTweets', 'name': 'Royal Challengers Bangalore', 'id': 70931004, 'id_str': '70931004', 'indices': [164, 174]}, {'screen_name': 'IPL', 'name': 'IndianPremierLeague', 'id': 15639696, 'id_str': '15639696', 'indices': [187, 191]}], 'urls': []}, metadata={'iso_language_code': 'en', 'result_type': 'recent'}, source='Twitter for Android', source_url='http://twitter.com/download/android', in_reply_to_status_id=None, in_reply_to_status_id_str=None, in_reply_to_user_id=None, in_reply_to_user_id_str=None, in_reply_to_screen_name=None, author=User(_api=<tweepy.api.API object at 0x7f6fe7a7ea20>, _json={'id': 1320936724923441153, 'id_str': '1320936724923441153', 'name': 'Bclontia_7', 'screen_name': 'BharatB40433239', 'location': 'Rohtak, India', 'description': '💻Engineer\\nPassionate 🏏⚽ Fan\\n#ALL_LIVES_MATTER 👨\\U0001f9d1🏻👨🏿👨🏼👨🏾👨🏽 🐾🕊️\\n#SRKian', 'url': None, 'entities': {'description': {'urls': []}}, 'protected': False, 'followers_count': 0, 'friends_count': 110, 'listed_count': 0, 'created_at': 'Tue Oct 27 03:54:07 +0000 2020', 'favourites_count': 30, 'utc_offset': None, 'time_zone': None, 'geo_enabled': False, 'verified': False, 'statuses_count': 23, 'lang': None, 'contributors_enabled': False, 'is_translator': False, 'is_translation_enabled': False, 'profile_background_color': 'F5F8FA', 'profile_background_image_url': None, 'profile_background_image_url_https': None, 'profile_background_tile': False, 'profile_image_url': 'http://pbs.twimg.com/profile_images/1320974651405733888/c30tTzE5_normal.jpg', 'profile_image_url_https': 'https://pbs.twimg.com/profile_images/1320974651405733888/c30tTzE5_normal.jpg', 'profile_banner_url': 'https://pbs.twimg.com/profile_banners/1320936724923441153/1603779874', 'profile_link_color': '1DA1F2', 'profile_sidebar_border_color': 'C0DEED', 'profile_sidebar_fill_color': 'DDEEF6', 'profile_text_color': '333333', 'profile_use_background_image': True, 'has_extended_profile': True, 'default_profile': True, 'default_profile_image': False, 'following': False, 'follow_request_sent': False, 'notifications': False, 'translator_type': 'none'}, id=1320936724923441153, id_str='1320936724923441153', name='Bclontia_7', screen_name='BharatB40433239', location='Rohtak, India', description='💻Engineer\\nPassionate 🏏⚽ Fan\\n#ALL_LIVES_MATTER 👨\\U0001f9d1🏻👨🏿👨🏼👨🏾👨🏽 🐾🕊️\\n#SRKian', url=None, entities={'description': {'urls': []}}, protected=False, followers_count=0, friends_count=110, listed_count=0, created_at=datetime.datetime(2020, 10, 27, 3, 54, 7), favourites_count=30, utc_offset=None, time_zone=None, geo_enabled=False, verified=False, statuses_count=23, lang=None, contributors_enabled=False, is_translator=False, is_translation_enabled=False, profile_background_color='F5F8FA', profile_background_image_url=None, profile_background_image_url_https=None, profile_background_tile=False, profile_image_url='http://pbs.twimg.com/profile_images/1320974651405733888/c30tTzE5_normal.jpg', profile_image_url_https='https://pbs.twimg.com/profile_images/1320974651405733888/c30tTzE5_normal.jpg', profile_banner_url='https://pbs.twimg.com/profile_banners/1320936724923441153/1603779874', profile_link_color='1DA1F2', profile_sidebar_border_color='C0DEED', profile_sidebar_fill_color='DDEEF6', profile_text_color='333333', profile_use_background_image=True, has_extended_profile=True, default_profile=True, default_profile_image=False, following=False, follow_request_sent=False, notifications=False, translator_type='none'), user=User(_api=<tweepy.api.API object at 0x7f6fe7a7ea20>, _json={'id': 1320936724923441153, 'id_str': '1320936724923441153', 'name': 'Bclontia_7', 'screen_name': 'BharatB40433239', 'location': 'Rohtak, India', 'description': '💻Engineer\\nPassionate 🏏⚽ Fan\\n#ALL_LIVES_MATTER 👨\\U0001f9d1🏻👨🏿👨🏼👨🏾👨🏽 🐾🕊️\\n#SRKian', 'url': None, 'entities': {'description': {'urls': []}}, 'protected': False, 'followers_count': 0, 'friends_count': 110, 'listed_count': 0, 'created_at': 'Tue Oct 27 03:54:07 +0000 2020', 'favourites_count': 30, 'utc_offset': None, 'time_zone': None, 'geo_enabled': False, 'verified': False, 'statuses_count': 23, 'lang': None, 'contributors_enabled': False, 'is_translator': False, 'is_translation_enabled': False, 'profile_background_color': 'F5F8FA', 'profile_background_image_url': None, 'profile_background_image_url_https': None, 'profile_background_tile': False, 'profile_image_url': 'http://pbs.twimg.com/profile_images/1320974651405733888/c30tTzE5_normal.jpg', 'profile_image_url_https': 'https://pbs.twimg.com/profile_images/1320974651405733888/c30tTzE5_normal.jpg', 'profile_banner_url': 'https://pbs.twimg.com/profile_banners/1320936724923441153/1603779874', 'profile_link_color': '1DA1F2', 'profile_sidebar_border_color': 'C0DEED', 'profile_sidebar_fill_color': 'DDEEF6', 'profile_text_color': '333333', 'profile_use_background_image': True, 'has_extended_profile': True, 'default_profile': True, 'default_profile_image': False, 'following': False, 'follow_request_sent': False, 'notifications': False, 'translator_type': 'none'}, id=1320936724923441153, id_str='1320936724923441153', name='Bclontia_7', screen_name='BharatB40433239', location='Rohtak, India', description='💻Engineer\\nPassionate 🏏⚽ Fan\\n#ALL_LIVES_MATTER 👨\\U0001f9d1🏻👨🏿👨🏼👨🏾👨🏽 🐾🕊️\\n#SRKian', url=None, entities={'description': {'urls': []}}, protected=False, followers_count=0, friends_count=110, listed_count=0, created_at=datetime.datetime(2020, 10, 27, 3, 54, 7), favourites_count=30, utc_offset=None, time_zone=None, geo_enabled=False, verified=False, statuses_count=23, lang=None, contributors_enabled=False, is_translator=False, is_translation_enabled=False, profile_background_color='F5F8FA', profile_background_image_url=None, profile_background_image_url_https=None, profile_background_tile=False, profile_image_url='http://pbs.twimg.com/profile_images/1320974651405733888/c30tTzE5_normal.jpg', profile_image_url_https='https://pbs.twimg.com/profile_images/1320974651405733888/c30tTzE5_normal.jpg', profile_banner_url='https://pbs.twimg.com/profile_banners/1320936724923441153/1603779874', profile_link_color='1DA1F2', profile_sidebar_border_color='C0DEED', profile_sidebar_fill_color='DDEEF6', profile_text_color='333333', profile_use_background_image=True, has_extended_profile=True, default_profile=True, default_profile_image=False, following=False, follow_request_sent=False, notifications=False, translator_type='none'), geo=None, coordinates=None, place=None, contributors=None, is_quote_status=False, retweet_count=0, favorite_count=1, favorited=False, retweeted=False, lang='en') \n",
            "\n",
            ".....................................\n",
            "\n",
            "Status(_api=<tweepy.api.API object at 0x7f6fe7a7ea20>, _json={'created_at': 'Mon Nov 02 18:42:18 +0000 2020', 'id': 1323334637171568640, 'id_str': '1323334637171568640', 'full_text': 'IPL 2020, MI Predicted XI against RCB: Mumbai Indians to continue with same winning combination\\nhttps://t.co/bZxYcUV9aM', 'truncated': False, 'display_text_range': [0, 119], 'entities': {'hashtags': [], 'symbols': [], 'user_mentions': [], 'urls': [{'url': 'https://t.co/bZxYcUV9aM', 'expanded_url': 'http://www.hindustantimes.com/cricket/ipl-2020-mi-predicted-xi-against-rcb-mumbai-indians-to-continue-with-same-winning-combination/story-4irwmQ6RLggi9V7YAG3pdO.html', 'display_url': 'hindustantimes.com/cricket/ipl-20…', 'indices': [96, 119]}]}, 'metadata': {'iso_language_code': 'en', 'result_type': 'recent'}, 'source': '<a href=\"https://www.hindustantimes.com/\" rel=\"nofollow\">ht-twitter-handler</a>', 'in_reply_to_status_id': None, 'in_reply_to_status_id_str': None, 'in_reply_to_user_id': None, 'in_reply_to_user_id_str': None, 'in_reply_to_screen_name': None, 'user': {'id': 1066972567943053312, 'id_str': '1066972567943053312', 'name': 'Hindustan Times', 'screen_name': 'HindustanTimes', 'location': 'New Delhi, India', 'description': \"One of India's largest media companies. Latest news from around the world. Retweets are not endorsements.\", 'url': 'https://t.co/WtJj2BvIpU', 'entities': {'url': {'urls': [{'url': 'https://t.co/WtJj2BvIpU', 'expanded_url': 'https://www.hindustantimes.com/', 'display_url': 'hindustantimes.com', 'indices': [0, 23]}]}, 'description': {'urls': []}}, 'protected': False, 'followers_count': 26824, 'friends_count': 12, 'listed_count': 149, 'created_at': 'Mon Nov 26 08:30:58 +0000 2018', 'favourites_count': 9, 'utc_offset': None, 'time_zone': None, 'geo_enabled': False, 'verified': True, 'statuses_count': 227631, 'lang': None, 'contributors_enabled': False, 'is_translator': False, 'is_translation_enabled': False, 'profile_background_color': 'F5F8FA', 'profile_background_image_url': None, 'profile_background_image_url_https': None, 'profile_background_tile': False, 'profile_image_url': 'http://pbs.twimg.com/profile_images/1300145486469328896/K9Qophk9_normal.jpg', 'profile_image_url_https': 'https://pbs.twimg.com/profile_images/1300145486469328896/K9Qophk9_normal.jpg', 'profile_link_color': '1DA1F2', 'profile_sidebar_border_color': 'C0DEED', 'profile_sidebar_fill_color': 'DDEEF6', 'profile_text_color': '333333', 'profile_use_background_image': True, 'has_extended_profile': False, 'default_profile': True, 'default_profile_image': False, 'following': False, 'follow_request_sent': False, 'notifications': False, 'translator_type': 'none'}, 'geo': None, 'coordinates': None, 'place': None, 'contributors': None, 'is_quote_status': False, 'retweet_count': 0, 'favorite_count': 0, 'favorited': False, 'retweeted': False, 'possibly_sensitive': False, 'lang': 'en'}, created_at=datetime.datetime(2020, 11, 2, 18, 42, 18), id=1323334637171568640, id_str='1323334637171568640', full_text='IPL 2020, MI Predicted XI against RCB: Mumbai Indians to continue with same winning combination\\nhttps://t.co/bZxYcUV9aM', truncated=False, display_text_range=[0, 119], entities={'hashtags': [], 'symbols': [], 'user_mentions': [], 'urls': [{'url': 'https://t.co/bZxYcUV9aM', 'expanded_url': 'http://www.hindustantimes.com/cricket/ipl-2020-mi-predicted-xi-against-rcb-mumbai-indians-to-continue-with-same-winning-combination/story-4irwmQ6RLggi9V7YAG3pdO.html', 'display_url': 'hindustantimes.com/cricket/ipl-20…', 'indices': [96, 119]}]}, metadata={'iso_language_code': 'en', 'result_type': 'recent'}, source='ht-twitter-handler', source_url='https://www.hindustantimes.com/', in_reply_to_status_id=None, in_reply_to_status_id_str=None, in_reply_to_user_id=None, in_reply_to_user_id_str=None, in_reply_to_screen_name=None, author=User(_api=<tweepy.api.API object at 0x7f6fe7a7ea20>, _json={'id': 1066972567943053312, 'id_str': '1066972567943053312', 'name': 'Hindustan Times', 'screen_name': 'HindustanTimes', 'location': 'New Delhi, India', 'description': \"One of India's largest media companies. Latest news from around the world. Retweets are not endorsements.\", 'url': 'https://t.co/WtJj2BvIpU', 'entities': {'url': {'urls': [{'url': 'https://t.co/WtJj2BvIpU', 'expanded_url': 'https://www.hindustantimes.com/', 'display_url': 'hindustantimes.com', 'indices': [0, 23]}]}, 'description': {'urls': []}}, 'protected': False, 'followers_count': 26824, 'friends_count': 12, 'listed_count': 149, 'created_at': 'Mon Nov 26 08:30:58 +0000 2018', 'favourites_count': 9, 'utc_offset': None, 'time_zone': None, 'geo_enabled': False, 'verified': True, 'statuses_count': 227631, 'lang': None, 'contributors_enabled': False, 'is_translator': False, 'is_translation_enabled': False, 'profile_background_color': 'F5F8FA', 'profile_background_image_url': None, 'profile_background_image_url_https': None, 'profile_background_tile': False, 'profile_image_url': 'http://pbs.twimg.com/profile_images/1300145486469328896/K9Qophk9_normal.jpg', 'profile_image_url_https': 'https://pbs.twimg.com/profile_images/1300145486469328896/K9Qophk9_normal.jpg', 'profile_link_color': '1DA1F2', 'profile_sidebar_border_color': 'C0DEED', 'profile_sidebar_fill_color': 'DDEEF6', 'profile_text_color': '333333', 'profile_use_background_image': True, 'has_extended_profile': False, 'default_profile': True, 'default_profile_image': False, 'following': False, 'follow_request_sent': False, 'notifications': False, 'translator_type': 'none'}, id=1066972567943053312, id_str='1066972567943053312', name='Hindustan Times', screen_name='HindustanTimes', location='New Delhi, India', description=\"One of India's largest media companies. Latest news from around the world. Retweets are not endorsements.\", url='https://t.co/WtJj2BvIpU', entities={'url': {'urls': [{'url': 'https://t.co/WtJj2BvIpU', 'expanded_url': 'https://www.hindustantimes.com/', 'display_url': 'hindustantimes.com', 'indices': [0, 23]}]}, 'description': {'urls': []}}, protected=False, followers_count=26824, friends_count=12, listed_count=149, created_at=datetime.datetime(2018, 11, 26, 8, 30, 58), favourites_count=9, utc_offset=None, time_zone=None, geo_enabled=False, verified=True, statuses_count=227631, lang=None, contributors_enabled=False, is_translator=False, is_translation_enabled=False, profile_background_color='F5F8FA', profile_background_image_url=None, profile_background_image_url_https=None, profile_background_tile=False, profile_image_url='http://pbs.twimg.com/profile_images/1300145486469328896/K9Qophk9_normal.jpg', profile_image_url_https='https://pbs.twimg.com/profile_images/1300145486469328896/K9Qophk9_normal.jpg', profile_link_color='1DA1F2', profile_sidebar_border_color='C0DEED', profile_sidebar_fill_color='DDEEF6', profile_text_color='333333', profile_use_background_image=True, has_extended_profile=False, default_profile=True, default_profile_image=False, following=False, follow_request_sent=False, notifications=False, translator_type='none'), user=User(_api=<tweepy.api.API object at 0x7f6fe7a7ea20>, _json={'id': 1066972567943053312, 'id_str': '1066972567943053312', 'name': 'Hindustan Times', 'screen_name': 'HindustanTimes', 'location': 'New Delhi, India', 'description': \"One of India's largest media companies. Latest news from around the world. Retweets are not endorsements.\", 'url': 'https://t.co/WtJj2BvIpU', 'entities': {'url': {'urls': [{'url': 'https://t.co/WtJj2BvIpU', 'expanded_url': 'https://www.hindustantimes.com/', 'display_url': 'hindustantimes.com', 'indices': [0, 23]}]}, 'description': {'urls': []}}, 'protected': False, 'followers_count': 26824, 'friends_count': 12, 'listed_count': 149, 'created_at': 'Mon Nov 26 08:30:58 +0000 2018', 'favourites_count': 9, 'utc_offset': None, 'time_zone': None, 'geo_enabled': False, 'verified': True, 'statuses_count': 227631, 'lang': None, 'contributors_enabled': False, 'is_translator': False, 'is_translation_enabled': False, 'profile_background_color': 'F5F8FA', 'profile_background_image_url': None, 'profile_background_image_url_https': None, 'profile_background_tile': False, 'profile_image_url': 'http://pbs.twimg.com/profile_images/1300145486469328896/K9Qophk9_normal.jpg', 'profile_image_url_https': 'https://pbs.twimg.com/profile_images/1300145486469328896/K9Qophk9_normal.jpg', 'profile_link_color': '1DA1F2', 'profile_sidebar_border_color': 'C0DEED', 'profile_sidebar_fill_color': 'DDEEF6', 'profile_text_color': '333333', 'profile_use_background_image': True, 'has_extended_profile': False, 'default_profile': True, 'default_profile_image': False, 'following': False, 'follow_request_sent': False, 'notifications': False, 'translator_type': 'none'}, id=1066972567943053312, id_str='1066972567943053312', name='Hindustan Times', screen_name='HindustanTimes', location='New Delhi, India', description=\"One of India's largest media companies. Latest news from around the world. Retweets are not endorsements.\", url='https://t.co/WtJj2BvIpU', entities={'url': {'urls': [{'url': 'https://t.co/WtJj2BvIpU', 'expanded_url': 'https://www.hindustantimes.com/', 'display_url': 'hindustantimes.com', 'indices': [0, 23]}]}, 'description': {'urls': []}}, protected=False, followers_count=26824, friends_count=12, listed_count=149, created_at=datetime.datetime(2018, 11, 26, 8, 30, 58), favourites_count=9, utc_offset=None, time_zone=None, geo_enabled=False, verified=True, statuses_count=227631, lang=None, contributors_enabled=False, is_translator=False, is_translation_enabled=False, profile_background_color='F5F8FA', profile_background_image_url=None, profile_background_image_url_https=None, profile_background_tile=False, profile_image_url='http://pbs.twimg.com/profile_images/1300145486469328896/K9Qophk9_normal.jpg', profile_image_url_https='https://pbs.twimg.com/profile_images/1300145486469328896/K9Qophk9_normal.jpg', profile_link_color='1DA1F2', profile_sidebar_border_color='C0DEED', profile_sidebar_fill_color='DDEEF6', profile_text_color='333333', profile_use_background_image=True, has_extended_profile=False, default_profile=True, default_profile_image=False, following=False, follow_request_sent=False, notifications=False, translator_type='none'), geo=None, coordinates=None, place=None, contributors=None, is_quote_status=False, retweet_count=0, favorite_count=0, favorited=False, retweeted=False, possibly_sensitive=False, lang='en') \n",
            "\n",
            ".....................................\n",
            "\n",
            "Status(_api=<tweepy.api.API object at 0x7f6fe7a7ea20>, _json={'created_at': 'Mon Nov 02 18:34:47 +0000 2020', 'id': 1323332746706522113, 'id_str': '1323332746706522113', 'full_text': \"@Ikmitra @AbdPakku @KKRiders @TBanton18 @RealShubmanGill Hahahahaha... Rcb also didn't deserve it...  Now if KKR goes in it will be the winner of ipl 2020... If not then SRH.... But Rcb and DC are not worth winning teams.... 🤣 🤣 🤣\", 'truncated': False, 'display_text_range': [57, 230], 'entities': {'hashtags': [], 'symbols': [], 'user_mentions': [{'screen_name': 'Ikmitra', 'name': 'Kaushik Mitra🇮🇳', 'id': 985046119687294976, 'id_str': '985046119687294976', 'indices': [0, 8]}, {'screen_name': 'AbdPakku', 'name': 'Pakku\\U0001f970Abd', 'id': 1321159288748793856, 'id_str': '1321159288748793856', 'indices': [9, 18]}, {'screen_name': 'KKRiders', 'name': 'KolkataKnightRiders', 'id': 23592970, 'id_str': '23592970', 'indices': [19, 28]}, {'screen_name': 'TBanton18', 'name': 'Tom Banton', 'id': 1207111128297422853, 'id_str': '1207111128297422853', 'indices': [29, 39]}, {'screen_name': 'RealShubmanGill', 'name': 'Shubman Gill', 'id': 959840104440385536, 'id_str': '959840104440385536', 'indices': [40, 56]}], 'urls': []}, 'metadata': {'iso_language_code': 'en', 'result_type': 'recent'}, 'source': '<a href=\"http://twitter.com/download/android\" rel=\"nofollow\">Twitter for Android</a>', 'in_reply_to_status_id': 1323323500606550016, 'in_reply_to_status_id_str': '1323323500606550016', 'in_reply_to_user_id': 985046119687294976, 'in_reply_to_user_id_str': '985046119687294976', 'in_reply_to_screen_name': 'Ikmitra', 'user': {'id': 105413732, 'id_str': '105413732', 'name': 'Sheikh Salim', 'screen_name': 'sheikhsd1983', 'location': '', 'description': 'Graphic Designer by profession Photographer by Hobby Simple, Smart, Happy & Kind by person is wht i belive of myself If u hv comments always welcome....', 'url': None, 'entities': {'description': {'urls': []}}, 'protected': False, 'followers_count': 45, 'friends_count': 124, 'listed_count': 1, 'created_at': 'Sat Jan 16 08:07:27 +0000 2010', 'favourites_count': 304, 'utc_offset': None, 'time_zone': None, 'geo_enabled': True, 'verified': False, 'statuses_count': 1006, 'lang': None, 'contributors_enabled': False, 'is_translator': False, 'is_translation_enabled': False, 'profile_background_color': '8B542B', 'profile_background_image_url': 'http://abs.twimg.com/images/themes/theme1/bg.png', 'profile_background_image_url_https': 'https://abs.twimg.com/images/themes/theme1/bg.png', 'profile_background_tile': True, 'profile_image_url': 'http://pbs.twimg.com/profile_images/634714051/DSC00192_normal.JPG', 'profile_image_url_https': 'https://pbs.twimg.com/profile_images/634714051/DSC00192_normal.JPG', 'profile_link_color': '9D582E', 'profile_sidebar_border_color': 'C0DEED', 'profile_sidebar_fill_color': 'DDEEF6', 'profile_text_color': '333333', 'profile_use_background_image': True, 'has_extended_profile': False, 'default_profile': False, 'default_profile_image': False, 'following': False, 'follow_request_sent': False, 'notifications': False, 'translator_type': 'none'}, 'geo': None, 'coordinates': None, 'place': None, 'contributors': None, 'is_quote_status': False, 'retweet_count': 0, 'favorite_count': 0, 'favorited': False, 'retweeted': False, 'lang': 'en'}, created_at=datetime.datetime(2020, 11, 2, 18, 34, 47), id=1323332746706522113, id_str='1323332746706522113', full_text=\"@Ikmitra @AbdPakku @KKRiders @TBanton18 @RealShubmanGill Hahahahaha... Rcb also didn't deserve it...  Now if KKR goes in it will be the winner of ipl 2020... If not then SRH.... But Rcb and DC are not worth winning teams.... 🤣 🤣 🤣\", truncated=False, display_text_range=[57, 230], entities={'hashtags': [], 'symbols': [], 'user_mentions': [{'screen_name': 'Ikmitra', 'name': 'Kaushik Mitra🇮🇳', 'id': 985046119687294976, 'id_str': '985046119687294976', 'indices': [0, 8]}, {'screen_name': 'AbdPakku', 'name': 'Pakku\\U0001f970Abd', 'id': 1321159288748793856, 'id_str': '1321159288748793856', 'indices': [9, 18]}, {'screen_name': 'KKRiders', 'name': 'KolkataKnightRiders', 'id': 23592970, 'id_str': '23592970', 'indices': [19, 28]}, {'screen_name': 'TBanton18', 'name': 'Tom Banton', 'id': 1207111128297422853, 'id_str': '1207111128297422853', 'indices': [29, 39]}, {'screen_name': 'RealShubmanGill', 'name': 'Shubman Gill', 'id': 959840104440385536, 'id_str': '959840104440385536', 'indices': [40, 56]}], 'urls': []}, metadata={'iso_language_code': 'en', 'result_type': 'recent'}, source='Twitter for Android', source_url='http://twitter.com/download/android', in_reply_to_status_id=1323323500606550016, in_reply_to_status_id_str='1323323500606550016', in_reply_to_user_id=985046119687294976, in_reply_to_user_id_str='985046119687294976', in_reply_to_screen_name='Ikmitra', author=User(_api=<tweepy.api.API object at 0x7f6fe7a7ea20>, _json={'id': 105413732, 'id_str': '105413732', 'name': 'Sheikh Salim', 'screen_name': 'sheikhsd1983', 'location': '', 'description': 'Graphic Designer by profession Photographer by Hobby Simple, Smart, Happy & Kind by person is wht i belive of myself If u hv comments always welcome....', 'url': None, 'entities': {'description': {'urls': []}}, 'protected': False, 'followers_count': 45, 'friends_count': 124, 'listed_count': 1, 'created_at': 'Sat Jan 16 08:07:27 +0000 2010', 'favourites_count': 304, 'utc_offset': None, 'time_zone': None, 'geo_enabled': True, 'verified': False, 'statuses_count': 1006, 'lang': None, 'contributors_enabled': False, 'is_translator': False, 'is_translation_enabled': False, 'profile_background_color': '8B542B', 'profile_background_image_url': 'http://abs.twimg.com/images/themes/theme1/bg.png', 'profile_background_image_url_https': 'https://abs.twimg.com/images/themes/theme1/bg.png', 'profile_background_tile': True, 'profile_image_url': 'http://pbs.twimg.com/profile_images/634714051/DSC00192_normal.JPG', 'profile_image_url_https': 'https://pbs.twimg.com/profile_images/634714051/DSC00192_normal.JPG', 'profile_link_color': '9D582E', 'profile_sidebar_border_color': 'C0DEED', 'profile_sidebar_fill_color': 'DDEEF6', 'profile_text_color': '333333', 'profile_use_background_image': True, 'has_extended_profile': False, 'default_profile': False, 'default_profile_image': False, 'following': False, 'follow_request_sent': False, 'notifications': False, 'translator_type': 'none'}, id=105413732, id_str='105413732', name='Sheikh Salim', screen_name='sheikhsd1983', location='', description='Graphic Designer by profession Photographer by Hobby Simple, Smart, Happy & Kind by person is wht i belive of myself If u hv comments always welcome....', url=None, entities={'description': {'urls': []}}, protected=False, followers_count=45, friends_count=124, listed_count=1, created_at=datetime.datetime(2010, 1, 16, 8, 7, 27), favourites_count=304, utc_offset=None, time_zone=None, geo_enabled=True, verified=False, statuses_count=1006, lang=None, contributors_enabled=False, is_translator=False, is_translation_enabled=False, profile_background_color='8B542B', profile_background_image_url='http://abs.twimg.com/images/themes/theme1/bg.png', profile_background_image_url_https='https://abs.twimg.com/images/themes/theme1/bg.png', profile_background_tile=True, profile_image_url='http://pbs.twimg.com/profile_images/634714051/DSC00192_normal.JPG', profile_image_url_https='https://pbs.twimg.com/profile_images/634714051/DSC00192_normal.JPG', profile_link_color='9D582E', profile_sidebar_border_color='C0DEED', profile_sidebar_fill_color='DDEEF6', profile_text_color='333333', profile_use_background_image=True, has_extended_profile=False, default_profile=False, default_profile_image=False, following=False, follow_request_sent=False, notifications=False, translator_type='none'), user=User(_api=<tweepy.api.API object at 0x7f6fe7a7ea20>, _json={'id': 105413732, 'id_str': '105413732', 'name': 'Sheikh Salim', 'screen_name': 'sheikhsd1983', 'location': '', 'description': 'Graphic Designer by profession Photographer by Hobby Simple, Smart, Happy & Kind by person is wht i belive of myself If u hv comments always welcome....', 'url': None, 'entities': {'description': {'urls': []}}, 'protected': False, 'followers_count': 45, 'friends_count': 124, 'listed_count': 1, 'created_at': 'Sat Jan 16 08:07:27 +0000 2010', 'favourites_count': 304, 'utc_offset': None, 'time_zone': None, 'geo_enabled': True, 'verified': False, 'statuses_count': 1006, 'lang': None, 'contributors_enabled': False, 'is_translator': False, 'is_translation_enabled': False, 'profile_background_color': '8B542B', 'profile_background_image_url': 'http://abs.twimg.com/images/themes/theme1/bg.png', 'profile_background_image_url_https': 'https://abs.twimg.com/images/themes/theme1/bg.png', 'profile_background_tile': True, 'profile_image_url': 'http://pbs.twimg.com/profile_images/634714051/DSC00192_normal.JPG', 'profile_image_url_https': 'https://pbs.twimg.com/profile_images/634714051/DSC00192_normal.JPG', 'profile_link_color': '9D582E', 'profile_sidebar_border_color': 'C0DEED', 'profile_sidebar_fill_color': 'DDEEF6', 'profile_text_color': '333333', 'profile_use_background_image': True, 'has_extended_profile': False, 'default_profile': False, 'default_profile_image': False, 'following': False, 'follow_request_sent': False, 'notifications': False, 'translator_type': 'none'}, id=105413732, id_str='105413732', name='Sheikh Salim', screen_name='sheikhsd1983', location='', description='Graphic Designer by profession Photographer by Hobby Simple, Smart, Happy & Kind by person is wht i belive of myself If u hv comments always welcome....', url=None, entities={'description': {'urls': []}}, protected=False, followers_count=45, friends_count=124, listed_count=1, created_at=datetime.datetime(2010, 1, 16, 8, 7, 27), favourites_count=304, utc_offset=None, time_zone=None, geo_enabled=True, verified=False, statuses_count=1006, lang=None, contributors_enabled=False, is_translator=False, is_translation_enabled=False, profile_background_color='8B542B', profile_background_image_url='http://abs.twimg.com/images/themes/theme1/bg.png', profile_background_image_url_https='https://abs.twimg.com/images/themes/theme1/bg.png', profile_background_tile=True, profile_image_url='http://pbs.twimg.com/profile_images/634714051/DSC00192_normal.JPG', profile_image_url_https='https://pbs.twimg.com/profile_images/634714051/DSC00192_normal.JPG', profile_link_color='9D582E', profile_sidebar_border_color='C0DEED', profile_sidebar_fill_color='DDEEF6', profile_text_color='333333', profile_use_background_image=True, has_extended_profile=False, default_profile=False, default_profile_image=False, following=False, follow_request_sent=False, notifications=False, translator_type='none'), geo=None, coordinates=None, place=None, contributors=None, is_quote_status=False, retweet_count=0, favorite_count=0, favorited=False, retweeted=False, lang='en') \n",
            "\n",
            ".....................................\n",
            "\n",
            "Status(_api=<tweepy.api.API object at 0x7f6fe7a7ea20>, _json={'created_at': 'Mon Nov 02 18:24:57 +0000 2020', 'id': 1323330271106617344, 'id_str': '1323330271106617344', 'full_text': '@Sheetal_Meena12 @IrfanPathan Chokars are very happy on qulifying ... kohli was smilling after loosing as RCB still qulify ... \\n\\nAnd RCB fans still happy and hopping for winning the IPL cup this year 😂 😂 🤣 😂\\n\\nThought is clear RCB is the chokar loosing 4th game in row at this stage 😉\\n\\n#RCBvsDC', 'truncated': False, 'display_text_range': [30, 293], 'entities': {'hashtags': [{'text': 'RCBvsDC', 'indices': [285, 293]}], 'symbols': [], 'user_mentions': [{'screen_name': 'Sheetal_Meena12', 'name': 'شیٹل میینا शीतल मीणा', 'id': 934240963156852736, 'id_str': '934240963156852736', 'indices': [0, 16]}, {'screen_name': 'IrfanPathan', 'name': 'Irfan Pathan', 'id': 1288050427, 'id_str': '1288050427', 'indices': [17, 29]}], 'urls': []}, 'metadata': {'iso_language_code': 'en', 'result_type': 'recent'}, 'source': '<a href=\"http://twitter.com/download/android\" rel=\"nofollow\">Twitter for Android</a>', 'in_reply_to_status_id': 1323316817729789952, 'in_reply_to_status_id_str': '1323316817729789952', 'in_reply_to_user_id': 934240963156852736, 'in_reply_to_user_id_str': '934240963156852736', 'in_reply_to_screen_name': 'Sheetal_Meena12', 'user': {'id': 715922912453103616, 'id_str': '715922912453103616', 'name': 'شازى', 'screen_name': 'shazy761', 'location': '', 'description': '\\u200f\\u200f\\u200f\\u200fالآن أنت عادتي ❤💯', 'url': None, 'entities': {'description': {'urls': []}}, 'protected': False, 'followers_count': 563, 'friends_count': 561, 'listed_count': 0, 'created_at': 'Fri Apr 01 15:24:58 +0000 2016', 'favourites_count': 14052, 'utc_offset': None, 'time_zone': None, 'geo_enabled': False, 'verified': False, 'statuses_count': 5435, 'lang': None, 'contributors_enabled': False, 'is_translator': False, 'is_translation_enabled': False, 'profile_background_color': 'F5F8FA', 'profile_background_image_url': None, 'profile_background_image_url_https': None, 'profile_background_tile': False, 'profile_image_url': 'http://pbs.twimg.com/profile_images/1322150556853415937/ZiRfx_3C_normal.jpg', 'profile_image_url_https': 'https://pbs.twimg.com/profile_images/1322150556853415937/ZiRfx_3C_normal.jpg', 'profile_banner_url': 'https://pbs.twimg.com/profile_banners/715922912453103616/1604060231', 'profile_link_color': '1DA1F2', 'profile_sidebar_border_color': 'C0DEED', 'profile_sidebar_fill_color': 'DDEEF6', 'profile_text_color': '333333', 'profile_use_background_image': True, 'has_extended_profile': True, 'default_profile': True, 'default_profile_image': False, 'following': False, 'follow_request_sent': False, 'notifications': False, 'translator_type': 'none'}, 'geo': None, 'coordinates': None, 'place': None, 'contributors': None, 'is_quote_status': False, 'retweet_count': 0, 'favorite_count': 0, 'favorited': False, 'retweeted': False, 'lang': 'en'}, created_at=datetime.datetime(2020, 11, 2, 18, 24, 57), id=1323330271106617344, id_str='1323330271106617344', full_text='@Sheetal_Meena12 @IrfanPathan Chokars are very happy on qulifying ... kohli was smilling after loosing as RCB still qulify ... \\n\\nAnd RCB fans still happy and hopping for winning the IPL cup this year 😂 😂 🤣 😂\\n\\nThought is clear RCB is the chokar loosing 4th game in row at this stage 😉\\n\\n#RCBvsDC', truncated=False, display_text_range=[30, 293], entities={'hashtags': [{'text': 'RCBvsDC', 'indices': [285, 293]}], 'symbols': [], 'user_mentions': [{'screen_name': 'Sheetal_Meena12', 'name': 'شیٹل میینا शीतल मीणा', 'id': 934240963156852736, 'id_str': '934240963156852736', 'indices': [0, 16]}, {'screen_name': 'IrfanPathan', 'name': 'Irfan Pathan', 'id': 1288050427, 'id_str': '1288050427', 'indices': [17, 29]}], 'urls': []}, metadata={'iso_language_code': 'en', 'result_type': 'recent'}, source='Twitter for Android', source_url='http://twitter.com/download/android', in_reply_to_status_id=1323316817729789952, in_reply_to_status_id_str='1323316817729789952', in_reply_to_user_id=934240963156852736, in_reply_to_user_id_str='934240963156852736', in_reply_to_screen_name='Sheetal_Meena12', author=User(_api=<tweepy.api.API object at 0x7f6fe7a7ea20>, _json={'id': 715922912453103616, 'id_str': '715922912453103616', 'name': 'شازى', 'screen_name': 'shazy761', 'location': '', 'description': '\\u200f\\u200f\\u200f\\u200fالآن أنت عادتي ❤💯', 'url': None, 'entities': {'description': {'urls': []}}, 'protected': False, 'followers_count': 563, 'friends_count': 561, 'listed_count': 0, 'created_at': 'Fri Apr 01 15:24:58 +0000 2016', 'favourites_count': 14052, 'utc_offset': None, 'time_zone': None, 'geo_enabled': False, 'verified': False, 'statuses_count': 5435, 'lang': None, 'contributors_enabled': False, 'is_translator': False, 'is_translation_enabled': False, 'profile_background_color': 'F5F8FA', 'profile_background_image_url': None, 'profile_background_image_url_https': None, 'profile_background_tile': False, 'profile_image_url': 'http://pbs.twimg.com/profile_images/1322150556853415937/ZiRfx_3C_normal.jpg', 'profile_image_url_https': 'https://pbs.twimg.com/profile_images/1322150556853415937/ZiRfx_3C_normal.jpg', 'profile_banner_url': 'https://pbs.twimg.com/profile_banners/715922912453103616/1604060231', 'profile_link_color': '1DA1F2', 'profile_sidebar_border_color': 'C0DEED', 'profile_sidebar_fill_color': 'DDEEF6', 'profile_text_color': '333333', 'profile_use_background_image': True, 'has_extended_profile': True, 'default_profile': True, 'default_profile_image': False, 'following': False, 'follow_request_sent': False, 'notifications': False, 'translator_type': 'none'}, id=715922912453103616, id_str='715922912453103616', name='شازى', screen_name='shazy761', location='', description='\\u200f\\u200f\\u200f\\u200fالآن أنت عادتي ❤💯', url=None, entities={'description': {'urls': []}}, protected=False, followers_count=563, friends_count=561, listed_count=0, created_at=datetime.datetime(2016, 4, 1, 15, 24, 58), favourites_count=14052, utc_offset=None, time_zone=None, geo_enabled=False, verified=False, statuses_count=5435, lang=None, contributors_enabled=False, is_translator=False, is_translation_enabled=False, profile_background_color='F5F8FA', profile_background_image_url=None, profile_background_image_url_https=None, profile_background_tile=False, profile_image_url='http://pbs.twimg.com/profile_images/1322150556853415937/ZiRfx_3C_normal.jpg', profile_image_url_https='https://pbs.twimg.com/profile_images/1322150556853415937/ZiRfx_3C_normal.jpg', profile_banner_url='https://pbs.twimg.com/profile_banners/715922912453103616/1604060231', profile_link_color='1DA1F2', profile_sidebar_border_color='C0DEED', profile_sidebar_fill_color='DDEEF6', profile_text_color='333333', profile_use_background_image=True, has_extended_profile=True, default_profile=True, default_profile_image=False, following=False, follow_request_sent=False, notifications=False, translator_type='none'), user=User(_api=<tweepy.api.API object at 0x7f6fe7a7ea20>, _json={'id': 715922912453103616, 'id_str': '715922912453103616', 'name': 'شازى', 'screen_name': 'shazy761', 'location': '', 'description': '\\u200f\\u200f\\u200f\\u200fالآن أنت عادتي ❤💯', 'url': None, 'entities': {'description': {'urls': []}}, 'protected': False, 'followers_count': 563, 'friends_count': 561, 'listed_count': 0, 'created_at': 'Fri Apr 01 15:24:58 +0000 2016', 'favourites_count': 14052, 'utc_offset': None, 'time_zone': None, 'geo_enabled': False, 'verified': False, 'statuses_count': 5435, 'lang': None, 'contributors_enabled': False, 'is_translator': False, 'is_translation_enabled': False, 'profile_background_color': 'F5F8FA', 'profile_background_image_url': None, 'profile_background_image_url_https': None, 'profile_background_tile': False, 'profile_image_url': 'http://pbs.twimg.com/profile_images/1322150556853415937/ZiRfx_3C_normal.jpg', 'profile_image_url_https': 'https://pbs.twimg.com/profile_images/1322150556853415937/ZiRfx_3C_normal.jpg', 'profile_banner_url': 'https://pbs.twimg.com/profile_banners/715922912453103616/1604060231', 'profile_link_color': '1DA1F2', 'profile_sidebar_border_color': 'C0DEED', 'profile_sidebar_fill_color': 'DDEEF6', 'profile_text_color': '333333', 'profile_use_background_image': True, 'has_extended_profile': True, 'default_profile': True, 'default_profile_image': False, 'following': False, 'follow_request_sent': False, 'notifications': False, 'translator_type': 'none'}, id=715922912453103616, id_str='715922912453103616', name='شازى', screen_name='shazy761', location='', description='\\u200f\\u200f\\u200f\\u200fالآن أنت عادتي ❤💯', url=None, entities={'description': {'urls': []}}, protected=False, followers_count=563, friends_count=561, listed_count=0, created_at=datetime.datetime(2016, 4, 1, 15, 24, 58), favourites_count=14052, utc_offset=None, time_zone=None, geo_enabled=False, verified=False, statuses_count=5435, lang=None, contributors_enabled=False, is_translator=False, is_translation_enabled=False, profile_background_color='F5F8FA', profile_background_image_url=None, profile_background_image_url_https=None, profile_background_tile=False, profile_image_url='http://pbs.twimg.com/profile_images/1322150556853415937/ZiRfx_3C_normal.jpg', profile_image_url_https='https://pbs.twimg.com/profile_images/1322150556853415937/ZiRfx_3C_normal.jpg', profile_banner_url='https://pbs.twimg.com/profile_banners/715922912453103616/1604060231', profile_link_color='1DA1F2', profile_sidebar_border_color='C0DEED', profile_sidebar_fill_color='DDEEF6', profile_text_color='333333', profile_use_background_image=True, has_extended_profile=True, default_profile=True, default_profile_image=False, following=False, follow_request_sent=False, notifications=False, translator_type='none'), geo=None, coordinates=None, place=None, contributors=None, is_quote_status=False, retweet_count=0, favorite_count=0, favorited=False, retweeted=False, lang='en') \n",
            "\n",
            ".....................................\n",
            "\n"
          ],
          "name": "stdout"
        }
      ]
    },
    {
      "cell_type": "markdown",
      "metadata": {
        "id": "QZyTvHkB-zX-"
      },
      "source": [
        "#Get the tweets and some Attributes"
      ]
    },
    {
      "cell_type": "code",
      "metadata": {
        "id": "uHlU8mf8-z9m",
        "outputId": "04ea47eb-c2d2-4520-9058-4d2d06429cdd",
        "colab": {
          "base_uri": "https://localhost:8080/"
        }
      },
      "source": [
        "df = pd.DataFrame(columns = ['Tweets' , 'User' , 'User_statuses_count' , \n",
        "                            'user_followers' , 'User_location' , 'User_verified' ,\n",
        "                            'fav_count' , 'rt_count' , 'tweet_date'] )\n",
        "print(df)\n",
        "# print(df.shape)"
      ],
      "execution_count": null,
      "outputs": [
        {
          "output_type": "stream",
          "text": [
            "Empty DataFrame\n",
            "Columns: [Tweets, User, User_statuses_count, user_followers, User_location, User_verified, fav_count, rt_count, tweet_date]\n",
            "Index: []\n"
          ],
          "name": "stdout"
        }
      ]
    },
    {
      "cell_type": "code",
      "metadata": {
        "id": "zsS9aNuv-4ke"
      },
      "source": [
        "def stream(data, file_name):\n",
        "    i = 0\n",
        "    for tweet in tweepy.Cursor(api.search, q=data, count=100, lang='en').items():\n",
        "        print(i, end='\\r')\n",
        "        df.loc[i, 'Tweets'] = tweet.text\n",
        "        df.loc[i, 'User'] = tweet.user.name\n",
        "        df.loc[i, 'User_statuses_count'] = tweet.user.statuses_count\n",
        "        df.loc[i, 'user_followers'] = tweet.user.followers_count\n",
        "        df.loc[i, 'User_location'] = tweet.user.location\n",
        "        df.loc[i, 'User_verified'] = tweet.user.verified\n",
        "        df.loc[i, 'fav_count'] = tweet.favorite_count\n",
        "        df.loc[i, 'rt_count'] = tweet.retweet_count\n",
        "        df.loc[i, 'tweet_date'] = tweet.created_at\n",
        "        df.to_excel('{}.xlsx'.format(file_name))\n",
        "        i = i+1\n",
        "        if i == 1000:\n",
        "            break\n",
        "        else:\n",
        "            pass"
      ],
      "execution_count": null,
      "outputs": []
    },
    {
      "cell_type": "code",
      "metadata": {
        "id": "pQb5R496--CO",
        "outputId": "2890e7ea-8aee-4a70-d743-a5746415dd5f",
        "colab": {
          "base_uri": "https://localhost:8080/"
        }
      },
      "source": [
        "stream(data=[\"RCB winning IPL\"] , file_name='my_tweets')"
      ],
      "execution_count": null,
      "outputs": [
        {
          "output_type": "stream",
          "text": [
            ""
          ],
          "name": "stdout"
        }
      ]
    },
    {
      "cell_type": "code",
      "metadata": {
        "id": "njNajHW9_Mpg",
        "outputId": "b7a8ccfd-f7a3-4305-ae98-07c79fe43894",
        "colab": {
          "base_uri": "https://localhost:8080/",
          "height": 289
        }
      },
      "source": [
        "df.head()"
      ],
      "execution_count": null,
      "outputs": [
        {
          "output_type": "execute_result",
          "data": {
            "text/html": [
              "<div>\n",
              "<style scoped>\n",
              "    .dataframe tbody tr th:only-of-type {\n",
              "        vertical-align: middle;\n",
              "    }\n",
              "\n",
              "    .dataframe tbody tr th {\n",
              "        vertical-align: top;\n",
              "    }\n",
              "\n",
              "    .dataframe thead th {\n",
              "        text-align: right;\n",
              "    }\n",
              "</style>\n",
              "<table border=\"1\" class=\"dataframe\">\n",
              "  <thead>\n",
              "    <tr style=\"text-align: right;\">\n",
              "      <th></th>\n",
              "      <th>Tweets</th>\n",
              "      <th>User</th>\n",
              "      <th>User_statuses_count</th>\n",
              "      <th>user_followers</th>\n",
              "      <th>User_location</th>\n",
              "      <th>User_verified</th>\n",
              "      <th>fav_count</th>\n",
              "      <th>rt_count</th>\n",
              "      <th>tweet_date</th>\n",
              "    </tr>\n",
              "  </thead>\n",
              "  <tbody>\n",
              "    <tr>\n",
              "      <th>0</th>\n",
              "      <td>@Underta54955802 @AbdPakku @Viratkohli18f_c @I...</td>\n",
              "      <td>ssngage</td>\n",
              "      <td>177</td>\n",
              "      <td>0</td>\n",
              "      <td></td>\n",
              "      <td>False</td>\n",
              "      <td>1</td>\n",
              "      <td>0</td>\n",
              "      <td>2020-11-02 20:29:44</td>\n",
              "    </tr>\n",
              "    <tr>\n",
              "      <th>1</th>\n",
              "      <td>I will be really surprised to see @mipaltan\\n ...</td>\n",
              "      <td>Sreek_kiran_CRIC</td>\n",
              "      <td>544</td>\n",
              "      <td>78</td>\n",
              "      <td>Dresden, Germany</td>\n",
              "      <td>False</td>\n",
              "      <td>3</td>\n",
              "      <td>0</td>\n",
              "      <td>2020-11-02 19:52:00</td>\n",
              "    </tr>\n",
              "    <tr>\n",
              "      <th>2</th>\n",
              "      <td>Anyways defeating MI twice in playoffs to win ...</td>\n",
              "      <td>Adam Griffith⚪(Gendbaazi Shikshak)</td>\n",
              "      <td>1037</td>\n",
              "      <td>66</td>\n",
              "      <td>Chinnaswamy Stadium</td>\n",
              "      <td>False</td>\n",
              "      <td>5</td>\n",
              "      <td>0</td>\n",
              "      <td>2020-11-02 19:04:03</td>\n",
              "    </tr>\n",
              "    <tr>\n",
              "      <th>3</th>\n",
              "      <td>@Shreya_V21 @DebilitatinShit And MI is winning...</td>\n",
              "      <td>Maybe</td>\n",
              "      <td>868</td>\n",
              "      <td>114</td>\n",
              "      <td></td>\n",
              "      <td>False</td>\n",
              "      <td>0</td>\n",
              "      <td>0</td>\n",
              "      <td>2020-11-02 19:03:57</td>\n",
              "    </tr>\n",
              "    <tr>\n",
              "      <th>4</th>\n",
              "      <td>#IPL2020 #SRHvMI | MI Predicted XI against SRH...</td>\n",
              "      <td>HT Sports</td>\n",
              "      <td>111487</td>\n",
              "      <td>101406</td>\n",
              "      <td>India</td>\n",
              "      <td>True</td>\n",
              "      <td>2</td>\n",
              "      <td>0</td>\n",
              "      <td>2020-11-02 18:54:37</td>\n",
              "    </tr>\n",
              "  </tbody>\n",
              "</table>\n",
              "</div>"
            ],
            "text/plain": [
              "                                              Tweets  ...           tweet_date\n",
              "0  @Underta54955802 @AbdPakku @Viratkohli18f_c @I...  ...  2020-11-02 20:29:44\n",
              "1  I will be really surprised to see @mipaltan\\n ...  ...  2020-11-02 19:52:00\n",
              "2  Anyways defeating MI twice in playoffs to win ...  ...  2020-11-02 19:04:03\n",
              "3  @Shreya_V21 @DebilitatinShit And MI is winning...  ...  2020-11-02 19:03:57\n",
              "4  #IPL2020 #SRHvMI | MI Predicted XI against SRH...  ...  2020-11-02 18:54:37\n",
              "\n",
              "[5 rows x 9 columns]"
            ]
          },
          "metadata": {
            "tags": []
          },
          "execution_count": 14
        }
      ]
    },
    {
      "cell_type": "code",
      "metadata": {
        "id": "MjgLWruLAbP6",
        "outputId": "04ea706f-7d28-4320-e91e-4b5bcf35991c",
        "colab": {
          "base_uri": "https://localhost:8080/"
        }
      },
      "source": [
        "!pip install textblob"
      ],
      "execution_count": null,
      "outputs": [
        {
          "output_type": "stream",
          "text": [
            "Requirement already satisfied: textblob in /usr/local/lib/python3.6/dist-packages (0.15.3)\n",
            "Requirement already satisfied: nltk>=3.1 in /usr/local/lib/python3.6/dist-packages (from textblob) (3.2.5)\n",
            "Requirement already satisfied: six in /usr/local/lib/python3.6/dist-packages (from nltk>=3.1->textblob) (1.15.0)\n"
          ],
          "name": "stdout"
        }
      ]
    },
    {
      "cell_type": "markdown",
      "metadata": {
        "id": "bkG2CPhuBGyf"
      },
      "source": [
        "Sentiment(polarity, subjectivity)\n",
        "\n",
        "Polarity score: [-1 , +1]\n",
        "\n",
        "Subjectivity: [0.0 , 1.0] \n",
        "where 0.0 is very Objective and 1.0 is very Subjective."
      ]
    },
    {
      "cell_type": "code",
      "metadata": {
        "id": "F_3t70TIBKqe"
      },
      "source": [
        "from textblob import TextBlob"
      ],
      "execution_count": 21,
      "outputs": []
    },
    {
      "cell_type": "code",
      "metadata": {
        "id": "APuK564lBTx2"
      },
      "source": [
        "import re\n",
        "def clean_tweet(tweet):\n",
        "    return ' '.join(re.sub('(@[A-Za-z0-9]+)|([^0-9A-Za-z \\t])|(\\w+:\\/\\/\\S+)', ' ', tweet).split())"
      ],
      "execution_count": 22,
      "outputs": []
    },
    {
      "cell_type": "code",
      "metadata": {
        "id": "BoE5tIkMBUZn"
      },
      "source": [
        "def analyze_sentiment(tweet):\n",
        "    analysis = TextBlob(tweet)\n",
        "    if analysis.sentiment.polarity > 0:\n",
        "        return 'Positive'\n",
        "    elif analysis.sentiment.polarity == 0:\n",
        "        return 'Neutral'\n",
        "    else:\n",
        "        return 'Negative'"
      ],
      "execution_count": 23,
      "outputs": []
    },
    {
      "cell_type": "code",
      "metadata": {
        "id": "9xhuqLHHBWBh"
      },
      "source": [
        "df['clean_tweet'] = df['Tweets'].apply(lambda x : clean_tweet(x))"
      ],
      "execution_count": null,
      "outputs": []
    },
    {
      "cell_type": "code",
      "metadata": {
        "id": "7zpLzJ8ABYq4",
        "outputId": "9fa39a7d-d1b7-4cfb-b6bc-8806bc9da241",
        "colab": {
          "base_uri": "https://localhost:8080/",
          "height": 493
        }
      },
      "source": [
        "df.head()"
      ],
      "execution_count": 25,
      "outputs": [
        {
          "output_type": "execute_result",
          "data": {
            "text/html": [
              "<div>\n",
              "<style scoped>\n",
              "    .dataframe tbody tr th:only-of-type {\n",
              "        vertical-align: middle;\n",
              "    }\n",
              "\n",
              "    .dataframe tbody tr th {\n",
              "        vertical-align: top;\n",
              "    }\n",
              "\n",
              "    .dataframe thead th {\n",
              "        text-align: right;\n",
              "    }\n",
              "</style>\n",
              "<table border=\"1\" class=\"dataframe\">\n",
              "  <thead>\n",
              "    <tr style=\"text-align: right;\">\n",
              "      <th></th>\n",
              "      <th>Tweets</th>\n",
              "      <th>User</th>\n",
              "      <th>User_statuses_count</th>\n",
              "      <th>user_followers</th>\n",
              "      <th>User_location</th>\n",
              "      <th>User_verified</th>\n",
              "      <th>fav_count</th>\n",
              "      <th>rt_count</th>\n",
              "      <th>tweet_date</th>\n",
              "      <th>clean_tweet</th>\n",
              "    </tr>\n",
              "  </thead>\n",
              "  <tbody>\n",
              "    <tr>\n",
              "      <th>0</th>\n",
              "      <td>#RCB please release #ABD, he deserves to be a ...</td>\n",
              "      <td>Rohit yadav</td>\n",
              "      <td>57</td>\n",
              "      <td>4</td>\n",
              "      <td></td>\n",
              "      <td>False</td>\n",
              "      <td>0</td>\n",
              "      <td>0</td>\n",
              "      <td>2020-11-02 21:21:54</td>\n",
              "      <td>RCB please release ABD he deserves to be a par...</td>\n",
              "    </tr>\n",
              "    <tr>\n",
              "      <th>1</th>\n",
              "      <td>@Underta54955802 @AbdPakku @Viratkohli18f_c @I...</td>\n",
              "      <td>ssngage</td>\n",
              "      <td>177</td>\n",
              "      <td>0</td>\n",
              "      <td></td>\n",
              "      <td>False</td>\n",
              "      <td>1</td>\n",
              "      <td>0</td>\n",
              "      <td>2020-11-02 20:29:44</td>\n",
              "      <td>c Really That s why his winning is more than a...</td>\n",
              "    </tr>\n",
              "    <tr>\n",
              "      <th>2</th>\n",
              "      <td>@ThorOffl @stranger2898 Devdutta\\nMoeen\\nVirat...</td>\n",
              "      <td>🆆🆁🅾🅽🅶 🆃🆄🆁🅽༒</td>\n",
              "      <td>14477</td>\n",
              "      <td>178</td>\n",
              "      <td></td>\n",
              "      <td>False</td>\n",
              "      <td>2</td>\n",
              "      <td>0</td>\n",
              "      <td>2020-11-02 20:13:22</td>\n",
              "      <td>Devdutta Moeen Virat Finch Abd Dube Morris Sun...</td>\n",
              "    </tr>\n",
              "    <tr>\n",
              "      <th>3</th>\n",
              "      <td>@imVkohli @RCBTweets We r so happy that u qual...</td>\n",
              "      <td>Shamiya Shami Iraqui</td>\n",
              "      <td>194</td>\n",
              "      <td>27</td>\n",
              "      <td>India</td>\n",
              "      <td>False</td>\n",
              "      <td>0</td>\n",
              "      <td>0</td>\n",
              "      <td>2020-11-02 19:08:40</td>\n",
              "      <td>We r so happy that u qualified but we didn t e...</td>\n",
              "    </tr>\n",
              "    <tr>\n",
              "      <th>4</th>\n",
              "      <td>I don't have much to live. My last wish is to ...</td>\n",
              "      <td>Mufaddal Johns</td>\n",
              "      <td>48</td>\n",
              "      <td>3</td>\n",
              "      <td></td>\n",
              "      <td>False</td>\n",
              "      <td>0</td>\n",
              "      <td>0</td>\n",
              "      <td>2020-11-02 19:01:40</td>\n",
              "      <td>I don t have much to live My last wish is to s...</td>\n",
              "    </tr>\n",
              "  </tbody>\n",
              "</table>\n",
              "</div>"
            ],
            "text/plain": [
              "                                              Tweets  ...                                        clean_tweet\n",
              "0  #RCB please release #ABD, he deserves to be a ...  ...  RCB please release ABD he deserves to be a par...\n",
              "1  @Underta54955802 @AbdPakku @Viratkohli18f_c @I...  ...  c Really That s why his winning is more than a...\n",
              "2  @ThorOffl @stranger2898 Devdutta\\nMoeen\\nVirat...  ...  Devdutta Moeen Virat Finch Abd Dube Morris Sun...\n",
              "3  @imVkohli @RCBTweets We r so happy that u qual...  ...  We r so happy that u qualified but we didn t e...\n",
              "4  I don't have much to live. My last wish is to ...  ...  I don t have much to live My last wish is to s...\n",
              "\n",
              "[5 rows x 10 columns]"
            ]
          },
          "metadata": {
            "tags": []
          },
          "execution_count": 25
        }
      ]
    },
    {
      "cell_type": "code",
      "metadata": {
        "id": "tCHqHVq2BbcO",
        "outputId": "1172a969-2c2e-42fa-a6a6-43b48f69d04c",
        "colab": {
          "base_uri": "https://localhost:8080/",
          "height": 493
        }
      },
      "source": [
        "df['Sentiment'] = df['clean_tweet'].apply(lambda x : analyze_sentiment(x) )\n",
        "df.head()"
      ],
      "execution_count": 26,
      "outputs": [
        {
          "output_type": "execute_result",
          "data": {
            "text/html": [
              "<div>\n",
              "<style scoped>\n",
              "    .dataframe tbody tr th:only-of-type {\n",
              "        vertical-align: middle;\n",
              "    }\n",
              "\n",
              "    .dataframe tbody tr th {\n",
              "        vertical-align: top;\n",
              "    }\n",
              "\n",
              "    .dataframe thead th {\n",
              "        text-align: right;\n",
              "    }\n",
              "</style>\n",
              "<table border=\"1\" class=\"dataframe\">\n",
              "  <thead>\n",
              "    <tr style=\"text-align: right;\">\n",
              "      <th></th>\n",
              "      <th>Tweets</th>\n",
              "      <th>User</th>\n",
              "      <th>User_statuses_count</th>\n",
              "      <th>user_followers</th>\n",
              "      <th>User_location</th>\n",
              "      <th>User_verified</th>\n",
              "      <th>fav_count</th>\n",
              "      <th>rt_count</th>\n",
              "      <th>tweet_date</th>\n",
              "      <th>clean_tweet</th>\n",
              "      <th>Sentiment</th>\n",
              "    </tr>\n",
              "  </thead>\n",
              "  <tbody>\n",
              "    <tr>\n",
              "      <th>0</th>\n",
              "      <td>#RCB please release #ABD, he deserves to be a ...</td>\n",
              "      <td>Rohit yadav</td>\n",
              "      <td>57</td>\n",
              "      <td>4</td>\n",
              "      <td></td>\n",
              "      <td>False</td>\n",
              "      <td>0</td>\n",
              "      <td>0</td>\n",
              "      <td>2020-11-02 21:21:54</td>\n",
              "      <td>RCB please release ABD he deserves to be a par...</td>\n",
              "      <td>Positive</td>\n",
              "    </tr>\n",
              "    <tr>\n",
              "      <th>1</th>\n",
              "      <td>@Underta54955802 @AbdPakku @Viratkohli18f_c @I...</td>\n",
              "      <td>ssngage</td>\n",
              "      <td>177</td>\n",
              "      <td>0</td>\n",
              "      <td></td>\n",
              "      <td>False</td>\n",
              "      <td>1</td>\n",
              "      <td>0</td>\n",
              "      <td>2020-11-02 20:29:44</td>\n",
              "      <td>c Really That s why his winning is more than a...</td>\n",
              "      <td>Positive</td>\n",
              "    </tr>\n",
              "    <tr>\n",
              "      <th>2</th>\n",
              "      <td>@ThorOffl @stranger2898 Devdutta\\nMoeen\\nVirat...</td>\n",
              "      <td>🆆🆁🅾🅽🅶 🆃🆄🆁🅽༒</td>\n",
              "      <td>14477</td>\n",
              "      <td>178</td>\n",
              "      <td></td>\n",
              "      <td>False</td>\n",
              "      <td>2</td>\n",
              "      <td>0</td>\n",
              "      <td>2020-11-02 20:13:22</td>\n",
              "      <td>Devdutta Moeen Virat Finch Abd Dube Morris Sun...</td>\n",
              "      <td>Positive</td>\n",
              "    </tr>\n",
              "    <tr>\n",
              "      <th>3</th>\n",
              "      <td>@imVkohli @RCBTweets We r so happy that u qual...</td>\n",
              "      <td>Shamiya Shami Iraqui</td>\n",
              "      <td>194</td>\n",
              "      <td>27</td>\n",
              "      <td>India</td>\n",
              "      <td>False</td>\n",
              "      <td>0</td>\n",
              "      <td>0</td>\n",
              "      <td>2020-11-02 19:08:40</td>\n",
              "      <td>We r so happy that u qualified but we didn t e...</td>\n",
              "      <td>Positive</td>\n",
              "    </tr>\n",
              "    <tr>\n",
              "      <th>4</th>\n",
              "      <td>I don't have much to live. My last wish is to ...</td>\n",
              "      <td>Mufaddal Johns</td>\n",
              "      <td>48</td>\n",
              "      <td>3</td>\n",
              "      <td></td>\n",
              "      <td>False</td>\n",
              "      <td>0</td>\n",
              "      <td>0</td>\n",
              "      <td>2020-11-02 19:01:40</td>\n",
              "      <td>I don t have much to live My last wish is to s...</td>\n",
              "      <td>Positive</td>\n",
              "    </tr>\n",
              "  </tbody>\n",
              "</table>\n",
              "</div>"
            ],
            "text/plain": [
              "                                              Tweets  ... Sentiment\n",
              "0  #RCB please release #ABD, he deserves to be a ...  ...  Positive\n",
              "1  @Underta54955802 @AbdPakku @Viratkohli18f_c @I...  ...  Positive\n",
              "2  @ThorOffl @stranger2898 Devdutta\\nMoeen\\nVirat...  ...  Positive\n",
              "3  @imVkohli @RCBTweets We r so happy that u qual...  ...  Positive\n",
              "4  I don't have much to live. My last wish is to ...  ...  Positive\n",
              "\n",
              "[5 rows x 11 columns]"
            ]
          },
          "metadata": {
            "tags": []
          },
          "execution_count": 26
        }
      ]
    },
    {
      "cell_type": "code",
      "metadata": {
        "id": "zcZKvKPrBdiP",
        "outputId": "4dd77049-19fe-4bca-8fa8-a7b428ca48fd",
        "colab": {
          "base_uri": "https://localhost:8080/"
        }
      },
      "source": [
        "n = 1\n",
        "print(\"Original tweet:\\n\",df['Tweets'][n])\n",
        "print()\n",
        "print(\"Clean tweet:\\n\",df['clean_tweet'][n])\n",
        "print()\n",
        "print(\"Sentiment of the tweet:\\n\",df['Sentiment'][n])"
      ],
      "execution_count": 27,
      "outputs": [
        {
          "output_type": "stream",
          "text": [
            "Original tweet:\n",
            " @Underta54955802 @AbdPakku @Viratkohli18f_c @IPL Really? That's why his winning % is more than any other Indian cap… https://t.co/vu4Vj01dyZ\n",
            "\n",
            "Clean tweet:\n",
            " c Really That s why his winning is more than any other Indian cap\n",
            "\n",
            "Sentiment of the tweet:\n",
            " Positive\n"
          ],
          "name": "stdout"
        }
      ]
    },
    {
      "cell_type": "code",
      "metadata": {
        "id": "ub3-cKVMBgYH",
        "outputId": "ab77be12-84af-4ca9-bab7-38e0851b27e3",
        "colab": {
          "base_uri": "https://localhost:8080/"
        }
      },
      "source": [
        "n = 20\n",
        "print(\"Original tweet:\\n\",df['Tweets'][n])\n",
        "print()\n",
        "print(\"Clean tweet:\\n\",df['clean_tweet'][n])\n",
        "print()\n",
        "print(\"Sentiment of the tweet:\\n\",df['Sentiment'][n])"
      ],
      "execution_count": 28,
      "outputs": [
        {
          "output_type": "stream",
          "text": [
            "Original tweet:\n",
            " I was supporting RCB to win this match. And I also knew RCB is gonna win this year's IPL trophy.\n",
            "\n",
            "But this \"win\" wi… https://t.co/kmmnZ72DU2\n",
            "\n",
            "Clean tweet:\n",
            " I was supporting RCB to win this match And I also knew RCB is gonna win this year s IPL trophy But this win wi\n",
            "\n",
            "Sentiment of the tweet:\n",
            " Positive\n"
          ],
          "name": "stdout"
        }
      ]
    },
    {
      "cell_type": "code",
      "metadata": {
        "id": "XT3L7f9XBg0e",
        "outputId": "291004ba-7a0c-4fdd-8fb5-e2453342f2c6",
        "colab": {
          "base_uri": "https://localhost:8080/"
        }
      },
      "source": [
        "n = 203\n",
        "print(\"Original tweet:\\n\",df['Tweets'][n])\n",
        "print()\n",
        "print(\"Clean tweet:\\n\",df['clean_tweet'][n])\n",
        "print()\n",
        "print(\"Sentiment of the tweet:\\n\",df['Sentiment'][n])"
      ],
      "execution_count": 29,
      "outputs": [
        {
          "output_type": "stream",
          "text": [
            "Original tweet:\n",
            " RT @desi_bhayo88: #SRHvsRCB \n",
            "No one\n",
            "\n",
            "Le RCB fans every year after losing the hope of winning the ipl https://t.co/OfmFHgvysI\n",
            "\n",
            "Clean tweet:\n",
            " RT bhayo88 SRHvsRCB No one Le RCB fans every year after losing the hope of winning the ipl\n",
            "\n",
            "Sentiment of the tweet:\n",
            " Positive\n"
          ],
          "name": "stdout"
        }
      ]
    },
    {
      "cell_type": "code",
      "metadata": {
        "id": "LPi1XCP5BiiW",
        "outputId": "4600c592-3db1-4383-a6be-ddb382ba1f9a",
        "colab": {
          "base_uri": "https://localhost:8080/"
        }
      },
      "source": [
        "df[df.Sentiment == 'Positive'].shape[0]"
      ],
      "execution_count": 30,
      "outputs": [
        {
          "output_type": "execute_result",
          "data": {
            "text/plain": [
              "945"
            ]
          },
          "metadata": {
            "tags": []
          },
          "execution_count": 30
        }
      ]
    },
    {
      "cell_type": "code",
      "metadata": {
        "id": "q4j0yVCvBkXt",
        "outputId": "ea94c753-66cf-41e8-ec0b-244d92b32608",
        "colab": {
          "base_uri": "https://localhost:8080/"
        }
      },
      "source": [
        "df[df.Sentiment == 'Neutral'].shape[0]"
      ],
      "execution_count": 31,
      "outputs": [
        {
          "output_type": "execute_result",
          "data": {
            "text/plain": [
              "22"
            ]
          },
          "metadata": {
            "tags": []
          },
          "execution_count": 31
        }
      ]
    },
    {
      "cell_type": "code",
      "metadata": {
        "id": "SgN4oCcaBmau",
        "outputId": "87563ad1-07dd-4f5b-a5e1-2c1744aea027",
        "colab": {
          "base_uri": "https://localhost:8080/"
        }
      },
      "source": [
        "df[df.Sentiment == 'Negative'].shape[0]"
      ],
      "execution_count": 32,
      "outputs": [
        {
          "output_type": "execute_result",
          "data": {
            "text/plain": [
              "33"
            ]
          },
          "metadata": {
            "tags": []
          },
          "execution_count": 32
        }
      ]
    }
  ]
}