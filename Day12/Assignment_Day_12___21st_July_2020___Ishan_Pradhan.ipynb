{
  "nbformat": 4,
  "nbformat_minor": 0,
  "metadata": {
    "colab": {
      "name": "Assignment Day 12 | 21st July 2020 | Ishan Pradhan.ipynb",
      "provenance": [],
      "collapsed_sections": []
    },
    "kernelspec": {
      "name": "python3",
      "display_name": "Python 3"
    }
  },
  "cells": [
    {
      "cell_type": "code",
      "metadata": {
        "id": "2IMOXekQBrUL",
        "colab_type": "code",
        "colab": {}
      },
      "source": [
        "import pandas as pd\n",
        "from scipy.stats import pearsonr, chi2_contingency, wilcoxon, friedmanchisquare, mannwhitneyu\n",
        "from scipy.stats import kruskal, ttest_1samp, ttest_rel, ttest_ind"
      ],
      "execution_count": null,
      "outputs": []
    },
    {
      "cell_type": "code",
      "metadata": {
        "id": "ST_RZpvRC8lh",
        "colab_type": "code",
        "colab": {}
      },
      "source": [
        "df = pd.read_csv('general_data.csv')"
      ],
      "execution_count": null,
      "outputs": []
    },
    {
      "cell_type": "code",
      "metadata": {
        "id": "GTxn50GsDEWW",
        "colab_type": "code",
        "colab": {}
      },
      "source": [
        "df = df.dropna(axis=0)"
      ],
      "execution_count": null,
      "outputs": []
    },
    {
      "cell_type": "code",
      "metadata": {
        "id": "2ONN_6K_DGwO",
        "colab_type": "code",
        "colab": {}
      },
      "source": [
        "df.Attrition = df.Attrition.replace(['Yes','No'],[0,1])"
      ],
      "execution_count": null,
      "outputs": []
    },
    {
      "cell_type": "code",
      "metadata": {
        "id": "EIp6V8AyDIzc",
        "colab_type": "code",
        "colab": {}
      },
      "source": [
        "df1 = df[['Attrition','Age','DistanceFromHome','Education','JobLevel','MonthlyIncome','PercentSalaryHike','StandardHours','StockOptionLevel','TrainingTimesLastYear','YearsAtCompany','YearsSinceLastPromotion','YearsWithCurrManager']]"
      ],
      "execution_count": null,
      "outputs": []
    },
    {
      "cell_type": "code",
      "metadata": {
        "id": "9Wm4_Jg8DLUe",
        "colab_type": "code",
        "colab": {}
      },
      "source": [
        "df2 = df1[['Age','DistanceFromHome','Education','JobLevel','MonthlyIncome','PercentSalaryHike','StandardHours','StockOptionLevel','TrainingTimesLastYear','YearsAtCompany','YearsSinceLastPromotion','YearsWithCurrManager']]"
      ],
      "execution_count": null,
      "outputs": []
    },
    {
      "cell_type": "code",
      "metadata": {
        "id": "jzIEMbEDDLwu",
        "colab_type": "code",
        "colab": {
          "base_uri": "https://localhost:8080/",
          "height": 714
        },
        "outputId": "aba18145-947b-417d-fdfc-ebaa22e7ae2d"
      },
      "source": [
        "display(df1.info())\n",
        "display(df2.info())"
      ],
      "execution_count": null,
      "outputs": [
        {
          "output_type": "stream",
          "text": [
            "<class 'pandas.core.frame.DataFrame'>\n",
            "Int64Index: 4382 entries, 0 to 4408\n",
            "Data columns (total 13 columns):\n",
            " #   Column                   Non-Null Count  Dtype\n",
            "---  ------                   --------------  -----\n",
            " 0   Attrition                4382 non-null   int64\n",
            " 1   Age                      4382 non-null   int64\n",
            " 2   DistanceFromHome         4382 non-null   int64\n",
            " 3   Education                4382 non-null   int64\n",
            " 4   JobLevel                 4382 non-null   int64\n",
            " 5   MonthlyIncome            4382 non-null   int64\n",
            " 6   PercentSalaryHike        4382 non-null   int64\n",
            " 7   StandardHours            4382 non-null   int64\n",
            " 8   StockOptionLevel         4382 non-null   int64\n",
            " 9   TrainingTimesLastYear    4382 non-null   int64\n",
            " 10  YearsAtCompany           4382 non-null   int64\n",
            " 11  YearsSinceLastPromotion  4382 non-null   int64\n",
            " 12  YearsWithCurrManager     4382 non-null   int64\n",
            "dtypes: int64(13)\n",
            "memory usage: 479.3 KB\n"
          ],
          "name": "stdout"
        },
        {
          "output_type": "display_data",
          "data": {
            "text/plain": [
              "None"
            ]
          },
          "metadata": {
            "tags": []
          }
        },
        {
          "output_type": "stream",
          "text": [
            "<class 'pandas.core.frame.DataFrame'>\n",
            "Int64Index: 4382 entries, 0 to 4408\n",
            "Data columns (total 12 columns):\n",
            " #   Column                   Non-Null Count  Dtype\n",
            "---  ------                   --------------  -----\n",
            " 0   Age                      4382 non-null   int64\n",
            " 1   DistanceFromHome         4382 non-null   int64\n",
            " 2   Education                4382 non-null   int64\n",
            " 3   JobLevel                 4382 non-null   int64\n",
            " 4   MonthlyIncome            4382 non-null   int64\n",
            " 5   PercentSalaryHike        4382 non-null   int64\n",
            " 6   StandardHours            4382 non-null   int64\n",
            " 7   StockOptionLevel         4382 non-null   int64\n",
            " 8   TrainingTimesLastYear    4382 non-null   int64\n",
            " 9   YearsAtCompany           4382 non-null   int64\n",
            " 10  YearsSinceLastPromotion  4382 non-null   int64\n",
            " 11  YearsWithCurrManager     4382 non-null   int64\n",
            "dtypes: int64(12)\n",
            "memory usage: 445.0 KB\n"
          ],
          "name": "stdout"
        },
        {
          "output_type": "display_data",
          "data": {
            "text/plain": [
              "None"
            ]
          },
          "metadata": {
            "tags": []
          }
        }
      ]
    },
    {
      "cell_type": "code",
      "metadata": {
        "id": "DJyHrS--DL2I",
        "colab_type": "code",
        "colab": {
          "base_uri": "https://localhost:8080/",
          "height": 238
        },
        "outputId": "8d29fe65-4f8a-4db1-9aa2-6d5330f03456"
      },
      "source": [
        "mean = df2.mean()\n",
        "mean"
      ],
      "execution_count": null,
      "outputs": [
        {
          "output_type": "execute_result",
          "data": {
            "text/plain": [
              "Age                           36.933364\n",
              "DistanceFromHome               9.198996\n",
              "Education                      2.912369\n",
              "JobLevel                       2.063898\n",
              "MonthlyIncome              65061.702419\n",
              "PercentSalaryHike             15.210634\n",
              "StandardHours                  8.000000\n",
              "StockOptionLevel               0.794614\n",
              "TrainingTimesLastYear          2.798266\n",
              "YearsAtCompany                 7.010497\n",
              "YearsSinceLastPromotion        2.191693\n",
              "YearsWithCurrManager           4.126198\n",
              "dtype: float64"
            ]
          },
          "metadata": {
            "tags": []
          },
          "execution_count": 9
        }
      ]
    },
    {
      "cell_type": "code",
      "metadata": {
        "id": "c-Qr5qDpDL4t",
        "colab_type": "code",
        "colab": {
          "base_uri": "https://localhost:8080/",
          "height": 238
        },
        "outputId": "061ffe3a-b86b-4c69-ce96-b0deb88aa5f2"
      },
      "source": [
        "median = df2.median()\n",
        "median"
      ],
      "execution_count": null,
      "outputs": [
        {
          "output_type": "execute_result",
          "data": {
            "text/plain": [
              "Age                           36.0\n",
              "DistanceFromHome               7.0\n",
              "Education                      3.0\n",
              "JobLevel                       2.0\n",
              "MonthlyIncome              49190.0\n",
              "PercentSalaryHike             14.0\n",
              "StandardHours                  8.0\n",
              "StockOptionLevel               1.0\n",
              "TrainingTimesLastYear          3.0\n",
              "YearsAtCompany                 5.0\n",
              "YearsSinceLastPromotion        1.0\n",
              "YearsWithCurrManager           3.0\n",
              "dtype: float64"
            ]
          },
          "metadata": {
            "tags": []
          },
          "execution_count": 10
        }
      ]
    },
    {
      "cell_type": "code",
      "metadata": {
        "id": "FbtObEtdDL7U",
        "colab_type": "code",
        "colab": {
          "base_uri": "https://localhost:8080/",
          "height": 100
        },
        "outputId": "bf8856b9-f298-486c-c9ab-eca5bd7f5f77"
      },
      "source": [
        "mode = df2.mode()\n",
        "mode"
      ],
      "execution_count": null,
      "outputs": [
        {
          "output_type": "execute_result",
          "data": {
            "text/html": [
              "<div>\n",
              "<style scoped>\n",
              "    .dataframe tbody tr th:only-of-type {\n",
              "        vertical-align: middle;\n",
              "    }\n",
              "\n",
              "    .dataframe tbody tr th {\n",
              "        vertical-align: top;\n",
              "    }\n",
              "\n",
              "    .dataframe thead th {\n",
              "        text-align: right;\n",
              "    }\n",
              "</style>\n",
              "<table border=\"1\" class=\"dataframe\">\n",
              "  <thead>\n",
              "    <tr style=\"text-align: right;\">\n",
              "      <th></th>\n",
              "      <th>Age</th>\n",
              "      <th>DistanceFromHome</th>\n",
              "      <th>Education</th>\n",
              "      <th>JobLevel</th>\n",
              "      <th>MonthlyIncome</th>\n",
              "      <th>PercentSalaryHike</th>\n",
              "      <th>StandardHours</th>\n",
              "      <th>StockOptionLevel</th>\n",
              "      <th>TrainingTimesLastYear</th>\n",
              "      <th>YearsAtCompany</th>\n",
              "      <th>YearsSinceLastPromotion</th>\n",
              "      <th>YearsWithCurrManager</th>\n",
              "    </tr>\n",
              "  </thead>\n",
              "  <tbody>\n",
              "    <tr>\n",
              "      <th>0</th>\n",
              "      <td>35</td>\n",
              "      <td>2</td>\n",
              "      <td>3</td>\n",
              "      <td>1</td>\n",
              "      <td>23420</td>\n",
              "      <td>11</td>\n",
              "      <td>8</td>\n",
              "      <td>0</td>\n",
              "      <td>2</td>\n",
              "      <td>5</td>\n",
              "      <td>0</td>\n",
              "      <td>2</td>\n",
              "    </tr>\n",
              "  </tbody>\n",
              "</table>\n",
              "</div>"
            ],
            "text/plain": [
              "   Age  DistanceFromHome  ...  YearsSinceLastPromotion  YearsWithCurrManager\n",
              "0   35                 2  ...                        0                     2\n",
              "\n",
              "[1 rows x 12 columns]"
            ]
          },
          "metadata": {
            "tags": []
          },
          "execution_count": 11
        }
      ]
    },
    {
      "cell_type": "code",
      "metadata": {
        "id": "UgkLolT-DL9l",
        "colab_type": "code",
        "colab": {
          "base_uri": "https://localhost:8080/",
          "height": 238
        },
        "outputId": "fbaf22e4-f9e8-4b2e-a994-ff8ef3e4ea56"
      },
      "source": [
        "skew = df2.skew()\n",
        "skew"
      ],
      "execution_count": null,
      "outputs": [
        {
          "output_type": "execute_result",
          "data": {
            "text/plain": [
              "Age                        0.413048\n",
              "DistanceFromHome           0.955517\n",
              "Education                 -0.288977\n",
              "JobLevel                   1.021797\n",
              "MonthlyIncome              1.367457\n",
              "PercentSalaryHike          0.819510\n",
              "StandardHours              0.000000\n",
              "StockOptionLevel           0.967263\n",
              "TrainingTimesLastYear      0.551818\n",
              "YearsAtCompany             1.764619\n",
              "YearsSinceLastPromotion    1.980992\n",
              "YearsWithCurrManager       0.834277\n",
              "dtype: float64"
            ]
          },
          "metadata": {
            "tags": []
          },
          "execution_count": 12
        }
      ]
    },
    {
      "cell_type": "code",
      "metadata": {
        "id": "iWlIDKGiDdHt",
        "colab_type": "code",
        "colab": {
          "base_uri": "https://localhost:8080/",
          "height": 238
        },
        "outputId": "c49f3461-b61c-4982-c0d7-b37d5f4d21ec"
      },
      "source": [
        "kurtosis = df2.kurtosis()\n",
        "kurtosis"
      ],
      "execution_count": null,
      "outputs": [
        {
          "output_type": "execute_result",
          "data": {
            "text/plain": [
              "Age                       -0.409517\n",
              "DistanceFromHome          -0.230691\n",
              "Education                 -0.565008\n",
              "JobLevel                   0.388189\n",
              "MonthlyIncome              0.990836\n",
              "PercentSalaryHike         -0.306951\n",
              "StandardHours              0.000000\n",
              "StockOptionLevel           0.356755\n",
              "TrainingTimesLastYear      0.494215\n",
              "YearsAtCompany             3.930726\n",
              "YearsSinceLastPromotion    3.592162\n",
              "YearsWithCurrManager       0.170703\n",
              "dtype: float64"
            ]
          },
          "metadata": {
            "tags": []
          },
          "execution_count": 13
        }
      ]
    },
    {
      "cell_type": "code",
      "metadata": {
        "id": "u4ErIBl_DgHH",
        "colab_type": "code",
        "colab": {
          "base_uri": "https://localhost:8080/",
          "height": 596
        },
        "outputId": "44ca0886-0193-43b6-c185-59475431c118"
      },
      "source": [
        "correlation = df.corr()\n",
        "correlation"
      ],
      "execution_count": null,
      "outputs": [
        {
          "output_type": "execute_result",
          "data": {
            "text/html": [
              "<div>\n",
              "<style scoped>\n",
              "    .dataframe tbody tr th:only-of-type {\n",
              "        vertical-align: middle;\n",
              "    }\n",
              "\n",
              "    .dataframe tbody tr th {\n",
              "        vertical-align: top;\n",
              "    }\n",
              "\n",
              "    .dataframe thead th {\n",
              "        text-align: right;\n",
              "    }\n",
              "</style>\n",
              "<table border=\"1\" class=\"dataframe\">\n",
              "  <thead>\n",
              "    <tr style=\"text-align: right;\">\n",
              "      <th></th>\n",
              "      <th>Age</th>\n",
              "      <th>Attrition</th>\n",
              "      <th>DistanceFromHome</th>\n",
              "      <th>Education</th>\n",
              "      <th>EmployeeCount</th>\n",
              "      <th>EmployeeID</th>\n",
              "      <th>JobLevel</th>\n",
              "      <th>MonthlyIncome</th>\n",
              "      <th>NumCompaniesWorked</th>\n",
              "      <th>PercentSalaryHike</th>\n",
              "      <th>StandardHours</th>\n",
              "      <th>StockOptionLevel</th>\n",
              "      <th>TotalWorkingYears</th>\n",
              "      <th>TrainingTimesLastYear</th>\n",
              "      <th>YearsAtCompany</th>\n",
              "      <th>YearsSinceLastPromotion</th>\n",
              "      <th>YearsWithCurrManager</th>\n",
              "    </tr>\n",
              "  </thead>\n",
              "  <tbody>\n",
              "    <tr>\n",
              "      <th>Age</th>\n",
              "      <td>1.000000</td>\n",
              "      <td>0.158399</td>\n",
              "      <td>0.007376</td>\n",
              "      <td>-0.033900</td>\n",
              "      <td>NaN</td>\n",
              "      <td>0.008105</td>\n",
              "      <td>-0.001137</td>\n",
              "      <td>-0.045163</td>\n",
              "      <td>0.299527</td>\n",
              "      <td>-0.032561</td>\n",
              "      <td>NaN</td>\n",
              "      <td>-0.031504</td>\n",
              "      <td>0.680037</td>\n",
              "      <td>-0.028962</td>\n",
              "      <td>0.311281</td>\n",
              "      <td>0.215650</td>\n",
              "      <td>0.201580</td>\n",
              "    </tr>\n",
              "    <tr>\n",
              "      <th>Attrition</th>\n",
              "      <td>0.158399</td>\n",
              "      <td>1.000000</td>\n",
              "      <td>0.009449</td>\n",
              "      <td>0.017106</td>\n",
              "      <td>NaN</td>\n",
              "      <td>0.004621</td>\n",
              "      <td>0.012382</td>\n",
              "      <td>0.030160</td>\n",
              "      <td>-0.042831</td>\n",
              "      <td>-0.033153</td>\n",
              "      <td>NaN</td>\n",
              "      <td>0.008164</td>\n",
              "      <td>0.169670</td>\n",
              "      <td>0.047586</td>\n",
              "      <td>0.133003</td>\n",
              "      <td>0.031423</td>\n",
              "      <td>0.154692</td>\n",
              "    </tr>\n",
              "    <tr>\n",
              "      <th>DistanceFromHome</th>\n",
              "      <td>0.007376</td>\n",
              "      <td>0.009449</td>\n",
              "      <td>1.000000</td>\n",
              "      <td>-0.007491</td>\n",
              "      <td>NaN</td>\n",
              "      <td>-0.000326</td>\n",
              "      <td>-0.039990</td>\n",
              "      <td>-0.022757</td>\n",
              "      <td>-0.014449</td>\n",
              "      <td>0.037720</td>\n",
              "      <td>NaN</td>\n",
              "      <td>0.009353</td>\n",
              "      <td>0.009574</td>\n",
              "      <td>-0.008957</td>\n",
              "      <td>0.030746</td>\n",
              "      <td>0.002243</td>\n",
              "      <td>0.021773</td>\n",
              "    </tr>\n",
              "    <tr>\n",
              "      <th>Education</th>\n",
              "      <td>-0.033900</td>\n",
              "      <td>0.017106</td>\n",
              "      <td>-0.007491</td>\n",
              "      <td>1.000000</td>\n",
              "      <td>NaN</td>\n",
              "      <td>-0.009389</td>\n",
              "      <td>0.045822</td>\n",
              "      <td>0.007289</td>\n",
              "      <td>-0.016210</td>\n",
              "      <td>-0.041054</td>\n",
              "      <td>NaN</td>\n",
              "      <td>0.002386</td>\n",
              "      <td>-0.009228</td>\n",
              "      <td>0.009939</td>\n",
              "      <td>0.005997</td>\n",
              "      <td>0.023457</td>\n",
              "      <td>0.005645</td>\n",
              "    </tr>\n",
              "    <tr>\n",
              "      <th>EmployeeCount</th>\n",
              "      <td>NaN</td>\n",
              "      <td>NaN</td>\n",
              "      <td>NaN</td>\n",
              "      <td>NaN</td>\n",
              "      <td>NaN</td>\n",
              "      <td>NaN</td>\n",
              "      <td>NaN</td>\n",
              "      <td>NaN</td>\n",
              "      <td>NaN</td>\n",
              "      <td>NaN</td>\n",
              "      <td>NaN</td>\n",
              "      <td>NaN</td>\n",
              "      <td>NaN</td>\n",
              "      <td>NaN</td>\n",
              "      <td>NaN</td>\n",
              "      <td>NaN</td>\n",
              "      <td>NaN</td>\n",
              "    </tr>\n",
              "    <tr>\n",
              "      <th>EmployeeID</th>\n",
              "      <td>0.008105</td>\n",
              "      <td>0.004621</td>\n",
              "      <td>-0.000326</td>\n",
              "      <td>-0.009389</td>\n",
              "      <td>NaN</td>\n",
              "      <td>1.000000</td>\n",
              "      <td>-0.003090</td>\n",
              "      <td>0.007865</td>\n",
              "      <td>0.000719</td>\n",
              "      <td>-0.004877</td>\n",
              "      <td>NaN</td>\n",
              "      <td>-0.013488</td>\n",
              "      <td>-0.001688</td>\n",
              "      <td>-0.012102</td>\n",
              "      <td>0.004117</td>\n",
              "      <td>0.000814</td>\n",
              "      <td>0.009079</td>\n",
              "    </tr>\n",
              "    <tr>\n",
              "      <th>JobLevel</th>\n",
              "      <td>-0.001137</td>\n",
              "      <td>0.012382</td>\n",
              "      <td>-0.039990</td>\n",
              "      <td>0.045822</td>\n",
              "      <td>NaN</td>\n",
              "      <td>-0.003090</td>\n",
              "      <td>1.000000</td>\n",
              "      <td>0.046688</td>\n",
              "      <td>-0.009759</td>\n",
              "      <td>0.010874</td>\n",
              "      <td>NaN</td>\n",
              "      <td>0.000365</td>\n",
              "      <td>-0.036293</td>\n",
              "      <td>-0.031931</td>\n",
              "      <td>-0.063360</td>\n",
              "      <td>-0.059680</td>\n",
              "      <td>-0.053898</td>\n",
              "    </tr>\n",
              "    <tr>\n",
              "      <th>MonthlyIncome</th>\n",
              "      <td>-0.045163</td>\n",
              "      <td>0.030160</td>\n",
              "      <td>-0.022757</td>\n",
              "      <td>0.007289</td>\n",
              "      <td>NaN</td>\n",
              "      <td>0.007865</td>\n",
              "      <td>0.046688</td>\n",
              "      <td>1.000000</td>\n",
              "      <td>-0.021446</td>\n",
              "      <td>0.004607</td>\n",
              "      <td>NaN</td>\n",
              "      <td>0.027242</td>\n",
              "      <td>-0.034398</td>\n",
              "      <td>0.049780</td>\n",
              "      <td>0.000088</td>\n",
              "      <td>0.064470</td>\n",
              "      <td>0.023095</td>\n",
              "    </tr>\n",
              "    <tr>\n",
              "      <th>NumCompaniesWorked</th>\n",
              "      <td>0.299527</td>\n",
              "      <td>-0.042831</td>\n",
              "      <td>-0.014449</td>\n",
              "      <td>-0.016210</td>\n",
              "      <td>NaN</td>\n",
              "      <td>0.000719</td>\n",
              "      <td>-0.009759</td>\n",
              "      <td>-0.021446</td>\n",
              "      <td>1.000000</td>\n",
              "      <td>0.030064</td>\n",
              "      <td>NaN</td>\n",
              "      <td>0.016291</td>\n",
              "      <td>0.238807</td>\n",
              "      <td>-0.031335</td>\n",
              "      <td>-0.117213</td>\n",
              "      <td>-0.035855</td>\n",
              "      <td>-0.109372</td>\n",
              "    </tr>\n",
              "    <tr>\n",
              "      <th>PercentSalaryHike</th>\n",
              "      <td>-0.032561</td>\n",
              "      <td>-0.033153</td>\n",
              "      <td>0.037720</td>\n",
              "      <td>-0.041054</td>\n",
              "      <td>NaN</td>\n",
              "      <td>-0.004877</td>\n",
              "      <td>0.010874</td>\n",
              "      <td>0.004607</td>\n",
              "      <td>0.030064</td>\n",
              "      <td>1.000000</td>\n",
              "      <td>NaN</td>\n",
              "      <td>0.012104</td>\n",
              "      <td>-0.018480</td>\n",
              "      <td>-0.036720</td>\n",
              "      <td>-0.029022</td>\n",
              "      <td>-0.028654</td>\n",
              "      <td>-0.039687</td>\n",
              "    </tr>\n",
              "    <tr>\n",
              "      <th>StandardHours</th>\n",
              "      <td>NaN</td>\n",
              "      <td>NaN</td>\n",
              "      <td>NaN</td>\n",
              "      <td>NaN</td>\n",
              "      <td>NaN</td>\n",
              "      <td>NaN</td>\n",
              "      <td>NaN</td>\n",
              "      <td>NaN</td>\n",
              "      <td>NaN</td>\n",
              "      <td>NaN</td>\n",
              "      <td>NaN</td>\n",
              "      <td>NaN</td>\n",
              "      <td>NaN</td>\n",
              "      <td>NaN</td>\n",
              "      <td>NaN</td>\n",
              "      <td>NaN</td>\n",
              "      <td>NaN</td>\n",
              "    </tr>\n",
              "    <tr>\n",
              "      <th>StockOptionLevel</th>\n",
              "      <td>-0.031504</td>\n",
              "      <td>0.008164</td>\n",
              "      <td>0.009353</td>\n",
              "      <td>0.002386</td>\n",
              "      <td>NaN</td>\n",
              "      <td>-0.013488</td>\n",
              "      <td>0.000365</td>\n",
              "      <td>0.027242</td>\n",
              "      <td>0.016291</td>\n",
              "      <td>0.012104</td>\n",
              "      <td>NaN</td>\n",
              "      <td>1.000000</td>\n",
              "      <td>0.003138</td>\n",
              "      <td>-0.068028</td>\n",
              "      <td>0.009369</td>\n",
              "      <td>0.019889</td>\n",
              "      <td>0.019398</td>\n",
              "    </tr>\n",
              "    <tr>\n",
              "      <th>TotalWorkingYears</th>\n",
              "      <td>0.680037</td>\n",
              "      <td>0.169670</td>\n",
              "      <td>0.009574</td>\n",
              "      <td>-0.009228</td>\n",
              "      <td>NaN</td>\n",
              "      <td>-0.001688</td>\n",
              "      <td>-0.036293</td>\n",
              "      <td>-0.034398</td>\n",
              "      <td>0.238807</td>\n",
              "      <td>-0.018480</td>\n",
              "      <td>NaN</td>\n",
              "      <td>0.003138</td>\n",
              "      <td>1.000000</td>\n",
              "      <td>-0.041459</td>\n",
              "      <td>0.627738</td>\n",
              "      <td>0.404058</td>\n",
              "      <td>0.458640</td>\n",
              "    </tr>\n",
              "    <tr>\n",
              "      <th>TrainingTimesLastYear</th>\n",
              "      <td>-0.028962</td>\n",
              "      <td>0.047586</td>\n",
              "      <td>-0.008957</td>\n",
              "      <td>0.009939</td>\n",
              "      <td>NaN</td>\n",
              "      <td>-0.012102</td>\n",
              "      <td>-0.031931</td>\n",
              "      <td>0.049780</td>\n",
              "      <td>-0.031335</td>\n",
              "      <td>-0.036720</td>\n",
              "      <td>NaN</td>\n",
              "      <td>-0.068028</td>\n",
              "      <td>-0.041459</td>\n",
              "      <td>1.000000</td>\n",
              "      <td>-0.010447</td>\n",
              "      <td>0.015340</td>\n",
              "      <td>-0.015792</td>\n",
              "    </tr>\n",
              "    <tr>\n",
              "      <th>YearsAtCompany</th>\n",
              "      <td>0.311281</td>\n",
              "      <td>0.133003</td>\n",
              "      <td>0.030746</td>\n",
              "      <td>0.005997</td>\n",
              "      <td>NaN</td>\n",
              "      <td>0.004117</td>\n",
              "      <td>-0.063360</td>\n",
              "      <td>0.000088</td>\n",
              "      <td>-0.117213</td>\n",
              "      <td>-0.029022</td>\n",
              "      <td>NaN</td>\n",
              "      <td>0.009369</td>\n",
              "      <td>0.627738</td>\n",
              "      <td>-0.010447</td>\n",
              "      <td>1.000000</td>\n",
              "      <td>0.618722</td>\n",
              "      <td>0.769161</td>\n",
              "    </tr>\n",
              "    <tr>\n",
              "      <th>YearsSinceLastPromotion</th>\n",
              "      <td>0.215650</td>\n",
              "      <td>0.031423</td>\n",
              "      <td>0.002243</td>\n",
              "      <td>0.023457</td>\n",
              "      <td>NaN</td>\n",
              "      <td>0.000814</td>\n",
              "      <td>-0.059680</td>\n",
              "      <td>0.064470</td>\n",
              "      <td>-0.035855</td>\n",
              "      <td>-0.028654</td>\n",
              "      <td>NaN</td>\n",
              "      <td>0.019889</td>\n",
              "      <td>0.404058</td>\n",
              "      <td>0.015340</td>\n",
              "      <td>0.618722</td>\n",
              "      <td>1.000000</td>\n",
              "      <td>0.510341</td>\n",
              "    </tr>\n",
              "    <tr>\n",
              "      <th>YearsWithCurrManager</th>\n",
              "      <td>0.201580</td>\n",
              "      <td>0.154692</td>\n",
              "      <td>0.021773</td>\n",
              "      <td>0.005645</td>\n",
              "      <td>NaN</td>\n",
              "      <td>0.009079</td>\n",
              "      <td>-0.053898</td>\n",
              "      <td>0.023095</td>\n",
              "      <td>-0.109372</td>\n",
              "      <td>-0.039687</td>\n",
              "      <td>NaN</td>\n",
              "      <td>0.019398</td>\n",
              "      <td>0.458640</td>\n",
              "      <td>-0.015792</td>\n",
              "      <td>0.769161</td>\n",
              "      <td>0.510341</td>\n",
              "      <td>1.000000</td>\n",
              "    </tr>\n",
              "  </tbody>\n",
              "</table>\n",
              "</div>"
            ],
            "text/plain": [
              "                              Age  ...  YearsWithCurrManager\n",
              "Age                      1.000000  ...              0.201580\n",
              "Attrition                0.158399  ...              0.154692\n",
              "DistanceFromHome         0.007376  ...              0.021773\n",
              "Education               -0.033900  ...              0.005645\n",
              "EmployeeCount                 NaN  ...                   NaN\n",
              "EmployeeID               0.008105  ...              0.009079\n",
              "JobLevel                -0.001137  ...             -0.053898\n",
              "MonthlyIncome           -0.045163  ...              0.023095\n",
              "NumCompaniesWorked       0.299527  ...             -0.109372\n",
              "PercentSalaryHike       -0.032561  ...             -0.039687\n",
              "StandardHours                 NaN  ...                   NaN\n",
              "StockOptionLevel        -0.031504  ...              0.019398\n",
              "TotalWorkingYears        0.680037  ...              0.458640\n",
              "TrainingTimesLastYear   -0.028962  ...             -0.015792\n",
              "YearsAtCompany           0.311281  ...              0.769161\n",
              "YearsSinceLastPromotion  0.215650  ...              0.510341\n",
              "YearsWithCurrManager     0.201580  ...              1.000000\n",
              "\n",
              "[17 rows x 17 columns]"
            ]
          },
          "metadata": {
            "tags": []
          },
          "execution_count": 14
        }
      ]
    },
    {
      "cell_type": "code",
      "metadata": {
        "id": "0cqNIJZTDhXu",
        "colab_type": "code",
        "colab": {
          "base_uri": "https://localhost:8080/",
          "height": 51
        },
        "outputId": "0460cb34-8f37-41d2-cf0f-4787a3fc324e"
      },
      "source": [
        "stats, p = wilcoxon(df1.Attrition, df1.Age)\n",
        "print(f'The Value of p in wilcoxon test is: {p}')\n",
        "if p < 0.05:\n",
        "    print('There is significant impact of Age on Attrition')\n",
        "else:\n",
        "    print('There is no significant impact of Age on Attrition')"
      ],
      "execution_count": null,
      "outputs": [
        {
          "output_type": "stream",
          "text": [
            "The Value of p in wilcoxon test is: 0.0\n",
            "There is significant impact of Age on Attrition\n"
          ],
          "name": "stdout"
        }
      ]
    },
    {
      "cell_type": "code",
      "metadata": {
        "id": "D-J12E3TDkEW",
        "colab_type": "code",
        "colab": {
          "base_uri": "https://localhost:8080/",
          "height": 51
        },
        "outputId": "7dd6e38f-6982-4423-cc1d-dd82dd056184"
      },
      "source": [
        "stats, p = friedmanchisquare(df1.Attrition, df1.Age, df1.DistanceFromHome, df1.MonthlyIncome)\n",
        "print(f'The Value of p in friedmanchisquare test is: {p}')\n",
        "if p < 0.05:\n",
        "    print('There is significant impact of Age, Distance from Home, Monthly Income on Attrition')\n",
        "else:\n",
        "    print('There is no significant impact of Age, Distance from Home, Monthly Income on Attrition')"
      ],
      "execution_count": null,
      "outputs": [
        {
          "output_type": "stream",
          "text": [
            "The Value of p in friedmanchisquare test is: 0.0\n",
            "There is significant impact of Age, Distance from Home, Monthly Income on Attrition\n"
          ],
          "name": "stdout"
        }
      ]
    },
    {
      "cell_type": "code",
      "metadata": {
        "id": "EJOmZ2LkDkNd",
        "colab_type": "code",
        "colab": {
          "base_uri": "https://localhost:8080/",
          "height": 51
        },
        "outputId": "a05a7551-fdd4-413a-cbda-82ebb59ee612"
      },
      "source": [
        "stats, p = mannwhitneyu(df1.Attrition, df1.Education)\n",
        "print(f'The Value of p in mannwhitneyu test is: {p}')\n",
        "if p < 0.05:\n",
        "    print('There is significant impact of Education on Attrition')\n",
        "else:\n",
        "    print('There is no significant impact of Education on Attrition')"
      ],
      "execution_count": null,
      "outputs": [
        {
          "output_type": "stream",
          "text": [
            "The Value of p in mannwhitneyu test is: 0.0\n",
            "There is significant impact of Education on Attrition\n"
          ],
          "name": "stdout"
        }
      ]
    },
    {
      "cell_type": "code",
      "metadata": {
        "id": "mYrt6MVHDkTl",
        "colab_type": "code",
        "colab": {
          "base_uri": "https://localhost:8080/",
          "height": 51
        },
        "outputId": "0dcf5ce6-4279-4e4e-eda3-976435051bba"
      },
      "source": [
        "stats, p = kruskal(df1.Attrition, df1.Education,df1.JobLevel)\n",
        "print(f'The Value of p in kruskal test is: {p}')\n",
        "if p < 0.05:\n",
        "    print('There is significant impact of Education, JobLevel on Attrition')\n",
        "else:\n",
        "    print('There is no significant impact of Education, JobLevel on Attrition')"
      ],
      "execution_count": null,
      "outputs": [
        {
          "output_type": "stream",
          "text": [
            "The Value of p in kruskal test is: 0.0\n",
            "There is significant impact of Education, JobLevel on Attrition\n"
          ],
          "name": "stdout"
        }
      ]
    },
    {
      "cell_type": "code",
      "metadata": {
        "id": "id4VuQC1DkY6",
        "colab_type": "code",
        "colab": {
          "base_uri": "https://localhost:8080/",
          "height": 142
        },
        "outputId": "98dd5a41-6b88-4a32-e627-f178683241ce"
      },
      "source": [
        "crosstable = pd.crosstab(df.Attrition,df.Department)\n",
        "crosstable"
      ],
      "execution_count": null,
      "outputs": [
        {
          "output_type": "execute_result",
          "data": {
            "text/html": [
              "<div>\n",
              "<style scoped>\n",
              "    .dataframe tbody tr th:only-of-type {\n",
              "        vertical-align: middle;\n",
              "    }\n",
              "\n",
              "    .dataframe tbody tr th {\n",
              "        vertical-align: top;\n",
              "    }\n",
              "\n",
              "    .dataframe thead th {\n",
              "        text-align: right;\n",
              "    }\n",
              "</style>\n",
              "<table border=\"1\" class=\"dataframe\">\n",
              "  <thead>\n",
              "    <tr style=\"text-align: right;\">\n",
              "      <th>Department</th>\n",
              "      <th>Human Resources</th>\n",
              "      <th>Research &amp; Development</th>\n",
              "      <th>Sales</th>\n",
              "    </tr>\n",
              "    <tr>\n",
              "      <th>Attrition</th>\n",
              "      <th></th>\n",
              "      <th></th>\n",
              "      <th></th>\n",
              "    </tr>\n",
              "  </thead>\n",
              "  <tbody>\n",
              "    <tr>\n",
              "      <th>0</th>\n",
              "      <td>55</td>\n",
              "      <td>449</td>\n",
              "      <td>201</td>\n",
              "    </tr>\n",
              "    <tr>\n",
              "      <th>1</th>\n",
              "      <td>132</td>\n",
              "      <td>2416</td>\n",
              "      <td>1129</td>\n",
              "    </tr>\n",
              "  </tbody>\n",
              "</table>\n",
              "</div>"
            ],
            "text/plain": [
              "Department  Human Resources  Research & Development  Sales\n",
              "Attrition                                                 \n",
              "0                        55                     449    201\n",
              "1                       132                    2416   1129"
            ]
          },
          "metadata": {
            "tags": []
          },
          "execution_count": 19
        }
      ]
    },
    {
      "cell_type": "code",
      "metadata": {
        "id": "s9x7Ag8mDwP2",
        "colab_type": "code",
        "colab": {
          "base_uri": "https://localhost:8080/",
          "height": 51
        },
        "outputId": "6c69d79d-fb12-44fe-d2d5-1b0fd048599b"
      },
      "source": [
        "stats, p, dof, expected = chi2_contingency(crosstable)\n",
        "print(f'The Value of p in chi2_contingency test is: {p}')\n",
        "if p < 0.05:\n",
        "    print('The variables are dependent')\n",
        "else:\n",
        "    print('The variables are not dependent')"
      ],
      "execution_count": null,
      "outputs": [
        {
          "output_type": "stream",
          "text": [
            "The Value of p in chi2_contingency test is: 2.3829705707693105e-06\n",
            "The variables are dependent\n"
          ],
          "name": "stdout"
        }
      ]
    }
  ]
}