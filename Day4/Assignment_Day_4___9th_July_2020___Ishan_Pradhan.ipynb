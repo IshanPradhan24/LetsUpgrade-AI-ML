{
  "nbformat": 4,
  "nbformat_minor": 0,
  "metadata": {
    "colab": {
      "name": "Assignment Day 4 | 9th July 2020 | Ishan Pradhan.ipynb",
      "provenance": [],
      "collapsed_sections": []
    },
    "kernelspec": {
      "name": "python3",
      "display_name": "Python 3"
    }
  },
  "cells": [
    {
      "cell_type": "code",
      "metadata": {
        "id": "qzDdBOWmvUix",
        "colab_type": "code",
        "colab": {
          "base_uri": "https://localhost:8080/",
          "height": 119
        },
        "outputId": "57180ebc-5c6c-43eb-c067-829d69ace523"
      },
      "source": [
        "#Question 1\n",
        "a=complex(input(\"Enter the first number: \"))\n",
        "b=complex(input(\"Enter the second number: \"))\n",
        "add=a+b\n",
        "sub=a-b\n",
        "multiply=a*b\n",
        "divide=a/b\n",
        "print(\"Addition = \",add)\n",
        "print(\"Substraction = \",sub)\n",
        "print(\"Division = \",divide)\n",
        "print(\"Multiplication = \",multiply) "
      ],
      "execution_count": null,
      "outputs": [
        {
          "output_type": "stream",
          "text": [
            "Enter the first number: 2\n",
            "Enter the second number: 6\n",
            "Addition =  (8+0j)\n",
            "Substraction =  (-4+0j)\n",
            "Division =  (0.3333333333333333+0j)\n",
            "Multiplication =  (12+0j)\n"
          ],
          "name": "stdout"
        }
      ]
    },
    {
      "cell_type": "code",
      "metadata": {
        "id": "1Nt7EjXa4B_Y",
        "colab_type": "code",
        "colab": {}
      },
      "source": [
        "#Question 2"
      ],
      "execution_count": null,
      "outputs": []
    },
    {
      "cell_type": "markdown",
      "metadata": {
        "id": "Mp9-Srbw4UD4",
        "colab_type": "text"
      },
      "source": [
        "# Function **range()** is used to generate numbers from given starting integer to end integer. It is used in for loop.\n",
        "\n",
        "# Its parameters are start, stop and step.\n",
        "\n",
        "# Start is the lower limit, Stop is the upperlimit and it displays till the range less then the given integer and step is the differnce between the given integer.\n",
        "\n",
        "# **start**\tis an Optional. An integer number specifying at which position to start. Default is 0\n",
        "# **stop**\tis Required. An integer number specifying at which position to stop (not included).\n",
        "# step\tis also an Optional. An integer number specifying the incrementation. Default is 1"
      ]
    },
    {
      "cell_type": "code",
      "metadata": {
        "id": "lStaddxu4WCi",
        "colab_type": "code",
        "colab": {
          "base_uri": "https://localhost:8080/",
          "height": 34
        },
        "outputId": "9e19c781-1251-4315-c6fe-1caed5fa7438"
      },
      "source": [
        "for i in range(4):\n",
        "    print(i,end=',')"
      ],
      "execution_count": null,
      "outputs": [
        {
          "output_type": "stream",
          "text": [
            "0,1,2,3,"
          ],
          "name": "stdout"
        }
      ]
    },
    {
      "cell_type": "code",
      "metadata": {
        "id": "OOtpeM5Y53-4",
        "colab_type": "code",
        "colab": {
          "base_uri": "https://localhost:8080/",
          "height": 34
        },
        "outputId": "cf31ce79-6eaf-452a-dc48-e3b8f76657bd"
      },
      "source": [
        "for j in range(4,8):\n",
        "    print(j,end=',')"
      ],
      "execution_count": null,
      "outputs": [
        {
          "output_type": "stream",
          "text": [
            "4,5,6,7,"
          ],
          "name": "stdout"
        }
      ]
    },
    {
      "cell_type": "code",
      "metadata": {
        "id": "d0KPeKM756Wy",
        "colab_type": "code",
        "colab": {
          "base_uri": "https://localhost:8080/",
          "height": 34
        },
        "outputId": "61bc93f1-3e4f-42de-ea0a-83a61b3dc9cb"
      },
      "source": [
        "for k in range(0,10,2):\n",
        "    print(k,end=',')\n"
      ],
      "execution_count": null,
      "outputs": [
        {
          "output_type": "stream",
          "text": [
            "0,2,4,6,8,"
          ],
          "name": "stdout"
        }
      ]
    },
    {
      "cell_type": "code",
      "metadata": {
        "id": "kGpGmH3s58em",
        "colab_type": "code",
        "colab": {
          "base_uri": "https://localhost:8080/",
          "height": 68
        },
        "outputId": "5a97fd7f-0baa-46b8-eccb-ea4c1f87129b"
      },
      "source": [
        "#Question 3\n",
        "a=int(input(\"Enter the first number \"))\n",
        "b=int(input(\"Enter the second number \"))\n",
        "sub=a-b\n",
        "if (sub>25):\n",
        "    print(\"Multiplication=\",(a*b))\n",
        "else:\n",
        "    print(\"Division= \",(a//b))"
      ],
      "execution_count": null,
      "outputs": [
        {
          "output_type": "stream",
          "text": [
            "Enter the first number 10\n",
            "Enter the second number 5\n",
            "Division=  2\n"
          ],
          "name": "stdout"
        }
      ]
    },
    {
      "cell_type": "code",
      "metadata": {
        "id": "ybe7AOTy6FWI",
        "colab_type": "code",
        "colab": {
          "base_uri": "https://localhost:8080/",
          "height": 102
        },
        "outputId": "b453ea1f-75a3-4374-8f0c-b506917c59fd"
      },
      "source": [
        "#Question 4\n",
        "for i in range(14,24):\n",
        "    if(i%2==0):\n",
        "        print(\"Square of the number \",(i**2),\"minus 2 is \",(i**2-(2)))"
      ],
      "execution_count": null,
      "outputs": [
        {
          "output_type": "stream",
          "text": [
            "Square of the number  196 minus 2 is  194\n",
            "Square of the number  256 minus 2 is  254\n",
            "Square of the number  324 minus 2 is  322\n",
            "Square of the number  400 minus 2 is  398\n",
            "Square of the number  484 minus 2 is  482\n"
          ],
          "name": "stdout"
        }
      ]
    },
    {
      "cell_type": "code",
      "metadata": {
        "id": "TCGPOpE36T-B",
        "colab_type": "code",
        "colab": {
          "base_uri": "https://localhost:8080/",
          "height": 34
        },
        "outputId": "d2250d7a-0527-4bc3-f566-de54a16a3ea0"
      },
      "source": [
        "#Question 5\n",
        "for i in range(1,10):\n",
        "    if(i%2==0 and i>7):\n",
        "        print(i)"
      ],
      "execution_count": null,
      "outputs": [
        {
          "output_type": "stream",
          "text": [
            "8\n"
          ],
          "name": "stdout"
        }
      ]
    },
    {
      "cell_type": "code",
      "metadata": {
        "id": "j8o-HHrp6WwT",
        "colab_type": "code",
        "colab": {}
      },
      "source": [
        ""
      ],
      "execution_count": null,
      "outputs": []
    }
  ]
}