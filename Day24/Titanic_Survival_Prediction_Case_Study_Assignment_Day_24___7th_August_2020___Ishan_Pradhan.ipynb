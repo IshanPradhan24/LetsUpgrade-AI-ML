{
  "nbformat": 4,
  "nbformat_minor": 0,
  "metadata": {
    "colab": {
      "name": "Titanic Survival Prediction Case Study-Assignment Day 24 | 7th August 2020 | Ishan Pradhan.ipynb",
      "provenance": [],
      "collapsed_sections": [
        "ts_0f2XUgmbq",
        "nnND9w95hMZZ",
        "OiRpXObhhZyT",
        "51lAB8FZhiUL",
        "IXtpI91ehxQK",
        "Vge0xbiEiFVs",
        "QqHoWh1-iKPD"
      ]
    },
    "kernelspec": {
      "name": "python3",
      "display_name": "Python 3"
    }
  },
  "cells": [
    {
      "cell_type": "markdown",
      "metadata": {
        "id": "CqZS0Vj3fIFP",
        "colab_type": "text"
      },
      "source": [
        "Titanic Survival Prediction Case Study"
      ]
    },
    {
      "cell_type": "markdown",
      "metadata": {
        "id": "IM7s1UDffLnj",
        "colab_type": "text"
      },
      "source": [
        "\n",
        "Importing Libraries"
      ]
    },
    {
      "cell_type": "code",
      "metadata": {
        "id": "vA-ZjYSpebkq",
        "colab_type": "code",
        "colab": {
          "base_uri": "https://localhost:8080/",
          "height": 71
        },
        "outputId": "5843b2dc-f188-425d-c300-5b808d4b63c3"
      },
      "source": [
        "import numpy as np\n",
        "import pandas as pd\n",
        "import matplotlib.pyplot as plt\n",
        "import seaborn as sns\n",
        "\n",
        "from sklearn import tree\n",
        "from sklearn import preprocessing\n",
        "from sklearn.ensemble import RandomForestClassifier\n",
        "\n",
        "from warnings import filterwarnings\n",
        "filterwarnings('ignore')"
      ],
      "execution_count": 1,
      "outputs": [
        {
          "output_type": "stream",
          "text": [
            "/usr/local/lib/python3.6/dist-packages/statsmodels/tools/_testing.py:19: FutureWarning: pandas.util.testing is deprecated. Use the functions in the public API at pandas.testing instead.\n",
            "  import pandas.util.testing as tm\n"
          ],
          "name": "stderr"
        }
      ]
    },
    {
      "cell_type": "markdown",
      "metadata": {
        "id": "TOsPwcNqgcqh",
        "colab_type": "text"
      },
      "source": [
        "\n",
        "Loading Dataset"
      ]
    },
    {
      "cell_type": "code",
      "metadata": {
        "id": "2103DHKCgdDS",
        "colab_type": "code",
        "colab": {
          "base_uri": "https://localhost:8080/",
          "height": 255
        },
        "outputId": "b2bcaa50-a4d7-46ac-dc3c-0c4e7692cd76"
      },
      "source": [
        "\n",
        "df = pd.read_csv('train.csv')\n",
        "df.head()"
      ],
      "execution_count": 2,
      "outputs": [
        {
          "output_type": "execute_result",
          "data": {
            "text/html": [
              "<div>\n",
              "<style scoped>\n",
              "    .dataframe tbody tr th:only-of-type {\n",
              "        vertical-align: middle;\n",
              "    }\n",
              "\n",
              "    .dataframe tbody tr th {\n",
              "        vertical-align: top;\n",
              "    }\n",
              "\n",
              "    .dataframe thead th {\n",
              "        text-align: right;\n",
              "    }\n",
              "</style>\n",
              "<table border=\"1\" class=\"dataframe\">\n",
              "  <thead>\n",
              "    <tr style=\"text-align: right;\">\n",
              "      <th></th>\n",
              "      <th>PassengerId</th>\n",
              "      <th>Survived</th>\n",
              "      <th>Pclass</th>\n",
              "      <th>Name</th>\n",
              "      <th>Sex</th>\n",
              "      <th>Age</th>\n",
              "      <th>SibSp</th>\n",
              "      <th>Parch</th>\n",
              "      <th>Ticket</th>\n",
              "      <th>Fare</th>\n",
              "      <th>Cabin</th>\n",
              "      <th>Embarked</th>\n",
              "    </tr>\n",
              "  </thead>\n",
              "  <tbody>\n",
              "    <tr>\n",
              "      <th>0</th>\n",
              "      <td>1</td>\n",
              "      <td>0</td>\n",
              "      <td>3</td>\n",
              "      <td>Braund, Mr. Owen Harris</td>\n",
              "      <td>male</td>\n",
              "      <td>22.0</td>\n",
              "      <td>1</td>\n",
              "      <td>0</td>\n",
              "      <td>A/5 21171</td>\n",
              "      <td>7.2500</td>\n",
              "      <td>NaN</td>\n",
              "      <td>S</td>\n",
              "    </tr>\n",
              "    <tr>\n",
              "      <th>1</th>\n",
              "      <td>2</td>\n",
              "      <td>1</td>\n",
              "      <td>1</td>\n",
              "      <td>Cumings, Mrs. John Bradley (Florence Briggs Th...</td>\n",
              "      <td>female</td>\n",
              "      <td>38.0</td>\n",
              "      <td>1</td>\n",
              "      <td>0</td>\n",
              "      <td>PC 17599</td>\n",
              "      <td>71.2833</td>\n",
              "      <td>C85</td>\n",
              "      <td>C</td>\n",
              "    </tr>\n",
              "    <tr>\n",
              "      <th>2</th>\n",
              "      <td>3</td>\n",
              "      <td>1</td>\n",
              "      <td>3</td>\n",
              "      <td>Heikkinen, Miss. Laina</td>\n",
              "      <td>female</td>\n",
              "      <td>26.0</td>\n",
              "      <td>0</td>\n",
              "      <td>0</td>\n",
              "      <td>STON/O2. 3101282</td>\n",
              "      <td>7.9250</td>\n",
              "      <td>NaN</td>\n",
              "      <td>S</td>\n",
              "    </tr>\n",
              "    <tr>\n",
              "      <th>3</th>\n",
              "      <td>4</td>\n",
              "      <td>1</td>\n",
              "      <td>1</td>\n",
              "      <td>Futrelle, Mrs. Jacques Heath (Lily May Peel)</td>\n",
              "      <td>female</td>\n",
              "      <td>35.0</td>\n",
              "      <td>1</td>\n",
              "      <td>0</td>\n",
              "      <td>113803</td>\n",
              "      <td>53.1000</td>\n",
              "      <td>C123</td>\n",
              "      <td>S</td>\n",
              "    </tr>\n",
              "    <tr>\n",
              "      <th>4</th>\n",
              "      <td>5</td>\n",
              "      <td>0</td>\n",
              "      <td>3</td>\n",
              "      <td>Allen, Mr. William Henry</td>\n",
              "      <td>male</td>\n",
              "      <td>35.0</td>\n",
              "      <td>0</td>\n",
              "      <td>0</td>\n",
              "      <td>373450</td>\n",
              "      <td>8.0500</td>\n",
              "      <td>NaN</td>\n",
              "      <td>S</td>\n",
              "    </tr>\n",
              "  </tbody>\n",
              "</table>\n",
              "</div>"
            ],
            "text/plain": [
              "   PassengerId  Survived  Pclass  ...     Fare Cabin  Embarked\n",
              "0            1         0       3  ...   7.2500   NaN         S\n",
              "1            2         1       1  ...  71.2833   C85         C\n",
              "2            3         1       3  ...   7.9250   NaN         S\n",
              "3            4         1       1  ...  53.1000  C123         S\n",
              "4            5         0       3  ...   8.0500   NaN         S\n",
              "\n",
              "[5 rows x 12 columns]"
            ]
          },
          "metadata": {
            "tags": []
          },
          "execution_count": 2
        }
      ]
    },
    {
      "cell_type": "markdown",
      "metadata": {
        "id": "hTCbM5Vfgkaj",
        "colab_type": "text"
      },
      "source": [
        "Target variable is Survived which is Binary Categorical"
      ]
    },
    {
      "cell_type": "markdown",
      "metadata": {
        "id": "ts_0f2XUgmbq",
        "colab_type": "text"
      },
      "source": [
        "# **Checking shape of dataset**"
      ]
    },
    {
      "cell_type": "code",
      "metadata": {
        "id": "Aoe_2u8EglKo",
        "colab_type": "code",
        "colab": {
          "base_uri": "https://localhost:8080/",
          "height": 34
        },
        "outputId": "e48b9824-3aff-48d6-be45-5dcb179791bf"
      },
      "source": [
        "\n",
        "df.shape"
      ],
      "execution_count": 3,
      "outputs": [
        {
          "output_type": "execute_result",
          "data": {
            "text/plain": [
              "(889, 12)"
            ]
          },
          "metadata": {
            "tags": []
          },
          "execution_count": 3
        }
      ]
    },
    {
      "cell_type": "markdown",
      "metadata": {
        "id": "pZu1gvXBgrOC",
        "colab_type": "text"
      },
      "source": [
        "Checking Null Values"
      ]
    },
    {
      "cell_type": "code",
      "metadata": {
        "id": "QqwEMWJugr0n",
        "colab_type": "code",
        "colab": {
          "base_uri": "https://localhost:8080/",
          "height": 238
        },
        "outputId": "1aae3b91-0868-4089-a25a-b9dda7b654c4"
      },
      "source": [
        "df.isnull().sum()"
      ],
      "execution_count": 4,
      "outputs": [
        {
          "output_type": "execute_result",
          "data": {
            "text/plain": [
              "PassengerId      0\n",
              "Survived         0\n",
              "Pclass           0\n",
              "Name             0\n",
              "Sex              0\n",
              "Age              0\n",
              "SibSp            0\n",
              "Parch            0\n",
              "Ticket           0\n",
              "Fare             0\n",
              "Cabin          687\n",
              "Embarked         0\n",
              "dtype: int64"
            ]
          },
          "metadata": {
            "tags": []
          },
          "execution_count": 4
        }
      ]
    },
    {
      "cell_type": "markdown",
      "metadata": {
        "id": "S8dW_gzZgvbx",
        "colab_type": "text"
      },
      "source": [
        "As the total 891 rows , In 'Cabin' there are more than 70% data is missing , so it is irrelevant to fill it\n",
        "\n",
        "Drop Cabin column"
      ]
    },
    {
      "cell_type": "code",
      "metadata": {
        "id": "5XGZQtOBgx_6",
        "colab_type": "code",
        "colab": {
          "base_uri": "https://localhost:8080/",
          "height": 221
        },
        "outputId": "f2f00e73-4650-40fb-fcc9-00d60aa1c02e"
      },
      "source": [
        "df.pop('Cabin')"
      ],
      "execution_count": 5,
      "outputs": [
        {
          "output_type": "execute_result",
          "data": {
            "text/plain": [
              "0       NaN\n",
              "1       C85\n",
              "2       NaN\n",
              "3      C123\n",
              "4       NaN\n",
              "       ... \n",
              "884     NaN\n",
              "885     B42\n",
              "886     NaN\n",
              "887    C148\n",
              "888     NaN\n",
              "Name: Cabin, Length: 889, dtype: object"
            ]
          },
          "metadata": {
            "tags": []
          },
          "execution_count": 5
        }
      ]
    },
    {
      "cell_type": "code",
      "metadata": {
        "id": "JspDvEBsg10S",
        "colab_type": "code",
        "colab": {
          "base_uri": "https://localhost:8080/",
          "height": 34
        },
        "outputId": "5719a1ca-5c63-4e8a-9735-4ea872ce03a5"
      },
      "source": [
        "df.shape"
      ],
      "execution_count": 6,
      "outputs": [
        {
          "output_type": "execute_result",
          "data": {
            "text/plain": [
              "(889, 11)"
            ]
          },
          "metadata": {
            "tags": []
          },
          "execution_count": 6
        }
      ]
    },
    {
      "cell_type": "markdown",
      "metadata": {
        "id": "0iUMGE9mg3iK",
        "colab_type": "text"
      },
      "source": [
        "Filling Missing Values"
      ]
    },
    {
      "cell_type": "code",
      "metadata": {
        "id": "6eW5y5tbg37l",
        "colab_type": "code",
        "colab": {
          "base_uri": "https://localhost:8080/",
          "height": 282
        },
        "outputId": "bcc34450-5921-4b3c-ee74-4183b8f04c86"
      },
      "source": [
        "df['Age'].plot.hist()"
      ],
      "execution_count": 7,
      "outputs": [
        {
          "output_type": "execute_result",
          "data": {
            "text/plain": [
              "<matplotlib.axes._subplots.AxesSubplot at 0x7fae4d3c2e48>"
            ]
          },
          "metadata": {
            "tags": []
          },
          "execution_count": 7
        },
        {
          "output_type": "display_data",
          "data": {
            "image/png": "[encoded data removed]",
            "text/plain": [
              "<Figure size 432x288 with 1 Axes>"
            ]
          },
          "metadata": {
            "tags": [],
            "needs_background": "light"
          }
        }
      ]
    },
    {
      "cell_type": "code",
      "metadata": {
        "id": "NgnRm45wg8pT",
        "colab_type": "code",
        "colab": {}
      },
      "source": [
        "df['Age'].fillna(df['Age'].mean(), inplace= True)"
      ],
      "execution_count": 8,
      "outputs": []
    },
    {
      "cell_type": "code",
      "metadata": {
        "id": "q32GbFFHg-2T",
        "colab_type": "code",
        "colab": {
          "base_uri": "https://localhost:8080/",
          "height": 85
        },
        "outputId": "6878498b-297f-4fff-d46e-8a09d38c78e6"
      },
      "source": [
        "df[\"Embarked\"].value_counts()"
      ],
      "execution_count": 9,
      "outputs": [
        {
          "output_type": "execute_result",
          "data": {
            "text/plain": [
              "S    644\n",
              "C    168\n",
              "Q     77\n",
              "Name: Embarked, dtype: int64"
            ]
          },
          "metadata": {
            "tags": []
          },
          "execution_count": 9
        }
      ]
    },
    {
      "cell_type": "code",
      "metadata": {
        "id": "mZLMBUYqhA2L",
        "colab_type": "code",
        "colab": {}
      },
      "source": [
        "df[\"Embarked\"].fillna(value='S',inplace=True)"
      ],
      "execution_count": 10,
      "outputs": []
    },
    {
      "cell_type": "code",
      "metadata": {
        "id": "hSdrU5fehC5D",
        "colab_type": "code",
        "colab": {
          "base_uri": "https://localhost:8080/",
          "height": 221
        },
        "outputId": "7b27f518-ed16-494b-a683-1f75b7479fbc"
      },
      "source": [
        "df.isnull().sum()"
      ],
      "execution_count": 11,
      "outputs": [
        {
          "output_type": "execute_result",
          "data": {
            "text/plain": [
              "PassengerId    0\n",
              "Survived       0\n",
              "Pclass         0\n",
              "Name           0\n",
              "Sex            0\n",
              "Age            0\n",
              "SibSp          0\n",
              "Parch          0\n",
              "Ticket         0\n",
              "Fare           0\n",
              "Embarked       0\n",
              "dtype: int64"
            ]
          },
          "metadata": {
            "tags": []
          },
          "execution_count": 11
        }
      ]
    },
    {
      "cell_type": "markdown",
      "metadata": {
        "id": "R64QSgs2hKep",
        "colab_type": "text"
      },
      "source": [
        "All missing values are filled now ,"
      ]
    },
    {
      "cell_type": "markdown",
      "metadata": {
        "id": "nnND9w95hMZZ",
        "colab_type": "text"
      },
      "source": [
        "# **Droping Irrelevent columns**\n",
        "1. As the name column contain different name and the survival is not relevant to names\n",
        "passenger Id does not make any sense\n",
        "2. Ticket number doesnt provide any relevant information whether they survived or not so drop it"
      ]
    },
    {
      "cell_type": "code",
      "metadata": {
        "id": "Yby92cI3hK63",
        "colab_type": "code",
        "colab": {}
      },
      "source": [
        "df.drop(['PassengerId','Name','Ticket'], axis=1, inplace=True)"
      ],
      "execution_count": 12,
      "outputs": []
    },
    {
      "cell_type": "code",
      "metadata": {
        "id": "kzlaEjOkhU5L",
        "colab_type": "code",
        "colab": {
          "base_uri": "https://localhost:8080/",
          "height": 204
        },
        "outputId": "394b0922-6329-49e0-d3e6-ee10d4f6034a"
      },
      "source": [
        "\n",
        "df.head()"
      ],
      "execution_count": 13,
      "outputs": [
        {
          "output_type": "execute_result",
          "data": {
            "text/html": [
              "<div>\n",
              "<style scoped>\n",
              "    .dataframe tbody tr th:only-of-type {\n",
              "        vertical-align: middle;\n",
              "    }\n",
              "\n",
              "    .dataframe tbody tr th {\n",
              "        vertical-align: top;\n",
              "    }\n",
              "\n",
              "    .dataframe thead th {\n",
              "        text-align: right;\n",
              "    }\n",
              "</style>\n",
              "<table border=\"1\" class=\"dataframe\">\n",
              "  <thead>\n",
              "    <tr style=\"text-align: right;\">\n",
              "      <th></th>\n",
              "      <th>Survived</th>\n",
              "      <th>Pclass</th>\n",
              "      <th>Sex</th>\n",
              "      <th>Age</th>\n",
              "      <th>SibSp</th>\n",
              "      <th>Parch</th>\n",
              "      <th>Fare</th>\n",
              "      <th>Embarked</th>\n",
              "    </tr>\n",
              "  </thead>\n",
              "  <tbody>\n",
              "    <tr>\n",
              "      <th>0</th>\n",
              "      <td>0</td>\n",
              "      <td>3</td>\n",
              "      <td>male</td>\n",
              "      <td>22.0</td>\n",
              "      <td>1</td>\n",
              "      <td>0</td>\n",
              "      <td>7.2500</td>\n",
              "      <td>S</td>\n",
              "    </tr>\n",
              "    <tr>\n",
              "      <th>1</th>\n",
              "      <td>1</td>\n",
              "      <td>1</td>\n",
              "      <td>female</td>\n",
              "      <td>38.0</td>\n",
              "      <td>1</td>\n",
              "      <td>0</td>\n",
              "      <td>71.2833</td>\n",
              "      <td>C</td>\n",
              "    </tr>\n",
              "    <tr>\n",
              "      <th>2</th>\n",
              "      <td>1</td>\n",
              "      <td>3</td>\n",
              "      <td>female</td>\n",
              "      <td>26.0</td>\n",
              "      <td>0</td>\n",
              "      <td>0</td>\n",
              "      <td>7.9250</td>\n",
              "      <td>S</td>\n",
              "    </tr>\n",
              "    <tr>\n",
              "      <th>3</th>\n",
              "      <td>1</td>\n",
              "      <td>1</td>\n",
              "      <td>female</td>\n",
              "      <td>35.0</td>\n",
              "      <td>1</td>\n",
              "      <td>0</td>\n",
              "      <td>53.1000</td>\n",
              "      <td>S</td>\n",
              "    </tr>\n",
              "    <tr>\n",
              "      <th>4</th>\n",
              "      <td>0</td>\n",
              "      <td>3</td>\n",
              "      <td>male</td>\n",
              "      <td>35.0</td>\n",
              "      <td>0</td>\n",
              "      <td>0</td>\n",
              "      <td>8.0500</td>\n",
              "      <td>S</td>\n",
              "    </tr>\n",
              "  </tbody>\n",
              "</table>\n",
              "</div>"
            ],
            "text/plain": [
              "   Survived  Pclass     Sex   Age  SibSp  Parch     Fare Embarked\n",
              "0         0       3    male  22.0      1      0   7.2500        S\n",
              "1         1       1  female  38.0      1      0  71.2833        C\n",
              "2         1       3  female  26.0      0      0   7.9250        S\n",
              "3         1       1  female  35.0      1      0  53.1000        S\n",
              "4         0       3    male  35.0      0      0   8.0500        S"
            ]
          },
          "metadata": {
            "tags": []
          },
          "execution_count": 13
        }
      ]
    },
    {
      "cell_type": "code",
      "metadata": {
        "id": "fGinVPRJhXjd",
        "colab_type": "code",
        "colab": {
          "base_uri": "https://localhost:8080/",
          "height": 272
        },
        "outputId": "accfab9d-962b-464d-9adc-a99f3b1a8e36"
      },
      "source": [
        "df.info()"
      ],
      "execution_count": 14,
      "outputs": [
        {
          "output_type": "stream",
          "text": [
            "<class 'pandas.core.frame.DataFrame'>\n",
            "RangeIndex: 889 entries, 0 to 888\n",
            "Data columns (total 8 columns):\n",
            " #   Column    Non-Null Count  Dtype  \n",
            "---  ------    --------------  -----  \n",
            " 0   Survived  889 non-null    int64  \n",
            " 1   Pclass    889 non-null    int64  \n",
            " 2   Sex       889 non-null    object \n",
            " 3   Age       889 non-null    float64\n",
            " 4   SibSp     889 non-null    int64  \n",
            " 5   Parch     889 non-null    int64  \n",
            " 6   Fare      889 non-null    float64\n",
            " 7   Embarked  889 non-null    object \n",
            "dtypes: float64(2), int64(4), object(2)\n",
            "memory usage: 55.7+ KB\n"
          ],
          "name": "stdout"
        }
      ]
    },
    {
      "cell_type": "markdown",
      "metadata": {
        "id": "OiRpXObhhZyT",
        "colab_type": "text"
      },
      "source": [
        "\n",
        "# **Changing Text data to Categorical**\n",
        "Label Encoding it encode the value as per given instance\n",
        "\n",
        "Eg- columns has 3 category C/S/Q--it will form label suppose 0-C, 1-S, 2-Q"
      ]
    },
    {
      "cell_type": "code",
      "metadata": {
        "id": "B9D_UHMshdHi",
        "colab_type": "code",
        "colab": {}
      },
      "source": [
        "from sklearn.preprocessing import LabelEncoder\n",
        "lab = LabelEncoder()\n",
        "\n",
        "df[\"Sex\"] = lab.fit_transform(df[\"Sex\"])\n",
        "df[\"Embarked\"] = lab.fit_transform(df[\"Embarked\"])"
      ],
      "execution_count": 15,
      "outputs": []
    },
    {
      "cell_type": "code",
      "metadata": {
        "id": "jIhw-mY8hgbr",
        "colab_type": "code",
        "colab": {
          "base_uri": "https://localhost:8080/",
          "height": 204
        },
        "outputId": "08cd5464-2a9b-44db-adf5-7eb207ac057c"
      },
      "source": [
        "df.head()"
      ],
      "execution_count": 16,
      "outputs": [
        {
          "output_type": "execute_result",
          "data": {
            "text/html": [
              "<div>\n",
              "<style scoped>\n",
              "    .dataframe tbody tr th:only-of-type {\n",
              "        vertical-align: middle;\n",
              "    }\n",
              "\n",
              "    .dataframe tbody tr th {\n",
              "        vertical-align: top;\n",
              "    }\n",
              "\n",
              "    .dataframe thead th {\n",
              "        text-align: right;\n",
              "    }\n",
              "</style>\n",
              "<table border=\"1\" class=\"dataframe\">\n",
              "  <thead>\n",
              "    <tr style=\"text-align: right;\">\n",
              "      <th></th>\n",
              "      <th>Survived</th>\n",
              "      <th>Pclass</th>\n",
              "      <th>Sex</th>\n",
              "      <th>Age</th>\n",
              "      <th>SibSp</th>\n",
              "      <th>Parch</th>\n",
              "      <th>Fare</th>\n",
              "      <th>Embarked</th>\n",
              "    </tr>\n",
              "  </thead>\n",
              "  <tbody>\n",
              "    <tr>\n",
              "      <th>0</th>\n",
              "      <td>0</td>\n",
              "      <td>3</td>\n",
              "      <td>1</td>\n",
              "      <td>22.0</td>\n",
              "      <td>1</td>\n",
              "      <td>0</td>\n",
              "      <td>7.2500</td>\n",
              "      <td>2</td>\n",
              "    </tr>\n",
              "    <tr>\n",
              "      <th>1</th>\n",
              "      <td>1</td>\n",
              "      <td>1</td>\n",
              "      <td>0</td>\n",
              "      <td>38.0</td>\n",
              "      <td>1</td>\n",
              "      <td>0</td>\n",
              "      <td>71.2833</td>\n",
              "      <td>0</td>\n",
              "    </tr>\n",
              "    <tr>\n",
              "      <th>2</th>\n",
              "      <td>1</td>\n",
              "      <td>3</td>\n",
              "      <td>0</td>\n",
              "      <td>26.0</td>\n",
              "      <td>0</td>\n",
              "      <td>0</td>\n",
              "      <td>7.9250</td>\n",
              "      <td>2</td>\n",
              "    </tr>\n",
              "    <tr>\n",
              "      <th>3</th>\n",
              "      <td>1</td>\n",
              "      <td>1</td>\n",
              "      <td>0</td>\n",
              "      <td>35.0</td>\n",
              "      <td>1</td>\n",
              "      <td>0</td>\n",
              "      <td>53.1000</td>\n",
              "      <td>2</td>\n",
              "    </tr>\n",
              "    <tr>\n",
              "      <th>4</th>\n",
              "      <td>0</td>\n",
              "      <td>3</td>\n",
              "      <td>1</td>\n",
              "      <td>35.0</td>\n",
              "      <td>0</td>\n",
              "      <td>0</td>\n",
              "      <td>8.0500</td>\n",
              "      <td>2</td>\n",
              "    </tr>\n",
              "  </tbody>\n",
              "</table>\n",
              "</div>"
            ],
            "text/plain": [
              "   Survived  Pclass  Sex   Age  SibSp  Parch     Fare  Embarked\n",
              "0         0       3    1  22.0      1      0   7.2500         2\n",
              "1         1       1    0  38.0      1      0  71.2833         0\n",
              "2         1       3    0  26.0      0      0   7.9250         2\n",
              "3         1       1    0  35.0      1      0  53.1000         2\n",
              "4         0       3    1  35.0      0      0   8.0500         2"
            ]
          },
          "metadata": {
            "tags": []
          },
          "execution_count": 16
        }
      ]
    },
    {
      "cell_type": "markdown",
      "metadata": {
        "id": "51lAB8FZhiUL",
        "colab_type": "text"
      },
      "source": [
        "# **EDA**"
      ]
    },
    {
      "cell_type": "markdown",
      "metadata": {
        "id": "_2Ruszv9hmxD",
        "colab_type": "text"
      },
      "source": [
        "I am prefering Raw Data for EDA and not cleaned data."
      ]
    },
    {
      "cell_type": "code",
      "metadata": {
        "id": "AmwDXkmYhitx",
        "colab_type": "code",
        "colab": {}
      },
      "source": [
        "eda =  pd.read_csv('train.csv')"
      ],
      "execution_count": 17,
      "outputs": []
    },
    {
      "cell_type": "code",
      "metadata": {
        "id": "TcsmzvOShvIJ",
        "colab_type": "code",
        "colab": {
          "base_uri": "https://localhost:8080/",
          "height": 255
        },
        "outputId": "5185c361-7330-4abe-92b1-e19c7ab2ca0d"
      },
      "source": [
        "\n",
        "eda.head()"
      ],
      "execution_count": 18,
      "outputs": [
        {
          "output_type": "execute_result",
          "data": {
            "text/html": [
              "<div>\n",
              "<style scoped>\n",
              "    .dataframe tbody tr th:only-of-type {\n",
              "        vertical-align: middle;\n",
              "    }\n",
              "\n",
              "    .dataframe tbody tr th {\n",
              "        vertical-align: top;\n",
              "    }\n",
              "\n",
              "    .dataframe thead th {\n",
              "        text-align: right;\n",
              "    }\n",
              "</style>\n",
              "<table border=\"1\" class=\"dataframe\">\n",
              "  <thead>\n",
              "    <tr style=\"text-align: right;\">\n",
              "      <th></th>\n",
              "      <th>PassengerId</th>\n",
              "      <th>Survived</th>\n",
              "      <th>Pclass</th>\n",
              "      <th>Name</th>\n",
              "      <th>Sex</th>\n",
              "      <th>Age</th>\n",
              "      <th>SibSp</th>\n",
              "      <th>Parch</th>\n",
              "      <th>Ticket</th>\n",
              "      <th>Fare</th>\n",
              "      <th>Cabin</th>\n",
              "      <th>Embarked</th>\n",
              "    </tr>\n",
              "  </thead>\n",
              "  <tbody>\n",
              "    <tr>\n",
              "      <th>0</th>\n",
              "      <td>1</td>\n",
              "      <td>0</td>\n",
              "      <td>3</td>\n",
              "      <td>Braund, Mr. Owen Harris</td>\n",
              "      <td>male</td>\n",
              "      <td>22.0</td>\n",
              "      <td>1</td>\n",
              "      <td>0</td>\n",
              "      <td>A/5 21171</td>\n",
              "      <td>7.2500</td>\n",
              "      <td>NaN</td>\n",
              "      <td>S</td>\n",
              "    </tr>\n",
              "    <tr>\n",
              "      <th>1</th>\n",
              "      <td>2</td>\n",
              "      <td>1</td>\n",
              "      <td>1</td>\n",
              "      <td>Cumings, Mrs. John Bradley (Florence Briggs Th...</td>\n",
              "      <td>female</td>\n",
              "      <td>38.0</td>\n",
              "      <td>1</td>\n",
              "      <td>0</td>\n",
              "      <td>PC 17599</td>\n",
              "      <td>71.2833</td>\n",
              "      <td>C85</td>\n",
              "      <td>C</td>\n",
              "    </tr>\n",
              "    <tr>\n",
              "      <th>2</th>\n",
              "      <td>3</td>\n",
              "      <td>1</td>\n",
              "      <td>3</td>\n",
              "      <td>Heikkinen, Miss. Laina</td>\n",
              "      <td>female</td>\n",
              "      <td>26.0</td>\n",
              "      <td>0</td>\n",
              "      <td>0</td>\n",
              "      <td>STON/O2. 3101282</td>\n",
              "      <td>7.9250</td>\n",
              "      <td>NaN</td>\n",
              "      <td>S</td>\n",
              "    </tr>\n",
              "    <tr>\n",
              "      <th>3</th>\n",
              "      <td>4</td>\n",
              "      <td>1</td>\n",
              "      <td>1</td>\n",
              "      <td>Futrelle, Mrs. Jacques Heath (Lily May Peel)</td>\n",
              "      <td>female</td>\n",
              "      <td>35.0</td>\n",
              "      <td>1</td>\n",
              "      <td>0</td>\n",
              "      <td>113803</td>\n",
              "      <td>53.1000</td>\n",
              "      <td>C123</td>\n",
              "      <td>S</td>\n",
              "    </tr>\n",
              "    <tr>\n",
              "      <th>4</th>\n",
              "      <td>5</td>\n",
              "      <td>0</td>\n",
              "      <td>3</td>\n",
              "      <td>Allen, Mr. William Henry</td>\n",
              "      <td>male</td>\n",
              "      <td>35.0</td>\n",
              "      <td>0</td>\n",
              "      <td>0</td>\n",
              "      <td>373450</td>\n",
              "      <td>8.0500</td>\n",
              "      <td>NaN</td>\n",
              "      <td>S</td>\n",
              "    </tr>\n",
              "  </tbody>\n",
              "</table>\n",
              "</div>"
            ],
            "text/plain": [
              "   PassengerId  Survived  Pclass  ...     Fare Cabin  Embarked\n",
              "0            1         0       3  ...   7.2500   NaN         S\n",
              "1            2         1       1  ...  71.2833   C85         C\n",
              "2            3         1       3  ...   7.9250   NaN         S\n",
              "3            4         1       1  ...  53.1000  C123         S\n",
              "4            5         0       3  ...   8.0500   NaN         S\n",
              "\n",
              "[5 rows x 12 columns]"
            ]
          },
          "metadata": {
            "tags": []
          },
          "execution_count": 18
        }
      ]
    },
    {
      "cell_type": "markdown",
      "metadata": {
        "id": "IXtpI91ehxQK",
        "colab_type": "text"
      },
      "source": [
        "# Catplot"
      ]
    },
    {
      "cell_type": "code",
      "metadata": {
        "id": "mI_HT79Whw9r",
        "colab_type": "code",
        "colab": {
          "base_uri": "https://localhost:8080/",
          "height": 386
        },
        "outputId": "d77a9566-a281-4cb4-c25e-7846d3b04ff9"
      },
      "source": [
        "sns.catplot(x =\"Sex\", hue =\"Survived\", kind =\"count\", data = eda)"
      ],
      "execution_count": 19,
      "outputs": [
        {
          "output_type": "execute_result",
          "data": {
            "text/plain": [
              "<seaborn.axisgrid.FacetGrid at 0x7fae4d2b1b38>"
            ]
          },
          "metadata": {
            "tags": []
          },
          "execution_count": 19
        },
        {
          "output_type": "display_data",
          "data": {
            "image/png": "[encoded data removed]",
            "text/plain": [
              "<Figure size 411.875x360 with 1 Axes>"
            ]
          },
          "metadata": {
            "tags": [],
            "needs_background": "light"
          }
        }
      ]
    },
    {
      "cell_type": "markdown",
      "metadata": {
        "id": "lw8dZFMRh2BB",
        "colab_type": "text"
      },
      "source": [
        "\n",
        "# Inference:\n",
        "Just by observing the graph, it can be approximated that:\n",
        "\n",
        "-The survival rate of men is around 20% and that of women is around 75%.\n",
        "\n",
        "Therefore, whether a passenger is a male or a female plays an important role in determining if one is going to survive."
      ]
    },
    {
      "cell_type": "code",
      "metadata": {
        "id": "8Me03z8Oh7CZ",
        "colab_type": "code",
        "colab": {
          "base_uri": "https://localhost:8080/",
          "height": 325
        },
        "outputId": "6e8f208a-72ce-444b-a6df-e3a6763cdbca"
      },
      "source": [
        "sns.catplot(x ='Embarked', hue ='Survived', kind ='count', col ='Pclass', data =eda)"
      ],
      "execution_count": 20,
      "outputs": [
        {
          "output_type": "execute_result",
          "data": {
            "text/plain": [
              "<seaborn.axisgrid.FacetGrid at 0x7fae4cdb2da0>"
            ]
          },
          "metadata": {
            "tags": []
          },
          "execution_count": 20
        },
        {
          "output_type": "display_data",
          "data": {
            "image/png": "[encoded data removed]",
            "text/plain": [
              "<Figure size 1131.88x360 with 3 Axes>"
            ]
          },
          "metadata": {
            "tags": [],
            "needs_background": "light"
          }
        }
      ]
    },
    {
      "cell_type": "markdown",
      "metadata": {
        "id": "Vge0xbiEiFVs",
        "colab_type": "text"
      },
      "source": [
        "\n",
        "## Heatmap"
      ]
    },
    {
      "cell_type": "code",
      "metadata": {
        "id": "et_kKu33iGPb",
        "colab_type": "code",
        "colab": {
          "base_uri": "https://localhost:8080/",
          "height": 296
        },
        "outputId": "9fd557f8-11ec-4440-d2c8-64f4aef34de3"
      },
      "source": [
        "# Group the dataset by Pclass and Survived and then unstack them \n",
        "\n",
        "group = eda.groupby(['Pclass', 'Survived']) \n",
        "pclass_survived = group.size().unstack() \n",
        "\n",
        "# Heatmap - Color encoded 2D representation of data. \n",
        "\n",
        "sns.heatmap(pclass_survived, annot = True, fmt =\"d\")"
      ],
      "execution_count": 21,
      "outputs": [
        {
          "output_type": "execute_result",
          "data": {
            "text/plain": [
              "<matplotlib.axes._subplots.AxesSubplot at 0x7fae4a471550>"
            ]
          },
          "metadata": {
            "tags": []
          },
          "execution_count": 21
        },
        {
          "output_type": "display_data",
          "data": {
            "image/png": "[encoded data removed]",
            "text/plain": [
              "<Figure size 432x288 with 2 Axes>"
            ]
          },
          "metadata": {
            "tags": [],
            "needs_background": "light"
          }
        }
      ]
    },
    {
      "cell_type": "markdown",
      "metadata": {
        "id": "QqHoWh1-iKPD",
        "colab_type": "text"
      },
      "source": [
        "## Inference\n",
        "It helps in determining if higher-class passengers had more survival rate than the lower class ones or vice versa.\n",
        "\n",
        "Class 1 passengers have a higher survival chance compared to classes 2 and 3.\n",
        "It implies that Pclass contributes a lot to a passenger’s survival rate."
      ]
    },
    {
      "cell_type": "markdown",
      "metadata": {
        "id": "tGQ3zJ5ViNZD",
        "colab_type": "text"
      },
      "source": [
        "\n",
        "Spliting Data into Dependent Variable and Independent variable"
      ]
    },
    {
      "cell_type": "code",
      "metadata": {
        "id": "B5iN3ZudiLQd",
        "colab_type": "code",
        "colab": {
          "base_uri": "https://localhost:8080/",
          "height": 204
        },
        "outputId": "084a1e68-21a5-48e6-f0a9-566bedd6d040"
      },
      "source": [
        "df.head()"
      ],
      "execution_count": 22,
      "outputs": [
        {
          "output_type": "execute_result",
          "data": {
            "text/html": [
              "<div>\n",
              "<style scoped>\n",
              "    .dataframe tbody tr th:only-of-type {\n",
              "        vertical-align: middle;\n",
              "    }\n",
              "\n",
              "    .dataframe tbody tr th {\n",
              "        vertical-align: top;\n",
              "    }\n",
              "\n",
              "    .dataframe thead th {\n",
              "        text-align: right;\n",
              "    }\n",
              "</style>\n",
              "<table border=\"1\" class=\"dataframe\">\n",
              "  <thead>\n",
              "    <tr style=\"text-align: right;\">\n",
              "      <th></th>\n",
              "      <th>Survived</th>\n",
              "      <th>Pclass</th>\n",
              "      <th>Sex</th>\n",
              "      <th>Age</th>\n",
              "      <th>SibSp</th>\n",
              "      <th>Parch</th>\n",
              "      <th>Fare</th>\n",
              "      <th>Embarked</th>\n",
              "    </tr>\n",
              "  </thead>\n",
              "  <tbody>\n",
              "    <tr>\n",
              "      <th>0</th>\n",
              "      <td>0</td>\n",
              "      <td>3</td>\n",
              "      <td>1</td>\n",
              "      <td>22.0</td>\n",
              "      <td>1</td>\n",
              "      <td>0</td>\n",
              "      <td>7.2500</td>\n",
              "      <td>2</td>\n",
              "    </tr>\n",
              "    <tr>\n",
              "      <th>1</th>\n",
              "      <td>1</td>\n",
              "      <td>1</td>\n",
              "      <td>0</td>\n",
              "      <td>38.0</td>\n",
              "      <td>1</td>\n",
              "      <td>0</td>\n",
              "      <td>71.2833</td>\n",
              "      <td>0</td>\n",
              "    </tr>\n",
              "    <tr>\n",
              "      <th>2</th>\n",
              "      <td>1</td>\n",
              "      <td>3</td>\n",
              "      <td>0</td>\n",
              "      <td>26.0</td>\n",
              "      <td>0</td>\n",
              "      <td>0</td>\n",
              "      <td>7.9250</td>\n",
              "      <td>2</td>\n",
              "    </tr>\n",
              "    <tr>\n",
              "      <th>3</th>\n",
              "      <td>1</td>\n",
              "      <td>1</td>\n",
              "      <td>0</td>\n",
              "      <td>35.0</td>\n",
              "      <td>1</td>\n",
              "      <td>0</td>\n",
              "      <td>53.1000</td>\n",
              "      <td>2</td>\n",
              "    </tr>\n",
              "    <tr>\n",
              "      <th>4</th>\n",
              "      <td>0</td>\n",
              "      <td>3</td>\n",
              "      <td>1</td>\n",
              "      <td>35.0</td>\n",
              "      <td>0</td>\n",
              "      <td>0</td>\n",
              "      <td>8.0500</td>\n",
              "      <td>2</td>\n",
              "    </tr>\n",
              "  </tbody>\n",
              "</table>\n",
              "</div>"
            ],
            "text/plain": [
              "   Survived  Pclass  Sex   Age  SibSp  Parch     Fare  Embarked\n",
              "0         0       3    1  22.0      1      0   7.2500         2\n",
              "1         1       1    0  38.0      1      0  71.2833         0\n",
              "2         1       3    0  26.0      0      0   7.9250         2\n",
              "3         1       1    0  35.0      1      0  53.1000         2\n",
              "4         0       3    1  35.0      0      0   8.0500         2"
            ]
          },
          "metadata": {
            "tags": []
          },
          "execution_count": 22
        }
      ]
    },
    {
      "cell_type": "code",
      "metadata": {
        "id": "Glc0zNZXiR8j",
        "colab_type": "code",
        "colab": {
          "base_uri": "https://localhost:8080/",
          "height": 204
        },
        "outputId": "3ee73d6c-538a-450f-ae21-3036de4034c4"
      },
      "source": [
        "y = df.iloc[:,:1]\n",
        "y.head()\n"
      ],
      "execution_count": 23,
      "outputs": [
        {
          "output_type": "execute_result",
          "data": {
            "text/html": [
              "<div>\n",
              "<style scoped>\n",
              "    .dataframe tbody tr th:only-of-type {\n",
              "        vertical-align: middle;\n",
              "    }\n",
              "\n",
              "    .dataframe tbody tr th {\n",
              "        vertical-align: top;\n",
              "    }\n",
              "\n",
              "    .dataframe thead th {\n",
              "        text-align: right;\n",
              "    }\n",
              "</style>\n",
              "<table border=\"1\" class=\"dataframe\">\n",
              "  <thead>\n",
              "    <tr style=\"text-align: right;\">\n",
              "      <th></th>\n",
              "      <th>Survived</th>\n",
              "    </tr>\n",
              "  </thead>\n",
              "  <tbody>\n",
              "    <tr>\n",
              "      <th>0</th>\n",
              "      <td>0</td>\n",
              "    </tr>\n",
              "    <tr>\n",
              "      <th>1</th>\n",
              "      <td>1</td>\n",
              "    </tr>\n",
              "    <tr>\n",
              "      <th>2</th>\n",
              "      <td>1</td>\n",
              "    </tr>\n",
              "    <tr>\n",
              "      <th>3</th>\n",
              "      <td>1</td>\n",
              "    </tr>\n",
              "    <tr>\n",
              "      <th>4</th>\n",
              "      <td>0</td>\n",
              "    </tr>\n",
              "  </tbody>\n",
              "</table>\n",
              "</div>"
            ],
            "text/plain": [
              "   Survived\n",
              "0         0\n",
              "1         1\n",
              "2         1\n",
              "3         1\n",
              "4         0"
            ]
          },
          "metadata": {
            "tags": []
          },
          "execution_count": 23
        }
      ]
    },
    {
      "cell_type": "code",
      "metadata": {
        "id": "anJMJbhXiVbz",
        "colab_type": "code",
        "colab": {
          "base_uri": "https://localhost:8080/",
          "height": 204
        },
        "outputId": "26ba6e5f-98a1-410a-f685-34067ff1da64"
      },
      "source": [
        "X = df.drop([\"Survived\"],axis=1)\n",
        "X.head()"
      ],
      "execution_count": 24,
      "outputs": [
        {
          "output_type": "execute_result",
          "data": {
            "text/html": [
              "<div>\n",
              "<style scoped>\n",
              "    .dataframe tbody tr th:only-of-type {\n",
              "        vertical-align: middle;\n",
              "    }\n",
              "\n",
              "    .dataframe tbody tr th {\n",
              "        vertical-align: top;\n",
              "    }\n",
              "\n",
              "    .dataframe thead th {\n",
              "        text-align: right;\n",
              "    }\n",
              "</style>\n",
              "<table border=\"1\" class=\"dataframe\">\n",
              "  <thead>\n",
              "    <tr style=\"text-align: right;\">\n",
              "      <th></th>\n",
              "      <th>Pclass</th>\n",
              "      <th>Sex</th>\n",
              "      <th>Age</th>\n",
              "      <th>SibSp</th>\n",
              "      <th>Parch</th>\n",
              "      <th>Fare</th>\n",
              "      <th>Embarked</th>\n",
              "    </tr>\n",
              "  </thead>\n",
              "  <tbody>\n",
              "    <tr>\n",
              "      <th>0</th>\n",
              "      <td>3</td>\n",
              "      <td>1</td>\n",
              "      <td>22.0</td>\n",
              "      <td>1</td>\n",
              "      <td>0</td>\n",
              "      <td>7.2500</td>\n",
              "      <td>2</td>\n",
              "    </tr>\n",
              "    <tr>\n",
              "      <th>1</th>\n",
              "      <td>1</td>\n",
              "      <td>0</td>\n",
              "      <td>38.0</td>\n",
              "      <td>1</td>\n",
              "      <td>0</td>\n",
              "      <td>71.2833</td>\n",
              "      <td>0</td>\n",
              "    </tr>\n",
              "    <tr>\n",
              "      <th>2</th>\n",
              "      <td>3</td>\n",
              "      <td>0</td>\n",
              "      <td>26.0</td>\n",
              "      <td>0</td>\n",
              "      <td>0</td>\n",
              "      <td>7.9250</td>\n",
              "      <td>2</td>\n",
              "    </tr>\n",
              "    <tr>\n",
              "      <th>3</th>\n",
              "      <td>1</td>\n",
              "      <td>0</td>\n",
              "      <td>35.0</td>\n",
              "      <td>1</td>\n",
              "      <td>0</td>\n",
              "      <td>53.1000</td>\n",
              "      <td>2</td>\n",
              "    </tr>\n",
              "    <tr>\n",
              "      <th>4</th>\n",
              "      <td>3</td>\n",
              "      <td>1</td>\n",
              "      <td>35.0</td>\n",
              "      <td>0</td>\n",
              "      <td>0</td>\n",
              "      <td>8.0500</td>\n",
              "      <td>2</td>\n",
              "    </tr>\n",
              "  </tbody>\n",
              "</table>\n",
              "</div>"
            ],
            "text/plain": [
              "   Pclass  Sex   Age  SibSp  Parch     Fare  Embarked\n",
              "0       3    1  22.0      1      0   7.2500         2\n",
              "1       1    0  38.0      1      0  71.2833         0\n",
              "2       3    0  26.0      0      0   7.9250         2\n",
              "3       1    0  35.0      1      0  53.1000         2\n",
              "4       3    1  35.0      0      0   8.0500         2"
            ]
          },
          "metadata": {
            "tags": []
          },
          "execution_count": 24
        }
      ]
    },
    {
      "cell_type": "markdown",
      "metadata": {
        "id": "QONSDuueiXaT",
        "colab_type": "text"
      },
      "source": [
        "**Train the model using Decision Tree**"
      ]
    },
    {
      "cell_type": "code",
      "metadata": {
        "id": "rAtWYG8BiX8H",
        "colab_type": "code",
        "colab": {}
      },
      "source": [
        "\n",
        "model = tree.DecisionTreeClassifier(max_depth=14)"
      ],
      "execution_count": 25,
      "outputs": []
    },
    {
      "cell_type": "code",
      "metadata": {
        "id": "5-A0AZ4vie4E",
        "colab_type": "code",
        "colab": {
          "base_uri": "https://localhost:8080/",
          "height": 119
        },
        "outputId": "eba5a95f-5750-402a-dcf1-91bbf0e32948"
      },
      "source": [
        "\n",
        "model.fit(X,y)"
      ],
      "execution_count": 26,
      "outputs": [
        {
          "output_type": "execute_result",
          "data": {
            "text/plain": [
              "DecisionTreeClassifier(ccp_alpha=0.0, class_weight=None, criterion='gini',\n",
              "                       max_depth=14, max_features=None, max_leaf_nodes=None,\n",
              "                       min_impurity_decrease=0.0, min_impurity_split=None,\n",
              "                       min_samples_leaf=1, min_samples_split=2,\n",
              "                       min_weight_fraction_leaf=0.0, presort='deprecated',\n",
              "                       random_state=None, splitter='best')"
            ]
          },
          "metadata": {
            "tags": []
          },
          "execution_count": 26
        }
      ]
    },
    {
      "cell_type": "markdown",
      "metadata": {
        "id": "r1IjRTooiheD",
        "colab_type": "text"
      },
      "source": [
        "\n",
        "Predicting Score"
      ]
    },
    {
      "cell_type": "code",
      "metadata": {
        "id": "yRM1yXB5ih_s",
        "colab_type": "code",
        "colab": {
          "base_uri": "https://localhost:8080/",
          "height": 34
        },
        "outputId": "b1c802a6-2d95-4278-e5b6-1f5b5f189f9b"
      },
      "source": [
        "\n",
        "model.score(X,y)"
      ],
      "execution_count": 27,
      "outputs": [
        {
          "output_type": "execute_result",
          "data": {
            "text/plain": [
              "0.96962879640045"
            ]
          },
          "metadata": {
            "tags": []
          },
          "execution_count": 27
        }
      ]
    },
    {
      "cell_type": "markdown",
      "metadata": {
        "id": "Nsq0-qEtiko1",
        "colab_type": "text"
      },
      "source": [
        "Applying Random Forest"
      ]
    },
    {
      "cell_type": "code",
      "metadata": {
        "id": "f6bFjVdlilAm",
        "colab_type": "code",
        "colab": {}
      },
      "source": [
        "rf = RandomForestClassifier(n_estimators=1000, max_features=2, oob_score=True)"
      ],
      "execution_count": 28,
      "outputs": []
    },
    {
      "cell_type": "code",
      "metadata": {
        "id": "h5-Ak4gCingT",
        "colab_type": "code",
        "colab": {
          "base_uri": "https://localhost:8080/",
          "height": 153
        },
        "outputId": "87ff0002-9772-4870-b2b7-d43c0797585b"
      },
      "source": [
        "rf.fit(X,y)"
      ],
      "execution_count": 29,
      "outputs": [
        {
          "output_type": "execute_result",
          "data": {
            "text/plain": [
              "RandomForestClassifier(bootstrap=True, ccp_alpha=0.0, class_weight=None,\n",
              "                       criterion='gini', max_depth=None, max_features=2,\n",
              "                       max_leaf_nodes=None, max_samples=None,\n",
              "                       min_impurity_decrease=0.0, min_impurity_split=None,\n",
              "                       min_samples_leaf=1, min_samples_split=2,\n",
              "                       min_weight_fraction_leaf=0.0, n_estimators=1000,\n",
              "                       n_jobs=None, oob_score=True, random_state=None,\n",
              "                       verbose=0, warm_start=False)"
            ]
          },
          "metadata": {
            "tags": []
          },
          "execution_count": 29
        }
      ]
    },
    {
      "cell_type": "markdown",
      "metadata": {
        "id": "UtjHU1y1iqP0",
        "colab_type": "text"
      },
      "source": [
        "Checking Score"
      ]
    },
    {
      "cell_type": "code",
      "metadata": {
        "id": "fqMh9hXDiqtZ",
        "colab_type": "code",
        "colab": {
          "base_uri": "https://localhost:8080/",
          "height": 34
        },
        "outputId": "2a4e76f4-f7d1-4493-edb0-94fdffdbaecc"
      },
      "source": [
        "rf.oob_score_"
      ],
      "execution_count": 30,
      "outputs": [
        {
          "output_type": "execute_result",
          "data": {
            "text/plain": [
              "0.8042744656917885"
            ]
          },
          "metadata": {
            "tags": []
          },
          "execution_count": 30
        }
      ]
    },
    {
      "cell_type": "markdown",
      "metadata": {
        "id": "Wk_J_OxuiuZ0",
        "colab_type": "text"
      },
      "source": [
        "\n",
        "Finding Most Relevent Column for predicting Person Survived or not"
      ]
    },
    {
      "cell_type": "code",
      "metadata": {
        "id": "xYtGFWy1ir-p",
        "colab_type": "code",
        "colab": {
          "base_uri": "https://localhost:8080/",
          "height": 136
        },
        "outputId": "2fbf8fc9-2e2c-4407-ed4a-51eac692dc65"
      },
      "source": [
        "\n",
        "a = ['Pclass', 'Sex', 'Age', 'SibSp', 'Parch', 'Fare','Embarked']\n",
        "for feature,imp in zip(a, rf.feature_importances_):\n",
        "    print(feature,\"\\t :\",imp);"
      ],
      "execution_count": 31,
      "outputs": [
        {
          "output_type": "stream",
          "text": [
            "Pclass \t : 0.08343605540630214\n",
            "Sex \t : 0.26368582785057815\n",
            "Age \t : 0.25528384206136195\n",
            "SibSp \t : 0.05101356909167768\n",
            "Parch \t : 0.03976577695733814\n",
            "Fare \t : 0.2714378698042491\n",
            "Embarked \t : 0.035377058828492756\n"
          ],
          "name": "stdout"
        }
      ]
    },
    {
      "cell_type": "markdown",
      "metadata": {
        "id": "ORSg9nkViyzp",
        "colab_type": "text"
      },
      "source": [
        "# Inference:\n",
        "Pclass, Sex , Age, Fare have value more than 0.05 ie, They are Important feature and affect the prediction of Survived Persons"
      ]
    },
    {
      "cell_type": "code",
      "metadata": {
        "id": "L92Hdf89i5pp",
        "colab_type": "code",
        "colab": {
          "base_uri": "https://localhost:8080/",
          "height": 204
        },
        "outputId": "28da5c87-5c0b-4d51-a062-c1de027701cd"
      },
      "source": [
        "df.head()"
      ],
      "execution_count": 32,
      "outputs": [
        {
          "output_type": "execute_result",
          "data": {
            "text/html": [
              "<div>\n",
              "<style scoped>\n",
              "    .dataframe tbody tr th:only-of-type {\n",
              "        vertical-align: middle;\n",
              "    }\n",
              "\n",
              "    .dataframe tbody tr th {\n",
              "        vertical-align: top;\n",
              "    }\n",
              "\n",
              "    .dataframe thead th {\n",
              "        text-align: right;\n",
              "    }\n",
              "</style>\n",
              "<table border=\"1\" class=\"dataframe\">\n",
              "  <thead>\n",
              "    <tr style=\"text-align: right;\">\n",
              "      <th></th>\n",
              "      <th>Survived</th>\n",
              "      <th>Pclass</th>\n",
              "      <th>Sex</th>\n",
              "      <th>Age</th>\n",
              "      <th>SibSp</th>\n",
              "      <th>Parch</th>\n",
              "      <th>Fare</th>\n",
              "      <th>Embarked</th>\n",
              "    </tr>\n",
              "  </thead>\n",
              "  <tbody>\n",
              "    <tr>\n",
              "      <th>0</th>\n",
              "      <td>0</td>\n",
              "      <td>3</td>\n",
              "      <td>1</td>\n",
              "      <td>22.0</td>\n",
              "      <td>1</td>\n",
              "      <td>0</td>\n",
              "      <td>7.2500</td>\n",
              "      <td>2</td>\n",
              "    </tr>\n",
              "    <tr>\n",
              "      <th>1</th>\n",
              "      <td>1</td>\n",
              "      <td>1</td>\n",
              "      <td>0</td>\n",
              "      <td>38.0</td>\n",
              "      <td>1</td>\n",
              "      <td>0</td>\n",
              "      <td>71.2833</td>\n",
              "      <td>0</td>\n",
              "    </tr>\n",
              "    <tr>\n",
              "      <th>2</th>\n",
              "      <td>1</td>\n",
              "      <td>3</td>\n",
              "      <td>0</td>\n",
              "      <td>26.0</td>\n",
              "      <td>0</td>\n",
              "      <td>0</td>\n",
              "      <td>7.9250</td>\n",
              "      <td>2</td>\n",
              "    </tr>\n",
              "    <tr>\n",
              "      <th>3</th>\n",
              "      <td>1</td>\n",
              "      <td>1</td>\n",
              "      <td>0</td>\n",
              "      <td>35.0</td>\n",
              "      <td>1</td>\n",
              "      <td>0</td>\n",
              "      <td>53.1000</td>\n",
              "      <td>2</td>\n",
              "    </tr>\n",
              "    <tr>\n",
              "      <th>4</th>\n",
              "      <td>0</td>\n",
              "      <td>3</td>\n",
              "      <td>1</td>\n",
              "      <td>35.0</td>\n",
              "      <td>0</td>\n",
              "      <td>0</td>\n",
              "      <td>8.0500</td>\n",
              "      <td>2</td>\n",
              "    </tr>\n",
              "  </tbody>\n",
              "</table>\n",
              "</div>"
            ],
            "text/plain": [
              "   Survived  Pclass  Sex   Age  SibSp  Parch     Fare  Embarked\n",
              "0         0       3    1  22.0      1      0   7.2500         2\n",
              "1         1       1    0  38.0      1      0  71.2833         0\n",
              "2         1       3    0  26.0      0      0   7.9250         2\n",
              "3         1       1    0  35.0      1      0  53.1000         2\n",
              "4         0       3    1  35.0      0      0   8.0500         2"
            ]
          },
          "metadata": {
            "tags": []
          },
          "execution_count": 32
        }
      ]
    },
    {
      "cell_type": "markdown",
      "metadata": {
        "id": "aGs1PbcSi9iY",
        "colab_type": "text"
      },
      "source": [
        "Spliting Dataset according to Important Columns"
      ]
    },
    {
      "cell_type": "code",
      "metadata": {
        "id": "NGL5w9Kui-AY",
        "colab_type": "code",
        "colab": {
          "base_uri": "https://localhost:8080/",
          "height": 204
        },
        "outputId": "18db27f7-ea4d-4672-cb95-d105ec9c60f4"
      },
      "source": [
        "x = df[['Age', 'Sex', 'Fare','Pclass']]\n",
        "x.head()"
      ],
      "execution_count": 34,
      "outputs": [
        {
          "output_type": "execute_result",
          "data": {
            "text/html": [
              "<div>\n",
              "<style scoped>\n",
              "    .dataframe tbody tr th:only-of-type {\n",
              "        vertical-align: middle;\n",
              "    }\n",
              "\n",
              "    .dataframe tbody tr th {\n",
              "        vertical-align: top;\n",
              "    }\n",
              "\n",
              "    .dataframe thead th {\n",
              "        text-align: right;\n",
              "    }\n",
              "</style>\n",
              "<table border=\"1\" class=\"dataframe\">\n",
              "  <thead>\n",
              "    <tr style=\"text-align: right;\">\n",
              "      <th></th>\n",
              "      <th>Age</th>\n",
              "      <th>Sex</th>\n",
              "      <th>Fare</th>\n",
              "      <th>Pclass</th>\n",
              "    </tr>\n",
              "  </thead>\n",
              "  <tbody>\n",
              "    <tr>\n",
              "      <th>0</th>\n",
              "      <td>22.0</td>\n",
              "      <td>1</td>\n",
              "      <td>7.2500</td>\n",
              "      <td>3</td>\n",
              "    </tr>\n",
              "    <tr>\n",
              "      <th>1</th>\n",
              "      <td>38.0</td>\n",
              "      <td>0</td>\n",
              "      <td>71.2833</td>\n",
              "      <td>1</td>\n",
              "    </tr>\n",
              "    <tr>\n",
              "      <th>2</th>\n",
              "      <td>26.0</td>\n",
              "      <td>0</td>\n",
              "      <td>7.9250</td>\n",
              "      <td>3</td>\n",
              "    </tr>\n",
              "    <tr>\n",
              "      <th>3</th>\n",
              "      <td>35.0</td>\n",
              "      <td>0</td>\n",
              "      <td>53.1000</td>\n",
              "      <td>1</td>\n",
              "    </tr>\n",
              "    <tr>\n",
              "      <th>4</th>\n",
              "      <td>35.0</td>\n",
              "      <td>1</td>\n",
              "      <td>8.0500</td>\n",
              "      <td>3</td>\n",
              "    </tr>\n",
              "  </tbody>\n",
              "</table>\n",
              "</div>"
            ],
            "text/plain": [
              "    Age  Sex     Fare  Pclass\n",
              "0  22.0    1   7.2500       3\n",
              "1  38.0    0  71.2833       1\n",
              "2  26.0    0   7.9250       3\n",
              "3  35.0    0  53.1000       1\n",
              "4  35.0    1   8.0500       3"
            ]
          },
          "metadata": {
            "tags": []
          },
          "execution_count": 34
        }
      ]
    },
    {
      "cell_type": "code",
      "metadata": {
        "id": "arH5F5wfjHOa",
        "colab_type": "code",
        "colab": {
          "base_uri": "https://localhost:8080/",
          "height": 204
        },
        "outputId": "56b108fa-6cd0-4020-be79-3e0212823df0"
      },
      "source": [
        "y.head()"
      ],
      "execution_count": 35,
      "outputs": [
        {
          "output_type": "execute_result",
          "data": {
            "text/html": [
              "<div>\n",
              "<style scoped>\n",
              "    .dataframe tbody tr th:only-of-type {\n",
              "        vertical-align: middle;\n",
              "    }\n",
              "\n",
              "    .dataframe tbody tr th {\n",
              "        vertical-align: top;\n",
              "    }\n",
              "\n",
              "    .dataframe thead th {\n",
              "        text-align: right;\n",
              "    }\n",
              "</style>\n",
              "<table border=\"1\" class=\"dataframe\">\n",
              "  <thead>\n",
              "    <tr style=\"text-align: right;\">\n",
              "      <th></th>\n",
              "      <th>Survived</th>\n",
              "    </tr>\n",
              "  </thead>\n",
              "  <tbody>\n",
              "    <tr>\n",
              "      <th>0</th>\n",
              "      <td>0</td>\n",
              "    </tr>\n",
              "    <tr>\n",
              "      <th>1</th>\n",
              "      <td>1</td>\n",
              "    </tr>\n",
              "    <tr>\n",
              "      <th>2</th>\n",
              "      <td>1</td>\n",
              "    </tr>\n",
              "    <tr>\n",
              "      <th>3</th>\n",
              "      <td>1</td>\n",
              "    </tr>\n",
              "    <tr>\n",
              "      <th>4</th>\n",
              "      <td>0</td>\n",
              "    </tr>\n",
              "  </tbody>\n",
              "</table>\n",
              "</div>"
            ],
            "text/plain": [
              "   Survived\n",
              "0         0\n",
              "1         1\n",
              "2         1\n",
              "3         1\n",
              "4         0"
            ]
          },
          "metadata": {
            "tags": []
          },
          "execution_count": 35
        }
      ]
    },
    {
      "cell_type": "markdown",
      "metadata": {
        "id": "7l1ogdk2jJhh",
        "colab_type": "text"
      },
      "source": [
        "\n",
        "Fitting Decision Tree"
      ]
    },
    {
      "cell_type": "code",
      "metadata": {
        "id": "SDxRt13XjJ5S",
        "colab_type": "code",
        "colab": {
          "base_uri": "https://localhost:8080/",
          "height": 119
        },
        "outputId": "7ba018d1-5fdd-4245-c5fe-042a5e6a481e"
      },
      "source": [
        "model = tree.DecisionTreeClassifier(max_depth=8)\n",
        "model.fit(x,y)"
      ],
      "execution_count": 36,
      "outputs": [
        {
          "output_type": "execute_result",
          "data": {
            "text/plain": [
              "DecisionTreeClassifier(ccp_alpha=0.0, class_weight=None, criterion='gini',\n",
              "                       max_depth=8, max_features=None, max_leaf_nodes=None,\n",
              "                       min_impurity_decrease=0.0, min_impurity_split=None,\n",
              "                       min_samples_leaf=1, min_samples_split=2,\n",
              "                       min_weight_fraction_leaf=0.0, presort='deprecated',\n",
              "                       random_state=None, splitter='best')"
            ]
          },
          "metadata": {
            "tags": []
          },
          "execution_count": 36
        }
      ]
    },
    {
      "cell_type": "markdown",
      "metadata": {
        "id": "sAEnNzcGjMZq",
        "colab_type": "text"
      },
      "source": [
        "\n",
        "Creating Tree"
      ]
    },
    {
      "cell_type": "code",
      "metadata": {
        "id": "JlLqVyohjMuw",
        "colab_type": "code",
        "colab": {}
      },
      "source": [
        "from sklearn.tree import export_graphviz\n",
        "from IPython.display import SVG\n",
        "from graphviz import Source\n",
        "from IPython.display import display"
      ],
      "execution_count": 37,
      "outputs": []
    },
    {
      "cell_type": "code",
      "metadata": {
        "id": "-zF32iWIjRTq",
        "colab_type": "code",
        "colab": {}
      },
      "source": [
        "with open('dt2.dot','w') as f:\n",
        "    f = tree.export_graphviz(model, feature_names=['Age', 'Sex', 'Fare','Pclass'], out_file=f);"
      ],
      "execution_count": 38,
      "outputs": []
    },
    {
      "cell_type": "code",
      "metadata": {
        "id": "2Tu-AzexjTPy",
        "colab_type": "code",
        "colab": {
          "base_uri": "https://localhost:8080/",
          "height": 1000
        },
        "outputId": "1aca5222-ed0a-4963-9dca-bfacd8376312"
      },
      "source": [
        "graph = Source(tree.export_graphviz(model, out_file=None, feature_names=['Age', 'Sex', 'Fare','Pclass'],\n",
        "                                    class_names=['0','1'] , filled = True))\n",
        "display(SVG(graph.pipe(format='svg')))"
      ],
      "execution_count": 39,
      "outputs": [
        {
          "output_type": "display_data",
          "data": {
            "text/plain": [
              "<IPython.core.display.SVG object>"
            ],
            "image/svg+xml": "<svg height=\"1028pt\" viewBox=\"0.00 0.00 5121.50 1028.00\" width=\"5122pt\" xmlns=\"http://www.w3.org/2000/svg\" xmlns:xlink=\"http://www.w3.org/1999/xlink\">\n<g class=\"graph\" id=\"graph0\" transform=\"scale(1 1) rotate(0) translate(4 1024)\">\n<title>Tree</title>\n<polygon fill=\"#ffffff\" points=\"-4,4 -4,-1024 5117.5,-1024 5117.5,4 -4,4\" stroke=\"transparent\"/>\n<!-- 0 -->\n<g class=\"node\" id=\"node1\">\n<title>0</title>\n<polygon fill=\"#f5cfb4\" points=\"1972.5,-1020 1847.5,-1020 1847.5,-937 1972.5,-937 1972.5,-1020\" stroke=\"#000000\"/>\n<text fill=\"#000000\" font-family=\"Times,serif\" font-size=\"14.00\" text-anchor=\"middle\" x=\"1910\" y=\"-1004.8\">Sex &lt;= 0.5</text>\n<text fill=\"#000000\" font-family=\"Times,serif\" font-size=\"14.00\" text-anchor=\"middle\" x=\"1910\" y=\"-989.8\">gini = 0.472</text>\n<text fill=\"#000000\" font-family=\"Times,serif\" font-size=\"14.00\" text-anchor=\"middle\" x=\"1910\" y=\"-974.8\">samples = 889</text>\n<text fill=\"#000000\" font-family=\"Times,serif\" font-size=\"14.00\" text-anchor=\"middle\" x=\"1910\" y=\"-959.8\">value = [549, 340]</text>\n<text fill=\"#000000\" font-family=\"Times,serif\" font-size=\"14.00\" text-anchor=\"middle\" x=\"1910\" y=\"-944.8\">class = 0</text>\n</g>\n<!-- 1 -->\n<g class=\"node\" id=\"node2\">\n<title>1</title>\n<polygon fill=\"#7ebfee\" points=\"1738.5,-901 1621.5,-901 1621.5,-818 1738.5,-818 1738.5,-901\" stroke=\"#000000\"/>\n<text fill=\"#000000\" font-family=\"Times,serif\" font-size=\"14.00\" text-anchor=\"middle\" x=\"1680\" y=\"-885.8\">Pclass &lt;= 2.5</text>\n<text fill=\"#000000\" font-family=\"Times,serif\" font-size=\"14.00\" text-anchor=\"middle\" x=\"1680\" y=\"-870.8\">gini = 0.384</text>\n<text fill=\"#000000\" font-family=\"Times,serif\" font-size=\"14.00\" text-anchor=\"middle\" x=\"1680\" y=\"-855.8\">samples = 312</text>\n<text fill=\"#000000\" font-family=\"Times,serif\" font-size=\"14.00\" text-anchor=\"middle\" x=\"1680\" y=\"-840.8\">value = [81, 231]</text>\n<text fill=\"#000000\" font-family=\"Times,serif\" font-size=\"14.00\" text-anchor=\"middle\" x=\"1680\" y=\"-825.8\">class = 1</text>\n</g>\n<!-- 0&#45;&gt;1 -->\n<g class=\"edge\" id=\"edge1\">\n<title>0-&gt;1</title>\n<path d=\"M1847.4553,-946.1399C1816.5821,-930.1664 1779.2897,-910.8716 1747.7415,-894.5489\" fill=\"none\" stroke=\"#000000\"/>\n<polygon fill=\"#000000\" points=\"1749.0685,-891.2948 1738.5785,-889.808 1745.8518,-897.5119 1749.0685,-891.2948\" stroke=\"#000000\"/>\n<text fill=\"#000000\" font-family=\"Times,serif\" font-size=\"14.00\" text-anchor=\"middle\" x=\"1746.1558\" y=\"-909.9321\">True</text>\n</g>\n<!-- 70 -->\n<g class=\"node\" id=\"node71\">\n<title>70</title>\n<polygon fill=\"#eb9e67\" points=\"2257.5,-901 2132.5,-901 2132.5,-818 2257.5,-818 2257.5,-901\" stroke=\"#000000\"/>\n<text fill=\"#000000\" font-family=\"Times,serif\" font-size=\"14.00\" text-anchor=\"middle\" x=\"2195\" y=\"-885.8\">Age &lt;= 6.5</text>\n<text fill=\"#000000\" font-family=\"Times,serif\" font-size=\"14.00\" text-anchor=\"middle\" x=\"2195\" y=\"-870.8\">gini = 0.306</text>\n<text fill=\"#000000\" font-family=\"Times,serif\" font-size=\"14.00\" text-anchor=\"middle\" x=\"2195\" y=\"-855.8\">samples = 577</text>\n<text fill=\"#000000\" font-family=\"Times,serif\" font-size=\"14.00\" text-anchor=\"middle\" x=\"2195\" y=\"-840.8\">value = [468, 109]</text>\n<text fill=\"#000000\" font-family=\"Times,serif\" font-size=\"14.00\" text-anchor=\"middle\" x=\"2195\" y=\"-825.8\">class = 0</text>\n</g>\n<!-- 0&#45;&gt;70 -->\n<g class=\"edge\" id=\"edge70\">\n<title>0-&gt;70</title>\n<path d=\"M1972.5445,-952.3849C2016.8468,-933.8868 2076.3935,-909.0234 2122.7301,-889.6758\" fill=\"none\" stroke=\"#000000\"/>\n<polygon fill=\"#000000\" points=\"2124.2303,-892.8424 2132.1096,-885.7595 2121.5331,-886.3828 2124.2303,-892.8424\" stroke=\"#000000\"/>\n<text fill=\"#000000\" font-family=\"Times,serif\" font-size=\"14.00\" text-anchor=\"middle\" x=\"2122.6081\" y=\"-905.1836\">False</text>\n</g>\n<!-- 2 -->\n<g class=\"node\" id=\"node3\">\n<title>2</title>\n<polygon fill=\"#44a3e6\" points=\"521,-782 411,-782 411,-699 521,-699 521,-782\" stroke=\"#000000\"/>\n<text fill=\"#000000\" font-family=\"Times,serif\" font-size=\"14.00\" text-anchor=\"middle\" x=\"466\" y=\"-766.8\">Age &lt;= 2.5</text>\n<text fill=\"#000000\" font-family=\"Times,serif\" font-size=\"14.00\" text-anchor=\"middle\" x=\"466\" y=\"-751.8\">gini = 0.101</text>\n<text fill=\"#000000\" font-family=\"Times,serif\" font-size=\"14.00\" text-anchor=\"middle\" x=\"466\" y=\"-736.8\">samples = 168</text>\n<text fill=\"#000000\" font-family=\"Times,serif\" font-size=\"14.00\" text-anchor=\"middle\" x=\"466\" y=\"-721.8\">value = [9, 159]</text>\n<text fill=\"#000000\" font-family=\"Times,serif\" font-size=\"14.00\" text-anchor=\"middle\" x=\"466\" y=\"-706.8\">class = 1</text>\n</g>\n<!-- 1&#45;&gt;2 -->\n<g class=\"edge\" id=\"edge2\">\n<title>1-&gt;2</title>\n<path d=\"M1621.4463,-853.7604C1418.2689,-833.8443 744.4548,-767.795 531.2675,-746.8977\" fill=\"none\" stroke=\"#000000\"/>\n<polygon fill=\"#000000\" points=\"531.4618,-743.4001 521.168,-745.9077 530.7788,-750.3667 531.4618,-743.4001\" stroke=\"#000000\"/>\n</g>\n<!-- 25 -->\n<g class=\"node\" id=\"node26\">\n<title>25</title>\n<polygon fill=\"#ffffff\" points=\"1735,-782 1625,-782 1625,-699 1735,-699 1735,-782\" stroke=\"#000000\"/>\n<text fill=\"#000000\" font-family=\"Times,serif\" font-size=\"14.00\" text-anchor=\"middle\" x=\"1680\" y=\"-766.8\">Fare &lt;= 23.35</text>\n<text fill=\"#000000\" font-family=\"Times,serif\" font-size=\"14.00\" text-anchor=\"middle\" x=\"1680\" y=\"-751.8\">gini = 0.5</text>\n<text fill=\"#000000\" font-family=\"Times,serif\" font-size=\"14.00\" text-anchor=\"middle\" x=\"1680\" y=\"-736.8\">samples = 144</text>\n<text fill=\"#000000\" font-family=\"Times,serif\" font-size=\"14.00\" text-anchor=\"middle\" x=\"1680\" y=\"-721.8\">value = [72, 72]</text>\n<text fill=\"#000000\" font-family=\"Times,serif\" font-size=\"14.00\" text-anchor=\"middle\" x=\"1680\" y=\"-706.8\">class = 0</text>\n</g>\n<!-- 1&#45;&gt;25 -->\n<g class=\"edge\" id=\"edge25\">\n<title>1-&gt;25</title>\n<path d=\"M1680,-817.8796C1680,-809.6838 1680,-800.9891 1680,-792.5013\" fill=\"none\" stroke=\"#000000\"/>\n<polygon fill=\"#000000\" points=\"1683.5001,-792.298 1680,-782.2981 1676.5001,-792.2981 1683.5001,-792.298\" stroke=\"#000000\"/>\n</g>\n<!-- 3 -->\n<g class=\"node\" id=\"node4\">\n<title>3</title>\n<polygon fill=\"#ffffff\" points=\"329.5,-663 234.5,-663 234.5,-580 329.5,-580 329.5,-663\" stroke=\"#000000\"/>\n<text fill=\"#000000\" font-family=\"Times,serif\" font-size=\"14.00\" text-anchor=\"middle\" x=\"282\" y=\"-647.8\">Pclass &lt;= 1.5</text>\n<text fill=\"#000000\" font-family=\"Times,serif\" font-size=\"14.00\" text-anchor=\"middle\" x=\"282\" y=\"-632.8\">gini = 0.5</text>\n<text fill=\"#000000\" font-family=\"Times,serif\" font-size=\"14.00\" text-anchor=\"middle\" x=\"282\" y=\"-617.8\">samples = 2</text>\n<text fill=\"#000000\" font-family=\"Times,serif\" font-size=\"14.00\" text-anchor=\"middle\" x=\"282\" y=\"-602.8\">value = [1, 1]</text>\n<text fill=\"#000000\" font-family=\"Times,serif\" font-size=\"14.00\" text-anchor=\"middle\" x=\"282\" y=\"-587.8\">class = 0</text>\n</g>\n<!-- 2&#45;&gt;3 -->\n<g class=\"edge\" id=\"edge3\">\n<title>2-&gt;3</title>\n<path d=\"M410.7939,-704.7961C387.891,-689.9838 361.3456,-672.8159 338.3261,-657.9283\" fill=\"none\" stroke=\"#000000\"/>\n<polygon fill=\"#000000\" points=\"339.9889,-654.8355 329.6912,-652.3438 336.1874,-660.7134 339.9889,-654.8355\" stroke=\"#000000\"/>\n</g>\n<!-- 6 -->\n<g class=\"node\" id=\"node7\">\n<title>6</title>\n<polygon fill=\"#43a2e6\" points=\"521,-663 411,-663 411,-580 521,-580 521,-663\" stroke=\"#000000\"/>\n<text fill=\"#000000\" font-family=\"Times,serif\" font-size=\"14.00\" text-anchor=\"middle\" x=\"466\" y=\"-647.8\">Fare &lt;= 28.856</text>\n<text fill=\"#000000\" font-family=\"Times,serif\" font-size=\"14.00\" text-anchor=\"middle\" x=\"466\" y=\"-632.8\">gini = 0.092</text>\n<text fill=\"#000000\" font-family=\"Times,serif\" font-size=\"14.00\" text-anchor=\"middle\" x=\"466\" y=\"-617.8\">samples = 166</text>\n<text fill=\"#000000\" font-family=\"Times,serif\" font-size=\"14.00\" text-anchor=\"middle\" x=\"466\" y=\"-602.8\">value = [8, 158]</text>\n<text fill=\"#000000\" font-family=\"Times,serif\" font-size=\"14.00\" text-anchor=\"middle\" x=\"466\" y=\"-587.8\">class = 1</text>\n</g>\n<!-- 2&#45;&gt;6 -->\n<g class=\"edge\" id=\"edge6\">\n<title>2-&gt;6</title>\n<path d=\"M466,-698.8796C466,-690.6838 466,-681.9891 466,-673.5013\" fill=\"none\" stroke=\"#000000\"/>\n<polygon fill=\"#000000\" points=\"469.5001,-673.298 466,-663.2981 462.5001,-673.2981 469.5001,-673.298\" stroke=\"#000000\"/>\n</g>\n<!-- 4 -->\n<g class=\"node\" id=\"node5\">\n<title>4</title>\n<polygon fill=\"#e58139\" points=\"216.5,-536.5 121.5,-536.5 121.5,-468.5 216.5,-468.5 216.5,-536.5\" stroke=\"#000000\"/>\n<text fill=\"#000000\" font-family=\"Times,serif\" font-size=\"14.00\" text-anchor=\"middle\" x=\"169\" y=\"-521.3\">gini = 0.0</text>\n<text fill=\"#000000\" font-family=\"Times,serif\" font-size=\"14.00\" text-anchor=\"middle\" x=\"169\" y=\"-506.3\">samples = 1</text>\n<text fill=\"#000000\" font-family=\"Times,serif\" font-size=\"14.00\" text-anchor=\"middle\" x=\"169\" y=\"-491.3\">value = [1, 0]</text>\n<text fill=\"#000000\" font-family=\"Times,serif\" font-size=\"14.00\" text-anchor=\"middle\" x=\"169\" y=\"-476.3\">class = 0</text>\n</g>\n<!-- 3&#45;&gt;4 -->\n<g class=\"edge\" id=\"edge4\">\n<title>3-&gt;4</title>\n<path d=\"M242.4781,-579.8796C231.5143,-568.3337 219.6103,-555.7976 208.6399,-544.2446\" fill=\"none\" stroke=\"#000000\"/>\n<polygon fill=\"#000000\" points=\"211.0087,-541.6564 201.5848,-536.8149 205.9327,-546.4766 211.0087,-541.6564\" stroke=\"#000000\"/>\n</g>\n<!-- 5 -->\n<g class=\"node\" id=\"node6\">\n<title>5</title>\n<polygon fill=\"#399de5\" points=\"329.5,-536.5 234.5,-536.5 234.5,-468.5 329.5,-468.5 329.5,-536.5\" stroke=\"#000000\"/>\n<text fill=\"#000000\" font-family=\"Times,serif\" font-size=\"14.00\" text-anchor=\"middle\" x=\"282\" y=\"-521.3\">gini = 0.0</text>\n<text fill=\"#000000\" font-family=\"Times,serif\" font-size=\"14.00\" text-anchor=\"middle\" x=\"282\" y=\"-506.3\">samples = 1</text>\n<text fill=\"#000000\" font-family=\"Times,serif\" font-size=\"14.00\" text-anchor=\"middle\" x=\"282\" y=\"-491.3\">value = [0, 1]</text>\n<text fill=\"#000000\" font-family=\"Times,serif\" font-size=\"14.00\" text-anchor=\"middle\" x=\"282\" y=\"-476.3\">class = 1</text>\n</g>\n<!-- 3&#45;&gt;5 -->\n<g class=\"edge\" id=\"edge5\">\n<title>3-&gt;5</title>\n<path d=\"M282,-579.8796C282,-569.2134 282,-557.7021 282,-546.9015\" fill=\"none\" stroke=\"#000000\"/>\n<polygon fill=\"#000000\" points=\"285.5001,-546.8149 282,-536.8149 278.5001,-546.815 285.5001,-546.8149\" stroke=\"#000000\"/>\n</g>\n<!-- 7 -->\n<g class=\"node\" id=\"node8\">\n<title>7</title>\n<polygon fill=\"#4fa8e8\" points=\"454.5,-544 347.5,-544 347.5,-461 454.5,-461 454.5,-544\" stroke=\"#000000\"/>\n<text fill=\"#000000\" font-family=\"Times,serif\" font-size=\"14.00\" text-anchor=\"middle\" x=\"401\" y=\"-528.8\">Fare &lt;= 28.231</text>\n<text fill=\"#000000\" font-family=\"Times,serif\" font-size=\"14.00\" text-anchor=\"middle\" x=\"401\" y=\"-513.8\">gini = 0.182</text>\n<text fill=\"#000000\" font-family=\"Times,serif\" font-size=\"14.00\" text-anchor=\"middle\" x=\"401\" y=\"-498.8\">samples = 69</text>\n<text fill=\"#000000\" font-family=\"Times,serif\" font-size=\"14.00\" text-anchor=\"middle\" x=\"401\" y=\"-483.8\">value = [7, 62]</text>\n<text fill=\"#000000\" font-family=\"Times,serif\" font-size=\"14.00\" text-anchor=\"middle\" x=\"401\" y=\"-468.8\">class = 1</text>\n</g>\n<!-- 6&#45;&gt;7 -->\n<g class=\"edge\" id=\"edge7\">\n<title>6-&gt;7</title>\n<path d=\"M443.2662,-579.8796C438.5435,-571.2335 433.5176,-562.0322 428.641,-553.1042\" fill=\"none\" stroke=\"#000000\"/>\n<polygon fill=\"#000000\" points=\"431.6963,-551.3964 423.8309,-544.2981 425.553,-554.752 431.6963,-551.3964\" stroke=\"#000000\"/>\n</g>\n<!-- 18 -->\n<g class=\"node\" id=\"node19\">\n<title>18</title>\n<polygon fill=\"#3b9ee5\" points=\"587,-544 473,-544 473,-461 587,-461 587,-544\" stroke=\"#000000\"/>\n<text fill=\"#000000\" font-family=\"Times,serif\" font-size=\"14.00\" text-anchor=\"middle\" x=\"530\" y=\"-528.8\">Fare &lt;= 149.035</text>\n<text fill=\"#000000\" font-family=\"Times,serif\" font-size=\"14.00\" text-anchor=\"middle\" x=\"530\" y=\"-513.8\">gini = 0.02</text>\n<text fill=\"#000000\" font-family=\"Times,serif\" font-size=\"14.00\" text-anchor=\"middle\" x=\"530\" y=\"-498.8\">samples = 97</text>\n<text fill=\"#000000\" font-family=\"Times,serif\" font-size=\"14.00\" text-anchor=\"middle\" x=\"530\" y=\"-483.8\">value = [1, 96]</text>\n<text fill=\"#000000\" font-family=\"Times,serif\" font-size=\"14.00\" text-anchor=\"middle\" x=\"530\" y=\"-468.8\">class = 1</text>\n</g>\n<!-- 6&#45;&gt;18 -->\n<g class=\"edge\" id=\"edge18\">\n<title>6-&gt;18</title>\n<path d=\"M488.3841,-579.8796C492.9856,-571.3236 497.8796,-562.2238 502.6342,-553.3833\" fill=\"none\" stroke=\"#000000\"/>\n<polygon fill=\"#000000\" points=\"505.8662,-554.763 507.5204,-544.2981 499.7012,-551.4473 505.8662,-554.763\" stroke=\"#000000\"/>\n</g>\n<!-- 8 -->\n<g class=\"node\" id=\"node9\">\n<title>8</title>\n<polygon fill=\"#4ca6e8\" points=\"335,-425 233,-425 233,-342 335,-342 335,-425\" stroke=\"#000000\"/>\n<text fill=\"#000000\" font-family=\"Times,serif\" font-size=\"14.00\" text-anchor=\"middle\" x=\"284\" y=\"-409.8\">Age &lt;= 56.0</text>\n<text fill=\"#000000\" font-family=\"Times,serif\" font-size=\"14.00\" text-anchor=\"middle\" x=\"284\" y=\"-394.8\">gini = 0.161</text>\n<text fill=\"#000000\" font-family=\"Times,serif\" font-size=\"14.00\" text-anchor=\"middle\" x=\"284\" y=\"-379.8\">samples = 68</text>\n<text fill=\"#000000\" font-family=\"Times,serif\" font-size=\"14.00\" text-anchor=\"middle\" x=\"284\" y=\"-364.8\">value = [6, 62]</text>\n<text fill=\"#000000\" font-family=\"Times,serif\" font-size=\"14.00\" text-anchor=\"middle\" x=\"284\" y=\"-349.8\">class = 1</text>\n</g>\n<!-- 7&#45;&gt;8 -->\n<g class=\"edge\" id=\"edge8\">\n<title>7-&gt;8</title>\n<path d=\"M360.0791,-460.8796C351.047,-451.6931 341.3987,-441.8798 332.1112,-432.4336\" fill=\"none\" stroke=\"#000000\"/>\n<polygon fill=\"#000000\" points=\"334.6023,-429.975 325.0956,-425.2981 329.6107,-434.8827 334.6023,-429.975\" stroke=\"#000000\"/>\n</g>\n<!-- 17 -->\n<g class=\"node\" id=\"node18\">\n<title>17</title>\n<polygon fill=\"#e58139\" points=\"448.5,-417.5 353.5,-417.5 353.5,-349.5 448.5,-349.5 448.5,-417.5\" stroke=\"#000000\"/>\n<text fill=\"#000000\" font-family=\"Times,serif\" font-size=\"14.00\" text-anchor=\"middle\" x=\"401\" y=\"-402.3\">gini = 0.0</text>\n<text fill=\"#000000\" font-family=\"Times,serif\" font-size=\"14.00\" text-anchor=\"middle\" x=\"401\" y=\"-387.3\">samples = 1</text>\n<text fill=\"#000000\" font-family=\"Times,serif\" font-size=\"14.00\" text-anchor=\"middle\" x=\"401\" y=\"-372.3\">value = [1, 0]</text>\n<text fill=\"#000000\" font-family=\"Times,serif\" font-size=\"14.00\" text-anchor=\"middle\" x=\"401\" y=\"-357.3\">class = 0</text>\n</g>\n<!-- 7&#45;&gt;17 -->\n<g class=\"edge\" id=\"edge17\">\n<title>7-&gt;17</title>\n<path d=\"M401,-460.8796C401,-450.2134 401,-438.7021 401,-427.9015\" fill=\"none\" stroke=\"#000000\"/>\n<polygon fill=\"#000000\" points=\"404.5001,-427.8149 401,-417.8149 397.5001,-427.815 404.5001,-427.8149\" stroke=\"#000000\"/>\n</g>\n<!-- 9 -->\n<g class=\"node\" id=\"node10\">\n<title>9</title>\n<polygon fill=\"#49a5e7\" points=\"222,-306 120,-306 120,-223 222,-223 222,-306\" stroke=\"#000000\"/>\n<text fill=\"#000000\" font-family=\"Times,serif\" font-size=\"14.00\" text-anchor=\"middle\" x=\"171\" y=\"-290.8\">Age &lt;= 23.5</text>\n<text fill=\"#000000\" font-family=\"Times,serif\" font-size=\"14.00\" text-anchor=\"middle\" x=\"171\" y=\"-275.8\">gini = 0.14</text>\n<text fill=\"#000000\" font-family=\"Times,serif\" font-size=\"14.00\" text-anchor=\"middle\" x=\"171\" y=\"-260.8\">samples = 66</text>\n<text fill=\"#000000\" font-family=\"Times,serif\" font-size=\"14.00\" text-anchor=\"middle\" x=\"171\" y=\"-245.8\">value = [5, 61]</text>\n<text fill=\"#000000\" font-family=\"Times,serif\" font-size=\"14.00\" text-anchor=\"middle\" x=\"171\" y=\"-230.8\">class = 1</text>\n</g>\n<!-- 8&#45;&gt;9 -->\n<g class=\"edge\" id=\"edge9\">\n<title>8-&gt;9</title>\n<path d=\"M244.4781,-341.8796C235.8403,-332.7832 226.619,-323.0722 217.7303,-313.7116\" fill=\"none\" stroke=\"#000000\"/>\n<polygon fill=\"#000000\" points=\"220.1146,-311.1395 210.6906,-306.2981 215.0385,-315.9597 220.1146,-311.1395\" stroke=\"#000000\"/>\n</g>\n<!-- 14 -->\n<g class=\"node\" id=\"node15\">\n<title>14</title>\n<polygon fill=\"#ffffff\" points=\"335.5,-306 240.5,-306 240.5,-223 335.5,-223 335.5,-306\" stroke=\"#000000\"/>\n<text fill=\"#000000\" font-family=\"Times,serif\" font-size=\"14.00\" text-anchor=\"middle\" x=\"288\" y=\"-290.8\">Age &lt;= 57.5</text>\n<text fill=\"#000000\" font-family=\"Times,serif\" font-size=\"14.00\" text-anchor=\"middle\" x=\"288\" y=\"-275.8\">gini = 0.5</text>\n<text fill=\"#000000\" font-family=\"Times,serif\" font-size=\"14.00\" text-anchor=\"middle\" x=\"288\" y=\"-260.8\">samples = 2</text>\n<text fill=\"#000000\" font-family=\"Times,serif\" font-size=\"14.00\" text-anchor=\"middle\" x=\"288\" y=\"-245.8\">value = [1, 1]</text>\n<text fill=\"#000000\" font-family=\"Times,serif\" font-size=\"14.00\" text-anchor=\"middle\" x=\"288\" y=\"-230.8\">class = 0</text>\n</g>\n<!-- 8&#45;&gt;14 -->\n<g class=\"edge\" id=\"edge14\">\n<title>8-&gt;14</title>\n<path d=\"M285.399,-341.8796C285.6745,-333.6838 285.9668,-324.9891 286.2521,-316.5013\" fill=\"none\" stroke=\"#000000\"/>\n<polygon fill=\"#000000\" points=\"289.757,-316.41 286.595,-306.2981 282.761,-316.1748 289.757,-316.41\" stroke=\"#000000\"/>\n</g>\n<!-- 10 -->\n<g class=\"node\" id=\"node11\">\n<title>10</title>\n<polygon fill=\"#399de5\" points=\"102,-179.5 0,-179.5 0,-111.5 102,-111.5 102,-179.5\" stroke=\"#000000\"/>\n<text fill=\"#000000\" font-family=\"Times,serif\" font-size=\"14.00\" text-anchor=\"middle\" x=\"51\" y=\"-164.3\">gini = 0.0</text>\n<text fill=\"#000000\" font-family=\"Times,serif\" font-size=\"14.00\" text-anchor=\"middle\" x=\"51\" y=\"-149.3\">samples = 14</text>\n<text fill=\"#000000\" font-family=\"Times,serif\" font-size=\"14.00\" text-anchor=\"middle\" x=\"51\" y=\"-134.3\">value = [0, 14]</text>\n<text fill=\"#000000\" font-family=\"Times,serif\" font-size=\"14.00\" text-anchor=\"middle\" x=\"51\" y=\"-119.3\">class = 1</text>\n</g>\n<!-- 9&#45;&gt;10 -->\n<g class=\"edge\" id=\"edge10\">\n<title>9-&gt;10</title>\n<path d=\"M129.0298,-222.8796C117.276,-211.2237 104.5046,-198.5587 92.7628,-186.9148\" fill=\"none\" stroke=\"#000000\"/>\n<polygon fill=\"#000000\" points=\"95.1684,-184.3712 85.6033,-179.8149 90.2394,-189.3416 95.1684,-184.3712\" stroke=\"#000000\"/>\n</g>\n<!-- 11 -->\n<g class=\"node\" id=\"node12\">\n<title>11</title>\n<polygon fill=\"#4ea7e8\" points=\"222,-187 120,-187 120,-104 222,-104 222,-187\" stroke=\"#000000\"/>\n<text fill=\"#000000\" font-family=\"Times,serif\" font-size=\"14.00\" text-anchor=\"middle\" x=\"171\" y=\"-171.8\">Age &lt;= 27.5</text>\n<text fill=\"#000000\" font-family=\"Times,serif\" font-size=\"14.00\" text-anchor=\"middle\" x=\"171\" y=\"-156.8\">gini = 0.174</text>\n<text fill=\"#000000\" font-family=\"Times,serif\" font-size=\"14.00\" text-anchor=\"middle\" x=\"171\" y=\"-141.8\">samples = 52</text>\n<text fill=\"#000000\" font-family=\"Times,serif\" font-size=\"14.00\" text-anchor=\"middle\" x=\"171\" y=\"-126.8\">value = [5, 47]</text>\n<text fill=\"#000000\" font-family=\"Times,serif\" font-size=\"14.00\" text-anchor=\"middle\" x=\"171\" y=\"-111.8\">class = 1</text>\n</g>\n<!-- 9&#45;&gt;11 -->\n<g class=\"edge\" id=\"edge11\">\n<title>9-&gt;11</title>\n<path d=\"M171,-222.8796C171,-214.6838 171,-205.9891 171,-197.5013\" fill=\"none\" stroke=\"#000000\"/>\n<polygon fill=\"#000000\" points=\"174.5001,-197.298 171,-187.2981 167.5001,-197.2981 174.5001,-197.298\" stroke=\"#000000\"/>\n</g>\n<!-- 12 -->\n<g class=\"node\" id=\"node13\">\n<title>12</title>\n<polygon fill=\"#83c2ef\" points=\"160.5,-68 65.5,-68 65.5,0 160.5,0 160.5,-68\" stroke=\"#000000\"/>\n<text fill=\"#000000\" font-family=\"Times,serif\" font-size=\"14.00\" text-anchor=\"middle\" x=\"113\" y=\"-52.8\">gini = 0.397</text>\n<text fill=\"#000000\" font-family=\"Times,serif\" font-size=\"14.00\" text-anchor=\"middle\" x=\"113\" y=\"-37.8\">samples = 11</text>\n<text fill=\"#000000\" font-family=\"Times,serif\" font-size=\"14.00\" text-anchor=\"middle\" x=\"113\" y=\"-22.8\">value = [3, 8]</text>\n<text fill=\"#000000\" font-family=\"Times,serif\" font-size=\"14.00\" text-anchor=\"middle\" x=\"113\" y=\"-7.8\">class = 1</text>\n</g>\n<!-- 11&#45;&gt;12 -->\n<g class=\"edge\" id=\"edge12\">\n<title>11-&gt;12</title>\n<path d=\"M149.4029,-103.9815C144.8612,-95.2504 140.0598,-86.0202 135.4863,-77.2281\" fill=\"none\" stroke=\"#000000\"/>\n<polygon fill=\"#000000\" points=\"138.5431,-75.52 130.8233,-68.2637 132.3331,-78.7504 138.5431,-75.52\" stroke=\"#000000\"/>\n</g>\n<!-- 13 -->\n<g class=\"node\" id=\"node14\">\n<title>13</title>\n<polygon fill=\"#43a2e6\" points=\"281,-68 179,-68 179,0 281,0 281,-68\" stroke=\"#000000\"/>\n<text fill=\"#000000\" font-family=\"Times,serif\" font-size=\"14.00\" text-anchor=\"middle\" x=\"230\" y=\"-52.8\">gini = 0.093</text>\n<text fill=\"#000000\" font-family=\"Times,serif\" font-size=\"14.00\" text-anchor=\"middle\" x=\"230\" y=\"-37.8\">samples = 41</text>\n<text fill=\"#000000\" font-family=\"Times,serif\" font-size=\"14.00\" text-anchor=\"middle\" x=\"230\" y=\"-22.8\">value = [2, 39]</text>\n<text fill=\"#000000\" font-family=\"Times,serif\" font-size=\"14.00\" text-anchor=\"middle\" x=\"230\" y=\"-7.8\">class = 1</text>\n</g>\n<!-- 11&#45;&gt;13 -->\n<g class=\"edge\" id=\"edge13\">\n<title>11-&gt;13</title>\n<path d=\"M192.9694,-103.9815C197.5895,-95.2504 202.4736,-86.0202 207.126,-77.2281\" fill=\"none\" stroke=\"#000000\"/>\n<polygon fill=\"#000000\" points=\"210.2859,-78.7395 211.8694,-68.2637 204.0987,-75.4655 210.2859,-78.7395\" stroke=\"#000000\"/>\n</g>\n<!-- 15 -->\n<g class=\"node\" id=\"node16\">\n<title>15</title>\n<polygon fill=\"#e58139\" points=\"335.5,-179.5 240.5,-179.5 240.5,-111.5 335.5,-111.5 335.5,-179.5\" stroke=\"#000000\"/>\n<text fill=\"#000000\" font-family=\"Times,serif\" font-size=\"14.00\" text-anchor=\"middle\" x=\"288\" y=\"-164.3\">gini = 0.0</text>\n<text fill=\"#000000\" font-family=\"Times,serif\" font-size=\"14.00\" text-anchor=\"middle\" x=\"288\" y=\"-149.3\">samples = 1</text>\n<text fill=\"#000000\" font-family=\"Times,serif\" font-size=\"14.00\" text-anchor=\"middle\" x=\"288\" y=\"-134.3\">value = [1, 0]</text>\n<text fill=\"#000000\" font-family=\"Times,serif\" font-size=\"14.00\" text-anchor=\"middle\" x=\"288\" y=\"-119.3\">class = 0</text>\n</g>\n<!-- 14&#45;&gt;15 -->\n<g class=\"edge\" id=\"edge15\">\n<title>14-&gt;15</title>\n<path d=\"M288,-222.8796C288,-212.2134 288,-200.7021 288,-189.9015\" fill=\"none\" stroke=\"#000000\"/>\n<polygon fill=\"#000000\" points=\"291.5001,-189.8149 288,-179.8149 284.5001,-189.815 291.5001,-189.8149\" stroke=\"#000000\"/>\n</g>\n<!-- 16 -->\n<g class=\"node\" id=\"node17\">\n<title>16</title>\n<polygon fill=\"#399de5\" points=\"448.5,-179.5 353.5,-179.5 353.5,-111.5 448.5,-111.5 448.5,-179.5\" stroke=\"#000000\"/>\n<text fill=\"#000000\" font-family=\"Times,serif\" font-size=\"14.00\" text-anchor=\"middle\" x=\"401\" y=\"-164.3\">gini = 0.0</text>\n<text fill=\"#000000\" font-family=\"Times,serif\" font-size=\"14.00\" text-anchor=\"middle\" x=\"401\" y=\"-149.3\">samples = 1</text>\n<text fill=\"#000000\" font-family=\"Times,serif\" font-size=\"14.00\" text-anchor=\"middle\" x=\"401\" y=\"-134.3\">value = [0, 1]</text>\n<text fill=\"#000000\" font-family=\"Times,serif\" font-size=\"14.00\" text-anchor=\"middle\" x=\"401\" y=\"-119.3\">class = 1</text>\n</g>\n<!-- 14&#45;&gt;16 -->\n<g class=\"edge\" id=\"edge16\">\n<title>14-&gt;16</title>\n<path d=\"M327.5219,-222.8796C338.4857,-211.3337 350.3897,-198.7976 361.3601,-187.2446\" fill=\"none\" stroke=\"#000000\"/>\n<polygon fill=\"#000000\" points=\"364.0673,-189.4766 368.4152,-179.8149 358.9913,-184.6564 364.0673,-189.4766\" stroke=\"#000000\"/>\n</g>\n<!-- 19 -->\n<g class=\"node\" id=\"node20\">\n<title>19</title>\n<polygon fill=\"#399de5\" points=\"569,-417.5 467,-417.5 467,-349.5 569,-349.5 569,-417.5\" stroke=\"#000000\"/>\n<text fill=\"#000000\" font-family=\"Times,serif\" font-size=\"14.00\" text-anchor=\"middle\" x=\"518\" y=\"-402.3\">gini = 0.0</text>\n<text fill=\"#000000\" font-family=\"Times,serif\" font-size=\"14.00\" text-anchor=\"middle\" x=\"518\" y=\"-387.3\">samples = 79</text>\n<text fill=\"#000000\" font-family=\"Times,serif\" font-size=\"14.00\" text-anchor=\"middle\" x=\"518\" y=\"-372.3\">value = [0, 79]</text>\n<text fill=\"#000000\" font-family=\"Times,serif\" font-size=\"14.00\" text-anchor=\"middle\" x=\"518\" y=\"-357.3\">class = 1</text>\n</g>\n<!-- 18&#45;&gt;19 -->\n<g class=\"edge\" id=\"edge19\">\n<title>18-&gt;19</title>\n<path d=\"M525.803,-460.8796C524.7274,-450.2134 523.5666,-438.7021 522.4775,-427.9015\" fill=\"none\" stroke=\"#000000\"/>\n<polygon fill=\"#000000\" points=\"525.9461,-427.4133 521.4603,-417.8149 518.9814,-428.1157 525.9461,-427.4133\" stroke=\"#000000\"/>\n</g>\n<!-- 20 -->\n<g class=\"node\" id=\"node21\">\n<title>20</title>\n<polygon fill=\"#45a3e7\" points=\"701,-425 587,-425 587,-342 701,-342 701,-425\" stroke=\"#000000\"/>\n<text fill=\"#000000\" font-family=\"Times,serif\" font-size=\"14.00\" text-anchor=\"middle\" x=\"644\" y=\"-409.8\">Fare &lt;= 152.506</text>\n<text fill=\"#000000\" font-family=\"Times,serif\" font-size=\"14.00\" text-anchor=\"middle\" x=\"644\" y=\"-394.8\">gini = 0.105</text>\n<text fill=\"#000000\" font-family=\"Times,serif\" font-size=\"14.00\" text-anchor=\"middle\" x=\"644\" y=\"-379.8\">samples = 18</text>\n<text fill=\"#000000\" font-family=\"Times,serif\" font-size=\"14.00\" text-anchor=\"middle\" x=\"644\" y=\"-364.8\">value = [1, 17]</text>\n<text fill=\"#000000\" font-family=\"Times,serif\" font-size=\"14.00\" text-anchor=\"middle\" x=\"644\" y=\"-349.8\">class = 1</text>\n</g>\n<!-- 18&#45;&gt;20 -->\n<g class=\"edge\" id=\"edge20\">\n<title>18-&gt;20</title>\n<path d=\"M569.8717,-460.8796C578.5858,-451.7832 587.8888,-442.0722 596.8562,-432.7116\" fill=\"none\" stroke=\"#000000\"/>\n<polygon fill=\"#000000\" points=\"599.5678,-434.9405 603.9581,-425.2981 594.513,-430.098 599.5678,-434.9405\" stroke=\"#000000\"/>\n</g>\n<!-- 21 -->\n<g class=\"node\" id=\"node22\">\n<title>21</title>\n<polygon fill=\"#ffffff\" points=\"575.5,-306 480.5,-306 480.5,-223 575.5,-223 575.5,-306\" stroke=\"#000000\"/>\n<text fill=\"#000000\" font-family=\"Times,serif\" font-size=\"14.00\" text-anchor=\"middle\" x=\"528\" y=\"-290.8\">Age &lt;= 23.5</text>\n<text fill=\"#000000\" font-family=\"Times,serif\" font-size=\"14.00\" text-anchor=\"middle\" x=\"528\" y=\"-275.8\">gini = 0.5</text>\n<text fill=\"#000000\" font-family=\"Times,serif\" font-size=\"14.00\" text-anchor=\"middle\" x=\"528\" y=\"-260.8\">samples = 2</text>\n<text fill=\"#000000\" font-family=\"Times,serif\" font-size=\"14.00\" text-anchor=\"middle\" x=\"528\" y=\"-245.8\">value = [1, 1]</text>\n<text fill=\"#000000\" font-family=\"Times,serif\" font-size=\"14.00\" text-anchor=\"middle\" x=\"528\" y=\"-230.8\">class = 0</text>\n</g>\n<!-- 20&#45;&gt;21 -->\n<g class=\"edge\" id=\"edge21\">\n<title>20-&gt;21</title>\n<path d=\"M603.4288,-341.8796C594.5618,-332.7832 585.0956,-323.0722 575.9709,-313.7116\" fill=\"none\" stroke=\"#000000\"/>\n<polygon fill=\"#000000\" points=\"578.2309,-311.0158 568.7443,-306.2981 573.2183,-315.9019 578.2309,-311.0158\" stroke=\"#000000\"/>\n</g>\n<!-- 24 -->\n<g class=\"node\" id=\"node25\">\n<title>24</title>\n<polygon fill=\"#399de5\" points=\"696,-298.5 594,-298.5 594,-230.5 696,-230.5 696,-298.5\" stroke=\"#000000\"/>\n<text fill=\"#000000\" font-family=\"Times,serif\" font-size=\"14.00\" text-anchor=\"middle\" x=\"645\" y=\"-283.3\">gini = 0.0</text>\n<text fill=\"#000000\" font-family=\"Times,serif\" font-size=\"14.00\" text-anchor=\"middle\" x=\"645\" y=\"-268.3\">samples = 16</text>\n<text fill=\"#000000\" font-family=\"Times,serif\" font-size=\"14.00\" text-anchor=\"middle\" x=\"645\" y=\"-253.3\">value = [0, 16]</text>\n<text fill=\"#000000\" font-family=\"Times,serif\" font-size=\"14.00\" text-anchor=\"middle\" x=\"645\" y=\"-238.3\">class = 1</text>\n</g>\n<!-- 20&#45;&gt;24 -->\n<g class=\"edge\" id=\"edge24\">\n<title>20-&gt;24</title>\n<path d=\"M644.3498,-341.8796C644.4394,-331.2134 644.5361,-319.7021 644.6269,-308.9015\" fill=\"none\" stroke=\"#000000\"/>\n<polygon fill=\"#000000\" points=\"648.1274,-308.844 644.7116,-298.8149 641.1276,-308.7851 648.1274,-308.844\" stroke=\"#000000\"/>\n</g>\n<!-- 22 -->\n<g class=\"node\" id=\"node23\">\n<title>22</title>\n<polygon fill=\"#399de5\" points=\"569.5,-179.5 474.5,-179.5 474.5,-111.5 569.5,-111.5 569.5,-179.5\" stroke=\"#000000\"/>\n<text fill=\"#000000\" font-family=\"Times,serif\" font-size=\"14.00\" text-anchor=\"middle\" x=\"522\" y=\"-164.3\">gini = 0.0</text>\n<text fill=\"#000000\" font-family=\"Times,serif\" font-size=\"14.00\" text-anchor=\"middle\" x=\"522\" y=\"-149.3\">samples = 1</text>\n<text fill=\"#000000\" font-family=\"Times,serif\" font-size=\"14.00\" text-anchor=\"middle\" x=\"522\" y=\"-134.3\">value = [0, 1]</text>\n<text fill=\"#000000\" font-family=\"Times,serif\" font-size=\"14.00\" text-anchor=\"middle\" x=\"522\" y=\"-119.3\">class = 1</text>\n</g>\n<!-- 21&#45;&gt;22 -->\n<g class=\"edge\" id=\"edge22\">\n<title>21-&gt;22</title>\n<path d=\"M525.9015,-222.8796C525.3637,-212.2134 524.7833,-200.7021 524.2387,-189.9015\" fill=\"none\" stroke=\"#000000\"/>\n<polygon fill=\"#000000\" points=\"527.7294,-189.626 523.7302,-179.8149 520.7383,-189.9785 527.7294,-189.626\" stroke=\"#000000\"/>\n</g>\n<!-- 23 -->\n<g class=\"node\" id=\"node24\">\n<title>23</title>\n<polygon fill=\"#e58139\" points=\"682.5,-179.5 587.5,-179.5 587.5,-111.5 682.5,-111.5 682.5,-179.5\" stroke=\"#000000\"/>\n<text fill=\"#000000\" font-family=\"Times,serif\" font-size=\"14.00\" text-anchor=\"middle\" x=\"635\" y=\"-164.3\">gini = 0.0</text>\n<text fill=\"#000000\" font-family=\"Times,serif\" font-size=\"14.00\" text-anchor=\"middle\" x=\"635\" y=\"-149.3\">samples = 1</text>\n<text fill=\"#000000\" font-family=\"Times,serif\" font-size=\"14.00\" text-anchor=\"middle\" x=\"635\" y=\"-134.3\">value = [1, 0]</text>\n<text fill=\"#000000\" font-family=\"Times,serif\" font-size=\"14.00\" text-anchor=\"middle\" x=\"635\" y=\"-119.3\">class = 0</text>\n</g>\n<!-- 21&#45;&gt;23 -->\n<g class=\"edge\" id=\"edge23\">\n<title>21-&gt;23</title>\n<path d=\"M565.4234,-222.8796C575.7061,-211.4436 586.8623,-199.0363 597.1679,-187.575\" fill=\"none\" stroke=\"#000000\"/>\n<polygon fill=\"#000000\" points=\"600.0618,-189.5912 604.1454,-179.8149 594.8565,-184.9108 600.0618,-189.5912\" stroke=\"#000000\"/>\n</g>\n<!-- 26 -->\n<g class=\"node\" id=\"node27\">\n<title>26</title>\n<polygon fill=\"#c3e1f7\" points=\"1595,-663 1485,-663 1485,-580 1595,-580 1595,-663\" stroke=\"#000000\"/>\n<text fill=\"#000000\" font-family=\"Times,serif\" font-size=\"14.00\" text-anchor=\"middle\" x=\"1540\" y=\"-647.8\">Fare &lt;= 7.888</text>\n<text fill=\"#000000\" font-family=\"Times,serif\" font-size=\"14.00\" text-anchor=\"middle\" x=\"1540\" y=\"-632.8\">gini = 0.484</text>\n<text fill=\"#000000\" font-family=\"Times,serif\" font-size=\"14.00\" text-anchor=\"middle\" x=\"1540\" y=\"-617.8\">samples = 117</text>\n<text fill=\"#000000\" font-family=\"Times,serif\" font-size=\"14.00\" text-anchor=\"middle\" x=\"1540\" y=\"-602.8\">value = [48, 69]</text>\n<text fill=\"#000000\" font-family=\"Times,serif\" font-size=\"14.00\" text-anchor=\"middle\" x=\"1540\" y=\"-587.8\">class = 1</text>\n</g>\n<!-- 25&#45;&gt;26 -->\n<g class=\"edge\" id=\"edge26\">\n<title>25-&gt;26</title>\n<path d=\"M1631.0348,-698.8796C1620.0153,-689.513 1608.2291,-679.4948 1596.9158,-669.8784\" fill=\"none\" stroke=\"#000000\"/>\n<polygon fill=\"#000000\" points=\"1599.0604,-667.1078 1589.1742,-663.2981 1594.5268,-672.4414 1599.0604,-667.1078\" stroke=\"#000000\"/>\n</g>\n<!-- 59 -->\n<g class=\"node\" id=\"node60\">\n<title>59</title>\n<polygon fill=\"#e89152\" points=\"2014.5,-663 1907.5,-663 1907.5,-580 2014.5,-580 2014.5,-663\" stroke=\"#000000\"/>\n<text fill=\"#000000\" font-family=\"Times,serif\" font-size=\"14.00\" text-anchor=\"middle\" x=\"1961\" y=\"-647.8\">Fare &lt;= 32.881</text>\n<text fill=\"#000000\" font-family=\"Times,serif\" font-size=\"14.00\" text-anchor=\"middle\" x=\"1961\" y=\"-632.8\">gini = 0.198</text>\n<text fill=\"#000000\" font-family=\"Times,serif\" font-size=\"14.00\" text-anchor=\"middle\" x=\"1961\" y=\"-617.8\">samples = 27</text>\n<text fill=\"#000000\" font-family=\"Times,serif\" font-size=\"14.00\" text-anchor=\"middle\" x=\"1961\" y=\"-602.8\">value = [24, 3]</text>\n<text fill=\"#000000\" font-family=\"Times,serif\" font-size=\"14.00\" text-anchor=\"middle\" x=\"1961\" y=\"-587.8\">class = 0</text>\n</g>\n<!-- 25&#45;&gt;59 -->\n<g class=\"edge\" id=\"edge59\">\n<title>25-&gt;59</title>\n<path d=\"M1735.1813,-717.1314C1782.0299,-697.2916 1849.247,-668.826 1898.1576,-648.113\" fill=\"none\" stroke=\"#000000\"/>\n<polygon fill=\"#000000\" points=\"1899.5324,-651.3317 1907.3758,-644.2092 1896.8026,-644.8859 1899.5324,-651.3317\" stroke=\"#000000\"/>\n</g>\n<!-- 27 -->\n<g class=\"node\" id=\"node28\">\n<title>27</title>\n<polygon fill=\"#88c4ef\" points=\"942,-544 832,-544 832,-461 942,-461 942,-544\" stroke=\"#000000\"/>\n<text fill=\"#000000\" font-family=\"Times,serif\" font-size=\"14.00\" text-anchor=\"middle\" x=\"887\" y=\"-528.8\">Fare &lt;= 6.987</text>\n<text fill=\"#000000\" font-family=\"Times,serif\" font-size=\"14.00\" text-anchor=\"middle\" x=\"887\" y=\"-513.8\">gini = 0.408</text>\n<text fill=\"#000000\" font-family=\"Times,serif\" font-size=\"14.00\" text-anchor=\"middle\" x=\"887\" y=\"-498.8\">samples = 42</text>\n<text fill=\"#000000\" font-family=\"Times,serif\" font-size=\"14.00\" text-anchor=\"middle\" x=\"887\" y=\"-483.8\">value = [12, 30]</text>\n<text fill=\"#000000\" font-family=\"Times,serif\" font-size=\"14.00\" text-anchor=\"middle\" x=\"887\" y=\"-468.8\">class = 1</text>\n</g>\n<!-- 26&#45;&gt;27 -->\n<g class=\"edge\" id=\"edge27\">\n<title>26-&gt;27</title>\n<path d=\"M1484.8884,-611.4567C1364.9898,-589.6069 1080.9238,-537.8399 952.2963,-514.3993\" fill=\"none\" stroke=\"#000000\"/>\n<polygon fill=\"#000000\" points=\"952.66,-510.908 942.1945,-512.5584 951.4049,-517.7946 952.66,-510.908\" stroke=\"#000000\"/>\n</g>\n<!-- 36 -->\n<g class=\"node\" id=\"node37\">\n<title>36</title>\n<polygon fill=\"#f0f7fd\" points=\"1595,-544 1485,-544 1485,-461 1595,-461 1595,-544\" stroke=\"#000000\"/>\n<text fill=\"#000000\" font-family=\"Times,serif\" font-size=\"14.00\" text-anchor=\"middle\" x=\"1540\" y=\"-528.8\">Fare &lt;= 15.373</text>\n<text fill=\"#000000\" font-family=\"Times,serif\" font-size=\"14.00\" text-anchor=\"middle\" x=\"1540\" y=\"-513.8\">gini = 0.499</text>\n<text fill=\"#000000\" font-family=\"Times,serif\" font-size=\"14.00\" text-anchor=\"middle\" x=\"1540\" y=\"-498.8\">samples = 75</text>\n<text fill=\"#000000\" font-family=\"Times,serif\" font-size=\"14.00\" text-anchor=\"middle\" x=\"1540\" y=\"-483.8\">value = [36, 39]</text>\n<text fill=\"#000000\" font-family=\"Times,serif\" font-size=\"14.00\" text-anchor=\"middle\" x=\"1540\" y=\"-468.8\">class = 1</text>\n</g>\n<!-- 26&#45;&gt;36 -->\n<g class=\"edge\" id=\"edge36\">\n<title>26-&gt;36</title>\n<path d=\"M1540,-579.8796C1540,-571.6838 1540,-562.9891 1540,-554.5013\" fill=\"none\" stroke=\"#000000\"/>\n<polygon fill=\"#000000\" points=\"1543.5001,-554.298 1540,-544.2981 1536.5001,-554.2981 1543.5001,-554.298\" stroke=\"#000000\"/>\n</g>\n<!-- 28 -->\n<g class=\"node\" id=\"node29\">\n<title>28</title>\n<polygon fill=\"#e58139\" points=\"814.5,-417.5 719.5,-417.5 719.5,-349.5 814.5,-349.5 814.5,-417.5\" stroke=\"#000000\"/>\n<text fill=\"#000000\" font-family=\"Times,serif\" font-size=\"14.00\" text-anchor=\"middle\" x=\"767\" y=\"-402.3\">gini = 0.0</text>\n<text fill=\"#000000\" font-family=\"Times,serif\" font-size=\"14.00\" text-anchor=\"middle\" x=\"767\" y=\"-387.3\">samples = 1</text>\n<text fill=\"#000000\" font-family=\"Times,serif\" font-size=\"14.00\" text-anchor=\"middle\" x=\"767\" y=\"-372.3\">value = [1, 0]</text>\n<text fill=\"#000000\" font-family=\"Times,serif\" font-size=\"14.00\" text-anchor=\"middle\" x=\"767\" y=\"-357.3\">class = 0</text>\n</g>\n<!-- 27&#45;&gt;28 -->\n<g class=\"edge\" id=\"edge28\">\n<title>27-&gt;28</title>\n<path d=\"M845.0298,-460.8796C833.276,-449.2237 820.5046,-436.5587 808.7628,-424.9148\" fill=\"none\" stroke=\"#000000\"/>\n<polygon fill=\"#000000\" points=\"811.1684,-422.3712 801.6033,-417.8149 806.2394,-427.3416 811.1684,-422.3712\" stroke=\"#000000\"/>\n</g>\n<!-- 29 -->\n<g class=\"node\" id=\"node30\">\n<title>29</title>\n<polygon fill=\"#82c1ef\" points=\"941.5,-425 832.5,-425 832.5,-342 941.5,-342 941.5,-425\" stroke=\"#000000\"/>\n<text fill=\"#000000\" font-family=\"Times,serif\" font-size=\"14.00\" text-anchor=\"middle\" x=\"887\" y=\"-409.8\">Fare &lt;= 7.523</text>\n<text fill=\"#000000\" font-family=\"Times,serif\" font-size=\"14.00\" text-anchor=\"middle\" x=\"887\" y=\"-394.8\">gini = 0.393</text>\n<text fill=\"#000000\" font-family=\"Times,serif\" font-size=\"14.00\" text-anchor=\"middle\" x=\"887\" y=\"-379.8\">samples = 41</text>\n<text fill=\"#000000\" font-family=\"Times,serif\" font-size=\"14.00\" text-anchor=\"middle\" x=\"887\" y=\"-364.8\">value = [11, 30]</text>\n<text fill=\"#000000\" font-family=\"Times,serif\" font-size=\"14.00\" text-anchor=\"middle\" x=\"887\" y=\"-349.8\">class = 1</text>\n</g>\n<!-- 27&#45;&gt;29 -->\n<g class=\"edge\" id=\"edge29\">\n<title>27-&gt;29</title>\n<path d=\"M887,-460.8796C887,-452.6838 887,-443.9891 887,-435.5013\" fill=\"none\" stroke=\"#000000\"/>\n<polygon fill=\"#000000\" points=\"890.5001,-435.298 887,-425.2981 883.5001,-435.2981 890.5001,-435.298\" stroke=\"#000000\"/>\n</g>\n<!-- 30 -->\n<g class=\"node\" id=\"node31\">\n<title>30</title>\n<polygon fill=\"#399de5\" points=\"811.5,-298.5 716.5,-298.5 716.5,-230.5 811.5,-230.5 811.5,-298.5\" stroke=\"#000000\"/>\n<text fill=\"#000000\" font-family=\"Times,serif\" font-size=\"14.00\" text-anchor=\"middle\" x=\"764\" y=\"-283.3\">gini = 0.0</text>\n<text fill=\"#000000\" font-family=\"Times,serif\" font-size=\"14.00\" text-anchor=\"middle\" x=\"764\" y=\"-268.3\">samples = 6</text>\n<text fill=\"#000000\" font-family=\"Times,serif\" font-size=\"14.00\" text-anchor=\"middle\" x=\"764\" y=\"-253.3\">value = [0, 6]</text>\n<text fill=\"#000000\" font-family=\"Times,serif\" font-size=\"14.00\" text-anchor=\"middle\" x=\"764\" y=\"-238.3\">class = 1</text>\n</g>\n<!-- 29&#45;&gt;30 -->\n<g class=\"edge\" id=\"edge30\">\n<title>29-&gt;30</title>\n<path d=\"M843.9806,-341.8796C831.9329,-330.2237 818.8422,-317.5587 806.8069,-305.9148\" fill=\"none\" stroke=\"#000000\"/>\n<polygon fill=\"#000000\" points=\"809.089,-303.2528 799.4684,-298.8149 804.2217,-308.2837 809.089,-303.2528\" stroke=\"#000000\"/>\n</g>\n<!-- 31 -->\n<g class=\"node\" id=\"node32\">\n<title>31</title>\n<polygon fill=\"#94caf1\" points=\"938.5,-306 829.5,-306 829.5,-223 938.5,-223 938.5,-306\" stroke=\"#000000\"/>\n<text fill=\"#000000\" font-family=\"Times,serif\" font-size=\"14.00\" text-anchor=\"middle\" x=\"884\" y=\"-290.8\">Age &lt;= 15.0</text>\n<text fill=\"#000000\" font-family=\"Times,serif\" font-size=\"14.00\" text-anchor=\"middle\" x=\"884\" y=\"-275.8\">gini = 0.431</text>\n<text fill=\"#000000\" font-family=\"Times,serif\" font-size=\"14.00\" text-anchor=\"middle\" x=\"884\" y=\"-260.8\">samples = 35</text>\n<text fill=\"#000000\" font-family=\"Times,serif\" font-size=\"14.00\" text-anchor=\"middle\" x=\"884\" y=\"-245.8\">value = [11, 24]</text>\n<text fill=\"#000000\" font-family=\"Times,serif\" font-size=\"14.00\" text-anchor=\"middle\" x=\"884\" y=\"-230.8\">class = 1</text>\n</g>\n<!-- 29&#45;&gt;31 -->\n<g class=\"edge\" id=\"edge31\">\n<title>29-&gt;31</title>\n<path d=\"M885.9507,-341.8796C885.7441,-333.6838 885.5249,-324.9891 885.311,-316.5013\" fill=\"none\" stroke=\"#000000\"/>\n<polygon fill=\"#000000\" points=\"888.8047,-316.2067 885.0537,-306.2981 881.807,-316.3831 888.8047,-316.2067\" stroke=\"#000000\"/>\n</g>\n<!-- 32 -->\n<g class=\"node\" id=\"node33\">\n<title>32</title>\n<polygon fill=\"#e58139\" points=\"806.5,-179.5 711.5,-179.5 711.5,-111.5 806.5,-111.5 806.5,-179.5\" stroke=\"#000000\"/>\n<text fill=\"#000000\" font-family=\"Times,serif\" font-size=\"14.00\" text-anchor=\"middle\" x=\"759\" y=\"-164.3\">gini = 0.0</text>\n<text fill=\"#000000\" font-family=\"Times,serif\" font-size=\"14.00\" text-anchor=\"middle\" x=\"759\" y=\"-149.3\">samples = 1</text>\n<text fill=\"#000000\" font-family=\"Times,serif\" font-size=\"14.00\" text-anchor=\"middle\" x=\"759\" y=\"-134.3\">value = [1, 0]</text>\n<text fill=\"#000000\" font-family=\"Times,serif\" font-size=\"14.00\" text-anchor=\"middle\" x=\"759\" y=\"-119.3\">class = 0</text>\n</g>\n<!-- 31&#45;&gt;32 -->\n<g class=\"edge\" id=\"edge32\">\n<title>31-&gt;32</title>\n<path d=\"M840.2811,-222.8796C828.0375,-211.2237 814.7339,-198.5587 802.5029,-186.9148\" fill=\"none\" stroke=\"#000000\"/>\n<polygon fill=\"#000000\" points=\"804.7012,-184.1751 795.0451,-179.8149 799.8746,-189.245 804.7012,-184.1751\" stroke=\"#000000\"/>\n</g>\n<!-- 33 -->\n<g class=\"node\" id=\"node34\">\n<title>33</title>\n<polygon fill=\"#8bc6f0\" points=\"935,-187 825,-187 825,-104 935,-104 935,-187\" stroke=\"#000000\"/>\n<text fill=\"#000000\" font-family=\"Times,serif\" font-size=\"14.00\" text-anchor=\"middle\" x=\"880\" y=\"-171.8\">Fare &lt;= 7.64</text>\n<text fill=\"#000000\" font-family=\"Times,serif\" font-size=\"14.00\" text-anchor=\"middle\" x=\"880\" y=\"-156.8\">gini = 0.415</text>\n<text fill=\"#000000\" font-family=\"Times,serif\" font-size=\"14.00\" text-anchor=\"middle\" x=\"880\" y=\"-141.8\">samples = 34</text>\n<text fill=\"#000000\" font-family=\"Times,serif\" font-size=\"14.00\" text-anchor=\"middle\" x=\"880\" y=\"-126.8\">value = [10, 24]</text>\n<text fill=\"#000000\" font-family=\"Times,serif\" font-size=\"14.00\" text-anchor=\"middle\" x=\"880\" y=\"-111.8\">class = 1</text>\n</g>\n<!-- 31&#45;&gt;33 -->\n<g class=\"edge\" id=\"edge33\">\n<title>31-&gt;33</title>\n<path d=\"M882.601,-222.8796C882.3255,-214.6838 882.0332,-205.9891 881.7479,-197.5013\" fill=\"none\" stroke=\"#000000\"/>\n<polygon fill=\"#000000\" points=\"885.239,-197.1748 881.405,-187.2981 878.243,-197.41 885.239,-197.1748\" stroke=\"#000000\"/>\n</g>\n<!-- 34 -->\n<g class=\"node\" id=\"node35\">\n<title>34</title>\n<polygon fill=\"#f2c09c\" points=\"755.5,-68 660.5,-68 660.5,0 755.5,0 755.5,-68\" stroke=\"#000000\"/>\n<text fill=\"#000000\" font-family=\"Times,serif\" font-size=\"14.00\" text-anchor=\"middle\" x=\"708\" y=\"-52.8\">gini = 0.444</text>\n<text fill=\"#000000\" font-family=\"Times,serif\" font-size=\"14.00\" text-anchor=\"middle\" x=\"708\" y=\"-37.8\">samples = 3</text>\n<text fill=\"#000000\" font-family=\"Times,serif\" font-size=\"14.00\" text-anchor=\"middle\" x=\"708\" y=\"-22.8\">value = [2, 1]</text>\n<text fill=\"#000000\" font-family=\"Times,serif\" font-size=\"14.00\" text-anchor=\"middle\" x=\"708\" y=\"-7.8\">class = 0</text>\n</g>\n<!-- 33&#45;&gt;34 -->\n<g class=\"edge\" id=\"edge34\">\n<title>33-&gt;34</title>\n<path d=\"M824.6314,-109.607C805.298,-97.074 783.5888,-83.0009 764.1893,-70.425\" fill=\"none\" stroke=\"#000000\"/>\n<polygon fill=\"#000000\" points=\"766.0388,-67.4529 755.7438,-64.9502 762.2311,-73.3267 766.0388,-67.4529\" stroke=\"#000000\"/>\n</g>\n<!-- 35 -->\n<g class=\"node\" id=\"node36\">\n<title>35</title>\n<polygon fill=\"#7ebfee\" points=\"876,-68 774,-68 774,0 876,0 876,-68\" stroke=\"#000000\"/>\n<text fill=\"#000000\" font-family=\"Times,serif\" font-size=\"14.00\" text-anchor=\"middle\" x=\"825\" y=\"-52.8\">gini = 0.383</text>\n<text fill=\"#000000\" font-family=\"Times,serif\" font-size=\"14.00\" text-anchor=\"middle\" x=\"825\" y=\"-37.8\">samples = 31</text>\n<text fill=\"#000000\" font-family=\"Times,serif\" font-size=\"14.00\" text-anchor=\"middle\" x=\"825\" y=\"-22.8\">value = [8, 23]</text>\n<text fill=\"#000000\" font-family=\"Times,serif\" font-size=\"14.00\" text-anchor=\"middle\" x=\"825\" y=\"-7.8\">class = 1</text>\n</g>\n<!-- 33&#45;&gt;35 -->\n<g class=\"edge\" id=\"edge35\">\n<title>33-&gt;35</title>\n<path d=\"M859.52,-103.9815C855.2585,-95.3423 850.756,-86.2144 846.4603,-77.5059\" fill=\"none\" stroke=\"#000000\"/>\n<polygon fill=\"#000000\" points=\"849.4641,-75.6836 841.9014,-68.2637 843.1863,-78.7803 849.4641,-75.6836\" stroke=\"#000000\"/>\n</g>\n<!-- 37 -->\n<g class=\"node\" id=\"node38\">\n<title>37</title>\n<polygon fill=\"#f6d5bd\" points=\"1483,-425 1373,-425 1373,-342 1483,-342 1483,-425\" stroke=\"#000000\"/>\n<text fill=\"#000000\" font-family=\"Times,serif\" font-size=\"14.00\" text-anchor=\"middle\" x=\"1428\" y=\"-409.8\">Age &lt;= 19.0</text>\n<text fill=\"#000000\" font-family=\"Times,serif\" font-size=\"14.00\" text-anchor=\"middle\" x=\"1428\" y=\"-394.8\">gini = 0.48</text>\n<text fill=\"#000000\" font-family=\"Times,serif\" font-size=\"14.00\" text-anchor=\"middle\" x=\"1428\" y=\"-379.8\">samples = 45</text>\n<text fill=\"#000000\" font-family=\"Times,serif\" font-size=\"14.00\" text-anchor=\"middle\" x=\"1428\" y=\"-364.8\">value = [27, 18]</text>\n<text fill=\"#000000\" font-family=\"Times,serif\" font-size=\"14.00\" text-anchor=\"middle\" x=\"1428\" y=\"-349.8\">class = 0</text>\n</g>\n<!-- 36&#45;&gt;37 -->\n<g class=\"edge\" id=\"edge37\">\n<title>36-&gt;37</title>\n<path d=\"M1500.8278,-460.8796C1492.2665,-451.7832 1483.1268,-442.0722 1474.3168,-432.7116\" fill=\"none\" stroke=\"#000000\"/>\n<polygon fill=\"#000000\" points=\"1476.7417,-430.1813 1467.3394,-425.2981 1471.6443,-434.9789 1476.7417,-430.1813\" stroke=\"#000000\"/>\n</g>\n<!-- 50 -->\n<g class=\"node\" id=\"node51\">\n<title>50</title>\n<polygon fill=\"#8ec7f0\" points=\"1779,-425 1677,-425 1677,-342 1779,-342 1779,-425\" stroke=\"#000000\"/>\n<text fill=\"#000000\" font-family=\"Times,serif\" font-size=\"14.00\" text-anchor=\"middle\" x=\"1728\" y=\"-409.8\">Age &lt;= 43.0</text>\n<text fill=\"#000000\" font-family=\"Times,serif\" font-size=\"14.00\" text-anchor=\"middle\" x=\"1728\" y=\"-394.8\">gini = 0.42</text>\n<text fill=\"#000000\" font-family=\"Times,serif\" font-size=\"14.00\" text-anchor=\"middle\" x=\"1728\" y=\"-379.8\">samples = 30</text>\n<text fill=\"#000000\" font-family=\"Times,serif\" font-size=\"14.00\" text-anchor=\"middle\" x=\"1728\" y=\"-364.8\">value = [9, 21]</text>\n<text fill=\"#000000\" font-family=\"Times,serif\" font-size=\"14.00\" text-anchor=\"middle\" x=\"1728\" y=\"-349.8\">class = 1</text>\n</g>\n<!-- 36&#45;&gt;50 -->\n<g class=\"edge\" id=\"edge50\">\n<title>36-&gt;50</title>\n<path d=\"M1595.1359,-467.6001C1618.102,-453.0631 1644.8246,-436.1482 1668.257,-421.316\" fill=\"none\" stroke=\"#000000\"/>\n<polygon fill=\"#000000\" points=\"1670.1505,-424.2598 1676.7281,-415.954 1666.4066,-418.3451 1670.1505,-424.2598\" stroke=\"#000000\"/>\n</g>\n<!-- 38 -->\n<g class=\"node\" id=\"node39\">\n<title>38</title>\n<polygon fill=\"#9ccef2\" points=\"1277.5,-306 1170.5,-306 1170.5,-223 1277.5,-223 1277.5,-306\" stroke=\"#000000\"/>\n<text fill=\"#000000\" font-family=\"Times,serif\" font-size=\"14.00\" text-anchor=\"middle\" x=\"1224\" y=\"-290.8\">Fare &lt;= 13.935</text>\n<text fill=\"#000000\" font-family=\"Times,serif\" font-size=\"14.00\" text-anchor=\"middle\" x=\"1224\" y=\"-275.8\">gini = 0.444</text>\n<text fill=\"#000000\" font-family=\"Times,serif\" font-size=\"14.00\" text-anchor=\"middle\" x=\"1224\" y=\"-260.8\">samples = 15</text>\n<text fill=\"#000000\" font-family=\"Times,serif\" font-size=\"14.00\" text-anchor=\"middle\" x=\"1224\" y=\"-245.8\">value = [5, 10]</text>\n<text fill=\"#000000\" font-family=\"Times,serif\" font-size=\"14.00\" text-anchor=\"middle\" x=\"1224\" y=\"-230.8\">class = 1</text>\n</g>\n<!-- 37&#45;&gt;38 -->\n<g class=\"edge\" id=\"edge38\">\n<title>37-&gt;38</title>\n<path d=\"M1372.7947,-351.2969C1346.1758,-335.7692 1314.1284,-317.0749 1286.6035,-301.0187\" fill=\"none\" stroke=\"#000000\"/>\n<polygon fill=\"#000000\" points=\"1288.2397,-297.9212 1277.8383,-295.9057 1284.7126,-303.9677 1288.2397,-297.9212\" stroke=\"#000000\"/>\n</g>\n<!-- 45 -->\n<g class=\"node\" id=\"node46\">\n<title>45</title>\n<polygon fill=\"#eeaf81\" points=\"1479,-306 1377,-306 1377,-223 1479,-223 1479,-306\" stroke=\"#000000\"/>\n<text fill=\"#000000\" font-family=\"Times,serif\" font-size=\"14.00\" text-anchor=\"middle\" x=\"1428\" y=\"-290.8\">Age &lt;= 25.5</text>\n<text fill=\"#000000\" font-family=\"Times,serif\" font-size=\"14.00\" text-anchor=\"middle\" x=\"1428\" y=\"-275.8\">gini = 0.391</text>\n<text fill=\"#000000\" font-family=\"Times,serif\" font-size=\"14.00\" text-anchor=\"middle\" x=\"1428\" y=\"-260.8\">samples = 30</text>\n<text fill=\"#000000\" font-family=\"Times,serif\" font-size=\"14.00\" text-anchor=\"middle\" x=\"1428\" y=\"-245.8\">value = [22, 8]</text>\n<text fill=\"#000000\" font-family=\"Times,serif\" font-size=\"14.00\" text-anchor=\"middle\" x=\"1428\" y=\"-230.8\">class = 0</text>\n</g>\n<!-- 37&#45;&gt;45 -->\n<g class=\"edge\" id=\"edge45\">\n<title>37-&gt;45</title>\n<path d=\"M1428,-341.8796C1428,-333.6838 1428,-324.9891 1428,-316.5013\" fill=\"none\" stroke=\"#000000\"/>\n<polygon fill=\"#000000\" points=\"1431.5001,-316.298 1428,-306.2981 1424.5001,-316.2981 1431.5001,-316.298\" stroke=\"#000000\"/>\n</g>\n<!-- 39 -->\n<g class=\"node\" id=\"node40\">\n<title>39</title>\n<polygon fill=\"#4fa8e8\" points=\"1102.5,-187 1007.5,-187 1007.5,-104 1102.5,-104 1102.5,-187\" stroke=\"#000000\"/>\n<text fill=\"#000000\" font-family=\"Times,serif\" font-size=\"14.00\" text-anchor=\"middle\" x=\"1055\" y=\"-171.8\">Age &lt;= 3.0</text>\n<text fill=\"#000000\" font-family=\"Times,serif\" font-size=\"14.00\" text-anchor=\"middle\" x=\"1055\" y=\"-156.8\">gini = 0.18</text>\n<text fill=\"#000000\" font-family=\"Times,serif\" font-size=\"14.00\" text-anchor=\"middle\" x=\"1055\" y=\"-141.8\">samples = 10</text>\n<text fill=\"#000000\" font-family=\"Times,serif\" font-size=\"14.00\" text-anchor=\"middle\" x=\"1055\" y=\"-126.8\">value = [1, 9]</text>\n<text fill=\"#000000\" font-family=\"Times,serif\" font-size=\"14.00\" text-anchor=\"middle\" x=\"1055\" y=\"-111.8\">class = 1</text>\n</g>\n<!-- 38&#45;&gt;39 -->\n<g class=\"edge\" id=\"edge39\">\n<title>38-&gt;39</title>\n<path d=\"M1170.0627,-226.5205C1151.2137,-213.2481 1130.0198,-198.3246 1111.006,-184.9362\" fill=\"none\" stroke=\"#000000\"/>\n<polygon fill=\"#000000\" points=\"1112.9143,-181.9993 1102.7228,-179.1036 1108.8841,-187.7227 1112.9143,-181.9993\" stroke=\"#000000\"/>\n</g>\n<!-- 42 -->\n<g class=\"node\" id=\"node43\">\n<title>42</title>\n<polygon fill=\"#eca06a\" points=\"1277.5,-187 1170.5,-187 1170.5,-104 1277.5,-104 1277.5,-187\" stroke=\"#000000\"/>\n<text fill=\"#000000\" font-family=\"Times,serif\" font-size=\"14.00\" text-anchor=\"middle\" x=\"1224\" y=\"-171.8\">Fare &lt;= 14.456</text>\n<text fill=\"#000000\" font-family=\"Times,serif\" font-size=\"14.00\" text-anchor=\"middle\" x=\"1224\" y=\"-156.8\">gini = 0.32</text>\n<text fill=\"#000000\" font-family=\"Times,serif\" font-size=\"14.00\" text-anchor=\"middle\" x=\"1224\" y=\"-141.8\">samples = 5</text>\n<text fill=\"#000000\" font-family=\"Times,serif\" font-size=\"14.00\" text-anchor=\"middle\" x=\"1224\" y=\"-126.8\">value = [4, 1]</text>\n<text fill=\"#000000\" font-family=\"Times,serif\" font-size=\"14.00\" text-anchor=\"middle\" x=\"1224\" y=\"-111.8\">class = 0</text>\n</g>\n<!-- 38&#45;&gt;42 -->\n<g class=\"edge\" id=\"edge42\">\n<title>38-&gt;42</title>\n<path d=\"M1224,-222.8796C1224,-214.6838 1224,-205.9891 1224,-197.5013\" fill=\"none\" stroke=\"#000000\"/>\n<polygon fill=\"#000000\" points=\"1227.5001,-197.298 1224,-187.2981 1220.5001,-197.2981 1227.5001,-197.298\" stroke=\"#000000\"/>\n</g>\n<!-- 40 -->\n<g class=\"node\" id=\"node41\">\n<title>40</title>\n<polygon fill=\"#9ccef2\" points=\"989.5,-68 894.5,-68 894.5,0 989.5,0 989.5,-68\" stroke=\"#000000\"/>\n<text fill=\"#000000\" font-family=\"Times,serif\" font-size=\"14.00\" text-anchor=\"middle\" x=\"942\" y=\"-52.8\">gini = 0.444</text>\n<text fill=\"#000000\" font-family=\"Times,serif\" font-size=\"14.00\" text-anchor=\"middle\" x=\"942\" y=\"-37.8\">samples = 3</text>\n<text fill=\"#000000\" font-family=\"Times,serif\" font-size=\"14.00\" text-anchor=\"middle\" x=\"942\" y=\"-22.8\">value = [1, 2]</text>\n<text fill=\"#000000\" font-family=\"Times,serif\" font-size=\"14.00\" text-anchor=\"middle\" x=\"942\" y=\"-7.8\">class = 1</text>\n</g>\n<!-- 39&#45;&gt;40 -->\n<g class=\"edge\" id=\"edge40\">\n<title>39-&gt;40</title>\n<path d=\"M1012.923,-103.9815C1003.4224,-94.607 993.3387,-84.6572 983.8476,-75.2921\" fill=\"none\" stroke=\"#000000\"/>\n<polygon fill=\"#000000\" points=\"986.3011,-72.796 976.7246,-68.2637 981.3845,-77.7787 986.3011,-72.796\" stroke=\"#000000\"/>\n</g>\n<!-- 41 -->\n<g class=\"node\" id=\"node42\">\n<title>41</title>\n<polygon fill=\"#399de5\" points=\"1102.5,-68 1007.5,-68 1007.5,0 1102.5,0 1102.5,-68\" stroke=\"#000000\"/>\n<text fill=\"#000000\" font-family=\"Times,serif\" font-size=\"14.00\" text-anchor=\"middle\" x=\"1055\" y=\"-52.8\">gini = 0.0</text>\n<text fill=\"#000000\" font-family=\"Times,serif\" font-size=\"14.00\" text-anchor=\"middle\" x=\"1055\" y=\"-37.8\">samples = 7</text>\n<text fill=\"#000000\" font-family=\"Times,serif\" font-size=\"14.00\" text-anchor=\"middle\" x=\"1055\" y=\"-22.8\">value = [0, 7]</text>\n<text fill=\"#000000\" font-family=\"Times,serif\" font-size=\"14.00\" text-anchor=\"middle\" x=\"1055\" y=\"-7.8\">class = 1</text>\n</g>\n<!-- 39&#45;&gt;41 -->\n<g class=\"edge\" id=\"edge41\">\n<title>39-&gt;41</title>\n<path d=\"M1055,-103.9815C1055,-95.618 1055,-86.7965 1055,-78.3409\" fill=\"none\" stroke=\"#000000\"/>\n<polygon fill=\"#000000\" points=\"1058.5001,-78.2636 1055,-68.2637 1051.5001,-78.2637 1058.5001,-78.2636\" stroke=\"#000000\"/>\n</g>\n<!-- 43 -->\n<g class=\"node\" id=\"node44\">\n<title>43</title>\n<polygon fill=\"#f2c09c\" points=\"1215.5,-68 1120.5,-68 1120.5,0 1215.5,0 1215.5,-68\" stroke=\"#000000\"/>\n<text fill=\"#000000\" font-family=\"Times,serif\" font-size=\"14.00\" text-anchor=\"middle\" x=\"1168\" y=\"-52.8\">gini = 0.444</text>\n<text fill=\"#000000\" font-family=\"Times,serif\" font-size=\"14.00\" text-anchor=\"middle\" x=\"1168\" y=\"-37.8\">samples = 3</text>\n<text fill=\"#000000\" font-family=\"Times,serif\" font-size=\"14.00\" text-anchor=\"middle\" x=\"1168\" y=\"-22.8\">value = [2, 1]</text>\n<text fill=\"#000000\" font-family=\"Times,serif\" font-size=\"14.00\" text-anchor=\"middle\" x=\"1168\" y=\"-7.8\">class = 0</text>\n</g>\n<!-- 42&#45;&gt;43 -->\n<g class=\"edge\" id=\"edge43\">\n<title>42-&gt;43</title>\n<path d=\"M1203.1477,-103.9815C1198.7625,-95.2504 1194.1267,-86.0202 1189.711,-77.2281\" fill=\"none\" stroke=\"#000000\"/>\n<polygon fill=\"#000000\" points=\"1192.8246,-75.6291 1185.2087,-68.2637 1186.5692,-78.7708 1192.8246,-75.6291\" stroke=\"#000000\"/>\n</g>\n<!-- 44 -->\n<g class=\"node\" id=\"node45\">\n<title>44</title>\n<polygon fill=\"#e58139\" points=\"1328.5,-68 1233.5,-68 1233.5,0 1328.5,0 1328.5,-68\" stroke=\"#000000\"/>\n<text fill=\"#000000\" font-family=\"Times,serif\" font-size=\"14.00\" text-anchor=\"middle\" x=\"1281\" y=\"-52.8\">gini = 0.0</text>\n<text fill=\"#000000\" font-family=\"Times,serif\" font-size=\"14.00\" text-anchor=\"middle\" x=\"1281\" y=\"-37.8\">samples = 2</text>\n<text fill=\"#000000\" font-family=\"Times,serif\" font-size=\"14.00\" text-anchor=\"middle\" x=\"1281\" y=\"-22.8\">value = [2, 0]</text>\n<text fill=\"#000000\" font-family=\"Times,serif\" font-size=\"14.00\" text-anchor=\"middle\" x=\"1281\" y=\"-7.8\">class = 0</text>\n</g>\n<!-- 42&#45;&gt;44 -->\n<g class=\"edge\" id=\"edge44\">\n<title>42-&gt;44</title>\n<path d=\"M1245.2247,-103.9815C1249.6881,-95.2504 1254.4067,-86.0202 1258.9013,-77.2281\" fill=\"none\" stroke=\"#000000\"/>\n<polygon fill=\"#000000\" points=\"1262.0486,-78.7608 1263.484,-68.2637 1255.8158,-75.5745 1262.0486,-78.7608\" stroke=\"#000000\"/>\n</g>\n<!-- 46 -->\n<g class=\"node\" id=\"node47\">\n<title>46</title>\n<polygon fill=\"#e58139\" points=\"1416.5,-179.5 1321.5,-179.5 1321.5,-111.5 1416.5,-111.5 1416.5,-179.5\" stroke=\"#000000\"/>\n<text fill=\"#000000\" font-family=\"Times,serif\" font-size=\"14.00\" text-anchor=\"middle\" x=\"1369\" y=\"-164.3\">gini = 0.0</text>\n<text fill=\"#000000\" font-family=\"Times,serif\" font-size=\"14.00\" text-anchor=\"middle\" x=\"1369\" y=\"-149.3\">samples = 8</text>\n<text fill=\"#000000\" font-family=\"Times,serif\" font-size=\"14.00\" text-anchor=\"middle\" x=\"1369\" y=\"-134.3\">value = [8, 0]</text>\n<text fill=\"#000000\" font-family=\"Times,serif\" font-size=\"14.00\" text-anchor=\"middle\" x=\"1369\" y=\"-119.3\">class = 0</text>\n</g>\n<!-- 45&#45;&gt;46 -->\n<g class=\"edge\" id=\"edge46\">\n<title>45-&gt;46</title>\n<path d=\"M1407.3647,-222.8796C1401.9128,-211.8835 1396.0157,-199.9893 1390.5184,-188.9015\" fill=\"none\" stroke=\"#000000\"/>\n<polygon fill=\"#000000\" points=\"1393.5911,-187.2195 1386.0133,-179.8149 1387.3196,-190.3289 1393.5911,-187.2195\" stroke=\"#000000\"/>\n</g>\n<!-- 47 -->\n<g class=\"node\" id=\"node48\">\n<title>47</title>\n<polygon fill=\"#f4c9aa\" points=\"1537,-187 1435,-187 1435,-104 1537,-104 1537,-187\" stroke=\"#000000\"/>\n<text fill=\"#000000\" font-family=\"Times,serif\" font-size=\"14.00\" text-anchor=\"middle\" x=\"1486\" y=\"-171.8\">Age &lt;= 27.5</text>\n<text fill=\"#000000\" font-family=\"Times,serif\" font-size=\"14.00\" text-anchor=\"middle\" x=\"1486\" y=\"-156.8\">gini = 0.463</text>\n<text fill=\"#000000\" font-family=\"Times,serif\" font-size=\"14.00\" text-anchor=\"middle\" x=\"1486\" y=\"-141.8\">samples = 22</text>\n<text fill=\"#000000\" font-family=\"Times,serif\" font-size=\"14.00\" text-anchor=\"middle\" x=\"1486\" y=\"-126.8\">value = [14, 8]</text>\n<text fill=\"#000000\" font-family=\"Times,serif\" font-size=\"14.00\" text-anchor=\"middle\" x=\"1486\" y=\"-111.8\">class = 0</text>\n</g>\n<!-- 45&#45;&gt;47 -->\n<g class=\"edge\" id=\"edge47\">\n<title>45-&gt;47</title>\n<path d=\"M1448.2856,-222.8796C1452.4557,-214.3236 1456.8909,-205.2238 1461.1997,-196.3833\" fill=\"none\" stroke=\"#000000\"/>\n<polygon fill=\"#000000\" points=\"1464.3927,-197.8207 1465.6278,-187.2981 1458.1003,-194.7538 1464.3927,-197.8207\" stroke=\"#000000\"/>\n</g>\n<!-- 48 -->\n<g class=\"node\" id=\"node49\">\n<title>48</title>\n<polygon fill=\"#399de5\" points=\"1441.5,-68 1346.5,-68 1346.5,0 1441.5,0 1441.5,-68\" stroke=\"#000000\"/>\n<text fill=\"#000000\" font-family=\"Times,serif\" font-size=\"14.00\" text-anchor=\"middle\" x=\"1394\" y=\"-52.8\">gini = 0.0</text>\n<text fill=\"#000000\" font-family=\"Times,serif\" font-size=\"14.00\" text-anchor=\"middle\" x=\"1394\" y=\"-37.8\">samples = 4</text>\n<text fill=\"#000000\" font-family=\"Times,serif\" font-size=\"14.00\" text-anchor=\"middle\" x=\"1394\" y=\"-22.8\">value = [0, 4]</text>\n<text fill=\"#000000\" font-family=\"Times,serif\" font-size=\"14.00\" text-anchor=\"middle\" x=\"1394\" y=\"-7.8\">class = 1</text>\n</g>\n<!-- 47&#45;&gt;48 -->\n<g class=\"edge\" id=\"edge48\">\n<title>47-&gt;48</title>\n<path d=\"M1451.7426,-103.9815C1444.2351,-94.8828 1436.2804,-85.242 1428.7536,-76.1199\" fill=\"none\" stroke=\"#000000\"/>\n<polygon fill=\"#000000\" points=\"1431.3354,-73.7495 1422.2714,-68.2637 1425.9361,-78.2045 1431.3354,-73.7495\" stroke=\"#000000\"/>\n</g>\n<!-- 49 -->\n<g class=\"node\" id=\"node50\">\n<title>49</title>\n<polygon fill=\"#eca572\" points=\"1562,-68 1460,-68 1460,0 1562,0 1562,-68\" stroke=\"#000000\"/>\n<text fill=\"#000000\" font-family=\"Times,serif\" font-size=\"14.00\" text-anchor=\"middle\" x=\"1511\" y=\"-52.8\">gini = 0.346</text>\n<text fill=\"#000000\" font-family=\"Times,serif\" font-size=\"14.00\" text-anchor=\"middle\" x=\"1511\" y=\"-37.8\">samples = 18</text>\n<text fill=\"#000000\" font-family=\"Times,serif\" font-size=\"14.00\" text-anchor=\"middle\" x=\"1511\" y=\"-22.8\">value = [14, 4]</text>\n<text fill=\"#000000\" font-family=\"Times,serif\" font-size=\"14.00\" text-anchor=\"middle\" x=\"1511\" y=\"-7.8\">class = 0</text>\n</g>\n<!-- 47&#45;&gt;49 -->\n<g class=\"edge\" id=\"edge49\">\n<title>47-&gt;49</title>\n<path d=\"M1495.3091,-103.9815C1497.2049,-95.5261 1499.2057,-86.6026 1501.1206,-78.0623\" fill=\"none\" stroke=\"#000000\"/>\n<polygon fill=\"#000000\" points=\"1504.5449,-78.7872 1503.3176,-68.2637 1497.7144,-77.2556 1504.5449,-78.7872\" stroke=\"#000000\"/>\n</g>\n<!-- 51 -->\n<g class=\"node\" id=\"node52\">\n<title>51</title>\n<polygon fill=\"#c2e1f7\" points=\"1779,-306 1677,-306 1677,-223 1779,-223 1779,-306\" stroke=\"#000000\"/>\n<text fill=\"#000000\" font-family=\"Times,serif\" font-size=\"14.00\" text-anchor=\"middle\" x=\"1728\" y=\"-290.8\">Age &lt;= 6.5</text>\n<text fill=\"#000000\" font-family=\"Times,serif\" font-size=\"14.00\" text-anchor=\"middle\" x=\"1728\" y=\"-275.8\">gini = 0.483</text>\n<text fill=\"#000000\" font-family=\"Times,serif\" font-size=\"14.00\" text-anchor=\"middle\" x=\"1728\" y=\"-260.8\">samples = 22</text>\n<text fill=\"#000000\" font-family=\"Times,serif\" font-size=\"14.00\" text-anchor=\"middle\" x=\"1728\" y=\"-245.8\">value = [9, 13]</text>\n<text fill=\"#000000\" font-family=\"Times,serif\" font-size=\"14.00\" text-anchor=\"middle\" x=\"1728\" y=\"-230.8\">class = 1</text>\n</g>\n<!-- 50&#45;&gt;51 -->\n<g class=\"edge\" id=\"edge51\">\n<title>50-&gt;51</title>\n<path d=\"M1728,-341.8796C1728,-333.6838 1728,-324.9891 1728,-316.5013\" fill=\"none\" stroke=\"#000000\"/>\n<polygon fill=\"#000000\" points=\"1731.5001,-316.298 1728,-306.2981 1724.5001,-316.2981 1731.5001,-316.298\" stroke=\"#000000\"/>\n</g>\n<!-- 58 -->\n<g class=\"node\" id=\"node59\">\n<title>58</title>\n<polygon fill=\"#399de5\" points=\"1892.5,-298.5 1797.5,-298.5 1797.5,-230.5 1892.5,-230.5 1892.5,-298.5\" stroke=\"#000000\"/>\n<text fill=\"#000000\" font-family=\"Times,serif\" font-size=\"14.00\" text-anchor=\"middle\" x=\"1845\" y=\"-283.3\">gini = 0.0</text>\n<text fill=\"#000000\" font-family=\"Times,serif\" font-size=\"14.00\" text-anchor=\"middle\" x=\"1845\" y=\"-268.3\">samples = 8</text>\n<text fill=\"#000000\" font-family=\"Times,serif\" font-size=\"14.00\" text-anchor=\"middle\" x=\"1845\" y=\"-253.3\">value = [0, 8]</text>\n<text fill=\"#000000\" font-family=\"Times,serif\" font-size=\"14.00\" text-anchor=\"middle\" x=\"1845\" y=\"-238.3\">class = 1</text>\n</g>\n<!-- 50&#45;&gt;58 -->\n<g class=\"edge\" id=\"edge58\">\n<title>50-&gt;58</title>\n<path d=\"M1768.9209,-341.8796C1780.2728,-330.3337 1792.5982,-317.7976 1803.957,-306.2446\" fill=\"none\" stroke=\"#000000\"/>\n<polygon fill=\"#000000\" points=\"1806.7466,-308.3995 1811.2618,-298.8149 1801.7551,-303.4919 1806.7466,-308.3995\" stroke=\"#000000\"/>\n</g>\n<!-- 52 -->\n<g class=\"node\" id=\"node53\">\n<title>52</title>\n<polygon fill=\"#5aade9\" points=\"1781.5,-187 1674.5,-187 1674.5,-104 1781.5,-104 1781.5,-187\" stroke=\"#000000\"/>\n<text fill=\"#000000\" font-family=\"Times,serif\" font-size=\"14.00\" text-anchor=\"middle\" x=\"1728\" y=\"-171.8\">Fare &lt;= 20.167</text>\n<text fill=\"#000000\" font-family=\"Times,serif\" font-size=\"14.00\" text-anchor=\"middle\" x=\"1728\" y=\"-156.8\">gini = 0.245</text>\n<text fill=\"#000000\" font-family=\"Times,serif\" font-size=\"14.00\" text-anchor=\"middle\" x=\"1728\" y=\"-141.8\">samples = 7</text>\n<text fill=\"#000000\" font-family=\"Times,serif\" font-size=\"14.00\" text-anchor=\"middle\" x=\"1728\" y=\"-126.8\">value = [1, 6]</text>\n<text fill=\"#000000\" font-family=\"Times,serif\" font-size=\"14.00\" text-anchor=\"middle\" x=\"1728\" y=\"-111.8\">class = 1</text>\n</g>\n<!-- 51&#45;&gt;52 -->\n<g class=\"edge\" id=\"edge52\">\n<title>51-&gt;52</title>\n<path d=\"M1728,-222.8796C1728,-214.6838 1728,-205.9891 1728,-197.5013\" fill=\"none\" stroke=\"#000000\"/>\n<polygon fill=\"#000000\" points=\"1731.5001,-197.298 1728,-187.2981 1724.5001,-197.2981 1731.5001,-197.298\" stroke=\"#000000\"/>\n</g>\n<!-- 55 -->\n<g class=\"node\" id=\"node56\">\n<title>55</title>\n<polygon fill=\"#fcefe6\" points=\"1899.5,-187 1804.5,-187 1804.5,-104 1899.5,-104 1899.5,-187\" stroke=\"#000000\"/>\n<text fill=\"#000000\" font-family=\"Times,serif\" font-size=\"14.00\" text-anchor=\"middle\" x=\"1852\" y=\"-171.8\">Age &lt;= 21.0</text>\n<text fill=\"#000000\" font-family=\"Times,serif\" font-size=\"14.00\" text-anchor=\"middle\" x=\"1852\" y=\"-156.8\">gini = 0.498</text>\n<text fill=\"#000000\" font-family=\"Times,serif\" font-size=\"14.00\" text-anchor=\"middle\" x=\"1852\" y=\"-141.8\">samples = 15</text>\n<text fill=\"#000000\" font-family=\"Times,serif\" font-size=\"14.00\" text-anchor=\"middle\" x=\"1852\" y=\"-126.8\">value = [8, 7]</text>\n<text fill=\"#000000\" font-family=\"Times,serif\" font-size=\"14.00\" text-anchor=\"middle\" x=\"1852\" y=\"-111.8\">class = 0</text>\n</g>\n<!-- 51&#45;&gt;55 -->\n<g class=\"edge\" id=\"edge55\">\n<title>51-&gt;55</title>\n<path d=\"M1771.3692,-222.8796C1780.9416,-213.6931 1791.1672,-203.8798 1801.0103,-194.4336\" fill=\"none\" stroke=\"#000000\"/>\n<polygon fill=\"#000000\" points=\"1803.6541,-196.7475 1808.4457,-187.2981 1798.8072,-191.6969 1803.6541,-196.7475\" stroke=\"#000000\"/>\n</g>\n<!-- 53 -->\n<g class=\"node\" id=\"node54\">\n<title>53</title>\n<polygon fill=\"#399de5\" points=\"1675.5,-68 1580.5,-68 1580.5,0 1675.5,0 1675.5,-68\" stroke=\"#000000\"/>\n<text fill=\"#000000\" font-family=\"Times,serif\" font-size=\"14.00\" text-anchor=\"middle\" x=\"1628\" y=\"-52.8\">gini = 0.0</text>\n<text fill=\"#000000\" font-family=\"Times,serif\" font-size=\"14.00\" text-anchor=\"middle\" x=\"1628\" y=\"-37.8\">samples = 5</text>\n<text fill=\"#000000\" font-family=\"Times,serif\" font-size=\"14.00\" text-anchor=\"middle\" x=\"1628\" y=\"-22.8\">value = [0, 5]</text>\n<text fill=\"#000000\" font-family=\"Times,serif\" font-size=\"14.00\" text-anchor=\"middle\" x=\"1628\" y=\"-7.8\">class = 1</text>\n</g>\n<!-- 52&#45;&gt;53 -->\n<g class=\"edge\" id=\"edge53\">\n<title>52-&gt;53</title>\n<path d=\"M1690.7637,-103.9815C1682.5209,-94.7908 1673.7822,-85.0472 1665.5279,-75.8436\" fill=\"none\" stroke=\"#000000\"/>\n<polygon fill=\"#000000\" points=\"1668.0121,-73.3714 1658.7298,-68.2637 1662.8009,-78.0451 1668.0121,-73.3714\" stroke=\"#000000\"/>\n</g>\n<!-- 54 -->\n<g class=\"node\" id=\"node55\">\n<title>54</title>\n<polygon fill=\"#ffffff\" points=\"1788.5,-68 1693.5,-68 1693.5,0 1788.5,0 1788.5,-68\" stroke=\"#000000\"/>\n<text fill=\"#000000\" font-family=\"Times,serif\" font-size=\"14.00\" text-anchor=\"middle\" x=\"1741\" y=\"-52.8\">gini = 0.5</text>\n<text fill=\"#000000\" font-family=\"Times,serif\" font-size=\"14.00\" text-anchor=\"middle\" x=\"1741\" y=\"-37.8\">samples = 2</text>\n<text fill=\"#000000\" font-family=\"Times,serif\" font-size=\"14.00\" text-anchor=\"middle\" x=\"1741\" y=\"-22.8\">value = [1, 1]</text>\n<text fill=\"#000000\" font-family=\"Times,serif\" font-size=\"14.00\" text-anchor=\"middle\" x=\"1741\" y=\"-7.8\">class = 0</text>\n</g>\n<!-- 52&#45;&gt;54 -->\n<g class=\"edge\" id=\"edge54\">\n<title>52-&gt;54</title>\n<path d=\"M1732.8407,-103.9815C1733.8158,-95.618 1734.8443,-86.7965 1735.8302,-78.3409\" fill=\"none\" stroke=\"#000000\"/>\n<polygon fill=\"#000000\" points=\"1739.3234,-78.6017 1737.0051,-68.2637 1732.3705,-77.791 1739.3234,-78.6017\" stroke=\"#000000\"/>\n</g>\n<!-- 56 -->\n<g class=\"node\" id=\"node57\">\n<title>56</title>\n<polygon fill=\"#e58139\" points=\"1901.5,-68 1806.5,-68 1806.5,0 1901.5,0 1901.5,-68\" stroke=\"#000000\"/>\n<text fill=\"#000000\" font-family=\"Times,serif\" font-size=\"14.00\" text-anchor=\"middle\" x=\"1854\" y=\"-52.8\">gini = 0.0</text>\n<text fill=\"#000000\" font-family=\"Times,serif\" font-size=\"14.00\" text-anchor=\"middle\" x=\"1854\" y=\"-37.8\">samples = 3</text>\n<text fill=\"#000000\" font-family=\"Times,serif\" font-size=\"14.00\" text-anchor=\"middle\" x=\"1854\" y=\"-22.8\">value = [3, 0]</text>\n<text fill=\"#000000\" font-family=\"Times,serif\" font-size=\"14.00\" text-anchor=\"middle\" x=\"1854\" y=\"-7.8\">class = 0</text>\n</g>\n<!-- 55&#45;&gt;56 -->\n<g class=\"edge\" id=\"edge56\">\n<title>55-&gt;56</title>\n<path d=\"M1852.7447,-103.9815C1852.8947,-95.618 1853.053,-86.7965 1853.2046,-78.3409\" fill=\"none\" stroke=\"#000000\"/>\n<polygon fill=\"#000000\" points=\"1856.7054,-78.3249 1853.3854,-68.2637 1849.7065,-78.1993 1856.7054,-78.3249\" stroke=\"#000000\"/>\n</g>\n<!-- 57 -->\n<g class=\"node\" id=\"node58\">\n<title>57</title>\n<polygon fill=\"#c6e3f8\" points=\"2014.5,-68 1919.5,-68 1919.5,0 2014.5,0 2014.5,-68\" stroke=\"#000000\"/>\n<text fill=\"#000000\" font-family=\"Times,serif\" font-size=\"14.00\" text-anchor=\"middle\" x=\"1967\" y=\"-52.8\">gini = 0.486</text>\n<text fill=\"#000000\" font-family=\"Times,serif\" font-size=\"14.00\" text-anchor=\"middle\" x=\"1967\" y=\"-37.8\">samples = 12</text>\n<text fill=\"#000000\" font-family=\"Times,serif\" font-size=\"14.00\" text-anchor=\"middle\" x=\"1967\" y=\"-22.8\">value = [5, 7]</text>\n<text fill=\"#000000\" font-family=\"Times,serif\" font-size=\"14.00\" text-anchor=\"middle\" x=\"1967\" y=\"-7.8\">class = 1</text>\n</g>\n<!-- 55&#45;&gt;57 -->\n<g class=\"edge\" id=\"edge57\">\n<title>55-&gt;57</title>\n<path d=\"M1894.8218,-103.9815C1904.4905,-94.607 1914.7527,-84.6572 1924.4118,-75.2921\" fill=\"none\" stroke=\"#000000\"/>\n<polygon fill=\"#000000\" points=\"1926.9176,-77.7375 1931.6608,-68.2637 1922.0449,-72.7118 1926.9176,-77.7375\" stroke=\"#000000\"/>\n</g>\n<!-- 60 -->\n<g class=\"node\" id=\"node61\">\n<title>60</title>\n<polygon fill=\"#ea9a61\" points=\"2014.5,-544 1907.5,-544 1907.5,-461 2014.5,-461 2014.5,-544\" stroke=\"#000000\"/>\n<text fill=\"#000000\" font-family=\"Times,serif\" font-size=\"14.00\" text-anchor=\"middle\" x=\"1961\" y=\"-528.8\">Fare &lt;= 31.331</text>\n<text fill=\"#000000\" font-family=\"Times,serif\" font-size=\"14.00\" text-anchor=\"middle\" x=\"1961\" y=\"-513.8\">gini = 0.278</text>\n<text fill=\"#000000\" font-family=\"Times,serif\" font-size=\"14.00\" text-anchor=\"middle\" x=\"1961\" y=\"-498.8\">samples = 18</text>\n<text fill=\"#000000\" font-family=\"Times,serif\" font-size=\"14.00\" text-anchor=\"middle\" x=\"1961\" y=\"-483.8\">value = [15, 3]</text>\n<text fill=\"#000000\" font-family=\"Times,serif\" font-size=\"14.00\" text-anchor=\"middle\" x=\"1961\" y=\"-468.8\">class = 0</text>\n</g>\n<!-- 59&#45;&gt;60 -->\n<g class=\"edge\" id=\"edge60\">\n<title>59-&gt;60</title>\n<path d=\"M1961,-579.8796C1961,-571.6838 1961,-562.9891 1961,-554.5013\" fill=\"none\" stroke=\"#000000\"/>\n<polygon fill=\"#000000\" points=\"1964.5001,-554.298 1961,-544.2981 1957.5001,-554.2981 1964.5001,-554.298\" stroke=\"#000000\"/>\n</g>\n<!-- 69 -->\n<g class=\"node\" id=\"node70\">\n<title>69</title>\n<polygon fill=\"#e58139\" points=\"2127.5,-536.5 2032.5,-536.5 2032.5,-468.5 2127.5,-468.5 2127.5,-536.5\" stroke=\"#000000\"/>\n<text fill=\"#000000\" font-family=\"Times,serif\" font-size=\"14.00\" text-anchor=\"middle\" x=\"2080\" y=\"-521.3\">gini = 0.0</text>\n<text fill=\"#000000\" font-family=\"Times,serif\" font-size=\"14.00\" text-anchor=\"middle\" x=\"2080\" y=\"-506.3\">samples = 9</text>\n<text fill=\"#000000\" font-family=\"Times,serif\" font-size=\"14.00\" text-anchor=\"middle\" x=\"2080\" y=\"-491.3\">value = [9, 0]</text>\n<text fill=\"#000000\" font-family=\"Times,serif\" font-size=\"14.00\" text-anchor=\"middle\" x=\"2080\" y=\"-476.3\">class = 0</text>\n</g>\n<!-- 59&#45;&gt;69 -->\n<g class=\"edge\" id=\"edge69\">\n<title>59-&gt;69</title>\n<path d=\"M2002.6204,-579.8796C2014.2763,-568.2237 2026.9413,-555.5587 2038.5852,-543.9148\" fill=\"none\" stroke=\"#000000\"/>\n<polygon fill=\"#000000\" points=\"2041.0889,-546.3609 2045.6851,-536.8149 2036.1391,-541.4111 2041.0889,-546.3609\" stroke=\"#000000\"/>\n</g>\n<!-- 61 -->\n<g class=\"node\" id=\"node62\">\n<title>61</title>\n<polygon fill=\"#e78946\" points=\"2014.5,-425 1907.5,-425 1907.5,-342 2014.5,-342 2014.5,-425\" stroke=\"#000000\"/>\n<text fill=\"#000000\" font-family=\"Times,serif\" font-size=\"14.00\" text-anchor=\"middle\" x=\"1961\" y=\"-409.8\">Fare &lt;= 24.808</text>\n<text fill=\"#000000\" font-family=\"Times,serif\" font-size=\"14.00\" text-anchor=\"middle\" x=\"1961\" y=\"-394.8\">gini = 0.117</text>\n<text fill=\"#000000\" font-family=\"Times,serif\" font-size=\"14.00\" text-anchor=\"middle\" x=\"1961\" y=\"-379.8\">samples = 16</text>\n<text fill=\"#000000\" font-family=\"Times,serif\" font-size=\"14.00\" text-anchor=\"middle\" x=\"1961\" y=\"-364.8\">value = [15, 1]</text>\n<text fill=\"#000000\" font-family=\"Times,serif\" font-size=\"14.00\" text-anchor=\"middle\" x=\"1961\" y=\"-349.8\">class = 0</text>\n</g>\n<!-- 60&#45;&gt;61 -->\n<g class=\"edge\" id=\"edge61\">\n<title>60-&gt;61</title>\n<path d=\"M1961,-460.8796C1961,-452.6838 1961,-443.9891 1961,-435.5013\" fill=\"none\" stroke=\"#000000\"/>\n<polygon fill=\"#000000\" points=\"1964.5001,-435.298 1961,-425.2981 1957.5001,-435.2981 1964.5001,-435.298\" stroke=\"#000000\"/>\n</g>\n<!-- 68 -->\n<g class=\"node\" id=\"node69\">\n<title>68</title>\n<polygon fill=\"#399de5\" points=\"2127.5,-417.5 2032.5,-417.5 2032.5,-349.5 2127.5,-349.5 2127.5,-417.5\" stroke=\"#000000\"/>\n<text fill=\"#000000\" font-family=\"Times,serif\" font-size=\"14.00\" text-anchor=\"middle\" x=\"2080\" y=\"-402.3\">gini = 0.0</text>\n<text fill=\"#000000\" font-family=\"Times,serif\" font-size=\"14.00\" text-anchor=\"middle\" x=\"2080\" y=\"-387.3\">samples = 2</text>\n<text fill=\"#000000\" font-family=\"Times,serif\" font-size=\"14.00\" text-anchor=\"middle\" x=\"2080\" y=\"-372.3\">value = [0, 2]</text>\n<text fill=\"#000000\" font-family=\"Times,serif\" font-size=\"14.00\" text-anchor=\"middle\" x=\"2080\" y=\"-357.3\">class = 1</text>\n</g>\n<!-- 60&#45;&gt;68 -->\n<g class=\"edge\" id=\"edge68\">\n<title>60-&gt;68</title>\n<path d=\"M2002.6204,-460.8796C2014.2763,-449.2237 2026.9413,-436.5587 2038.5852,-424.9148\" fill=\"none\" stroke=\"#000000\"/>\n<polygon fill=\"#000000\" points=\"2041.0889,-427.3609 2045.6851,-417.8149 2036.1391,-422.4111 2041.0889,-427.3609\" stroke=\"#000000\"/>\n</g>\n<!-- 62 -->\n<g class=\"node\" id=\"node63\">\n<title>62</title>\n<polygon fill=\"#eeab7b\" points=\"2008.5,-306 1913.5,-306 1913.5,-223 2008.5,-223 2008.5,-306\" stroke=\"#000000\"/>\n<text fill=\"#000000\" font-family=\"Times,serif\" font-size=\"14.00\" text-anchor=\"middle\" x=\"1961\" y=\"-290.8\">Age &lt;= 37.5</text>\n<text fill=\"#000000\" font-family=\"Times,serif\" font-size=\"14.00\" text-anchor=\"middle\" x=\"1961\" y=\"-275.8\">gini = 0.375</text>\n<text fill=\"#000000\" font-family=\"Times,serif\" font-size=\"14.00\" text-anchor=\"middle\" x=\"1961\" y=\"-260.8\">samples = 4</text>\n<text fill=\"#000000\" font-family=\"Times,serif\" font-size=\"14.00\" text-anchor=\"middle\" x=\"1961\" y=\"-245.8\">value = [3, 1]</text>\n<text fill=\"#000000\" font-family=\"Times,serif\" font-size=\"14.00\" text-anchor=\"middle\" x=\"1961\" y=\"-230.8\">class = 0</text>\n</g>\n<!-- 61&#45;&gt;62 -->\n<g class=\"edge\" id=\"edge62\">\n<title>61-&gt;62</title>\n<path d=\"M1961,-341.8796C1961,-333.6838 1961,-324.9891 1961,-316.5013\" fill=\"none\" stroke=\"#000000\"/>\n<polygon fill=\"#000000\" points=\"1964.5001,-316.298 1961,-306.2981 1957.5001,-316.2981 1964.5001,-316.298\" stroke=\"#000000\"/>\n</g>\n<!-- 67 -->\n<g class=\"node\" id=\"node68\">\n<title>67</title>\n<polygon fill=\"#e58139\" points=\"2129,-298.5 2027,-298.5 2027,-230.5 2129,-230.5 2129,-298.5\" stroke=\"#000000\"/>\n<text fill=\"#000000\" font-family=\"Times,serif\" font-size=\"14.00\" text-anchor=\"middle\" x=\"2078\" y=\"-283.3\">gini = 0.0</text>\n<text fill=\"#000000\" font-family=\"Times,serif\" font-size=\"14.00\" text-anchor=\"middle\" x=\"2078\" y=\"-268.3\">samples = 12</text>\n<text fill=\"#000000\" font-family=\"Times,serif\" font-size=\"14.00\" text-anchor=\"middle\" x=\"2078\" y=\"-253.3\">value = [12, 0]</text>\n<text fill=\"#000000\" font-family=\"Times,serif\" font-size=\"14.00\" text-anchor=\"middle\" x=\"2078\" y=\"-238.3\">class = 0</text>\n</g>\n<!-- 61&#45;&gt;67 -->\n<g class=\"edge\" id=\"edge67\">\n<title>61-&gt;67</title>\n<path d=\"M2001.9209,-341.8796C2013.2728,-330.3337 2025.5982,-317.7976 2036.957,-306.2446\" fill=\"none\" stroke=\"#000000\"/>\n<polygon fill=\"#000000\" points=\"2039.7466,-308.3995 2044.2618,-298.8149 2034.7551,-303.4919 2039.7466,-308.3995\" stroke=\"#000000\"/>\n</g>\n<!-- 63 -->\n<g class=\"node\" id=\"node64\">\n<title>63</title>\n<polygon fill=\"#e58139\" points=\"2012.5,-179.5 1917.5,-179.5 1917.5,-111.5 2012.5,-111.5 2012.5,-179.5\" stroke=\"#000000\"/>\n<text fill=\"#000000\" font-family=\"Times,serif\" font-size=\"14.00\" text-anchor=\"middle\" x=\"1965\" y=\"-164.3\">gini = 0.0</text>\n<text fill=\"#000000\" font-family=\"Times,serif\" font-size=\"14.00\" text-anchor=\"middle\" x=\"1965\" y=\"-149.3\">samples = 2</text>\n<text fill=\"#000000\" font-family=\"Times,serif\" font-size=\"14.00\" text-anchor=\"middle\" x=\"1965\" y=\"-134.3\">value = [2, 0]</text>\n<text fill=\"#000000\" font-family=\"Times,serif\" font-size=\"14.00\" text-anchor=\"middle\" x=\"1965\" y=\"-119.3\">class = 0</text>\n</g>\n<!-- 62&#45;&gt;63 -->\n<g class=\"edge\" id=\"edge63\">\n<title>62-&gt;63</title>\n<path d=\"M1962.399,-222.8796C1962.7575,-212.2134 1963.1445,-200.7021 1963.5075,-189.9015\" fill=\"none\" stroke=\"#000000\"/>\n<polygon fill=\"#000000\" points=\"1967.0085,-189.9269 1963.8466,-179.8149 1960.0125,-189.6917 1967.0085,-189.9269\" stroke=\"#000000\"/>\n</g>\n<!-- 64 -->\n<g class=\"node\" id=\"node65\">\n<title>64</title>\n<polygon fill=\"#ffffff\" points=\"2127.5,-187 2032.5,-187 2032.5,-104 2127.5,-104 2127.5,-187\" stroke=\"#000000\"/>\n<text fill=\"#000000\" font-family=\"Times,serif\" font-size=\"14.00\" text-anchor=\"middle\" x=\"2080\" y=\"-171.8\">Fare &lt;= 23.8</text>\n<text fill=\"#000000\" font-family=\"Times,serif\" font-size=\"14.00\" text-anchor=\"middle\" x=\"2080\" y=\"-156.8\">gini = 0.5</text>\n<text fill=\"#000000\" font-family=\"Times,serif\" font-size=\"14.00\" text-anchor=\"middle\" x=\"2080\" y=\"-141.8\">samples = 2</text>\n<text fill=\"#000000\" font-family=\"Times,serif\" font-size=\"14.00\" text-anchor=\"middle\" x=\"2080\" y=\"-126.8\">value = [1, 1]</text>\n<text fill=\"#000000\" font-family=\"Times,serif\" font-size=\"14.00\" text-anchor=\"middle\" x=\"2080\" y=\"-111.8\">class = 0</text>\n</g>\n<!-- 62&#45;&gt;64 -->\n<g class=\"edge\" id=\"edge64\">\n<title>62-&gt;64</title>\n<path d=\"M2002.6204,-222.8796C2011.8069,-213.6931 2021.6202,-203.8798 2031.0664,-194.4336\" fill=\"none\" stroke=\"#000000\"/>\n<polygon fill=\"#000000\" points=\"2033.6057,-196.8441 2038.2019,-187.2981 2028.6559,-191.8943 2033.6057,-196.8441\" stroke=\"#000000\"/>\n</g>\n<!-- 65 -->\n<g class=\"node\" id=\"node66\">\n<title>65</title>\n<polygon fill=\"#e58139\" points=\"2127.5,-68 2032.5,-68 2032.5,0 2127.5,0 2127.5,-68\" stroke=\"#000000\"/>\n<text fill=\"#000000\" font-family=\"Times,serif\" font-size=\"14.00\" text-anchor=\"middle\" x=\"2080\" y=\"-52.8\">gini = 0.0</text>\n<text fill=\"#000000\" font-family=\"Times,serif\" font-size=\"14.00\" text-anchor=\"middle\" x=\"2080\" y=\"-37.8\">samples = 1</text>\n<text fill=\"#000000\" font-family=\"Times,serif\" font-size=\"14.00\" text-anchor=\"middle\" x=\"2080\" y=\"-22.8\">value = [1, 0]</text>\n<text fill=\"#000000\" font-family=\"Times,serif\" font-size=\"14.00\" text-anchor=\"middle\" x=\"2080\" y=\"-7.8\">class = 0</text>\n</g>\n<!-- 64&#45;&gt;65 -->\n<g class=\"edge\" id=\"edge65\">\n<title>64-&gt;65</title>\n<path d=\"M2080,-103.9815C2080,-95.618 2080,-86.7965 2080,-78.3409\" fill=\"none\" stroke=\"#000000\"/>\n<polygon fill=\"#000000\" points=\"2083.5001,-78.2636 2080,-68.2637 2076.5001,-78.2637 2083.5001,-78.2636\" stroke=\"#000000\"/>\n</g>\n<!-- 66 -->\n<g class=\"node\" id=\"node67\">\n<title>66</title>\n<polygon fill=\"#399de5\" points=\"2240.5,-68 2145.5,-68 2145.5,0 2240.5,0 2240.5,-68\" stroke=\"#000000\"/>\n<text fill=\"#000000\" font-family=\"Times,serif\" font-size=\"14.00\" text-anchor=\"middle\" x=\"2193\" y=\"-52.8\">gini = 0.0</text>\n<text fill=\"#000000\" font-family=\"Times,serif\" font-size=\"14.00\" text-anchor=\"middle\" x=\"2193\" y=\"-37.8\">samples = 1</text>\n<text fill=\"#000000\" font-family=\"Times,serif\" font-size=\"14.00\" text-anchor=\"middle\" x=\"2193\" y=\"-22.8\">value = [0, 1]</text>\n<text fill=\"#000000\" font-family=\"Times,serif\" font-size=\"14.00\" text-anchor=\"middle\" x=\"2193\" y=\"-7.8\">class = 1</text>\n</g>\n<!-- 64&#45;&gt;66 -->\n<g class=\"edge\" id=\"edge66\">\n<title>64-&gt;66</title>\n<path d=\"M2122.077,-103.9815C2131.5776,-94.607 2141.6613,-84.6572 2151.1524,-75.2921\" fill=\"none\" stroke=\"#000000\"/>\n<polygon fill=\"#000000\" points=\"2153.6155,-77.7787 2158.2754,-68.2637 2148.6989,-72.796 2153.6155,-77.7787\" stroke=\"#000000\"/>\n</g>\n<!-- 71 -->\n<g class=\"node\" id=\"node72\">\n<title>71</title>\n<polygon fill=\"#9ccef2\" points=\"2246,-782 2144,-782 2144,-699 2246,-699 2246,-782\" stroke=\"#000000\"/>\n<text fill=\"#000000\" font-family=\"Times,serif\" font-size=\"14.00\" text-anchor=\"middle\" x=\"2195\" y=\"-766.8\">Pclass &lt;= 2.5</text>\n<text fill=\"#000000\" font-family=\"Times,serif\" font-size=\"14.00\" text-anchor=\"middle\" x=\"2195\" y=\"-751.8\">gini = 0.444</text>\n<text fill=\"#000000\" font-family=\"Times,serif\" font-size=\"14.00\" text-anchor=\"middle\" x=\"2195\" y=\"-736.8\">samples = 24</text>\n<text fill=\"#000000\" font-family=\"Times,serif\" font-size=\"14.00\" text-anchor=\"middle\" x=\"2195\" y=\"-721.8\">value = [8, 16]</text>\n<text fill=\"#000000\" font-family=\"Times,serif\" font-size=\"14.00\" text-anchor=\"middle\" x=\"2195\" y=\"-706.8\">class = 1</text>\n</g>\n<!-- 70&#45;&gt;71 -->\n<g class=\"edge\" id=\"edge71\">\n<title>70-&gt;71</title>\n<path d=\"M2195,-817.8796C2195,-809.6838 2195,-800.9891 2195,-792.5013\" fill=\"none\" stroke=\"#000000\"/>\n<polygon fill=\"#000000\" points=\"2198.5001,-792.298 2195,-782.2981 2191.5001,-792.2981 2198.5001,-792.298\" stroke=\"#000000\"/>\n</g>\n<!-- 80 -->\n<g class=\"node\" id=\"node81\">\n<title>80</title>\n<polygon fill=\"#ea9a61\" points=\"2895.5,-782 2778.5,-782 2778.5,-699 2895.5,-699 2895.5,-782\" stroke=\"#000000\"/>\n<text fill=\"#000000\" font-family=\"Times,serif\" font-size=\"14.00\" text-anchor=\"middle\" x=\"2837\" y=\"-766.8\">Pclass &lt;= 1.5</text>\n<text fill=\"#000000\" font-family=\"Times,serif\" font-size=\"14.00\" text-anchor=\"middle\" x=\"2837\" y=\"-751.8\">gini = 0.28</text>\n<text fill=\"#000000\" font-family=\"Times,serif\" font-size=\"14.00\" text-anchor=\"middle\" x=\"2837\" y=\"-736.8\">samples = 553</text>\n<text fill=\"#000000\" font-family=\"Times,serif\" font-size=\"14.00\" text-anchor=\"middle\" x=\"2837\" y=\"-721.8\">value = [460, 93]</text>\n<text fill=\"#000000\" font-family=\"Times,serif\" font-size=\"14.00\" text-anchor=\"middle\" x=\"2837\" y=\"-706.8\">class = 0</text>\n</g>\n<!-- 70&#45;&gt;80 -->\n<g class=\"edge\" id=\"edge80\">\n<title>70-&gt;80</title>\n<path d=\"M2257.7266,-847.8731C2378.6082,-825.4667 2642.938,-776.471 2768.3481,-753.2252\" fill=\"none\" stroke=\"#000000\"/>\n<polygon fill=\"#000000\" points=\"2769.031,-756.6583 2778.2256,-751.3943 2767.7552,-749.7756 2769.031,-756.6583\" stroke=\"#000000\"/>\n</g>\n<!-- 72 -->\n<g class=\"node\" id=\"node73\">\n<title>72</title>\n<polygon fill=\"#399de5\" points=\"2185,-655.5 2083,-655.5 2083,-587.5 2185,-587.5 2185,-655.5\" stroke=\"#000000\"/>\n<text fill=\"#000000\" font-family=\"Times,serif\" font-size=\"14.00\" text-anchor=\"middle\" x=\"2134\" y=\"-640.3\">gini = 0.0</text>\n<text fill=\"#000000\" font-family=\"Times,serif\" font-size=\"14.00\" text-anchor=\"middle\" x=\"2134\" y=\"-625.3\">samples = 10</text>\n<text fill=\"#000000\" font-family=\"Times,serif\" font-size=\"14.00\" text-anchor=\"middle\" x=\"2134\" y=\"-610.3\">value = [0, 10]</text>\n<text fill=\"#000000\" font-family=\"Times,serif\" font-size=\"14.00\" text-anchor=\"middle\" x=\"2134\" y=\"-595.3\">class = 1</text>\n</g>\n<!-- 71&#45;&gt;72 -->\n<g class=\"edge\" id=\"edge72\">\n<title>71-&gt;72</title>\n<path d=\"M2173.6652,-698.8796C2168.0285,-687.8835 2161.9315,-675.9893 2156.2478,-664.9015\" fill=\"none\" stroke=\"#000000\"/>\n<polygon fill=\"#000000\" points=\"2159.2663,-663.1173 2151.59,-655.8149 2153.0371,-666.3105 2159.2663,-663.1173\" stroke=\"#000000\"/>\n</g>\n<!-- 73 -->\n<g class=\"node\" id=\"node74\">\n<title>73</title>\n<polygon fill=\"#f8e0ce\" points=\"2310.5,-663 2203.5,-663 2203.5,-580 2310.5,-580 2310.5,-663\" stroke=\"#000000\"/>\n<text fill=\"#000000\" font-family=\"Times,serif\" font-size=\"14.00\" text-anchor=\"middle\" x=\"2257\" y=\"-647.8\">Fare &lt;= 20.825</text>\n<text fill=\"#000000\" font-family=\"Times,serif\" font-size=\"14.00\" text-anchor=\"middle\" x=\"2257\" y=\"-632.8\">gini = 0.49</text>\n<text fill=\"#000000\" font-family=\"Times,serif\" font-size=\"14.00\" text-anchor=\"middle\" x=\"2257\" y=\"-617.8\">samples = 14</text>\n<text fill=\"#000000\" font-family=\"Times,serif\" font-size=\"14.00\" text-anchor=\"middle\" x=\"2257\" y=\"-602.8\">value = [8, 6]</text>\n<text fill=\"#000000\" font-family=\"Times,serif\" font-size=\"14.00\" text-anchor=\"middle\" x=\"2257\" y=\"-587.8\">class = 0</text>\n</g>\n<!-- 71&#45;&gt;73 -->\n<g class=\"edge\" id=\"edge73\">\n<title>71-&gt;73</title>\n<path d=\"M2216.6846,-698.8796C2221.1423,-690.3236 2225.8834,-681.2238 2230.4894,-672.3833\" fill=\"none\" stroke=\"#000000\"/>\n<polygon fill=\"#000000\" points=\"2233.7062,-673.7838 2235.2229,-663.2981 2227.4983,-670.5494 2233.7062,-673.7838\" stroke=\"#000000\"/>\n</g>\n<!-- 74 -->\n<g class=\"node\" id=\"node75\">\n<title>74</title>\n<polygon fill=\"#399de5\" points=\"2241.5,-536.5 2146.5,-536.5 2146.5,-468.5 2241.5,-468.5 2241.5,-536.5\" stroke=\"#000000\"/>\n<text fill=\"#000000\" font-family=\"Times,serif\" font-size=\"14.00\" text-anchor=\"middle\" x=\"2194\" y=\"-521.3\">gini = 0.0</text>\n<text fill=\"#000000\" font-family=\"Times,serif\" font-size=\"14.00\" text-anchor=\"middle\" x=\"2194\" y=\"-506.3\">samples = 5</text>\n<text fill=\"#000000\" font-family=\"Times,serif\" font-size=\"14.00\" text-anchor=\"middle\" x=\"2194\" y=\"-491.3\">value = [0, 5]</text>\n<text fill=\"#000000\" font-family=\"Times,serif\" font-size=\"14.00\" text-anchor=\"middle\" x=\"2194\" y=\"-476.3\">class = 1</text>\n</g>\n<!-- 73&#45;&gt;74 -->\n<g class=\"edge\" id=\"edge74\">\n<title>73-&gt;74</title>\n<path d=\"M2234.9657,-579.8796C2229.1442,-568.8835 2222.8473,-556.9893 2216.9773,-545.9015\" fill=\"none\" stroke=\"#000000\"/>\n<polygon fill=\"#000000\" points=\"2219.9389,-544.0152 2212.1667,-536.8149 2213.7524,-547.2905 2219.9389,-544.0152\" stroke=\"#000000\"/>\n</g>\n<!-- 75 -->\n<g class=\"node\" id=\"node76\">\n<title>75</title>\n<polygon fill=\"#e89152\" points=\"2354.5,-544 2259.5,-544 2259.5,-461 2354.5,-461 2354.5,-544\" stroke=\"#000000\"/>\n<text fill=\"#000000\" font-family=\"Times,serif\" font-size=\"14.00\" text-anchor=\"middle\" x=\"2307\" y=\"-528.8\">Age &lt;= 2.5</text>\n<text fill=\"#000000\" font-family=\"Times,serif\" font-size=\"14.00\" text-anchor=\"middle\" x=\"2307\" y=\"-513.8\">gini = 0.198</text>\n<text fill=\"#000000\" font-family=\"Times,serif\" font-size=\"14.00\" text-anchor=\"middle\" x=\"2307\" y=\"-498.8\">samples = 9</text>\n<text fill=\"#000000\" font-family=\"Times,serif\" font-size=\"14.00\" text-anchor=\"middle\" x=\"2307\" y=\"-483.8\">value = [8, 1]</text>\n<text fill=\"#000000\" font-family=\"Times,serif\" font-size=\"14.00\" text-anchor=\"middle\" x=\"2307\" y=\"-468.8\">class = 0</text>\n</g>\n<!-- 73&#45;&gt;75 -->\n<g class=\"edge\" id=\"edge75\">\n<title>73-&gt;75</title>\n<path d=\"M2274.4876,-579.8796C2278.0447,-571.4136 2281.8255,-562.4153 2285.5031,-553.6626\" fill=\"none\" stroke=\"#000000\"/>\n<polygon fill=\"#000000\" points=\"2288.7908,-554.8731 2289.4378,-544.2981 2282.3373,-552.1616 2288.7908,-554.8731\" stroke=\"#000000\"/>\n</g>\n<!-- 76 -->\n<g class=\"node\" id=\"node77\">\n<title>76</title>\n<polygon fill=\"#e58139\" points=\"2242.5,-417.5 2147.5,-417.5 2147.5,-349.5 2242.5,-349.5 2242.5,-417.5\" stroke=\"#000000\"/>\n<text fill=\"#000000\" font-family=\"Times,serif\" font-size=\"14.00\" text-anchor=\"middle\" x=\"2195\" y=\"-402.3\">gini = 0.0</text>\n<text fill=\"#000000\" font-family=\"Times,serif\" font-size=\"14.00\" text-anchor=\"middle\" x=\"2195\" y=\"-387.3\">samples = 5</text>\n<text fill=\"#000000\" font-family=\"Times,serif\" font-size=\"14.00\" text-anchor=\"middle\" x=\"2195\" y=\"-372.3\">value = [5, 0]</text>\n<text fill=\"#000000\" font-family=\"Times,serif\" font-size=\"14.00\" text-anchor=\"middle\" x=\"2195\" y=\"-357.3\">class = 0</text>\n</g>\n<!-- 75&#45;&gt;76 -->\n<g class=\"edge\" id=\"edge76\">\n<title>75-&gt;76</title>\n<path d=\"M2267.8278,-460.8796C2256.9611,-449.3337 2245.1624,-436.7976 2234.2891,-425.2446\" fill=\"none\" stroke=\"#000000\"/>\n<polygon fill=\"#000000\" points=\"2236.6988,-422.6982 2227.2964,-417.8149 2231.6014,-427.4958 2236.6988,-422.6982\" stroke=\"#000000\"/>\n</g>\n<!-- 77 -->\n<g class=\"node\" id=\"node78\">\n<title>77</title>\n<polygon fill=\"#eeab7b\" points=\"2355.5,-425 2260.5,-425 2260.5,-342 2355.5,-342 2355.5,-425\" stroke=\"#000000\"/>\n<text fill=\"#000000\" font-family=\"Times,serif\" font-size=\"14.00\" text-anchor=\"middle\" x=\"2308\" y=\"-409.8\">Age &lt;= 3.5</text>\n<text fill=\"#000000\" font-family=\"Times,serif\" font-size=\"14.00\" text-anchor=\"middle\" x=\"2308\" y=\"-394.8\">gini = 0.375</text>\n<text fill=\"#000000\" font-family=\"Times,serif\" font-size=\"14.00\" text-anchor=\"middle\" x=\"2308\" y=\"-379.8\">samples = 4</text>\n<text fill=\"#000000\" font-family=\"Times,serif\" font-size=\"14.00\" text-anchor=\"middle\" x=\"2308\" y=\"-364.8\">value = [3, 1]</text>\n<text fill=\"#000000\" font-family=\"Times,serif\" font-size=\"14.00\" text-anchor=\"middle\" x=\"2308\" y=\"-349.8\">class = 0</text>\n</g>\n<!-- 75&#45;&gt;77 -->\n<g class=\"edge\" id=\"edge77\">\n<title>75-&gt;77</title>\n<path d=\"M2307.3498,-460.8796C2307.4186,-452.6838 2307.4917,-443.9891 2307.563,-435.5013\" fill=\"none\" stroke=\"#000000\"/>\n<polygon fill=\"#000000\" points=\"2311.0645,-435.3272 2307.6488,-425.2981 2304.0648,-435.2683 2311.0645,-435.3272\" stroke=\"#000000\"/>\n</g>\n<!-- 78 -->\n<g class=\"node\" id=\"node79\">\n<title>78</title>\n<polygon fill=\"#399de5\" points=\"2242.5,-298.5 2147.5,-298.5 2147.5,-230.5 2242.5,-230.5 2242.5,-298.5\" stroke=\"#000000\"/>\n<text fill=\"#000000\" font-family=\"Times,serif\" font-size=\"14.00\" text-anchor=\"middle\" x=\"2195\" y=\"-283.3\">gini = 0.0</text>\n<text fill=\"#000000\" font-family=\"Times,serif\" font-size=\"14.00\" text-anchor=\"middle\" x=\"2195\" y=\"-268.3\">samples = 1</text>\n<text fill=\"#000000\" font-family=\"Times,serif\" font-size=\"14.00\" text-anchor=\"middle\" x=\"2195\" y=\"-253.3\">value = [0, 1]</text>\n<text fill=\"#000000\" font-family=\"Times,serif\" font-size=\"14.00\" text-anchor=\"middle\" x=\"2195\" y=\"-238.3\">class = 1</text>\n</g>\n<!-- 77&#45;&gt;78 -->\n<g class=\"edge\" id=\"edge78\">\n<title>77-&gt;78</title>\n<path d=\"M2268.4781,-341.8796C2257.5143,-330.3337 2245.6103,-317.7976 2234.6399,-306.2446\" fill=\"none\" stroke=\"#000000\"/>\n<polygon fill=\"#000000\" points=\"2237.0087,-303.6564 2227.5848,-298.8149 2231.9327,-308.4766 2237.0087,-303.6564\" stroke=\"#000000\"/>\n</g>\n<!-- 79 -->\n<g class=\"node\" id=\"node80\">\n<title>79</title>\n<polygon fill=\"#e58139\" points=\"2355.5,-298.5 2260.5,-298.5 2260.5,-230.5 2355.5,-230.5 2355.5,-298.5\" stroke=\"#000000\"/>\n<text fill=\"#000000\" font-family=\"Times,serif\" font-size=\"14.00\" text-anchor=\"middle\" x=\"2308\" y=\"-283.3\">gini = 0.0</text>\n<text fill=\"#000000\" font-family=\"Times,serif\" font-size=\"14.00\" text-anchor=\"middle\" x=\"2308\" y=\"-268.3\">samples = 3</text>\n<text fill=\"#000000\" font-family=\"Times,serif\" font-size=\"14.00\" text-anchor=\"middle\" x=\"2308\" y=\"-253.3\">value = [3, 0]</text>\n<text fill=\"#000000\" font-family=\"Times,serif\" font-size=\"14.00\" text-anchor=\"middle\" x=\"2308\" y=\"-238.3\">class = 0</text>\n</g>\n<!-- 77&#45;&gt;79 -->\n<g class=\"edge\" id=\"edge79\">\n<title>77-&gt;79</title>\n<path d=\"M2308,-341.8796C2308,-331.2134 2308,-319.7021 2308,-308.9015\" fill=\"none\" stroke=\"#000000\"/>\n<polygon fill=\"#000000\" points=\"2311.5001,-308.8149 2308,-298.8149 2304.5001,-308.815 2311.5001,-308.8149\" stroke=\"#000000\"/>\n</g>\n<!-- 81 -->\n<g class=\"node\" id=\"node82\">\n<title>81</title>\n<polygon fill=\"#f4c7a8\" points=\"2892,-663 2782,-663 2782,-580 2892,-580 2892,-663\" stroke=\"#000000\"/>\n<text fill=\"#000000\" font-family=\"Times,serif\" font-size=\"14.00\" text-anchor=\"middle\" x=\"2837\" y=\"-647.8\">Age &lt;= 36.5</text>\n<text fill=\"#000000\" font-family=\"Times,serif\" font-size=\"14.00\" text-anchor=\"middle\" x=\"2837\" y=\"-632.8\">gini = 0.46</text>\n<text fill=\"#000000\" font-family=\"Times,serif\" font-size=\"14.00\" text-anchor=\"middle\" x=\"2837\" y=\"-617.8\">samples = 120</text>\n<text fill=\"#000000\" font-family=\"Times,serif\" font-size=\"14.00\" text-anchor=\"middle\" x=\"2837\" y=\"-602.8\">value = [77, 43]</text>\n<text fill=\"#000000\" font-family=\"Times,serif\" font-size=\"14.00\" text-anchor=\"middle\" x=\"2837\" y=\"-587.8\">class = 0</text>\n</g>\n<!-- 80&#45;&gt;81 -->\n<g class=\"edge\" id=\"edge81\">\n<title>80-&gt;81</title>\n<path d=\"M2837,-698.8796C2837,-690.6838 2837,-681.9891 2837,-673.5013\" fill=\"none\" stroke=\"#000000\"/>\n<polygon fill=\"#000000\" points=\"2840.5001,-673.298 2837,-663.2981 2833.5001,-673.2981 2840.5001,-673.298\" stroke=\"#000000\"/>\n</g>\n<!-- 114 -->\n<g class=\"node\" id=\"node115\">\n<title>114</title>\n<polygon fill=\"#e89153\" points=\"4045.5,-663 3928.5,-663 3928.5,-580 4045.5,-580 4045.5,-663\" stroke=\"#000000\"/>\n<text fill=\"#000000\" font-family=\"Times,serif\" font-size=\"14.00\" text-anchor=\"middle\" x=\"3987\" y=\"-647.8\">Fare &lt;= 51.698</text>\n<text fill=\"#000000\" font-family=\"Times,serif\" font-size=\"14.00\" text-anchor=\"middle\" x=\"3987\" y=\"-632.8\">gini = 0.204</text>\n<text fill=\"#000000\" font-family=\"Times,serif\" font-size=\"14.00\" text-anchor=\"middle\" x=\"3987\" y=\"-617.8\">samples = 433</text>\n<text fill=\"#000000\" font-family=\"Times,serif\" font-size=\"14.00\" text-anchor=\"middle\" x=\"3987\" y=\"-602.8\">value = [383, 50]</text>\n<text fill=\"#000000\" font-family=\"Times,serif\" font-size=\"14.00\" text-anchor=\"middle\" x=\"3987\" y=\"-587.8\">class = 0</text>\n</g>\n<!-- 80&#45;&gt;114 -->\n<g class=\"edge\" id=\"edge114\">\n<title>80-&gt;114</title>\n<path d=\"M2895.6097,-734.4352C3089.4952,-714.3722 3709.6118,-650.2036 3917.9686,-628.6432\" fill=\"none\" stroke=\"#000000\"/>\n<polygon fill=\"#000000\" points=\"3918.5783,-632.0989 3928.1649,-627.5882 3917.8577,-625.1361 3918.5783,-632.0989\" stroke=\"#000000\"/>\n</g>\n<!-- 82 -->\n<g class=\"node\" id=\"node83\">\n<title>82</title>\n<polygon fill=\"#e3f1fb\" points=\"2775,-544 2665,-544 2665,-461 2775,-461 2775,-544\" stroke=\"#000000\"/>\n<text fill=\"#000000\" font-family=\"Times,serif\" font-size=\"14.00\" text-anchor=\"middle\" x=\"2720\" y=\"-528.8\">Fare &lt;= 37.812</text>\n<text fill=\"#000000\" font-family=\"Times,serif\" font-size=\"14.00\" text-anchor=\"middle\" x=\"2720\" y=\"-513.8\">gini = 0.497</text>\n<text fill=\"#000000\" font-family=\"Times,serif\" font-size=\"14.00\" text-anchor=\"middle\" x=\"2720\" y=\"-498.8\">samples = 39</text>\n<text fill=\"#000000\" font-family=\"Times,serif\" font-size=\"14.00\" text-anchor=\"middle\" x=\"2720\" y=\"-483.8\">value = [18, 21]</text>\n<text fill=\"#000000\" font-family=\"Times,serif\" font-size=\"14.00\" text-anchor=\"middle\" x=\"2720\" y=\"-468.8\">class = 1</text>\n</g>\n<!-- 81&#45;&gt;82 -->\n<g class=\"edge\" id=\"edge82\">\n<title>81-&gt;82</title>\n<path d=\"M2796.0791,-579.8796C2787.047,-570.6931 2777.3987,-560.8798 2768.1112,-551.4336\" fill=\"none\" stroke=\"#000000\"/>\n<polygon fill=\"#000000\" points=\"2770.6023,-548.975 2761.0956,-544.2981 2765.6107,-553.8827 2770.6023,-548.975\" stroke=\"#000000\"/>\n</g>\n<!-- 99 -->\n<g class=\"node\" id=\"node100\">\n<title>99</title>\n<polygon fill=\"#efb083\" points=\"3008,-544 2898,-544 2898,-461 3008,-461 3008,-544\" stroke=\"#000000\"/>\n<text fill=\"#000000\" font-family=\"Times,serif\" font-size=\"14.00\" text-anchor=\"middle\" x=\"2953\" y=\"-528.8\">Fare &lt;= 26.144</text>\n<text fill=\"#000000\" font-family=\"Times,serif\" font-size=\"14.00\" text-anchor=\"middle\" x=\"2953\" y=\"-513.8\">gini = 0.396</text>\n<text fill=\"#000000\" font-family=\"Times,serif\" font-size=\"14.00\" text-anchor=\"middle\" x=\"2953\" y=\"-498.8\">samples = 81</text>\n<text fill=\"#000000\" font-family=\"Times,serif\" font-size=\"14.00\" text-anchor=\"middle\" x=\"2953\" y=\"-483.8\">value = [59, 22]</text>\n<text fill=\"#000000\" font-family=\"Times,serif\" font-size=\"14.00\" text-anchor=\"middle\" x=\"2953\" y=\"-468.8\">class = 0</text>\n</g>\n<!-- 81&#45;&gt;99 -->\n<g class=\"edge\" id=\"edge99\">\n<title>81-&gt;99</title>\n<path d=\"M2877.5712,-579.8796C2886.4382,-570.7832 2895.9044,-561.0722 2905.0291,-551.7116\" fill=\"none\" stroke=\"#000000\"/>\n<polygon fill=\"#000000\" points=\"2907.7817,-553.9019 2912.2557,-544.2981 2902.7691,-549.0158 2907.7817,-553.9019\" stroke=\"#000000\"/>\n</g>\n<!-- 83 -->\n<g class=\"node\" id=\"node84\">\n<title>83</title>\n<polygon fill=\"#74baed\" points=\"2591.5,-425 2484.5,-425 2484.5,-342 2591.5,-342 2591.5,-425\" stroke=\"#000000\"/>\n<text fill=\"#000000\" font-family=\"Times,serif\" font-size=\"14.00\" text-anchor=\"middle\" x=\"2538\" y=\"-409.8\">Fare &lt;= 15.644</text>\n<text fill=\"#000000\" font-family=\"Times,serif\" font-size=\"14.00\" text-anchor=\"middle\" x=\"2538\" y=\"-394.8\">gini = 0.355</text>\n<text fill=\"#000000\" font-family=\"Times,serif\" font-size=\"14.00\" text-anchor=\"middle\" x=\"2538\" y=\"-379.8\">samples = 13</text>\n<text fill=\"#000000\" font-family=\"Times,serif\" font-size=\"14.00\" text-anchor=\"middle\" x=\"2538\" y=\"-364.8\">value = [3, 10]</text>\n<text fill=\"#000000\" font-family=\"Times,serif\" font-size=\"14.00\" text-anchor=\"middle\" x=\"2538\" y=\"-349.8\">class = 1</text>\n</g>\n<!-- 82&#45;&gt;83 -->\n<g class=\"edge\" id=\"edge83\">\n<title>82-&gt;83</title>\n<path d=\"M2664.9001,-466.4731C2644.4862,-453.1256 2621.2018,-437.9012 2600.1995,-424.1689\" fill=\"none\" stroke=\"#000000\"/>\n<polygon fill=\"#000000\" points=\"2601.947,-421.1298 2591.6619,-418.5866 2598.1162,-426.9886 2601.947,-421.1298\" stroke=\"#000000\"/>\n</g>\n<!-- 90 -->\n<g class=\"node\" id=\"node91\">\n<title>90</title>\n<polygon fill=\"#f8ddca\" points=\"2774.5,-425 2665.5,-425 2665.5,-342 2774.5,-342 2774.5,-425\" stroke=\"#000000\"/>\n<text fill=\"#000000\" font-family=\"Times,serif\" font-size=\"14.00\" text-anchor=\"middle\" x=\"2720\" y=\"-409.8\">Fare &lt;= 52.55</text>\n<text fill=\"#000000\" font-family=\"Times,serif\" font-size=\"14.00\" text-anchor=\"middle\" x=\"2720\" y=\"-394.8\">gini = 0.488</text>\n<text fill=\"#000000\" font-family=\"Times,serif\" font-size=\"14.00\" text-anchor=\"middle\" x=\"2720\" y=\"-379.8\">samples = 26</text>\n<text fill=\"#000000\" font-family=\"Times,serif\" font-size=\"14.00\" text-anchor=\"middle\" x=\"2720\" y=\"-364.8\">value = [15, 11]</text>\n<text fill=\"#000000\" font-family=\"Times,serif\" font-size=\"14.00\" text-anchor=\"middle\" x=\"2720\" y=\"-349.8\">class = 0</text>\n</g>\n<!-- 82&#45;&gt;90 -->\n<g class=\"edge\" id=\"edge90\">\n<title>82-&gt;90</title>\n<path d=\"M2720,-460.8796C2720,-452.6838 2720,-443.9891 2720,-435.5013\" fill=\"none\" stroke=\"#000000\"/>\n<polygon fill=\"#000000\" points=\"2723.5001,-435.298 2720,-425.2981 2716.5001,-435.2981 2723.5001,-435.298\" stroke=\"#000000\"/>\n</g>\n<!-- 84 -->\n<g class=\"node\" id=\"node85\">\n<title>84</title>\n<polygon fill=\"#e58139\" points=\"2468.5,-298.5 2373.5,-298.5 2373.5,-230.5 2468.5,-230.5 2468.5,-298.5\" stroke=\"#000000\"/>\n<text fill=\"#000000\" font-family=\"Times,serif\" font-size=\"14.00\" text-anchor=\"middle\" x=\"2421\" y=\"-283.3\">gini = 0.0</text>\n<text fill=\"#000000\" font-family=\"Times,serif\" font-size=\"14.00\" text-anchor=\"middle\" x=\"2421\" y=\"-268.3\">samples = 1</text>\n<text fill=\"#000000\" font-family=\"Times,serif\" font-size=\"14.00\" text-anchor=\"middle\" x=\"2421\" y=\"-253.3\">value = [1, 0]</text>\n<text fill=\"#000000\" font-family=\"Times,serif\" font-size=\"14.00\" text-anchor=\"middle\" x=\"2421\" y=\"-238.3\">class = 0</text>\n</g>\n<!-- 83&#45;&gt;84 -->\n<g class=\"edge\" id=\"edge84\">\n<title>83-&gt;84</title>\n<path d=\"M2497.0791,-341.8796C2485.7272,-330.3337 2473.4018,-317.7976 2462.043,-306.2446\" fill=\"none\" stroke=\"#000000\"/>\n<polygon fill=\"#000000\" points=\"2464.2449,-303.4919 2454.7382,-298.8149 2459.2534,-308.3995 2464.2449,-303.4919\" stroke=\"#000000\"/>\n</g>\n<!-- 85 -->\n<g class=\"node\" id=\"node86\">\n<title>85</title>\n<polygon fill=\"#61b1ea\" points=\"2589,-306 2487,-306 2487,-223 2589,-223 2589,-306\" stroke=\"#000000\"/>\n<text fill=\"#000000\" font-family=\"Times,serif\" font-size=\"14.00\" text-anchor=\"middle\" x=\"2538\" y=\"-290.8\">Age &lt;= 31.0</text>\n<text fill=\"#000000\" font-family=\"Times,serif\" font-size=\"14.00\" text-anchor=\"middle\" x=\"2538\" y=\"-275.8\">gini = 0.278</text>\n<text fill=\"#000000\" font-family=\"Times,serif\" font-size=\"14.00\" text-anchor=\"middle\" x=\"2538\" y=\"-260.8\">samples = 12</text>\n<text fill=\"#000000\" font-family=\"Times,serif\" font-size=\"14.00\" text-anchor=\"middle\" x=\"2538\" y=\"-245.8\">value = [2, 10]</text>\n<text fill=\"#000000\" font-family=\"Times,serif\" font-size=\"14.00\" text-anchor=\"middle\" x=\"2538\" y=\"-230.8\">class = 1</text>\n</g>\n<!-- 83&#45;&gt;85 -->\n<g class=\"edge\" id=\"edge85\">\n<title>83-&gt;85</title>\n<path d=\"M2538,-341.8796C2538,-333.6838 2538,-324.9891 2538,-316.5013\" fill=\"none\" stroke=\"#000000\"/>\n<polygon fill=\"#000000\" points=\"2541.5001,-316.298 2538,-306.2981 2534.5001,-316.2981 2541.5001,-316.298\" stroke=\"#000000\"/>\n</g>\n<!-- 86 -->\n<g class=\"node\" id=\"node87\">\n<title>86</title>\n<polygon fill=\"#9ccef2\" points=\"2472.5,-187 2377.5,-187 2377.5,-104 2472.5,-104 2472.5,-187\" stroke=\"#000000\"/>\n<text fill=\"#000000\" font-family=\"Times,serif\" font-size=\"14.00\" text-anchor=\"middle\" x=\"2425\" y=\"-171.8\">Age &lt;= 28.5</text>\n<text fill=\"#000000\" font-family=\"Times,serif\" font-size=\"14.00\" text-anchor=\"middle\" x=\"2425\" y=\"-156.8\">gini = 0.444</text>\n<text fill=\"#000000\" font-family=\"Times,serif\" font-size=\"14.00\" text-anchor=\"middle\" x=\"2425\" y=\"-141.8\">samples = 6</text>\n<text fill=\"#000000\" font-family=\"Times,serif\" font-size=\"14.00\" text-anchor=\"middle\" x=\"2425\" y=\"-126.8\">value = [2, 4]</text>\n<text fill=\"#000000\" font-family=\"Times,serif\" font-size=\"14.00\" text-anchor=\"middle\" x=\"2425\" y=\"-111.8\">class = 1</text>\n</g>\n<!-- 85&#45;&gt;86 -->\n<g class=\"edge\" id=\"edge86\">\n<title>85-&gt;86</title>\n<path d=\"M2498.4781,-222.8796C2489.8403,-213.7832 2480.619,-204.0722 2471.7303,-194.7116\" fill=\"none\" stroke=\"#000000\"/>\n<polygon fill=\"#000000\" points=\"2474.1146,-192.1395 2464.6906,-187.2981 2469.0385,-196.9597 2474.1146,-192.1395\" stroke=\"#000000\"/>\n</g>\n<!-- 89 -->\n<g class=\"node\" id=\"node90\">\n<title>89</title>\n<polygon fill=\"#399de5\" points=\"2585.5,-179.5 2490.5,-179.5 2490.5,-111.5 2585.5,-111.5 2585.5,-179.5\" stroke=\"#000000\"/>\n<text fill=\"#000000\" font-family=\"Times,serif\" font-size=\"14.00\" text-anchor=\"middle\" x=\"2538\" y=\"-164.3\">gini = 0.0</text>\n<text fill=\"#000000\" font-family=\"Times,serif\" font-size=\"14.00\" text-anchor=\"middle\" x=\"2538\" y=\"-149.3\">samples = 6</text>\n<text fill=\"#000000\" font-family=\"Times,serif\" font-size=\"14.00\" text-anchor=\"middle\" x=\"2538\" y=\"-134.3\">value = [0, 6]</text>\n<text fill=\"#000000\" font-family=\"Times,serif\" font-size=\"14.00\" text-anchor=\"middle\" x=\"2538\" y=\"-119.3\">class = 1</text>\n</g>\n<!-- 85&#45;&gt;89 -->\n<g class=\"edge\" id=\"edge89\">\n<title>85-&gt;89</title>\n<path d=\"M2538,-222.8796C2538,-212.2134 2538,-200.7021 2538,-189.9015\" fill=\"none\" stroke=\"#000000\"/>\n<polygon fill=\"#000000\" points=\"2541.5001,-189.8149 2538,-179.8149 2534.5001,-189.815 2541.5001,-189.8149\" stroke=\"#000000\"/>\n</g>\n<!-- 87 -->\n<g class=\"node\" id=\"node88\">\n<title>87</title>\n<polygon fill=\"#399de5\" points=\"2359.5,-68 2264.5,-68 2264.5,0 2359.5,0 2359.5,-68\" stroke=\"#000000\"/>\n<text fill=\"#000000\" font-family=\"Times,serif\" font-size=\"14.00\" text-anchor=\"middle\" x=\"2312\" y=\"-52.8\">gini = 0.0</text>\n<text fill=\"#000000\" font-family=\"Times,serif\" font-size=\"14.00\" text-anchor=\"middle\" x=\"2312\" y=\"-37.8\">samples = 4</text>\n<text fill=\"#000000\" font-family=\"Times,serif\" font-size=\"14.00\" text-anchor=\"middle\" x=\"2312\" y=\"-22.8\">value = [0, 4]</text>\n<text fill=\"#000000\" font-family=\"Times,serif\" font-size=\"14.00\" text-anchor=\"middle\" x=\"2312\" y=\"-7.8\">class = 1</text>\n</g>\n<!-- 86&#45;&gt;87 -->\n<g class=\"edge\" id=\"edge87\">\n<title>86-&gt;87</title>\n<path d=\"M2382.923,-103.9815C2373.4224,-94.607 2363.3387,-84.6572 2353.8476,-75.2921\" fill=\"none\" stroke=\"#000000\"/>\n<polygon fill=\"#000000\" points=\"2356.3011,-72.796 2346.7246,-68.2637 2351.3845,-77.7787 2356.3011,-72.796\" stroke=\"#000000\"/>\n</g>\n<!-- 88 -->\n<g class=\"node\" id=\"node89\">\n<title>88</title>\n<polygon fill=\"#e58139\" points=\"2472.5,-68 2377.5,-68 2377.5,0 2472.5,0 2472.5,-68\" stroke=\"#000000\"/>\n<text fill=\"#000000\" font-family=\"Times,serif\" font-size=\"14.00\" text-anchor=\"middle\" x=\"2425\" y=\"-52.8\">gini = 0.0</text>\n<text fill=\"#000000\" font-family=\"Times,serif\" font-size=\"14.00\" text-anchor=\"middle\" x=\"2425\" y=\"-37.8\">samples = 2</text>\n<text fill=\"#000000\" font-family=\"Times,serif\" font-size=\"14.00\" text-anchor=\"middle\" x=\"2425\" y=\"-22.8\">value = [2, 0]</text>\n<text fill=\"#000000\" font-family=\"Times,serif\" font-size=\"14.00\" text-anchor=\"middle\" x=\"2425\" y=\"-7.8\">class = 0</text>\n</g>\n<!-- 86&#45;&gt;88 -->\n<g class=\"edge\" id=\"edge88\">\n<title>86-&gt;88</title>\n<path d=\"M2425,-103.9815C2425,-95.618 2425,-86.7965 2425,-78.3409\" fill=\"none\" stroke=\"#000000\"/>\n<polygon fill=\"#000000\" points=\"2428.5001,-78.2636 2425,-68.2637 2421.5001,-78.2637 2428.5001,-78.2636\" stroke=\"#000000\"/>\n</g>\n<!-- 91 -->\n<g class=\"node\" id=\"node92\">\n<title>91</title>\n<polygon fill=\"#e58139\" points=\"2702.5,-298.5 2607.5,-298.5 2607.5,-230.5 2702.5,-230.5 2702.5,-298.5\" stroke=\"#000000\"/>\n<text fill=\"#000000\" font-family=\"Times,serif\" font-size=\"14.00\" text-anchor=\"middle\" x=\"2655\" y=\"-283.3\">gini = 0.0</text>\n<text fill=\"#000000\" font-family=\"Times,serif\" font-size=\"14.00\" text-anchor=\"middle\" x=\"2655\" y=\"-268.3\">samples = 4</text>\n<text fill=\"#000000\" font-family=\"Times,serif\" font-size=\"14.00\" text-anchor=\"middle\" x=\"2655\" y=\"-253.3\">value = [4, 0]</text>\n<text fill=\"#000000\" font-family=\"Times,serif\" font-size=\"14.00\" text-anchor=\"middle\" x=\"2655\" y=\"-238.3\">class = 0</text>\n</g>\n<!-- 90&#45;&gt;91 -->\n<g class=\"edge\" id=\"edge91\">\n<title>90-&gt;91</title>\n<path d=\"M2697.2662,-341.8796C2691.2599,-330.8835 2684.763,-318.9893 2678.7067,-307.9015\" fill=\"none\" stroke=\"#000000\"/>\n<polygon fill=\"#000000\" points=\"2681.6088,-305.9133 2673.7435,-298.8149 2675.4655,-309.2689 2681.6088,-305.9133\" stroke=\"#000000\"/>\n</g>\n<!-- 92 -->\n<g class=\"node\" id=\"node93\">\n<title>92</title>\n<polygon fill=\"#ffffff\" points=\"2829,-306 2721,-306 2721,-223 2829,-223 2829,-306\" stroke=\"#000000\"/>\n<text fill=\"#000000\" font-family=\"Times,serif\" font-size=\"14.00\" text-anchor=\"middle\" x=\"2775\" y=\"-290.8\">Age &lt;= 24.5</text>\n<text fill=\"#000000\" font-family=\"Times,serif\" font-size=\"14.00\" text-anchor=\"middle\" x=\"2775\" y=\"-275.8\">gini = 0.5</text>\n<text fill=\"#000000\" font-family=\"Times,serif\" font-size=\"14.00\" text-anchor=\"middle\" x=\"2775\" y=\"-260.8\">samples = 22</text>\n<text fill=\"#000000\" font-family=\"Times,serif\" font-size=\"14.00\" text-anchor=\"middle\" x=\"2775\" y=\"-245.8\">value = [11, 11]</text>\n<text fill=\"#000000\" font-family=\"Times,serif\" font-size=\"14.00\" text-anchor=\"middle\" x=\"2775\" y=\"-230.8\">class = 0</text>\n</g>\n<!-- 90&#45;&gt;92 -->\n<g class=\"edge\" id=\"edge92\">\n<title>90-&gt;92</title>\n<path d=\"M2739.2363,-341.8796C2743.1908,-333.3236 2747.3966,-324.2238 2751.4825,-315.3833\" fill=\"none\" stroke=\"#000000\"/>\n<polygon fill=\"#000000\" points=\"2754.6632,-316.8439 2755.6816,-306.2981 2748.309,-313.907 2754.6632,-316.8439\" stroke=\"#000000\"/>\n</g>\n<!-- 93 -->\n<g class=\"node\" id=\"node94\">\n<title>93</title>\n<polygon fill=\"#f0b78e\" points=\"2698.5,-187 2603.5,-187 2603.5,-104 2698.5,-104 2698.5,-187\" stroke=\"#000000\"/>\n<text fill=\"#000000\" font-family=\"Times,serif\" font-size=\"14.00\" text-anchor=\"middle\" x=\"2651\" y=\"-171.8\">Age &lt;= 17.5</text>\n<text fill=\"#000000\" font-family=\"Times,serif\" font-size=\"14.00\" text-anchor=\"middle\" x=\"2651\" y=\"-156.8\">gini = 0.42</text>\n<text fill=\"#000000\" font-family=\"Times,serif\" font-size=\"14.00\" text-anchor=\"middle\" x=\"2651\" y=\"-141.8\">samples = 10</text>\n<text fill=\"#000000\" font-family=\"Times,serif\" font-size=\"14.00\" text-anchor=\"middle\" x=\"2651\" y=\"-126.8\">value = [7, 3]</text>\n<text fill=\"#000000\" font-family=\"Times,serif\" font-size=\"14.00\" text-anchor=\"middle\" x=\"2651\" y=\"-111.8\">class = 0</text>\n</g>\n<!-- 92&#45;&gt;93 -->\n<g class=\"edge\" id=\"edge93\">\n<title>92-&gt;93</title>\n<path d=\"M2731.6308,-222.8796C2722.0584,-213.6931 2711.8328,-203.8798 2701.9897,-194.4336\" fill=\"none\" stroke=\"#000000\"/>\n<polygon fill=\"#000000\" points=\"2704.1928,-191.6969 2694.5543,-187.2981 2699.3459,-196.7475 2704.1928,-191.6969\" stroke=\"#000000\"/>\n</g>\n<!-- 96 -->\n<g class=\"node\" id=\"node97\">\n<title>96</title>\n<polygon fill=\"#9ccef2\" points=\"2822.5,-187 2727.5,-187 2727.5,-104 2822.5,-104 2822.5,-187\" stroke=\"#000000\"/>\n<text fill=\"#000000\" font-family=\"Times,serif\" font-size=\"14.00\" text-anchor=\"middle\" x=\"2775\" y=\"-171.8\">Fare &lt;= 61.8</text>\n<text fill=\"#000000\" font-family=\"Times,serif\" font-size=\"14.00\" text-anchor=\"middle\" x=\"2775\" y=\"-156.8\">gini = 0.444</text>\n<text fill=\"#000000\" font-family=\"Times,serif\" font-size=\"14.00\" text-anchor=\"middle\" x=\"2775\" y=\"-141.8\">samples = 12</text>\n<text fill=\"#000000\" font-family=\"Times,serif\" font-size=\"14.00\" text-anchor=\"middle\" x=\"2775\" y=\"-126.8\">value = [4, 8]</text>\n<text fill=\"#000000\" font-family=\"Times,serif\" font-size=\"14.00\" text-anchor=\"middle\" x=\"2775\" y=\"-111.8\">class = 1</text>\n</g>\n<!-- 92&#45;&gt;96 -->\n<g class=\"edge\" id=\"edge96\">\n<title>92-&gt;96</title>\n<path d=\"M2775,-222.8796C2775,-214.6838 2775,-205.9891 2775,-197.5013\" fill=\"none\" stroke=\"#000000\"/>\n<polygon fill=\"#000000\" points=\"2778.5001,-197.298 2775,-187.2981 2771.5001,-197.2981 2778.5001,-197.298\" stroke=\"#000000\"/>\n</g>\n<!-- 94 -->\n<g class=\"node\" id=\"node95\">\n<title>94</title>\n<polygon fill=\"#399de5\" points=\"2585.5,-68 2490.5,-68 2490.5,0 2585.5,0 2585.5,-68\" stroke=\"#000000\"/>\n<text fill=\"#000000\" font-family=\"Times,serif\" font-size=\"14.00\" text-anchor=\"middle\" x=\"2538\" y=\"-52.8\">gini = 0.0</text>\n<text fill=\"#000000\" font-family=\"Times,serif\" font-size=\"14.00\" text-anchor=\"middle\" x=\"2538\" y=\"-37.8\">samples = 2</text>\n<text fill=\"#000000\" font-family=\"Times,serif\" font-size=\"14.00\" text-anchor=\"middle\" x=\"2538\" y=\"-22.8\">value = [0, 2]</text>\n<text fill=\"#000000\" font-family=\"Times,serif\" font-size=\"14.00\" text-anchor=\"middle\" x=\"2538\" y=\"-7.8\">class = 1</text>\n</g>\n<!-- 93&#45;&gt;94 -->\n<g class=\"edge\" id=\"edge94\">\n<title>93-&gt;94</title>\n<path d=\"M2608.923,-103.9815C2599.4224,-94.607 2589.3387,-84.6572 2579.8476,-75.2921\" fill=\"none\" stroke=\"#000000\"/>\n<polygon fill=\"#000000\" points=\"2582.3011,-72.796 2572.7246,-68.2637 2577.3845,-77.7787 2582.3011,-72.796\" stroke=\"#000000\"/>\n</g>\n<!-- 95 -->\n<g class=\"node\" id=\"node96\">\n<title>95</title>\n<polygon fill=\"#e99355\" points=\"2698.5,-68 2603.5,-68 2603.5,0 2698.5,0 2698.5,-68\" stroke=\"#000000\"/>\n<text fill=\"#000000\" font-family=\"Times,serif\" font-size=\"14.00\" text-anchor=\"middle\" x=\"2651\" y=\"-52.8\">gini = 0.219</text>\n<text fill=\"#000000\" font-family=\"Times,serif\" font-size=\"14.00\" text-anchor=\"middle\" x=\"2651\" y=\"-37.8\">samples = 8</text>\n<text fill=\"#000000\" font-family=\"Times,serif\" font-size=\"14.00\" text-anchor=\"middle\" x=\"2651\" y=\"-22.8\">value = [7, 1]</text>\n<text fill=\"#000000\" font-family=\"Times,serif\" font-size=\"14.00\" text-anchor=\"middle\" x=\"2651\" y=\"-7.8\">class = 0</text>\n</g>\n<!-- 93&#45;&gt;95 -->\n<g class=\"edge\" id=\"edge95\">\n<title>93-&gt;95</title>\n<path d=\"M2651,-103.9815C2651,-95.618 2651,-86.7965 2651,-78.3409\" fill=\"none\" stroke=\"#000000\"/>\n<polygon fill=\"#000000\" points=\"2654.5001,-78.2636 2651,-68.2637 2647.5001,-78.2637 2654.5001,-78.2636\" stroke=\"#000000\"/>\n</g>\n<!-- 97 -->\n<g class=\"node\" id=\"node98\">\n<title>97</title>\n<polygon fill=\"#399de5\" points=\"2811.5,-68 2716.5,-68 2716.5,0 2811.5,0 2811.5,-68\" stroke=\"#000000\"/>\n<text fill=\"#000000\" font-family=\"Times,serif\" font-size=\"14.00\" text-anchor=\"middle\" x=\"2764\" y=\"-52.8\">gini = 0.0</text>\n<text fill=\"#000000\" font-family=\"Times,serif\" font-size=\"14.00\" text-anchor=\"middle\" x=\"2764\" y=\"-37.8\">samples = 3</text>\n<text fill=\"#000000\" font-family=\"Times,serif\" font-size=\"14.00\" text-anchor=\"middle\" x=\"2764\" y=\"-22.8\">value = [0, 3]</text>\n<text fill=\"#000000\" font-family=\"Times,serif\" font-size=\"14.00\" text-anchor=\"middle\" x=\"2764\" y=\"-7.8\">class = 1</text>\n</g>\n<!-- 96&#45;&gt;97 -->\n<g class=\"edge\" id=\"edge97\">\n<title>96-&gt;97</title>\n<path d=\"M2770.904,-103.9815C2770.0789,-95.618 2769.2086,-86.7965 2768.3744,-78.3409\" fill=\"none\" stroke=\"#000000\"/>\n<polygon fill=\"#000000\" points=\"2771.8452,-77.8717 2767.3803,-68.2637 2764.8791,-78.559 2771.8452,-77.8717\" stroke=\"#000000\"/>\n</g>\n<!-- 98 -->\n<g class=\"node\" id=\"node99\">\n<title>98</title>\n<polygon fill=\"#d7ebfa\" points=\"2924.5,-68 2829.5,-68 2829.5,0 2924.5,0 2924.5,-68\" stroke=\"#000000\"/>\n<text fill=\"#000000\" font-family=\"Times,serif\" font-size=\"14.00\" text-anchor=\"middle\" x=\"2877\" y=\"-52.8\">gini = 0.494</text>\n<text fill=\"#000000\" font-family=\"Times,serif\" font-size=\"14.00\" text-anchor=\"middle\" x=\"2877\" y=\"-37.8\">samples = 9</text>\n<text fill=\"#000000\" font-family=\"Times,serif\" font-size=\"14.00\" text-anchor=\"middle\" x=\"2877\" y=\"-22.8\">value = [4, 5]</text>\n<text fill=\"#000000\" font-family=\"Times,serif\" font-size=\"14.00\" text-anchor=\"middle\" x=\"2877\" y=\"-7.8\">class = 1</text>\n</g>\n<!-- 96&#45;&gt;98 -->\n<g class=\"edge\" id=\"edge98\">\n<title>96-&gt;98</title>\n<path d=\"M2812.981,-103.9815C2821.3886,-94.7908 2830.3021,-85.0472 2838.7215,-75.8436\" fill=\"none\" stroke=\"#000000\"/>\n<polygon fill=\"#000000\" points=\"2841.4883,-78.0045 2845.6557,-68.2637 2836.3234,-73.2797 2841.4883,-78.0045\" stroke=\"#000000\"/>\n</g>\n<!-- 100 -->\n<g class=\"node\" id=\"node101\">\n<title>100</title>\n<polygon fill=\"#e58139\" points=\"3000.5,-417.5 2905.5,-417.5 2905.5,-349.5 3000.5,-349.5 3000.5,-417.5\" stroke=\"#000000\"/>\n<text fill=\"#000000\" font-family=\"Times,serif\" font-size=\"14.00\" text-anchor=\"middle\" x=\"2953\" y=\"-402.3\">gini = 0.0</text>\n<text fill=\"#000000\" font-family=\"Times,serif\" font-size=\"14.00\" text-anchor=\"middle\" x=\"2953\" y=\"-387.3\">samples = 9</text>\n<text fill=\"#000000\" font-family=\"Times,serif\" font-size=\"14.00\" text-anchor=\"middle\" x=\"2953\" y=\"-372.3\">value = [9, 0]</text>\n<text fill=\"#000000\" font-family=\"Times,serif\" font-size=\"14.00\" text-anchor=\"middle\" x=\"2953\" y=\"-357.3\">class = 0</text>\n</g>\n<!-- 99&#45;&gt;100 -->\n<g class=\"edge\" id=\"edge100\">\n<title>99-&gt;100</title>\n<path d=\"M2953,-460.8796C2953,-450.2134 2953,-438.7021 2953,-427.9015\" fill=\"none\" stroke=\"#000000\"/>\n<polygon fill=\"#000000\" points=\"2956.5001,-427.8149 2953,-417.8149 2949.5001,-427.815 2956.5001,-427.8149\" stroke=\"#000000\"/>\n</g>\n<!-- 101 -->\n<g class=\"node\" id=\"node102\">\n<title>101</title>\n<polygon fill=\"#f0b890\" points=\"3231,-425 3121,-425 3121,-342 3231,-342 3231,-425\" stroke=\"#000000\"/>\n<text fill=\"#000000\" font-family=\"Times,serif\" font-size=\"14.00\" text-anchor=\"middle\" x=\"3176\" y=\"-409.8\">Age &lt;= 53.0</text>\n<text fill=\"#000000\" font-family=\"Times,serif\" font-size=\"14.00\" text-anchor=\"middle\" x=\"3176\" y=\"-394.8\">gini = 0.424</text>\n<text fill=\"#000000\" font-family=\"Times,serif\" font-size=\"14.00\" text-anchor=\"middle\" x=\"3176\" y=\"-379.8\">samples = 72</text>\n<text fill=\"#000000\" font-family=\"Times,serif\" font-size=\"14.00\" text-anchor=\"middle\" x=\"3176\" y=\"-364.8\">value = [50, 22]</text>\n<text fill=\"#000000\" font-family=\"Times,serif\" font-size=\"14.00\" text-anchor=\"middle\" x=\"3176\" y=\"-349.8\">class = 0</text>\n</g>\n<!-- 99&#45;&gt;101 -->\n<g class=\"edge\" id=\"edge101\">\n<title>99-&gt;101</title>\n<path d=\"M3008.1236,-473.0843C3039.4834,-456.3497 3078.9173,-435.3065 3111.6846,-417.8208\" fill=\"none\" stroke=\"#000000\"/>\n<polygon fill=\"#000000\" points=\"3113.563,-420.7856 3120.7377,-412.9898 3110.2674,-414.6099 3113.563,-420.7856\" stroke=\"#000000\"/>\n</g>\n<!-- 102 -->\n<g class=\"node\" id=\"node103\">\n<title>102</title>\n<polygon fill=\"#f4ccaf\" points=\"3231,-306 3121,-306 3121,-223 3231,-223 3231,-306\" stroke=\"#000000\"/>\n<text fill=\"#000000\" font-family=\"Times,serif\" font-size=\"14.00\" text-anchor=\"middle\" x=\"3176\" y=\"-290.8\">Age &lt;= 47.5</text>\n<text fill=\"#000000\" font-family=\"Times,serif\" font-size=\"14.00\" text-anchor=\"middle\" x=\"3176\" y=\"-275.8\">gini = 0.468</text>\n<text fill=\"#000000\" font-family=\"Times,serif\" font-size=\"14.00\" text-anchor=\"middle\" x=\"3176\" y=\"-260.8\">samples = 51</text>\n<text fill=\"#000000\" font-family=\"Times,serif\" font-size=\"14.00\" text-anchor=\"middle\" x=\"3176\" y=\"-245.8\">value = [32, 19]</text>\n<text fill=\"#000000\" font-family=\"Times,serif\" font-size=\"14.00\" text-anchor=\"middle\" x=\"3176\" y=\"-230.8\">class = 0</text>\n</g>\n<!-- 101&#45;&gt;102 -->\n<g class=\"edge\" id=\"edge102\">\n<title>101-&gt;102</title>\n<path d=\"M3176,-341.8796C3176,-333.6838 3176,-324.9891 3176,-316.5013\" fill=\"none\" stroke=\"#000000\"/>\n<polygon fill=\"#000000\" points=\"3179.5001,-316.298 3176,-306.2981 3172.5001,-316.2981 3179.5001,-316.298\" stroke=\"#000000\"/>\n</g>\n<!-- 109 -->\n<g class=\"node\" id=\"node110\">\n<title>109</title>\n<polygon fill=\"#e9965a\" points=\"3501,-306 3399,-306 3399,-223 3501,-223 3501,-306\" stroke=\"#000000\"/>\n<text fill=\"#000000\" font-family=\"Times,serif\" font-size=\"14.00\" text-anchor=\"middle\" x=\"3450\" y=\"-290.8\">Age &lt;= 75.5</text>\n<text fill=\"#000000\" font-family=\"Times,serif\" font-size=\"14.00\" text-anchor=\"middle\" x=\"3450\" y=\"-275.8\">gini = 0.245</text>\n<text fill=\"#000000\" font-family=\"Times,serif\" font-size=\"14.00\" text-anchor=\"middle\" x=\"3450\" y=\"-260.8\">samples = 21</text>\n<text fill=\"#000000\" font-family=\"Times,serif\" font-size=\"14.00\" text-anchor=\"middle\" x=\"3450\" y=\"-245.8\">value = [18, 3]</text>\n<text fill=\"#000000\" font-family=\"Times,serif\" font-size=\"14.00\" text-anchor=\"middle\" x=\"3450\" y=\"-230.8\">class = 0</text>\n</g>\n<!-- 101&#45;&gt;109 -->\n<g class=\"edge\" id=\"edge109\">\n<title>101-&gt;109</title>\n<path d=\"M3231.1184,-359.5617C3276.9752,-339.6458 3342.1644,-311.3337 3389.464,-290.7912\" fill=\"none\" stroke=\"#000000\"/>\n<polygon fill=\"#000000\" points=\"3390.8963,-293.985 3398.6743,-286.7911 3388.1078,-287.5644 3390.8963,-293.985\" stroke=\"#000000\"/>\n</g>\n<!-- 103 -->\n<g class=\"node\" id=\"node104\">\n<title>103</title>\n<polygon fill=\"#f0b48a\" points=\"3159.5,-187 3050.5,-187 3050.5,-104 3159.5,-104 3159.5,-187\" stroke=\"#000000\"/>\n<text fill=\"#000000\" font-family=\"Times,serif\" font-size=\"14.00\" text-anchor=\"middle\" x=\"3105\" y=\"-171.8\">Fare &lt;= 32.51</text>\n<text fill=\"#000000\" font-family=\"Times,serif\" font-size=\"14.00\" text-anchor=\"middle\" x=\"3105\" y=\"-156.8\">gini = 0.411</text>\n<text fill=\"#000000\" font-family=\"Times,serif\" font-size=\"14.00\" text-anchor=\"middle\" x=\"3105\" y=\"-141.8\">samples = 38</text>\n<text fill=\"#000000\" font-family=\"Times,serif\" font-size=\"14.00\" text-anchor=\"middle\" x=\"3105\" y=\"-126.8\">value = [27, 11]</text>\n<text fill=\"#000000\" font-family=\"Times,serif\" font-size=\"14.00\" text-anchor=\"middle\" x=\"3105\" y=\"-111.8\">class = 0</text>\n</g>\n<!-- 102&#45;&gt;103 -->\n<g class=\"edge\" id=\"edge103\">\n<title>102-&gt;103</title>\n<path d=\"M3151.1676,-222.8796C3146.0091,-214.2335 3140.5192,-205.0322 3135.1924,-196.1042\" fill=\"none\" stroke=\"#000000\"/>\n<polygon fill=\"#000000\" points=\"3138.0678,-194.0924 3129.9383,-187.2981 3132.0564,-197.679 3138.0678,-194.0924\" stroke=\"#000000\"/>\n</g>\n<!-- 106 -->\n<g class=\"node\" id=\"node107\">\n<title>106</title>\n<polygon fill=\"#b5daf5\" points=\"3276.5,-187 3177.5,-187 3177.5,-104 3276.5,-104 3276.5,-187\" stroke=\"#000000\"/>\n<text fill=\"#000000\" font-family=\"Times,serif\" font-size=\"14.00\" text-anchor=\"middle\" x=\"3227\" y=\"-171.8\">Fare &lt;= 53.95</text>\n<text fill=\"#000000\" font-family=\"Times,serif\" font-size=\"14.00\" text-anchor=\"middle\" x=\"3227\" y=\"-156.8\">gini = 0.473</text>\n<text fill=\"#000000\" font-family=\"Times,serif\" font-size=\"14.00\" text-anchor=\"middle\" x=\"3227\" y=\"-141.8\">samples = 13</text>\n<text fill=\"#000000\" font-family=\"Times,serif\" font-size=\"14.00\" text-anchor=\"middle\" x=\"3227\" y=\"-126.8\">value = [5, 8]</text>\n<text fill=\"#000000\" font-family=\"Times,serif\" font-size=\"14.00\" text-anchor=\"middle\" x=\"3227\" y=\"-111.8\">class = 1</text>\n</g>\n<!-- 102&#45;&gt;106 -->\n<g class=\"edge\" id=\"edge106\">\n<title>102-&gt;106</title>\n<path d=\"M3193.8373,-222.8796C3197.4656,-214.4136 3201.322,-205.4153 3205.0732,-196.6626\" fill=\"none\" stroke=\"#000000\"/>\n<polygon fill=\"#000000\" points=\"3208.3643,-197.8683 3209.0865,-187.2981 3201.9303,-195.1108 3208.3643,-197.8683\" stroke=\"#000000\"/>\n</g>\n<!-- 104 -->\n<g class=\"node\" id=\"node105\">\n<title>104</title>\n<polygon fill=\"#f9e3d3\" points=\"3037.5,-68 2942.5,-68 2942.5,0 3037.5,0 3037.5,-68\" stroke=\"#000000\"/>\n<text fill=\"#000000\" font-family=\"Times,serif\" font-size=\"14.00\" text-anchor=\"middle\" x=\"2990\" y=\"-52.8\">gini = 0.492</text>\n<text fill=\"#000000\" font-family=\"Times,serif\" font-size=\"14.00\" text-anchor=\"middle\" x=\"2990\" y=\"-37.8\">samples = 16</text>\n<text fill=\"#000000\" font-family=\"Times,serif\" font-size=\"14.00\" text-anchor=\"middle\" x=\"2990\" y=\"-22.8\">value = [9, 7]</text>\n<text fill=\"#000000\" font-family=\"Times,serif\" font-size=\"14.00\" text-anchor=\"middle\" x=\"2990\" y=\"-7.8\">class = 0</text>\n</g>\n<!-- 103&#45;&gt;104 -->\n<g class=\"edge\" id=\"edge104\">\n<title>103-&gt;104</title>\n<path d=\"M3062.1782,-103.9815C3052.5095,-94.607 3042.2473,-84.6572 3032.5882,-75.2921\" fill=\"none\" stroke=\"#000000\"/>\n<polygon fill=\"#000000\" points=\"3034.9551,-72.7118 3025.3392,-68.2637 3030.0824,-77.7375 3034.9551,-72.7118\" stroke=\"#000000\"/>\n</g>\n<!-- 105 -->\n<g class=\"node\" id=\"node106\">\n<title>105</title>\n<polygon fill=\"#eb9d65\" points=\"3158,-68 3056,-68 3056,0 3158,0 3158,-68\" stroke=\"#000000\"/>\n<text fill=\"#000000\" font-family=\"Times,serif\" font-size=\"14.00\" text-anchor=\"middle\" x=\"3107\" y=\"-52.8\">gini = 0.298</text>\n<text fill=\"#000000\" font-family=\"Times,serif\" font-size=\"14.00\" text-anchor=\"middle\" x=\"3107\" y=\"-37.8\">samples = 22</text>\n<text fill=\"#000000\" font-family=\"Times,serif\" font-size=\"14.00\" text-anchor=\"middle\" x=\"3107\" y=\"-22.8\">value = [18, 4]</text>\n<text fill=\"#000000\" font-family=\"Times,serif\" font-size=\"14.00\" text-anchor=\"middle\" x=\"3107\" y=\"-7.8\">class = 0</text>\n</g>\n<!-- 103&#45;&gt;105 -->\n<g class=\"edge\" id=\"edge105\">\n<title>103-&gt;105</title>\n<path d=\"M3105.7447,-103.9815C3105.8947,-95.618 3106.053,-86.7965 3106.2046,-78.3409\" fill=\"none\" stroke=\"#000000\"/>\n<polygon fill=\"#000000\" points=\"3109.7054,-78.3249 3106.3854,-68.2637 3102.7065,-78.1993 3109.7054,-78.3249\" stroke=\"#000000\"/>\n</g>\n<!-- 107 -->\n<g class=\"node\" id=\"node108\">\n<title>107</title>\n<polygon fill=\"#399de5\" points=\"3271.5,-68 3176.5,-68 3176.5,0 3271.5,0 3271.5,-68\" stroke=\"#000000\"/>\n<text fill=\"#000000\" font-family=\"Times,serif\" font-size=\"14.00\" text-anchor=\"middle\" x=\"3224\" y=\"-52.8\">gini = 0.0</text>\n<text fill=\"#000000\" font-family=\"Times,serif\" font-size=\"14.00\" text-anchor=\"middle\" x=\"3224\" y=\"-37.8\">samples = 4</text>\n<text fill=\"#000000\" font-family=\"Times,serif\" font-size=\"14.00\" text-anchor=\"middle\" x=\"3224\" y=\"-22.8\">value = [0, 4]</text>\n<text fill=\"#000000\" font-family=\"Times,serif\" font-size=\"14.00\" text-anchor=\"middle\" x=\"3224\" y=\"-7.8\">class = 1</text>\n</g>\n<!-- 106&#45;&gt;107 -->\n<g class=\"edge\" id=\"edge107\">\n<title>106-&gt;107</title>\n<path d=\"M3225.8829,-103.9815C3225.6579,-95.618 3225.4205,-86.7965 3225.193,-78.3409\" fill=\"none\" stroke=\"#000000\"/>\n<polygon fill=\"#000000\" points=\"3228.6897,-78.1659 3224.9219,-68.2637 3221.6922,-78.3542 3228.6897,-78.1659\" stroke=\"#000000\"/>\n</g>\n<!-- 108 -->\n<g class=\"node\" id=\"node109\">\n<title>108</title>\n<polygon fill=\"#fae6d7\" points=\"3384.5,-68 3289.5,-68 3289.5,0 3384.5,0 3384.5,-68\" stroke=\"#000000\"/>\n<text fill=\"#000000\" font-family=\"Times,serif\" font-size=\"14.00\" text-anchor=\"middle\" x=\"3337\" y=\"-52.8\">gini = 0.494</text>\n<text fill=\"#000000\" font-family=\"Times,serif\" font-size=\"14.00\" text-anchor=\"middle\" x=\"3337\" y=\"-37.8\">samples = 9</text>\n<text fill=\"#000000\" font-family=\"Times,serif\" font-size=\"14.00\" text-anchor=\"middle\" x=\"3337\" y=\"-22.8\">value = [5, 4]</text>\n<text fill=\"#000000\" font-family=\"Times,serif\" font-size=\"14.00\" text-anchor=\"middle\" x=\"3337\" y=\"-7.8\">class = 0</text>\n</g>\n<!-- 106&#45;&gt;108 -->\n<g class=\"edge\" id=\"edge108\">\n<title>106-&gt;108</title>\n<path d=\"M3267.9599,-103.9815C3277.1176,-94.6989 3286.8319,-84.8522 3295.9915,-75.5677\" fill=\"none\" stroke=\"#000000\"/>\n<polygon fill=\"#000000\" points=\"3298.6658,-77.8406 3303.1973,-68.2637 3293.6826,-72.9244 3298.6658,-77.8406\" stroke=\"#000000\"/>\n</g>\n<!-- 110 -->\n<g class=\"node\" id=\"node111\">\n<title>110</title>\n<polygon fill=\"#e88f4f\" points=\"3503.5,-187 3396.5,-187 3396.5,-104 3503.5,-104 3503.5,-187\" stroke=\"#000000\"/>\n<text fill=\"#000000\" font-family=\"Times,serif\" font-size=\"14.00\" text-anchor=\"middle\" x=\"3450\" y=\"-171.8\">Fare &lt;= 35.077</text>\n<text fill=\"#000000\" font-family=\"Times,serif\" font-size=\"14.00\" text-anchor=\"middle\" x=\"3450\" y=\"-156.8\">gini = 0.18</text>\n<text fill=\"#000000\" font-family=\"Times,serif\" font-size=\"14.00\" text-anchor=\"middle\" x=\"3450\" y=\"-141.8\">samples = 20</text>\n<text fill=\"#000000\" font-family=\"Times,serif\" font-size=\"14.00\" text-anchor=\"middle\" x=\"3450\" y=\"-126.8\">value = [18, 2]</text>\n<text fill=\"#000000\" font-family=\"Times,serif\" font-size=\"14.00\" text-anchor=\"middle\" x=\"3450\" y=\"-111.8\">class = 0</text>\n</g>\n<!-- 109&#45;&gt;110 -->\n<g class=\"edge\" id=\"edge110\">\n<title>109-&gt;110</title>\n<path d=\"M3450,-222.8796C3450,-214.6838 3450,-205.9891 3450,-197.5013\" fill=\"none\" stroke=\"#000000\"/>\n<polygon fill=\"#000000\" points=\"3453.5001,-197.298 3450,-187.2981 3446.5001,-197.2981 3453.5001,-197.298\" stroke=\"#000000\"/>\n</g>\n<!-- 113 -->\n<g class=\"node\" id=\"node114\">\n<title>113</title>\n<polygon fill=\"#399de5\" points=\"3616.5,-179.5 3521.5,-179.5 3521.5,-111.5 3616.5,-111.5 3616.5,-179.5\" stroke=\"#000000\"/>\n<text fill=\"#000000\" font-family=\"Times,serif\" font-size=\"14.00\" text-anchor=\"middle\" x=\"3569\" y=\"-164.3\">gini = 0.0</text>\n<text fill=\"#000000\" font-family=\"Times,serif\" font-size=\"14.00\" text-anchor=\"middle\" x=\"3569\" y=\"-149.3\">samples = 1</text>\n<text fill=\"#000000\" font-family=\"Times,serif\" font-size=\"14.00\" text-anchor=\"middle\" x=\"3569\" y=\"-134.3\">value = [0, 1]</text>\n<text fill=\"#000000\" font-family=\"Times,serif\" font-size=\"14.00\" text-anchor=\"middle\" x=\"3569\" y=\"-119.3\">class = 1</text>\n</g>\n<!-- 109&#45;&gt;113 -->\n<g class=\"edge\" id=\"edge113\">\n<title>109-&gt;113</title>\n<path d=\"M3491.6204,-222.8796C3503.2763,-211.2237 3515.9413,-198.5587 3527.5852,-186.9148\" fill=\"none\" stroke=\"#000000\"/>\n<polygon fill=\"#000000\" points=\"3530.0889,-189.3609 3534.6851,-179.8149 3525.1391,-184.4111 3530.0889,-189.3609\" stroke=\"#000000\"/>\n</g>\n<!-- 111 -->\n<g class=\"node\" id=\"node112\">\n<title>111</title>\n<polygon fill=\"#e58139\" points=\"3503.5,-68 3402.5,-68 3402.5,0 3503.5,0 3503.5,-68\" stroke=\"#000000\"/>\n<text fill=\"#000000\" font-family=\"Times,serif\" font-size=\"14.00\" text-anchor=\"middle\" x=\"3453\" y=\"-52.8\">gini = 0.0</text>\n<text fill=\"#000000\" font-family=\"Times,serif\" font-size=\"14.00\" text-anchor=\"middle\" x=\"3453\" y=\"-37.8\">samples = 11</text>\n<text fill=\"#000000\" font-family=\"Times,serif\" font-size=\"14.00\" text-anchor=\"middle\" x=\"3453\" y=\"-22.8\">value = [11, 0]</text>\n<text fill=\"#000000\" font-family=\"Times,serif\" font-size=\"14.00\" text-anchor=\"middle\" x=\"3453\" y=\"-7.8\">class = 0</text>\n</g>\n<!-- 110&#45;&gt;111 -->\n<g class=\"edge\" id=\"edge111\">\n<title>110-&gt;111</title>\n<path d=\"M3451.1171,-103.9815C3451.3421,-95.618 3451.5795,-86.7965 3451.807,-78.3409\" fill=\"none\" stroke=\"#000000\"/>\n<polygon fill=\"#000000\" points=\"3455.3078,-78.3542 3452.0781,-68.2637 3448.3103,-78.1659 3455.3078,-78.3542\" stroke=\"#000000\"/>\n</g>\n<!-- 112 -->\n<g class=\"node\" id=\"node113\">\n<title>112</title>\n<polygon fill=\"#eca572\" points=\"3616.5,-68 3521.5,-68 3521.5,0 3616.5,0 3616.5,-68\" stroke=\"#000000\"/>\n<text fill=\"#000000\" font-family=\"Times,serif\" font-size=\"14.00\" text-anchor=\"middle\" x=\"3569\" y=\"-52.8\">gini = 0.346</text>\n<text fill=\"#000000\" font-family=\"Times,serif\" font-size=\"14.00\" text-anchor=\"middle\" x=\"3569\" y=\"-37.8\">samples = 9</text>\n<text fill=\"#000000\" font-family=\"Times,serif\" font-size=\"14.00\" text-anchor=\"middle\" x=\"3569\" y=\"-22.8\">value = [7, 2]</text>\n<text fill=\"#000000\" font-family=\"Times,serif\" font-size=\"14.00\" text-anchor=\"middle\" x=\"3569\" y=\"-7.8\">class = 0</text>\n</g>\n<!-- 110&#45;&gt;112 -->\n<g class=\"edge\" id=\"edge112\">\n<title>110-&gt;112</title>\n<path d=\"M3494.3112,-103.9815C3504.3163,-94.607 3514.9354,-84.6572 3524.9304,-75.2921\" fill=\"none\" stroke=\"#000000\"/>\n<polygon fill=\"#000000\" points=\"3527.5274,-77.6551 3532.4316,-68.2637 3522.7412,-72.547 3527.5274,-77.6551\" stroke=\"#000000\"/>\n</g>\n<!-- 115 -->\n<g class=\"node\" id=\"node116\">\n<title>115</title>\n<polygon fill=\"#e89051\" points=\"4045.5,-544 3928.5,-544 3928.5,-461 4045.5,-461 4045.5,-544\" stroke=\"#000000\"/>\n<text fill=\"#000000\" font-family=\"Times,serif\" font-size=\"14.00\" text-anchor=\"middle\" x=\"3987\" y=\"-528.8\">Age &lt;= 13.0</text>\n<text fill=\"#000000\" font-family=\"Times,serif\" font-size=\"14.00\" text-anchor=\"middle\" x=\"3987\" y=\"-513.8\">gini = 0.193</text>\n<text fill=\"#000000\" font-family=\"Times,serif\" font-size=\"14.00\" text-anchor=\"middle\" x=\"3987\" y=\"-498.8\">samples = 417</text>\n<text fill=\"#000000\" font-family=\"Times,serif\" font-size=\"14.00\" text-anchor=\"middle\" x=\"3987\" y=\"-483.8\">value = [372, 45]</text>\n<text fill=\"#000000\" font-family=\"Times,serif\" font-size=\"14.00\" text-anchor=\"middle\" x=\"3987\" y=\"-468.8\">class = 0</text>\n</g>\n<!-- 114&#45;&gt;115 -->\n<g class=\"edge\" id=\"edge115\">\n<title>114-&gt;115</title>\n<path d=\"M3987,-579.8796C3987,-571.6838 3987,-562.9891 3987,-554.5013\" fill=\"none\" stroke=\"#000000\"/>\n<polygon fill=\"#000000\" points=\"3990.5001,-554.298 3987,-544.2981 3983.5001,-554.2981 3990.5001,-554.298\" stroke=\"#000000\"/>\n</g>\n<!-- 138 -->\n<g class=\"node\" id=\"node139\">\n<title>138</title>\n<polygon fill=\"#f1ba93\" points=\"4836.5,-544 4729.5,-544 4729.5,-461 4836.5,-461 4836.5,-544\" stroke=\"#000000\"/>\n<text fill=\"#000000\" font-family=\"Times,serif\" font-size=\"14.00\" text-anchor=\"middle\" x=\"4783\" y=\"-528.8\">Fare &lt;= 63.023</text>\n<text fill=\"#000000\" font-family=\"Times,serif\" font-size=\"14.00\" text-anchor=\"middle\" x=\"4783\" y=\"-513.8\">gini = 0.43</text>\n<text fill=\"#000000\" font-family=\"Times,serif\" font-size=\"14.00\" text-anchor=\"middle\" x=\"4783\" y=\"-498.8\">samples = 16</text>\n<text fill=\"#000000\" font-family=\"Times,serif\" font-size=\"14.00\" text-anchor=\"middle\" x=\"4783\" y=\"-483.8\">value = [11, 5]</text>\n<text fill=\"#000000\" font-family=\"Times,serif\" font-size=\"14.00\" text-anchor=\"middle\" x=\"4783\" y=\"-468.8\">class = 0</text>\n</g>\n<!-- 114&#45;&gt;138 -->\n<g class=\"edge\" id=\"edge138\">\n<title>114-&gt;138</title>\n<path d=\"M4045.5318,-612.7496C4191.0973,-590.988 4568.555,-534.559 4719.3741,-512.0119\" fill=\"none\" stroke=\"#000000\"/>\n<polygon fill=\"#000000\" points=\"4720.0331,-515.4524 4729.4057,-510.5122 4718.9981,-508.5293 4720.0331,-515.4524\" stroke=\"#000000\"/>\n</g>\n<!-- 116 -->\n<g class=\"node\" id=\"node117\">\n<title>116</title>\n<polygon fill=\"#f2c09c\" points=\"3854.5,-425 3747.5,-425 3747.5,-342 3854.5,-342 3854.5,-425\" stroke=\"#000000\"/>\n<text fill=\"#000000\" font-family=\"Times,serif\" font-size=\"14.00\" text-anchor=\"middle\" x=\"3801\" y=\"-409.8\">Fare &lt;= 17.344</text>\n<text fill=\"#000000\" font-family=\"Times,serif\" font-size=\"14.00\" text-anchor=\"middle\" x=\"3801\" y=\"-394.8\">gini = 0.444</text>\n<text fill=\"#000000\" font-family=\"Times,serif\" font-size=\"14.00\" text-anchor=\"middle\" x=\"3801\" y=\"-379.8\">samples = 12</text>\n<text fill=\"#000000\" font-family=\"Times,serif\" font-size=\"14.00\" text-anchor=\"middle\" x=\"3801\" y=\"-364.8\">value = [8, 4]</text>\n<text fill=\"#000000\" font-family=\"Times,serif\" font-size=\"14.00\" text-anchor=\"middle\" x=\"3801\" y=\"-349.8\">class = 0</text>\n</g>\n<!-- 115&#45;&gt;116 -->\n<g class=\"edge\" id=\"edge116\">\n<title>115-&gt;116</title>\n<path d=\"M3928.4037,-465.011C3907.6267,-451.7182 3884.1828,-436.7191 3863.1221,-423.2448\" fill=\"none\" stroke=\"#000000\"/>\n<polygon fill=\"#000000\" points=\"3864.8757,-420.2117 3854.5659,-417.7707 3861.1032,-426.1082 3864.8757,-420.2117\" stroke=\"#000000\"/>\n</g>\n<!-- 123 -->\n<g class=\"node\" id=\"node124\">\n<title>123</title>\n<polygon fill=\"#e88f4f\" points=\"4164.5,-425 4047.5,-425 4047.5,-342 4164.5,-342 4164.5,-425\" stroke=\"#000000\"/>\n<text fill=\"#000000\" font-family=\"Times,serif\" font-size=\"14.00\" text-anchor=\"middle\" x=\"4106\" y=\"-409.8\">Age &lt;= 32.25</text>\n<text fill=\"#000000\" font-family=\"Times,serif\" font-size=\"14.00\" text-anchor=\"middle\" x=\"4106\" y=\"-394.8\">gini = 0.182</text>\n<text fill=\"#000000\" font-family=\"Times,serif\" font-size=\"14.00\" text-anchor=\"middle\" x=\"4106\" y=\"-379.8\">samples = 405</text>\n<text fill=\"#000000\" font-family=\"Times,serif\" font-size=\"14.00\" text-anchor=\"middle\" x=\"4106\" y=\"-364.8\">value = [364, 41]</text>\n<text fill=\"#000000\" font-family=\"Times,serif\" font-size=\"14.00\" text-anchor=\"middle\" x=\"4106\" y=\"-349.8\">class = 0</text>\n</g>\n<!-- 115&#45;&gt;123 -->\n<g class=\"edge\" id=\"edge123\">\n<title>115-&gt;123</title>\n<path d=\"M4028.6204,-460.8796C4037.8069,-451.6931 4047.6202,-441.8798 4057.0664,-432.4336\" fill=\"none\" stroke=\"#000000\"/>\n<polygon fill=\"#000000\" points=\"4059.6057,-434.8441 4064.2019,-425.2981 4054.6559,-429.8943 4059.6057,-434.8441\" stroke=\"#000000\"/>\n</g>\n<!-- 117 -->\n<g class=\"node\" id=\"node118\">\n<title>117</title>\n<polygon fill=\"#399de5\" points=\"3735.5,-298.5 3640.5,-298.5 3640.5,-230.5 3735.5,-230.5 3735.5,-298.5\" stroke=\"#000000\"/>\n<text fill=\"#000000\" font-family=\"Times,serif\" font-size=\"14.00\" text-anchor=\"middle\" x=\"3688\" y=\"-283.3\">gini = 0.0</text>\n<text fill=\"#000000\" font-family=\"Times,serif\" font-size=\"14.00\" text-anchor=\"middle\" x=\"3688\" y=\"-268.3\">samples = 2</text>\n<text fill=\"#000000\" font-family=\"Times,serif\" font-size=\"14.00\" text-anchor=\"middle\" x=\"3688\" y=\"-253.3\">value = [0, 2]</text>\n<text fill=\"#000000\" font-family=\"Times,serif\" font-size=\"14.00\" text-anchor=\"middle\" x=\"3688\" y=\"-238.3\">class = 1</text>\n</g>\n<!-- 116&#45;&gt;117 -->\n<g class=\"edge\" id=\"edge117\">\n<title>116-&gt;117</title>\n<path d=\"M3761.4781,-341.8796C3750.5143,-330.3337 3738.6103,-317.7976 3727.6399,-306.2446\" fill=\"none\" stroke=\"#000000\"/>\n<polygon fill=\"#000000\" points=\"3730.0087,-303.6564 3720.5848,-298.8149 3724.9327,-308.4766 3730.0087,-303.6564\" stroke=\"#000000\"/>\n</g>\n<!-- 118 -->\n<g class=\"node\" id=\"node119\">\n<title>118</title>\n<polygon fill=\"#eca06a\" points=\"3848.5,-306 3753.5,-306 3753.5,-223 3848.5,-223 3848.5,-306\" stroke=\"#000000\"/>\n<text fill=\"#000000\" font-family=\"Times,serif\" font-size=\"14.00\" text-anchor=\"middle\" x=\"3801\" y=\"-290.8\">Pclass &lt;= 2.5</text>\n<text fill=\"#000000\" font-family=\"Times,serif\" font-size=\"14.00\" text-anchor=\"middle\" x=\"3801\" y=\"-275.8\">gini = 0.32</text>\n<text fill=\"#000000\" font-family=\"Times,serif\" font-size=\"14.00\" text-anchor=\"middle\" x=\"3801\" y=\"-260.8\">samples = 10</text>\n<text fill=\"#000000\" font-family=\"Times,serif\" font-size=\"14.00\" text-anchor=\"middle\" x=\"3801\" y=\"-245.8\">value = [8, 2]</text>\n<text fill=\"#000000\" font-family=\"Times,serif\" font-size=\"14.00\" text-anchor=\"middle\" x=\"3801\" y=\"-230.8\">class = 0</text>\n</g>\n<!-- 116&#45;&gt;118 -->\n<g class=\"edge\" id=\"edge118\">\n<title>116-&gt;118</title>\n<path d=\"M3801,-341.8796C3801,-333.6838 3801,-324.9891 3801,-316.5013\" fill=\"none\" stroke=\"#000000\"/>\n<polygon fill=\"#000000\" points=\"3804.5001,-316.298 3801,-306.2981 3797.5001,-316.2981 3804.5001,-316.298\" stroke=\"#000000\"/>\n</g>\n<!-- 119 -->\n<g class=\"node\" id=\"node120\">\n<title>119</title>\n<polygon fill=\"#399de5\" points=\"3729.5,-179.5 3634.5,-179.5 3634.5,-111.5 3729.5,-111.5 3729.5,-179.5\" stroke=\"#000000\"/>\n<text fill=\"#000000\" font-family=\"Times,serif\" font-size=\"14.00\" text-anchor=\"middle\" x=\"3682\" y=\"-164.3\">gini = 0.0</text>\n<text fill=\"#000000\" font-family=\"Times,serif\" font-size=\"14.00\" text-anchor=\"middle\" x=\"3682\" y=\"-149.3\">samples = 1</text>\n<text fill=\"#000000\" font-family=\"Times,serif\" font-size=\"14.00\" text-anchor=\"middle\" x=\"3682\" y=\"-134.3\">value = [0, 1]</text>\n<text fill=\"#000000\" font-family=\"Times,serif\" font-size=\"14.00\" text-anchor=\"middle\" x=\"3682\" y=\"-119.3\">class = 1</text>\n</g>\n<!-- 118&#45;&gt;119 -->\n<g class=\"edge\" id=\"edge119\">\n<title>118-&gt;119</title>\n<path d=\"M3759.3796,-222.8796C3747.7237,-211.2237 3735.0587,-198.5587 3723.4148,-186.9148\" fill=\"none\" stroke=\"#000000\"/>\n<polygon fill=\"#000000\" points=\"3725.8609,-184.4111 3716.3149,-179.8149 3720.9111,-189.3609 3725.8609,-184.4111\" stroke=\"#000000\"/>\n</g>\n<!-- 120 -->\n<g class=\"node\" id=\"node121\">\n<title>120</title>\n<polygon fill=\"#e89152\" points=\"3854.5,-187 3747.5,-187 3747.5,-104 3854.5,-104 3854.5,-187\" stroke=\"#000000\"/>\n<text fill=\"#000000\" font-family=\"Times,serif\" font-size=\"14.00\" text-anchor=\"middle\" x=\"3801\" y=\"-171.8\">Fare &lt;= 24.212</text>\n<text fill=\"#000000\" font-family=\"Times,serif\" font-size=\"14.00\" text-anchor=\"middle\" x=\"3801\" y=\"-156.8\">gini = 0.198</text>\n<text fill=\"#000000\" font-family=\"Times,serif\" font-size=\"14.00\" text-anchor=\"middle\" x=\"3801\" y=\"-141.8\">samples = 9</text>\n<text fill=\"#000000\" font-family=\"Times,serif\" font-size=\"14.00\" text-anchor=\"middle\" x=\"3801\" y=\"-126.8\">value = [8, 1]</text>\n<text fill=\"#000000\" font-family=\"Times,serif\" font-size=\"14.00\" text-anchor=\"middle\" x=\"3801\" y=\"-111.8\">class = 0</text>\n</g>\n<!-- 118&#45;&gt;120 -->\n<g class=\"edge\" id=\"edge120\">\n<title>118-&gt;120</title>\n<path d=\"M3801,-222.8796C3801,-214.6838 3801,-205.9891 3801,-197.5013\" fill=\"none\" stroke=\"#000000\"/>\n<polygon fill=\"#000000\" points=\"3804.5001,-197.298 3801,-187.2981 3797.5001,-197.2981 3804.5001,-197.298\" stroke=\"#000000\"/>\n</g>\n<!-- 121 -->\n<g class=\"node\" id=\"node122\">\n<title>121</title>\n<polygon fill=\"#ffffff\" points=\"3733.5,-68 3638.5,-68 3638.5,0 3733.5,0 3733.5,-68\" stroke=\"#000000\"/>\n<text fill=\"#000000\" font-family=\"Times,serif\" font-size=\"14.00\" text-anchor=\"middle\" x=\"3686\" y=\"-52.8\">gini = 0.5</text>\n<text fill=\"#000000\" font-family=\"Times,serif\" font-size=\"14.00\" text-anchor=\"middle\" x=\"3686\" y=\"-37.8\">samples = 2</text>\n<text fill=\"#000000\" font-family=\"Times,serif\" font-size=\"14.00\" text-anchor=\"middle\" x=\"3686\" y=\"-22.8\">value = [1, 1]</text>\n<text fill=\"#000000\" font-family=\"Times,serif\" font-size=\"14.00\" text-anchor=\"middle\" x=\"3686\" y=\"-7.8\">class = 0</text>\n</g>\n<!-- 120&#45;&gt;121 -->\n<g class=\"edge\" id=\"edge121\">\n<title>120-&gt;121</title>\n<path d=\"M3758.1782,-103.9815C3748.5095,-94.607 3738.2473,-84.6572 3728.5882,-75.2921\" fill=\"none\" stroke=\"#000000\"/>\n<polygon fill=\"#000000\" points=\"3730.9551,-72.7118 3721.3392,-68.2637 3726.0824,-77.7375 3730.9551,-72.7118\" stroke=\"#000000\"/>\n</g>\n<!-- 122 -->\n<g class=\"node\" id=\"node123\">\n<title>122</title>\n<polygon fill=\"#e58139\" points=\"3846.5,-68 3751.5,-68 3751.5,0 3846.5,0 3846.5,-68\" stroke=\"#000000\"/>\n<text fill=\"#000000\" font-family=\"Times,serif\" font-size=\"14.00\" text-anchor=\"middle\" x=\"3799\" y=\"-52.8\">gini = 0.0</text>\n<text fill=\"#000000\" font-family=\"Times,serif\" font-size=\"14.00\" text-anchor=\"middle\" x=\"3799\" y=\"-37.8\">samples = 7</text>\n<text fill=\"#000000\" font-family=\"Times,serif\" font-size=\"14.00\" text-anchor=\"middle\" x=\"3799\" y=\"-22.8\">value = [7, 0]</text>\n<text fill=\"#000000\" font-family=\"Times,serif\" font-size=\"14.00\" text-anchor=\"middle\" x=\"3799\" y=\"-7.8\">class = 0</text>\n</g>\n<!-- 120&#45;&gt;122 -->\n<g class=\"edge\" id=\"edge122\">\n<title>120-&gt;122</title>\n<path d=\"M3800.2553,-103.9815C3800.1053,-95.618 3799.947,-86.7965 3799.7954,-78.3409\" fill=\"none\" stroke=\"#000000\"/>\n<polygon fill=\"#000000\" points=\"3803.2935,-78.1993 3799.6146,-68.2637 3796.2946,-78.3249 3803.2935,-78.1993\" stroke=\"#000000\"/>\n</g>\n<!-- 124 -->\n<g class=\"node\" id=\"node125\">\n<title>124</title>\n<polygon fill=\"#e99356\" points=\"4164.5,-306 4047.5,-306 4047.5,-223 4164.5,-223 4164.5,-306\" stroke=\"#000000\"/>\n<text fill=\"#000000\" font-family=\"Times,serif\" font-size=\"14.00\" text-anchor=\"middle\" x=\"4106\" y=\"-290.8\">Age &lt;= 30.75</text>\n<text fill=\"#000000\" font-family=\"Times,serif\" font-size=\"14.00\" text-anchor=\"middle\" x=\"4106\" y=\"-275.8\">gini = 0.222</text>\n<text fill=\"#000000\" font-family=\"Times,serif\" font-size=\"14.00\" text-anchor=\"middle\" x=\"4106\" y=\"-260.8\">samples = 204</text>\n<text fill=\"#000000\" font-family=\"Times,serif\" font-size=\"14.00\" text-anchor=\"middle\" x=\"4106\" y=\"-245.8\">value = [178, 26]</text>\n<text fill=\"#000000\" font-family=\"Times,serif\" font-size=\"14.00\" text-anchor=\"middle\" x=\"4106\" y=\"-230.8\">class = 0</text>\n</g>\n<!-- 123&#45;&gt;124 -->\n<g class=\"edge\" id=\"edge124\">\n<title>123-&gt;124</title>\n<path d=\"M4106,-341.8796C4106,-333.6838 4106,-324.9891 4106,-316.5013\" fill=\"none\" stroke=\"#000000\"/>\n<polygon fill=\"#000000\" points=\"4109.5001,-316.298 4106,-306.2981 4102.5001,-316.2981 4109.5001,-316.298\" stroke=\"#000000\"/>\n</g>\n<!-- 131 -->\n<g class=\"node\" id=\"node132\">\n<title>131</title>\n<polygon fill=\"#e78b49\" points=\"4484.5,-306 4367.5,-306 4367.5,-223 4484.5,-223 4484.5,-306\" stroke=\"#000000\"/>\n<text fill=\"#000000\" font-family=\"Times,serif\" font-size=\"14.00\" text-anchor=\"middle\" x=\"4426\" y=\"-290.8\">Fare &lt;= 7.91</text>\n<text fill=\"#000000\" font-family=\"Times,serif\" font-size=\"14.00\" text-anchor=\"middle\" x=\"4426\" y=\"-275.8\">gini = 0.138</text>\n<text fill=\"#000000\" font-family=\"Times,serif\" font-size=\"14.00\" text-anchor=\"middle\" x=\"4426\" y=\"-260.8\">samples = 201</text>\n<text fill=\"#000000\" font-family=\"Times,serif\" font-size=\"14.00\" text-anchor=\"middle\" x=\"4426\" y=\"-245.8\">value = [186, 15]</text>\n<text fill=\"#000000\" font-family=\"Times,serif\" font-size=\"14.00\" text-anchor=\"middle\" x=\"4426\" y=\"-230.8\">class = 0</text>\n</g>\n<!-- 123&#45;&gt;131 -->\n<g class=\"edge\" id=\"edge131\">\n<title>123-&gt;131</title>\n<path d=\"M4164.6929,-361.6736C4219.1884,-341.4081 4300.3197,-311.2374 4357.6988,-289.8995\" fill=\"none\" stroke=\"#000000\"/>\n<polygon fill=\"#000000\" points=\"4359.256,-293.0547 4367.4089,-286.2886 4356.816,-286.4937 4359.256,-293.0547\" stroke=\"#000000\"/>\n</g>\n<!-- 125 -->\n<g class=\"node\" id=\"node126\">\n<title>125</title>\n<polygon fill=\"#e89051\" points=\"4100.5,-187 3983.5,-187 3983.5,-104 4100.5,-104 4100.5,-187\" stroke=\"#000000\"/>\n<text fill=\"#000000\" font-family=\"Times,serif\" font-size=\"14.00\" text-anchor=\"middle\" x=\"4042\" y=\"-171.8\">Pclass &lt;= 2.5</text>\n<text fill=\"#000000\" font-family=\"Times,serif\" font-size=\"14.00\" text-anchor=\"middle\" x=\"4042\" y=\"-156.8\">gini = 0.192</text>\n<text fill=\"#000000\" font-family=\"Times,serif\" font-size=\"14.00\" text-anchor=\"middle\" x=\"4042\" y=\"-141.8\">samples = 186</text>\n<text fill=\"#000000\" font-family=\"Times,serif\" font-size=\"14.00\" text-anchor=\"middle\" x=\"4042\" y=\"-126.8\">value = [166, 20]</text>\n<text fill=\"#000000\" font-family=\"Times,serif\" font-size=\"14.00\" text-anchor=\"middle\" x=\"4042\" y=\"-111.8\">class = 0</text>\n</g>\n<!-- 124&#45;&gt;125 -->\n<g class=\"edge\" id=\"edge125\">\n<title>124-&gt;125</title>\n<path d=\"M4083.6159,-222.8796C4079.0144,-214.3236 4074.1204,-205.2238 4069.3658,-196.3833\" fill=\"none\" stroke=\"#000000\"/>\n<polygon fill=\"#000000\" points=\"4072.2988,-194.4473 4064.4796,-187.2981 4066.1338,-197.763 4072.2988,-194.4473\" stroke=\"#000000\"/>\n</g>\n<!-- 128 -->\n<g class=\"node\" id=\"node129\">\n<title>128</title>\n<polygon fill=\"#f2c09c\" points=\"4221,-187 4119,-187 4119,-104 4221,-104 4221,-187\" stroke=\"#000000\"/>\n<text fill=\"#000000\" font-family=\"Times,serif\" font-size=\"14.00\" text-anchor=\"middle\" x=\"4170\" y=\"-171.8\">Fare &lt;= 7.815</text>\n<text fill=\"#000000\" font-family=\"Times,serif\" font-size=\"14.00\" text-anchor=\"middle\" x=\"4170\" y=\"-156.8\">gini = 0.444</text>\n<text fill=\"#000000\" font-family=\"Times,serif\" font-size=\"14.00\" text-anchor=\"middle\" x=\"4170\" y=\"-141.8\">samples = 18</text>\n<text fill=\"#000000\" font-family=\"Times,serif\" font-size=\"14.00\" text-anchor=\"middle\" x=\"4170\" y=\"-126.8\">value = [12, 6]</text>\n<text fill=\"#000000\" font-family=\"Times,serif\" font-size=\"14.00\" text-anchor=\"middle\" x=\"4170\" y=\"-111.8\">class = 0</text>\n</g>\n<!-- 124&#45;&gt;128 -->\n<g class=\"edge\" id=\"edge128\">\n<title>124-&gt;128</title>\n<path d=\"M4128.3841,-222.8796C4132.9856,-214.3236 4137.8796,-205.2238 4142.6342,-196.3833\" fill=\"none\" stroke=\"#000000\"/>\n<polygon fill=\"#000000\" points=\"4145.8662,-197.763 4147.5204,-187.2981 4139.7012,-194.4473 4145.8662,-197.763\" stroke=\"#000000\"/>\n</g>\n<!-- 126 -->\n<g class=\"node\" id=\"node127\">\n<title>126</title>\n<polygon fill=\"#e6843e\" points=\"3967,-68 3865,-68 3865,0 3967,0 3967,-68\" stroke=\"#000000\"/>\n<text fill=\"#000000\" font-family=\"Times,serif\" font-size=\"14.00\" text-anchor=\"middle\" x=\"3916\" y=\"-52.8\">gini = 0.05</text>\n<text fill=\"#000000\" font-family=\"Times,serif\" font-size=\"14.00\" text-anchor=\"middle\" x=\"3916\" y=\"-37.8\">samples = 39</text>\n<text fill=\"#000000\" font-family=\"Times,serif\" font-size=\"14.00\" text-anchor=\"middle\" x=\"3916\" y=\"-22.8\">value = [38, 1]</text>\n<text fill=\"#000000\" font-family=\"Times,serif\" font-size=\"14.00\" text-anchor=\"middle\" x=\"3916\" y=\"-7.8\">class = 0</text>\n</g>\n<!-- 125&#45;&gt;126 -->\n<g class=\"edge\" id=\"edge126\">\n<title>125-&gt;126</title>\n<path d=\"M3995.0823,-103.9815C3984.3848,-94.5151 3973.0244,-84.462 3962.3508,-75.0168\" fill=\"none\" stroke=\"#000000\"/>\n<polygon fill=\"#000000\" points=\"3964.5278,-72.2696 3954.7195,-68.2637 3959.8889,-77.5118 3964.5278,-72.2696\" stroke=\"#000000\"/>\n</g>\n<!-- 127 -->\n<g class=\"node\" id=\"node128\">\n<title>127</title>\n<polygon fill=\"#e99456\" points=\"4102.5,-68 3985.5,-68 3985.5,0 4102.5,0 4102.5,-68\" stroke=\"#000000\"/>\n<text fill=\"#000000\" font-family=\"Times,serif\" font-size=\"14.00\" text-anchor=\"middle\" x=\"4044\" y=\"-52.8\">gini = 0.225</text>\n<text fill=\"#000000\" font-family=\"Times,serif\" font-size=\"14.00\" text-anchor=\"middle\" x=\"4044\" y=\"-37.8\">samples = 147</text>\n<text fill=\"#000000\" font-family=\"Times,serif\" font-size=\"14.00\" text-anchor=\"middle\" x=\"4044\" y=\"-22.8\">value = [128, 19]</text>\n<text fill=\"#000000\" font-family=\"Times,serif\" font-size=\"14.00\" text-anchor=\"middle\" x=\"4044\" y=\"-7.8\">class = 0</text>\n</g>\n<!-- 125&#45;&gt;127 -->\n<g class=\"edge\" id=\"edge127\">\n<title>125-&gt;127</title>\n<path d=\"M4042.7447,-103.9815C4042.8947,-95.618 4043.053,-86.7965 4043.2046,-78.3409\" fill=\"none\" stroke=\"#000000\"/>\n<polygon fill=\"#000000\" points=\"4046.7054,-78.3249 4043.3854,-68.2637 4039.7065,-78.1993 4046.7054,-78.3249\" stroke=\"#000000\"/>\n</g>\n<!-- 129 -->\n<g class=\"node\" id=\"node130\">\n<title>129</title>\n<polygon fill=\"#e58139\" points=\"4215.5,-68 4120.5,-68 4120.5,0 4215.5,0 4215.5,-68\" stroke=\"#000000\"/>\n<text fill=\"#000000\" font-family=\"Times,serif\" font-size=\"14.00\" text-anchor=\"middle\" x=\"4168\" y=\"-52.8\">gini = 0.0</text>\n<text fill=\"#000000\" font-family=\"Times,serif\" font-size=\"14.00\" text-anchor=\"middle\" x=\"4168\" y=\"-37.8\">samples = 3</text>\n<text fill=\"#000000\" font-family=\"Times,serif\" font-size=\"14.00\" text-anchor=\"middle\" x=\"4168\" y=\"-22.8\">value = [3, 0]</text>\n<text fill=\"#000000\" font-family=\"Times,serif\" font-size=\"14.00\" text-anchor=\"middle\" x=\"4168\" y=\"-7.8\">class = 0</text>\n</g>\n<!-- 128&#45;&gt;129 -->\n<g class=\"edge\" id=\"edge129\">\n<title>128-&gt;129</title>\n<path d=\"M4169.2553,-103.9815C4169.1053,-95.618 4168.947,-86.7965 4168.7954,-78.3409\" fill=\"none\" stroke=\"#000000\"/>\n<polygon fill=\"#000000\" points=\"4172.2935,-78.1993 4168.6146,-68.2637 4165.2946,-78.3249 4172.2935,-78.1993\" stroke=\"#000000\"/>\n</g>\n<!-- 130 -->\n<g class=\"node\" id=\"node131\">\n<title>130</title>\n<polygon fill=\"#f6d5bd\" points=\"4328.5,-68 4233.5,-68 4233.5,0 4328.5,0 4328.5,-68\" stroke=\"#000000\"/>\n<text fill=\"#000000\" font-family=\"Times,serif\" font-size=\"14.00\" text-anchor=\"middle\" x=\"4281\" y=\"-52.8\">gini = 0.48</text>\n<text fill=\"#000000\" font-family=\"Times,serif\" font-size=\"14.00\" text-anchor=\"middle\" x=\"4281\" y=\"-37.8\">samples = 15</text>\n<text fill=\"#000000\" font-family=\"Times,serif\" font-size=\"14.00\" text-anchor=\"middle\" x=\"4281\" y=\"-22.8\">value = [9, 6]</text>\n<text fill=\"#000000\" font-family=\"Times,serif\" font-size=\"14.00\" text-anchor=\"middle\" x=\"4281\" y=\"-7.8\">class = 0</text>\n</g>\n<!-- 128&#45;&gt;130 -->\n<g class=\"edge\" id=\"edge130\">\n<title>128-&gt;130</title>\n<path d=\"M4211.3323,-103.9815C4220.5733,-94.6989 4230.3758,-84.8522 4239.6187,-75.5677\" fill=\"none\" stroke=\"#000000\"/>\n<polygon fill=\"#000000\" points=\"4242.3152,-77.82 4246.89,-68.2637 4237.3543,-72.8813 4242.3152,-77.82\" stroke=\"#000000\"/>\n</g>\n<!-- 132 -->\n<g class=\"node\" id=\"node133\">\n<title>132</title>\n<polygon fill=\"#e68540\" points=\"4477,-187 4375,-187 4375,-104 4477,-104 4477,-187\" stroke=\"#000000\"/>\n<text fill=\"#000000\" font-family=\"Times,serif\" font-size=\"14.00\" text-anchor=\"middle\" x=\"4426\" y=\"-171.8\">Fare &lt;= 7.227</text>\n<text fill=\"#000000\" font-family=\"Times,serif\" font-size=\"14.00\" text-anchor=\"middle\" x=\"4426\" y=\"-156.8\">gini = 0.064</text>\n<text fill=\"#000000\" font-family=\"Times,serif\" font-size=\"14.00\" text-anchor=\"middle\" x=\"4426\" y=\"-141.8\">samples = 90</text>\n<text fill=\"#000000\" font-family=\"Times,serif\" font-size=\"14.00\" text-anchor=\"middle\" x=\"4426\" y=\"-126.8\">value = [87, 3]</text>\n<text fill=\"#000000\" font-family=\"Times,serif\" font-size=\"14.00\" text-anchor=\"middle\" x=\"4426\" y=\"-111.8\">class = 0</text>\n</g>\n<!-- 131&#45;&gt;132 -->\n<g class=\"edge\" id=\"edge132\">\n<title>131-&gt;132</title>\n<path d=\"M4426,-222.8796C4426,-214.6838 4426,-205.9891 4426,-197.5013\" fill=\"none\" stroke=\"#000000\"/>\n<polygon fill=\"#000000\" points=\"4429.5001,-197.298 4426,-187.2981 4422.5001,-197.2981 4429.5001,-197.298\" stroke=\"#000000\"/>\n</g>\n<!-- 135 -->\n<g class=\"node\" id=\"node136\">\n<title>135</title>\n<polygon fill=\"#e89051\" points=\"4661,-187 4551,-187 4551,-104 4661,-104 4661,-187\" stroke=\"#000000\"/>\n<text fill=\"#000000\" font-family=\"Times,serif\" font-size=\"14.00\" text-anchor=\"middle\" x=\"4606\" y=\"-171.8\">Fare &lt;= 7.988</text>\n<text fill=\"#000000\" font-family=\"Times,serif\" font-size=\"14.00\" text-anchor=\"middle\" x=\"4606\" y=\"-156.8\">gini = 0.193</text>\n<text fill=\"#000000\" font-family=\"Times,serif\" font-size=\"14.00\" text-anchor=\"middle\" x=\"4606\" y=\"-141.8\">samples = 111</text>\n<text fill=\"#000000\" font-family=\"Times,serif\" font-size=\"14.00\" text-anchor=\"middle\" x=\"4606\" y=\"-126.8\">value = [99, 12]</text>\n<text fill=\"#000000\" font-family=\"Times,serif\" font-size=\"14.00\" text-anchor=\"middle\" x=\"4606\" y=\"-111.8\">class = 0</text>\n</g>\n<!-- 131&#45;&gt;135 -->\n<g class=\"edge\" id=\"edge135\">\n<title>131-&gt;135</title>\n<path d=\"M4484.9387,-225.5349C4503.3438,-213.3672 4523.7241,-199.8935 4542.4324,-187.5253\" fill=\"none\" stroke=\"#000000\"/>\n<polygon fill=\"#000000\" points=\"4544.4856,-190.3636 4550.8973,-181.929 4540.6252,-184.5243 4544.4856,-190.3636\" stroke=\"#000000\"/>\n</g>\n<!-- 133 -->\n<g class=\"node\" id=\"node134\">\n<title>133</title>\n<polygon fill=\"#e58139\" points=\"4449,-68 4347,-68 4347,0 4449,0 4449,-68\" stroke=\"#000000\"/>\n<text fill=\"#000000\" font-family=\"Times,serif\" font-size=\"14.00\" text-anchor=\"middle\" x=\"4398\" y=\"-52.8\">gini = 0.0</text>\n<text fill=\"#000000\" font-family=\"Times,serif\" font-size=\"14.00\" text-anchor=\"middle\" x=\"4398\" y=\"-37.8\">samples = 28</text>\n<text fill=\"#000000\" font-family=\"Times,serif\" font-size=\"14.00\" text-anchor=\"middle\" x=\"4398\" y=\"-22.8\">value = [28, 0]</text>\n<text fill=\"#000000\" font-family=\"Times,serif\" font-size=\"14.00\" text-anchor=\"middle\" x=\"4398\" y=\"-7.8\">class = 0</text>\n</g>\n<!-- 132&#45;&gt;133 -->\n<g class=\"edge\" id=\"edge133\">\n<title>132-&gt;133</title>\n<path d=\"M4415.5738,-103.9815C4413.4505,-95.5261 4411.2096,-86.6026 4409.065,-78.0623\" fill=\"none\" stroke=\"#000000\"/>\n<polygon fill=\"#000000\" points=\"4412.4346,-77.1101 4406.6043,-68.2637 4405.6454,-78.815 4412.4346,-77.1101\" stroke=\"#000000\"/>\n</g>\n<!-- 134 -->\n<g class=\"node\" id=\"node135\">\n<title>134</title>\n<polygon fill=\"#e68743\" points=\"4569,-68 4467,-68 4467,0 4569,0 4569,-68\" stroke=\"#000000\"/>\n<text fill=\"#000000\" font-family=\"Times,serif\" font-size=\"14.00\" text-anchor=\"middle\" x=\"4518\" y=\"-52.8\">gini = 0.092</text>\n<text fill=\"#000000\" font-family=\"Times,serif\" font-size=\"14.00\" text-anchor=\"middle\" x=\"4518\" y=\"-37.8\">samples = 62</text>\n<text fill=\"#000000\" font-family=\"Times,serif\" font-size=\"14.00\" text-anchor=\"middle\" x=\"4518\" y=\"-22.8\">value = [59, 3]</text>\n<text fill=\"#000000\" font-family=\"Times,serif\" font-size=\"14.00\" text-anchor=\"middle\" x=\"4518\" y=\"-7.8\">class = 0</text>\n</g>\n<!-- 132&#45;&gt;134 -->\n<g class=\"edge\" id=\"edge134\">\n<title>132-&gt;134</title>\n<path d=\"M4460.2574,-103.9815C4467.7649,-94.8828 4475.7196,-85.242 4483.2464,-76.1199\" fill=\"none\" stroke=\"#000000\"/>\n<polygon fill=\"#000000\" points=\"4486.0639,-78.2045 4489.7286,-68.2637 4480.6646,-73.7495 4486.0639,-78.2045\" stroke=\"#000000\"/>\n</g>\n<!-- 136 -->\n<g class=\"node\" id=\"node137\">\n<title>136</title>\n<polygon fill=\"#ffffff\" points=\"4682.5,-68 4587.5,-68 4587.5,0 4682.5,0 4682.5,-68\" stroke=\"#000000\"/>\n<text fill=\"#000000\" font-family=\"Times,serif\" font-size=\"14.00\" text-anchor=\"middle\" x=\"4635\" y=\"-52.8\">gini = 0.5</text>\n<text fill=\"#000000\" font-family=\"Times,serif\" font-size=\"14.00\" text-anchor=\"middle\" x=\"4635\" y=\"-37.8\">samples = 4</text>\n<text fill=\"#000000\" font-family=\"Times,serif\" font-size=\"14.00\" text-anchor=\"middle\" x=\"4635\" y=\"-22.8\">value = [2, 2]</text>\n<text fill=\"#000000\" font-family=\"Times,serif\" font-size=\"14.00\" text-anchor=\"middle\" x=\"4635\" y=\"-7.8\">class = 0</text>\n</g>\n<!-- 135&#45;&gt;136 -->\n<g class=\"edge\" id=\"edge136\">\n<title>135-&gt;136</title>\n<path d=\"M4616.7985,-103.9815C4618.9977,-95.5261 4621.3186,-86.6026 4623.5399,-78.0623\" fill=\"none\" stroke=\"#000000\"/>\n<polygon fill=\"#000000\" points=\"4626.9585,-78.8227 4626.0884,-68.2637 4620.1838,-77.0607 4626.9585,-78.8227\" stroke=\"#000000\"/>\n</g>\n<!-- 137 -->\n<g class=\"node\" id=\"node138\">\n<title>137</title>\n<polygon fill=\"#e88e4d\" points=\"4811,-68 4701,-68 4701,0 4811,0 4811,-68\" stroke=\"#000000\"/>\n<text fill=\"#000000\" font-family=\"Times,serif\" font-size=\"14.00\" text-anchor=\"middle\" x=\"4756\" y=\"-52.8\">gini = 0.169</text>\n<text fill=\"#000000\" font-family=\"Times,serif\" font-size=\"14.00\" text-anchor=\"middle\" x=\"4756\" y=\"-37.8\">samples = 107</text>\n<text fill=\"#000000\" font-family=\"Times,serif\" font-size=\"14.00\" text-anchor=\"middle\" x=\"4756\" y=\"-22.8\">value = [97, 10]</text>\n<text fill=\"#000000\" font-family=\"Times,serif\" font-size=\"14.00\" text-anchor=\"middle\" x=\"4756\" y=\"-7.8\">class = 0</text>\n</g>\n<!-- 135&#45;&gt;137 -->\n<g class=\"edge\" id=\"edge137\">\n<title>135-&gt;137</title>\n<path d=\"M4661.0027,-104.6146C4674.2972,-94.7324 4688.4961,-84.1779 4701.7554,-74.3218\" fill=\"none\" stroke=\"#000000\"/>\n<polygon fill=\"#000000\" points=\"4703.9358,-77.0621 4709.8734,-68.2874 4699.7598,-71.4442 4703.9358,-77.0621\" stroke=\"#000000\"/>\n</g>\n<!-- 139 -->\n<g class=\"node\" id=\"node140\">\n<title>139</title>\n<polygon fill=\"#88c4ef\" points=\"4830.5,-425 4735.5,-425 4735.5,-342 4830.5,-342 4830.5,-425\" stroke=\"#000000\"/>\n<text fill=\"#000000\" font-family=\"Times,serif\" font-size=\"14.00\" text-anchor=\"middle\" x=\"4783\" y=\"-409.8\">Age &lt;= 30.0</text>\n<text fill=\"#000000\" font-family=\"Times,serif\" font-size=\"14.00\" text-anchor=\"middle\" x=\"4783\" y=\"-394.8\">gini = 0.408</text>\n<text fill=\"#000000\" font-family=\"Times,serif\" font-size=\"14.00\" text-anchor=\"middle\" x=\"4783\" y=\"-379.8\">samples = 7</text>\n<text fill=\"#000000\" font-family=\"Times,serif\" font-size=\"14.00\" text-anchor=\"middle\" x=\"4783\" y=\"-364.8\">value = [2, 5]</text>\n<text fill=\"#000000\" font-family=\"Times,serif\" font-size=\"14.00\" text-anchor=\"middle\" x=\"4783\" y=\"-349.8\">class = 1</text>\n</g>\n<!-- 138&#45;&gt;139 -->\n<g class=\"edge\" id=\"edge139\">\n<title>138-&gt;139</title>\n<path d=\"M4783,-460.8796C4783,-452.6838 4783,-443.9891 4783,-435.5013\" fill=\"none\" stroke=\"#000000\"/>\n<polygon fill=\"#000000\" points=\"4786.5001,-435.298 4783,-425.2981 4779.5001,-435.2981 4786.5001,-435.298\" stroke=\"#000000\"/>\n</g>\n<!-- 146 -->\n<g class=\"node\" id=\"node147\">\n<title>146</title>\n<polygon fill=\"#e58139\" points=\"4943.5,-417.5 4848.5,-417.5 4848.5,-349.5 4943.5,-349.5 4943.5,-417.5\" stroke=\"#000000\"/>\n<text fill=\"#000000\" font-family=\"Times,serif\" font-size=\"14.00\" text-anchor=\"middle\" x=\"4896\" y=\"-402.3\">gini = 0.0</text>\n<text fill=\"#000000\" font-family=\"Times,serif\" font-size=\"14.00\" text-anchor=\"middle\" x=\"4896\" y=\"-387.3\">samples = 9</text>\n<text fill=\"#000000\" font-family=\"Times,serif\" font-size=\"14.00\" text-anchor=\"middle\" x=\"4896\" y=\"-372.3\">value = [9, 0]</text>\n<text fill=\"#000000\" font-family=\"Times,serif\" font-size=\"14.00\" text-anchor=\"middle\" x=\"4896\" y=\"-357.3\">class = 0</text>\n</g>\n<!-- 138&#45;&gt;146 -->\n<g class=\"edge\" id=\"edge146\">\n<title>138-&gt;146</title>\n<path d=\"M4822.5219,-460.8796C4833.4857,-449.3337 4845.3897,-436.7976 4856.3601,-425.2446\" fill=\"none\" stroke=\"#000000\"/>\n<polygon fill=\"#000000\" points=\"4859.0673,-427.4766 4863.4152,-417.8149 4853.9913,-422.6564 4859.0673,-427.4766\" stroke=\"#000000\"/>\n</g>\n<!-- 140 -->\n<g class=\"node\" id=\"node141\">\n<title>140</title>\n<polygon fill=\"#ffffff\" points=\"4830.5,-306 4735.5,-306 4735.5,-223 4830.5,-223 4830.5,-306\" stroke=\"#000000\"/>\n<text fill=\"#000000\" font-family=\"Times,serif\" font-size=\"14.00\" text-anchor=\"middle\" x=\"4783\" y=\"-290.8\">Age &lt;= 27.0</text>\n<text fill=\"#000000\" font-family=\"Times,serif\" font-size=\"14.00\" text-anchor=\"middle\" x=\"4783\" y=\"-275.8\">gini = 0.5</text>\n<text fill=\"#000000\" font-family=\"Times,serif\" font-size=\"14.00\" text-anchor=\"middle\" x=\"4783\" y=\"-260.8\">samples = 2</text>\n<text fill=\"#000000\" font-family=\"Times,serif\" font-size=\"14.00\" text-anchor=\"middle\" x=\"4783\" y=\"-245.8\">value = [1, 1]</text>\n<text fill=\"#000000\" font-family=\"Times,serif\" font-size=\"14.00\" text-anchor=\"middle\" x=\"4783\" y=\"-230.8\">class = 0</text>\n</g>\n<!-- 139&#45;&gt;140 -->\n<g class=\"edge\" id=\"edge140\">\n<title>139-&gt;140</title>\n<path d=\"M4783,-341.8796C4783,-333.6838 4783,-324.9891 4783,-316.5013\" fill=\"none\" stroke=\"#000000\"/>\n<polygon fill=\"#000000\" points=\"4786.5001,-316.298 4783,-306.2981 4779.5001,-316.2981 4786.5001,-316.298\" stroke=\"#000000\"/>\n</g>\n<!-- 143 -->\n<g class=\"node\" id=\"node144\">\n<title>143</title>\n<polygon fill=\"#6ab6ec\" points=\"5000.5,-306 4905.5,-306 4905.5,-223 5000.5,-223 5000.5,-306\" stroke=\"#000000\"/>\n<text fill=\"#000000\" font-family=\"Times,serif\" font-size=\"14.00\" text-anchor=\"middle\" x=\"4953\" y=\"-290.8\">Age &lt;= 38.5</text>\n<text fill=\"#000000\" font-family=\"Times,serif\" font-size=\"14.00\" text-anchor=\"middle\" x=\"4953\" y=\"-275.8\">gini = 0.32</text>\n<text fill=\"#000000\" font-family=\"Times,serif\" font-size=\"14.00\" text-anchor=\"middle\" x=\"4953\" y=\"-260.8\">samples = 5</text>\n<text fill=\"#000000\" font-family=\"Times,serif\" font-size=\"14.00\" text-anchor=\"middle\" x=\"4953\" y=\"-245.8\">value = [1, 4]</text>\n<text fill=\"#000000\" font-family=\"Times,serif\" font-size=\"14.00\" text-anchor=\"middle\" x=\"4953\" y=\"-230.8\">class = 1</text>\n</g>\n<!-- 139&#45;&gt;143 -->\n<g class=\"edge\" id=\"edge143\">\n<title>139-&gt;143</title>\n<path d=\"M4830.5625,-348.0485C4833.409,-345.9905 4836.2373,-343.9615 4839,-342 4857.6989,-328.7237 4878.3719,-314.5278 4896.9212,-301.9609\" fill=\"none\" stroke=\"#000000\"/>\n<polygon fill=\"#000000\" points=\"4898.9551,-304.8108 4905.2797,-296.3108 4895.0349,-299.0114 4898.9551,-304.8108\" stroke=\"#000000\"/>\n</g>\n<!-- 141 -->\n<g class=\"node\" id=\"node142\">\n<title>141</title>\n<polygon fill=\"#399de5\" points=\"4774.5,-179.5 4679.5,-179.5 4679.5,-111.5 4774.5,-111.5 4774.5,-179.5\" stroke=\"#000000\"/>\n<text fill=\"#000000\" font-family=\"Times,serif\" font-size=\"14.00\" text-anchor=\"middle\" x=\"4727\" y=\"-164.3\">gini = 0.0</text>\n<text fill=\"#000000\" font-family=\"Times,serif\" font-size=\"14.00\" text-anchor=\"middle\" x=\"4727\" y=\"-149.3\">samples = 1</text>\n<text fill=\"#000000\" font-family=\"Times,serif\" font-size=\"14.00\" text-anchor=\"middle\" x=\"4727\" y=\"-134.3\">value = [0, 1]</text>\n<text fill=\"#000000\" font-family=\"Times,serif\" font-size=\"14.00\" text-anchor=\"middle\" x=\"4727\" y=\"-119.3\">class = 1</text>\n</g>\n<!-- 140&#45;&gt;141 -->\n<g class=\"edge\" id=\"edge141\">\n<title>140-&gt;141</title>\n<path d=\"M4763.4139,-222.8796C4758.2393,-211.8835 4752.642,-199.9893 4747.4242,-188.9015\" fill=\"none\" stroke=\"#000000\"/>\n<polygon fill=\"#000000\" points=\"4750.5731,-187.3728 4743.1482,-179.8149 4744.2394,-190.3534 4750.5731,-187.3728\" stroke=\"#000000\"/>\n</g>\n<!-- 142 -->\n<g class=\"node\" id=\"node143\">\n<title>142</title>\n<polygon fill=\"#e58139\" points=\"4887.5,-179.5 4792.5,-179.5 4792.5,-111.5 4887.5,-111.5 4887.5,-179.5\" stroke=\"#000000\"/>\n<text fill=\"#000000\" font-family=\"Times,serif\" font-size=\"14.00\" text-anchor=\"middle\" x=\"4840\" y=\"-164.3\">gini = 0.0</text>\n<text fill=\"#000000\" font-family=\"Times,serif\" font-size=\"14.00\" text-anchor=\"middle\" x=\"4840\" y=\"-149.3\">samples = 1</text>\n<text fill=\"#000000\" font-family=\"Times,serif\" font-size=\"14.00\" text-anchor=\"middle\" x=\"4840\" y=\"-134.3\">value = [1, 0]</text>\n<text fill=\"#000000\" font-family=\"Times,serif\" font-size=\"14.00\" text-anchor=\"middle\" x=\"4840\" y=\"-119.3\">class = 0</text>\n</g>\n<!-- 140&#45;&gt;142 -->\n<g class=\"edge\" id=\"edge142\">\n<title>140-&gt;142</title>\n<path d=\"M4802.9358,-222.8796C4808.2029,-211.8835 4813.9001,-199.9893 4819.211,-188.9015\" fill=\"none\" stroke=\"#000000\"/>\n<polygon fill=\"#000000\" points=\"4822.4,-190.3457 4823.5634,-179.8149 4816.0869,-187.3217 4822.4,-190.3457\" stroke=\"#000000\"/>\n</g>\n<!-- 144 -->\n<g class=\"node\" id=\"node145\">\n<title>144</title>\n<polygon fill=\"#399de5\" points=\"5000.5,-179.5 4905.5,-179.5 4905.5,-111.5 5000.5,-111.5 5000.5,-179.5\" stroke=\"#000000\"/>\n<text fill=\"#000000\" font-family=\"Times,serif\" font-size=\"14.00\" text-anchor=\"middle\" x=\"4953\" y=\"-164.3\">gini = 0.0</text>\n<text fill=\"#000000\" font-family=\"Times,serif\" font-size=\"14.00\" text-anchor=\"middle\" x=\"4953\" y=\"-149.3\">samples = 2</text>\n<text fill=\"#000000\" font-family=\"Times,serif\" font-size=\"14.00\" text-anchor=\"middle\" x=\"4953\" y=\"-134.3\">value = [0, 2]</text>\n<text fill=\"#000000\" font-family=\"Times,serif\" font-size=\"14.00\" text-anchor=\"middle\" x=\"4953\" y=\"-119.3\">class = 1</text>\n</g>\n<!-- 143&#45;&gt;144 -->\n<g class=\"edge\" id=\"edge144\">\n<title>143-&gt;144</title>\n<path d=\"M4953,-222.8796C4953,-212.2134 4953,-200.7021 4953,-189.9015\" fill=\"none\" stroke=\"#000000\"/>\n<polygon fill=\"#000000\" points=\"4956.5001,-189.8149 4953,-179.8149 4949.5001,-189.815 4956.5001,-189.8149\" stroke=\"#000000\"/>\n</g>\n<!-- 145 -->\n<g class=\"node\" id=\"node146\">\n<title>145</title>\n<polygon fill=\"#9ccef2\" points=\"5113.5,-179.5 5018.5,-179.5 5018.5,-111.5 5113.5,-111.5 5113.5,-179.5\" stroke=\"#000000\"/>\n<text fill=\"#000000\" font-family=\"Times,serif\" font-size=\"14.00\" text-anchor=\"middle\" x=\"5066\" y=\"-164.3\">gini = 0.444</text>\n<text fill=\"#000000\" font-family=\"Times,serif\" font-size=\"14.00\" text-anchor=\"middle\" x=\"5066\" y=\"-149.3\">samples = 3</text>\n<text fill=\"#000000\" font-family=\"Times,serif\" font-size=\"14.00\" text-anchor=\"middle\" x=\"5066\" y=\"-134.3\">value = [1, 2]</text>\n<text fill=\"#000000\" font-family=\"Times,serif\" font-size=\"14.00\" text-anchor=\"middle\" x=\"5066\" y=\"-119.3\">class = 1</text>\n</g>\n<!-- 143&#45;&gt;145 -->\n<g class=\"edge\" id=\"edge145\">\n<title>143-&gt;145</title>\n<path d=\"M4992.5219,-222.8796C5003.4857,-211.3337 5015.3897,-198.7976 5026.3601,-187.2446\" fill=\"none\" stroke=\"#000000\"/>\n<polygon fill=\"#000000\" points=\"5029.0673,-189.4766 5033.4152,-179.8149 5023.9913,-184.6564 5029.0673,-189.4766\" stroke=\"#000000\"/>\n</g>\n</g>\n</svg>"
          },
          "metadata": {
            "tags": []
          }
        }
      ]
    },
    {
      "cell_type": "markdown",
      "metadata": {
        "id": "SGZGyGbFjWwD",
        "colab_type": "text"
      },
      "source": [
        "Predicting Score"
      ]
    },
    {
      "cell_type": "code",
      "metadata": {
        "id": "JG6DRsNZjXL4",
        "colab_type": "code",
        "colab": {
          "base_uri": "https://localhost:8080/",
          "height": 34
        },
        "outputId": "93aa7d6b-0c1d-4a23-943c-9a454933aecb"
      },
      "source": [
        "model.score(x,y)"
      ],
      "execution_count": 40,
      "outputs": [
        {
          "output_type": "execute_result",
          "data": {
            "text/plain": [
              "0.8976377952755905"
            ]
          },
          "metadata": {
            "tags": []
          },
          "execution_count": 40
        }
      ]
    },
    {
      "cell_type": "markdown",
      "metadata": {
        "id": "tHyeYj5EjZ6A",
        "colab_type": "text"
      },
      "source": [
        "\n",
        "Fitting Random Forest"
      ]
    },
    {
      "cell_type": "code",
      "metadata": {
        "id": "K46n1gDbjaOz",
        "colab_type": "code",
        "colab": {
          "base_uri": "https://localhost:8080/",
          "height": 153
        },
        "outputId": "ff4729bc-e827-4f3e-dab0-e4b0951fa445"
      },
      "source": [
        "rf.fit(x,y)"
      ],
      "execution_count": 41,
      "outputs": [
        {
          "output_type": "execute_result",
          "data": {
            "text/plain": [
              "RandomForestClassifier(bootstrap=True, ccp_alpha=0.0, class_weight=None,\n",
              "                       criterion='gini', max_depth=None, max_features=2,\n",
              "                       max_leaf_nodes=None, max_samples=None,\n",
              "                       min_impurity_decrease=0.0, min_impurity_split=None,\n",
              "                       min_samples_leaf=1, min_samples_split=2,\n",
              "                       min_weight_fraction_leaf=0.0, n_estimators=1000,\n",
              "                       n_jobs=None, oob_score=True, random_state=None,\n",
              "                       verbose=0, warm_start=False)"
            ]
          },
          "metadata": {
            "tags": []
          },
          "execution_count": 41
        }
      ]
    },
    {
      "cell_type": "markdown",
      "metadata": {
        "id": "mlMh8vNEjehI",
        "colab_type": "text"
      },
      "source": [
        "Accuracy Score"
      ]
    },
    {
      "cell_type": "code",
      "metadata": {
        "id": "HF1U_ei2jdxq",
        "colab_type": "code",
        "colab": {
          "base_uri": "https://localhost:8080/",
          "height": 34
        },
        "outputId": "2e8f2c2c-6860-4978-803a-2607faa20420"
      },
      "source": [
        "rf.oob_score_"
      ],
      "execution_count": 42,
      "outputs": [
        {
          "output_type": "execute_result",
          "data": {
            "text/plain": [
              "0.8211473565804275"
            ]
          },
          "metadata": {
            "tags": []
          },
          "execution_count": 42
        }
      ]
    },
    {
      "cell_type": "markdown",
      "metadata": {
        "id": "vHopgaRnjinC",
        "colab_type": "text"
      },
      "source": [
        "## Conclusion:\n",
        "The Accuracy score increases while predicting on Important Columns than predicting on All Columns\n"
      ]
    },
    {
      "cell_type": "markdown",
      "metadata": {
        "id": "pu6FQhLIjmBq",
        "colab_type": "text"
      },
      "source": [
        "**Prediction on Test DataSet**"
      ]
    },
    {
      "cell_type": "code",
      "metadata": {
        "id": "kQhh_69cjjzi",
        "colab_type": "code",
        "colab": {}
      },
      "source": [
        "df2 = pd.read_csv('test.csv')"
      ],
      "execution_count": 60,
      "outputs": []
    },
    {
      "cell_type": "code",
      "metadata": {
        "id": "rZaIqtI0ju1J",
        "colab_type": "code",
        "colab": {
          "base_uri": "https://localhost:8080/",
          "height": 204
        },
        "outputId": "56d80aa1-55db-4507-8b0c-9969cd0f8112"
      },
      "source": [
        "df2.head()"
      ],
      "execution_count": 61,
      "outputs": [
        {
          "output_type": "execute_result",
          "data": {
            "text/html": [
              "<div>\n",
              "<style scoped>\n",
              "    .dataframe tbody tr th:only-of-type {\n",
              "        vertical-align: middle;\n",
              "    }\n",
              "\n",
              "    .dataframe tbody tr th {\n",
              "        vertical-align: top;\n",
              "    }\n",
              "\n",
              "    .dataframe thead th {\n",
              "        text-align: right;\n",
              "    }\n",
              "</style>\n",
              "<table border=\"1\" class=\"dataframe\">\n",
              "  <thead>\n",
              "    <tr style=\"text-align: right;\">\n",
              "      <th></th>\n",
              "      <th>PassengerId</th>\n",
              "      <th>Pclass</th>\n",
              "      <th>Name</th>\n",
              "      <th>Sex</th>\n",
              "      <th>Age</th>\n",
              "      <th>SibSp</th>\n",
              "      <th>Parch</th>\n",
              "      <th>Ticket</th>\n",
              "      <th>Fare</th>\n",
              "      <th>Embarked</th>\n",
              "    </tr>\n",
              "  </thead>\n",
              "  <tbody>\n",
              "    <tr>\n",
              "      <th>0</th>\n",
              "      <td>892</td>\n",
              "      <td>3</td>\n",
              "      <td>Kelly, Mr. James</td>\n",
              "      <td>male</td>\n",
              "      <td>34.5</td>\n",
              "      <td>0</td>\n",
              "      <td>0</td>\n",
              "      <td>330911</td>\n",
              "      <td>7.8292</td>\n",
              "      <td>Q</td>\n",
              "    </tr>\n",
              "    <tr>\n",
              "      <th>1</th>\n",
              "      <td>893</td>\n",
              "      <td>3</td>\n",
              "      <td>Wilkes, Mrs. James (Ellen Needs)</td>\n",
              "      <td>female</td>\n",
              "      <td>47.0</td>\n",
              "      <td>1</td>\n",
              "      <td>0</td>\n",
              "      <td>363272</td>\n",
              "      <td>7.0000</td>\n",
              "      <td>S</td>\n",
              "    </tr>\n",
              "    <tr>\n",
              "      <th>2</th>\n",
              "      <td>894</td>\n",
              "      <td>2</td>\n",
              "      <td>Myles, Mr. Thomas Francis</td>\n",
              "      <td>male</td>\n",
              "      <td>62.0</td>\n",
              "      <td>0</td>\n",
              "      <td>0</td>\n",
              "      <td>240276</td>\n",
              "      <td>9.6875</td>\n",
              "      <td>Q</td>\n",
              "    </tr>\n",
              "    <tr>\n",
              "      <th>3</th>\n",
              "      <td>895</td>\n",
              "      <td>3</td>\n",
              "      <td>Wirz, Mr. Albert</td>\n",
              "      <td>male</td>\n",
              "      <td>27.0</td>\n",
              "      <td>0</td>\n",
              "      <td>0</td>\n",
              "      <td>315154</td>\n",
              "      <td>8.6625</td>\n",
              "      <td>S</td>\n",
              "    </tr>\n",
              "    <tr>\n",
              "      <th>4</th>\n",
              "      <td>896</td>\n",
              "      <td>3</td>\n",
              "      <td>Hirvonen, Mrs. Alexander (Helga E Lindqvist)</td>\n",
              "      <td>female</td>\n",
              "      <td>22.0</td>\n",
              "      <td>1</td>\n",
              "      <td>1</td>\n",
              "      <td>3101298</td>\n",
              "      <td>12.2875</td>\n",
              "      <td>S</td>\n",
              "    </tr>\n",
              "  </tbody>\n",
              "</table>\n",
              "</div>"
            ],
            "text/plain": [
              "   PassengerId  Pclass  ...     Fare Embarked\n",
              "0          892       3  ...   7.8292        Q\n",
              "1          893       3  ...   7.0000        S\n",
              "2          894       2  ...   9.6875        Q\n",
              "3          895       3  ...   8.6625        S\n",
              "4          896       3  ...  12.2875        S\n",
              "\n",
              "[5 rows x 10 columns]"
            ]
          },
          "metadata": {
            "tags": []
          },
          "execution_count": 61
        }
      ]
    },
    {
      "cell_type": "markdown",
      "metadata": {
        "id": "tBB4CNGnjw0J",
        "colab_type": "text"
      },
      "source": [
        "Cleaning test data"
      ]
    },
    {
      "cell_type": "code",
      "metadata": {
        "id": "dfHJHeDajxP8",
        "colab_type": "code",
        "colab": {
          "base_uri": "https://localhost:8080/",
          "height": 204
        },
        "outputId": "50f8446d-8fe5-4654-dd37-c396c54e14f7"
      },
      "source": [
        "df2.isnull().sum()"
      ],
      "execution_count": 62,
      "outputs": [
        {
          "output_type": "execute_result",
          "data": {
            "text/plain": [
              "PassengerId    0\n",
              "Pclass         0\n",
              "Name           0\n",
              "Sex            0\n",
              "Age            0\n",
              "SibSp          0\n",
              "Parch          0\n",
              "Ticket         0\n",
              "Fare           0\n",
              "Embarked       0\n",
              "dtype: int64"
            ]
          },
          "metadata": {
            "tags": []
          },
          "execution_count": 62
        }
      ]
    },
    {
      "cell_type": "markdown",
      "metadata": {
        "id": "VkvsOWvwj08T",
        "colab_type": "text"
      },
      "source": [
        "Droping Irrelevent columns"
      ]
    },
    {
      "cell_type": "code",
      "metadata": {
        "id": "0IqyRbFgj1YM",
        "colab_type": "code",
        "colab": {}
      },
      "source": [
        "df2 = test_data.drop(['Name','PassengerId','Ticket','Cabin'],axis=1)"
      ],
      "execution_count": null,
      "outputs": []
    },
    {
      "cell_type": "code",
      "metadata": {
        "id": "LYsH8VcLj6LR",
        "colab_type": "code",
        "colab": {
          "base_uri": "https://localhost:8080/",
          "height": 204
        },
        "outputId": "9de78078-b883-42b6-c723-c5ff5d0032d8"
      },
      "source": [
        "df2.head()"
      ],
      "execution_count": 63,
      "outputs": [
        {
          "output_type": "execute_result",
          "data": {
            "text/html": [
              "<div>\n",
              "<style scoped>\n",
              "    .dataframe tbody tr th:only-of-type {\n",
              "        vertical-align: middle;\n",
              "    }\n",
              "\n",
              "    .dataframe tbody tr th {\n",
              "        vertical-align: top;\n",
              "    }\n",
              "\n",
              "    .dataframe thead th {\n",
              "        text-align: right;\n",
              "    }\n",
              "</style>\n",
              "<table border=\"1\" class=\"dataframe\">\n",
              "  <thead>\n",
              "    <tr style=\"text-align: right;\">\n",
              "      <th></th>\n",
              "      <th>PassengerId</th>\n",
              "      <th>Pclass</th>\n",
              "      <th>Name</th>\n",
              "      <th>Sex</th>\n",
              "      <th>Age</th>\n",
              "      <th>SibSp</th>\n",
              "      <th>Parch</th>\n",
              "      <th>Ticket</th>\n",
              "      <th>Fare</th>\n",
              "      <th>Embarked</th>\n",
              "    </tr>\n",
              "  </thead>\n",
              "  <tbody>\n",
              "    <tr>\n",
              "      <th>0</th>\n",
              "      <td>892</td>\n",
              "      <td>3</td>\n",
              "      <td>Kelly, Mr. James</td>\n",
              "      <td>male</td>\n",
              "      <td>34.5</td>\n",
              "      <td>0</td>\n",
              "      <td>0</td>\n",
              "      <td>330911</td>\n",
              "      <td>7.8292</td>\n",
              "      <td>Q</td>\n",
              "    </tr>\n",
              "    <tr>\n",
              "      <th>1</th>\n",
              "      <td>893</td>\n",
              "      <td>3</td>\n",
              "      <td>Wilkes, Mrs. James (Ellen Needs)</td>\n",
              "      <td>female</td>\n",
              "      <td>47.0</td>\n",
              "      <td>1</td>\n",
              "      <td>0</td>\n",
              "      <td>363272</td>\n",
              "      <td>7.0000</td>\n",
              "      <td>S</td>\n",
              "    </tr>\n",
              "    <tr>\n",
              "      <th>2</th>\n",
              "      <td>894</td>\n",
              "      <td>2</td>\n",
              "      <td>Myles, Mr. Thomas Francis</td>\n",
              "      <td>male</td>\n",
              "      <td>62.0</td>\n",
              "      <td>0</td>\n",
              "      <td>0</td>\n",
              "      <td>240276</td>\n",
              "      <td>9.6875</td>\n",
              "      <td>Q</td>\n",
              "    </tr>\n",
              "    <tr>\n",
              "      <th>3</th>\n",
              "      <td>895</td>\n",
              "      <td>3</td>\n",
              "      <td>Wirz, Mr. Albert</td>\n",
              "      <td>male</td>\n",
              "      <td>27.0</td>\n",
              "      <td>0</td>\n",
              "      <td>0</td>\n",
              "      <td>315154</td>\n",
              "      <td>8.6625</td>\n",
              "      <td>S</td>\n",
              "    </tr>\n",
              "    <tr>\n",
              "      <th>4</th>\n",
              "      <td>896</td>\n",
              "      <td>3</td>\n",
              "      <td>Hirvonen, Mrs. Alexander (Helga E Lindqvist)</td>\n",
              "      <td>female</td>\n",
              "      <td>22.0</td>\n",
              "      <td>1</td>\n",
              "      <td>1</td>\n",
              "      <td>3101298</td>\n",
              "      <td>12.2875</td>\n",
              "      <td>S</td>\n",
              "    </tr>\n",
              "  </tbody>\n",
              "</table>\n",
              "</div>"
            ],
            "text/plain": [
              "   PassengerId  Pclass  ...     Fare Embarked\n",
              "0          892       3  ...   7.8292        Q\n",
              "1          893       3  ...   7.0000        S\n",
              "2          894       2  ...   9.6875        Q\n",
              "3          895       3  ...   8.6625        S\n",
              "4          896       3  ...  12.2875        S\n",
              "\n",
              "[5 rows x 10 columns]"
            ]
          },
          "metadata": {
            "tags": []
          },
          "execution_count": 63
        }
      ]
    },
    {
      "cell_type": "markdown",
      "metadata": {
        "id": "qP6SVfnBk0Eh",
        "colab_type": "text"
      },
      "source": [
        "Filling Null Values"
      ]
    },
    {
      "cell_type": "code",
      "metadata": {
        "id": "7kzFAgf3k0ef",
        "colab_type": "code",
        "colab": {}
      },
      "source": [
        "df2['Age'].fillna(df2['Age'].mean(), inplace=True)\n",
        "df2['Fare'].fillna(df2['Fare'].mean(), inplace=True)"
      ],
      "execution_count": 64,
      "outputs": []
    },
    {
      "cell_type": "markdown",
      "metadata": {
        "id": "KMjk_Y88lCM0",
        "colab_type": "text"
      },
      "source": [
        "Converting Text Variables"
      ]
    },
    {
      "cell_type": "code",
      "metadata": {
        "id": "k6fNJWczlCop",
        "colab_type": "code",
        "colab": {}
      },
      "source": [
        "\n",
        "le = LabelEncoder()\n",
        "\n",
        "df2[\"Sex\"] = le.fit_transform(df2[\"Sex\"])\n",
        "df2[\"Embarked\"] = le.fit_transform(df2[\"Embarked\"])"
      ],
      "execution_count": 65,
      "outputs": []
    },
    {
      "cell_type": "code",
      "metadata": {
        "id": "-OKTiYi2lHEk",
        "colab_type": "code",
        "colab": {
          "base_uri": "https://localhost:8080/",
          "height": 204
        },
        "outputId": "dba44b49-aecd-4680-92a9-af7bb8e31311"
      },
      "source": [
        "df2.head()"
      ],
      "execution_count": 66,
      "outputs": [
        {
          "output_type": "execute_result",
          "data": {
            "text/html": [
              "<div>\n",
              "<style scoped>\n",
              "    .dataframe tbody tr th:only-of-type {\n",
              "        vertical-align: middle;\n",
              "    }\n",
              "\n",
              "    .dataframe tbody tr th {\n",
              "        vertical-align: top;\n",
              "    }\n",
              "\n",
              "    .dataframe thead th {\n",
              "        text-align: right;\n",
              "    }\n",
              "</style>\n",
              "<table border=\"1\" class=\"dataframe\">\n",
              "  <thead>\n",
              "    <tr style=\"text-align: right;\">\n",
              "      <th></th>\n",
              "      <th>PassengerId</th>\n",
              "      <th>Pclass</th>\n",
              "      <th>Name</th>\n",
              "      <th>Sex</th>\n",
              "      <th>Age</th>\n",
              "      <th>SibSp</th>\n",
              "      <th>Parch</th>\n",
              "      <th>Ticket</th>\n",
              "      <th>Fare</th>\n",
              "      <th>Embarked</th>\n",
              "    </tr>\n",
              "  </thead>\n",
              "  <tbody>\n",
              "    <tr>\n",
              "      <th>0</th>\n",
              "      <td>892</td>\n",
              "      <td>3</td>\n",
              "      <td>Kelly, Mr. James</td>\n",
              "      <td>1</td>\n",
              "      <td>34.5</td>\n",
              "      <td>0</td>\n",
              "      <td>0</td>\n",
              "      <td>330911</td>\n",
              "      <td>7.8292</td>\n",
              "      <td>1</td>\n",
              "    </tr>\n",
              "    <tr>\n",
              "      <th>1</th>\n",
              "      <td>893</td>\n",
              "      <td>3</td>\n",
              "      <td>Wilkes, Mrs. James (Ellen Needs)</td>\n",
              "      <td>0</td>\n",
              "      <td>47.0</td>\n",
              "      <td>1</td>\n",
              "      <td>0</td>\n",
              "      <td>363272</td>\n",
              "      <td>7.0000</td>\n",
              "      <td>2</td>\n",
              "    </tr>\n",
              "    <tr>\n",
              "      <th>2</th>\n",
              "      <td>894</td>\n",
              "      <td>2</td>\n",
              "      <td>Myles, Mr. Thomas Francis</td>\n",
              "      <td>1</td>\n",
              "      <td>62.0</td>\n",
              "      <td>0</td>\n",
              "      <td>0</td>\n",
              "      <td>240276</td>\n",
              "      <td>9.6875</td>\n",
              "      <td>1</td>\n",
              "    </tr>\n",
              "    <tr>\n",
              "      <th>3</th>\n",
              "      <td>895</td>\n",
              "      <td>3</td>\n",
              "      <td>Wirz, Mr. Albert</td>\n",
              "      <td>1</td>\n",
              "      <td>27.0</td>\n",
              "      <td>0</td>\n",
              "      <td>0</td>\n",
              "      <td>315154</td>\n",
              "      <td>8.6625</td>\n",
              "      <td>2</td>\n",
              "    </tr>\n",
              "    <tr>\n",
              "      <th>4</th>\n",
              "      <td>896</td>\n",
              "      <td>3</td>\n",
              "      <td>Hirvonen, Mrs. Alexander (Helga E Lindqvist)</td>\n",
              "      <td>0</td>\n",
              "      <td>22.0</td>\n",
              "      <td>1</td>\n",
              "      <td>1</td>\n",
              "      <td>3101298</td>\n",
              "      <td>12.2875</td>\n",
              "      <td>2</td>\n",
              "    </tr>\n",
              "  </tbody>\n",
              "</table>\n",
              "</div>"
            ],
            "text/plain": [
              "   PassengerId  Pclass  ...     Fare  Embarked\n",
              "0          892       3  ...   7.8292         1\n",
              "1          893       3  ...   7.0000         2\n",
              "2          894       2  ...   9.6875         1\n",
              "3          895       3  ...   8.6625         2\n",
              "4          896       3  ...  12.2875         2\n",
              "\n",
              "[5 rows x 10 columns]"
            ]
          },
          "metadata": {
            "tags": []
          },
          "execution_count": 66
        }
      ]
    },
    {
      "cell_type": "markdown",
      "metadata": {
        "id": "cCOJoemOlLbC",
        "colab_type": "text"
      },
      "source": [
        "Prediction on Test DataSet"
      ]
    },
    {
      "cell_type": "code",
      "metadata": {
        "id": "BQZRaSPAlJ3z",
        "colab_type": "code",
        "colab": {
          "base_uri": "https://localhost:8080/",
          "height": 204
        },
        "outputId": "e4736d71-264c-4694-e60c-e5dbdbffe56b"
      },
      "source": [
        "imp = df2[['Age', 'Sex', 'Fare','Pclass']]\n",
        "imp.head()"
      ],
      "execution_count": 68,
      "outputs": [
        {
          "output_type": "execute_result",
          "data": {
            "text/html": [
              "<div>\n",
              "<style scoped>\n",
              "    .dataframe tbody tr th:only-of-type {\n",
              "        vertical-align: middle;\n",
              "    }\n",
              "\n",
              "    .dataframe tbody tr th {\n",
              "        vertical-align: top;\n",
              "    }\n",
              "\n",
              "    .dataframe thead th {\n",
              "        text-align: right;\n",
              "    }\n",
              "</style>\n",
              "<table border=\"1\" class=\"dataframe\">\n",
              "  <thead>\n",
              "    <tr style=\"text-align: right;\">\n",
              "      <th></th>\n",
              "      <th>Age</th>\n",
              "      <th>Sex</th>\n",
              "      <th>Fare</th>\n",
              "      <th>Pclass</th>\n",
              "    </tr>\n",
              "  </thead>\n",
              "  <tbody>\n",
              "    <tr>\n",
              "      <th>0</th>\n",
              "      <td>34.5</td>\n",
              "      <td>1</td>\n",
              "      <td>7.8292</td>\n",
              "      <td>3</td>\n",
              "    </tr>\n",
              "    <tr>\n",
              "      <th>1</th>\n",
              "      <td>47.0</td>\n",
              "      <td>0</td>\n",
              "      <td>7.0000</td>\n",
              "      <td>3</td>\n",
              "    </tr>\n",
              "    <tr>\n",
              "      <th>2</th>\n",
              "      <td>62.0</td>\n",
              "      <td>1</td>\n",
              "      <td>9.6875</td>\n",
              "      <td>2</td>\n",
              "    </tr>\n",
              "    <tr>\n",
              "      <th>3</th>\n",
              "      <td>27.0</td>\n",
              "      <td>1</td>\n",
              "      <td>8.6625</td>\n",
              "      <td>3</td>\n",
              "    </tr>\n",
              "    <tr>\n",
              "      <th>4</th>\n",
              "      <td>22.0</td>\n",
              "      <td>0</td>\n",
              "      <td>12.2875</td>\n",
              "      <td>3</td>\n",
              "    </tr>\n",
              "  </tbody>\n",
              "</table>\n",
              "</div>"
            ],
            "text/plain": [
              "    Age  Sex     Fare  Pclass\n",
              "0  34.5    1   7.8292       3\n",
              "1  47.0    0   7.0000       3\n",
              "2  62.0    1   9.6875       2\n",
              "3  27.0    1   8.6625       3\n",
              "4  22.0    0  12.2875       3"
            ]
          },
          "metadata": {
            "tags": []
          },
          "execution_count": 68
        }
      ]
    },
    {
      "cell_type": "code",
      "metadata": {
        "id": "J7tqinKIlPYD",
        "colab_type": "code",
        "colab": {}
      },
      "source": [
        "y_pred = model.predict(imp)"
      ],
      "execution_count": 69,
      "outputs": []
    },
    {
      "cell_type": "code",
      "metadata": {
        "id": "j6VCf_a-lRM4",
        "colab_type": "code",
        "colab": {
          "base_uri": "https://localhost:8080/",
          "height": 340
        },
        "outputId": "4db0f084-41db-41e3-d2c1-12945c9f7be9"
      },
      "source": [
        "y_pred"
      ],
      "execution_count": 70,
      "outputs": [
        {
          "output_type": "execute_result",
          "data": {
            "text/plain": [
              "array([0, 1, 0, 0, 0, 0, 0, 0, 1, 0, 0, 0, 1, 0, 1, 1, 0, 0, 1, 1, 0, 1,\n",
              "       1, 0, 1, 0, 1, 0, 0, 0, 0, 0, 1, 0, 1, 0, 0, 0, 0, 1, 0, 0, 0, 1,\n",
              "       1, 0, 0, 0, 1, 1, 0, 0, 1, 1, 0, 0, 0, 0, 0, 1, 0, 0, 0, 1, 1, 1,\n",
              "       1, 0, 0, 1, 1, 0, 0, 1, 1, 1, 0, 1, 0, 1, 1, 0, 0, 0, 0, 0, 1, 1,\n",
              "       1, 1, 0, 0, 1, 0, 1, 0, 1, 0, 1, 0, 1, 0, 0, 0, 1, 0, 0, 0, 0, 0,\n",
              "       0, 1, 1, 1, 1, 0, 0, 1, 1, 1, 1, 0, 1, 0, 0, 0, 0, 1, 0, 0, 0, 1,\n",
              "       0, 0, 0, 0, 0, 0, 0, 0, 0, 0, 0, 0, 0, 0, 0, 0, 0, 0, 1, 0, 0, 0,\n",
              "       0, 1, 1, 0, 1, 1, 1, 1, 0, 0, 1, 1, 0, 1, 0, 0, 0, 0, 0, 0, 1, 1,\n",
              "       0, 1, 1, 0, 0, 1, 0, 1, 0, 1, 0, 0, 0, 0, 0, 1, 0, 1, 0, 1, 1, 0,\n",
              "       0, 1, 1, 0, 1, 0, 0, 1, 0, 1, 0, 0, 0, 0, 1, 1, 0, 1, 0, 1, 0, 1,\n",
              "       0, 1, 0, 1, 0, 0, 1, 0, 0, 0, 1, 0, 0, 0, 0, 0, 0, 1, 1, 1, 1, 0,\n",
              "       0, 0, 0, 1, 0, 1, 0, 1, 0, 1, 0, 0, 0, 0, 0, 1, 0, 0, 0, 1, 1, 0,\n",
              "       0, 0, 0, 0, 0, 0, 0, 1, 1, 0, 1, 0, 0, 0, 0, 0, 1, 1, 0, 0, 0, 0,\n",
              "       0, 0, 0, 0, 0, 0, 0, 0, 0, 1, 0, 0, 0, 0, 0, 0, 0, 1, 1, 1, 1, 0,\n",
              "       0, 0, 0, 0, 1, 1, 1, 0, 0, 0, 0, 0, 0, 0, 1, 1, 0, 1, 0, 0, 0, 1,\n",
              "       0, 0, 0, 0, 0, 0, 0, 0, 0, 0, 0, 0, 1, 0, 1, 0, 1, 0, 1, 1, 0, 0,\n",
              "       0, 0, 0, 1, 0, 0, 1, 0, 1, 1, 0, 1, 0, 0, 0, 1, 0, 0, 1, 0, 0, 1,\n",
              "       1, 0, 0, 0, 0, 0, 0, 0, 0, 0, 1, 0, 0, 0, 0, 0, 1, 0, 0, 0, 1, 0,\n",
              "       1, 0, 0, 1, 0, 1, 0, 0, 0, 0, 0, 1, 1, 1, 1, 1, 0, 1, 0, 0, 0])"
            ]
          },
          "metadata": {
            "tags": []
          },
          "execution_count": 70
        }
      ]
    },
    {
      "cell_type": "markdown",
      "metadata": {
        "id": "v_iIGYeTlTvp",
        "colab_type": "text"
      },
      "source": [
        "Stroting Result into DataFrame"
      ]
    },
    {
      "cell_type": "code",
      "metadata": {
        "id": "TF3P8-KOlUOI",
        "colab_type": "code",
        "colab": {}
      },
      "source": [
        "result = pd.DataFrame({'PassengerId': test_data['PassengerId'], 'Survived': y_pred })"
      ],
      "execution_count": 71,
      "outputs": []
    },
    {
      "cell_type": "code",
      "metadata": {
        "id": "6HMcNa6PlXFo",
        "colab_type": "code",
        "colab": {
          "base_uri": "https://localhost:8080/",
          "height": 419
        },
        "outputId": "22480de9-9475-469e-9913-2990698b5f67"
      },
      "source": [
        "\n",
        "result"
      ],
      "execution_count": 72,
      "outputs": [
        {
          "output_type": "execute_result",
          "data": {
            "text/html": [
              "<div>\n",
              "<style scoped>\n",
              "    .dataframe tbody tr th:only-of-type {\n",
              "        vertical-align: middle;\n",
              "    }\n",
              "\n",
              "    .dataframe tbody tr th {\n",
              "        vertical-align: top;\n",
              "    }\n",
              "\n",
              "    .dataframe thead th {\n",
              "        text-align: right;\n",
              "    }\n",
              "</style>\n",
              "<table border=\"1\" class=\"dataframe\">\n",
              "  <thead>\n",
              "    <tr style=\"text-align: right;\">\n",
              "      <th></th>\n",
              "      <th>PassengerId</th>\n",
              "      <th>Survived</th>\n",
              "    </tr>\n",
              "  </thead>\n",
              "  <tbody>\n",
              "    <tr>\n",
              "      <th>0</th>\n",
              "      <td>892</td>\n",
              "      <td>0</td>\n",
              "    </tr>\n",
              "    <tr>\n",
              "      <th>1</th>\n",
              "      <td>893</td>\n",
              "      <td>1</td>\n",
              "    </tr>\n",
              "    <tr>\n",
              "      <th>2</th>\n",
              "      <td>894</td>\n",
              "      <td>0</td>\n",
              "    </tr>\n",
              "    <tr>\n",
              "      <th>3</th>\n",
              "      <td>895</td>\n",
              "      <td>0</td>\n",
              "    </tr>\n",
              "    <tr>\n",
              "      <th>4</th>\n",
              "      <td>896</td>\n",
              "      <td>0</td>\n",
              "    </tr>\n",
              "    <tr>\n",
              "      <th>...</th>\n",
              "      <td>...</td>\n",
              "      <td>...</td>\n",
              "    </tr>\n",
              "    <tr>\n",
              "      <th>412</th>\n",
              "      <td>1305</td>\n",
              "      <td>0</td>\n",
              "    </tr>\n",
              "    <tr>\n",
              "      <th>413</th>\n",
              "      <td>1306</td>\n",
              "      <td>1</td>\n",
              "    </tr>\n",
              "    <tr>\n",
              "      <th>414</th>\n",
              "      <td>1307</td>\n",
              "      <td>0</td>\n",
              "    </tr>\n",
              "    <tr>\n",
              "      <th>415</th>\n",
              "      <td>1308</td>\n",
              "      <td>0</td>\n",
              "    </tr>\n",
              "    <tr>\n",
              "      <th>416</th>\n",
              "      <td>1309</td>\n",
              "      <td>0</td>\n",
              "    </tr>\n",
              "  </tbody>\n",
              "</table>\n",
              "<p>417 rows × 2 columns</p>\n",
              "</div>"
            ],
            "text/plain": [
              "     PassengerId  Survived\n",
              "0            892         0\n",
              "1            893         1\n",
              "2            894         0\n",
              "3            895         0\n",
              "4            896         0\n",
              "..           ...       ...\n",
              "412         1305         0\n",
              "413         1306         1\n",
              "414         1307         0\n",
              "415         1308         0\n",
              "416         1309         0\n",
              "\n",
              "[417 rows x 2 columns]"
            ]
          },
          "metadata": {
            "tags": []
          },
          "execution_count": 72
        }
      ]
    },
    {
      "cell_type": "markdown",
      "metadata": {
        "id": "nIAjAcJZlZWL",
        "colab_type": "text"
      },
      "source": [
        "Converting Dataframe to CSV File"
      ]
    },
    {
      "cell_type": "code",
      "metadata": {
        "id": "p52_eADllZwQ",
        "colab_type": "code",
        "colab": {}
      },
      "source": [
        "result.to_csv('TitanicPrediction.csv', index=False)"
      ],
      "execution_count": 73,
      "outputs": []
    },
    {
      "cell_type": "markdown",
      "metadata": {
        "id": "cUO_g8ShlcZC",
        "colab_type": "text"
      },
      "source": [
        "## Loading predicted Output"
      ]
    },
    {
      "cell_type": "code",
      "metadata": {
        "id": "uW5sRNt7lcxg",
        "colab_type": "code",
        "colab": {
          "base_uri": "https://localhost:8080/",
          "height": 204
        },
        "outputId": "54a69339-6896-451b-82e6-410c88f4d284"
      },
      "source": [
        "output = pd.read_csv('TitanicPrediction.csv')\n",
        "output.head()"
      ],
      "execution_count": 74,
      "outputs": [
        {
          "output_type": "execute_result",
          "data": {
            "text/html": [
              "<div>\n",
              "<style scoped>\n",
              "    .dataframe tbody tr th:only-of-type {\n",
              "        vertical-align: middle;\n",
              "    }\n",
              "\n",
              "    .dataframe tbody tr th {\n",
              "        vertical-align: top;\n",
              "    }\n",
              "\n",
              "    .dataframe thead th {\n",
              "        text-align: right;\n",
              "    }\n",
              "</style>\n",
              "<table border=\"1\" class=\"dataframe\">\n",
              "  <thead>\n",
              "    <tr style=\"text-align: right;\">\n",
              "      <th></th>\n",
              "      <th>PassengerId</th>\n",
              "      <th>Survived</th>\n",
              "    </tr>\n",
              "  </thead>\n",
              "  <tbody>\n",
              "    <tr>\n",
              "      <th>0</th>\n",
              "      <td>892</td>\n",
              "      <td>0</td>\n",
              "    </tr>\n",
              "    <tr>\n",
              "      <th>1</th>\n",
              "      <td>893</td>\n",
              "      <td>1</td>\n",
              "    </tr>\n",
              "    <tr>\n",
              "      <th>2</th>\n",
              "      <td>894</td>\n",
              "      <td>0</td>\n",
              "    </tr>\n",
              "    <tr>\n",
              "      <th>3</th>\n",
              "      <td>895</td>\n",
              "      <td>0</td>\n",
              "    </tr>\n",
              "    <tr>\n",
              "      <th>4</th>\n",
              "      <td>896</td>\n",
              "      <td>0</td>\n",
              "    </tr>\n",
              "  </tbody>\n",
              "</table>\n",
              "</div>"
            ],
            "text/plain": [
              "   PassengerId  Survived\n",
              "0          892         0\n",
              "1          893         1\n",
              "2          894         0\n",
              "3          895         0\n",
              "4          896         0"
            ]
          },
          "metadata": {
            "tags": []
          },
          "execution_count": 74
        }
      ]
    }
  ]
}