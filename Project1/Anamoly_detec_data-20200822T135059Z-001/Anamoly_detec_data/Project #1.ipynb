{
 "cells": [
  {
   "cell_type": "markdown",
   "metadata": {},
   "source": [
    "# Anomaly Detection"
   ]
  },
  {
   "cell_type": "code",
   "execution_count": 1,
   "metadata": {},
   "outputs": [],
   "source": [
    "#Importing essential modules\n",
    "import os\n",
    "import sys\n",
    "import numpy as np\n",
    "import pandas as pd\n",
    "\n",
    "from sklearn.model_selection import train_test_split\n",
    "from scipy.io import loadmat"
   ]
  },
  {
   "cell_type": "code",
   "execution_count": 2,
   "metadata": {},
   "outputs": [
    {
     "name": "stderr",
     "output_type": "stream",
     "text": [
      "C:\\Users\\ishan\\anaconda3\\lib\\site-packages\\sklearn\\utils\\deprecation.py:143: FutureWarning: The sklearn.utils.testing module is  deprecated in version 0.22 and will be removed in version 0.24. The corresponding classes / functions should instead be imported from sklearn.utils. Anything that cannot be imported from sklearn.utils is now part of the private API.\n",
      "  warnings.warn(message, FutureWarning)\n"
     ]
    }
   ],
   "source": [
    "#Importing pyod methods\n",
    "from pyod.models.pca import PCA\n",
    "from pyod.models.mcd import MCD\n",
    "from pyod.models.ocsvm import OCSVM\n",
    "from pyod.models.lof import LOF\n",
    "from pyod.models.cblof import CBLOF\n",
    "from pyod.models.knn import KNN\n",
    "from pyod.models.hbos import HBOS\n",
    "from pyod.models.abod import ABOD\n",
    "from pyod.models.iforest import IForest\n",
    "from pyod.models.feature_bagging import FeatureBagging"
   ]
  },
  {
   "cell_type": "markdown",
   "metadata": {},
   "source": [
    "# Importing metrics"
   ]
  },
  {
   "cell_type": "code",
   "execution_count": 3,
   "metadata": {},
   "outputs": [],
   "source": [
    "from pyod.utils.utility import standardizer\n",
    "from pyod.utils.utility import precision_n_scores\n",
    "from sklearn.metrics import roc_auc_score"
   ]
  },
  {
   "cell_type": "code",
   "execution_count": 4,
   "metadata": {},
   "outputs": [],
   "source": [
    "#Assigning all the datasets to a list\n",
    "mat_file_list = ['arrhythmia.mat','cardio.mat',\n",
    "                 'glass.mat','ionosphere.mat',\n",
    "                 'letter.mat','lympho.mat',\n",
    "                 'mnist.mat','musk.mat',\n",
    "                 'optdigits.mat','pendigits.mat',\n",
    "                 'pima.mat','satellite.mat',\n",
    "                 'satimage-2.mat','shuttle.mat',\n",
    "                 'vertebral.mat','vowels.mat','wbc.mat']"
   ]
  },
  {
   "cell_type": "code",
   "execution_count": 5,
   "metadata": {},
   "outputs": [
    {
     "data": {
      "text/plain": [
       "['arrhythmia.mat',\n",
       " 'cardio.mat',\n",
       " 'glass.mat',\n",
       " 'ionosphere.mat',\n",
       " 'letter.mat',\n",
       " 'lympho.mat',\n",
       " 'mnist.mat',\n",
       " 'musk.mat',\n",
       " 'optdigits.mat',\n",
       " 'pendigits.mat',\n",
       " 'pima.mat',\n",
       " 'satellite.mat',\n",
       " 'satimage-2.mat',\n",
       " 'shuttle.mat',\n",
       " 'vertebral.mat',\n",
       " 'vowels.mat',\n",
       " 'wbc.mat']"
      ]
     },
     "execution_count": 5,
     "metadata": {},
     "output_type": "execute_result"
    }
   ],
   "source": [
    "mat_file_list"
   ]
  },
  {
   "cell_type": "code",
   "execution_count": 6,
   "metadata": {},
   "outputs": [
    {
     "data": {
      "text/plain": [
       "17"
      ]
     },
     "execution_count": 6,
     "metadata": {},
     "output_type": "execute_result"
    }
   ],
   "source": [
    "len(mat_file_list)"
   ]
  },
  {
   "cell_type": "code",
   "execution_count": 7,
   "metadata": {},
   "outputs": [],
   "source": [
    "#Making a list of the column name to record the result\n",
    "df_columns=['Data','#Sample','#Dimensions','Outlier Perc','PCA','MCD','OCSVM','LOF','CBLOF','KNN','HBOS','ABOD','IFOREST','FEATUREBAGGING']"
   ]
  },
  {
   "cell_type": "markdown",
   "metadata": {},
   "source": [
    "# ROC Performance evolution table"
   ]
  },
  {
   "cell_type": "code",
   "execution_count": 44,
   "metadata": {},
   "outputs": [],
   "source": [
    "roc_df=pd.DataFrame(columns=df_columns)"
   ]
  },
  {
   "cell_type": "code",
   "execution_count": 45,
   "metadata": {},
   "outputs": [
    {
     "data": {
      "text/html": [
       "<div>\n",
       "<style scoped>\n",
       "    .dataframe tbody tr th:only-of-type {\n",
       "        vertical-align: middle;\n",
       "    }\n",
       "\n",
       "    .dataframe tbody tr th {\n",
       "        vertical-align: top;\n",
       "    }\n",
       "\n",
       "    .dataframe thead th {\n",
       "        text-align: right;\n",
       "    }\n",
       "</style>\n",
       "<table border=\"1\" class=\"dataframe\">\n",
       "  <thead>\n",
       "    <tr style=\"text-align: right;\">\n",
       "      <th></th>\n",
       "      <th>Data</th>\n",
       "      <th>#Sample</th>\n",
       "      <th>#Dimensions</th>\n",
       "      <th>Outlier Perc</th>\n",
       "      <th>PCA</th>\n",
       "      <th>MCD</th>\n",
       "      <th>OCSVM</th>\n",
       "      <th>LOF</th>\n",
       "      <th>CBLOF</th>\n",
       "      <th>KNN</th>\n",
       "      <th>HBOS</th>\n",
       "      <th>ABOD</th>\n",
       "      <th>IFOREST</th>\n",
       "      <th>FEATUREBAGGING</th>\n",
       "    </tr>\n",
       "  </thead>\n",
       "  <tbody>\n",
       "  </tbody>\n",
       "</table>\n",
       "</div>"
      ],
      "text/plain": [
       "Empty DataFrame\n",
       "Columns: [Data, #Sample, #Dimensions, Outlier Perc, PCA, MCD, OCSVM, LOF, CBLOF, KNN, HBOS, ABOD, IFOREST, FEATUREBAGGING]\n",
       "Index: []"
      ]
     },
     "execution_count": 45,
     "metadata": {},
     "output_type": "execute_result"
    }
   ],
   "source": [
    "roc_df"
   ]
  },
  {
   "cell_type": "markdown",
   "metadata": {},
   "source": [
    "# Precision_n_scores-Performance evolution table"
   ]
  },
  {
   "cell_type": "code",
   "execution_count": 47,
   "metadata": {},
   "outputs": [],
   "source": [
    "prn_df=pd.DataFrame(columns=df_columns)\n"
   ]
  },
  {
   "cell_type": "code",
   "execution_count": 48,
   "metadata": {},
   "outputs": [
    {
     "data": {
      "text/html": [
       "<div>\n",
       "<style scoped>\n",
       "    .dataframe tbody tr th:only-of-type {\n",
       "        vertical-align: middle;\n",
       "    }\n",
       "\n",
       "    .dataframe tbody tr th {\n",
       "        vertical-align: top;\n",
       "    }\n",
       "\n",
       "    .dataframe thead th {\n",
       "        text-align: right;\n",
       "    }\n",
       "</style>\n",
       "<table border=\"1\" class=\"dataframe\">\n",
       "  <thead>\n",
       "    <tr style=\"text-align: right;\">\n",
       "      <th></th>\n",
       "      <th>Data</th>\n",
       "      <th>#Sample</th>\n",
       "      <th>#Dimensions</th>\n",
       "      <th>Outlier Perc</th>\n",
       "      <th>PCA</th>\n",
       "      <th>MCD</th>\n",
       "      <th>OCSVM</th>\n",
       "      <th>LOF</th>\n",
       "      <th>CBLOF</th>\n",
       "      <th>KNN</th>\n",
       "      <th>HBOS</th>\n",
       "      <th>ABOD</th>\n",
       "      <th>IFOREST</th>\n",
       "      <th>FEATUREBAGGING</th>\n",
       "    </tr>\n",
       "  </thead>\n",
       "  <tbody>\n",
       "  </tbody>\n",
       "</table>\n",
       "</div>"
      ],
      "text/plain": [
       "Empty DataFrame\n",
       "Columns: [Data, #Sample, #Dimensions, Outlier Perc, PCA, MCD, OCSVM, LOF, CBLOF, KNN, HBOS, ABOD, IFOREST, FEATUREBAGGING]\n",
       "Index: []"
      ]
     },
     "execution_count": 48,
     "metadata": {},
     "output_type": "execute_result"
    }
   ],
   "source": [
    "prn_df"
   ]
  },
  {
   "cell_type": "code",
   "execution_count": 49,
   "metadata": {},
   "outputs": [],
   "source": [
    "time_df=pd.DataFrame(columns=df_columns)\n"
   ]
  },
  {
   "cell_type": "code",
   "execution_count": 50,
   "metadata": {},
   "outputs": [
    {
     "data": {
      "text/html": [
       "<div>\n",
       "<style scoped>\n",
       "    .dataframe tbody tr th:only-of-type {\n",
       "        vertical-align: middle;\n",
       "    }\n",
       "\n",
       "    .dataframe tbody tr th {\n",
       "        vertical-align: top;\n",
       "    }\n",
       "\n",
       "    .dataframe thead th {\n",
       "        text-align: right;\n",
       "    }\n",
       "</style>\n",
       "<table border=\"1\" class=\"dataframe\">\n",
       "  <thead>\n",
       "    <tr style=\"text-align: right;\">\n",
       "      <th></th>\n",
       "      <th>Data</th>\n",
       "      <th>#Sample</th>\n",
       "      <th>#Dimensions</th>\n",
       "      <th>Outlier Perc</th>\n",
       "      <th>PCA</th>\n",
       "      <th>MCD</th>\n",
       "      <th>OCSVM</th>\n",
       "      <th>LOF</th>\n",
       "      <th>CBLOF</th>\n",
       "      <th>KNN</th>\n",
       "      <th>HBOS</th>\n",
       "      <th>ABOD</th>\n",
       "      <th>IFOREST</th>\n",
       "      <th>FEATUREBAGGING</th>\n",
       "    </tr>\n",
       "  </thead>\n",
       "  <tbody>\n",
       "  </tbody>\n",
       "</table>\n",
       "</div>"
      ],
      "text/plain": [
       "Empty DataFrame\n",
       "Columns: [Data, #Sample, #Dimensions, Outlier Perc, PCA, MCD, OCSVM, LOF, CBLOF, KNN, HBOS, ABOD, IFOREST, FEATUREBAGGING]\n",
       "Index: []"
      ]
     },
     "execution_count": 50,
     "metadata": {},
     "output_type": "execute_result"
    }
   ],
   "source": [
    "time_df"
   ]
  },
  {
   "cell_type": "code",
   "execution_count": 51,
   "metadata": {},
   "outputs": [
    {
     "name": "stdout",
     "output_type": "stream",
     "text": [
      "Empty DataFrame\n",
      "Columns: [Data, #Sample, #Dimensions, Outlier Perc, PCA, MCD, OCSVM, LOF, CBLOF, KNN, HBOS, ABOD, IFOREST, FEATUREBAGGING]\n",
      "Index: [] Empty DataFrame\n",
      "Columns: [Data, #Sample, #Dimensions, Outlier Perc, PCA, MCD, OCSVM, LOF, CBLOF, KNN, HBOS, ABOD, IFOREST, FEATUREBAGGING]\n",
      "Index: [] Empty DataFrame\n",
      "Columns: [Data, #Sample, #Dimensions, Outlier Perc, PCA, MCD, OCSVM, LOF, CBLOF, KNN, HBOS, ABOD, IFOREST, FEATUREBAGGING]\n",
      "Index: []\n"
     ]
    }
   ],
   "source": [
    "print(roc_df,prn_df,time_df)"
   ]
  },
  {
   "cell_type": "code",
   "execution_count": 26,
   "metadata": {},
   "outputs": [],
   "source": [
    "data=loadmat('Data/cardio.mat')"
   ]
  },
  {
   "cell_type": "code",
   "execution_count": 27,
   "metadata": {},
   "outputs": [
    {
     "data": {
      "text/plain": [
       "{'__header__': b'MATLAB 5.0 MAT-file, written by Octave 3.8.0, 2014-12-18 10:48:09 UTC',\n",
       " '__version__': '1.0',\n",
       " '__globals__': [],\n",
       " 'X': array([[ 0.00491231,  0.69319077, -0.20364049, ...,  0.23149795,\n",
       "         -0.28978574, -0.49329397],\n",
       "        [ 0.11072935, -0.07990259, -0.20364049, ...,  0.09356344,\n",
       "         -0.25638541, -0.49329397],\n",
       "        [ 0.21654639, -0.27244466, -0.20364049, ...,  0.02459619,\n",
       "         -0.25638541,  1.14001753],\n",
       "        ...,\n",
       "        [-0.41835583, -0.91998844, -0.16463485, ..., -1.49268341,\n",
       "          0.24461959, -0.49329397],\n",
       "        [-0.41835583, -0.91998844, -0.15093411, ..., -1.42371616,\n",
       "          0.14441859, -0.49329397],\n",
       "        [-0.41835583, -0.91998844, -0.20364049, ..., -1.28578165,\n",
       "          3.58465295, -0.49329397]]),\n",
       " 'y': array([[0.],\n",
       "        [0.],\n",
       "        [0.],\n",
       "        ...,\n",
       "        [1.],\n",
       "        [1.],\n",
       "        [1.]])}"
      ]
     },
     "execution_count": 27,
     "metadata": {},
     "output_type": "execute_result"
    }
   ],
   "source": [
    "data"
   ]
  },
  {
   "cell_type": "code",
   "execution_count": 28,
   "metadata": {},
   "outputs": [
    {
     "data": {
      "text/plain": [
       "5"
      ]
     },
     "execution_count": 28,
     "metadata": {},
     "output_type": "execute_result"
    }
   ],
   "source": [
    "len(data)"
   ]
  },
  {
   "cell_type": "code",
   "execution_count": 30,
   "metadata": {},
   "outputs": [
    {
     "data": {
      "text/plain": [
       "dict_keys(['__header__', '__version__', '__globals__', 'X', 'y'])"
      ]
     },
     "execution_count": 30,
     "metadata": {},
     "output_type": "execute_result"
    }
   ],
   "source": [
    "data.keys()"
   ]
  },
  {
   "cell_type": "code",
   "execution_count": 31,
   "metadata": {},
   "outputs": [
    {
     "data": {
      "text/plain": [
       "dict_values([b'MATLAB 5.0 MAT-file, written by Octave 3.8.0, 2014-12-18 10:48:09 UTC', '1.0', [], array([[ 0.00491231,  0.69319077, -0.20364049, ...,  0.23149795,\n",
       "        -0.28978574, -0.49329397],\n",
       "       [ 0.11072935, -0.07990259, -0.20364049, ...,  0.09356344,\n",
       "        -0.25638541, -0.49329397],\n",
       "       [ 0.21654639, -0.27244466, -0.20364049, ...,  0.02459619,\n",
       "        -0.25638541,  1.14001753],\n",
       "       ...,\n",
       "       [-0.41835583, -0.91998844, -0.16463485, ..., -1.49268341,\n",
       "         0.24461959, -0.49329397],\n",
       "       [-0.41835583, -0.91998844, -0.15093411, ..., -1.42371616,\n",
       "         0.14441859, -0.49329397],\n",
       "       [-0.41835583, -0.91998844, -0.20364049, ..., -1.28578165,\n",
       "         3.58465295, -0.49329397]]), array([[0.],\n",
       "       [0.],\n",
       "       [0.],\n",
       "       ...,\n",
       "       [1.],\n",
       "       [1.],\n",
       "       [1.]])])"
      ]
     },
     "execution_count": 31,
     "metadata": {},
     "output_type": "execute_result"
    }
   ],
   "source": [
    "data.values()"
   ]
  },
  {
   "cell_type": "code",
   "execution_count": 32,
   "metadata": {},
   "outputs": [
    {
     "data": {
      "text/plain": [
       "(numpy.ndarray, (1831, 21))"
      ]
     },
     "execution_count": 32,
     "metadata": {},
     "output_type": "execute_result"
    }
   ],
   "source": [
    "type(data['X']),data['X'].shape"
   ]
  },
  {
   "cell_type": "code",
   "execution_count": 33,
   "metadata": {},
   "outputs": [
    {
     "data": {
      "text/plain": [
       "(numpy.ndarray, (1831, 1))"
      ]
     },
     "execution_count": 33,
     "metadata": {},
     "output_type": "execute_result"
    }
   ],
   "source": [
    "type(data['y']),data['y'].shape"
   ]
  },
  {
   "cell_type": "code",
   "execution_count": 34,
   "metadata": {},
   "outputs": [
    {
     "name": "stdout",
     "output_type": "stream",
     "text": [
      "\n",
      "... Processing arrhythmia.mat ...\n",
      "Angle-based Outlier Detector (ABOD) ROC:0.7687, precision @ rank n:0.3571, execution time: 2.2663s\n"
     ]
    },
    {
     "name": "stderr",
     "output_type": "stream",
     "text": [
      "C:\\Users\\ishan\\anaconda3\\lib\\site-packages\\sklearn\\cluster\\_kmeans.py:973: FutureWarning: 'n_jobs' was deprecated in version 0.23 and will be removed in 0.25.\n",
      "  warnings.warn(\"'n_jobs' was deprecated in version 0.23 and will be\"\n"
     ]
    },
    {
     "name": "stdout",
     "output_type": "stream",
     "text": [
      "Cluster-based Local Outlier Factor ROC:0.7684, precision @ rank n:0.4643, execution time: 1.7708s\n",
      "Feature Bagging ROC:0.7799, precision @ rank n:0.5, execution time: 0.5007s\n",
      "Histogram-base Outlier Detection (HBOS) ROC:0.8511, precision @ rank n:0.5714, execution time: 1.3205s\n",
      "Isolation Forest ROC:0.8478, precision @ rank n:0.5357, execution time: 0.3954s\n",
      "K Nearest Neighbors (KNN) ROC:0.782, precision @ rank n:0.5, execution time: 0.0708s\n",
      "Local Outlier Factor (LOF) ROC:0.7787, precision @ rank n:0.4643, execution time: 0.0588s\n"
     ]
    },
    {
     "name": "stderr",
     "output_type": "stream",
     "text": [
      "C:\\Users\\ishan\\anaconda3\\lib\\site-packages\\sklearn\\covariance\\_robust_covariance.py:647: UserWarning: The covariance matrix associated to your dataset is not full rank\n",
      "  warnings.warn(\"The covariance matrix associated to your dataset \"\n"
     ]
    },
    {
     "name": "stdout",
     "output_type": "stream",
     "text": [
      "Minimum Covariance Determinant (MCD) ROC:0.8228, precision @ rank n:0.4286, execution time: 0.9878s\n",
      "One-class SVM (OCSVM) ROC:0.7986, precision @ rank n:0.5, execution time: 0.0539s\n",
      "Principal Component Analysis (PCA) ROC:0.7997, precision @ rank n:0.5, execution time: 0.1197s\n",
      "\n",
      "... Processing cardio.mat ...\n",
      "Angle-based Outlier Detector (ABOD) ROC:0.5763, precision @ rank n:0.1875, execution time: 0.3212s\n",
      "Cluster-based Local Outlier Factor ROC:0.8221, precision @ rank n:0.4844, execution time: 0.1096s\n"
     ]
    },
    {
     "name": "stderr",
     "output_type": "stream",
     "text": [
      "C:\\Users\\ishan\\anaconda3\\lib\\site-packages\\sklearn\\cluster\\_kmeans.py:973: FutureWarning: 'n_jobs' was deprecated in version 0.23 and will be removed in 0.25.\n",
      "  warnings.warn(\"'n_jobs' was deprecated in version 0.23 and will be\"\n"
     ]
    },
    {
     "name": "stdout",
     "output_type": "stream",
     "text": [
      "Feature Bagging ROC:0.4879, precision @ rank n:0.1406, execution time: 0.6433s\n",
      "Histogram-base Outlier Detection (HBOS) ROC:0.8453, precision @ rank n:0.4688, execution time: 0.0059s\n",
      "Isolation Forest ROC:0.9316, precision @ rank n:0.4531, execution time: 0.3241s\n",
      "K Nearest Neighbors (KNN) ROC:0.6959, precision @ rank n:0.2812, execution time: 0.1197s\n",
      "Local Outlier Factor (LOF) ROC:0.4715, precision @ rank n:0.125, execution time: 0.0768s\n"
     ]
    },
    {
     "name": "stderr",
     "output_type": "stream",
     "text": [
      "C:\\Users\\ishan\\anaconda3\\lib\\site-packages\\sklearn\\covariance\\_robust_covariance.py:647: UserWarning: The covariance matrix associated to your dataset is not full rank\n",
      "  warnings.warn(\"The covariance matrix associated to your dataset \"\n",
      "C:\\Users\\ishan\\anaconda3\\lib\\site-packages\\sklearn\\covariance\\_robust_covariance.py:166: RuntimeWarning: Determinant has increased; this should not happen: log(det) > log(previous_det) (-152.770956835748848 > -250.696836140088948). You may want to try with a higher value of support_fraction (current value: 0.511).\n",
      "  warnings.warn(\"Determinant has increased; this should not happen: \"\n"
     ]
    },
    {
     "name": "stdout",
     "output_type": "stream",
     "text": [
      "Minimum Covariance Determinant (MCD) ROC:0.8778, precision @ rank n:0.3906, execution time: 0.4179s\n",
      "One-class SVM (OCSVM) ROC:0.9507, precision @ rank n:0.5938, execution time: 0.0608s\n",
      "Principal Component Analysis (PCA) ROC:0.9638, precision @ rank n:0.6875, execution time: 0.0248s\n",
      "\n",
      "... Processing glass.mat ...\n",
      "Angle-based Outlier Detector (ABOD) ROC:0.7104, precision @ rank n:0.25, execution time: 0.0309s\n",
      "Cluster-based Local Outlier Factor ROC:0.8506, precision @ rank n:0.25, execution time: 0.0349s\n",
      "Feature Bagging ROC:0.7043, precision @ rank n:0.25, execution time: 0.0289s"
     ]
    },
    {
     "name": "stderr",
     "output_type": "stream",
     "text": [
      "C:\\Users\\ishan\\anaconda3\\lib\\site-packages\\sklearn\\cluster\\_kmeans.py:973: FutureWarning: 'n_jobs' was deprecated in version 0.23 and will be removed in 0.25.\n",
      "  warnings.warn(\"'n_jobs' was deprecated in version 0.23 and will be\"\n"
     ]
    },
    {
     "name": "stdout",
     "output_type": "stream",
     "text": [
      "\n",
      "Histogram-base Outlier Detection (HBOS) ROC:0.6524, precision @ rank n:0.0, execution time: 0.002s\n",
      "Isolation Forest ROC:0.7195, precision @ rank n:0.25, execution time: 0.2833s\n",
      "K Nearest Neighbors (KNN) ROC:0.7805, precision @ rank n:0.25, execution time: 0.007s\n",
      "Local Outlier Factor (LOF) ROC:0.7774, precision @ rank n:0.25, execution time: 0.002s\n",
      "Minimum Covariance Determinant (MCD) ROC:0.7165, precision @ rank n:0.0, execution time: 0.052s\n",
      "One-class SVM (OCSVM) ROC:0.6189, precision @ rank n:0.25, execution time: 0.001s\n",
      "Principal Component Analysis (PCA) ROC:0.622, precision @ rank n:0.25, execution time: 0.002s\n",
      "\n",
      "... Processing ionosphere.mat ...\n",
      "Angle-based Outlier Detector (ABOD) ROC:0.9004, precision @ rank n:0.8214, execution time: 0.0529s\n",
      "Cluster-based Local Outlier Factor ROC:0.8952, precision @ rank n:0.8036, execution time: 0.0379s\n"
     ]
    },
    {
     "name": "stderr",
     "output_type": "stream",
     "text": [
      "C:\\Users\\ishan\\anaconda3\\lib\\site-packages\\sklearn\\cluster\\_kmeans.py:973: FutureWarning: 'n_jobs' was deprecated in version 0.23 and will be removed in 0.25.\n",
      "  warnings.warn(\"'n_jobs' was deprecated in version 0.23 and will be\"\n"
     ]
    },
    {
     "name": "stdout",
     "output_type": "stream",
     "text": [
      "Feature Bagging ROC:0.8933, precision @ rank n:0.75, execution time: 0.0708s\n",
      "Histogram-base Outlier Detection (HBOS) ROC:0.5195, precision @ rank n:0.3393, execution time: 0.008s\n",
      "Isolation Forest ROC:0.8294, precision @ rank n:0.6607, execution time: 0.2972s\n",
      "K Nearest Neighbors (KNN) ROC:0.9134, precision @ rank n:0.8393, execution time: 0.014s\n",
      "Local Outlier Factor (LOF) ROC:0.8989, precision @ rank n:0.75, execution time: 0.005s\n",
      "Minimum Covariance Determinant (MCD) ROC:0.9399, precision @ rank n:0.8571, execution time: 0.0528s\n",
      "One-class SVM (OCSVM) ROC:0.8372, precision @ rank n:0.7143, execution time: 0.004s\n",
      "Principal Component Analysis (PCA) ROC:0.7971, precision @ rank n:0.5893, execution time: 0.0062s\n",
      "\n",
      "... Processing letter.mat ...\n",
      "Angle-based Outlier Detector (ABOD) ROC:0.8465, precision @ rank n:0.275, execution time: 0.3062s\n",
      "Cluster-based Local Outlier Factor ROC:0.7423, precision @ rank n:0.175, execution time: 0.0738s\n"
     ]
    },
    {
     "name": "stderr",
     "output_type": "stream",
     "text": [
      "C:\\Users\\ishan\\anaconda3\\lib\\site-packages\\sklearn\\cluster\\_kmeans.py:973: FutureWarning: 'n_jobs' was deprecated in version 0.23 and will be removed in 0.25.\n",
      "  warnings.warn(\"'n_jobs' was deprecated in version 0.23 and will be\"\n"
     ]
    },
    {
     "name": "stdout",
     "output_type": "stream",
     "text": [
      "Feature Bagging ROC:0.866, precision @ rank n:0.4, execution time: 0.6193s\n",
      "Histogram-base Outlier Detection (HBOS) ROC:0.5728, precision @ rank n:0.125, execution time: 0.008s\n",
      "Isolation Forest ROC:0.5836, precision @ rank n:0.05, execution time: 0.3321s\n",
      "K Nearest Neighbors (KNN) ROC:0.845, precision @ rank n:0.3, execution time: 0.1087s\n",
      "Local Outlier Factor (LOF) ROC:0.8409, precision @ rank n:0.325, execution time: 0.0718s\n",
      "Minimum Covariance Determinant (MCD) ROC:0.7499, precision @ rank n:0.075, execution time: 0.7829s\n",
      "One-class SVM (OCSVM) ROC:0.5744, precision @ rank n:0.1, execution time: 0.0608s\n",
      "Principal Component Analysis (PCA) ROC:0.48, precision @ rank n:0.05, execution time: 0.004s\n",
      "\n",
      "... Processing lympho.mat ...\n",
      "Angle-based Outlier Detector (ABOD) ROC:0.9382, precision @ rank n:0.4, execution time: 0.0329s\n",
      "Cluster-based Local Outlier Factor ROC:0.9709, precision @ rank n:0.6, execution time: 0.0329s\n",
      "Feature Bagging ROC:0.9673, precision @ rank n:0.6, execution time: 0.0249s\n"
     ]
    },
    {
     "name": "stderr",
     "output_type": "stream",
     "text": [
      "C:\\Users\\ishan\\anaconda3\\lib\\site-packages\\sklearn\\cluster\\_kmeans.py:973: FutureWarning: 'n_jobs' was deprecated in version 0.23 and will be removed in 0.25.\n",
      "  warnings.warn(\"'n_jobs' was deprecated in version 0.23 and will be\"\n"
     ]
    },
    {
     "name": "stdout",
     "output_type": "stream",
     "text": [
      "Histogram-base Outlier Detection (HBOS) ROC:0.9964, precision @ rank n:0.8, execution time: 0.004s\n",
      "Isolation Forest ROC:0.9855, precision @ rank n:0.6, execution time: 0.2544s\n",
      "K Nearest Neighbors (KNN) ROC:0.9636, precision @ rank n:0.6, execution time: 0.006s\n",
      "Local Outlier Factor (LOF) ROC:0.9636, precision @ rank n:0.6, execution time: 0.003s\n",
      "Minimum Covariance Determinant (MCD) ROC:0.9164, precision @ rank n:0.6, execution time: 0.0269s\n",
      "One-class SVM (OCSVM) ROC:0.9636, precision @ rank n:0.6, execution time: 0.001s\n",
      "Principal Component Analysis (PCA) ROC:0.9818, precision @ rank n:0.8, execution time: 0.002s\n",
      "\n",
      "... Processing mnist.mat ...\n"
     ]
    },
    {
     "name": "stderr",
     "output_type": "stream",
     "text": [
      "C:\\Users\\ishan\\anaconda3\\lib\\site-packages\\sklearn\\covariance\\_robust_covariance.py:166: RuntimeWarning: Determinant has increased; this should not happen: log(det) > log(previous_det) (-303.881944356529402 > -525.830836350540153). You may want to try with a higher value of support_fraction (current value: 0.614).\n",
      "  warnings.warn(\"Determinant has increased; this should not happen: \"\n",
      "C:\\Users\\ishan\\anaconda3\\lib\\site-packages\\sklearn\\covariance\\_robust_covariance.py:166: RuntimeWarning: Determinant has increased; this should not happen: log(det) > log(previous_det) (-304.021763033307082 > -523.143378896311901). You may want to try with a higher value of support_fraction (current value: 0.614).\n",
      "  warnings.warn(\"Determinant has increased; this should not happen: \"\n",
      "C:\\Users\\ishan\\anaconda3\\lib\\site-packages\\sklearn\\covariance\\_robust_covariance.py:166: RuntimeWarning: Determinant has increased; this should not happen: log(det) > log(previous_det) (-338.921775030610604 > -381.672782741425522). You may want to try with a higher value of support_fraction (current value: 0.614).\n",
      "  warnings.warn(\"Determinant has increased; this should not happen: \"\n"
     ]
    },
    {
     "name": "stdout",
     "output_type": "stream",
     "text": [
      "Angle-based Outlier Detector (ABOD) ROC:0.7813, precision @ rank n:0.3562, execution time: 5.7925s\n"
     ]
    },
    {
     "name": "stderr",
     "output_type": "stream",
     "text": [
      "C:\\Users\\ishan\\anaconda3\\lib\\site-packages\\sklearn\\cluster\\_kmeans.py:973: FutureWarning: 'n_jobs' was deprecated in version 0.23 and will be removed in 0.25.\n",
      "  warnings.warn(\"'n_jobs' was deprecated in version 0.23 and will be\"\n"
     ]
    },
    {
     "name": "stdout",
     "output_type": "stream",
     "text": [
      "Cluster-based Local Outlier Factor ROC:0.8447, precision @ rank n:0.4007, execution time: 0.4847s\n",
      "Feature Bagging ROC:0.7259, precision @ rank n:0.3664, execution time: 41.3125s\n",
      "Histogram-base Outlier Detection (HBOS) ROC:0.5675, precision @ rank n:0.1199, execution time: 0.0509s\n",
      "Isolation Forest ROC:0.7813, precision @ rank n:0.3116, execution time: 1.7184s\n",
      "K Nearest Neighbors (KNN) ROC:0.8409, precision @ rank n:0.4144, execution time: 5.1223s\n",
      "Local Outlier Factor (LOF) ROC:0.7085, precision @ rank n:0.339, execution time: 5.2011s\n"
     ]
    },
    {
     "name": "stderr",
     "output_type": "stream",
     "text": [
      "C:\\Users\\ishan\\anaconda3\\lib\\site-packages\\sklearn\\covariance\\_robust_covariance.py:647: UserWarning: The covariance matrix associated to your dataset is not full rank\n",
      "  warnings.warn(\"The covariance matrix associated to your dataset \"\n"
     ]
    },
    {
     "name": "stdout",
     "output_type": "stream",
     "text": [
      "Minimum Covariance Determinant (MCD) ROC:0.863, precision @ rank n:0.3973, execution time: 2.1443s\n",
      "One-class SVM (OCSVM) ROC:0.8417, precision @ rank n:0.3801, execution time: 3.73s\n",
      "Principal Component Analysis (PCA) ROC:0.8396, precision @ rank n:0.3767, execution time: 0.1117s\n",
      "\n",
      "... Processing musk.mat ...\n",
      "Angle-based Outlier Detector (ABOD) ROC:0.0809, precision @ rank n:0.0333, execution time: 1.9179s\n",
      "Cluster-based Local Outlier Factor ROC:1.0, precision @ rank n:1.0, execution time: 0.1426s\n"
     ]
    },
    {
     "name": "stderr",
     "output_type": "stream",
     "text": [
      "C:\\Users\\ishan\\anaconda3\\lib\\site-packages\\sklearn\\cluster\\_kmeans.py:973: FutureWarning: 'n_jobs' was deprecated in version 0.23 and will be removed in 0.25.\n",
      "  warnings.warn(\"'n_jobs' was deprecated in version 0.23 and will be\"\n"
     ]
    },
    {
     "name": "stdout",
     "output_type": "stream",
     "text": [
      "Feature Bagging ROC:0.5228, precision @ rank n:0.1667, execution time: 11.0834s\n",
      "Histogram-base Outlier Detection (HBOS) ROC:0.9999, precision @ rank n:0.9667, execution time: 0.0509s\n",
      "Isolation Forest ROC:0.9992, precision @ rank n:0.9, execution time: 1.0502s\n",
      "K Nearest Neighbors (KNN) ROC:0.7348, precision @ rank n:0.2333, execution time: 1.4731s\n",
      "Local Outlier Factor (LOF) ROC:0.5323, precision @ rank n:0.1333, execution time: 1.3384s\n",
      "Minimum Covariance Determinant (MCD) ROC:1.0, precision @ rank n:0.9667, execution time: 9.0298s\n",
      "One-class SVM (OCSVM) ROC:1.0, precision @ rank n:1.0, execution time: 0.9784s\n",
      "Principal Component Analysis (PCA) ROC:1.0, precision @ rank n:1.0, execution time: 0.1117s\n",
      "\n",
      "... Processing optdigits.mat ...\n",
      "Angle-based Outlier Detector (ABOD) ROC:0.4428, precision @ rank n:0.0161, execution time: 2.0595s\n"
     ]
    },
    {
     "name": "stderr",
     "output_type": "stream",
     "text": [
      "C:\\Users\\ishan\\anaconda3\\lib\\site-packages\\sklearn\\cluster\\_kmeans.py:973: FutureWarning: 'n_jobs' was deprecated in version 0.23 and will be removed in 0.25.\n",
      "  warnings.warn(\"'n_jobs' was deprecated in version 0.23 and will be\"\n"
     ]
    },
    {
     "name": "stdout",
     "output_type": "stream",
     "text": [
      "Cluster-based Local Outlier Factor ROC:0.7852, precision @ rank n:0.0, execution time: 0.2692s\n",
      "Feature Bagging ROC:0.4641, precision @ rank n:0.0484, execution time: 12.0528s\n",
      "Histogram-base Outlier Detection (HBOS) ROC:0.8822, precision @ rank n:0.2581, execution time: 0.024s\n",
      "Isolation Forest ROC:0.5442, precision @ rank n:0.0161, execution time: 0.7424s\n",
      "K Nearest Neighbors (KNN) ROC:0.3824, precision @ rank n:0.0, execution time: 1.4182s\n",
      "Local Outlier Factor (LOF) ROC:0.4584, precision @ rank n:0.0484, execution time: 1.2816s\n"
     ]
    },
    {
     "name": "stderr",
     "output_type": "stream",
     "text": [
      "C:\\Users\\ishan\\anaconda3\\lib\\site-packages\\sklearn\\covariance\\_robust_covariance.py:647: UserWarning: The covariance matrix associated to your dataset is not full rank\n",
      "  warnings.warn(\"The covariance matrix associated to your dataset \"\n"
     ]
    },
    {
     "name": "stdout",
     "output_type": "stream",
     "text": [
      "Minimum Covariance Determinant (MCD) ROC:0.3486, precision @ rank n:0.0, execution time: 0.9678s\n",
      "One-class SVM (OCSVM) ROC:0.4972, precision @ rank n:0.0, execution time: 1.2327s\n",
      "Principal Component Analysis (PCA) ROC:0.504, precision @ rank n:0.0, execution time: 0.0419s\n",
      "\n",
      "... Processing pendigits.mat ...\n",
      "Angle-based Outlier Detector (ABOD) ROC:0.7008, precision @ rank n:0.0308, execution time: 1.5639s\n"
     ]
    },
    {
     "name": "stderr",
     "output_type": "stream",
     "text": [
      "C:\\Users\\ishan\\anaconda3\\lib\\site-packages\\sklearn\\cluster\\_kmeans.py:973: FutureWarning: 'n_jobs' was deprecated in version 0.23 and will be removed in 0.25.\n",
      "  warnings.warn(\"'n_jobs' was deprecated in version 0.23 and will be\"\n"
     ]
    },
    {
     "name": "stdout",
     "output_type": "stream",
     "text": [
      "Cluster-based Local Outlier Factor ROC:0.9609, precision @ rank n:0.3077, execution time: 0.2034s\n",
      "Feature Bagging ROC:0.4687, precision @ rank n:0.0462, execution time: 3.9016s\n",
      "Histogram-base Outlier Detection (HBOS) ROC:0.9294, precision @ rank n:0.2615, execution time: 0.0079s\n",
      "Isolation Forest ROC:0.9482, precision @ rank n:0.2615, execution time: 0.5924s\n",
      "K Nearest Neighbors (KNN) ROC:0.7602, precision @ rank n:0.0462, execution time: 0.5187s\n",
      "Local Outlier Factor (LOF) ROC:0.481, precision @ rank n:0.0462, execution time: 0.4707s\n",
      "Minimum Covariance Determinant (MCD) ROC:0.8271, precision @ rank n:0.0615, execution time: 1.6894s\n",
      "One-class SVM (OCSVM) ROC:0.93, precision @ rank n:0.2923, execution time: 0.7999s\n",
      "Principal Component Analysis (PCA) ROC:0.9332, precision @ rank n:0.3385, execution time: 0.007s\n",
      "\n",
      "... Processing pima.mat ...\n",
      "Angle-based Outlier Detector (ABOD) ROC:0.6757, precision @ rank n:0.5106, execution time: 0.1416s\n"
     ]
    },
    {
     "name": "stderr",
     "output_type": "stream",
     "text": [
      "C:\\Users\\ishan\\anaconda3\\lib\\site-packages\\sklearn\\cluster\\_kmeans.py:973: FutureWarning: 'n_jobs' was deprecated in version 0.23 and will be removed in 0.25.\n",
      "  warnings.warn(\"'n_jobs' was deprecated in version 0.23 and will be\"\n"
     ]
    },
    {
     "name": "stdout",
     "output_type": "stream",
     "text": [
      "Cluster-based Local Outlier Factor ROC:0.684, precision @ rank n:0.4681, execution time: 0.0698s\n",
      "Feature Bagging ROC:0.6446, precision @ rank n:0.4468, execution time: 0.1087s\n",
      "Histogram-base Outlier Detection (HBOS) ROC:0.7169, precision @ rank n:0.5213, execution time: 0.006s\n",
      "Isolation Forest ROC:0.6777, precision @ rank n:0.4787, execution time: 0.3829s\n",
      "K Nearest Neighbors (KNN) ROC:0.7252, precision @ rank n:0.5106, execution time: 0.0299s\n",
      "Local Outlier Factor (LOF) ROC:0.6604, precision @ rank n:0.4787, execution time: 0.009s\n",
      "Minimum Covariance Determinant (MCD) ROC:0.7047, precision @ rank n:0.4787, execution time: 0.0429s\n",
      "One-class SVM (OCSVM) ROC:0.6423, precision @ rank n:0.4574, execution time: 0.013s\n",
      "Principal Component Analysis (PCA) ROC:0.6639, precision @ rank n:0.5, execution time: 0.002s\n",
      "\n",
      "... Processing satellite.mat ...\n",
      "Angle-based Outlier Detector (ABOD) ROC:0.5681, precision @ rank n:0.3918, execution time: 1.5259s\n",
      "Cluster-based Local Outlier Factor ROC:0.7234, precision @ rank n:0.5574, execution time: 0.1885s\n"
     ]
    },
    {
     "name": "stderr",
     "output_type": "stream",
     "text": [
      "C:\\Users\\ishan\\anaconda3\\lib\\site-packages\\sklearn\\cluster\\_kmeans.py:973: FutureWarning: 'n_jobs' was deprecated in version 0.23 and will be removed in 0.25.\n",
      "  warnings.warn(\"'n_jobs' was deprecated in version 0.23 and will be\"\n"
     ]
    },
    {
     "name": "stdout",
     "output_type": "stream",
     "text": [
      "Feature Bagging ROC:0.557, precision @ rank n:0.4051, execution time: 6.3381s\n",
      "Histogram-base Outlier Detection (HBOS) ROC:0.7393, precision @ rank n:0.5466, execution time: 0.015s\n",
      "Isolation Forest ROC:0.7094, precision @ rank n:0.578, execution time: 0.7091s\n",
      "K Nearest Neighbors (KNN) ROC:0.6781, precision @ rank n:0.4994, execution time: 0.8866s\n",
      "Local Outlier Factor (LOF) ROC:0.5551, precision @ rank n:0.4051, execution time: 0.8098s\n",
      "Minimum Covariance Determinant (MCD) ROC:0.792, precision @ rank n:0.6747, execution time: 1.8765s\n",
      "One-class SVM (OCSVM) ROC:0.636, precision @ rank n:0.5224, execution time: 1.1589s\n",
      "Principal Component Analysis (PCA) ROC:0.5783, precision @ rank n:0.4559, execution time: 0.0189s\n",
      "\n",
      "... Processing satimage-2.mat ...\n",
      "Angle-based Outlier Detector (ABOD) ROC:0.86, precision @ rank n:0.2593, execution time: 1.5429s\n",
      "Cluster-based Local Outlier Factor ROC:0.9987, precision @ rank n:0.8889, execution time: 0.1885s\n"
     ]
    },
    {
     "name": "stderr",
     "output_type": "stream",
     "text": [
      "C:\\Users\\ishan\\anaconda3\\lib\\site-packages\\sklearn\\cluster\\_kmeans.py:973: FutureWarning: 'n_jobs' was deprecated in version 0.23 and will be removed in 0.25.\n",
      "  warnings.warn(\"'n_jobs' was deprecated in version 0.23 and will be\"\n"
     ]
    },
    {
     "name": "stdout",
     "output_type": "stream",
     "text": [
      "Feature Bagging ROC:0.4971, precision @ rank n:0.0741, execution time: 5.24s\n",
      "Histogram-base Outlier Detection (HBOS) ROC:0.9837, precision @ rank n:0.5926, execution time: 0.016s\n",
      "Isolation Forest ROC:0.9973, precision @ rank n:0.8889, execution time: 0.6393s\n",
      "K Nearest Neighbors (KNN) ROC:0.9505, precision @ rank n:0.3704, execution time: 0.7151s\n",
      "Local Outlier Factor (LOF) ROC:0.5006, precision @ rank n:0.0741, execution time: 0.6373s\n",
      "Minimum Covariance Determinant (MCD) ROC:0.9946, precision @ rank n:0.5185, execution time: 1.5289s\n",
      "One-class SVM (OCSVM) ROC:0.9976, precision @ rank n:0.9259, execution time: 0.8996s\n",
      "Principal Component Analysis (PCA) ROC:0.9841, precision @ rank n:0.8519, execution time: 0.017s\n",
      "\n",
      "... Processing shuttle.mat ...\n",
      "Angle-based Outlier Detector (ABOD) ROC:0.6186, precision @ rank n:0.1918, execution time: 13.465s\n"
     ]
    },
    {
     "name": "stderr",
     "output_type": "stream",
     "text": [
      "C:\\Users\\ishan\\anaconda3\\lib\\site-packages\\sklearn\\cluster\\_kmeans.py:973: FutureWarning: 'n_jobs' was deprecated in version 0.23 and will be removed in 0.25.\n",
      "  warnings.warn(\"'n_jobs' was deprecated in version 0.23 and will be\"\n"
     ]
    },
    {
     "name": "stdout",
     "output_type": "stream",
     "text": [
      "Cluster-based Local Outlier Factor ROC:0.6286, precision @ rank n:0.2336, execution time: 0.5096s\n",
      "Feature Bagging ROC:0.5211, precision @ rank n:0.111, execution time: 44.3215s\n",
      "Histogram-base Outlier Detection (HBOS) ROC:0.9851, precision @ rank n:0.9857, execution time: 0.014s\n",
      "Isolation Forest ROC:0.9972, precision @ rank n:0.9337, execution time: 2.7078s\n",
      "K Nearest Neighbors (KNN) ROC:0.645, precision @ rank n:0.2199, execution time: 7.5349s\n",
      "Local Outlier Factor (LOF) ROC:0.5347, precision @ rank n:0.1406, execution time: 9.8637s\n"
     ]
    },
    {
     "name": "stderr",
     "output_type": "stream",
     "text": [
      "C:\\Users\\ishan\\anaconda3\\lib\\site-packages\\sklearn\\covariance\\_robust_covariance.py:166: RuntimeWarning: Determinant has increased; this should not happen: log(det) > log(previous_det) (-49.541490230701029 > -75.592253998160075). You may want to try with a higher value of support_fraction (current value: 0.503).\n",
      "  warnings.warn(\"Determinant has increased; this should not happen: \"\n",
      "C:\\Users\\ishan\\anaconda3\\lib\\site-packages\\sklearn\\covariance\\_robust_covariance.py:166: RuntimeWarning: Determinant has increased; this should not happen: log(det) > log(previous_det) (-50.022992269210960 > -76.150022952275933). You may want to try with a higher value of support_fraction (current value: 0.503).\n",
      "  warnings.warn(\"Determinant has increased; this should not happen: \"\n",
      "C:\\Users\\ishan\\anaconda3\\lib\\site-packages\\sklearn\\covariance\\_robust_covariance.py:166: RuntimeWarning: Determinant has increased; this should not happen: log(det) > log(previous_det) (-48.588090860494539 > -73.997089087121466). You may want to try with a higher value of support_fraction (current value: 0.503).\n",
      "  warnings.warn(\"Determinant has increased; this should not happen: \"\n",
      "C:\\Users\\ishan\\anaconda3\\lib\\site-packages\\sklearn\\covariance\\_robust_covariance.py:166: RuntimeWarning: Determinant has increased; this should not happen: log(det) > log(previous_det) (-50.127165967938033 > -76.814431864511533). You may want to try with a higher value of support_fraction (current value: 0.501).\n",
      "  warnings.warn(\"Determinant has increased; this should not happen: \"\n",
      "C:\\Users\\ishan\\anaconda3\\lib\\site-packages\\sklearn\\covariance\\_robust_covariance.py:166: RuntimeWarning: Determinant has increased; this should not happen: log(det) > log(previous_det) (-50.260339163313560 > -77.183008377260506). You may want to try with a higher value of support_fraction (current value: 0.501).\n",
      "  warnings.warn(\"Determinant has increased; this should not happen: \"\n",
      "C:\\Users\\ishan\\anaconda3\\lib\\site-packages\\sklearn\\covariance\\_robust_covariance.py:166: RuntimeWarning: Determinant has increased; this should not happen: log(det) > log(previous_det) (-50.088727288180451 > -75.865165747812611). You may want to try with a higher value of support_fraction (current value: 0.501).\n",
      "  warnings.warn(\"Determinant has increased; this should not happen: \"\n",
      "C:\\Users\\ishan\\anaconda3\\lib\\site-packages\\sklearn\\covariance\\_robust_covariance.py:166: RuntimeWarning: Determinant has increased; this should not happen: log(det) > log(previous_det) (-50.582785491594258 > -76.611820576922298). You may want to try with a higher value of support_fraction (current value: 0.501).\n",
      "  warnings.warn(\"Determinant has increased; this should not happen: \"\n",
      "C:\\Users\\ishan\\anaconda3\\lib\\site-packages\\sklearn\\covariance\\_robust_covariance.py:166: RuntimeWarning: Determinant has increased; this should not happen: log(det) > log(previous_det) (-50.000544286938101 > -76.202702178617812). You may want to try with a higher value of support_fraction (current value: 0.501).\n",
      "  warnings.warn(\"Determinant has increased; this should not happen: \"\n",
      "C:\\Users\\ishan\\anaconda3\\lib\\site-packages\\sklearn\\covariance\\_robust_covariance.py:166: RuntimeWarning: Determinant has increased; this should not happen: log(det) > log(previous_det) (-50.556584528453953 > -77.098667780846995). You may want to try with a higher value of support_fraction (current value: 0.501).\n",
      "  warnings.warn(\"Determinant has increased; this should not happen: \"\n",
      "C:\\Users\\ishan\\anaconda3\\lib\\site-packages\\sklearn\\covariance\\_robust_covariance.py:166: RuntimeWarning: Determinant has increased; this should not happen: log(det) > log(previous_det) (-50.240104267009002 > -75.051128375205053). You may want to try with a higher value of support_fraction (current value: 0.501).\n",
      "  warnings.warn(\"Determinant has increased; this should not happen: \"\n",
      "C:\\Users\\ishan\\anaconda3\\lib\\site-packages\\sklearn\\covariance\\_robust_covariance.py:166: RuntimeWarning: Determinant has increased; this should not happen: log(det) > log(previous_det) (-49.250211305123095 > -75.269917048873594). You may want to try with a higher value of support_fraction (current value: 0.501).\n",
      "  warnings.warn(\"Determinant has increased; this should not happen: \"\n",
      "C:\\Users\\ishan\\anaconda3\\lib\\site-packages\\sklearn\\covariance\\_robust_covariance.py:166: RuntimeWarning: Determinant has increased; this should not happen: log(det) > log(previous_det) (-49.909548626708364 > -77.316510535945554). You may want to try with a higher value of support_fraction (current value: 0.501).\n",
      "  warnings.warn(\"Determinant has increased; this should not happen: \"\n",
      "C:\\Users\\ishan\\anaconda3\\lib\\site-packages\\sklearn\\covariance\\_robust_covariance.py:166: RuntimeWarning: Determinant has increased; this should not happen: log(det) > log(previous_det) (-50.891326544720059 > -75.752323826887846). You may want to try with a higher value of support_fraction (current value: 0.501).\n",
      "  warnings.warn(\"Determinant has increased; this should not happen: \"\n",
      "C:\\Users\\ishan\\anaconda3\\lib\\site-packages\\sklearn\\covariance\\_robust_covariance.py:166: RuntimeWarning: Determinant has increased; this should not happen: log(det) > log(previous_det) (-49.859327893628439 > -75.506059781784089). You may want to try with a higher value of support_fraction (current value: 0.501).\n",
      "  warnings.warn(\"Determinant has increased; this should not happen: \"\n",
      "C:\\Users\\ishan\\anaconda3\\lib\\site-packages\\sklearn\\covariance\\_robust_covariance.py:166: RuntimeWarning: Determinant has increased; this should not happen: log(det) > log(previous_det) (-49.586488761882819 > -75.469733773072221). You may want to try with a higher value of support_fraction (current value: 0.501).\n",
      "  warnings.warn(\"Determinant has increased; this should not happen: \"\n",
      "C:\\Users\\ishan\\anaconda3\\lib\\site-packages\\sklearn\\covariance\\_robust_covariance.py:166: RuntimeWarning: Determinant has increased; this should not happen: log(det) > log(previous_det) (-50.101075588075524 > -76.262519209035275). You may want to try with a higher value of support_fraction (current value: 0.501).\n",
      "  warnings.warn(\"Determinant has increased; this should not happen: \"\n",
      "C:\\Users\\ishan\\anaconda3\\lib\\site-packages\\sklearn\\covariance\\_robust_covariance.py:166: RuntimeWarning: Determinant has increased; this should not happen: log(det) > log(previous_det) (-50.312636661667774 > -76.827897355973249). You may want to try with a higher value of support_fraction (current value: 0.501).\n",
      "  warnings.warn(\"Determinant has increased; this should not happen: \"\n",
      "C:\\Users\\ishan\\anaconda3\\lib\\site-packages\\sklearn\\covariance\\_robust_covariance.py:166: RuntimeWarning: Determinant has increased; this should not happen: log(det) > log(previous_det) (-50.250066970764166 > -78.448260993170479). You may want to try with a higher value of support_fraction (current value: 0.501).\n",
      "  warnings.warn(\"Determinant has increased; this should not happen: \"\n",
      "C:\\Users\\ishan\\anaconda3\\lib\\site-packages\\sklearn\\covariance\\_robust_covariance.py:166: RuntimeWarning: Determinant has increased; this should not happen: log(det) > log(previous_det) (-49.555505358476601 > -76.383177602584297). You may want to try with a higher value of support_fraction (current value: 0.501).\n",
      "  warnings.warn(\"Determinant has increased; this should not happen: \"\n",
      "C:\\Users\\ishan\\anaconda3\\lib\\site-packages\\sklearn\\covariance\\_robust_covariance.py:166: RuntimeWarning: Determinant has increased; this should not happen: log(det) > log(previous_det) (-49.428222337190036 > -77.657757837885939). You may want to try with a higher value of support_fraction (current value: 0.501).\n",
      "  warnings.warn(\"Determinant has increased; this should not happen: \"\n",
      "C:\\Users\\ishan\\anaconda3\\lib\\site-packages\\sklearn\\covariance\\_robust_covariance.py:166: RuntimeWarning: Determinant has increased; this should not happen: log(det) > log(previous_det) (-50.312868452035886 > -78.275586981066255). You may want to try with a higher value of support_fraction (current value: 0.501).\n",
      "  warnings.warn(\"Determinant has increased; this should not happen: \"\n",
      "C:\\Users\\ishan\\anaconda3\\lib\\site-packages\\sklearn\\covariance\\_robust_covariance.py:166: RuntimeWarning: Determinant has increased; this should not happen: log(det) > log(previous_det) (-50.764724066883446 > -77.282352110428548). You may want to try with a higher value of support_fraction (current value: 0.501).\n",
      "  warnings.warn(\"Determinant has increased; this should not happen: \"\n",
      "C:\\Users\\ishan\\anaconda3\\lib\\site-packages\\sklearn\\covariance\\_robust_covariance.py:166: RuntimeWarning: Determinant has increased; this should not happen: log(det) > log(previous_det) (-49.672481809425953 > -75.780064170775518). You may want to try with a higher value of support_fraction (current value: 0.501).\n",
      "  warnings.warn(\"Determinant has increased; this should not happen: \"\n",
      "C:\\Users\\ishan\\anaconda3\\lib\\site-packages\\sklearn\\covariance\\_robust_covariance.py:166: RuntimeWarning: Determinant has increased; this should not happen: log(det) > log(previous_det) (-48.810409699568289 > -116.332661175263610). You may want to try with a higher value of support_fraction (current value: 0.501).\n",
      "  warnings.warn(\"Determinant has increased; this should not happen: \"\n",
      "C:\\Users\\ishan\\anaconda3\\lib\\site-packages\\sklearn\\covariance\\_robust_covariance.py:166: RuntimeWarning: Determinant has increased; this should not happen: log(det) > log(previous_det) (-50.246740593074648 > -75.373826826201935). You may want to try with a higher value of support_fraction (current value: 0.501).\n",
      "  warnings.warn(\"Determinant has increased; this should not happen: \"\n",
      "C:\\Users\\ishan\\anaconda3\\lib\\site-packages\\sklearn\\covariance\\_robust_covariance.py:166: RuntimeWarning: Determinant has increased; this should not happen: log(det) > log(previous_det) (-50.256978425484292 > -76.476983289741440). You may want to try with a higher value of support_fraction (current value: 0.501).\n",
      "  warnings.warn(\"Determinant has increased; this should not happen: \"\n",
      "C:\\Users\\ishan\\anaconda3\\lib\\site-packages\\sklearn\\covariance\\_robust_covariance.py:166: RuntimeWarning: Determinant has increased; this should not happen: log(det) > log(previous_det) (-50.288199308055468 > -75.990589261846011). You may want to try with a higher value of support_fraction (current value: 0.501).\n",
      "  warnings.warn(\"Determinant has increased; this should not happen: \"\n",
      "C:\\Users\\ishan\\anaconda3\\lib\\site-packages\\sklearn\\covariance\\_robust_covariance.py:166: RuntimeWarning: Determinant has increased; this should not happen: log(det) > log(previous_det) (-50.329968951469141 > -77.419260242705974). You may want to try with a higher value of support_fraction (current value: 0.501).\n",
      "  warnings.warn(\"Determinant has increased; this should not happen: \"\n",
      "C:\\Users\\ishan\\anaconda3\\lib\\site-packages\\sklearn\\covariance\\_robust_covariance.py:166: RuntimeWarning: Determinant has increased; this should not happen: log(det) > log(previous_det) (-50.221834205302052 > -78.090864446968652). You may want to try with a higher value of support_fraction (current value: 0.501).\n",
      "  warnings.warn(\"Determinant has increased; this should not happen: \"\n",
      "C:\\Users\\ishan\\anaconda3\\lib\\site-packages\\sklearn\\covariance\\_robust_covariance.py:166: RuntimeWarning: Determinant has increased; this should not happen: log(det) > log(previous_det) (-49.289029393101089 > -75.757556561107862). You may want to try with a higher value of support_fraction (current value: 0.501).\n",
      "  warnings.warn(\"Determinant has increased; this should not happen: \"\n",
      "C:\\Users\\ishan\\anaconda3\\lib\\site-packages\\sklearn\\covariance\\_robust_covariance.py:166: RuntimeWarning: Determinant has increased; this should not happen: log(det) > log(previous_det) (-49.385618505522793 > -77.171277510572310). You may want to try with a higher value of support_fraction (current value: 0.501).\n",
      "  warnings.warn(\"Determinant has increased; this should not happen: \"\n",
      "C:\\Users\\ishan\\anaconda3\\lib\\site-packages\\sklearn\\covariance\\_robust_covariance.py:166: RuntimeWarning: Determinant has increased; this should not happen: log(det) > log(previous_det) (-50.209250265997660 > -76.818840276676667). You may want to try with a higher value of support_fraction (current value: 0.501).\n",
      "  warnings.warn(\"Determinant has increased; this should not happen: \"\n",
      "C:\\Users\\ishan\\anaconda3\\lib\\site-packages\\sklearn\\covariance\\_robust_covariance.py:166: RuntimeWarning: Determinant has increased; this should not happen: log(det) > log(previous_det) (-50.362224422506152 > -76.716480514242747). You may want to try with a higher value of support_fraction (current value: 0.501).\n",
      "  warnings.warn(\"Determinant has increased; this should not happen: \"\n",
      "C:\\Users\\ishan\\anaconda3\\lib\\site-packages\\sklearn\\covariance\\_robust_covariance.py:166: RuntimeWarning: Determinant has increased; this should not happen: log(det) > log(previous_det) (-50.173137659451463 > -75.808458672225186). You may want to try with a higher value of support_fraction (current value: 0.501).\n",
      "  warnings.warn(\"Determinant has increased; this should not happen: \"\n",
      "C:\\Users\\ishan\\anaconda3\\lib\\site-packages\\sklearn\\covariance\\_robust_covariance.py:166: RuntimeWarning: Determinant has increased; this should not happen: log(det) > log(previous_det) (-50.294483190145293 > -76.390291443926770). You may want to try with a higher value of support_fraction (current value: 0.501).\n",
      "  warnings.warn(\"Determinant has increased; this should not happen: \"\n",
      "C:\\Users\\ishan\\anaconda3\\lib\\site-packages\\sklearn\\covariance\\_robust_covariance.py:166: RuntimeWarning: Determinant has increased; this should not happen: log(det) > log(previous_det) (-50.208972773367584 > -75.741530995676783). You may want to try with a higher value of support_fraction (current value: 0.501).\n",
      "  warnings.warn(\"Determinant has increased; this should not happen: \"\n",
      "C:\\Users\\ishan\\anaconda3\\lib\\site-packages\\sklearn\\covariance\\_robust_covariance.py:166: RuntimeWarning: Determinant has increased; this should not happen: log(det) > log(previous_det) (-50.378081918546030 > -76.605948395137275). You may want to try with a higher value of support_fraction (current value: 0.501).\n",
      "  warnings.warn(\"Determinant has increased; this should not happen: \"\n",
      "C:\\Users\\ishan\\anaconda3\\lib\\site-packages\\sklearn\\covariance\\_robust_covariance.py:166: RuntimeWarning: Determinant has increased; this should not happen: log(det) > log(previous_det) (-50.916820128958108 > -76.552623764140179). You may want to try with a higher value of support_fraction (current value: 0.501).\n",
      "  warnings.warn(\"Determinant has increased; this should not happen: \"\n",
      "C:\\Users\\ishan\\anaconda3\\lib\\site-packages\\sklearn\\covariance\\_robust_covariance.py:166: RuntimeWarning: Determinant has increased; this should not happen: log(det) > log(previous_det) (-50.077545968806284 > -75.696921172394283). You may want to try with a higher value of support_fraction (current value: 0.501).\n",
      "  warnings.warn(\"Determinant has increased; this should not happen: \"\n",
      "C:\\Users\\ishan\\anaconda3\\lib\\site-packages\\sklearn\\covariance\\_robust_covariance.py:166: RuntimeWarning: Determinant has increased; this should not happen: log(det) > log(previous_det) (-50.436632051329951 > -76.438541656063492). You may want to try with a higher value of support_fraction (current value: 0.501).\n",
      "  warnings.warn(\"Determinant has increased; this should not happen: \"\n",
      "C:\\Users\\ishan\\anaconda3\\lib\\site-packages\\sklearn\\covariance\\_robust_covariance.py:166: RuntimeWarning: Determinant has increased; this should not happen: log(det) > log(previous_det) (-50.734734341696203 > -76.521728710156154). You may want to try with a higher value of support_fraction (current value: 0.501).\n",
      "  warnings.warn(\"Determinant has increased; this should not happen: \"\n",
      "C:\\Users\\ishan\\anaconda3\\lib\\site-packages\\sklearn\\covariance\\_robust_covariance.py:166: RuntimeWarning: Determinant has increased; this should not happen: log(det) > log(previous_det) (-51.027942813065295 > -77.260538598709132). You may want to try with a higher value of support_fraction (current value: 0.501).\n",
      "  warnings.warn(\"Determinant has increased; this should not happen: \"\n",
      "C:\\Users\\ishan\\anaconda3\\lib\\site-packages\\sklearn\\covariance\\_robust_covariance.py:166: RuntimeWarning: Determinant has increased; this should not happen: log(det) > log(previous_det) (-51.132819510101456 > -80.575229534353539). You may want to try with a higher value of support_fraction (current value: 0.501).\n",
      "  warnings.warn(\"Determinant has increased; this should not happen: \"\n",
      "C:\\Users\\ishan\\anaconda3\\lib\\site-packages\\sklearn\\covariance\\_robust_covariance.py:166: RuntimeWarning: Determinant has increased; this should not happen: log(det) > log(previous_det) (-50.826679532509623 > -77.642101236679707). You may want to try with a higher value of support_fraction (current value: 0.501).\n",
      "  warnings.warn(\"Determinant has increased; this should not happen: \"\n"
     ]
    },
    {
     "name": "stdout",
     "output_type": "stream",
     "text": [
      "Minimum Covariance Determinant (MCD) ROC:0.9903, precision @ rank n:0.7534, execution time: 10.3294s\n",
      "One-class SVM (OCSVM) ROC:0.9922, precision @ rank n:0.9553, execution time: 37.5327s\n",
      "Principal Component Analysis (PCA) ROC:0.9902, precision @ rank n:0.9503, execution time: 0.0269s\n",
      "\n",
      "... Processing vertebral.mat ...\n",
      "Angle-based Outlier Detector (ABOD) ROC:0.2797, precision @ rank n:0.0, execution time: 0.0439s\n",
      "Cluster-based Local Outlier Factor ROC:0.3908, precision @ rank n:0.0, execution time: 0.0399s\n",
      "Feature Bagging ROC:0.3027, precision @ rank n:0.0, execution time: 0.0459s\n"
     ]
    },
    {
     "name": "stderr",
     "output_type": "stream",
     "text": [
      "C:\\Users\\ishan\\anaconda3\\lib\\site-packages\\sklearn\\cluster\\_kmeans.py:973: FutureWarning: 'n_jobs' was deprecated in version 0.23 and will be removed in 0.25.\n",
      "  warnings.warn(\"'n_jobs' was deprecated in version 0.23 and will be\"\n"
     ]
    },
    {
     "name": "stdout",
     "output_type": "stream",
     "text": [
      "Histogram-base Outlier Detection (HBOS) ROC:0.2695, precision @ rank n:0.0, execution time: 0.004s\n",
      "Isolation Forest ROC:0.3576, precision @ rank n:0.0, execution time: 0.2673s\n",
      "K Nearest Neighbors (KNN) ROC:0.318, precision @ rank n:0.0, execution time: 0.0089s\n",
      "Local Outlier Factor (LOF) ROC:0.318, precision @ rank n:0.0, execution time: 0.003s\n",
      "Minimum Covariance Determinant (MCD) ROC:0.3308, precision @ rank n:0.0, execution time: 0.0357s\n",
      "One-class SVM (OCSVM) ROC:0.4087, precision @ rank n:0.0, execution time: 0.002s\n",
      "Principal Component Analysis (PCA) ROC:0.3397, precision @ rank n:0.0, execution time: 0.002s\n",
      "\n",
      "... Processing vowels.mat ...\n",
      "Angle-based Outlier Detector (ABOD) ROC:0.9521, precision @ rank n:0.4706, execution time: 0.2643s\n",
      "Cluster-based Local Outlier Factor ROC:0.9278, precision @ rank n:0.4118, execution time: 0.0728s\n"
     ]
    },
    {
     "name": "stderr",
     "output_type": "stream",
     "text": [
      "C:\\Users\\ishan\\anaconda3\\lib\\site-packages\\sklearn\\cluster\\_kmeans.py:973: FutureWarning: 'n_jobs' was deprecated in version 0.23 and will be removed in 0.25.\n",
      "  warnings.warn(\"'n_jobs' was deprecated in version 0.23 and will be\"\n"
     ]
    },
    {
     "name": "stdout",
     "output_type": "stream",
     "text": [
      "Feature Bagging ROC:0.9385, precision @ rank n:0.3529, execution time: 0.3062s\n",
      "Histogram-base Outlier Detection (HBOS) ROC:0.6758, precision @ rank n:0.1765, execution time: 0.003s\n",
      "Isolation Forest ROC:0.7469, precision @ rank n:0.1176, execution time: 0.3461s\n",
      "K Nearest Neighbors (KNN) ROC:0.9568, precision @ rank n:0.5294, execution time: 0.0678s\n",
      "Local Outlier Factor (LOF) ROC:0.9345, precision @ rank n:0.4118, execution time: 0.0309s\n",
      "Minimum Covariance Determinant (MCD) ROC:0.6779, precision @ rank n:0.0, execution time: 0.5984s\n",
      "One-class SVM (OCSVM) ROC:0.7415, precision @ rank n:0.2941, execution time: 0.0539s\n",
      "Principal Component Analysis (PCA) ROC:0.5787, precision @ rank n:0.1176, execution time: 0.002s\n",
      "\n",
      "... Processing wbc.mat ...\n",
      "Angle-based Outlier Detector (ABOD) ROC:0.9232, precision @ rank n:0.3, execution time: 0.0708s\n"
     ]
    },
    {
     "name": "stderr",
     "output_type": "stream",
     "text": [
      "C:\\Users\\ishan\\anaconda3\\lib\\site-packages\\sklearn\\cluster\\_kmeans.py:973: FutureWarning: 'n_jobs' was deprecated in version 0.23 and will be removed in 0.25.\n",
      "  warnings.warn(\"'n_jobs' was deprecated in version 0.23 and will be\"\n"
     ]
    },
    {
     "name": "stdout",
     "output_type": "stream",
     "text": [
      "Cluster-based Local Outlier Factor ROC:0.9063, precision @ rank n:0.6, execution time: 0.0698s\n",
      "Feature Bagging ROC:0.9415, precision @ rank n:0.5, execution time: 0.0918s\n",
      "Histogram-base Outlier Detection (HBOS) ROC:0.9592, precision @ rank n:0.7, execution time: 0.007s\n",
      "Isolation Forest ROC:0.9451, precision @ rank n:0.5, execution time: 0.3182s\n",
      "K Nearest Neighbors (KNN) ROC:0.9437, precision @ rank n:0.5, execution time: 0.0219s\n",
      "Local Outlier Factor (LOF) ROC:0.9352, precision @ rank n:0.4, execution time: 0.007s\n",
      "Minimum Covariance Determinant (MCD) ROC:0.8986, precision @ rank n:0.4, execution time: 0.0578s\n",
      "One-class SVM (OCSVM) ROC:0.9408, precision @ rank n:0.5, execution time: 0.005s\n",
      "Principal Component Analysis (PCA) ROC:0.9324, precision @ rank n:0.6, execution time: 0.003s\n"
     ]
    }
   ],
   "source": [
    "# Creating random state\n",
    "random_state = np.random.RandomState(42)\n",
    "\n",
    "# Processing mat files one by one : \n",
    "for mat_file in mat_file_list:\n",
    "    print(\"\\n... Processing\", mat_file, '...')\n",
    "    mat = loadmat(os.path.join('data', mat_file))\n",
    "\n",
    "    X = mat['X']\n",
    "    y = mat['y'].ravel()  #ravel() function converts 2D to 1D\n",
    "    \n",
    "    # Counting Outlier :\n",
    "    \n",
    "    # Counts the number of non-zero values in the array y and divide by length of y : It gives outlier in fraction\n",
    "    outliers_fraction = np.count_nonzero(y) / len(y)\n",
    "    \n",
    "    # Calculating Outlier percentage\n",
    "    outliers_percentage = round(outliers_fraction * 100, ndigits=4)\n",
    "\n",
    "    # Construct containers for saving results\n",
    "    roc_list = [mat_file[:-4], X.shape[0], X.shape[1], outliers_percentage]\n",
    "    prn_list = [mat_file[:-4], X.shape[0], X.shape[1], outliers_percentage]\n",
    "    time_list = [mat_file[:-4], X.shape[0], X.shape[1], outliers_percentage]\n",
    "\n",
    "    # Spliting Data into : 60% data for training and 40% for testing\n",
    "    X_train, X_test, y_train, y_test = train_test_split(X, y, test_size=0.4, random_state=random_state)\n",
    "    \n",
    "    # standardizing data for processing\n",
    "    X_train_norm, X_test_norm = standardizer(X_train, X_test)\n",
    "\n",
    "    # Applying all the algorithms and storing thier result in a dictionary format:\n",
    "    classifiers = {'Angle-based Outlier Detector (ABOD)': ABOD(contamination=outliers_fraction),\n",
    "                   \n",
    "                   'Cluster-based Local Outlier Factor': CBLOF(contamination=outliers_fraction, check_estimator=False,\n",
    "                                                               random_state=random_state),\n",
    "                   \n",
    "                   'Feature Bagging': FeatureBagging(contamination=outliers_fraction, random_state=random_state),\n",
    "                   \n",
    "                   'Histogram-base Outlier Detection (HBOS)': HBOS(contamination=outliers_fraction),\n",
    "                   \n",
    "                   'Isolation Forest': IForest(contamination=outliers_fraction, random_state=random_state),\n",
    "                   \n",
    "                   'K Nearest Neighbors (KNN)': KNN(contamination=outliers_fraction),\n",
    "                   \n",
    "                   'Local Outlier Factor (LOF)': LOF(contamination=outliers_fraction),\n",
    "                   \n",
    "                   'Minimum Covariance Determinant (MCD)': MCD(contamination=outliers_fraction, random_state=random_state),\n",
    "                   \n",
    "                   'One-class SVM (OCSVM)': OCSVM(contamination=outliers_fraction),\n",
    "                   \n",
    "                   'Principal Component Analysis (PCA)': PCA(contamination=outliers_fraction, random_state=random_state),\n",
    "   }\n",
    "\n",
    "\n",
    "    # Calculating Time taken for each algorithm\n",
    "    for clf_name, clf in classifiers.items():\n",
    "        # Initialize the start time \n",
    "        t0 = time() \n",
    "        \n",
    "        # Fit( Train )the data\n",
    "        clf.fit(X_train_norm) \n",
    "        \n",
    "        # Predicting Value on Xtest\n",
    "        test_scores = clf.decision_function(X_test_norm)  \n",
    "        \n",
    "        # Final Time\n",
    "        t1 = time()   \n",
    "        \n",
    "        # Total time duration : t1 - t0\n",
    "        duration = round(t1 - t0, ndigits=4) \n",
    "        \n",
    "        # Append duration in time list\n",
    "        time_list.append(duration)\n",
    "\n",
    "        #Calculating roc and precision value of the algorithm\n",
    "        roc = round(roc_auc_score(y_test, test_scores), ndigits=4)\n",
    "        prn = round(precision_n_scores(y_test, test_scores), ndigits=4)\n",
    "\n",
    "        # Print the roc , precision and executing time \n",
    "        print('{clf_name} ROC:{roc}, precision @ rank n:{prn}, '\n",
    "              'execution time: {duration}s'.format(clf_name=clf_name, roc=roc, prn=prn, duration=duration))\n",
    "\n",
    "        # Append roc and precision value to their respective list\n",
    "        roc_list.append(roc)\n",
    "        prn_list.append(prn)\n",
    "\n",
    "    temp_df = pd.DataFrame(time_list).transpose()\n",
    "    temp_df.columns = df_columns\n",
    "    time_df = pd.concat([time_df, temp_df], axis=0)\n",
    "\n",
    "    temp_df = pd.DataFrame(roc_list).transpose()\n",
    "    temp_df.columns = df_columns\n",
    "    roc_df = pd.concat([roc_df, temp_df], axis=0)\n",
    "    \n",
    "    temp_df = pd.DataFrame(prn_list).transpose()\n",
    "    temp_df.columns = df_columns\n",
    "    prn_df = pd.concat([prn_df, temp_df], axis=0)"
   ]
  },
  {
   "cell_type": "code",
   "execution_count": 41,
   "metadata": {},
   "outputs": [
    {
     "data": {
      "text/html": [
       "<div>\n",
       "<style scoped>\n",
       "    .dataframe tbody tr th:only-of-type {\n",
       "        vertical-align: middle;\n",
       "    }\n",
       "\n",
       "    .dataframe tbody tr th {\n",
       "        vertical-align: top;\n",
       "    }\n",
       "\n",
       "    .dataframe thead th {\n",
       "        text-align: right;\n",
       "    }\n",
       "</style>\n",
       "<table border=\"1\" class=\"dataframe\">\n",
       "  <thead>\n",
       "    <tr style=\"text-align: right;\">\n",
       "      <th></th>\n",
       "      <th>Data</th>\n",
       "      <th>#Sample</th>\n",
       "      <th>#Dimensions</th>\n",
       "      <th>Outlier Perc</th>\n",
       "      <th>PCA</th>\n",
       "      <th>MCD</th>\n",
       "      <th>OCSVM</th>\n",
       "      <th>LOF</th>\n",
       "      <th>CBLOF</th>\n",
       "      <th>KNN</th>\n",
       "      <th>HBOS</th>\n",
       "      <th>ABOD</th>\n",
       "      <th>IFOREST</th>\n",
       "      <th>FEATUREBAGGING</th>\n",
       "    </tr>\n",
       "  </thead>\n",
       "  <tbody>\n",
       "    <tr>\n",
       "      <th>0</th>\n",
       "      <td>arrhythmia</td>\n",
       "      <td>452</td>\n",
       "      <td>274</td>\n",
       "      <td>14.6018</td>\n",
       "      <td>0.7687</td>\n",
       "      <td>0.7684</td>\n",
       "      <td>0.7799</td>\n",
       "      <td>0.8511</td>\n",
       "      <td>0.8478</td>\n",
       "      <td>0.782</td>\n",
       "      <td>0.7787</td>\n",
       "      <td>0.8228</td>\n",
       "      <td>0.7986</td>\n",
       "      <td>0.7997</td>\n",
       "    </tr>\n",
       "    <tr>\n",
       "      <th>0</th>\n",
       "      <td>cardio</td>\n",
       "      <td>1831</td>\n",
       "      <td>21</td>\n",
       "      <td>9.6122</td>\n",
       "      <td>0.5763</td>\n",
       "      <td>0.8221</td>\n",
       "      <td>0.4879</td>\n",
       "      <td>0.8453</td>\n",
       "      <td>0.9316</td>\n",
       "      <td>0.6959</td>\n",
       "      <td>0.4715</td>\n",
       "      <td>0.8778</td>\n",
       "      <td>0.9507</td>\n",
       "      <td>0.9638</td>\n",
       "    </tr>\n",
       "    <tr>\n",
       "      <th>0</th>\n",
       "      <td>glass</td>\n",
       "      <td>214</td>\n",
       "      <td>9</td>\n",
       "      <td>4.2056</td>\n",
       "      <td>0.7104</td>\n",
       "      <td>0.8506</td>\n",
       "      <td>0.7043</td>\n",
       "      <td>0.6524</td>\n",
       "      <td>0.7195</td>\n",
       "      <td>0.7805</td>\n",
       "      <td>0.7774</td>\n",
       "      <td>0.7165</td>\n",
       "      <td>0.6189</td>\n",
       "      <td>0.622</td>\n",
       "    </tr>\n",
       "    <tr>\n",
       "      <th>0</th>\n",
       "      <td>ionosphere</td>\n",
       "      <td>351</td>\n",
       "      <td>33</td>\n",
       "      <td>35.8974</td>\n",
       "      <td>0.9004</td>\n",
       "      <td>0.8952</td>\n",
       "      <td>0.8933</td>\n",
       "      <td>0.5195</td>\n",
       "      <td>0.8294</td>\n",
       "      <td>0.9134</td>\n",
       "      <td>0.8989</td>\n",
       "      <td>0.9399</td>\n",
       "      <td>0.8372</td>\n",
       "      <td>0.7971</td>\n",
       "    </tr>\n",
       "    <tr>\n",
       "      <th>0</th>\n",
       "      <td>letter</td>\n",
       "      <td>1600</td>\n",
       "      <td>32</td>\n",
       "      <td>6.25</td>\n",
       "      <td>0.8465</td>\n",
       "      <td>0.7423</td>\n",
       "      <td>0.866</td>\n",
       "      <td>0.5728</td>\n",
       "      <td>0.5836</td>\n",
       "      <td>0.845</td>\n",
       "      <td>0.8409</td>\n",
       "      <td>0.7499</td>\n",
       "      <td>0.5744</td>\n",
       "      <td>0.48</td>\n",
       "    </tr>\n",
       "    <tr>\n",
       "      <th>0</th>\n",
       "      <td>lympho</td>\n",
       "      <td>148</td>\n",
       "      <td>18</td>\n",
       "      <td>4.0541</td>\n",
       "      <td>0.9382</td>\n",
       "      <td>0.9709</td>\n",
       "      <td>0.9673</td>\n",
       "      <td>0.9964</td>\n",
       "      <td>0.9855</td>\n",
       "      <td>0.9636</td>\n",
       "      <td>0.9636</td>\n",
       "      <td>0.9164</td>\n",
       "      <td>0.9636</td>\n",
       "      <td>0.9818</td>\n",
       "    </tr>\n",
       "    <tr>\n",
       "      <th>0</th>\n",
       "      <td>mnist</td>\n",
       "      <td>7603</td>\n",
       "      <td>100</td>\n",
       "      <td>9.2069</td>\n",
       "      <td>0.7813</td>\n",
       "      <td>0.8447</td>\n",
       "      <td>0.7259</td>\n",
       "      <td>0.5675</td>\n",
       "      <td>0.7813</td>\n",
       "      <td>0.8409</td>\n",
       "      <td>0.7085</td>\n",
       "      <td>0.863</td>\n",
       "      <td>0.8417</td>\n",
       "      <td>0.8396</td>\n",
       "    </tr>\n",
       "    <tr>\n",
       "      <th>0</th>\n",
       "      <td>musk</td>\n",
       "      <td>3062</td>\n",
       "      <td>166</td>\n",
       "      <td>3.1679</td>\n",
       "      <td>0.0809</td>\n",
       "      <td>1</td>\n",
       "      <td>0.5228</td>\n",
       "      <td>0.9999</td>\n",
       "      <td>0.9992</td>\n",
       "      <td>0.7348</td>\n",
       "      <td>0.5323</td>\n",
       "      <td>1</td>\n",
       "      <td>1</td>\n",
       "      <td>1</td>\n",
       "    </tr>\n",
       "    <tr>\n",
       "      <th>0</th>\n",
       "      <td>optdigits</td>\n",
       "      <td>5216</td>\n",
       "      <td>64</td>\n",
       "      <td>2.8758</td>\n",
       "      <td>0.4428</td>\n",
       "      <td>0.7852</td>\n",
       "      <td>0.4641</td>\n",
       "      <td>0.8822</td>\n",
       "      <td>0.5442</td>\n",
       "      <td>0.3824</td>\n",
       "      <td>0.4584</td>\n",
       "      <td>0.3486</td>\n",
       "      <td>0.4972</td>\n",
       "      <td>0.504</td>\n",
       "    </tr>\n",
       "    <tr>\n",
       "      <th>0</th>\n",
       "      <td>pendigits</td>\n",
       "      <td>6870</td>\n",
       "      <td>16</td>\n",
       "      <td>2.2707</td>\n",
       "      <td>0.7008</td>\n",
       "      <td>0.9609</td>\n",
       "      <td>0.4687</td>\n",
       "      <td>0.9294</td>\n",
       "      <td>0.9482</td>\n",
       "      <td>0.7602</td>\n",
       "      <td>0.481</td>\n",
       "      <td>0.8271</td>\n",
       "      <td>0.93</td>\n",
       "      <td>0.9332</td>\n",
       "    </tr>\n",
       "    <tr>\n",
       "      <th>0</th>\n",
       "      <td>pima</td>\n",
       "      <td>768</td>\n",
       "      <td>8</td>\n",
       "      <td>34.8958</td>\n",
       "      <td>0.6757</td>\n",
       "      <td>0.684</td>\n",
       "      <td>0.6446</td>\n",
       "      <td>0.7169</td>\n",
       "      <td>0.6777</td>\n",
       "      <td>0.7252</td>\n",
       "      <td>0.6604</td>\n",
       "      <td>0.7047</td>\n",
       "      <td>0.6423</td>\n",
       "      <td>0.6639</td>\n",
       "    </tr>\n",
       "    <tr>\n",
       "      <th>0</th>\n",
       "      <td>satellite</td>\n",
       "      <td>6435</td>\n",
       "      <td>36</td>\n",
       "      <td>31.6395</td>\n",
       "      <td>0.5681</td>\n",
       "      <td>0.7234</td>\n",
       "      <td>0.557</td>\n",
       "      <td>0.7393</td>\n",
       "      <td>0.7094</td>\n",
       "      <td>0.6781</td>\n",
       "      <td>0.5551</td>\n",
       "      <td>0.792</td>\n",
       "      <td>0.636</td>\n",
       "      <td>0.5783</td>\n",
       "    </tr>\n",
       "    <tr>\n",
       "      <th>0</th>\n",
       "      <td>satimage-2</td>\n",
       "      <td>5803</td>\n",
       "      <td>36</td>\n",
       "      <td>1.2235</td>\n",
       "      <td>0.86</td>\n",
       "      <td>0.9987</td>\n",
       "      <td>0.4971</td>\n",
       "      <td>0.9837</td>\n",
       "      <td>0.9973</td>\n",
       "      <td>0.9505</td>\n",
       "      <td>0.5006</td>\n",
       "      <td>0.9946</td>\n",
       "      <td>0.9976</td>\n",
       "      <td>0.9841</td>\n",
       "    </tr>\n",
       "    <tr>\n",
       "      <th>0</th>\n",
       "      <td>shuttle</td>\n",
       "      <td>49097</td>\n",
       "      <td>9</td>\n",
       "      <td>7.1511</td>\n",
       "      <td>0.6186</td>\n",
       "      <td>0.6286</td>\n",
       "      <td>0.5211</td>\n",
       "      <td>0.9851</td>\n",
       "      <td>0.9972</td>\n",
       "      <td>0.645</td>\n",
       "      <td>0.5347</td>\n",
       "      <td>0.9903</td>\n",
       "      <td>0.9922</td>\n",
       "      <td>0.9902</td>\n",
       "    </tr>\n",
       "    <tr>\n",
       "      <th>0</th>\n",
       "      <td>vertebral</td>\n",
       "      <td>240</td>\n",
       "      <td>6</td>\n",
       "      <td>12.5</td>\n",
       "      <td>0.2797</td>\n",
       "      <td>0.3908</td>\n",
       "      <td>0.3027</td>\n",
       "      <td>0.2695</td>\n",
       "      <td>0.3576</td>\n",
       "      <td>0.318</td>\n",
       "      <td>0.318</td>\n",
       "      <td>0.3308</td>\n",
       "      <td>0.4087</td>\n",
       "      <td>0.3397</td>\n",
       "    </tr>\n",
       "    <tr>\n",
       "      <th>0</th>\n",
       "      <td>vowels</td>\n",
       "      <td>1456</td>\n",
       "      <td>12</td>\n",
       "      <td>3.4341</td>\n",
       "      <td>0.9521</td>\n",
       "      <td>0.9278</td>\n",
       "      <td>0.9385</td>\n",
       "      <td>0.6758</td>\n",
       "      <td>0.7469</td>\n",
       "      <td>0.9568</td>\n",
       "      <td>0.9345</td>\n",
       "      <td>0.6779</td>\n",
       "      <td>0.7415</td>\n",
       "      <td>0.5787</td>\n",
       "    </tr>\n",
       "    <tr>\n",
       "      <th>0</th>\n",
       "      <td>wbc</td>\n",
       "      <td>378</td>\n",
       "      <td>30</td>\n",
       "      <td>5.5556</td>\n",
       "      <td>0.9232</td>\n",
       "      <td>0.9063</td>\n",
       "      <td>0.9415</td>\n",
       "      <td>0.9592</td>\n",
       "      <td>0.9451</td>\n",
       "      <td>0.9437</td>\n",
       "      <td>0.9352</td>\n",
       "      <td>0.8986</td>\n",
       "      <td>0.9408</td>\n",
       "      <td>0.9324</td>\n",
       "    </tr>\n",
       "  </tbody>\n",
       "</table>\n",
       "</div>"
      ],
      "text/plain": [
       "         Data #Sample #Dimensions Outlier Perc     PCA     MCD   OCSVM  \\\n",
       "0  arrhythmia     452         274      14.6018  0.7687  0.7684  0.7799   \n",
       "0      cardio    1831          21       9.6122  0.5763  0.8221  0.4879   \n",
       "0       glass     214           9       4.2056  0.7104  0.8506  0.7043   \n",
       "0  ionosphere     351          33      35.8974  0.9004  0.8952  0.8933   \n",
       "0      letter    1600          32         6.25  0.8465  0.7423   0.866   \n",
       "0      lympho     148          18       4.0541  0.9382  0.9709  0.9673   \n",
       "0       mnist    7603         100       9.2069  0.7813  0.8447  0.7259   \n",
       "0        musk    3062         166       3.1679  0.0809       1  0.5228   \n",
       "0   optdigits    5216          64       2.8758  0.4428  0.7852  0.4641   \n",
       "0   pendigits    6870          16       2.2707  0.7008  0.9609  0.4687   \n",
       "0        pima     768           8      34.8958  0.6757   0.684  0.6446   \n",
       "0   satellite    6435          36      31.6395  0.5681  0.7234   0.557   \n",
       "0  satimage-2    5803          36       1.2235    0.86  0.9987  0.4971   \n",
       "0     shuttle   49097           9       7.1511  0.6186  0.6286  0.5211   \n",
       "0   vertebral     240           6         12.5  0.2797  0.3908  0.3027   \n",
       "0      vowels    1456          12       3.4341  0.9521  0.9278  0.9385   \n",
       "0         wbc     378          30       5.5556  0.9232  0.9063  0.9415   \n",
       "\n",
       "      LOF   CBLOF     KNN    HBOS    ABOD IFOREST FEATUREBAGGING  \n",
       "0  0.8511  0.8478   0.782  0.7787  0.8228  0.7986         0.7997  \n",
       "0  0.8453  0.9316  0.6959  0.4715  0.8778  0.9507         0.9638  \n",
       "0  0.6524  0.7195  0.7805  0.7774  0.7165  0.6189          0.622  \n",
       "0  0.5195  0.8294  0.9134  0.8989  0.9399  0.8372         0.7971  \n",
       "0  0.5728  0.5836   0.845  0.8409  0.7499  0.5744           0.48  \n",
       "0  0.9964  0.9855  0.9636  0.9636  0.9164  0.9636         0.9818  \n",
       "0  0.5675  0.7813  0.8409  0.7085   0.863  0.8417         0.8396  \n",
       "0  0.9999  0.9992  0.7348  0.5323       1       1              1  \n",
       "0  0.8822  0.5442  0.3824  0.4584  0.3486  0.4972          0.504  \n",
       "0  0.9294  0.9482  0.7602   0.481  0.8271    0.93         0.9332  \n",
       "0  0.7169  0.6777  0.7252  0.6604  0.7047  0.6423         0.6639  \n",
       "0  0.7393  0.7094  0.6781  0.5551   0.792   0.636         0.5783  \n",
       "0  0.9837  0.9973  0.9505  0.5006  0.9946  0.9976         0.9841  \n",
       "0  0.9851  0.9972   0.645  0.5347  0.9903  0.9922         0.9902  \n",
       "0  0.2695  0.3576   0.318   0.318  0.3308  0.4087         0.3397  \n",
       "0  0.6758  0.7469  0.9568  0.9345  0.6779  0.7415         0.5787  \n",
       "0  0.9592  0.9451  0.9437  0.9352  0.8986  0.9408         0.9324  "
      ]
     },
     "execution_count": 41,
     "metadata": {},
     "output_type": "execute_result"
    }
   ],
   "source": [
    "roc_df"
   ]
  },
  {
   "cell_type": "code",
   "execution_count": null,
   "metadata": {},
   "outputs": [],
   "source": []
  }
 ],
 "metadata": {
  "kernelspec": {
   "display_name": "Python 3",
   "language": "python",
   "name": "python3"
  },
  "language_info": {
   "codemirror_mode": {
    "name": "ipython",
    "version": 3
   },
   "file_extension": ".py",
   "mimetype": "text/x-python",
   "name": "python",
   "nbconvert_exporter": "python",
   "pygments_lexer": "ipython3",
   "version": "3.8.3"
  }
 },
 "nbformat": 4,
 "nbformat_minor": 4
}
