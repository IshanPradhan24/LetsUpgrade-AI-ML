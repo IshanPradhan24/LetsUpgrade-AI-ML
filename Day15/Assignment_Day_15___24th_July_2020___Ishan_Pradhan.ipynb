{
  "nbformat": 4,
  "nbformat_minor": 0,
  "metadata": {
    "colab": {
      "name": "Assignment Day 15 | 24th July 2020 | Ishan Pradhan.ipynb",
      "provenance": [],
      "collapsed_sections": []
    },
    "kernelspec": {
      "name": "python3",
      "display_name": "Python 3"
    }
  },
  "cells": [
    {
      "cell_type": "markdown",
      "metadata": {
        "id": "bv8d6c3QPDls",
        "colab_type": "text"
      },
      "source": [
        "#Importing Files"
      ]
    },
    {
      "cell_type": "code",
      "metadata": {
        "id": "bl7NEKvqFvuA",
        "colab_type": "code",
        "colab": {}
      },
      "source": [
        "import numpy as np\n",
        "from datetime import date, timedelta"
      ],
      "execution_count": 1,
      "outputs": []
    },
    {
      "cell_type": "markdown",
      "metadata": {
        "id": "_zLC1Y7NGVAa",
        "colab_type": "text"
      },
      "source": [
        "#1. Create a 3x3x3 array with random values"
      ]
    },
    {
      "cell_type": "code",
      "metadata": {
        "id": "w26WEKMbGctV",
        "colab_type": "code",
        "colab": {
          "base_uri": "https://localhost:8080/",
          "height": 204
        },
        "outputId": "ffcae4ca-f3d2-474b-ee5d-45c40253566c"
      },
      "source": [
        "arr = np.random.rand(3,3,3)\n",
        "arr"
      ],
      "execution_count": 2,
      "outputs": [
        {
          "output_type": "execute_result",
          "data": {
            "text/plain": [
              "array([[[0.32514819, 0.28175728, 0.78498319],\n",
              "        [0.08786185, 0.59003699, 0.49385264],\n",
              "        [0.09357971, 0.79592161, 0.27565641]],\n",
              "\n",
              "       [[0.08685296, 0.85282523, 0.63847016],\n",
              "        [0.59277417, 0.65575866, 0.29649502],\n",
              "        [0.02069132, 0.18531769, 0.40346595]],\n",
              "\n",
              "       [[0.26998616, 0.09724929, 0.05149818],\n",
              "        [0.81049494, 0.04293162, 0.97149385],\n",
              "        [0.74506305, 0.61213541, 0.67033759]]])"
            ]
          },
          "metadata": {
            "tags": []
          },
          "execution_count": 2
        }
      ]
    },
    {
      "cell_type": "markdown",
      "metadata": {
        "id": "KjJ2_1g-GmTm",
        "colab_type": "text"
      },
      "source": [
        "#2. Create a 5x5 matrix with values 1,2,3,4 just below the diagonal"
      ]
    },
    {
      "cell_type": "code",
      "metadata": {
        "id": "jUK7fiLtGi8J",
        "colab_type": "code",
        "colab": {
          "base_uri": "https://localhost:8080/",
          "height": 102
        },
        "outputId": "71681483-c0ba-4e5b-b01a-c53708a02994"
      },
      "source": [
        "arr = np.diag(np.arange(4) + 1, k = -1)\n",
        "arr"
      ],
      "execution_count": 3,
      "outputs": [
        {
          "output_type": "execute_result",
          "data": {
            "text/plain": [
              "array([[0, 0, 0, 0, 0],\n",
              "       [1, 0, 0, 0, 0],\n",
              "       [0, 2, 0, 0, 0],\n",
              "       [0, 0, 3, 0, 0],\n",
              "       [0, 0, 0, 4, 0]])"
            ]
          },
          "metadata": {
            "tags": []
          },
          "execution_count": 3
        }
      ]
    },
    {
      "cell_type": "markdown",
      "metadata": {
        "id": "KbsARzdRGuU1",
        "colab_type": "text"
      },
      "source": [
        "#3. Create a 8x8 matrix and fill it with a checkerboard pattern"
      ]
    },
    {
      "cell_type": "code",
      "metadata": {
        "id": "MzXywY5pGqa_",
        "colab_type": "code",
        "colab": {
          "base_uri": "https://localhost:8080/",
          "height": 153
        },
        "outputId": "f7844c2c-84ec-45c9-97d2-40b4d2b52d9c"
      },
      "source": [
        "arr = np.tile(np.array([[0,1],[1,0]]), (4,4))\n",
        "arr"
      ],
      "execution_count": 4,
      "outputs": [
        {
          "output_type": "execute_result",
          "data": {
            "text/plain": [
              "array([[0, 1, 0, 1, 0, 1, 0, 1],\n",
              "       [1, 0, 1, 0, 1, 0, 1, 0],\n",
              "       [0, 1, 0, 1, 0, 1, 0, 1],\n",
              "       [1, 0, 1, 0, 1, 0, 1, 0],\n",
              "       [0, 1, 0, 1, 0, 1, 0, 1],\n",
              "       [1, 0, 1, 0, 1, 0, 1, 0],\n",
              "       [0, 1, 0, 1, 0, 1, 0, 1],\n",
              "       [1, 0, 1, 0, 1, 0, 1, 0]])"
            ]
          },
          "metadata": {
            "tags": []
          },
          "execution_count": 4
        }
      ]
    },
    {
      "cell_type": "markdown",
      "metadata": {
        "id": "UDMS9_L6G5G9",
        "colab_type": "text"
      },
      "source": [
        "#4. Normalize a 5x5 random matrix"
      ]
    },
    {
      "cell_type": "code",
      "metadata": {
        "id": "x4Mha72yG0pf",
        "colab_type": "code",
        "colab": {
          "base_uri": "https://localhost:8080/",
          "height": 102
        },
        "outputId": "3e3bab48-5d14-44fc-dbd1-d90f5d648791"
      },
      "source": [
        "arr = np.random.random((5,5))\n",
        "arr = (arr - np.mean (arr)) / (np.std (arr))\n",
        "arr"
      ],
      "execution_count": 5,
      "outputs": [
        {
          "output_type": "execute_result",
          "data": {
            "text/plain": [
              "array([[ 1.23948042, -0.84761634,  0.67326508,  1.74810713, -0.54532407],\n",
              "       [-1.65791661,  1.18965962, -0.35350624,  0.28416601, -0.55239157],\n",
              "       [ 1.52341178,  0.95381567,  0.42228264,  0.43424827,  0.487391  ],\n",
              "       [-1.02709439, -0.58311001, -0.15130902, -0.66487326,  0.82597089],\n",
              "       [-0.84718237, -1.14465902, -2.25406099,  0.88138064, -0.03413526]])"
            ]
          },
          "metadata": {
            "tags": []
          },
          "execution_count": 5
        }
      ]
    },
    {
      "cell_type": "markdown",
      "metadata": {
        "id": "FztCIXzxHDit",
        "colab_type": "text"
      },
      "source": [
        "#5. How to find common values between two arrays?"
      ]
    },
    {
      "cell_type": "code",
      "metadata": {
        "id": "bukDFvXqHGGO",
        "colab_type": "code",
        "colab": {
          "base_uri": "https://localhost:8080/",
          "height": 34
        },
        "outputId": "18cc98e4-f2b1-4a97-c701-ccda3df0ce0a"
      },
      "source": [
        "arr1 = np.random.randint(0,10,10)\n",
        "arr2 = np.random.randint(0,10,10)\n",
        "\n",
        "np.intersect1d(arr1, arr2)"
      ],
      "execution_count": 6,
      "outputs": [
        {
          "output_type": "execute_result",
          "data": {
            "text/plain": [
              "array([3, 5, 6, 8])"
            ]
          },
          "metadata": {
            "tags": []
          },
          "execution_count": 6
        }
      ]
    },
    {
      "cell_type": "markdown",
      "metadata": {
        "id": "d2ubQG51HNBm",
        "colab_type": "text"
      },
      "source": [
        "#6. How to get the dates of yesterday, today and tomorrow?"
      ]
    },
    {
      "cell_type": "code",
      "metadata": {
        "id": "8p6ZwiMIHJO7",
        "colab_type": "code",
        "colab": {
          "base_uri": "https://localhost:8080/",
          "height": 34
        },
        "outputId": "ae4856c1-2913-49af-d4ab-a8071adf099b"
      },
      "source": [
        "yesterday = np.datetime64('today') - np.timedelta64(1)\n",
        "today     = np.datetime64('today')\n",
        "tomorrow  = np.datetime64('today') + np.timedelta64(1)\n",
        "print(yesterday, today, tomorrow)"
      ],
      "execution_count": 7,
      "outputs": [
        {
          "output_type": "stream",
          "text": [
            "2020-08-07 2020-08-08 2020-08-09\n"
          ],
          "name": "stdout"
        }
      ]
    },
    {
      "cell_type": "markdown",
      "metadata": {
        "id": "k6N6oDmAHSne",
        "colab_type": "text"
      },
      "source": [
        "#7. Consider two random array A and B, check if they are equal"
      ]
    },
    {
      "cell_type": "code",
      "metadata": {
        "id": "MVXOQE4oHQLW",
        "colab_type": "code",
        "colab": {
          "base_uri": "https://localhost:8080/",
          "height": 238
        },
        "outputId": "5116726c-2ead-4c54-8672-df4bfd8fd84c"
      },
      "source": [
        "arr1 = np.random.rand(3,3)\n",
        "arr2 = np.random.rand(3,3)\n",
        "\n",
        "equal = np.array_equal(arr1,arr2)\n",
        "print(f'Array1:\\n{arr1}\\n\\n')\n",
        "print(f'Array2:\\n{arr2}\\n\\n')\n",
        "print(f'Equality: {equal}')"
      ],
      "execution_count": 9,
      "outputs": [
        {
          "output_type": "stream",
          "text": [
            "Array1:\n",
            "[[0.86200537 0.54244303 0.07643054]\n",
            " [0.46191264 0.32921747 0.91231753]\n",
            " [0.52069624 0.1792288  0.49840255]]\n",
            "\n",
            "\n",
            "Array2:\n",
            "[[0.70179835 0.05098144 0.83263309]\n",
            " [0.07742237 0.62452266 0.82779605]\n",
            " [0.15970698 0.51222165 0.40812194]]\n",
            "\n",
            "\n",
            "Equality: False\n"
          ],
          "name": "stdout"
        }
      ]
    },
    {
      "cell_type": "markdown",
      "metadata": {
        "id": "dqZcNWXKHcdL",
        "colab_type": "text"
      },
      "source": [
        "\n",
        "#8. Create random vector of size 10 and replace the maximum value by 0"
      ]
    },
    {
      "cell_type": "code",
      "metadata": {
        "id": "Fi6IBaUrHWwm",
        "colab_type": "code",
        "colab": {
          "base_uri": "https://localhost:8080/",
          "height": 51
        },
        "outputId": "7568cde6-365a-400d-ee4c-3044f714c1ed"
      },
      "source": [
        "arr = np.random.rand(10)\n",
        "arr[arr.argmax()] = 0\n",
        "arr"
      ],
      "execution_count": 10,
      "outputs": [
        {
          "output_type": "execute_result",
          "data": {
            "text/plain": [
              "array([0.31827193, 0.04803612, 0.29529231, 0.18171528, 0.36755016,\n",
              "       0.9361617 , 0.48637988, 0.8492991 , 0.        , 0.10585225])"
            ]
          },
          "metadata": {
            "tags": []
          },
          "execution_count": 10
        }
      ]
    },
    {
      "cell_type": "markdown",
      "metadata": {
        "id": "fpAevsLmHlge",
        "colab_type": "text"
      },
      "source": [
        "\n",
        "#9. How to print all the values of an array?"
      ]
    },
    {
      "cell_type": "code",
      "metadata": {
        "id": "pJo5JHNVQIv5",
        "colab_type": "code",
        "colab": {
          "base_uri": "https://localhost:8080/",
          "height": 289
        },
        "outputId": "a2c75ee6-09b4-4c8e-896d-dd52d123ff25"
      },
      "source": [
        "np.set_printoptions(threshold=float(\"inf\"))\n",
        "Z = np.zeros((16,16))\n",
        "print(Z)"
      ],
      "execution_count": 18,
      "outputs": [
        {
          "output_type": "stream",
          "text": [
            "[[0. 0. 0. 0. 0. 0. 0. 0. 0. 0. 0. 0. 0. 0. 0. 0.]\n",
            " [0. 0. 0. 0. 0. 0. 0. 0. 0. 0. 0. 0. 0. 0. 0. 0.]\n",
            " [0. 0. 0. 0. 0. 0. 0. 0. 0. 0. 0. 0. 0. 0. 0. 0.]\n",
            " [0. 0. 0. 0. 0. 0. 0. 0. 0. 0. 0. 0. 0. 0. 0. 0.]\n",
            " [0. 0. 0. 0. 0. 0. 0. 0. 0. 0. 0. 0. 0. 0. 0. 0.]\n",
            " [0. 0. 0. 0. 0. 0. 0. 0. 0. 0. 0. 0. 0. 0. 0. 0.]\n",
            " [0. 0. 0. 0. 0. 0. 0. 0. 0. 0. 0. 0. 0. 0. 0. 0.]\n",
            " [0. 0. 0. 0. 0. 0. 0. 0. 0. 0. 0. 0. 0. 0. 0. 0.]\n",
            " [0. 0. 0. 0. 0. 0. 0. 0. 0. 0. 0. 0. 0. 0. 0. 0.]\n",
            " [0. 0. 0. 0. 0. 0. 0. 0. 0. 0. 0. 0. 0. 0. 0. 0.]\n",
            " [0. 0. 0. 0. 0. 0. 0. 0. 0. 0. 0. 0. 0. 0. 0. 0.]\n",
            " [0. 0. 0. 0. 0. 0. 0. 0. 0. 0. 0. 0. 0. 0. 0. 0.]\n",
            " [0. 0. 0. 0. 0. 0. 0. 0. 0. 0. 0. 0. 0. 0. 0. 0.]\n",
            " [0. 0. 0. 0. 0. 0. 0. 0. 0. 0. 0. 0. 0. 0. 0. 0.]\n",
            " [0. 0. 0. 0. 0. 0. 0. 0. 0. 0. 0. 0. 0. 0. 0. 0.]\n",
            " [0. 0. 0. 0. 0. 0. 0. 0. 0. 0. 0. 0. 0. 0. 0. 0.]]\n"
          ],
          "name": "stdout"
        }
      ]
    },
    {
      "cell_type": "markdown",
      "metadata": {
        "id": "-XLK2v4eHsvF",
        "colab_type": "text"
      },
      "source": [
        "\n",
        "#10. Subtract the mean of each row of a matrix"
      ]
    },
    {
      "cell_type": "code",
      "metadata": {
        "id": "O2G0R9UpHmKc",
        "colab_type": "code",
        "colab": {
          "base_uri": "https://localhost:8080/",
          "height": 527
        },
        "outputId": "19fa91c7-9d03-4afb-a0e1-42d0455cc220"
      },
      "source": [
        "X = np.random.rand(5, 10)\n",
        "\n",
        "# Recent versions of numpy\n",
        "Y = X - X.mean(axis=1, keepdims=True)\n",
        "\n",
        "# Older versions of numpy\n",
        "Y1 = X - X.mean(axis=1).reshape(-1, 1)\n",
        "\n",
        "print(Y)\n",
        "print(Y1)"
      ],
      "execution_count": 19,
      "outputs": [
        {
          "output_type": "stream",
          "text": [
            "[[-4.61283087e-01  3.56714285e-01 -6.97021643e-02  5.87113444e-02\n",
            "   6.52109849e-03  1.60641098e-02  3.12267640e-01 -5.63009135e-01\n",
            "   3.20958894e-01  2.27570134e-02]\n",
            " [-2.71210136e-01  6.16304779e-01 -2.62341676e-01  5.51219790e-01\n",
            "  -3.22502964e-01  1.79446626e-01 -2.42440888e-01 -2.61541304e-01\n",
            "  -2.00312461e-01  2.13378234e-01]\n",
            " [ 5.16816872e-02 -1.82885379e-01 -1.19794795e-01  2.16399576e-01\n",
            "   2.44249005e-04 -4.09228830e-01 -2.21862561e-01  1.28774781e-01\n",
            "   1.62023541e-01  3.74647731e-01]\n",
            " [-3.40023652e-01  2.03776011e-03  1.57330430e-01 -1.88856234e-01\n",
            "   4.70949478e-01 -2.62075976e-01  3.13690952e-01 -3.71740726e-01\n",
            "   8.21778809e-02  1.36510085e-01]\n",
            " [ 2.20734667e-02  7.68154374e-02 -1.48199777e-01 -6.31024642e-02\n",
            "  -2.25449366e-01  1.59823312e-01  3.15060091e-01  3.11842403e-02\n",
            "  -4.01517100e-01  2.33312160e-01]]\n",
            "[[-4.61283087e-01  3.56714285e-01 -6.97021643e-02  5.87113444e-02\n",
            "   6.52109849e-03  1.60641098e-02  3.12267640e-01 -5.63009135e-01\n",
            "   3.20958894e-01  2.27570134e-02]\n",
            " [-2.71210136e-01  6.16304779e-01 -2.62341676e-01  5.51219790e-01\n",
            "  -3.22502964e-01  1.79446626e-01 -2.42440888e-01 -2.61541304e-01\n",
            "  -2.00312461e-01  2.13378234e-01]\n",
            " [ 5.16816872e-02 -1.82885379e-01 -1.19794795e-01  2.16399576e-01\n",
            "   2.44249005e-04 -4.09228830e-01 -2.21862561e-01  1.28774781e-01\n",
            "   1.62023541e-01  3.74647731e-01]\n",
            " [-3.40023652e-01  2.03776011e-03  1.57330430e-01 -1.88856234e-01\n",
            "   4.70949478e-01 -2.62075976e-01  3.13690952e-01 -3.71740726e-01\n",
            "   8.21778809e-02  1.36510085e-01]\n",
            " [ 2.20734667e-02  7.68154374e-02 -1.48199777e-01 -6.31024642e-02\n",
            "  -2.25449366e-01  1.59823312e-01  3.15060091e-01  3.11842403e-02\n",
            "  -4.01517100e-01  2.33312160e-01]]\n"
          ],
          "name": "stdout"
        }
      ]
    },
    {
      "cell_type": "markdown",
      "metadata": {
        "id": "-vCDMcOLHzkF",
        "colab_type": "text"
      },
      "source": [
        "#11.Consider a given vector, how to add 1 to each element indexed by a second vector (be careful with repeated indices)?"
      ]
    },
    {
      "cell_type": "code",
      "metadata": {
        "id": "ihinVT3ZHxRL",
        "colab_type": "code",
        "colab": {
          "base_uri": "https://localhost:8080/",
          "height": 34
        },
        "outputId": "de240fec-b1c9-4b89-bc86-109384d4ea7d"
      },
      "source": [
        "arr1 = np.ones(5)\n",
        "arr2 = np.random.randint(0, len(arr1), 10)\n",
        "arr1 += np.bincount(arr2, minlength = len(arr1))\n",
        "arr1"
      ],
      "execution_count": 13,
      "outputs": [
        {
          "output_type": "execute_result",
          "data": {
            "text/plain": [
              "array([4., 2., 1., 5., 3.])"
            ]
          },
          "metadata": {
            "tags": []
          },
          "execution_count": 13
        }
      ]
    },
    {
      "cell_type": "markdown",
      "metadata": {
        "id": "HOEzq1rmH5Xe",
        "colab_type": "text"
      },
      "source": [
        "#12. How to get the diagonal of a dot product?"
      ]
    },
    {
      "cell_type": "code",
      "metadata": {
        "id": "-n2UD0Q5H2-A",
        "colab_type": "code",
        "colab": {
          "base_uri": "https://localhost:8080/",
          "height": 221
        },
        "outputId": "42dcca7b-2d61-4e74-d781-6b553ac31bc4"
      },
      "source": [
        "A = np.random.uniform(0,1,(5,5))\n",
        "B = np.random.uniform(0,1,(5,5))\n",
        "print(A)\n",
        "print(B)\n",
        "# Slow version\n",
        "prod1=np.diag(np.dot(A, B))\n",
        "\n",
        "# Fast version\n",
        "prod2=np.sum(A * B.T, axis=1)\n",
        "\n",
        "print(\"diagonal of a dot product method 1 is....\",prod1)\n",
        "print(\"diagonal of a dot product method 2 is....\",prod2)"
      ],
      "execution_count": 20,
      "outputs": [
        {
          "output_type": "stream",
          "text": [
            "[[0.3267196  0.95629203 0.48768993 0.52338937 0.56877759]\n",
            " [0.26450062 0.91257777 0.70758334 0.00819606 0.2690616 ]\n",
            " [0.82780998 0.12477885 0.00879543 0.04870195 0.56039849]\n",
            " [0.67221692 0.58689226 0.7793469  0.1147397  0.21127929]\n",
            " [0.13854031 0.98739542 0.38974362 0.78001869 0.6639166 ]]\n",
            "[[0.59264489 0.62058444 0.08978505 0.68073195 0.23654899]\n",
            " [0.33778813 0.289621   0.47212036 0.89884071 0.94328625]\n",
            " [0.06017098 0.59636603 0.09314261 0.90010177 0.6472612 ]\n",
            " [0.93740919 0.86143633 0.29186105 0.37677461 0.25852667]\n",
            " [0.22941396 0.60364144 0.97331988 0.71560658 0.55499052]]\n",
            "diagonal of a dot product method 1 is.... [1.16711309 1.01990244 0.69371603 1.88103757 1.78655707]\n",
            "diagonal of a dot product method 2 is.... [1.16711309 1.01990244 0.69371603 1.88103757 1.78655707]\n"
          ],
          "name": "stdout"
        }
      ]
    },
    {
      "cell_type": "markdown",
      "metadata": {
        "id": "jYAJeAUNIE_m",
        "colab_type": "text"
      },
      "source": [
        "#13. How to find the most frequent value in an array?"
      ]
    },
    {
      "cell_type": "code",
      "metadata": {
        "id": "C_nTM_-TH9Ux",
        "colab_type": "code",
        "colab": {
          "base_uri": "https://localhost:8080/",
          "height": 68
        },
        "outputId": "28f26aca-9c18-4a03-f7bc-9ac218bd036d"
      },
      "source": [
        "Z = np.random.randint(0,10,50)\n",
        "print(Z)\n",
        "print(np.bincount(Z).argmax())"
      ],
      "execution_count": 21,
      "outputs": [
        {
          "output_type": "stream",
          "text": [
            "[6 1 9 4 2 2 9 2 8 4 5 8 8 4 1 6 0 7 5 1 5 3 7 9 9 7 0 0 6 9 0 7 1 8 8 4 4\n",
            " 0 8 6 0 4 4 0 5 5 6 2 5 4]\n",
            "4\n"
          ],
          "name": "stdout"
        }
      ]
    },
    {
      "cell_type": "markdown",
      "metadata": {
        "id": "GemVItYkIGHm",
        "colab_type": "text"
      },
      "source": [
        "#14. How to get the n largest values of an array"
      ]
    },
    {
      "cell_type": "code",
      "metadata": {
        "id": "jiN2F0qwIRk1",
        "colab_type": "code",
        "colab": {
          "base_uri": "https://localhost:8080/",
          "height": 34
        },
        "outputId": "2413f4be-57b0-4349-9a22-c8da163cab4f"
      },
      "source": [
        "Z = np.arange(10000)\n",
        "np.random.shuffle(Z)\n",
        "n = 5\n",
        "\n",
        "\n",
        "print (Z[np.argsort(Z)[-n:]])\n",
        "\n"
      ],
      "execution_count": 22,
      "outputs": [
        {
          "output_type": "stream",
          "text": [
            "[9995 9996 9997 9998 9999]\n"
          ],
          "name": "stdout"
        }
      ]
    },
    {
      "cell_type": "markdown",
      "metadata": {
        "id": "b0JlO_63IK81",
        "colab_type": "text"
      },
      "source": [
        "#15. How to create a record array from a regular array?"
      ]
    },
    {
      "cell_type": "code",
      "metadata": {
        "id": "Y6WSsQJmIIPZ",
        "colab_type": "code",
        "colab": {
          "base_uri": "https://localhost:8080/",
          "height": 34
        },
        "outputId": "66115064-d1f3-4ce3-eff8-170e6a9ea778"
      },
      "source": [
        "Z = np.array([(\"Hello\", 2.5, 3),\n",
        "              (\"World\", 3.6, 2)])\n",
        "R = np.core.records.fromarrays(Z.T,\n",
        "                               names='col1, col2, col3',\n",
        "                               formats = 'S8, f8, i8')\n",
        "print(R)"
      ],
      "execution_count": 23,
      "outputs": [
        {
          "output_type": "stream",
          "text": [
            "[(b'Hello', 2.5, 3) (b'World', 3.6, 2)]\n"
          ],
          "name": "stdout"
        }
      ]
    },
    {
      "cell_type": "code",
      "metadata": {
        "id": "Bamot-2sIVHE",
        "colab_type": "code",
        "colab": {}
      },
      "source": [
        ""
      ],
      "execution_count": null,
      "outputs": []
    }
  ]
}