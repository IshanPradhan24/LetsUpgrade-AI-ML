{
  "nbformat": 4,
  "nbformat_minor": 0,
  "metadata": {
    "colab": {
      "name": "Assignment_Day_15_14th_July_2020_IshanPradhan.ipynb",
      "provenance": []
    },
    "kernelspec": {
      "name": "python3",
      "display_name": "Python 3"
    }
  },
  "cells": [
    {
      "cell_type": "code",
      "metadata": {
        "id": "bl7NEKvqFvuA",
        "colab_type": "code",
        "colab": {}
      },
      "source": [
        "import numpy as np\n",
        "from datetime import date, timedelta"
      ],
      "execution_count": 1,
      "outputs": []
    },
    {
      "cell_type": "markdown",
      "metadata": {
        "id": "_zLC1Y7NGVAa",
        "colab_type": "text"
      },
      "source": [
        "#1. Create a 3x3x3 array with random values"
      ]
    },
    {
      "cell_type": "code",
      "metadata": {
        "id": "w26WEKMbGctV",
        "colab_type": "code",
        "colab": {
          "base_uri": "https://localhost:8080/",
          "height": 204
        },
        "outputId": "ffcae4ca-f3d2-474b-ee5d-45c40253566c"
      },
      "source": [
        "arr = np.random.rand(3,3,3)\n",
        "arr"
      ],
      "execution_count": 2,
      "outputs": [
        {
          "output_type": "execute_result",
          "data": {
            "text/plain": [
              "array([[[0.32514819, 0.28175728, 0.78498319],\n",
              "        [0.08786185, 0.59003699, 0.49385264],\n",
              "        [0.09357971, 0.79592161, 0.27565641]],\n",
              "\n",
              "       [[0.08685296, 0.85282523, 0.63847016],\n",
              "        [0.59277417, 0.65575866, 0.29649502],\n",
              "        [0.02069132, 0.18531769, 0.40346595]],\n",
              "\n",
              "       [[0.26998616, 0.09724929, 0.05149818],\n",
              "        [0.81049494, 0.04293162, 0.97149385],\n",
              "        [0.74506305, 0.61213541, 0.67033759]]])"
            ]
          },
          "metadata": {
            "tags": []
          },
          "execution_count": 2
        }
      ]
    },
    {
      "cell_type": "markdown",
      "metadata": {
        "id": "KjJ2_1g-GmTm",
        "colab_type": "text"
      },
      "source": [
        "#2. Create a 5x5 matrix with values 1,2,3,4 just below the diagonal"
      ]
    },
    {
      "cell_type": "code",
      "metadata": {
        "id": "jUK7fiLtGi8J",
        "colab_type": "code",
        "colab": {
          "base_uri": "https://localhost:8080/",
          "height": 102
        },
        "outputId": "71681483-c0ba-4e5b-b01a-c53708a02994"
      },
      "source": [
        "arr = np.diag(np.arange(4) + 1, k = -1)\n",
        "arr"
      ],
      "execution_count": 3,
      "outputs": [
        {
          "output_type": "execute_result",
          "data": {
            "text/plain": [
              "array([[0, 0, 0, 0, 0],\n",
              "       [1, 0, 0, 0, 0],\n",
              "       [0, 2, 0, 0, 0],\n",
              "       [0, 0, 3, 0, 0],\n",
              "       [0, 0, 0, 4, 0]])"
            ]
          },
          "metadata": {
            "tags": []
          },
          "execution_count": 3
        }
      ]
    },
    {
      "cell_type": "markdown",
      "metadata": {
        "id": "KbsARzdRGuU1",
        "colab_type": "text"
      },
      "source": [
        "#3. Create a 8x8 matrix and fill it with a checkerboard pattern"
      ]
    },
    {
      "cell_type": "code",
      "metadata": {
        "id": "MzXywY5pGqa_",
        "colab_type": "code",
        "colab": {
          "base_uri": "https://localhost:8080/",
          "height": 153
        },
        "outputId": "f7844c2c-84ec-45c9-97d2-40b4d2b52d9c"
      },
      "source": [
        "arr = np.tile(np.array([[0,1],[1,0]]), (4,4))\n",
        "arr"
      ],
      "execution_count": 4,
      "outputs": [
        {
          "output_type": "execute_result",
          "data": {
            "text/plain": [
              "array([[0, 1, 0, 1, 0, 1, 0, 1],\n",
              "       [1, 0, 1, 0, 1, 0, 1, 0],\n",
              "       [0, 1, 0, 1, 0, 1, 0, 1],\n",
              "       [1, 0, 1, 0, 1, 0, 1, 0],\n",
              "       [0, 1, 0, 1, 0, 1, 0, 1],\n",
              "       [1, 0, 1, 0, 1, 0, 1, 0],\n",
              "       [0, 1, 0, 1, 0, 1, 0, 1],\n",
              "       [1, 0, 1, 0, 1, 0, 1, 0]])"
            ]
          },
          "metadata": {
            "tags": []
          },
          "execution_count": 4
        }
      ]
    },
    {
      "cell_type": "markdown",
      "metadata": {
        "id": "UDMS9_L6G5G9",
        "colab_type": "text"
      },
      "source": [
        "#4. Normalize a 5x5 random matrix"
      ]
    },
    {
      "cell_type": "code",
      "metadata": {
        "id": "x4Mha72yG0pf",
        "colab_type": "code",
        "colab": {
          "base_uri": "https://localhost:8080/",
          "height": 102
        },
        "outputId": "3e3bab48-5d14-44fc-dbd1-d90f5d648791"
      },
      "source": [
        "arr = np.random.random((5,5))\n",
        "arr = (arr - np.mean (arr)) / (np.std (arr))\n",
        "arr"
      ],
      "execution_count": 5,
      "outputs": [
        {
          "output_type": "execute_result",
          "data": {
            "text/plain": [
              "array([[ 1.23948042, -0.84761634,  0.67326508,  1.74810713, -0.54532407],\n",
              "       [-1.65791661,  1.18965962, -0.35350624,  0.28416601, -0.55239157],\n",
              "       [ 1.52341178,  0.95381567,  0.42228264,  0.43424827,  0.487391  ],\n",
              "       [-1.02709439, -0.58311001, -0.15130902, -0.66487326,  0.82597089],\n",
              "       [-0.84718237, -1.14465902, -2.25406099,  0.88138064, -0.03413526]])"
            ]
          },
          "metadata": {
            "tags": []
          },
          "execution_count": 5
        }
      ]
    },
    {
      "cell_type": "markdown",
      "metadata": {
        "id": "FztCIXzxHDit",
        "colab_type": "text"
      },
      "source": [
        "#5. How to find common values between two arrays"
      ]
    },
    {
      "cell_type": "code",
      "metadata": {
        "id": "bukDFvXqHGGO",
        "colab_type": "code",
        "colab": {
          "base_uri": "https://localhost:8080/",
          "height": 34
        },
        "outputId": "18cc98e4-f2b1-4a97-c701-ccda3df0ce0a"
      },
      "source": [
        "arr1 = np.random.randint(0,10,10)\n",
        "arr2 = np.random.randint(0,10,10)\n",
        "\n",
        "np.intersect1d(arr1, arr2)"
      ],
      "execution_count": 6,
      "outputs": [
        {
          "output_type": "execute_result",
          "data": {
            "text/plain": [
              "array([3, 5, 6, 8])"
            ]
          },
          "metadata": {
            "tags": []
          },
          "execution_count": 6
        }
      ]
    },
    {
      "cell_type": "markdown",
      "metadata": {
        "id": "d2ubQG51HNBm",
        "colab_type": "text"
      },
      "source": [
        "#6. How to get the dates of yesterday, today and tomorrow?"
      ]
    },
    {
      "cell_type": "code",
      "metadata": {
        "id": "8p6ZwiMIHJO7",
        "colab_type": "code",
        "colab": {
          "base_uri": "https://localhost:8080/",
          "height": 34
        },
        "outputId": "ae4856c1-2913-49af-d4ab-a8071adf099b"
      },
      "source": [
        "yesterday = np.datetime64('today') - np.timedelta64(1)\n",
        "today     = np.datetime64('today')\n",
        "tomorrow  = np.datetime64('today') + np.timedelta64(1)\n",
        "print(yesterday, today, tomorrow)"
      ],
      "execution_count": 7,
      "outputs": [
        {
          "output_type": "stream",
          "text": [
            "2020-08-07 2020-08-08 2020-08-09\n"
          ],
          "name": "stdout"
        }
      ]
    },
    {
      "cell_type": "markdown",
      "metadata": {
        "id": "k6N6oDmAHSne",
        "colab_type": "text"
      },
      "source": [
        "#7. Consider two random array A and B, check if they are equal"
      ]
    },
    {
      "cell_type": "code",
      "metadata": {
        "id": "MVXOQE4oHQLW",
        "colab_type": "code",
        "colab": {
          "base_uri": "https://localhost:8080/",
          "height": 238
        },
        "outputId": "5116726c-2ead-4c54-8672-df4bfd8fd84c"
      },
      "source": [
        "arr1 = np.random.rand(3,3)\n",
        "arr2 = np.random.rand(3,3)\n",
        "\n",
        "equal = np.array_equal(arr1,arr2)\n",
        "print(f'Array1:\\n{arr1}\\n\\n')\n",
        "print(f'Array2:\\n{arr2}\\n\\n')\n",
        "print(f'Equality: {equal}')"
      ],
      "execution_count": 9,
      "outputs": [
        {
          "output_type": "stream",
          "text": [
            "Array1:\n",
            "[[0.86200537 0.54244303 0.07643054]\n",
            " [0.46191264 0.32921747 0.91231753]\n",
            " [0.52069624 0.1792288  0.49840255]]\n",
            "\n",
            "\n",
            "Array2:\n",
            "[[0.70179835 0.05098144 0.83263309]\n",
            " [0.07742237 0.62452266 0.82779605]\n",
            " [0.15970698 0.51222165 0.40812194]]\n",
            "\n",
            "\n",
            "Equality: False\n"
          ],
          "name": "stdout"
        }
      ]
    },
    {
      "cell_type": "markdown",
      "metadata": {
        "id": "dqZcNWXKHcdL",
        "colab_type": "text"
      },
      "source": [
        "\n",
        "#8. Create random vector of size 10 and replace the maximum value by 0"
      ]
    },
    {
      "cell_type": "code",
      "metadata": {
        "id": "Fi6IBaUrHWwm",
        "colab_type": "code",
        "colab": {
          "base_uri": "https://localhost:8080/",
          "height": 51
        },
        "outputId": "7568cde6-365a-400d-ee4c-3044f714c1ed"
      },
      "source": [
        "arr = np.random.rand(10)\n",
        "arr[arr.argmax()] = 0\n",
        "arr"
      ],
      "execution_count": 10,
      "outputs": [
        {
          "output_type": "execute_result",
          "data": {
            "text/plain": [
              "array([0.31827193, 0.04803612, 0.29529231, 0.18171528, 0.36755016,\n",
              "       0.9361617 , 0.48637988, 0.8492991 , 0.        , 0.10585225])"
            ]
          },
          "metadata": {
            "tags": []
          },
          "execution_count": 10
        }
      ]
    },
    {
      "cell_type": "markdown",
      "metadata": {
        "id": "fpAevsLmHlge",
        "colab_type": "text"
      },
      "source": [
        "\n",
        "#9. How to print all the values of an array?"
      ]
    },
    {
      "cell_type": "code",
      "metadata": {
        "id": "hJiELgglHjWP",
        "colab_type": "code",
        "colab": {
          "base_uri": "https://localhost:8080/",
          "height": 187
        },
        "outputId": "df10657a-e664-44df-ae19-761b188ec6e4"
      },
      "source": [
        "arr = np.ones((10, 10))\n",
        "print(arr)"
      ],
      "execution_count": 11,
      "outputs": [
        {
          "output_type": "stream",
          "text": [
            "[[1. 1. 1. 1. 1. 1. 1. 1. 1. 1.]\n",
            " [1. 1. 1. 1. 1. 1. 1. 1. 1. 1.]\n",
            " [1. 1. 1. 1. 1. 1. 1. 1. 1. 1.]\n",
            " [1. 1. 1. 1. 1. 1. 1. 1. 1. 1.]\n",
            " [1. 1. 1. 1. 1. 1. 1. 1. 1. 1.]\n",
            " [1. 1. 1. 1. 1. 1. 1. 1. 1. 1.]\n",
            " [1. 1. 1. 1. 1. 1. 1. 1. 1. 1.]\n",
            " [1. 1. 1. 1. 1. 1. 1. 1. 1. 1.]\n",
            " [1. 1. 1. 1. 1. 1. 1. 1. 1. 1.]\n",
            " [1. 1. 1. 1. 1. 1. 1. 1. 1. 1.]]\n"
          ],
          "name": "stdout"
        }
      ]
    },
    {
      "cell_type": "markdown",
      "metadata": {
        "id": "-XLK2v4eHsvF",
        "colab_type": "text"
      },
      "source": [
        "\n",
        "#10. Subtract the mean of each row of a matrix"
      ]
    },
    {
      "cell_type": "code",
      "metadata": {
        "id": "O2G0R9UpHmKc",
        "colab_type": "code",
        "colab": {
          "base_uri": "https://localhost:8080/",
          "height": 68
        },
        "outputId": "0a4ca777-9647-47c5-a868-727c25c772c4"
      },
      "source": [
        "arr = np.random.rand(3,3)\n",
        "arr_mean = arr - arr.mean(axis=1, keepdims=True)\n",
        "\n",
        "arr_mean"
      ],
      "execution_count": 12,
      "outputs": [
        {
          "output_type": "execute_result",
          "data": {
            "text/plain": [
              "array([[-0.26499828,  0.52183524, -0.25683695],\n",
              "       [-0.1812224 , -0.06897783,  0.25020023],\n",
              "       [ 0.14207158,  0.28797114, -0.43004272]])"
            ]
          },
          "metadata": {
            "tags": []
          },
          "execution_count": 12
        }
      ]
    },
    {
      "cell_type": "markdown",
      "metadata": {
        "id": "-vCDMcOLHzkF",
        "colab_type": "text"
      },
      "source": [
        "#11.Consider a given vector, how to add 1 to each element indexed by a second vector (be careful with repeated indices)?"
      ]
    },
    {
      "cell_type": "code",
      "metadata": {
        "id": "ihinVT3ZHxRL",
        "colab_type": "code",
        "colab": {
          "base_uri": "https://localhost:8080/",
          "height": 34
        },
        "outputId": "de240fec-b1c9-4b89-bc86-109384d4ea7d"
      },
      "source": [
        "arr1 = np.ones(5)\n",
        "arr2 = np.random.randint(0, len(arr1), 10)\n",
        "arr1 += np.bincount(arr2, minlength = len(arr1))\n",
        "arr1"
      ],
      "execution_count": 13,
      "outputs": [
        {
          "output_type": "execute_result",
          "data": {
            "text/plain": [
              "array([4., 2., 1., 5., 3.])"
            ]
          },
          "metadata": {
            "tags": []
          },
          "execution_count": 13
        }
      ]
    },
    {
      "cell_type": "markdown",
      "metadata": {
        "id": "HOEzq1rmH5Xe",
        "colab_type": "text"
      },
      "source": [
        "#12. How to get the diagonal of a dot product?"
      ]
    },
    {
      "cell_type": "code",
      "metadata": {
        "id": "-n2UD0Q5H2-A",
        "colab_type": "code",
        "colab": {
          "base_uri": "https://localhost:8080/",
          "height": 34
        },
        "outputId": "ed70ad47-1186-4322-9042-c06ee0759d9c"
      },
      "source": [
        "\n",
        "arr1 = np.random.randint(0,10,(3,3))\n",
        "arr2 = np.random.randint(0,10,(3,3))\n",
        "\n",
        "np.einsum(\"ij,ji->i\", arr1, arr2)"
      ],
      "execution_count": 14,
      "outputs": [
        {
          "output_type": "execute_result",
          "data": {
            "text/plain": [
              "array([67, 82, 88])"
            ]
          },
          "metadata": {
            "tags": []
          },
          "execution_count": 14
        }
      ]
    },
    {
      "cell_type": "markdown",
      "metadata": {
        "id": "jYAJeAUNIE_m",
        "colab_type": "text"
      },
      "source": [
        "#13. How to find the most frequent value in an array?"
      ]
    },
    {
      "cell_type": "code",
      "metadata": {
        "id": "C_nTM_-TH9Ux",
        "colab_type": "code",
        "colab": {
          "base_uri": "https://localhost:8080/",
          "height": 51
        },
        "outputId": "f73b74bd-6eb8-4fc2-b36f-4665a3736462"
      },
      "source": [
        "arr = np.random.randint(0,10,20)\n",
        "print(arr)\n",
        "max(set(arr), key = list(arr).count)"
      ],
      "execution_count": 15,
      "outputs": [
        {
          "output_type": "stream",
          "text": [
            "[2 2 0 1 7 2 6 8 8 9 9 5 2 4 6 1 6 8 2 3]\n"
          ],
          "name": "stdout"
        },
        {
          "output_type": "execute_result",
          "data": {
            "text/plain": [
              "2"
            ]
          },
          "metadata": {
            "tags": []
          },
          "execution_count": 15
        }
      ]
    },
    {
      "cell_type": "markdown",
      "metadata": {
        "id": "GemVItYkIGHm",
        "colab_type": "text"
      },
      "source": [
        "#14. How to get the n largest values of an array"
      ]
    },
    {
      "cell_type": "code",
      "metadata": {
        "id": "jiN2F0qwIRk1",
        "colab_type": "code",
        "colab": {
          "base_uri": "https://localhost:8080/",
          "height": 34
        },
        "outputId": "d414fd5a-df3a-4bc2-dae7-24a959436add"
      },
      "source": [
        "\n",
        "arr = np.random.randint(0,10,50)\n",
        "np.bincount(arr).argmax()"
      ],
      "execution_count": 16,
      "outputs": [
        {
          "output_type": "execute_result",
          "data": {
            "text/plain": [
              "0"
            ]
          },
          "metadata": {
            "tags": []
          },
          "execution_count": 16
        }
      ]
    },
    {
      "cell_type": "markdown",
      "metadata": {
        "id": "b0JlO_63IK81",
        "colab_type": "text"
      },
      "source": [
        "#15. How to create a record array from a regular array?"
      ]
    },
    {
      "cell_type": "code",
      "metadata": {
        "id": "Y6WSsQJmIIPZ",
        "colab_type": "code",
        "colab": {
          "base_uri": "https://localhost:8080/",
          "height": 153
        },
        "outputId": "4c0f28dd-d7bb-4e13-da69-5bdae65f1aee"
      },
      "source": [
        "arr = np.array([(\"Science\", 88.5, 90),\n",
        "                 (\"Maths\", 87, 99),\n",
        "             (\"English\", 85.5, 91)])\n",
        "\n",
        "print(arr)\n",
        "print(\"\\nRECORD ARRAY\")\n",
        "record = np.core.records.fromarrays(arr.T,\n",
        "                              names='col1, col2, col3',\n",
        "                              formats = 'S80, f8, i8')\n",
        "record"
      ],
      "execution_count": 17,
      "outputs": [
        {
          "output_type": "stream",
          "text": [
            "[['Science' '88.5' '90']\n",
            " ['Maths' '87' '99']\n",
            " ['English' '85.5' '91']]\n",
            "\n",
            "RECORD ARRAY\n"
          ],
          "name": "stdout"
        },
        {
          "output_type": "execute_result",
          "data": {
            "text/plain": [
              "rec.array([(b'Science', 88.5, 90), (b'Maths', 87. , 99),\n",
              "           (b'English', 85.5, 91)],\n",
              "          dtype=[('col1', 'S80'), ('col2', '<f8'), ('col3', '<i8')])"
            ]
          },
          "metadata": {
            "tags": []
          },
          "execution_count": 17
        }
      ]
    },
    {
      "cell_type": "code",
      "metadata": {
        "id": "Bamot-2sIVHE",
        "colab_type": "code",
        "colab": {}
      },
      "source": [
        ""
      ],
      "execution_count": null,
      "outputs": []
    }
  ]
}