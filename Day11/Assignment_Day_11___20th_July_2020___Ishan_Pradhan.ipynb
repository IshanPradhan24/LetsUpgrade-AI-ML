{
  "nbformat": 4,
  "nbformat_minor": 0,
  "metadata": {
    "colab": {
      "name": "Assignment Day 11 _ 20th July 2020 _ Ishan Pradhan.ipynb",
      "provenance": [],
      "collapsed_sections": [],
      "toc_visible": true
    },
    "kernelspec": {
      "name": "python3",
      "display_name": "Python 3"
    }
  },
  "cells": [
    {
      "cell_type": "code",
      "metadata": {
        "id": "4p7mwEosDaJH",
        "colab_type": "code",
        "colab": {}
      },
      "source": [
        "import pandas as pd \n",
        "from scipy.stats import pointbiserialr\n",
        "from scipy.stats import pearsonr\n",
        "import matplotlib.pyplot as plt"
      ],
      "execution_count": null,
      "outputs": []
    },
    {
      "cell_type": "code",
      "metadata": {
        "id": "gibOux8zQ1av",
        "colab_type": "code",
        "colab": {}
      },
      "source": [
        "df = pd.read_csv('general_data.csv')"
      ],
      "execution_count": null,
      "outputs": []
    },
    {
      "cell_type": "code",
      "metadata": {
        "id": "43jolPfbRHFE",
        "colab_type": "code",
        "colab": {
          "base_uri": "https://localhost:8080/",
          "height": 309
        },
        "outputId": "573f9427-135c-4737-c148-c487bac2a357"
      },
      "source": [
        "df.head()"
      ],
      "execution_count": null,
      "outputs": [
        {
          "output_type": "execute_result",
          "data": {
            "text/html": [
              "<div>\n",
              "<style scoped>\n",
              "    .dataframe tbody tr th:only-of-type {\n",
              "        vertical-align: middle;\n",
              "    }\n",
              "\n",
              "    .dataframe tbody tr th {\n",
              "        vertical-align: top;\n",
              "    }\n",
              "\n",
              "    .dataframe thead th {\n",
              "        text-align: right;\n",
              "    }\n",
              "</style>\n",
              "<table border=\"1\" class=\"dataframe\">\n",
              "  <thead>\n",
              "    <tr style=\"text-align: right;\">\n",
              "      <th></th>\n",
              "      <th>Age</th>\n",
              "      <th>Attrition</th>\n",
              "      <th>BusinessTravel</th>\n",
              "      <th>Department</th>\n",
              "      <th>DistanceFromHome</th>\n",
              "      <th>Education</th>\n",
              "      <th>EducationField</th>\n",
              "      <th>EmployeeCount</th>\n",
              "      <th>EmployeeID</th>\n",
              "      <th>Gender</th>\n",
              "      <th>JobLevel</th>\n",
              "      <th>JobRole</th>\n",
              "      <th>MaritalStatus</th>\n",
              "      <th>MonthlyIncome</th>\n",
              "      <th>NumCompaniesWorked</th>\n",
              "      <th>Over18</th>\n",
              "      <th>PercentSalaryHike</th>\n",
              "      <th>StandardHours</th>\n",
              "      <th>StockOptionLevel</th>\n",
              "      <th>TotalWorkingYears</th>\n",
              "      <th>TrainingTimesLastYear</th>\n",
              "      <th>YearsAtCompany</th>\n",
              "      <th>YearsSinceLastPromotion</th>\n",
              "      <th>YearsWithCurrManager</th>\n",
              "    </tr>\n",
              "  </thead>\n",
              "  <tbody>\n",
              "    <tr>\n",
              "      <th>0</th>\n",
              "      <td>51</td>\n",
              "      <td>No</td>\n",
              "      <td>Travel_Rarely</td>\n",
              "      <td>Sales</td>\n",
              "      <td>6</td>\n",
              "      <td>2</td>\n",
              "      <td>Life Sciences</td>\n",
              "      <td>1</td>\n",
              "      <td>1</td>\n",
              "      <td>Female</td>\n",
              "      <td>1</td>\n",
              "      <td>Healthcare Representative</td>\n",
              "      <td>Married</td>\n",
              "      <td>131160</td>\n",
              "      <td>1.0</td>\n",
              "      <td>Y</td>\n",
              "      <td>11</td>\n",
              "      <td>8</td>\n",
              "      <td>0</td>\n",
              "      <td>1.0</td>\n",
              "      <td>6</td>\n",
              "      <td>1</td>\n",
              "      <td>0</td>\n",
              "      <td>0</td>\n",
              "    </tr>\n",
              "    <tr>\n",
              "      <th>1</th>\n",
              "      <td>31</td>\n",
              "      <td>Yes</td>\n",
              "      <td>Travel_Frequently</td>\n",
              "      <td>Research &amp; Development</td>\n",
              "      <td>10</td>\n",
              "      <td>1</td>\n",
              "      <td>Life Sciences</td>\n",
              "      <td>1</td>\n",
              "      <td>2</td>\n",
              "      <td>Female</td>\n",
              "      <td>1</td>\n",
              "      <td>Research Scientist</td>\n",
              "      <td>Single</td>\n",
              "      <td>41890</td>\n",
              "      <td>0.0</td>\n",
              "      <td>Y</td>\n",
              "      <td>23</td>\n",
              "      <td>8</td>\n",
              "      <td>1</td>\n",
              "      <td>6.0</td>\n",
              "      <td>3</td>\n",
              "      <td>5</td>\n",
              "      <td>1</td>\n",
              "      <td>4</td>\n",
              "    </tr>\n",
              "    <tr>\n",
              "      <th>2</th>\n",
              "      <td>32</td>\n",
              "      <td>No</td>\n",
              "      <td>Travel_Frequently</td>\n",
              "      <td>Research &amp; Development</td>\n",
              "      <td>17</td>\n",
              "      <td>4</td>\n",
              "      <td>Other</td>\n",
              "      <td>1</td>\n",
              "      <td>3</td>\n",
              "      <td>Male</td>\n",
              "      <td>4</td>\n",
              "      <td>Sales Executive</td>\n",
              "      <td>Married</td>\n",
              "      <td>193280</td>\n",
              "      <td>1.0</td>\n",
              "      <td>Y</td>\n",
              "      <td>15</td>\n",
              "      <td>8</td>\n",
              "      <td>3</td>\n",
              "      <td>5.0</td>\n",
              "      <td>2</td>\n",
              "      <td>5</td>\n",
              "      <td>0</td>\n",
              "      <td>3</td>\n",
              "    </tr>\n",
              "    <tr>\n",
              "      <th>3</th>\n",
              "      <td>38</td>\n",
              "      <td>No</td>\n",
              "      <td>Non-Travel</td>\n",
              "      <td>Research &amp; Development</td>\n",
              "      <td>2</td>\n",
              "      <td>5</td>\n",
              "      <td>Life Sciences</td>\n",
              "      <td>1</td>\n",
              "      <td>4</td>\n",
              "      <td>Male</td>\n",
              "      <td>3</td>\n",
              "      <td>Human Resources</td>\n",
              "      <td>Married</td>\n",
              "      <td>83210</td>\n",
              "      <td>3.0</td>\n",
              "      <td>Y</td>\n",
              "      <td>11</td>\n",
              "      <td>8</td>\n",
              "      <td>3</td>\n",
              "      <td>13.0</td>\n",
              "      <td>5</td>\n",
              "      <td>8</td>\n",
              "      <td>7</td>\n",
              "      <td>5</td>\n",
              "    </tr>\n",
              "    <tr>\n",
              "      <th>4</th>\n",
              "      <td>32</td>\n",
              "      <td>No</td>\n",
              "      <td>Travel_Rarely</td>\n",
              "      <td>Research &amp; Development</td>\n",
              "      <td>10</td>\n",
              "      <td>1</td>\n",
              "      <td>Medical</td>\n",
              "      <td>1</td>\n",
              "      <td>5</td>\n",
              "      <td>Male</td>\n",
              "      <td>1</td>\n",
              "      <td>Sales Executive</td>\n",
              "      <td>Single</td>\n",
              "      <td>23420</td>\n",
              "      <td>4.0</td>\n",
              "      <td>Y</td>\n",
              "      <td>12</td>\n",
              "      <td>8</td>\n",
              "      <td>2</td>\n",
              "      <td>9.0</td>\n",
              "      <td>2</td>\n",
              "      <td>6</td>\n",
              "      <td>0</td>\n",
              "      <td>4</td>\n",
              "    </tr>\n",
              "  </tbody>\n",
              "</table>\n",
              "</div>"
            ],
            "text/plain": [
              "   Age Attrition  ... YearsSinceLastPromotion YearsWithCurrManager\n",
              "0   51        No  ...                       0                    0\n",
              "1   31       Yes  ...                       1                    4\n",
              "2   32        No  ...                       0                    3\n",
              "3   38        No  ...                       7                    5\n",
              "4   32        No  ...                       0                    4\n",
              "\n",
              "[5 rows x 24 columns]"
            ]
          },
          "metadata": {
            "tags": []
          },
          "execution_count": 5
        }
      ]
    },
    {
      "cell_type": "code",
      "metadata": {
        "id": "zxtJX0G6RKHT",
        "colab_type": "code",
        "colab": {
          "base_uri": "https://localhost:8080/",
          "height": 136
        },
        "outputId": "e1eef8cf-fb33-40d7-9ea0-c01fa5174209"
      },
      "source": [
        "df.columns"
      ],
      "execution_count": null,
      "outputs": [
        {
          "output_type": "execute_result",
          "data": {
            "text/plain": [
              "Index(['Age', 'Attrition', 'BusinessTravel', 'Department', 'DistanceFromHome',\n",
              "       'Education', 'EducationField', 'EmployeeCount', 'EmployeeID', 'Gender',\n",
              "       'JobLevel', 'JobRole', 'MaritalStatus', 'MonthlyIncome',\n",
              "       'NumCompaniesWorked', 'Over18', 'PercentSalaryHike', 'StandardHours',\n",
              "       'StockOptionLevel', 'TotalWorkingYears', 'TrainingTimesLastYear',\n",
              "       'YearsAtCompany', 'YearsSinceLastPromotion', 'YearsWithCurrManager'],\n",
              "      dtype='object')"
            ]
          },
          "metadata": {
            "tags": []
          },
          "execution_count": 6
        }
      ]
    },
    {
      "cell_type": "code",
      "metadata": {
        "id": "JXHTK_M5RNT2",
        "colab_type": "code",
        "colab": {}
      },
      "source": [
        "df.Attrition.replace(to_replace = ('No','Yes'),value = (0,1),inplace = True)"
      ],
      "execution_count": null,
      "outputs": []
    },
    {
      "cell_type": "code",
      "metadata": {
        "id": "lpYT-co6RPrj",
        "colab_type": "code",
        "colab": {
          "base_uri": "https://localhost:8080/",
          "height": 34
        },
        "outputId": "e76ef212-c628-40f5-866a-84f31dddec5f"
      },
      "source": [
        "stats, p = pearsonr(df.Attrition, df.Age)\n",
        "print(stats, p)"
      ],
      "execution_count": null,
      "outputs": [
        {
          "output_type": "stream",
          "text": [
            "-0.15920500686577949 1.996801615887198e-26\n"
          ],
          "name": "stdout"
        }
      ]
    },
    {
      "cell_type": "markdown",
      "metadata": {
        "id": "csbAtQi9Rdi6",
        "colab_type": "text"
      },
      "source": [
        "#Hypothesis 1\n",
        "null hypothesis (H0) = Age and attrition have no correlation .\n",
        "\n",
        "alternate hypothesis (H1) = Age and attrition have a correlation between them .\n",
        "\n",
        "r = -0.15920500686577965\n",
        "\n",
        "p = 1.996801615886744e-26\n",
        "\n",
        "r is negative so there is a negative relation between Age and attrition\n",
        "\n",
        "and as p <0.05 so null hypothesis (H0) is rejected and we find that there is a negative correlation between attrition and age"
      ]
    },
    {
      "cell_type": "code",
      "metadata": {
        "id": "w5qVkyXtRtT4",
        "colab_type": "code",
        "colab": {
          "base_uri": "https://localhost:8080/",
          "height": 34
        },
        "outputId": "a5028702-a564-469c-d3bb-6ff36be5ad02"
      },
      "source": [
        "stats, p = pearsonr(df.Attrition, df.DistanceFromHome)\n",
        "print(stats, p)"
      ],
      "execution_count": null,
      "outputs": [
        {
          "output_type": "stream",
          "text": [
            "-0.009730141010179692 0.5182860428050771\n"
          ],
          "name": "stdout"
        }
      ]
    },
    {
      "cell_type": "markdown",
      "metadata": {
        "id": "yTis88KxSCuP",
        "colab_type": "text"
      },
      "source": [
        "#Hypothesis 2\n",
        "null hypothesis (H0) = Attrition and distance from home have no correlation .\n",
        "\n",
        "alternate hypothesis (H1) = Attrition and distance from home have a correlation between them .\n",
        "\n",
        "r = -0.00973014101017967\n",
        "\n",
        "p = 0.5182860428050771\n",
        "\n",
        "Here p is greater than 0.05 hence we accept the null hypothesis (H0) that there is no realtion between attrtion and distance from home"
      ]
    },
    {
      "cell_type": "code",
      "metadata": {
        "id": "AH1S21iCSDTy",
        "colab_type": "code",
        "colab": {
          "base_uri": "https://localhost:8080/",
          "height": 34
        },
        "outputId": "9184a4b0-7196-4097-df9c-7aeb2fc01268"
      },
      "source": [
        "stats, p = pearsonr(df.Attrition, df.MonthlyIncome)\n",
        "print(stats, p)"
      ],
      "execution_count": null,
      "outputs": [
        {
          "output_type": "stream",
          "text": [
            "-0.03117628169811501 0.03842748490600132\n"
          ],
          "name": "stdout"
        }
      ]
    },
    {
      "cell_type": "markdown",
      "metadata": {
        "id": "ubRA37Q7SNN6",
        "colab_type": "text"
      },
      "source": [
        "#Hypothesis 3\n",
        "null hypothesis (H0) = Attrition and monthly income have no correlation .\n",
        "\n",
        "alternate hypothesis (H1) = Attrition and monthly income have a correlation between them .\n",
        "\n",
        "r = -0.03117628169811501\n",
        "\n",
        "p = 0.03842748490600132\n",
        "\n",
        "As p is lesser than .05 we reject null hypothesis (H0) and conclude that there is a significant relation between TRRITION AND MONTHLY INCOME.\n",
        "\n",
        "r is -.0311 so we see there is negative relation between the two"
      ]
    },
    {
      "cell_type": "code",
      "metadata": {
        "id": "V32l97W8SS6w",
        "colab_type": "code",
        "colab": {
          "base_uri": "https://localhost:8080/",
          "height": 34
        },
        "outputId": "6987ec89-e34c-45d0-c9d9-0d8d3270fd7a"
      },
      "source": [
        "stats, p = pearsonr(df.Attrition, df.PercentSalaryHike)\n",
        "print(stats, p)"
      ],
      "execution_count": null,
      "outputs": [
        {
          "output_type": "stream",
          "text": [
            "0.0325325948910535 0.030743386433355353\n"
          ],
          "name": "stdout"
        }
      ]
    },
    {
      "cell_type": "markdown",
      "metadata": {
        "id": "dmeU-3dlSNUX",
        "colab_type": "text"
      },
      "source": [
        "#Hypothesis 4\n",
        "null hypothesis (H0) = Attrition and salary hike percentage have no correlation .\n",
        "\n",
        "alternate hypothesis (H1) = Attrition and salary hike percentage have a correlation between them .\n",
        "\n",
        "r = 0.03253259489105349\n",
        "\n",
        "p = 0.030743386433355353\n",
        "\n",
        "As p is lesser than .05 we reject null hypothesis (H0) and conclude that there is a significant relation between Attrition and salary hike percent .\n",
        "\n",
        "r is 0.032 so we see there is positive relation between the two"
      ]
    },
    {
      "cell_type": "code",
      "metadata": {
        "id": "96KnzmmsSV3h",
        "colab_type": "code",
        "colab": {
          "base_uri": "https://localhost:8080/",
          "height": 34
        },
        "outputId": "c3e0430e-4ae7-42f2-f04b-dff21b3c481a"
      },
      "source": [
        "stats, p = pearsonr(df.Attrition, df.TrainingTimesLastYear)\n",
        "print(stats, p)"
      ],
      "execution_count": null,
      "outputs": [
        {
          "output_type": "stream",
          "text": [
            "-0.049430576244254974 0.0010247061915365072\n"
          ],
          "name": "stdout"
        }
      ]
    },
    {
      "cell_type": "markdown",
      "metadata": {
        "id": "WvdIynNeSNaO",
        "colab_type": "text"
      },
      "source": [
        "#Hypothesis 5\n",
        "null hypothesis (H0) = Attrition and TrainingTimesLastYear have no correlation .\n",
        "\n",
        "alternate hypothesis (H1) = Attrition and TrainingTimesLastYear have a correlation between them .\n",
        "\n",
        "r = -0.049430576244255\n",
        "\n",
        "p = 0.0010247061915365072\n",
        "\n",
        "As p is lesser than .05 we reject null hypothesis (H0) and conclude that there is a significant relation between Attrition and TrainingTimesLastYear .\n",
        "\n",
        "r is -0.049 so we see there is negative relation between the two"
      ]
    },
    {
      "cell_type": "code",
      "metadata": {
        "id": "iGDxtAT7SgE4",
        "colab_type": "code",
        "colab": {
          "base_uri": "https://localhost:8080/",
          "height": 34
        },
        "outputId": "57111725-ed2e-4268-8c88-28a6637f4f08"
      },
      "source": [
        "stats, p = pearsonr(df.Attrition, df.YearsAtCompany)\n",
        "print(stats, p)"
      ],
      "execution_count": null,
      "outputs": [
        {
          "output_type": "stream",
          "text": [
            "-0.13439221398997717 3.1638831224877484e-19\n"
          ],
          "name": "stdout"
        }
      ]
    },
    {
      "cell_type": "markdown",
      "metadata": {
        "id": "L4RPBZQzStYA",
        "colab_type": "text"
      },
      "source": [
        "\n",
        "#Hypothesis 6\n",
        "null hypothesis (H0) = Attrition and YearsAtCompany have no correlation .\n",
        "\n",
        "alternate hypothesis (H1) = Attrition and YearsAtCompany have a correlation between them .\n",
        "\n",
        "r = -0.1343922139899772\n",
        "\n",
        "p = 3.1638831224877484e-19\n",
        "\n",
        "As p is lesser than .05 we reject null hypothesis (H0) and conclude that there is a significant relation between Attrition and YearsAtCompany .\n",
        "\n",
        "r is -0.134 so we see there is negative relation between the two"
      ]
    },
    {
      "cell_type": "code",
      "metadata": {
        "id": "viL6rQBISr3F",
        "colab_type": "code",
        "colab": {
          "base_uri": "https://localhost:8080/",
          "height": 34
        },
        "outputId": "0168c8f1-1d17-498e-8b7b-0192c8b43dff"
      },
      "source": [
        "stats, p = pearsonr(df.Attrition, df.YearsSinceLastPromotion)\n",
        "print(stats, p)"
      ],
      "execution_count": null,
      "outputs": [
        {
          "output_type": "stream",
          "text": [
            "-0.03301877514258437 0.028330336189396753\n"
          ],
          "name": "stdout"
        }
      ]
    },
    {
      "cell_type": "markdown",
      "metadata": {
        "id": "_3Y8dpRVS19x",
        "colab_type": "text"
      },
      "source": [
        "#Hypothesis 7\n",
        "null hypothesis (H0) = Attrition and YearsSinceLastPromotion have no correlation .\n",
        "\n",
        "alternate hypothesis (H1) = Attrition and YearsSinceLastPromotion have a correlation between them .\n",
        "\n",
        "r = -0.03301877514258433\n",
        "\n",
        "p = 0.028330336189396753\n",
        "\n",
        "As p is lesser than .05 we reject null hypothesis (H0) and conclude that there is a significant relation between Attrition and YearsSinceLastPromotion .\n",
        "\n",
        "r is -0.033 so we see there is negative relation between the two"
      ]
    },
    {
      "cell_type": "code",
      "metadata": {
        "id": "hCV4a0K8S3Bw",
        "colab_type": "code",
        "colab": {
          "base_uri": "https://localhost:8080/",
          "height": 34
        },
        "outputId": "fba6be2c-5458-4155-f732-294149045869"
      },
      "source": [
        "stats, p = pearsonr(df.Attrition, df.YearsWithCurrManager)\n",
        "print(stats, p)"
      ],
      "execution_count": null,
      "outputs": [
        {
          "output_type": "stream",
          "text": [
            "-0.15619931590162806 1.7339322652900218e-25\n"
          ],
          "name": "stdout"
        }
      ]
    },
    {
      "cell_type": "markdown",
      "metadata": {
        "id": "ZQ-aZ9GzS2Hh",
        "colab_type": "text"
      },
      "source": [
        "#Hypothesis 8\n",
        "null hypothesis (H0) = Attrition and YearsWithCurrManager have no correlation .\n",
        "\n",
        "alternate hypothesis (H1) = Attrition and YearsWithCurrManager have a correlation between them .\n",
        "\n",
        "-0.15619931590162847\n",
        "\n",
        "1.7339322652896276e-25\n",
        "\n",
        "As p is lesser than .05 we reject null hypothesis (H0) and conclude that there is a significant relation between Attrition and YearsWithCurrManager.\n",
        "\n",
        "r is -0.156 so we see there is negative relation between the two"
      ]
    }
  ]
}