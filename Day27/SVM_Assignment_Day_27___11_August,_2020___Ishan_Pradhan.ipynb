{
  "nbformat": 4,
  "nbformat_minor": 0,
  "metadata": {
    "colab": {
      "name": "SVM-Assignment Day 27 | 11 August, 2020 | Ishan Pradhan.ipynb",
      "provenance": [],
      "collapsed_sections": [],
      "toc_visible": true
    },
    "kernelspec": {
      "name": "python3",
      "display_name": "Python 3"
    }
  },
  "cells": [
    {
      "cell_type": "code",
      "metadata": {
        "id": "S_Jj2ujQX3id",
        "colab_type": "code",
        "colab": {
          "base_uri": "https://localhost:8080/",
          "height": 71
        },
        "outputId": "7f245aaa-377c-4511-ff22-b2c76a18a646"
      },
      "source": [
        "\n",
        "import numpy as np\n",
        "import pandas as pd\n",
        "import matplotlib.pyplot as plt\n",
        "import seaborn as sns\n",
        "\n",
        "from warnings import filterwarnings\n",
        "filterwarnings('ignore')"
      ],
      "execution_count": 1,
      "outputs": [
        {
          "output_type": "stream",
          "text": [
            "/usr/local/lib/python3.6/dist-packages/statsmodels/tools/_testing.py:19: FutureWarning: pandas.util.testing is deprecated. Use the functions in the public API at pandas.testing instead.\n",
            "  import pandas.util.testing as tm\n"
          ],
          "name": "stderr"
        }
      ]
    },
    {
      "cell_type": "code",
      "metadata": {
        "id": "1O-9V981X-bz",
        "colab_type": "code",
        "colab": {
          "base_uri": "https://localhost:8080/",
          "height": 255
        },
        "outputId": "b419b33e-375f-4c77-9a98-e1398e335028"
      },
      "source": [
        "\n",
        "df = pd.read_csv('train.csv')\n",
        "df.head()"
      ],
      "execution_count": 2,
      "outputs": [
        {
          "output_type": "execute_result",
          "data": {
            "text/html": [
              "<div>\n",
              "<style scoped>\n",
              "    .dataframe tbody tr th:only-of-type {\n",
              "        vertical-align: middle;\n",
              "    }\n",
              "\n",
              "    .dataframe tbody tr th {\n",
              "        vertical-align: top;\n",
              "    }\n",
              "\n",
              "    .dataframe thead th {\n",
              "        text-align: right;\n",
              "    }\n",
              "</style>\n",
              "<table border=\"1\" class=\"dataframe\">\n",
              "  <thead>\n",
              "    <tr style=\"text-align: right;\">\n",
              "      <th></th>\n",
              "      <th>PassengerId</th>\n",
              "      <th>Survived</th>\n",
              "      <th>Pclass</th>\n",
              "      <th>Name</th>\n",
              "      <th>Sex</th>\n",
              "      <th>Age</th>\n",
              "      <th>SibSp</th>\n",
              "      <th>Parch</th>\n",
              "      <th>Ticket</th>\n",
              "      <th>Fare</th>\n",
              "      <th>Cabin</th>\n",
              "      <th>Embarked</th>\n",
              "    </tr>\n",
              "  </thead>\n",
              "  <tbody>\n",
              "    <tr>\n",
              "      <th>0</th>\n",
              "      <td>1</td>\n",
              "      <td>0</td>\n",
              "      <td>3</td>\n",
              "      <td>Braund, Mr. Owen Harris</td>\n",
              "      <td>male</td>\n",
              "      <td>22.0</td>\n",
              "      <td>1</td>\n",
              "      <td>0</td>\n",
              "      <td>A/5 21171</td>\n",
              "      <td>7.2500</td>\n",
              "      <td>NaN</td>\n",
              "      <td>S</td>\n",
              "    </tr>\n",
              "    <tr>\n",
              "      <th>1</th>\n",
              "      <td>2</td>\n",
              "      <td>1</td>\n",
              "      <td>1</td>\n",
              "      <td>Cumings, Mrs. John Bradley (Florence Briggs Th...</td>\n",
              "      <td>female</td>\n",
              "      <td>38.0</td>\n",
              "      <td>1</td>\n",
              "      <td>0</td>\n",
              "      <td>PC 17599</td>\n",
              "      <td>71.2833</td>\n",
              "      <td>C85</td>\n",
              "      <td>C</td>\n",
              "    </tr>\n",
              "    <tr>\n",
              "      <th>2</th>\n",
              "      <td>3</td>\n",
              "      <td>1</td>\n",
              "      <td>3</td>\n",
              "      <td>Heikkinen, Miss. Laina</td>\n",
              "      <td>female</td>\n",
              "      <td>26.0</td>\n",
              "      <td>0</td>\n",
              "      <td>0</td>\n",
              "      <td>STON/O2. 3101282</td>\n",
              "      <td>7.9250</td>\n",
              "      <td>NaN</td>\n",
              "      <td>S</td>\n",
              "    </tr>\n",
              "    <tr>\n",
              "      <th>3</th>\n",
              "      <td>4</td>\n",
              "      <td>1</td>\n",
              "      <td>1</td>\n",
              "      <td>Futrelle, Mrs. Jacques Heath (Lily May Peel)</td>\n",
              "      <td>female</td>\n",
              "      <td>35.0</td>\n",
              "      <td>1</td>\n",
              "      <td>0</td>\n",
              "      <td>113803</td>\n",
              "      <td>53.1000</td>\n",
              "      <td>C123</td>\n",
              "      <td>S</td>\n",
              "    </tr>\n",
              "    <tr>\n",
              "      <th>4</th>\n",
              "      <td>5</td>\n",
              "      <td>0</td>\n",
              "      <td>3</td>\n",
              "      <td>Allen, Mr. William Henry</td>\n",
              "      <td>male</td>\n",
              "      <td>35.0</td>\n",
              "      <td>0</td>\n",
              "      <td>0</td>\n",
              "      <td>373450</td>\n",
              "      <td>8.0500</td>\n",
              "      <td>NaN</td>\n",
              "      <td>S</td>\n",
              "    </tr>\n",
              "  </tbody>\n",
              "</table>\n",
              "</div>"
            ],
            "text/plain": [
              "   PassengerId  Survived  Pclass  ...     Fare Cabin  Embarked\n",
              "0            1         0       3  ...   7.2500   NaN         S\n",
              "1            2         1       1  ...  71.2833   C85         C\n",
              "2            3         1       3  ...   7.9250   NaN         S\n",
              "3            4         1       1  ...  53.1000  C123         S\n",
              "4            5         0       3  ...   8.0500   NaN         S\n",
              "\n",
              "[5 rows x 12 columns]"
            ]
          },
          "metadata": {
            "tags": []
          },
          "execution_count": 2
        }
      ]
    },
    {
      "cell_type": "code",
      "metadata": {
        "id": "-Li2FvW8YAI7",
        "colab_type": "code",
        "colab": {
          "base_uri": "https://localhost:8080/",
          "height": 34
        },
        "outputId": "bca2d1cb-2147-46b6-db20-e28ad6d36433"
      },
      "source": [
        "\n",
        "df.shape"
      ],
      "execution_count": 3,
      "outputs": [
        {
          "output_type": "execute_result",
          "data": {
            "text/plain": [
              "(889, 12)"
            ]
          },
          "metadata": {
            "tags": []
          },
          "execution_count": 3
        }
      ]
    },
    {
      "cell_type": "code",
      "metadata": {
        "id": "kZbiwNs7YB7T",
        "colab_type": "code",
        "colab": {
          "base_uri": "https://localhost:8080/",
          "height": 238
        },
        "outputId": "d8192427-8345-4e83-b772-0c5fd6ec2f7c"
      },
      "source": [
        "\n",
        "df.isnull().sum()"
      ],
      "execution_count": 4,
      "outputs": [
        {
          "output_type": "execute_result",
          "data": {
            "text/plain": [
              "PassengerId      0\n",
              "Survived         0\n",
              "Pclass           0\n",
              "Name             0\n",
              "Sex              0\n",
              "Age              0\n",
              "SibSp            0\n",
              "Parch            0\n",
              "Ticket           0\n",
              "Fare             0\n",
              "Cabin          687\n",
              "Embarked         0\n",
              "dtype: int64"
            ]
          },
          "metadata": {
            "tags": []
          },
          "execution_count": 4
        }
      ]
    },
    {
      "cell_type": "code",
      "metadata": {
        "id": "RzwlczVTYCzM",
        "colab_type": "code",
        "colab": {
          "base_uri": "https://localhost:8080/",
          "height": 221
        },
        "outputId": "2ca8a9c2-f01b-4254-f854-3b787cee19d5"
      },
      "source": [
        "df.pop('Cabin')"
      ],
      "execution_count": 5,
      "outputs": [
        {
          "output_type": "execute_result",
          "data": {
            "text/plain": [
              "0       NaN\n",
              "1       C85\n",
              "2       NaN\n",
              "3      C123\n",
              "4       NaN\n",
              "       ... \n",
              "884     NaN\n",
              "885     B42\n",
              "886     NaN\n",
              "887    C148\n",
              "888     NaN\n",
              "Name: Cabin, Length: 889, dtype: object"
            ]
          },
          "metadata": {
            "tags": []
          },
          "execution_count": 5
        }
      ]
    },
    {
      "cell_type": "code",
      "metadata": {
        "id": "8UiafjVqYFAK",
        "colab_type": "code",
        "colab": {
          "base_uri": "https://localhost:8080/",
          "height": 34
        },
        "outputId": "5a831221-36af-40bd-f97d-705bded82f12"
      },
      "source": [
        "\n",
        "df.shape"
      ],
      "execution_count": 6,
      "outputs": [
        {
          "output_type": "execute_result",
          "data": {
            "text/plain": [
              "(889, 11)"
            ]
          },
          "metadata": {
            "tags": []
          },
          "execution_count": 6
        }
      ]
    },
    {
      "cell_type": "code",
      "metadata": {
        "id": "TtPGDajWYIcC",
        "colab_type": "code",
        "colab": {
          "base_uri": "https://localhost:8080/",
          "height": 282
        },
        "outputId": "7a144dc0-14ca-41b1-e599-c62df07b2126"
      },
      "source": [
        "df['Age'].plot.hist()"
      ],
      "execution_count": 7,
      "outputs": [
        {
          "output_type": "execute_result",
          "data": {
            "text/plain": [
              "<matplotlib.axes._subplots.AxesSubplot at 0x7f8fa8424d68>"
            ]
          },
          "metadata": {
            "tags": []
          },
          "execution_count": 7
        },
        {
          "output_type": "display_data",
          "data": {
            "image/png": "[encoded data removed]",
            "text/plain": [
              "<Figure size 432x288 with 1 Axes>"
            ]
          },
          "metadata": {
            "tags": [],
            "needs_background": "light"
          }
        }
      ]
    },
    {
      "cell_type": "code",
      "metadata": {
        "id": "261DCbnRYJcU",
        "colab_type": "code",
        "colab": {}
      },
      "source": [
        "df['Age'].fillna(df['Age'].mean(), inplace= True)"
      ],
      "execution_count": 8,
      "outputs": []
    },
    {
      "cell_type": "code",
      "metadata": {
        "id": "GGcFYqcLYMTb",
        "colab_type": "code",
        "colab": {
          "base_uri": "https://localhost:8080/",
          "height": 85
        },
        "outputId": "59179492-728c-4cf5-ad03-cb914f27f7db"
      },
      "source": [
        "df[\"Embarked\"].value_counts()"
      ],
      "execution_count": 9,
      "outputs": [
        {
          "output_type": "execute_result",
          "data": {
            "text/plain": [
              "S    644\n",
              "C    168\n",
              "Q     77\n",
              "Name: Embarked, dtype: int64"
            ]
          },
          "metadata": {
            "tags": []
          },
          "execution_count": 9
        }
      ]
    },
    {
      "cell_type": "code",
      "metadata": {
        "id": "Fev2TbqwYOQz",
        "colab_type": "code",
        "colab": {}
      },
      "source": [
        "df[\"Embarked\"].fillna(value='S',inplace=True)"
      ],
      "execution_count": 10,
      "outputs": []
    },
    {
      "cell_type": "code",
      "metadata": {
        "id": "v4TQSa8aYQgk",
        "colab_type": "code",
        "colab": {
          "base_uri": "https://localhost:8080/",
          "height": 221
        },
        "outputId": "75c0b76b-0156-46c9-d282-785adf6012f8"
      },
      "source": [
        "df.isnull().sum()"
      ],
      "execution_count": 11,
      "outputs": [
        {
          "output_type": "execute_result",
          "data": {
            "text/plain": [
              "PassengerId    0\n",
              "Survived       0\n",
              "Pclass         0\n",
              "Name           0\n",
              "Sex            0\n",
              "Age            0\n",
              "SibSp          0\n",
              "Parch          0\n",
              "Ticket         0\n",
              "Fare           0\n",
              "Embarked       0\n",
              "dtype: int64"
            ]
          },
          "metadata": {
            "tags": []
          },
          "execution_count": 11
        }
      ]
    },
    {
      "cell_type": "code",
      "metadata": {
        "id": "fX2DX2wiYRjU",
        "colab_type": "code",
        "colab": {}
      },
      "source": [
        "df.drop(['PassengerId','Name','Ticket'], axis=1, inplace=True)"
      ],
      "execution_count": 12,
      "outputs": []
    },
    {
      "cell_type": "code",
      "metadata": {
        "id": "Yc77biApYUZz",
        "colab_type": "code",
        "colab": {
          "base_uri": "https://localhost:8080/",
          "height": 204
        },
        "outputId": "1703cf2a-e9e1-4c2f-a4f1-d2a0018e3ffb"
      },
      "source": [
        "df.head()"
      ],
      "execution_count": 13,
      "outputs": [
        {
          "output_type": "execute_result",
          "data": {
            "text/html": [
              "<div>\n",
              "<style scoped>\n",
              "    .dataframe tbody tr th:only-of-type {\n",
              "        vertical-align: middle;\n",
              "    }\n",
              "\n",
              "    .dataframe tbody tr th {\n",
              "        vertical-align: top;\n",
              "    }\n",
              "\n",
              "    .dataframe thead th {\n",
              "        text-align: right;\n",
              "    }\n",
              "</style>\n",
              "<table border=\"1\" class=\"dataframe\">\n",
              "  <thead>\n",
              "    <tr style=\"text-align: right;\">\n",
              "      <th></th>\n",
              "      <th>Survived</th>\n",
              "      <th>Pclass</th>\n",
              "      <th>Sex</th>\n",
              "      <th>Age</th>\n",
              "      <th>SibSp</th>\n",
              "      <th>Parch</th>\n",
              "      <th>Fare</th>\n",
              "      <th>Embarked</th>\n",
              "    </tr>\n",
              "  </thead>\n",
              "  <tbody>\n",
              "    <tr>\n",
              "      <th>0</th>\n",
              "      <td>0</td>\n",
              "      <td>3</td>\n",
              "      <td>male</td>\n",
              "      <td>22.0</td>\n",
              "      <td>1</td>\n",
              "      <td>0</td>\n",
              "      <td>7.2500</td>\n",
              "      <td>S</td>\n",
              "    </tr>\n",
              "    <tr>\n",
              "      <th>1</th>\n",
              "      <td>1</td>\n",
              "      <td>1</td>\n",
              "      <td>female</td>\n",
              "      <td>38.0</td>\n",
              "      <td>1</td>\n",
              "      <td>0</td>\n",
              "      <td>71.2833</td>\n",
              "      <td>C</td>\n",
              "    </tr>\n",
              "    <tr>\n",
              "      <th>2</th>\n",
              "      <td>1</td>\n",
              "      <td>3</td>\n",
              "      <td>female</td>\n",
              "      <td>26.0</td>\n",
              "      <td>0</td>\n",
              "      <td>0</td>\n",
              "      <td>7.9250</td>\n",
              "      <td>S</td>\n",
              "    </tr>\n",
              "    <tr>\n",
              "      <th>3</th>\n",
              "      <td>1</td>\n",
              "      <td>1</td>\n",
              "      <td>female</td>\n",
              "      <td>35.0</td>\n",
              "      <td>1</td>\n",
              "      <td>0</td>\n",
              "      <td>53.1000</td>\n",
              "      <td>S</td>\n",
              "    </tr>\n",
              "    <tr>\n",
              "      <th>4</th>\n",
              "      <td>0</td>\n",
              "      <td>3</td>\n",
              "      <td>male</td>\n",
              "      <td>35.0</td>\n",
              "      <td>0</td>\n",
              "      <td>0</td>\n",
              "      <td>8.0500</td>\n",
              "      <td>S</td>\n",
              "    </tr>\n",
              "  </tbody>\n",
              "</table>\n",
              "</div>"
            ],
            "text/plain": [
              "   Survived  Pclass     Sex   Age  SibSp  Parch     Fare Embarked\n",
              "0         0       3    male  22.0      1      0   7.2500        S\n",
              "1         1       1  female  38.0      1      0  71.2833        C\n",
              "2         1       3  female  26.0      0      0   7.9250        S\n",
              "3         1       1  female  35.0      1      0  53.1000        S\n",
              "4         0       3    male  35.0      0      0   8.0500        S"
            ]
          },
          "metadata": {
            "tags": []
          },
          "execution_count": 13
        }
      ]
    },
    {
      "cell_type": "code",
      "metadata": {
        "id": "EaCUGd5CYWDc",
        "colab_type": "code",
        "colab": {
          "base_uri": "https://localhost:8080/",
          "height": 272
        },
        "outputId": "cf786537-513b-4480-ee1b-3e9ce7c74db9"
      },
      "source": [
        "\n",
        "\n",
        "df.info()"
      ],
      "execution_count": 14,
      "outputs": [
        {
          "output_type": "stream",
          "text": [
            "<class 'pandas.core.frame.DataFrame'>\n",
            "RangeIndex: 889 entries, 0 to 888\n",
            "Data columns (total 8 columns):\n",
            " #   Column    Non-Null Count  Dtype  \n",
            "---  ------    --------------  -----  \n",
            " 0   Survived  889 non-null    int64  \n",
            " 1   Pclass    889 non-null    int64  \n",
            " 2   Sex       889 non-null    object \n",
            " 3   Age       889 non-null    float64\n",
            " 4   SibSp     889 non-null    int64  \n",
            " 5   Parch     889 non-null    int64  \n",
            " 6   Fare      889 non-null    float64\n",
            " 7   Embarked  889 non-null    object \n",
            "dtypes: float64(2), int64(4), object(2)\n",
            "memory usage: 55.7+ KB\n"
          ],
          "name": "stdout"
        }
      ]
    },
    {
      "cell_type": "code",
      "metadata": {
        "id": "hrXOn2gvYZlq",
        "colab_type": "code",
        "colab": {}
      },
      "source": [
        "from sklearn.preprocessing import LabelEncoder\n",
        "lab = LabelEncoder()\n",
        "\n",
        "df[\"Sex\"] = lab.fit_transform(df[\"Sex\"])\n",
        "df[\"Embarked\"] = lab.fit_transform(df[\"Embarked\"])"
      ],
      "execution_count": 15,
      "outputs": []
    },
    {
      "cell_type": "code",
      "metadata": {
        "id": "zPHLvdwbYbbk",
        "colab_type": "code",
        "colab": {
          "base_uri": "https://localhost:8080/",
          "height": 204
        },
        "outputId": "94f24412-7121-47f5-8b0c-a76a458349dc"
      },
      "source": [
        "df.head()"
      ],
      "execution_count": 16,
      "outputs": [
        {
          "output_type": "execute_result",
          "data": {
            "text/html": [
              "<div>\n",
              "<style scoped>\n",
              "    .dataframe tbody tr th:only-of-type {\n",
              "        vertical-align: middle;\n",
              "    }\n",
              "\n",
              "    .dataframe tbody tr th {\n",
              "        vertical-align: top;\n",
              "    }\n",
              "\n",
              "    .dataframe thead th {\n",
              "        text-align: right;\n",
              "    }\n",
              "</style>\n",
              "<table border=\"1\" class=\"dataframe\">\n",
              "  <thead>\n",
              "    <tr style=\"text-align: right;\">\n",
              "      <th></th>\n",
              "      <th>Survived</th>\n",
              "      <th>Pclass</th>\n",
              "      <th>Sex</th>\n",
              "      <th>Age</th>\n",
              "      <th>SibSp</th>\n",
              "      <th>Parch</th>\n",
              "      <th>Fare</th>\n",
              "      <th>Embarked</th>\n",
              "    </tr>\n",
              "  </thead>\n",
              "  <tbody>\n",
              "    <tr>\n",
              "      <th>0</th>\n",
              "      <td>0</td>\n",
              "      <td>3</td>\n",
              "      <td>1</td>\n",
              "      <td>22.0</td>\n",
              "      <td>1</td>\n",
              "      <td>0</td>\n",
              "      <td>7.2500</td>\n",
              "      <td>2</td>\n",
              "    </tr>\n",
              "    <tr>\n",
              "      <th>1</th>\n",
              "      <td>1</td>\n",
              "      <td>1</td>\n",
              "      <td>0</td>\n",
              "      <td>38.0</td>\n",
              "      <td>1</td>\n",
              "      <td>0</td>\n",
              "      <td>71.2833</td>\n",
              "      <td>0</td>\n",
              "    </tr>\n",
              "    <tr>\n",
              "      <th>2</th>\n",
              "      <td>1</td>\n",
              "      <td>3</td>\n",
              "      <td>0</td>\n",
              "      <td>26.0</td>\n",
              "      <td>0</td>\n",
              "      <td>0</td>\n",
              "      <td>7.9250</td>\n",
              "      <td>2</td>\n",
              "    </tr>\n",
              "    <tr>\n",
              "      <th>3</th>\n",
              "      <td>1</td>\n",
              "      <td>1</td>\n",
              "      <td>0</td>\n",
              "      <td>35.0</td>\n",
              "      <td>1</td>\n",
              "      <td>0</td>\n",
              "      <td>53.1000</td>\n",
              "      <td>2</td>\n",
              "    </tr>\n",
              "    <tr>\n",
              "      <th>4</th>\n",
              "      <td>0</td>\n",
              "      <td>3</td>\n",
              "      <td>1</td>\n",
              "      <td>35.0</td>\n",
              "      <td>0</td>\n",
              "      <td>0</td>\n",
              "      <td>8.0500</td>\n",
              "      <td>2</td>\n",
              "    </tr>\n",
              "  </tbody>\n",
              "</table>\n",
              "</div>"
            ],
            "text/plain": [
              "   Survived  Pclass  Sex   Age  SibSp  Parch     Fare  Embarked\n",
              "0         0       3    1  22.0      1      0   7.2500         2\n",
              "1         1       1    0  38.0      1      0  71.2833         0\n",
              "2         1       3    0  26.0      0      0   7.9250         2\n",
              "3         1       1    0  35.0      1      0  53.1000         2\n",
              "4         0       3    1  35.0      0      0   8.0500         2"
            ]
          },
          "metadata": {
            "tags": []
          },
          "execution_count": 16
        }
      ]
    },
    {
      "cell_type": "markdown",
      "metadata": {
        "id": "PQrhWpkoY1qi",
        "colab_type": "text"
      },
      "source": [
        "**Support Vector Machine**"
      ]
    },
    {
      "cell_type": "markdown",
      "metadata": {
        "id": "fjmmm1RJYxcu",
        "colab_type": "text"
      },
      "source": [
        "Importing modules"
      ]
    },
    {
      "cell_type": "code",
      "metadata": {
        "id": "p2dNw8lwYfQT",
        "colab_type": "code",
        "colab": {}
      },
      "source": [
        "\n",
        "from sklearn.model_selection import train_test_split\n",
        "from sklearn import svm\n",
        "from sklearn.metrics import confusion_matrix, accuracy_score"
      ],
      "execution_count": 17,
      "outputs": []
    },
    {
      "cell_type": "code",
      "metadata": {
        "id": "fGRTs7yzYiVl",
        "colab_type": "code",
        "colab": {
          "base_uri": "https://localhost:8080/",
          "height": 1000
        },
        "outputId": "d50a1d0c-e3c1-4841-863f-c5329f808375"
      },
      "source": [
        "def prediction(col):\n",
        "    \n",
        "    clf = svm.SVC(gamma = 0.01, C = 100)\n",
        "\n",
        "    for i in col:\n",
        "        x = df.drop([i], axis=1)\n",
        "        print(\"--------------------------------------------------------------------------------------\")\n",
        "        print(f\"Here Dependent Variable is {i} & remaining are Independent Variables\")\n",
        "        print(\"x :\\n\", x.head())\n",
        "        y = df[i]\n",
        "        print(\"\\ny:\\n\", y.head())\n",
        "    \n",
        "        x_train, x_test, y_train, y_test = train_test_split(x, y, test_size =0.3, random_state=0)\n",
        "        model = clf.fit(x_train,y_train)\n",
        "        pred = model.predict(x_test)\n",
        "    \n",
        "        print(f\"\\nAcuuracy for {i} is: \", accuracy_score(y_test, pred, normalize=True))\n",
        "        print(f\"Confusion matrix for {i} is \\n\", confusion_matrix(y_test, pred))\n",
        "\n",
        "column = ['Survived', 'Pclass', 'Sex', 'SibSp', 'Parch','Embarked']        \n",
        "prediction(column)"
      ],
      "execution_count": 18,
      "outputs": [
        {
          "output_type": "stream",
          "text": [
            "--------------------------------------------------------------------------------------\n",
            "Here Dependent Variable is Survived & remaining are Independent Variables\n",
            "x :\n",
            "    Pclass  Sex   Age  SibSp  Parch     Fare  Embarked\n",
            "0       3    1  22.0      1      0   7.2500         2\n",
            "1       1    0  38.0      1      0  71.2833         0\n",
            "2       3    0  26.0      0      0   7.9250         2\n",
            "3       1    0  35.0      1      0  53.1000         2\n",
            "4       3    1  35.0      0      0   8.0500         2\n",
            "\n",
            "y:\n",
            " 0    0\n",
            "1    1\n",
            "2    1\n",
            "3    1\n",
            "4    0\n",
            "Name: Survived, dtype: int64\n",
            "\n",
            "Acuuracy for Survived is:  0.7415730337078652\n",
            "Confusion matrix for Survived is \n",
            " [[124  33]\n",
            " [ 36  74]]\n",
            "--------------------------------------------------------------------------------------\n",
            "Here Dependent Variable is Pclass & remaining are Independent Variables\n",
            "x :\n",
            "    Survived  Sex   Age  SibSp  Parch     Fare  Embarked\n",
            "0         0    1  22.0      1      0   7.2500         2\n",
            "1         1    0  38.0      1      0  71.2833         0\n",
            "2         1    0  26.0      0      0   7.9250         2\n",
            "3         1    0  35.0      1      0  53.1000         2\n",
            "4         0    1  35.0      0      0   8.0500         2\n",
            "\n",
            "y:\n",
            " 0    3\n",
            "1    1\n",
            "2    3\n",
            "3    1\n",
            "4    3\n",
            "Name: Pclass, dtype: int64\n",
            "\n",
            "Acuuracy for Pclass is:  0.9026217228464419\n",
            "Confusion matrix for Pclass is \n",
            " [[ 64   4   2]\n",
            " [  4  36   9]\n",
            " [  1   6 141]]\n",
            "--------------------------------------------------------------------------------------\n",
            "Here Dependent Variable is Sex & remaining are Independent Variables\n",
            "x :\n",
            "    Survived  Pclass   Age  SibSp  Parch     Fare  Embarked\n",
            "0         0       3  22.0      1      0   7.2500         2\n",
            "1         1       1  38.0      1      0  71.2833         0\n",
            "2         1       3  26.0      0      0   7.9250         2\n",
            "3         1       1  35.0      1      0  53.1000         2\n",
            "4         0       3  35.0      0      0   8.0500         2\n",
            "\n",
            "y:\n",
            " 0    1\n",
            "1    0\n",
            "2    0\n",
            "3    0\n",
            "4    1\n",
            "Name: Sex, dtype: int64\n",
            "\n",
            "Acuuracy for Sex is:  0.7265917602996255\n",
            "Confusion matrix for Sex is \n",
            " [[ 66  32]\n",
            " [ 41 128]]\n",
            "--------------------------------------------------------------------------------------\n",
            "Here Dependent Variable is SibSp & remaining are Independent Variables\n",
            "x :\n",
            "    Survived  Pclass  Sex   Age  Parch     Fare  Embarked\n",
            "0         0       3    1  22.0      0   7.2500         2\n",
            "1         1       1    0  38.0      0  71.2833         0\n",
            "2         1       3    0  26.0      0   7.9250         2\n",
            "3         1       1    0  35.0      0  53.1000         2\n",
            "4         0       3    1  35.0      0   8.0500         2\n",
            "\n",
            "y:\n",
            " 0    1\n",
            "1    1\n",
            "2    0\n",
            "3    1\n",
            "4    0\n",
            "Name: SibSp, dtype: int64\n",
            "\n",
            "Acuuracy for SibSp is:  0.7490636704119851\n",
            "Confusion matrix for SibSp is \n",
            " [[150  24   7   0   1   0   0]\n",
            " [ 21  39   5   0   0   0   0]\n",
            " [  4   1   3   0   0   0   0]\n",
            " [  0   2   1   3   1   0   0]\n",
            " [  0   0   0   0   2   0   0]\n",
            " [  0   0   0   0   0   1   0]\n",
            " [  0   0   0   0   0   0   2]]\n",
            "--------------------------------------------------------------------------------------\n",
            "Here Dependent Variable is Parch & remaining are Independent Variables\n",
            "x :\n",
            "    Survived  Pclass  Sex   Age  SibSp     Fare  Embarked\n",
            "0         0       3    1  22.0      1   7.2500         2\n",
            "1         1       1    0  38.0      1  71.2833         0\n",
            "2         1       3    0  26.0      0   7.9250         2\n",
            "3         1       1    0  35.0      1  53.1000         2\n",
            "4         0       3    1  35.0      0   8.0500         2\n",
            "\n",
            "y:\n",
            " 0    0\n",
            "1    0\n",
            "2    0\n",
            "3    0\n",
            "4    0\n",
            "Name: Parch, dtype: int64\n",
            "\n",
            "Acuuracy for Parch is:  0.797752808988764\n",
            "Confusion matrix for Parch is \n",
            " [[187   6   5   0   0   0]\n",
            " [ 21  15   3   0   0   1]\n",
            " [ 10   6  11   0   0   0]\n",
            " [  0   0   1   0   0   0]\n",
            " [  1   0   0   0   0   0]\n",
            " [  0   0   0   0   0   0]]\n",
            "--------------------------------------------------------------------------------------\n",
            "Here Dependent Variable is Embarked & remaining are Independent Variables\n",
            "x :\n",
            "    Survived  Pclass  Sex   Age  SibSp  Parch     Fare\n",
            "0         0       3    1  22.0      1      0   7.2500\n",
            "1         1       1    0  38.0      1      0  71.2833\n",
            "2         1       3    0  26.0      0      0   7.9250\n",
            "3         1       1    0  35.0      1      0  53.1000\n",
            "4         0       3    1  35.0      0      0   8.0500\n",
            "\n",
            "y:\n",
            " 0    2\n",
            "1    0\n",
            "2    2\n",
            "3    2\n",
            "4    2\n",
            "Name: Embarked, dtype: int64\n",
            "\n",
            "Acuuracy for Embarked is:  0.7677902621722846\n",
            "Confusion matrix for Embarked is \n",
            " [[ 23   2  24]\n",
            " [  0   8  14]\n",
            " [ 18   4 174]]\n"
          ],
          "name": "stdout"
        }
      ]
    },
    {
      "cell_type": "markdown",
      "metadata": {
        "id": "t5hobLDnZAds",
        "colab_type": "text"
      },
      "source": [
        "#Resultant Accuracy Score"
      ]
    },
    {
      "cell_type": "code",
      "metadata": {
        "id": "EpZ1zdFqYmJs",
        "colab_type": "code",
        "colab": {
          "base_uri": "https://localhost:8080/",
          "height": 235
        },
        "outputId": "a2ae1925-e987-4ac0-fb1a-11ae234c6f5d"
      },
      "source": [
        "score = { 'Dependent Variable': ['Survived', 'Pclass', 'Sex', 'SibSp', 'Parch','Embarked'],\n",
        "         'Accuracy Score': [0.7612,0.8955,0.75,0.7425,0.8283,0.7462],\n",
        "         'Total ':[268,268,268,268,268,268],\n",
        "         'Correct Prediction':[204,232,201,199,222,200],\n",
        "         'Incorrect Prediction':[64,36,67,69,46,68] }\n",
        "score = pd.DataFrame(score)\n",
        "score"
      ],
      "execution_count": 19,
      "outputs": [
        {
          "output_type": "execute_result",
          "data": {
            "text/html": [
              "<div>\n",
              "<style scoped>\n",
              "    .dataframe tbody tr th:only-of-type {\n",
              "        vertical-align: middle;\n",
              "    }\n",
              "\n",
              "    .dataframe tbody tr th {\n",
              "        vertical-align: top;\n",
              "    }\n",
              "\n",
              "    .dataframe thead th {\n",
              "        text-align: right;\n",
              "    }\n",
              "</style>\n",
              "<table border=\"1\" class=\"dataframe\">\n",
              "  <thead>\n",
              "    <tr style=\"text-align: right;\">\n",
              "      <th></th>\n",
              "      <th>Dependent Variable</th>\n",
              "      <th>Accuracy Score</th>\n",
              "      <th>Total</th>\n",
              "      <th>Correct Prediction</th>\n",
              "      <th>Incorrect Prediction</th>\n",
              "    </tr>\n",
              "  </thead>\n",
              "  <tbody>\n",
              "    <tr>\n",
              "      <th>0</th>\n",
              "      <td>Survived</td>\n",
              "      <td>0.7612</td>\n",
              "      <td>268</td>\n",
              "      <td>204</td>\n",
              "      <td>64</td>\n",
              "    </tr>\n",
              "    <tr>\n",
              "      <th>1</th>\n",
              "      <td>Pclass</td>\n",
              "      <td>0.8955</td>\n",
              "      <td>268</td>\n",
              "      <td>232</td>\n",
              "      <td>36</td>\n",
              "    </tr>\n",
              "    <tr>\n",
              "      <th>2</th>\n",
              "      <td>Sex</td>\n",
              "      <td>0.7500</td>\n",
              "      <td>268</td>\n",
              "      <td>201</td>\n",
              "      <td>67</td>\n",
              "    </tr>\n",
              "    <tr>\n",
              "      <th>3</th>\n",
              "      <td>SibSp</td>\n",
              "      <td>0.7425</td>\n",
              "      <td>268</td>\n",
              "      <td>199</td>\n",
              "      <td>69</td>\n",
              "    </tr>\n",
              "    <tr>\n",
              "      <th>4</th>\n",
              "      <td>Parch</td>\n",
              "      <td>0.8283</td>\n",
              "      <td>268</td>\n",
              "      <td>222</td>\n",
              "      <td>46</td>\n",
              "    </tr>\n",
              "    <tr>\n",
              "      <th>5</th>\n",
              "      <td>Embarked</td>\n",
              "      <td>0.7462</td>\n",
              "      <td>268</td>\n",
              "      <td>200</td>\n",
              "      <td>68</td>\n",
              "    </tr>\n",
              "  </tbody>\n",
              "</table>\n",
              "</div>"
            ],
            "text/plain": [
              "  Dependent Variable  Accuracy Score  ...  Correct Prediction  Incorrect Prediction\n",
              "0           Survived          0.7612  ...                 204                    64\n",
              "1             Pclass          0.8955  ...                 232                    36\n",
              "2                Sex          0.7500  ...                 201                    67\n",
              "3              SibSp          0.7425  ...                 199                    69\n",
              "4              Parch          0.8283  ...                 222                    46\n",
              "5           Embarked          0.7462  ...                 200                    68\n",
              "\n",
              "[6 rows x 5 columns]"
            ]
          },
          "metadata": {
            "tags": []
          },
          "execution_count": 19
        }
      ]
    },
    {
      "cell_type": "markdown",
      "metadata": {
        "id": "Uf_wazl4YpHc",
        "colab_type": "text"
      },
      "source": [
        "#Conclusion:"
      ]
    },
    {
      "cell_type": "markdown",
      "metadata": {
        "id": "R1svu2MnYrhk",
        "colab_type": "text"
      },
      "source": [
        "The Pclass as Dependedent variable ig giving high accuracy score than other Variabes"
      ]
    },
    {
      "cell_type": "code",
      "metadata": {
        "id": "e2pJNm-9YtUr",
        "colab_type": "code",
        "colab": {}
      },
      "source": [
        ""
      ],
      "execution_count": null,
      "outputs": []
    }
  ]
}