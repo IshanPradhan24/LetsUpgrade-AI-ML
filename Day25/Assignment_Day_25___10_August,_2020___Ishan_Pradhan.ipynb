{
  "nbformat": 4,
  "nbformat_minor": 0,
  "metadata": {
    "colab": {
      "name": "Assignment Day 25 | 10 August, 2020 | Ishan Pradhan.ipynb",
      "provenance": [],
      "collapsed_sections": []
    },
    "kernelspec": {
      "name": "python3",
      "display_name": "Python 3"
    }
  },
  "cells": [
    {
      "cell_type": "code",
      "metadata": {
        "id": "Elw6ud7J7W2Y",
        "colab_type": "code",
        "colab": {}
      },
      "source": [
        "import pandas as pd\n",
        "import numpy as np\n",
        "from sklearn.preprocessing import LabelEncoder\n",
        "from sklearn.model_selection import train_test_split\n",
        "from sklearn.naive_bayes import BernoulliNB\n",
        "from sklearn.metrics import accuracy_score,confusion_matrix"
      ],
      "execution_count": 1,
      "outputs": []
    },
    {
      "cell_type": "code",
      "metadata": {
        "id": "HNA3Nujc9M77",
        "colab_type": "code",
        "colab": {
          "base_uri": "https://localhost:8080/",
          "height": 255
        },
        "outputId": "a9ca9f0e-dca6-449e-aba7-a0a40d1a0868"
      },
      "source": [
        "df = pd.read_csv('train.csv')\n",
        "df.head()"
      ],
      "execution_count": 4,
      "outputs": [
        {
          "output_type": "execute_result",
          "data": {
            "text/html": [
              "<div>\n",
              "<style scoped>\n",
              "    .dataframe tbody tr th:only-of-type {\n",
              "        vertical-align: middle;\n",
              "    }\n",
              "\n",
              "    .dataframe tbody tr th {\n",
              "        vertical-align: top;\n",
              "    }\n",
              "\n",
              "    .dataframe thead th {\n",
              "        text-align: right;\n",
              "    }\n",
              "</style>\n",
              "<table border=\"1\" class=\"dataframe\">\n",
              "  <thead>\n",
              "    <tr style=\"text-align: right;\">\n",
              "      <th></th>\n",
              "      <th>PassengerId</th>\n",
              "      <th>Survived</th>\n",
              "      <th>Pclass</th>\n",
              "      <th>Name</th>\n",
              "      <th>Sex</th>\n",
              "      <th>Age</th>\n",
              "      <th>SibSp</th>\n",
              "      <th>Parch</th>\n",
              "      <th>Ticket</th>\n",
              "      <th>Fare</th>\n",
              "      <th>Cabin</th>\n",
              "      <th>Embarked</th>\n",
              "    </tr>\n",
              "  </thead>\n",
              "  <tbody>\n",
              "    <tr>\n",
              "      <th>0</th>\n",
              "      <td>1</td>\n",
              "      <td>0</td>\n",
              "      <td>3</td>\n",
              "      <td>Braund, Mr. Owen Harris</td>\n",
              "      <td>male</td>\n",
              "      <td>22.0</td>\n",
              "      <td>1</td>\n",
              "      <td>0</td>\n",
              "      <td>A/5 21171</td>\n",
              "      <td>7.2500</td>\n",
              "      <td>NaN</td>\n",
              "      <td>S</td>\n",
              "    </tr>\n",
              "    <tr>\n",
              "      <th>1</th>\n",
              "      <td>2</td>\n",
              "      <td>1</td>\n",
              "      <td>1</td>\n",
              "      <td>Cumings, Mrs. John Bradley (Florence Briggs Th...</td>\n",
              "      <td>female</td>\n",
              "      <td>38.0</td>\n",
              "      <td>1</td>\n",
              "      <td>0</td>\n",
              "      <td>PC 17599</td>\n",
              "      <td>71.2833</td>\n",
              "      <td>C85</td>\n",
              "      <td>C</td>\n",
              "    </tr>\n",
              "    <tr>\n",
              "      <th>2</th>\n",
              "      <td>3</td>\n",
              "      <td>1</td>\n",
              "      <td>3</td>\n",
              "      <td>Heikkinen, Miss. Laina</td>\n",
              "      <td>female</td>\n",
              "      <td>26.0</td>\n",
              "      <td>0</td>\n",
              "      <td>0</td>\n",
              "      <td>STON/O2. 3101282</td>\n",
              "      <td>7.9250</td>\n",
              "      <td>NaN</td>\n",
              "      <td>S</td>\n",
              "    </tr>\n",
              "    <tr>\n",
              "      <th>3</th>\n",
              "      <td>4</td>\n",
              "      <td>1</td>\n",
              "      <td>1</td>\n",
              "      <td>Futrelle, Mrs. Jacques Heath (Lily May Peel)</td>\n",
              "      <td>female</td>\n",
              "      <td>35.0</td>\n",
              "      <td>1</td>\n",
              "      <td>0</td>\n",
              "      <td>113803</td>\n",
              "      <td>53.1000</td>\n",
              "      <td>C123</td>\n",
              "      <td>S</td>\n",
              "    </tr>\n",
              "    <tr>\n",
              "      <th>4</th>\n",
              "      <td>5</td>\n",
              "      <td>0</td>\n",
              "      <td>3</td>\n",
              "      <td>Allen, Mr. William Henry</td>\n",
              "      <td>male</td>\n",
              "      <td>35.0</td>\n",
              "      <td>0</td>\n",
              "      <td>0</td>\n",
              "      <td>373450</td>\n",
              "      <td>8.0500</td>\n",
              "      <td>NaN</td>\n",
              "      <td>S</td>\n",
              "    </tr>\n",
              "  </tbody>\n",
              "</table>\n",
              "</div>"
            ],
            "text/plain": [
              "   PassengerId  Survived  Pclass  ...     Fare Cabin  Embarked\n",
              "0            1         0       3  ...   7.2500   NaN         S\n",
              "1            2         1       1  ...  71.2833   C85         C\n",
              "2            3         1       3  ...   7.9250   NaN         S\n",
              "3            4         1       1  ...  53.1000  C123         S\n",
              "4            5         0       3  ...   8.0500   NaN         S\n",
              "\n",
              "[5 rows x 12 columns]"
            ]
          },
          "metadata": {
            "tags": []
          },
          "execution_count": 4
        }
      ]
    },
    {
      "cell_type": "code",
      "metadata": {
        "id": "2VToOhcu9g4S",
        "colab_type": "code",
        "colab": {
          "base_uri": "https://localhost:8080/",
          "height": 340
        },
        "outputId": "69610222-d253-4991-f8fa-3a120562ca04"
      },
      "source": [
        "df.info()"
      ],
      "execution_count": 5,
      "outputs": [
        {
          "output_type": "stream",
          "text": [
            "<class 'pandas.core.frame.DataFrame'>\n",
            "RangeIndex: 889 entries, 0 to 888\n",
            "Data columns (total 12 columns):\n",
            " #   Column       Non-Null Count  Dtype  \n",
            "---  ------       --------------  -----  \n",
            " 0   PassengerId  889 non-null    int64  \n",
            " 1   Survived     889 non-null    int64  \n",
            " 2   Pclass       889 non-null    int64  \n",
            " 3   Name         889 non-null    object \n",
            " 4   Sex          889 non-null    object \n",
            " 5   Age          889 non-null    float64\n",
            " 6   SibSp        889 non-null    int64  \n",
            " 7   Parch        889 non-null    int64  \n",
            " 8   Ticket       889 non-null    object \n",
            " 9   Fare         889 non-null    float64\n",
            " 10  Cabin        202 non-null    object \n",
            " 11  Embarked     889 non-null    object \n",
            "dtypes: float64(2), int64(5), object(5)\n",
            "memory usage: 83.5+ KB\n"
          ],
          "name": "stdout"
        }
      ]
    },
    {
      "cell_type": "markdown",
      "metadata": {
        "id": "YkI9OwJg9kSS",
        "colab_type": "text"
      },
      "source": [
        "#Encoding of categorical variables"
      ]
    },
    {
      "cell_type": "code",
      "metadata": {
        "id": "vshGct409ida",
        "colab_type": "code",
        "colab": {
          "base_uri": "https://localhost:8080/",
          "height": 340
        },
        "outputId": "a4d509a3-6843-4622-baa8-3492962e12bb"
      },
      "source": [
        "enc = LabelEncoder()\n",
        "df['Sex'] = enc.fit_transform(df.Sex)\n",
        "df['Embarked'] = enc.fit_transform(df.Embarked)\n",
        "df.info()"
      ],
      "execution_count": 6,
      "outputs": [
        {
          "output_type": "stream",
          "text": [
            "<class 'pandas.core.frame.DataFrame'>\n",
            "RangeIndex: 889 entries, 0 to 888\n",
            "Data columns (total 12 columns):\n",
            " #   Column       Non-Null Count  Dtype  \n",
            "---  ------       --------------  -----  \n",
            " 0   PassengerId  889 non-null    int64  \n",
            " 1   Survived     889 non-null    int64  \n",
            " 2   Pclass       889 non-null    int64  \n",
            " 3   Name         889 non-null    object \n",
            " 4   Sex          889 non-null    int64  \n",
            " 5   Age          889 non-null    float64\n",
            " 6   SibSp        889 non-null    int64  \n",
            " 7   Parch        889 non-null    int64  \n",
            " 8   Ticket       889 non-null    object \n",
            " 9   Fare         889 non-null    float64\n",
            " 10  Cabin        202 non-null    object \n",
            " 11  Embarked     889 non-null    int64  \n",
            "dtypes: float64(2), int64(7), object(3)\n",
            "memory usage: 83.5+ KB\n"
          ],
          "name": "stdout"
        }
      ]
    },
    {
      "cell_type": "code",
      "metadata": {
        "id": "sSd6dRdn9p0Y",
        "colab_type": "code",
        "colab": {
          "base_uri": "https://localhost:8080/",
          "height": 238
        },
        "outputId": "78ec2a32-c913-415d-b608-247e3c8a3b5f"
      },
      "source": [
        "df.isna().sum()"
      ],
      "execution_count": 7,
      "outputs": [
        {
          "output_type": "execute_result",
          "data": {
            "text/plain": [
              "PassengerId      0\n",
              "Survived         0\n",
              "Pclass           0\n",
              "Name             0\n",
              "Sex              0\n",
              "Age              0\n",
              "SibSp            0\n",
              "Parch            0\n",
              "Ticket           0\n",
              "Fare             0\n",
              "Cabin          687\n",
              "Embarked         0\n",
              "dtype: int64"
            ]
          },
          "metadata": {
            "tags": []
          },
          "execution_count": 7
        }
      ]
    },
    {
      "cell_type": "markdown",
      "metadata": {
        "id": "3Ulr9I6i95-c",
        "colab_type": "text"
      },
      "source": [
        "#Data Cleaning"
      ]
    },
    {
      "cell_type": "code",
      "metadata": {
        "id": "33MwavnF965Y",
        "colab_type": "code",
        "colab": {
          "base_uri": "https://localhost:8080/",
          "height": 68
        },
        "outputId": "dd58301e-72dd-4682-b121-3217cfd9b2c7"
      },
      "source": [
        "df = df.drop(columns = ['Cabin', 'PassengerId', 'Name', 'Ticket'])\n",
        "df.columns"
      ],
      "execution_count": 8,
      "outputs": [
        {
          "output_type": "execute_result",
          "data": {
            "text/plain": [
              "Index(['Survived', 'Pclass', 'Sex', 'Age', 'SibSp', 'Parch', 'Fare',\n",
              "       'Embarked'],\n",
              "      dtype='object')"
            ]
          },
          "metadata": {
            "tags": []
          },
          "execution_count": 8
        }
      ]
    },
    {
      "cell_type": "markdown",
      "metadata": {
        "id": "EfiiMJYV-D6z",
        "colab_type": "text"
      },
      "source": [
        "# Model Function"
      ]
    },
    {
      "cell_type": "code",
      "metadata": {
        "id": "KZl_cEV--Dip",
        "colab_type": "code",
        "colab": {}
      },
      "source": [
        "clf=BernoulliNB()\n",
        "\n",
        "def model(x, y, rstate):\n",
        "    X_train, X_test, y_train, y_test=train_test_split(x, y,test_size=0.3, random_state=rstate)\n",
        "    y_pred = clf.fit(X_train, y_train).predict(X_test)\n",
        "    acc = accuracy_score(y_test, y_pred, normalize=True)\n",
        "    confm = confusion_matrix(y_test, y_pred)\n",
        "    return [acc, confm]"
      ],
      "execution_count": 10,
      "outputs": []
    },
    {
      "cell_type": "markdown",
      "metadata": {
        "id": "8NwLApgl-KaC",
        "colab_type": "text"
      },
      "source": [
        "#Splitting the data to feed into the model"
      ]
    },
    {
      "cell_type": "code",
      "metadata": {
        "id": "gi1EnXvI-LSA",
        "colab_type": "code",
        "colab": {
          "base_uri": "https://localhost:8080/",
          "height": 207
        },
        "outputId": "e0d2bd20-9c75-4ccf-c158-16a94de4635d"
      },
      "source": [
        "rstate=-1\n",
        "models = []\n",
        "\n",
        "for enum, i in enumerate(df.columns[1:]):\n",
        "    if i == 'Age' or i == 'Fare':\n",
        "        continue\n",
        "    y = df.iloc[:, enum+1:enum+2]\n",
        "    x = df.drop(columns = y.columns)\n",
        "    rstate += 1\n",
        "    models.append([model(x, y, rstate), y.columns[0]])"
      ],
      "execution_count": 11,
      "outputs": [
        {
          "output_type": "stream",
          "text": [
            "/usr/local/lib/python3.6/dist-packages/sklearn/utils/validation.py:760: DataConversionWarning: A column-vector y was passed when a 1d array was expected. Please change the shape of y to (n_samples, ), for example using ravel().\n",
            "  y = column_or_1d(y, warn=True)\n",
            "/usr/local/lib/python3.6/dist-packages/sklearn/utils/validation.py:760: DataConversionWarning: A column-vector y was passed when a 1d array was expected. Please change the shape of y to (n_samples, ), for example using ravel().\n",
            "  y = column_or_1d(y, warn=True)\n",
            "/usr/local/lib/python3.6/dist-packages/sklearn/utils/validation.py:760: DataConversionWarning: A column-vector y was passed when a 1d array was expected. Please change the shape of y to (n_samples, ), for example using ravel().\n",
            "  y = column_or_1d(y, warn=True)\n",
            "/usr/local/lib/python3.6/dist-packages/sklearn/utils/validation.py:760: DataConversionWarning: A column-vector y was passed when a 1d array was expected. Please change the shape of y to (n_samples, ), for example using ravel().\n",
            "  y = column_or_1d(y, warn=True)\n",
            "/usr/local/lib/python3.6/dist-packages/sklearn/utils/validation.py:760: DataConversionWarning: A column-vector y was passed when a 1d array was expected. Please change the shape of y to (n_samples, ), for example using ravel().\n",
            "  y = column_or_1d(y, warn=True)\n"
          ],
          "name": "stderr"
        }
      ]
    },
    {
      "cell_type": "markdown",
      "metadata": {
        "id": "u6y7YZ7L-Pe6",
        "colab_type": "text"
      },
      "source": [
        "#Model Outcome"
      ]
    },
    {
      "cell_type": "code",
      "metadata": {
        "id": "c4TEe0-2-OKD",
        "colab_type": "code",
        "colab": {
          "base_uri": "https://localhost:8080/",
          "height": 1000
        },
        "outputId": "0bf3b6dc-e84f-4307-ca90-dcaf673a1ab5"
      },
      "source": [
        "for _ in models:\n",
        "    print(f'{_[1]} vs All\\n')\n",
        "    print(f'Accuracy: {_[0][0]}')\n",
        "    print(f'Confusion Matrix: \\n {_[0][1]}\\n')\n",
        "    print(f\"Out of total 267 records only {np.trace(_[0][1])} are successfully classified, giving a model accuracy of {int(_[0][0]*100)}%.\")\n",
        "    print('\\n-----------------------\\n')"
      ],
      "execution_count": 12,
      "outputs": [
        {
          "output_type": "stream",
          "text": [
            "Pclass vs All\n",
            "\n",
            "Accuracy: 0.5917602996254682\n",
            "Confusion Matrix: \n",
            " [[ 30   8  32]\n",
            " [  9  10  30]\n",
            " [ 24   6 118]]\n",
            "\n",
            "Out of total 267 records only 158 are successfully classified, giving a model accuracy of 59%.\n",
            "\n",
            "-----------------------\n",
            "\n",
            "Sex vs All\n",
            "\n",
            "Accuracy: 0.7602996254681648\n",
            "Confusion Matrix: \n",
            " [[ 48  49]\n",
            " [ 15 155]]\n",
            "\n",
            "Out of total 267 records only 203 are successfully classified, giving a model accuracy of 76%.\n",
            "\n",
            "-----------------------\n",
            "\n",
            "SibSp vs All\n",
            "\n",
            "Accuracy: 0.6891385767790262\n",
            "Confusion Matrix: \n",
            " [[167  25   0   0   0   0   0]\n",
            " [ 31  17   0   0   0   0   0]\n",
            " [  5   7   0   0   0   0   0]\n",
            " [  4   3   0   0   0   0   0]\n",
            " [  2   2   0   0   0   0   0]\n",
            " [  0   1   0   0   0   0   0]\n",
            " [  1   2   0   0   0   0   0]]\n",
            "\n",
            "Out of total 267 records only 184 are successfully classified, giving a model accuracy of 68%.\n",
            "\n",
            "-----------------------\n",
            "\n",
            "Parch vs All\n",
            "\n",
            "Accuracy: 0.7191011235955056\n",
            "Confusion Matrix: \n",
            " [[183  16   0   0   0]\n",
            " [ 34   9   0   0   0]\n",
            " [ 18   3   0   0   0]\n",
            " [  2   0   0   0   0]\n",
            " [  2   0   0   0   0]]\n",
            "\n",
            "Out of total 267 records only 192 are successfully classified, giving a model accuracy of 71%.\n",
            "\n",
            "-----------------------\n",
            "\n",
            "Embarked vs All\n",
            "\n",
            "Accuracy: 0.7153558052434457\n",
            "Confusion Matrix: \n",
            " [[  0   0  53]\n",
            " [  0   0  23]\n",
            " [  0   0 191]]\n",
            "\n",
            "Out of total 267 records only 191 are successfully classified, giving a model accuracy of 71%.\n",
            "\n",
            "-----------------------\n",
            "\n"
          ],
          "name": "stdout"
        }
      ]
    },
    {
      "cell_type": "markdown",
      "metadata": {
        "id": "_rFSkUlQCDx7",
        "colab_type": "text"
      },
      "source": [
        "#**Naive Bayes**"
      ]
    },
    {
      "cell_type": "markdown",
      "metadata": {
        "id": "WtaPDrJFCOn1",
        "colab_type": "text"
      },
      "source": [
        "#Importing modules"
      ]
    },
    {
      "cell_type": "code",
      "metadata": {
        "id": "uigqNKklBjL7",
        "colab_type": "code",
        "colab": {}
      },
      "source": [
        "from sklearn.model_selection import train_test_split\n",
        "from sklearn.naive_bayes import * \n",
        "from sklearn.metrics import accuracy_score, confusion_matrix"
      ],
      "execution_count": 19,
      "outputs": []
    },
    {
      "cell_type": "markdown",
      "metadata": {
        "id": "Njg2oEZ7CTtC",
        "colab_type": "text"
      },
      "source": [
        "**Training & Predicting Accuracy, Confusion Matrix of the model using Naive Bayes**\n",
        "1. Naive Bayes is used to classify Record with the help of Probability\n",
        "2. As we Know, Naive Bayes is only applicable for Categorical variables.\n",
        "3. Only for Categorical Variables we are predicting Accuracy and Confusion Matrix :\n",
        "\n",
        "Categorical Columns are: Survived, Pclass, Sex, SibSp, Parch, Embarked"
      ]
    },
    {
      "cell_type": "markdown",
      "metadata": {
        "id": "-hsCS6qoCjFG",
        "colab_type": "text"
      },
      "source": [
        "#By Using Function:"
      ]
    },
    {
      "cell_type": "code",
      "metadata": {
        "id": "Ua-WHptOB8VZ",
        "colab_type": "code",
        "colab": {
          "base_uri": "https://localhost:8080/",
          "height": 1000
        },
        "outputId": "1bf1215a-052e-4b85-8a97-a38ab4123122"
      },
      "source": [
        "def prediction(col):\n",
        "    \n",
        "    clf = BernoulliNB()\n",
        "\n",
        "    for i in col:\n",
        "        x = df.drop([i], axis=1)\n",
        "        print(\"--------------------------------------------------------------------------------------\")\n",
        "        print(f\"Here Dependent Variable is {i} & remaining are Independent Variables\")\n",
        "        print(\"x :\\n\", x.head())\n",
        "        y = df[i]\n",
        "        print(\"\\ny:\\n\", y.head())\n",
        "    \n",
        "        x_train, x_test, y_train, y_test = train_test_split(x, y, test_size =0.3, random_state=0)\n",
        "        model = clf.fit(x_train,y_train)\n",
        "        pred = model.predict(x_test)\n",
        "    \n",
        "        print(f\"\\nAcuuracy for {i} is: \", accuracy_score(y_test, pred, normalize=True))\n",
        "        print(f\"Confusion matrix for {i} is \\n\", confusion_matrix(y_test, pred))\n",
        "\n",
        "column = ['Survived', 'Pclass', 'Sex', 'SibSp', 'Parch','Embarked']        \n",
        "prediction(column)"
      ],
      "execution_count": 20,
      "outputs": [
        {
          "output_type": "stream",
          "text": [
            "--------------------------------------------------------------------------------------\n",
            "Here Dependent Variable is Survived & remaining are Independent Variables\n",
            "x :\n",
            "    Pclass  Sex   Age  SibSp  Parch     Fare  Embarked\n",
            "0       3    1  22.0      1      0   7.2500         2\n",
            "1       1    0  38.0      1      0  71.2833         0\n",
            "2       3    0  26.0      0      0   7.9250         2\n",
            "3       1    0  35.0      1      0  53.1000         2\n",
            "4       3    1  35.0      0      0   8.0500         2\n",
            "\n",
            "y:\n",
            " 0    0\n",
            "1    1\n",
            "2    1\n",
            "3    1\n",
            "4    0\n",
            "Name: Survived, dtype: int64\n",
            "\n",
            "Acuuracy for Survived is:  0.7715355805243446\n",
            "Confusion matrix for Survived is \n",
            " [[131  26]\n",
            " [ 35  75]]\n",
            "--------------------------------------------------------------------------------------\n",
            "Here Dependent Variable is Pclass & remaining are Independent Variables\n",
            "x :\n",
            "    Survived  Sex   Age  SibSp  Parch     Fare  Embarked\n",
            "0         0    1  22.0      1      0   7.2500         2\n",
            "1         1    0  38.0      1      0  71.2833         0\n",
            "2         1    0  26.0      0      0   7.9250         2\n",
            "3         1    0  35.0      1      0  53.1000         2\n",
            "4         0    1  35.0      0      0   8.0500         2\n",
            "\n",
            "y:\n",
            " 0    3\n",
            "1    1\n",
            "2    3\n",
            "3    1\n",
            "4    3\n",
            "Name: Pclass, dtype: int64\n",
            "\n",
            "Acuuracy for Pclass is:  0.5917602996254682\n",
            "Confusion matrix for Pclass is \n",
            " [[ 30   8  32]\n",
            " [  9  10  30]\n",
            " [ 24   6 118]]\n",
            "--------------------------------------------------------------------------------------\n",
            "Here Dependent Variable is Sex & remaining are Independent Variables\n",
            "x :\n",
            "    Survived  Pclass   Age  SibSp  Parch     Fare  Embarked\n",
            "0         0       3  22.0      1      0   7.2500         2\n",
            "1         1       1  38.0      1      0  71.2833         0\n",
            "2         1       3  26.0      0      0   7.9250         2\n",
            "3         1       1  35.0      1      0  53.1000         2\n",
            "4         0       3  35.0      0      0   8.0500         2\n",
            "\n",
            "y:\n",
            " 0    1\n",
            "1    0\n",
            "2    0\n",
            "3    0\n",
            "4    1\n",
            "Name: Sex, dtype: int64\n",
            "\n",
            "Acuuracy for Sex is:  0.7453183520599251\n",
            "Confusion matrix for Sex is \n",
            " [[ 49  49]\n",
            " [ 19 150]]\n",
            "--------------------------------------------------------------------------------------\n",
            "Here Dependent Variable is SibSp & remaining are Independent Variables\n",
            "x :\n",
            "    Survived  Pclass  Sex   Age  Parch     Fare  Embarked\n",
            "0         0       3    1  22.0      0   7.2500         2\n",
            "1         1       1    0  38.0      0  71.2833         0\n",
            "2         1       3    0  26.0      0   7.9250         2\n",
            "3         1       1    0  35.0      0  53.1000         2\n",
            "4         0       3    1  35.0      0   8.0500         2\n",
            "\n",
            "y:\n",
            " 0    1\n",
            "1    1\n",
            "2    0\n",
            "3    1\n",
            "4    0\n",
            "Name: SibSp, dtype: int64\n",
            "\n",
            "Acuuracy for SibSp is:  0.6891385767790262\n",
            "Confusion matrix for SibSp is \n",
            " [[162  20   0   0   0   0   0]\n",
            " [ 43  22   0   0   0   0   0]\n",
            " [  6   2   0   0   0   0   0]\n",
            " [  5   2   0   0   0   0   0]\n",
            " [  2   0   0   0   0   0   0]\n",
            " [  1   0   0   0   0   0   0]\n",
            " [  2   0   0   0   0   0   0]]\n",
            "--------------------------------------------------------------------------------------\n",
            "Here Dependent Variable is Parch & remaining are Independent Variables\n",
            "x :\n",
            "    Survived  Pclass  Sex   Age  SibSp     Fare  Embarked\n",
            "0         0       3    1  22.0      1   7.2500         2\n",
            "1         1       1    0  38.0      1  71.2833         0\n",
            "2         1       3    0  26.0      0   7.9250         2\n",
            "3         1       1    0  35.0      1  53.1000         2\n",
            "4         0       3    1  35.0      0   8.0500         2\n",
            "\n",
            "y:\n",
            " 0    0\n",
            "1    0\n",
            "2    0\n",
            "3    0\n",
            "4    0\n",
            "Name: Parch, dtype: int64\n",
            "\n",
            "Acuuracy for Parch is:  0.7153558052434457\n",
            "Confusion matrix for Parch is \n",
            " [[182  16   0   0   0]\n",
            " [ 31   9   0   0   0]\n",
            " [ 24   3   0   0   0]\n",
            " [  1   0   0   0   0]\n",
            " [  1   0   0   0   0]]\n",
            "--------------------------------------------------------------------------------------\n",
            "Here Dependent Variable is Embarked & remaining are Independent Variables\n",
            "x :\n",
            "    Survived  Pclass  Sex   Age  SibSp  Parch     Fare\n",
            "0         0       3    1  22.0      1      0   7.2500\n",
            "1         1       1    0  38.0      1      0  71.2833\n",
            "2         1       3    0  26.0      0      0   7.9250\n",
            "3         1       1    0  35.0      1      0  53.1000\n",
            "4         0       3    1  35.0      0      0   8.0500\n",
            "\n",
            "y:\n",
            " 0    2\n",
            "1    0\n",
            "2    2\n",
            "3    2\n",
            "4    2\n",
            "Name: Embarked, dtype: int64\n",
            "\n",
            "Acuuracy for Embarked is:  0.7340823970037453\n",
            "Confusion matrix for Embarked is \n",
            " [[  0   0  49]\n",
            " [  0   0  22]\n",
            " [  0   0 196]]\n"
          ],
          "name": "stdout"
        }
      ]
    },
    {
      "cell_type": "markdown",
      "metadata": {
        "id": "MboSMWvzCp76",
        "colab_type": "text"
      },
      "source": [
        "#Resultant Accuracy Score"
      ]
    },
    {
      "cell_type": "code",
      "metadata": {
        "id": "yR4fONzFCr6L",
        "colab_type": "code",
        "colab": {
          "base_uri": "https://localhost:8080/",
          "height": 235
        },
        "outputId": "72b5feda-3746-4134-fb44-474af80bf817"
      },
      "source": [
        "score = {'Dependent Variable': ['Survived', 'Pclass', 'Sex', 'SibSp', 'Parch','Embarked'],\n",
        "         'Accuracy Score': [0.7835,0.5932,0.7835,0.6791,0.7425,0.6977],\n",
        "         'Total ':[268,268,268,268,268,268],\n",
        "         'Correct Prediction':[210,159,210,182,199,187],\n",
        "         'Incorrect Prediction':[58,109,58,86,69,81]}\n",
        "score = pd.DataFrame(score)\n",
        "score"
      ],
      "execution_count": 21,
      "outputs": [
        {
          "output_type": "execute_result",
          "data": {
            "text/html": [
              "<div>\n",
              "<style scoped>\n",
              "    .dataframe tbody tr th:only-of-type {\n",
              "        vertical-align: middle;\n",
              "    }\n",
              "\n",
              "    .dataframe tbody tr th {\n",
              "        vertical-align: top;\n",
              "    }\n",
              "\n",
              "    .dataframe thead th {\n",
              "        text-align: right;\n",
              "    }\n",
              "</style>\n",
              "<table border=\"1\" class=\"dataframe\">\n",
              "  <thead>\n",
              "    <tr style=\"text-align: right;\">\n",
              "      <th></th>\n",
              "      <th>Dependent Variable</th>\n",
              "      <th>Accuracy Score</th>\n",
              "      <th>Total</th>\n",
              "      <th>Correct Prediction</th>\n",
              "      <th>Incorrect Prediction</th>\n",
              "    </tr>\n",
              "  </thead>\n",
              "  <tbody>\n",
              "    <tr>\n",
              "      <th>0</th>\n",
              "      <td>Survived</td>\n",
              "      <td>0.7835</td>\n",
              "      <td>268</td>\n",
              "      <td>210</td>\n",
              "      <td>58</td>\n",
              "    </tr>\n",
              "    <tr>\n",
              "      <th>1</th>\n",
              "      <td>Pclass</td>\n",
              "      <td>0.5932</td>\n",
              "      <td>268</td>\n",
              "      <td>159</td>\n",
              "      <td>109</td>\n",
              "    </tr>\n",
              "    <tr>\n",
              "      <th>2</th>\n",
              "      <td>Sex</td>\n",
              "      <td>0.7835</td>\n",
              "      <td>268</td>\n",
              "      <td>210</td>\n",
              "      <td>58</td>\n",
              "    </tr>\n",
              "    <tr>\n",
              "      <th>3</th>\n",
              "      <td>SibSp</td>\n",
              "      <td>0.6791</td>\n",
              "      <td>268</td>\n",
              "      <td>182</td>\n",
              "      <td>86</td>\n",
              "    </tr>\n",
              "    <tr>\n",
              "      <th>4</th>\n",
              "      <td>Parch</td>\n",
              "      <td>0.7425</td>\n",
              "      <td>268</td>\n",
              "      <td>199</td>\n",
              "      <td>69</td>\n",
              "    </tr>\n",
              "    <tr>\n",
              "      <th>5</th>\n",
              "      <td>Embarked</td>\n",
              "      <td>0.6977</td>\n",
              "      <td>268</td>\n",
              "      <td>187</td>\n",
              "      <td>81</td>\n",
              "    </tr>\n",
              "  </tbody>\n",
              "</table>\n",
              "</div>"
            ],
            "text/plain": [
              "  Dependent Variable  Accuracy Score  ...  Correct Prediction  Incorrect Prediction\n",
              "0           Survived          0.7835  ...                 210                    58\n",
              "1             Pclass          0.5932  ...                 159                   109\n",
              "2                Sex          0.7835  ...                 210                    58\n",
              "3              SibSp          0.6791  ...                 182                    86\n",
              "4              Parch          0.7425  ...                 199                    69\n",
              "5           Embarked          0.6977  ...                 187                    81\n",
              "\n",
              "[6 rows x 5 columns]"
            ]
          },
          "metadata": {
            "tags": []
          },
          "execution_count": 21
        }
      ]
    },
    {
      "cell_type": "markdown",
      "metadata": {
        "id": "_V0vz1B0CrYz",
        "colab_type": "text"
      },
      "source": [
        "#Conclusion:"
      ]
    },
    {
      "cell_type": "markdown",
      "metadata": {
        "id": "YrJbwbkwCzZ0",
        "colab_type": "text"
      },
      "source": [
        "1. The Survived Column and Gender column has same accuracy score\n",
        "2. Pclass has the least accuracy"
      ]
    }
  ]
}