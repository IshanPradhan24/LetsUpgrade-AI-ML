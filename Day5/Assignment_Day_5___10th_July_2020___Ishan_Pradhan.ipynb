{
  "nbformat": 4,
  "nbformat_minor": 0,
  "metadata": {
    "colab": {
      "name": "Assignment Day 5 | 10th July 2020 | Ishan Pradhan.ipynb",
      "provenance": [],
      "collapsed_sections": []
    },
    "kernelspec": {
      "name": "python3",
      "display_name": "Python 3"
    }
  },
  "cells": [
    {
      "cell_type": "code",
      "metadata": {
        "id": "68FgakSe8MOU",
        "colab_type": "code",
        "colab": {
          "base_uri": "https://localhost:8080/",
          "height": 34
        },
        "outputId": "51eb5afe-3a4d-4e44-c6b7-610a2a0fcf42"
      },
      "source": [
        "#Question 1: Python program to find first 20 non-even prime natural numbers\n",
        "\n",
        "for i in range(l,20): \n",
        "    print(i, end=' ') if i%2 else print (end=' ')"
      ],
      "execution_count": null,
      "outputs": [
        {
          "output_type": "stream",
          "text": [
            "1  3  5  7  9  11  13  15  17  19 "
          ],
          "name": "stdout"
        }
      ]
    },
    {
      "cell_type": "code",
      "metadata": {
        "id": "BBLs0NJbB63D",
        "colab_type": "code",
        "colab": {}
      },
      "source": [
        "#Question 2:"
      ],
      "execution_count": null,
      "outputs": []
    },
    {
      "cell_type": "markdown",
      "metadata": {
        "id": "Ybh3X_lQ-8r9",
        "colab_type": "text"
      },
      "source": [
        "#Default functions of String"
      ]
    },
    {
      "cell_type": "code",
      "metadata": {
        "id": "52DHOHduKOya",
        "colab_type": "code",
        "colab": {
          "base_uri": "https://localhost:8080/",
          "height": 51
        },
        "outputId": "6bb33a09-f384-4e01-bae9-78f439b4f65c"
      },
      "source": [
        "stringVariable = \"This is a string variable\"\n",
        "print('stringVariable is : ',stringVariable)\n",
        "print('First character in stringVariable is : ',stringVariable[0])"
      ],
      "execution_count": null,
      "outputs": [
        {
          "output_type": "stream",
          "text": [
            "stringVariable is :  This is a string variable\n",
            "First character in stringVariable is :  T\n"
          ],
          "name": "stdout"
        }
      ]
    },
    {
      "cell_type": "code",
      "metadata": {
        "id": "8F9AzGqVLV2q",
        "colab_type": "code",
        "colab": {
          "base_uri": "https://localhost:8080/",
          "height": 51
        },
        "outputId": "2c5aa9ab-b74f-4c5f-f58a-9b9b5dae78b4"
      },
      "source": [
        "# Capitalized String\n",
        "\n",
        "stringVariable2 = \"python is AWesome.\"\n",
        "\n",
        "capitalized_string = stringVariable2.capitalize()\n",
        "\n",
        "print('Old String: ', stringVariable2)\n",
        "print('Capitalized String:', capitalized_string)"
      ],
      "execution_count": null,
      "outputs": [
        {
          "output_type": "stream",
          "text": [
            "Old String:  python is AWesome.\n",
            "Capitalized String: Python is awesome.\n"
          ],
          "name": "stdout"
        }
      ]
    },
    {
      "cell_type": "code",
      "metadata": {
        "id": "K8fYzCDWNkDT",
        "colab_type": "code",
        "colab": {
          "base_uri": "https://localhost:8080/",
          "height": 34
        },
        "outputId": "76bb0ed6-171d-46c9-e968-f7499302486d"
      },
      "source": [
        "# Center String\n",
        "\n",
        "stringVariable3 = \"Python is awesome\"\n",
        "\n",
        "new_string = stringVariable3.center(54)\n",
        "\n",
        "print(\"Centered String: \", new_string)"
      ],
      "execution_count": null,
      "outputs": [
        {
          "output_type": "stream",
          "text": [
            "Centered String:                    Python is awesome                   \n"
          ],
          "name": "stdout"
        }
      ]
    },
    {
      "cell_type": "code",
      "metadata": {
        "id": "rAnA2y3kN0r9",
        "colab_type": "code",
        "colab": {
          "base_uri": "https://localhost:8080/",
          "height": 51
        },
        "outputId": "3344e2ed-1700-4a8d-a830-107b4d055c9a"
      },
      "source": [
        "# Endswith String\n",
        "\n",
        "stringVariable4 = \"Python is easy to learn.\"\n",
        "\n",
        "result = stringVariable4.endswith('java')\n",
        "# returns False\n",
        "print(result)\n",
        "\n",
        "result = stringVariable4.endswith('to learn.')\n",
        "# returns True\n",
        "print(result)"
      ],
      "execution_count": null,
      "outputs": [
        {
          "output_type": "stream",
          "text": [
            "False\n",
            "True\n"
          ],
          "name": "stdout"
        }
      ]
    },
    {
      "cell_type": "code",
      "metadata": {
        "id": "rH4qb_vYN0h-",
        "colab_type": "code",
        "colab": {
          "base_uri": "https://localhost:8080/",
          "height": 51
        },
        "outputId": "4869b035-92a0-4ca7-cea2-c0a952801d45"
      },
      "source": [
        "# isspace String\n",
        "\n",
        "s = '   \\t'\n",
        "print(s.isspace())\n",
        "\n",
        "s = ''\n",
        "print(s.isspace())"
      ],
      "execution_count": null,
      "outputs": [
        {
          "output_type": "stream",
          "text": [
            "True\n",
            "False\n"
          ],
          "name": "stdout"
        }
      ]
    },
    {
      "cell_type": "code",
      "metadata": {
        "id": "NJy8DV5XN0VX",
        "colab_type": "code",
        "colab": {
          "base_uri": "https://localhost:8080/",
          "height": 51
        },
        "outputId": "d731bde2-5d51-4094-86d2-492bb3d92152"
      },
      "source": [
        "# issdecimal String\n",
        "\n",
        "s = \"2825\"\n",
        "print(s.isdecimal())\n",
        "\n",
        "# contains alphabets\n",
        "s = \"32ladk3\"\n",
        "print(s.isdecimal())"
      ],
      "execution_count": null,
      "outputs": [
        {
          "output_type": "stream",
          "text": [
            "True\n",
            "False\n"
          ],
          "name": "stdout"
        }
      ]
    },
    {
      "cell_type": "code",
      "metadata": {
        "id": "allFJT_cN0G0",
        "colab_type": "code",
        "colab": {
          "base_uri": "https://localhost:8080/",
          "height": 51
        },
        "outputId": "f71eaf16-8bf3-4657-ff32-b024a8de65ae"
      },
      "source": [
        "# issdigit String\n",
        "s = \"28212\"\n",
        "print(s.isdigit())\n",
        "\n",
        "# contains alphabets and spaces\n",
        "s = \"Mo3 nicaG el l22er\"\n",
        "print(s.isdigit())"
      ],
      "execution_count": null,
      "outputs": [
        {
          "output_type": "stream",
          "text": [
            "True\n",
            "False\n"
          ],
          "name": "stdout"
        }
      ]
    },
    {
      "cell_type": "code",
      "metadata": {
        "id": "xh89maYlOx7_",
        "colab_type": "code",
        "colab": {
          "base_uri": "https://localhost:8080/",
          "height": 68
        },
        "outputId": "0b6cee1b-61da-4022-a2e1-9b1bfac14f29"
      },
      "source": [
        "# isidentifier String\n",
        "\n",
        "str = 'Python'\n",
        "print(str.isidentifier())\n",
        "\n",
        "str = 'Py thon'\n",
        "print(str.isidentifier())\n",
        "\n",
        "str = '22Python'\n",
        "print(str.isidentifier())"
      ],
      "execution_count": null,
      "outputs": [
        {
          "output_type": "stream",
          "text": [
            "True\n",
            "False\n",
            "False\n"
          ],
          "name": "stdout"
        }
      ]
    },
    {
      "cell_type": "code",
      "metadata": {
        "id": "RgTA7e2OO8OK",
        "colab_type": "code",
        "colab": {
          "base_uri": "https://localhost:8080/",
          "height": 51
        },
        "outputId": "9029a770-a4d1-4fdc-cf31-c0ba15bbc5ad"
      },
      "source": [
        "# isnumeric String\n",
        "\n",
        "s = '1242323'\n",
        "print(s.isnumeric())\n",
        "\n",
        "s = '1242323'\n",
        "s='python12'\n",
        "print(s.isnumeric())"
      ],
      "execution_count": null,
      "outputs": [
        {
          "output_type": "stream",
          "text": [
            "True\n",
            "False\n"
          ],
          "name": "stdout"
        }
      ]
    },
    {
      "cell_type": "code",
      "metadata": {
        "id": "tGZMVGWAPEY_",
        "colab_type": "code",
        "colab": {
          "base_uri": "https://localhost:8080/",
          "height": 68
        },
        "outputId": "403809fe-49ca-4b05-d6e2-36ba87647eaf"
      },
      "source": [
        "# swapcase string\n",
        "string = \"THIS SHOULD ALL BE LOWERCASE.\"\n",
        "print(string.swapcase())\n",
        "\n",
        "string = \"this should all be uppercase.\"\n",
        "print(string.swapcase())\n",
        "\n",
        "string = \"ThIs ShOuLd Be MiXeD cAsEd.\"\n",
        "print(string.swapcase())"
      ],
      "execution_count": null,
      "outputs": [
        {
          "output_type": "stream",
          "text": [
            "this should all be lowercase.\n",
            "THIS SHOULD ALL BE UPPERCASE.\n",
            "tHiS sHoUlD bE mIxEd CaSeD.\n"
          ],
          "name": "stdout"
        }
      ]
    },
    {
      "cell_type": "code",
      "metadata": {
        "id": "wFZ4Zl-VPMHS",
        "colab_type": "code",
        "colab": {
          "base_uri": "https://localhost:8080/",
          "height": 34
        },
        "outputId": "a1db1b6b-7790-4d77-cd7b-4fc8bc2b216f"
      },
      "source": [
        "# replace String\n",
        "\n",
        "song = 'cold, cold heart'\n",
        "\n",
        "# replacing 'cold' with 'hurt'\n",
        "print(song.replace('cold', 'hurt'))"
      ],
      "execution_count": null,
      "outputs": [
        {
          "output_type": "stream",
          "text": [
            "hurt, hurt heart\n"
          ],
          "name": "stdout"
        }
      ]
    },
    {
      "cell_type": "code",
      "metadata": {
        "id": "7VIFn409ACYE",
        "colab_type": "code",
        "colab": {
          "base_uri": "https://localhost:8080/",
          "height": 34
        },
        "outputId": "b586d537-448d-42a9-f156-5052ac5682f7"
      },
      "source": [
        "# find() String\n",
        "txt = \"Hello, welcome to my world.\"\n",
        "\n",
        "x = txt.find(\"welcome\")\n",
        "\n",
        "print(x)"
      ],
      "execution_count": null,
      "outputs": [
        {
          "output_type": "stream",
          "text": [
            "7\n"
          ],
          "name": "stdout"
        }
      ]
    },
    {
      "cell_type": "code",
      "metadata": {
        "id": "iAlX5tHnAebO",
        "colab_type": "code",
        "colab": {
          "base_uri": "https://localhost:8080/",
          "height": 34
        },
        "outputId": "8982a0aa-833a-40b4-fdad-0b7d1b0193a1"
      },
      "source": [
        "# istitle() String\n",
        "txt = \"Hello, And Welcome To My World!\"\n",
        "\n",
        "x = txt.istitle()\n",
        "\n",
        "print(x)"
      ],
      "execution_count": null,
      "outputs": [
        {
          "output_type": "stream",
          "text": [
            "True\n"
          ],
          "name": "stdout"
        }
      ]
    },
    {
      "cell_type": "code",
      "metadata": {
        "id": "inHD_7mHAuYZ",
        "colab_type": "code",
        "colab": {
          "base_uri": "https://localhost:8080/",
          "height": 34
        },
        "outputId": "d7dd675d-3cec-4111-d3a4-4088d9220ce8"
      },
      "source": [
        "# split() String\n",
        "txt = \"welcome to the jungle\"\n",
        "\n",
        "x = txt.split()\n",
        "\n",
        "print(x)"
      ],
      "execution_count": null,
      "outputs": [
        {
          "output_type": "stream",
          "text": [
            "['welcome', 'to', 'the', 'jungle']\n"
          ],
          "name": "stdout"
        }
      ]
    },
    {
      "cell_type": "code",
      "metadata": {
        "id": "05RqTbXPA3yT",
        "colab_type": "code",
        "colab": {
          "base_uri": "https://localhost:8080/",
          "height": 34
        },
        "outputId": "4508632f-fec7-49c0-874a-d6dc8cc7c486"
      },
      "source": [
        "# join() String\n",
        "myTuple = (\"John\", \"Peter\", \"Vicky\")\n",
        "\n",
        "x = \"#\".join(myTuple)\n",
        "\n",
        "print(x)"
      ],
      "execution_count": null,
      "outputs": [
        {
          "output_type": "stream",
          "text": [
            "John#Peter#Vicky\n"
          ],
          "name": "stdout"
        }
      ]
    },
    {
      "cell_type": "code",
      "metadata": {
        "id": "vJZf_7wtA-yP",
        "colab_type": "code",
        "colab": {
          "base_uri": "https://localhost:8080/",
          "height": 34
        },
        "outputId": "51e2b93a-a6d6-47ce-db71-c1f24539d849"
      },
      "source": [
        "# format() String\n",
        "txt = \"For only {price:.2f} dollars!\"\n",
        "print(txt.format(price = 49))"
      ],
      "execution_count": null,
      "outputs": [
        {
          "output_type": "stream",
          "text": [
            "For only 49.00 dollars!\n"
          ],
          "name": "stdout"
        }
      ]
    },
    {
      "cell_type": "markdown",
      "metadata": {
        "id": "EGyjFScMFR5r",
        "colab_type": "text"
      },
      "source": [
        "#Question 3:"
      ]
    },
    {
      "cell_type": "code",
      "metadata": {
        "id": "YSr9M2YiBKdY",
        "colab_type": "code",
        "colab": {
          "base_uri": "https://localhost:8080/",
          "height": 34
        },
        "outputId": "935cb780-3c37-41f4-87fa-31b21bea5762"
      },
      "source": [
        "# function which return reverse of a string \n",
        "  \n",
        "def isPalindrome(s): \n",
        "    return s == s[::-1] \n",
        "  \n",
        "  \n",
        "# Driver code \n",
        "s = \"malayalam\"\n",
        "ans = isPalindrome(s) \n",
        "  \n",
        "if ans: \n",
        "    print(\"Yes\") \n",
        "else: \n",
        "    print(\"No\") "
      ],
      "execution_count": null,
      "outputs": [
        {
          "output_type": "stream",
          "text": [
            "Yes\n"
          ],
          "name": "stdout"
        }
      ]
    },
    {
      "cell_type": "code",
      "metadata": {
        "id": "DWyYiDOcEbi8",
        "colab_type": "code",
        "colab": {
          "base_uri": "https://localhost:8080/",
          "height": 34
        },
        "outputId": "398355a8-65b4-4e92-a2f5-ed04c39c7570"
      },
      "source": [
        "# Python program to check whether two strings are  \n",
        "# anagrams of each other  \n",
        "  \n",
        "# function to check whether two strings are anagram  \n",
        "# of each other  \n",
        "def areAnagram(str1, str2):  \n",
        "    # Get lengths of both strings  \n",
        "    n1 = len(str1)  \n",
        "    n2 = len(str2)  \n",
        "  \n",
        "    # If lenght of both strings is not same, then  \n",
        "    # they cannot be anagram  \n",
        "    if n1 != n2:  \n",
        "        return 0\n",
        "  \n",
        "    # Sort both strings  \n",
        "    str1 = sorted(str1) \n",
        "    str2 = sorted(str2) \n",
        "  \n",
        "    # Compare sorted strings  \n",
        "    for i in range(0, n1):  \n",
        "        if str1[i] != str2[i]:  \n",
        "            return 0\n",
        "  \n",
        "    return 1\n",
        "  \n",
        "  \n",
        "# Driver program to test the above function  \n",
        "str1 = \"test\"\n",
        "str2 = \"ttew\"\n",
        "if areAnagram(str1, str2):  \n",
        "    print (\"The two strings are anagram of each other\") \n",
        "else:  \n",
        "    print (\"The two strings are not anagram of each other\")  \n"
      ],
      "execution_count": null,
      "outputs": [
        {
          "output_type": "stream",
          "text": [
            "The two strings are not anagram of each other\n"
          ],
          "name": "stdout"
        }
      ]
    },
    {
      "cell_type": "markdown",
      "metadata": {
        "id": "sqp-KWDAS6AX",
        "colab_type": "text"
      },
      "source": [
        "#Another way"
      ]
    },
    {
      "cell_type": "code",
      "metadata": {
        "id": "x2fB5t0BSPqG",
        "colab_type": "code",
        "colab": {
          "base_uri": "https://localhost:8080/",
          "height": 68
        },
        "outputId": "bc898dc4-6027-4ed4-cb16-8c762c094019"
      },
      "source": [
        "st = input(\"Enter the first string: \")\n",
        "st1 = input(\"Enter the second string: \")\n",
        "\n",
        "if st == st1[::-1]:\n",
        "    print(f\"{st} and {st1} are palindrome\")\n",
        "\n",
        "elif sorted(st) == sorted(st1):\n",
        "    print(f\"{st} and {st1} are Anagram\")\n",
        "    \n",
        "else:\n",
        "    print(f\"{st} and {st1} are neither palindrome nor anagram\")"
      ],
      "execution_count": null,
      "outputs": [
        {
          "output_type": "stream",
          "text": [
            "Enter the first string: Tar\n",
            "Enter the second string: Tar\n",
            "Tar and Tar are Anagram\n"
          ],
          "name": "stdout"
        }
      ]
    },
    {
      "cell_type": "markdown",
      "metadata": {
        "id": "rsdYRqLxGjYD",
        "colab_type": "text"
      },
      "source": [
        "#Question 4:"
      ]
    },
    {
      "cell_type": "code",
      "metadata": {
        "id": "gKN0I0ueGBxA",
        "colab_type": "code",
        "colab": {
          "base_uri": "https://localhost:8080/",
          "height": 51
        },
        "outputId": "616e5534-b8d0-4cb1-d948-7acf347c5437"
      },
      "source": [
        "def string_convert(st):\n",
        "    for i in st:\n",
        "        if not(ord(i)>=65 and ord(i)<=90 or ord(i)>=97 and ord(i)<=122 or ord(i)==64):\n",
        "            st = st.replace(i,\"\")\n",
        "        elif ord(i) == 64:\n",
        "            st = st.replace(i,\" \")\n",
        "    return st.lower()\n",
        "\n",
        "st = input(\"Enter the string: \")\n",
        "print(string_convert(st))"
      ],
      "execution_count": null,
      "outputs": [
        {
          "output_type": "stream",
          "text": [
            "Enter the string: Dr. Darshan Ingle @AI-ML Trainer\n",
            "drdarshaningleaimltrainer\n"
          ],
          "name": "stdout"
        }
      ]
    }
  ]
}