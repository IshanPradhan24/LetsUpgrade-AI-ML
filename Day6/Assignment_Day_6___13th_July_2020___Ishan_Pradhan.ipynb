{
  "nbformat": 4,
  "nbformat_minor": 0,
  "metadata": {
    "colab": {
      "name": "Assignment Day 6 | 13th July 2020 | Ishan Pradhan.ipynb",
      "provenance": [],
      "collapsed_sections": []
    },
    "kernelspec": {
      "name": "python3",
      "display_name": "Python 3"
    }
  },
  "cells": [
    {
      "cell_type": "code",
      "metadata": {
        "id": "QZwIzaVW-b00",
        "colab_type": "code",
        "colab": {
          "base_uri": "https://localhost:8080/",
          "height": 51
        },
        "outputId": "197a7929-02e0-4a62-f1c3-215e124e8dd2"
      },
      "source": [
        "#Question 1\n",
        "ip=input()\n",
        "x=ip.index(\"@\")\n",
        "print(ip[x+1:len(ip)-4],end='')"
      ],
      "execution_count": null,
      "outputs": [
        {
          "output_type": "stream",
          "text": [
            "username@companyname.com\n",
            "companyname"
          ],
          "name": "stdout"
        }
      ]
    },
    {
      "cell_type": "code",
      "metadata": {
        "id": "6Pd0Kdl1LB9q",
        "colab_type": "code",
        "colab": {
          "base_uri": "https://localhost:8080/",
          "height": 51
        },
        "outputId": "dce12bc0-9fb7-4536-bcce-9f5b5005052f"
      },
      "source": [
        "#Question 2\n",
        "l=input(\"Enter comma seperated sequences of words \")\n",
        "l=l.split(\",\")\n",
        "l=sorted(l)\n",
        "print(\",\".join(l))"
      ],
      "execution_count": null,
      "outputs": [
        {
          "output_type": "stream",
          "text": [
            "Enter comma seperated sequences of words bad,fan,dog\n",
            "bad,dog,fan\n"
          ],
          "name": "stdout"
        }
      ]
    },
    {
      "cell_type": "code",
      "metadata": {
        "id": "Nbk_yfJ8LyCv",
        "colab_type": "code",
        "colab": {
          "base_uri": "https://localhost:8080/",
          "height": 34
        },
        "outputId": "32a7c726-5af9-4398-e119-cb7f4529a3e5"
      },
      "source": [
        " #Question 3\n",
        " #  Set : A set is a collection which is unordered and unindexed. In Python sets are written with curly brackets.\n",
        " s = {\"apple\", \"banana\", \"cherry\"}\n",
        "print(s)"
      ],
      "execution_count": null,
      "outputs": [
        {
          "output_type": "stream",
          "text": [
            "{'cherry', 'banana', 'apple'}\n"
          ],
          "name": "stdout"
        }
      ]
    },
    {
      "cell_type": "code",
      "metadata": {
        "id": "9W9yRY1YVB7n",
        "colab_type": "code",
        "colab": {
          "base_uri": "https://localhost:8080/",
          "height": 136
        },
        "outputId": "5a7b549c-b4ec-40c4-841b-f367f729c21c"
      },
      "source": [
        "s = {\"apple\", \"banana\", \"cherry\"}\n",
        "print(\"banana\" in s)\n",
        "s.add(\"Papaya\")\n",
        "print(s)\n",
        "s.update([\"Pineapple\",\"orange\",\"Kiwi\"])\n",
        "print(s)\n",
        "print(len(s))\n",
        "s.remove(\"Pineapple\")\n",
        "print(s)\n",
        "s.pop()\n",
        "print(s)\n",
        "s.clear()\n",
        "print(s)"
      ],
      "execution_count": null,
      "outputs": [
        {
          "output_type": "stream",
          "text": [
            "True\n",
            "{'cherry', 'banana', 'Papaya', 'apple'}\n",
            "{'banana', 'Papaya', 'cherry', 'Pineapple', 'apple', 'Kiwi', 'orange'}\n",
            "7\n",
            "{'banana', 'Papaya', 'cherry', 'apple', 'Kiwi', 'orange'}\n",
            "{'Papaya', 'cherry', 'apple', 'Kiwi', 'orange'}\n",
            "set()\n"
          ],
          "name": "stdout"
        }
      ]
    },
    {
      "cell_type": "code",
      "metadata": {
        "id": "4J0FUySvVEu8",
        "colab_type": "code",
        "colab": {
          "base_uri": "https://localhost:8080/",
          "height": 51
        },
        "outputId": "7fc81d02-5eb1-41dc-98b4-c63e38a6b3df"
      },
      "source": [
        "s1={1,3,5,7,9}\n",
        "s2={2,4,6,8,10}\n",
        "s3=s2.union(s1)\n",
        "print(s3)\n",
        "s1.update(s2)\n",
        "print(s1)"
      ],
      "execution_count": null,
      "outputs": [
        {
          "output_type": "stream",
          "text": [
            "{1, 2, 3, 4, 5, 6, 7, 8, 9, 10}\n",
            "{1, 2, 3, 4, 5, 6, 7, 8, 9, 10}\n"
          ],
          "name": "stdout"
        }
      ]
    },
    {
      "cell_type": "code",
      "metadata": {
        "id": "jqgvM1haVHuz",
        "colab_type": "code",
        "colab": {
          "base_uri": "https://localhost:8080/",
          "height": 51
        },
        "outputId": "8cb03562-234b-46f4-c5bb-85d5f45b5825"
      },
      "source": [
        "s1={1,2,3,4,5,6,7,8,9,10}\n",
        "s2={2,4,6,8,10}\n",
        "s4=s2.intersection(s1)\n",
        "print(s4)\n",
        "s2.issubset(s1)"
      ],
      "execution_count": null,
      "outputs": [
        {
          "output_type": "stream",
          "text": [
            "{2, 4, 6, 8, 10}\n"
          ],
          "name": "stdout"
        },
        {
          "output_type": "execute_result",
          "data": {
            "text/plain": [
              "True"
            ]
          },
          "metadata": {
            "tags": []
          },
          "execution_count": 4
        }
      ]
    },
    {
      "cell_type": "code",
      "metadata": {
        "id": "cd4lMW_mVJ1a",
        "colab_type": "code",
        "colab": {
          "base_uri": "https://localhost:8080/",
          "height": 51
        },
        "outputId": "d763b154-ddea-4dce-a5f1-03e4236eb379"
      },
      "source": [
        "#Question 4\n",
        "def getmissingno(a): \n",
        "    n = len(a) \n",
        "    total = (n + 1)*(n + 2)//2\n",
        "    s = sum(a)\n",
        "    return total - s \n",
        "a=list(map(int,input().split()))\n",
        "m = getmissingno(a)\n",
        "print(m)"
      ],
      "execution_count": null,
      "outputs": [
        {
          "output_type": "stream",
          "text": [
            "1 2 4 6 3 7 8\n",
            "5\n"
          ],
          "name": "stdout"
        }
      ]
    },
    {
      "cell_type": "code",
      "metadata": {
        "id": "D-l_YYDPVMWZ",
        "colab_type": "code",
        "colab": {
          "base_uri": "https://localhost:8080/",
          "height": 51
        },
        "outputId": "f3602aa7-d0af-43cc-b4cf-60b0fca930db"
      },
      "source": [
        "#Question 5\n",
        "fl = []\n",
        "dup = list(map(int,input().split()))\n",
        "for n in dup: \n",
        "    if n not in fl: \n",
        "        fl.append(n) \n",
        "print(fl)"
      ],
      "execution_count": null,
      "outputs": [
        {
          "output_type": "stream",
          "text": [
            "12 24 35 24 88 120 155 88 120 155\n",
            "[12, 24, 35, 88, 120, 155]\n"
          ],
          "name": "stdout"
        }
      ]
    }
  ]
}