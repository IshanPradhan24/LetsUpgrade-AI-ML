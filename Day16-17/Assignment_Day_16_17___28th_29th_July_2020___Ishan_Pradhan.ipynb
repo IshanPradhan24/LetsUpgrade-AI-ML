{
  "nbformat": 4,
  "nbformat_minor": 0,
  "metadata": {
    "colab": {
      "name": "Assignment Day 16-17 | 28th-29th July 2020 | Ishan Pradhan.ipynb",
      "provenance": [],
      "collapsed_sections": [],
      "toc_visible": true
    },
    "kernelspec": {
      "name": "python3",
      "display_name": "Python 3"
    }
  },
  "cells": [
    {
      "cell_type": "code",
      "metadata": {
        "id": "In7juackfyGi",
        "colab_type": "code",
        "colab": {}
      },
      "source": [
        "%matplotlib inline\n",
        "import pandas as pd\n",
        "import numpy as np"
      ],
      "execution_count": 30,
      "outputs": []
    },
    {
      "cell_type": "code",
      "metadata": {
        "id": "t9WM-2V0gQ4Y",
        "colab_type": "code",
        "colab": {}
      },
      "source": [
        "title = pd.read_csv('titles.csv')\n",
        "cast = pd.read_csv('cast.csv')\n",
        "rel_dates = pd.read_csv('release_dates.csv')"
      ],
      "execution_count": 31,
      "outputs": []
    },
    {
      "cell_type": "code",
      "metadata": {
        "id": "_95AS8y6gVhl",
        "colab_type": "code",
        "colab": {
          "base_uri": "https://localhost:8080/",
          "height": 111
        },
        "outputId": "e9237b46-46d8-480e-c73f-679f78e33e8e"
      },
      "source": [
        "title.head(2)"
      ],
      "execution_count": 32,
      "outputs": [
        {
          "output_type": "execute_result",
          "data": {
            "text/html": [
              "<div>\n",
              "<style scoped>\n",
              "    .dataframe tbody tr th:only-of-type {\n",
              "        vertical-align: middle;\n",
              "    }\n",
              "\n",
              "    .dataframe tbody tr th {\n",
              "        vertical-align: top;\n",
              "    }\n",
              "\n",
              "    .dataframe thead th {\n",
              "        text-align: right;\n",
              "    }\n",
              "</style>\n",
              "<table border=\"1\" class=\"dataframe\">\n",
              "  <thead>\n",
              "    <tr style=\"text-align: right;\">\n",
              "      <th></th>\n",
              "      <th>title</th>\n",
              "      <th>year</th>\n",
              "    </tr>\n",
              "  </thead>\n",
              "  <tbody>\n",
              "    <tr>\n",
              "      <th>0</th>\n",
              "      <td>Tasveer Mere Sanam</td>\n",
              "      <td>1996</td>\n",
              "    </tr>\n",
              "    <tr>\n",
              "      <th>1</th>\n",
              "      <td>Only You</td>\n",
              "      <td>1994</td>\n",
              "    </tr>\n",
              "  </tbody>\n",
              "</table>\n",
              "</div>"
            ],
            "text/plain": [
              "                title  year\n",
              "0  Tasveer Mere Sanam  1996\n",
              "1            Only You  1994"
            ]
          },
          "metadata": {
            "tags": []
          },
          "execution_count": 32
        }
      ]
    },
    {
      "cell_type": "code",
      "metadata": {
        "id": "HLNSxJShgXil",
        "colab_type": "code",
        "colab": {
          "base_uri": "https://localhost:8080/",
          "height": 142
        },
        "outputId": "624810d8-f0ec-48e6-eaf9-c2f1da041895"
      },
      "source": [
        "cast.head(3)"
      ],
      "execution_count": 33,
      "outputs": [
        {
          "output_type": "execute_result",
          "data": {
            "text/html": [
              "<div>\n",
              "<style scoped>\n",
              "    .dataframe tbody tr th:only-of-type {\n",
              "        vertical-align: middle;\n",
              "    }\n",
              "\n",
              "    .dataframe tbody tr th {\n",
              "        vertical-align: top;\n",
              "    }\n",
              "\n",
              "    .dataframe thead th {\n",
              "        text-align: right;\n",
              "    }\n",
              "</style>\n",
              "<table border=\"1\" class=\"dataframe\">\n",
              "  <thead>\n",
              "    <tr style=\"text-align: right;\">\n",
              "      <th></th>\n",
              "      <th>title</th>\n",
              "      <th>year</th>\n",
              "      <th>name</th>\n",
              "      <th>type</th>\n",
              "      <th>character</th>\n",
              "      <th>n</th>\n",
              "    </tr>\n",
              "  </thead>\n",
              "  <tbody>\n",
              "    <tr>\n",
              "      <th>0</th>\n",
              "      <td>Closet Monster</td>\n",
              "      <td>2015</td>\n",
              "      <td>Buffy #1</td>\n",
              "      <td>actor</td>\n",
              "      <td>Buffy 4</td>\n",
              "      <td>31.0</td>\n",
              "    </tr>\n",
              "    <tr>\n",
              "      <th>1</th>\n",
              "      <td>Suuri illusioni</td>\n",
              "      <td>1985</td>\n",
              "      <td>Homo $</td>\n",
              "      <td>actor</td>\n",
              "      <td>Guests</td>\n",
              "      <td>22.0</td>\n",
              "    </tr>\n",
              "    <tr>\n",
              "      <th>2</th>\n",
              "      <td>Battle of the Sexes</td>\n",
              "      <td>2017</td>\n",
              "      <td>$hutter</td>\n",
              "      <td>actor</td>\n",
              "      <td>Bobby Riggs Fan</td>\n",
              "      <td>10.0</td>\n",
              "    </tr>\n",
              "  </tbody>\n",
              "</table>\n",
              "</div>"
            ],
            "text/plain": [
              "                 title  year      name   type        character     n\n",
              "0       Closet Monster  2015  Buffy #1  actor          Buffy 4  31.0\n",
              "1      Suuri illusioni  1985    Homo $  actor           Guests  22.0\n",
              "2  Battle of the Sexes  2017   $hutter  actor  Bobby Riggs Fan  10.0"
            ]
          },
          "metadata": {
            "tags": []
          },
          "execution_count": 33
        }
      ]
    },
    {
      "cell_type": "code",
      "metadata": {
        "id": "SxjVdyWAgZsd",
        "colab_type": "code",
        "colab": {
          "base_uri": "https://localhost:8080/",
          "height": 142
        },
        "outputId": "911e971e-ccca-40e7-bc99-bf7b73ffe89a"
      },
      "source": [
        "rel_dates.head(3)"
      ],
      "execution_count": 34,
      "outputs": [
        {
          "output_type": "execute_result",
          "data": {
            "text/html": [
              "<div>\n",
              "<style scoped>\n",
              "    .dataframe tbody tr th:only-of-type {\n",
              "        vertical-align: middle;\n",
              "    }\n",
              "\n",
              "    .dataframe tbody tr th {\n",
              "        vertical-align: top;\n",
              "    }\n",
              "\n",
              "    .dataframe thead th {\n",
              "        text-align: right;\n",
              "    }\n",
              "</style>\n",
              "<table border=\"1\" class=\"dataframe\">\n",
              "  <thead>\n",
              "    <tr style=\"text-align: right;\">\n",
              "      <th></th>\n",
              "      <th>title</th>\n",
              "      <th>year</th>\n",
              "      <th>country</th>\n",
              "      <th>date</th>\n",
              "    </tr>\n",
              "  </thead>\n",
              "  <tbody>\n",
              "    <tr>\n",
              "      <th>0</th>\n",
              "      <td>#73, Shaanthi Nivaasa</td>\n",
              "      <td>2007</td>\n",
              "      <td>India</td>\n",
              "      <td>2007-06-15</td>\n",
              "    </tr>\n",
              "    <tr>\n",
              "      <th>1</th>\n",
              "      <td>#BKKY</td>\n",
              "      <td>2016</td>\n",
              "      <td>Cambodia</td>\n",
              "      <td>2017-10-12</td>\n",
              "    </tr>\n",
              "    <tr>\n",
              "      <th>2</th>\n",
              "      <td>#Beings</td>\n",
              "      <td>2015</td>\n",
              "      <td>Romania</td>\n",
              "      <td>2015-01-29</td>\n",
              "    </tr>\n",
              "  </tbody>\n",
              "</table>\n",
              "</div>"
            ],
            "text/plain": [
              "                   title  year   country        date\n",
              "0  #73, Shaanthi Nivaasa  2007     India  2007-06-15\n",
              "1                  #BKKY  2016  Cambodia  2017-10-12\n",
              "2                #Beings  2015   Romania  2015-01-29"
            ]
          },
          "metadata": {
            "tags": []
          },
          "execution_count": 34
        }
      ]
    },
    {
      "cell_type": "markdown",
      "metadata": {
        "id": "ktjj7vW8gfNF",
        "colab_type": "text"
      },
      "source": [
        "#How many movies are listed in the titles dataframe?"
      ]
    },
    {
      "cell_type": "code",
      "metadata": {
        "id": "-QKRkCnlgcAt",
        "colab_type": "code",
        "colab": {
          "base_uri": "https://localhost:8080/",
          "height": 51
        },
        "outputId": "394d0c28-a64d-41f7-a339-b210949caa9c"
      },
      "source": [
        "title[['title']].count()"
      ],
      "execution_count": 35,
      "outputs": [
        {
          "output_type": "execute_result",
          "data": {
            "text/plain": [
              "title    244914\n",
              "dtype: int64"
            ]
          },
          "metadata": {
            "tags": []
          },
          "execution_count": 35
        }
      ]
    },
    {
      "cell_type": "markdown",
      "metadata": {
        "id": "liPKFgKBgnU9",
        "colab_type": "text"
      },
      "source": [
        "#What are the earliest two films listed in the titles dataframe?"
      ]
    },
    {
      "cell_type": "code",
      "metadata": {
        "id": "Fn2JAejWgpFL",
        "colab_type": "code",
        "colab": {}
      },
      "source": [
        "earliest = title.sort_values('year')"
      ],
      "execution_count": 36,
      "outputs": []
    },
    {
      "cell_type": "code",
      "metadata": {
        "id": "9zeCYcKcgsGF",
        "colab_type": "code",
        "colab": {
          "base_uri": "https://localhost:8080/",
          "height": 34
        },
        "outputId": "22fb5c49-4d05-4678-bcd1-03e8a4df55ee"
      },
      "source": [
        "[i for i in earliest['title'].head(2) ]"
      ],
      "execution_count": 37,
      "outputs": [
        {
          "output_type": "execute_result",
          "data": {
            "text/plain": [
              "['Miss Jerry', 'The Startled Lover']"
            ]
          },
          "metadata": {
            "tags": []
          },
          "execution_count": 37
        }
      ]
    },
    {
      "cell_type": "markdown",
      "metadata": {
        "id": "z5FDg2zzgx41",
        "colab_type": "text"
      },
      "source": [
        "#How many movies have the title \"Hamlet\"?"
      ]
    },
    {
      "cell_type": "code",
      "metadata": {
        "id": "eu46A6h8gwF1",
        "colab_type": "code",
        "colab": {
          "base_uri": "https://localhost:8080/",
          "height": 34
        },
        "outputId": "2cfc3638-195c-4299-f347-cb6dc9631c6f"
      },
      "source": [
        "len(title[title['title']=='Hamlet'])"
      ],
      "execution_count": 38,
      "outputs": [
        {
          "output_type": "execute_result",
          "data": {
            "text/plain": [
              "20"
            ]
          },
          "metadata": {
            "tags": []
          },
          "execution_count": 38
        }
      ]
    },
    {
      "cell_type": "markdown",
      "metadata": {
        "id": "Zl4Z6FjOg10F",
        "colab_type": "text"
      },
      "source": [
        "#How many movies are titled \"North by Northwest\"?"
      ]
    },
    {
      "cell_type": "code",
      "metadata": {
        "id": "LnoILVaJg4fN",
        "colab_type": "code",
        "colab": {
          "base_uri": "https://localhost:8080/",
          "height": 34
        },
        "outputId": "71ca470f-fc17-4bbc-e170-9e06cd6c4cad"
      },
      "source": [
        "len(title[title['title']=='North by Northwest'])"
      ],
      "execution_count": 39,
      "outputs": [
        {
          "output_type": "execute_result",
          "data": {
            "text/plain": [
              "1"
            ]
          },
          "metadata": {
            "tags": []
          },
          "execution_count": 39
        }
      ]
    },
    {
      "cell_type": "markdown",
      "metadata": {
        "id": "vurAes9Fg8L1",
        "colab_type": "text"
      },
      "source": [
        "#When was the first movie titled \"Hamlet\" made?"
      ]
    },
    {
      "cell_type": "code",
      "metadata": {
        "id": "kuP_S3GZg9Pu",
        "colab_type": "code",
        "colab": {
          "base_uri": "https://localhost:8080/",
          "height": 34
        },
        "outputId": "4df5f412-6655-4f8a-ba99-eaa11d390b18"
      },
      "source": [
        "title[title['title']=='Hamlet'].sort_values('year').iloc[0,1]"
      ],
      "execution_count": 40,
      "outputs": [
        {
          "output_type": "execute_result",
          "data": {
            "text/plain": [
              "1910"
            ]
          },
          "metadata": {
            "tags": []
          },
          "execution_count": 40
        }
      ]
    },
    {
      "cell_type": "markdown",
      "metadata": {
        "id": "0SKZ9vCFg_kF",
        "colab_type": "text"
      },
      "source": [
        "#List all of the \"Treasure Island\" movies from earliest to most recent."
      ]
    },
    {
      "cell_type": "code",
      "metadata": {
        "id": "B4cpxCDWhC4N",
        "colab_type": "code",
        "colab": {
          "base_uri": "https://localhost:8080/",
          "height": 297
        },
        "outputId": "4978c2ac-fcb1-4aa1-8a5e-5c8e2ff4d806"
      },
      "source": [
        "title[title.title == 'Treasure Island'].sort_values('year')"
      ],
      "execution_count": 41,
      "outputs": [
        {
          "output_type": "execute_result",
          "data": {
            "text/html": [
              "<div>\n",
              "<style scoped>\n",
              "    .dataframe tbody tr th:only-of-type {\n",
              "        vertical-align: middle;\n",
              "    }\n",
              "\n",
              "    .dataframe tbody tr th {\n",
              "        vertical-align: top;\n",
              "    }\n",
              "\n",
              "    .dataframe thead th {\n",
              "        text-align: right;\n",
              "    }\n",
              "</style>\n",
              "<table border=\"1\" class=\"dataframe\">\n",
              "  <thead>\n",
              "    <tr style=\"text-align: right;\">\n",
              "      <th></th>\n",
              "      <th>title</th>\n",
              "      <th>year</th>\n",
              "    </tr>\n",
              "  </thead>\n",
              "  <tbody>\n",
              "    <tr>\n",
              "      <th>55686</th>\n",
              "      <td>Treasure Island</td>\n",
              "      <td>1918</td>\n",
              "    </tr>\n",
              "    <tr>\n",
              "      <th>196514</th>\n",
              "      <td>Treasure Island</td>\n",
              "      <td>1920</td>\n",
              "    </tr>\n",
              "    <tr>\n",
              "      <th>141822</th>\n",
              "      <td>Treasure Island</td>\n",
              "      <td>1934</td>\n",
              "    </tr>\n",
              "    <tr>\n",
              "      <th>77354</th>\n",
              "      <td>Treasure Island</td>\n",
              "      <td>1950</td>\n",
              "    </tr>\n",
              "    <tr>\n",
              "      <th>65051</th>\n",
              "      <td>Treasure Island</td>\n",
              "      <td>1972</td>\n",
              "    </tr>\n",
              "    <tr>\n",
              "      <th>37238</th>\n",
              "      <td>Treasure Island</td>\n",
              "      <td>1973</td>\n",
              "    </tr>\n",
              "    <tr>\n",
              "      <th>173051</th>\n",
              "      <td>Treasure Island</td>\n",
              "      <td>1985</td>\n",
              "    </tr>\n",
              "    <tr>\n",
              "      <th>27076</th>\n",
              "      <td>Treasure Island</td>\n",
              "      <td>1999</td>\n",
              "    </tr>\n",
              "  </tbody>\n",
              "</table>\n",
              "</div>"
            ],
            "text/plain": [
              "                  title  year\n",
              "55686   Treasure Island  1918\n",
              "196514  Treasure Island  1920\n",
              "141822  Treasure Island  1934\n",
              "77354   Treasure Island  1950\n",
              "65051   Treasure Island  1972\n",
              "37238   Treasure Island  1973\n",
              "173051  Treasure Island  1985\n",
              "27076   Treasure Island  1999"
            ]
          },
          "metadata": {
            "tags": []
          },
          "execution_count": 41
        }
      ]
    },
    {
      "cell_type": "markdown",
      "metadata": {
        "id": "vDw8deCOhFkW",
        "colab_type": "text"
      },
      "source": [
        "#How many movies were made in the year 1950?"
      ]
    },
    {
      "cell_type": "code",
      "metadata": {
        "id": "zqfPpCsehJXn",
        "colab_type": "code",
        "colab": {
          "base_uri": "https://localhost:8080/",
          "height": 34
        },
        "outputId": "68733a27-f756-49d0-d76f-8689a5d6ce86"
      },
      "source": [
        "title[title['year'] == 1950].shape[0]"
      ],
      "execution_count": 42,
      "outputs": [
        {
          "output_type": "execute_result",
          "data": {
            "text/plain": [
              "1113"
            ]
          },
          "metadata": {
            "tags": []
          },
          "execution_count": 42
        }
      ]
    },
    {
      "cell_type": "markdown",
      "metadata": {
        "id": "eMro-nnlhTMw",
        "colab_type": "text"
      },
      "source": [
        "#How many movies were made in the year 1960?"
      ]
    },
    {
      "cell_type": "code",
      "metadata": {
        "id": "Y7cw2R0XhNM9",
        "colab_type": "code",
        "colab": {
          "base_uri": "https://localhost:8080/",
          "height": 34
        },
        "outputId": "4507d7a0-4ec0-414a-82f0-2622c0073560"
      },
      "source": [
        "len(title[title['year'] == 1960])"
      ],
      "execution_count": 44,
      "outputs": [
        {
          "output_type": "execute_result",
          "data": {
            "text/plain": [
              "1549"
            ]
          },
          "metadata": {
            "tags": []
          },
          "execution_count": 44
        }
      ]
    },
    {
      "cell_type": "markdown",
      "metadata": {
        "id": "qFJAZicshZk2",
        "colab_type": "text"
      },
      "source": [
        "#How many movies were made from 1950 through 1959?"
      ]
    },
    {
      "cell_type": "code",
      "metadata": {
        "id": "EQWNzmWhhaqO",
        "colab_type": "code",
        "colab": {
          "base_uri": "https://localhost:8080/",
          "height": 34
        },
        "outputId": "b98a2620-76b2-4931-98f1-13d11b0f9e9b"
      },
      "source": [
        "len(title[(title['year']>=1950) & (title['year']<=1959)])"
      ],
      "execution_count": 45,
      "outputs": [
        {
          "output_type": "execute_result",
          "data": {
            "text/plain": [
              "12934"
            ]
          },
          "metadata": {
            "tags": []
          },
          "execution_count": 45
        }
      ]
    },
    {
      "cell_type": "markdown",
      "metadata": {
        "id": "tx776TrVheZt",
        "colab_type": "text"
      },
      "source": [
        "#In what years has a movie titled \"Batman\" been released?"
      ]
    },
    {
      "cell_type": "code",
      "metadata": {
        "id": "LKKyEZ8PhhBD",
        "colab_type": "code",
        "colab": {
          "base_uri": "https://localhost:8080/",
          "height": 111
        },
        "outputId": "50e3154b-cedc-41fa-b0c9-71b3c5717f49"
      },
      "source": [
        "years = title[title.title == \"Batman\"]\n",
        "years"
      ],
      "execution_count": 46,
      "outputs": [
        {
          "output_type": "execute_result",
          "data": {
            "text/html": [
              "<div>\n",
              "<style scoped>\n",
              "    .dataframe tbody tr th:only-of-type {\n",
              "        vertical-align: middle;\n",
              "    }\n",
              "\n",
              "    .dataframe tbody tr th {\n",
              "        vertical-align: top;\n",
              "    }\n",
              "\n",
              "    .dataframe thead th {\n",
              "        text-align: right;\n",
              "    }\n",
              "</style>\n",
              "<table border=\"1\" class=\"dataframe\">\n",
              "  <thead>\n",
              "    <tr style=\"text-align: right;\">\n",
              "      <th></th>\n",
              "      <th>title</th>\n",
              "      <th>year</th>\n",
              "    </tr>\n",
              "  </thead>\n",
              "  <tbody>\n",
              "    <tr>\n",
              "      <th>39349</th>\n",
              "      <td>Batman</td>\n",
              "      <td>1943</td>\n",
              "    </tr>\n",
              "    <tr>\n",
              "      <th>240896</th>\n",
              "      <td>Batman</td>\n",
              "      <td>1989</td>\n",
              "    </tr>\n",
              "  </tbody>\n",
              "</table>\n",
              "</div>"
            ],
            "text/plain": [
              "         title  year\n",
              "39349   Batman  1943\n",
              "240896  Batman  1989"
            ]
          },
          "metadata": {
            "tags": []
          },
          "execution_count": 46
        }
      ]
    },
    {
      "cell_type": "markdown",
      "metadata": {
        "id": "IyT_WHVxhkGl",
        "colab_type": "text"
      },
      "source": [
        "#How many roles were there in the movie \"Inception\"?"
      ]
    },
    {
      "cell_type": "code",
      "metadata": {
        "id": "lKiEJImEhmcd",
        "colab_type": "code",
        "colab": {
          "base_uri": "https://localhost:8080/",
          "height": 34
        },
        "outputId": "af4dd007-7c8d-458d-8184-1db25897efe5"
      },
      "source": [
        "len(cast[cast.title == 'Inception'])"
      ],
      "execution_count": 47,
      "outputs": [
        {
          "output_type": "execute_result",
          "data": {
            "text/plain": [
              "78"
            ]
          },
          "metadata": {
            "tags": []
          },
          "execution_count": 47
        }
      ]
    },
    {
      "cell_type": "markdown",
      "metadata": {
        "id": "usatJlXAhpA1",
        "colab_type": "text"
      },
      "source": [
        "#How many roles in the movie \"Inception\" are NOT ranked by an \"n\" value?"
      ]
    },
    {
      "cell_type": "code",
      "metadata": {
        "id": "PvGx5Ui2hrXL",
        "colab_type": "code",
        "colab": {
          "base_uri": "https://localhost:8080/",
          "height": 34
        },
        "outputId": "a3f1edc7-b227-4e2d-d4e0-05838fbdbaba"
      },
      "source": [
        "x = cast[cast.title == 'Inception']\n",
        "y = x[x.n.isnull()]\n",
        "len(y)"
      ],
      "execution_count": 48,
      "outputs": [
        {
          "output_type": "execute_result",
          "data": {
            "text/plain": [
              "27"
            ]
          },
          "metadata": {
            "tags": []
          },
          "execution_count": 48
        }
      ]
    },
    {
      "cell_type": "markdown",
      "metadata": {
        "id": "Q1lv0XrHht58",
        "colab_type": "text"
      },
      "source": [
        "#But how many roles in the movie \"Inception\" did receive an \"n\" value?"
      ]
    },
    {
      "cell_type": "code",
      "metadata": {
        "id": "L_PX5q87hwkP",
        "colab_type": "code",
        "colab": {
          "base_uri": "https://localhost:8080/",
          "height": 34
        },
        "outputId": "02e19caf-8556-49e4-a12c-9a08b0d25616"
      },
      "source": [
        "z = cast[cast.title == 'Inception']\n",
        "c = z[z.n.notnull()]\n",
        "len(c)"
      ],
      "execution_count": 49,
      "outputs": [
        {
          "output_type": "execute_result",
          "data": {
            "text/plain": [
              "51"
            ]
          },
          "metadata": {
            "tags": []
          },
          "execution_count": 49
        }
      ]
    },
    {
      "cell_type": "markdown",
      "metadata": {
        "id": "z9KrlpUGhzcM",
        "colab_type": "text"
      },
      "source": [
        "#Display the cast of \"North by Northwest\" in their correct \"n\"-value order, ignoring roles that did not earn a numeric \"n\" value."
      ]
    },
    {
      "cell_type": "code",
      "metadata": {
        "id": "DbXH6WNPh1vJ",
        "colab_type": "code",
        "colab": {
          "base_uri": "https://localhost:8080/",
          "height": 545
        },
        "outputId": "7eb848ce-0699-47b2-eb9f-d8ca509954a7"
      },
      "source": [
        "z = cast[cast.title=='North by Northwest']\n",
        "x = z[z.n.notnull()]\n",
        "x"
      ],
      "execution_count": 53,
      "outputs": [
        {
          "output_type": "execute_result",
          "data": {
            "text/html": [
              "<div>\n",
              "<style scoped>\n",
              "    .dataframe tbody tr th:only-of-type {\n",
              "        vertical-align: middle;\n",
              "    }\n",
              "\n",
              "    .dataframe tbody tr th {\n",
              "        vertical-align: top;\n",
              "    }\n",
              "\n",
              "    .dataframe thead th {\n",
              "        text-align: right;\n",
              "    }\n",
              "</style>\n",
              "<table border=\"1\" class=\"dataframe\">\n",
              "  <thead>\n",
              "    <tr style=\"text-align: right;\">\n",
              "      <th></th>\n",
              "      <th>title</th>\n",
              "      <th>year</th>\n",
              "      <th>name</th>\n",
              "      <th>type</th>\n",
              "      <th>character</th>\n",
              "      <th>n</th>\n",
              "    </tr>\n",
              "  </thead>\n",
              "  <tbody>\n",
              "    <tr>\n",
              "      <th>206471</th>\n",
              "      <td>North by Northwest</td>\n",
              "      <td>1959</td>\n",
              "      <td>Edward Binns</td>\n",
              "      <td>actor</td>\n",
              "      <td>Captain Junket</td>\n",
              "      <td>15.0</td>\n",
              "    </tr>\n",
              "    <tr>\n",
              "      <th>356707</th>\n",
              "      <td>North by Northwest</td>\n",
              "      <td>1959</td>\n",
              "      <td>Leo G. Carroll</td>\n",
              "      <td>actor</td>\n",
              "      <td>The Professor</td>\n",
              "      <td>5.0</td>\n",
              "    </tr>\n",
              "    <tr>\n",
              "      <th>464736</th>\n",
              "      <td>North by Northwest</td>\n",
              "      <td>1959</td>\n",
              "      <td>Philip Coolidge</td>\n",
              "      <td>actor</td>\n",
              "      <td>Dr. Cross</td>\n",
              "      <td>13.0</td>\n",
              "    </tr>\n",
              "    <tr>\n",
              "      <th>665768</th>\n",
              "      <td>North by Northwest</td>\n",
              "      <td>1959</td>\n",
              "      <td>Robert Ellenstein</td>\n",
              "      <td>actor</td>\n",
              "      <td>Licht</td>\n",
              "      <td>11.0</td>\n",
              "    </tr>\n",
              "    <tr>\n",
              "      <th>871426</th>\n",
              "      <td>North by Northwest</td>\n",
              "      <td>1959</td>\n",
              "      <td>Cary Grant</td>\n",
              "      <td>actor</td>\n",
              "      <td>Roger O. Thornhill</td>\n",
              "      <td>1.0</td>\n",
              "    </tr>\n",
              "    <tr>\n",
              "      <th>1275337</th>\n",
              "      <td>North by Northwest</td>\n",
              "      <td>1959</td>\n",
              "      <td>Martin Landau</td>\n",
              "      <td>actor</td>\n",
              "      <td>Leonard</td>\n",
              "      <td>8.0</td>\n",
              "    </tr>\n",
              "    <tr>\n",
              "      <th>1384780</th>\n",
              "      <td>North by Northwest</td>\n",
              "      <td>1959</td>\n",
              "      <td>Ken Lynch</td>\n",
              "      <td>actor</td>\n",
              "      <td>Charley - Chicago Policeman</td>\n",
              "      <td>16.0</td>\n",
              "    </tr>\n",
              "    <tr>\n",
              "      <th>1457165</th>\n",
              "      <td>North by Northwest</td>\n",
              "      <td>1959</td>\n",
              "      <td>James Mason</td>\n",
              "      <td>actor</td>\n",
              "      <td>Phillip Vandamm</td>\n",
              "      <td>3.0</td>\n",
              "    </tr>\n",
              "    <tr>\n",
              "      <th>1508344</th>\n",
              "      <td>North by Northwest</td>\n",
              "      <td>1959</td>\n",
              "      <td>Patrick McVey</td>\n",
              "      <td>actor</td>\n",
              "      <td>Sergeant Flamm</td>\n",
              "      <td>14.0</td>\n",
              "    </tr>\n",
              "    <tr>\n",
              "      <th>1695173</th>\n",
              "      <td>North by Northwest</td>\n",
              "      <td>1959</td>\n",
              "      <td>Philip Ober</td>\n",
              "      <td>actor</td>\n",
              "      <td>Lester Townsend</td>\n",
              "      <td>7.0</td>\n",
              "    </tr>\n",
              "    <tr>\n",
              "      <th>1811387</th>\n",
              "      <td>North by Northwest</td>\n",
              "      <td>1959</td>\n",
              "      <td>Edward Platt</td>\n",
              "      <td>actor</td>\n",
              "      <td>Victor Larrabee</td>\n",
              "      <td>10.0</td>\n",
              "    </tr>\n",
              "    <tr>\n",
              "      <th>2295714</th>\n",
              "      <td>North by Northwest</td>\n",
              "      <td>1959</td>\n",
              "      <td>Les Tremayne</td>\n",
              "      <td>actor</td>\n",
              "      <td>Auctioneer</td>\n",
              "      <td>12.0</td>\n",
              "    </tr>\n",
              "    <tr>\n",
              "      <th>2447081</th>\n",
              "      <td>North by Northwest</td>\n",
              "      <td>1959</td>\n",
              "      <td>Adam Williams</td>\n",
              "      <td>actor</td>\n",
              "      <td>Valerian</td>\n",
              "      <td>9.0</td>\n",
              "    </tr>\n",
              "    <tr>\n",
              "      <th>3048272</th>\n",
              "      <td>North by Northwest</td>\n",
              "      <td>1959</td>\n",
              "      <td>Josephine Hutchinson</td>\n",
              "      <td>actress</td>\n",
              "      <td>Mrs. Townsend</td>\n",
              "      <td>6.0</td>\n",
              "    </tr>\n",
              "    <tr>\n",
              "      <th>3157232</th>\n",
              "      <td>North by Northwest</td>\n",
              "      <td>1959</td>\n",
              "      <td>Jessie Royce Landis</td>\n",
              "      <td>actress</td>\n",
              "      <td>Clara Thornhill</td>\n",
              "      <td>4.0</td>\n",
              "    </tr>\n",
              "    <tr>\n",
              "      <th>3518333</th>\n",
              "      <td>North by Northwest</td>\n",
              "      <td>1959</td>\n",
              "      <td>Eva Marie Saint</td>\n",
              "      <td>actress</td>\n",
              "      <td>Eve Kendall</td>\n",
              "      <td>2.0</td>\n",
              "    </tr>\n",
              "  </tbody>\n",
              "</table>\n",
              "</div>"
            ],
            "text/plain": [
              "                      title  year  ...                    character     n\n",
              "206471   North by Northwest  1959  ...               Captain Junket  15.0\n",
              "356707   North by Northwest  1959  ...                The Professor   5.0\n",
              "464736   North by Northwest  1959  ...                    Dr. Cross  13.0\n",
              "665768   North by Northwest  1959  ...                        Licht  11.0\n",
              "871426   North by Northwest  1959  ...           Roger O. Thornhill   1.0\n",
              "1275337  North by Northwest  1959  ...                      Leonard   8.0\n",
              "1384780  North by Northwest  1959  ...  Charley - Chicago Policeman  16.0\n",
              "1457165  North by Northwest  1959  ...              Phillip Vandamm   3.0\n",
              "1508344  North by Northwest  1959  ...               Sergeant Flamm  14.0\n",
              "1695173  North by Northwest  1959  ...              Lester Townsend   7.0\n",
              "1811387  North by Northwest  1959  ...              Victor Larrabee  10.0\n",
              "2295714  North by Northwest  1959  ...                   Auctioneer  12.0\n",
              "2447081  North by Northwest  1959  ...                     Valerian   9.0\n",
              "3048272  North by Northwest  1959  ...                Mrs. Townsend   6.0\n",
              "3157232  North by Northwest  1959  ...              Clara Thornhill   4.0\n",
              "3518333  North by Northwest  1959  ...                  Eve Kendall   2.0\n",
              "\n",
              "[16 rows x 6 columns]"
            ]
          },
          "metadata": {
            "tags": []
          },
          "execution_count": 53
        }
      ]
    },
    {
      "cell_type": "markdown",
      "metadata": {
        "id": "kZRh0LOBiPsF",
        "colab_type": "text"
      },
      "source": [
        "#Display the entire cast, in \"n\"-order, of the 1972 film \"Sleuth\"."
      ]
    },
    {
      "cell_type": "code",
      "metadata": {
        "id": "1FRHeBnliXvC",
        "colab_type": "code",
        "colab": {
          "base_uri": "https://localhost:8080/",
          "height": 235
        },
        "outputId": "18d010a2-4c71-48b5-a3d7-58cb207e1d88"
      },
      "source": [
        "cast[(cast.title == \"Sleuth\") & (cast.year == 1972)].sort_values('n')"
      ],
      "execution_count": 54,
      "outputs": [
        {
          "output_type": "execute_result",
          "data": {
            "text/html": [
              "<div>\n",
              "<style scoped>\n",
              "    .dataframe tbody tr th:only-of-type {\n",
              "        vertical-align: middle;\n",
              "    }\n",
              "\n",
              "    .dataframe tbody tr th {\n",
              "        vertical-align: top;\n",
              "    }\n",
              "\n",
              "    .dataframe thead th {\n",
              "        text-align: right;\n",
              "    }\n",
              "</style>\n",
              "<table border=\"1\" class=\"dataframe\">\n",
              "  <thead>\n",
              "    <tr style=\"text-align: right;\">\n",
              "      <th></th>\n",
              "      <th>title</th>\n",
              "      <th>year</th>\n",
              "      <th>name</th>\n",
              "      <th>type</th>\n",
              "      <th>character</th>\n",
              "      <th>n</th>\n",
              "    </tr>\n",
              "  </thead>\n",
              "  <tbody>\n",
              "    <tr>\n",
              "      <th>1705394</th>\n",
              "      <td>Sleuth</td>\n",
              "      <td>1972</td>\n",
              "      <td>Laurence Olivier</td>\n",
              "      <td>actor</td>\n",
              "      <td>Andrew Wyke</td>\n",
              "      <td>1.0</td>\n",
              "    </tr>\n",
              "    <tr>\n",
              "      <th>326773</th>\n",
              "      <td>Sleuth</td>\n",
              "      <td>1972</td>\n",
              "      <td>Michael Caine</td>\n",
              "      <td>actor</td>\n",
              "      <td>Milo Tindle</td>\n",
              "      <td>2.0</td>\n",
              "    </tr>\n",
              "    <tr>\n",
              "      <th>373876</th>\n",
              "      <td>Sleuth</td>\n",
              "      <td>1972</td>\n",
              "      <td>Alec Cawthorne</td>\n",
              "      <td>actor</td>\n",
              "      <td>Inspector Doppler</td>\n",
              "      <td>3.0</td>\n",
              "    </tr>\n",
              "    <tr>\n",
              "      <th>1465483</th>\n",
              "      <td>Sleuth</td>\n",
              "      <td>1972</td>\n",
              "      <td>John (II) Matthews</td>\n",
              "      <td>actor</td>\n",
              "      <td>Detective Sergeant Tarrant</td>\n",
              "      <td>4.0</td>\n",
              "    </tr>\n",
              "    <tr>\n",
              "      <th>2724553</th>\n",
              "      <td>Sleuth</td>\n",
              "      <td>1972</td>\n",
              "      <td>Eve (III) Channing</td>\n",
              "      <td>actress</td>\n",
              "      <td>Marguerite Wyke</td>\n",
              "      <td>5.0</td>\n",
              "    </tr>\n",
              "    <tr>\n",
              "      <th>1448690</th>\n",
              "      <td>Sleuth</td>\n",
              "      <td>1972</td>\n",
              "      <td>Teddy Martin</td>\n",
              "      <td>actor</td>\n",
              "      <td>Police Constable Higgs</td>\n",
              "      <td>6.0</td>\n",
              "    </tr>\n",
              "  </tbody>\n",
              "</table>\n",
              "</div>"
            ],
            "text/plain": [
              "          title  year  ...                   character    n\n",
              "1705394  Sleuth  1972  ...                 Andrew Wyke  1.0\n",
              "326773   Sleuth  1972  ...                 Milo Tindle  2.0\n",
              "373876   Sleuth  1972  ...           Inspector Doppler  3.0\n",
              "1465483  Sleuth  1972  ...  Detective Sergeant Tarrant  4.0\n",
              "2724553  Sleuth  1972  ...             Marguerite Wyke  5.0\n",
              "1448690  Sleuth  1972  ...      Police Constable Higgs  6.0\n",
              "\n",
              "[6 rows x 6 columns]"
            ]
          },
          "metadata": {
            "tags": []
          },
          "execution_count": 54
        }
      ]
    },
    {
      "cell_type": "markdown",
      "metadata": {
        "id": "uUGvBsr6ibys",
        "colab_type": "text"
      },
      "source": [
        "#Now display the entire cast, in \"n\"-order, of the 2007 version of \"Sleuth\"."
      ]
    },
    {
      "cell_type": "code",
      "metadata": {
        "id": "l8Ig5GZuif6b",
        "colab_type": "code",
        "colab": {
          "base_uri": "https://localhost:8080/",
          "height": 142
        },
        "outputId": "f47d46b6-4f6b-461f-cdb1-316a552e68e4"
      },
      "source": [
        "s = cast[(cast.title == \"Sleuth\") & (cast.year == 2007)].sort_values('n')\n",
        "a = s[s.n.notnull()]\n",
        "a"
      ],
      "execution_count": 56,
      "outputs": [
        {
          "output_type": "execute_result",
          "data": {
            "text/html": [
              "<div>\n",
              "<style scoped>\n",
              "    .dataframe tbody tr th:only-of-type {\n",
              "        vertical-align: middle;\n",
              "    }\n",
              "\n",
              "    .dataframe tbody tr th {\n",
              "        vertical-align: top;\n",
              "    }\n",
              "\n",
              "    .dataframe thead th {\n",
              "        text-align: right;\n",
              "    }\n",
              "</style>\n",
              "<table border=\"1\" class=\"dataframe\">\n",
              "  <thead>\n",
              "    <tr style=\"text-align: right;\">\n",
              "      <th></th>\n",
              "      <th>title</th>\n",
              "      <th>year</th>\n",
              "      <th>name</th>\n",
              "      <th>type</th>\n",
              "      <th>character</th>\n",
              "      <th>n</th>\n",
              "    </tr>\n",
              "  </thead>\n",
              "  <tbody>\n",
              "    <tr>\n",
              "      <th>326774</th>\n",
              "      <td>Sleuth</td>\n",
              "      <td>2007</td>\n",
              "      <td>Michael Caine</td>\n",
              "      <td>actor</td>\n",
              "      <td>Andrew</td>\n",
              "      <td>1.0</td>\n",
              "    </tr>\n",
              "    <tr>\n",
              "      <th>1293634</th>\n",
              "      <td>Sleuth</td>\n",
              "      <td>2007</td>\n",
              "      <td>Jude Law</td>\n",
              "      <td>actor</td>\n",
              "      <td>Milo</td>\n",
              "      <td>2.0</td>\n",
              "    </tr>\n",
              "    <tr>\n",
              "      <th>1805907</th>\n",
              "      <td>Sleuth</td>\n",
              "      <td>2007</td>\n",
              "      <td>Harold Pinter</td>\n",
              "      <td>actor</td>\n",
              "      <td>Man on T.V.</td>\n",
              "      <td>3.0</td>\n",
              "    </tr>\n",
              "  </tbody>\n",
              "</table>\n",
              "</div>"
            ],
            "text/plain": [
              "          title  year           name   type    character    n\n",
              "326774   Sleuth  2007  Michael Caine  actor       Andrew  1.0\n",
              "1293634  Sleuth  2007       Jude Law  actor         Milo  2.0\n",
              "1805907  Sleuth  2007  Harold Pinter  actor  Man on T.V.  3.0"
            ]
          },
          "metadata": {
            "tags": []
          },
          "execution_count": 56
        }
      ]
    },
    {
      "cell_type": "markdown",
      "metadata": {
        "id": "ezGiRNf3irN9",
        "colab_type": "text"
      },
      "source": [
        "#How many roles were credited in the silent 1921 version of Hamlet?"
      ]
    },
    {
      "cell_type": "code",
      "metadata": {
        "id": "aE_8sNqliqfW",
        "colab_type": "code",
        "colab": {
          "base_uri": "https://localhost:8080/",
          "height": 34
        },
        "outputId": "fe33f218-5a84-4f27-d9eb-028d18e67bd8"
      },
      "source": [
        "len(cast[(cast.title == 'Hamlet') & (cast.year == 1921)])"
      ],
      "execution_count": 57,
      "outputs": [
        {
          "output_type": "execute_result",
          "data": {
            "text/plain": [
              "9"
            ]
          },
          "metadata": {
            "tags": []
          },
          "execution_count": 57
        }
      ]
    },
    {
      "cell_type": "markdown",
      "metadata": {
        "id": "A10uxSMmiyBu",
        "colab_type": "text"
      },
      "source": [
        "#How many roles were credited in Branagh’s 1996 Hamlet?"
      ]
    },
    {
      "cell_type": "code",
      "metadata": {
        "id": "76zomQptiy8Z",
        "colab_type": "code",
        "colab": {
          "base_uri": "https://localhost:8080/",
          "height": 34
        },
        "outputId": "eaf18a68-9e83-488a-fd60-710a96faeeea"
      },
      "source": [
        "len(cast[(cast.title == 'Hamlet') & (cast.year == 1996)])"
      ],
      "execution_count": 58,
      "outputs": [
        {
          "output_type": "execute_result",
          "data": {
            "text/plain": [
              "54"
            ]
          },
          "metadata": {
            "tags": []
          },
          "execution_count": 58
        }
      ]
    },
    {
      "cell_type": "markdown",
      "metadata": {
        "id": "VeCJxFSsi1zM",
        "colab_type": "text"
      },
      "source": [
        "#How many \"Hamlet\" roles have been listed in all film credits through history?"
      ]
    },
    {
      "cell_type": "code",
      "metadata": {
        "id": "oGArlvLDi37A",
        "colab_type": "code",
        "colab": {
          "base_uri": "https://localhost:8080/",
          "height": 34
        },
        "outputId": "c211713d-85f8-4c50-bb7d-1fa4aa49082a"
      },
      "source": [
        "len(cast[(cast.title == 'Hamlet')])"
      ],
      "execution_count": 59,
      "outputs": [
        {
          "output_type": "execute_result",
          "data": {
            "text/plain": [
              "342"
            ]
          },
          "metadata": {
            "tags": []
          },
          "execution_count": 59
        }
      ]
    },
    {
      "cell_type": "markdown",
      "metadata": {
        "id": "pQ1MnUUXjuNL",
        "colab_type": "text"
      },
      "source": [
        "#How many people have played an \"Ophelia\"?"
      ]
    },
    {
      "cell_type": "code",
      "metadata": {
        "id": "oR7qawYCjvG5",
        "colab_type": "code",
        "colab": {
          "base_uri": "https://localhost:8080/",
          "height": 80
        },
        "outputId": "feedb63d-9290-4b94-c123-b5480314da54"
      },
      "source": [
        "cast.head(1)"
      ],
      "execution_count": 60,
      "outputs": [
        {
          "output_type": "execute_result",
          "data": {
            "text/html": [
              "<div>\n",
              "<style scoped>\n",
              "    .dataframe tbody tr th:only-of-type {\n",
              "        vertical-align: middle;\n",
              "    }\n",
              "\n",
              "    .dataframe tbody tr th {\n",
              "        vertical-align: top;\n",
              "    }\n",
              "\n",
              "    .dataframe thead th {\n",
              "        text-align: right;\n",
              "    }\n",
              "</style>\n",
              "<table border=\"1\" class=\"dataframe\">\n",
              "  <thead>\n",
              "    <tr style=\"text-align: right;\">\n",
              "      <th></th>\n",
              "      <th>title</th>\n",
              "      <th>year</th>\n",
              "      <th>name</th>\n",
              "      <th>type</th>\n",
              "      <th>character</th>\n",
              "      <th>n</th>\n",
              "    </tr>\n",
              "  </thead>\n",
              "  <tbody>\n",
              "    <tr>\n",
              "      <th>0</th>\n",
              "      <td>Closet Monster</td>\n",
              "      <td>2015</td>\n",
              "      <td>Buffy #1</td>\n",
              "      <td>actor</td>\n",
              "      <td>Buffy 4</td>\n",
              "      <td>31.0</td>\n",
              "    </tr>\n",
              "  </tbody>\n",
              "</table>\n",
              "</div>"
            ],
            "text/plain": [
              "            title  year      name   type character     n\n",
              "0  Closet Monster  2015  Buffy #1  actor   Buffy 4  31.0"
            ]
          },
          "metadata": {
            "tags": []
          },
          "execution_count": 60
        }
      ]
    },
    {
      "cell_type": "markdown",
      "metadata": {
        "id": "6Vil0FtNjyT7",
        "colab_type": "text"
      },
      "source": [
        "#How many people have played a role called \"The Dude\"?"
      ]
    },
    {
      "cell_type": "code",
      "metadata": {
        "id": "NVHbFs3Aj2j0",
        "colab_type": "code",
        "colab": {
          "base_uri": "https://localhost:8080/",
          "height": 34
        },
        "outputId": "c70e6785-caa9-4a9c-ed3f-1fdda086108b"
      },
      "source": [
        "len(cast[cast.character == \"Ophelia\"])"
      ],
      "execution_count": 61,
      "outputs": [
        {
          "output_type": "execute_result",
          "data": {
            "text/plain": [
              "117"
            ]
          },
          "metadata": {
            "tags": []
          },
          "execution_count": 61
        }
      ]
    },
    {
      "cell_type": "markdown",
      "metadata": {
        "id": "UQXlsJ6nj7df",
        "colab_type": "text"
      },
      "source": [
        "#How many people have played a role called \"The Stranger\"?"
      ]
    },
    {
      "cell_type": "code",
      "metadata": {
        "id": "jbvl3kkJj99g",
        "colab_type": "code",
        "colab": {
          "base_uri": "https://localhost:8080/",
          "height": 34
        },
        "outputId": "eb0d75b7-61a6-49b7-ff76-ebb10d40a6b9"
      },
      "source": [
        "len(cast[cast.character == 'The Stranger'])"
      ],
      "execution_count": 62,
      "outputs": [
        {
          "output_type": "execute_result",
          "data": {
            "text/plain": [
              "212"
            ]
          },
          "metadata": {
            "tags": []
          },
          "execution_count": 62
        }
      ]
    },
    {
      "cell_type": "markdown",
      "metadata": {
        "id": "AMgcOC-ckAjd",
        "colab_type": "text"
      },
      "source": [
        "#How many roles has Sidney Poitier played throughout his career?"
      ]
    },
    {
      "cell_type": "code",
      "metadata": {
        "id": "OAJyO6VqkCmy",
        "colab_type": "code",
        "colab": {
          "base_uri": "https://localhost:8080/",
          "height": 142
        },
        "outputId": "c2a353b0-7901-433d-f8db-5bfb777a2ea5"
      },
      "source": [
        "cast.head(3)"
      ],
      "execution_count": 63,
      "outputs": [
        {
          "output_type": "execute_result",
          "data": {
            "text/html": [
              "<div>\n",
              "<style scoped>\n",
              "    .dataframe tbody tr th:only-of-type {\n",
              "        vertical-align: middle;\n",
              "    }\n",
              "\n",
              "    .dataframe tbody tr th {\n",
              "        vertical-align: top;\n",
              "    }\n",
              "\n",
              "    .dataframe thead th {\n",
              "        text-align: right;\n",
              "    }\n",
              "</style>\n",
              "<table border=\"1\" class=\"dataframe\">\n",
              "  <thead>\n",
              "    <tr style=\"text-align: right;\">\n",
              "      <th></th>\n",
              "      <th>title</th>\n",
              "      <th>year</th>\n",
              "      <th>name</th>\n",
              "      <th>type</th>\n",
              "      <th>character</th>\n",
              "      <th>n</th>\n",
              "    </tr>\n",
              "  </thead>\n",
              "  <tbody>\n",
              "    <tr>\n",
              "      <th>0</th>\n",
              "      <td>Closet Monster</td>\n",
              "      <td>2015</td>\n",
              "      <td>Buffy #1</td>\n",
              "      <td>actor</td>\n",
              "      <td>Buffy 4</td>\n",
              "      <td>31.0</td>\n",
              "    </tr>\n",
              "    <tr>\n",
              "      <th>1</th>\n",
              "      <td>Suuri illusioni</td>\n",
              "      <td>1985</td>\n",
              "      <td>Homo $</td>\n",
              "      <td>actor</td>\n",
              "      <td>Guests</td>\n",
              "      <td>22.0</td>\n",
              "    </tr>\n",
              "    <tr>\n",
              "      <th>2</th>\n",
              "      <td>Battle of the Sexes</td>\n",
              "      <td>2017</td>\n",
              "      <td>$hutter</td>\n",
              "      <td>actor</td>\n",
              "      <td>Bobby Riggs Fan</td>\n",
              "      <td>10.0</td>\n",
              "    </tr>\n",
              "  </tbody>\n",
              "</table>\n",
              "</div>"
            ],
            "text/plain": [
              "                 title  year      name   type        character     n\n",
              "0       Closet Monster  2015  Buffy #1  actor          Buffy 4  31.0\n",
              "1      Suuri illusioni  1985    Homo $  actor           Guests  22.0\n",
              "2  Battle of the Sexes  2017   $hutter  actor  Bobby Riggs Fan  10.0"
            ]
          },
          "metadata": {
            "tags": []
          },
          "execution_count": 63
        }
      ]
    },
    {
      "cell_type": "code",
      "metadata": {
        "id": "SPZT4BLskJx8",
        "colab_type": "code",
        "colab": {
          "base_uri": "https://localhost:8080/",
          "height": 34
        },
        "outputId": "0886917f-b9bc-4c42-f71b-390f80cc92c3"
      },
      "source": [
        "len(cast[cast.name == \"Sidney Poitier\"])"
      ],
      "execution_count": 64,
      "outputs": [
        {
          "output_type": "execute_result",
          "data": {
            "text/plain": [
              "43"
            ]
          },
          "metadata": {
            "tags": []
          },
          "execution_count": 64
        }
      ]
    },
    {
      "cell_type": "markdown",
      "metadata": {
        "id": "oXOdLdiKkGeM",
        "colab_type": "text"
      },
      "source": [
        "#How many roles has Judi Dench played?"
      ]
    },
    {
      "cell_type": "code",
      "metadata": {
        "id": "XxE8oce3kNxh",
        "colab_type": "code",
        "colab": {
          "base_uri": "https://localhost:8080/",
          "height": 34
        },
        "outputId": "1789dcd6-f9fb-40e1-a74e-9602f8308fe3"
      },
      "source": [
        "len(cast[cast.name == \"Judi Dench\"])"
      ],
      "execution_count": 65,
      "outputs": [
        {
          "output_type": "execute_result",
          "data": {
            "text/plain": [
              "55"
            ]
          },
          "metadata": {
            "tags": []
          },
          "execution_count": 65
        }
      ]
    },
    {
      "cell_type": "markdown",
      "metadata": {
        "id": "nLnNOpzkkQaD",
        "colab_type": "text"
      },
      "source": [
        "#List the supporting roles (having n=2) played by Cary Grant in the 1940s, in order by year."
      ]
    },
    {
      "cell_type": "code",
      "metadata": {
        "id": "ko_gehzQkSj2",
        "colab_type": "code",
        "colab": {
          "base_uri": "https://localhost:8080/",
          "height": 638
        },
        "outputId": "b1ae900d-d473-4e22-b70d-ac1664bf5b29"
      },
      "source": [
        "cast[(cast.name == \"Cary Grant\") & (cast.n == 2) & (cast.year <= 1940)].sort_values('year')"
      ],
      "execution_count": 66,
      "outputs": [
        {
          "output_type": "execute_result",
          "data": {
            "text/html": [
              "<div>\n",
              "<style scoped>\n",
              "    .dataframe tbody tr th:only-of-type {\n",
              "        vertical-align: middle;\n",
              "    }\n",
              "\n",
              "    .dataframe tbody tr th {\n",
              "        vertical-align: top;\n",
              "    }\n",
              "\n",
              "    .dataframe thead th {\n",
              "        text-align: right;\n",
              "    }\n",
              "</style>\n",
              "<table border=\"1\" class=\"dataframe\">\n",
              "  <thead>\n",
              "    <tr style=\"text-align: right;\">\n",
              "      <th></th>\n",
              "      <th>title</th>\n",
              "      <th>year</th>\n",
              "      <th>name</th>\n",
              "      <th>type</th>\n",
              "      <th>character</th>\n",
              "      <th>n</th>\n",
              "    </tr>\n",
              "  </thead>\n",
              "  <tbody>\n",
              "    <tr>\n",
              "      <th>871418</th>\n",
              "      <td>Madame Butterfly</td>\n",
              "      <td>1932</td>\n",
              "      <td>Cary Grant</td>\n",
              "      <td>actor</td>\n",
              "      <td>Lieutenant B.F. Pinkerton</td>\n",
              "      <td>2.0</td>\n",
              "    </tr>\n",
              "    <tr>\n",
              "      <th>871454</th>\n",
              "      <td>The Woman Accused</td>\n",
              "      <td>1933</td>\n",
              "      <td>Cary Grant</td>\n",
              "      <td>actor</td>\n",
              "      <td>Jeffrey Baxter</td>\n",
              "      <td>2.0</td>\n",
              "    </tr>\n",
              "    <tr>\n",
              "      <th>871446</th>\n",
              "      <td>The Eagle and the Hawk</td>\n",
              "      <td>1933</td>\n",
              "      <td>Cary Grant</td>\n",
              "      <td>actor</td>\n",
              "      <td>Henry Crocker</td>\n",
              "      <td>2.0</td>\n",
              "    </tr>\n",
              "    <tr>\n",
              "      <th>871412</th>\n",
              "      <td>I'm No Angel</td>\n",
              "      <td>1933</td>\n",
              "      <td>Cary Grant</td>\n",
              "      <td>actor</td>\n",
              "      <td>Jack Clayton</td>\n",
              "      <td>2.0</td>\n",
              "    </tr>\n",
              "    <tr>\n",
              "      <th>871436</th>\n",
              "      <td>She Done Him Wrong</td>\n",
              "      <td>1933</td>\n",
              "      <td>Cary Grant</td>\n",
              "      <td>actor</td>\n",
              "      <td>Captain Cummings</td>\n",
              "      <td>2.0</td>\n",
              "    </tr>\n",
              "    <tr>\n",
              "      <th>871393</th>\n",
              "      <td>Born to Be Bad</td>\n",
              "      <td>1934</td>\n",
              "      <td>Cary Grant</td>\n",
              "      <td>actor</td>\n",
              "      <td>Malcolm Trevor</td>\n",
              "      <td>2.0</td>\n",
              "    </tr>\n",
              "    <tr>\n",
              "      <th>871455</th>\n",
              "      <td>Thirty Day Princess</td>\n",
              "      <td>1934</td>\n",
              "      <td>Cary Grant</td>\n",
              "      <td>actor</td>\n",
              "      <td>Porter Madison III</td>\n",
              "      <td>2.0</td>\n",
              "    </tr>\n",
              "    <tr>\n",
              "      <th>871440</th>\n",
              "      <td>Sylvia Scarlett</td>\n",
              "      <td>1935</td>\n",
              "      <td>Cary Grant</td>\n",
              "      <td>actor</td>\n",
              "      <td>Jimmy Monkley</td>\n",
              "      <td>2.0</td>\n",
              "    </tr>\n",
              "    <tr>\n",
              "      <th>871401</th>\n",
              "      <td>Enter Madame!</td>\n",
              "      <td>1935</td>\n",
              "      <td>Cary Grant</td>\n",
              "      <td>actor</td>\n",
              "      <td>Gerald Fitzgerald</td>\n",
              "      <td>2.0</td>\n",
              "    </tr>\n",
              "    <tr>\n",
              "      <th>871465</th>\n",
              "      <td>Wings in the Dark</td>\n",
              "      <td>1935</td>\n",
              "      <td>Cary Grant</td>\n",
              "      <td>actor</td>\n",
              "      <td>Ken Gordon</td>\n",
              "      <td>2.0</td>\n",
              "    </tr>\n",
              "    <tr>\n",
              "      <th>871463</th>\n",
              "      <td>Wedding Present</td>\n",
              "      <td>1936</td>\n",
              "      <td>Cary Grant</td>\n",
              "      <td>actor</td>\n",
              "      <td>Charlie Mason</td>\n",
              "      <td>2.0</td>\n",
              "    </tr>\n",
              "    <tr>\n",
              "      <th>871464</th>\n",
              "      <td>When You're in Love</td>\n",
              "      <td>1937</td>\n",
              "      <td>Cary Grant</td>\n",
              "      <td>actor</td>\n",
              "      <td>Jimmy Hudson</td>\n",
              "      <td>2.0</td>\n",
              "    </tr>\n",
              "    <tr>\n",
              "      <th>871443</th>\n",
              "      <td>The Awful Truth</td>\n",
              "      <td>1937</td>\n",
              "      <td>Cary Grant</td>\n",
              "      <td>actor</td>\n",
              "      <td>Jerry Warriner</td>\n",
              "      <td>2.0</td>\n",
              "    </tr>\n",
              "    <tr>\n",
              "      <th>871453</th>\n",
              "      <td>The Toast of New York</td>\n",
              "      <td>1937</td>\n",
              "      <td>Cary Grant</td>\n",
              "      <td>actor</td>\n",
              "      <td>Nick Boyd</td>\n",
              "      <td>2.0</td>\n",
              "    </tr>\n",
              "    <tr>\n",
              "      <th>871459</th>\n",
              "      <td>Topper</td>\n",
              "      <td>1937</td>\n",
              "      <td>Cary Grant</td>\n",
              "      <td>actor</td>\n",
              "      <td>George Kerby</td>\n",
              "      <td>2.0</td>\n",
              "    </tr>\n",
              "    <tr>\n",
              "      <th>871408</th>\n",
              "      <td>Holiday</td>\n",
              "      <td>1938</td>\n",
              "      <td>Cary Grant</td>\n",
              "      <td>actor</td>\n",
              "      <td>Johnny Case</td>\n",
              "      <td>2.0</td>\n",
              "    </tr>\n",
              "    <tr>\n",
              "      <th>871394</th>\n",
              "      <td>Bringing Up Baby</td>\n",
              "      <td>1938</td>\n",
              "      <td>Cary Grant</td>\n",
              "      <td>actor</td>\n",
              "      <td>David</td>\n",
              "      <td>2.0</td>\n",
              "    </tr>\n",
              "    <tr>\n",
              "      <th>871413</th>\n",
              "      <td>In Name Only</td>\n",
              "      <td>1939</td>\n",
              "      <td>Cary Grant</td>\n",
              "      <td>actor</td>\n",
              "      <td>Alec Walker</td>\n",
              "      <td>2.0</td>\n",
              "    </tr>\n",
              "    <tr>\n",
              "      <th>871423</th>\n",
              "      <td>My Favorite Wife</td>\n",
              "      <td>1940</td>\n",
              "      <td>Cary Grant</td>\n",
              "      <td>actor</td>\n",
              "      <td>Nick Arden</td>\n",
              "      <td>2.0</td>\n",
              "    </tr>\n",
              "  </tbody>\n",
              "</table>\n",
              "</div>"
            ],
            "text/plain": [
              "                         title  year  ...                  character    n\n",
              "871418        Madame Butterfly  1932  ...  Lieutenant B.F. Pinkerton  2.0\n",
              "871454       The Woman Accused  1933  ...             Jeffrey Baxter  2.0\n",
              "871446  The Eagle and the Hawk  1933  ...              Henry Crocker  2.0\n",
              "871412            I'm No Angel  1933  ...               Jack Clayton  2.0\n",
              "871436      She Done Him Wrong  1933  ...           Captain Cummings  2.0\n",
              "871393          Born to Be Bad  1934  ...             Malcolm Trevor  2.0\n",
              "871455     Thirty Day Princess  1934  ...         Porter Madison III  2.0\n",
              "871440         Sylvia Scarlett  1935  ...              Jimmy Monkley  2.0\n",
              "871401           Enter Madame!  1935  ...          Gerald Fitzgerald  2.0\n",
              "871465       Wings in the Dark  1935  ...                 Ken Gordon  2.0\n",
              "871463         Wedding Present  1936  ...              Charlie Mason  2.0\n",
              "871464     When You're in Love  1937  ...               Jimmy Hudson  2.0\n",
              "871443         The Awful Truth  1937  ...             Jerry Warriner  2.0\n",
              "871453   The Toast of New York  1937  ...                  Nick Boyd  2.0\n",
              "871459                  Topper  1937  ...               George Kerby  2.0\n",
              "871408                 Holiday  1938  ...                Johnny Case  2.0\n",
              "871394        Bringing Up Baby  1938  ...                      David  2.0\n",
              "871413            In Name Only  1939  ...                Alec Walker  2.0\n",
              "871423        My Favorite Wife  1940  ...                 Nick Arden  2.0\n",
              "\n",
              "[19 rows x 6 columns]"
            ]
          },
          "metadata": {
            "tags": []
          },
          "execution_count": 66
        }
      ]
    },
    {
      "cell_type": "markdown",
      "metadata": {
        "id": "tOtT06gJkbc9",
        "colab_type": "text"
      },
      "source": [
        "#List the leading roles that Cary Grant played in the 1940s in order by year."
      ]
    },
    {
      "cell_type": "code",
      "metadata": {
        "id": "WH85_aBrkcZ5",
        "colab_type": "code",
        "colab": {
          "base_uri": "https://localhost:8080/",
          "height": 111
        },
        "outputId": "23c211ac-c015-4008-fee8-ab65a7161182"
      },
      "source": [
        "cast.head(2)"
      ],
      "execution_count": 67,
      "outputs": [
        {
          "output_type": "execute_result",
          "data": {
            "text/html": [
              "<div>\n",
              "<style scoped>\n",
              "    .dataframe tbody tr th:only-of-type {\n",
              "        vertical-align: middle;\n",
              "    }\n",
              "\n",
              "    .dataframe tbody tr th {\n",
              "        vertical-align: top;\n",
              "    }\n",
              "\n",
              "    .dataframe thead th {\n",
              "        text-align: right;\n",
              "    }\n",
              "</style>\n",
              "<table border=\"1\" class=\"dataframe\">\n",
              "  <thead>\n",
              "    <tr style=\"text-align: right;\">\n",
              "      <th></th>\n",
              "      <th>title</th>\n",
              "      <th>year</th>\n",
              "      <th>name</th>\n",
              "      <th>type</th>\n",
              "      <th>character</th>\n",
              "      <th>n</th>\n",
              "    </tr>\n",
              "  </thead>\n",
              "  <tbody>\n",
              "    <tr>\n",
              "      <th>0</th>\n",
              "      <td>Closet Monster</td>\n",
              "      <td>2015</td>\n",
              "      <td>Buffy #1</td>\n",
              "      <td>actor</td>\n",
              "      <td>Buffy 4</td>\n",
              "      <td>31.0</td>\n",
              "    </tr>\n",
              "    <tr>\n",
              "      <th>1</th>\n",
              "      <td>Suuri illusioni</td>\n",
              "      <td>1985</td>\n",
              "      <td>Homo $</td>\n",
              "      <td>actor</td>\n",
              "      <td>Guests</td>\n",
              "      <td>22.0</td>\n",
              "    </tr>\n",
              "  </tbody>\n",
              "</table>\n",
              "</div>"
            ],
            "text/plain": [
              "             title  year      name   type character     n\n",
              "0   Closet Monster  2015  Buffy #1  actor   Buffy 4  31.0\n",
              "1  Suuri illusioni  1985    Homo $  actor    Guests  22.0"
            ]
          },
          "metadata": {
            "tags": []
          },
          "execution_count": 67
        }
      ]
    },
    {
      "cell_type": "code",
      "metadata": {
        "id": "2jrx4BETkf31",
        "colab_type": "code",
        "colab": {
          "base_uri": "https://localhost:8080/",
          "height": 421
        },
        "outputId": "5151026a-4a52-44b8-faba-61ef158e6c80"
      },
      "source": [
        "cast[(cast.name == \"Cary Grant\") & (cast.n == 1) & (cast.year <= 1940)].sort_values('year')"
      ],
      "execution_count": 68,
      "outputs": [
        {
          "output_type": "execute_result",
          "data": {
            "text/html": [
              "<div>\n",
              "<style scoped>\n",
              "    .dataframe tbody tr th:only-of-type {\n",
              "        vertical-align: middle;\n",
              "    }\n",
              "\n",
              "    .dataframe tbody tr th {\n",
              "        vertical-align: top;\n",
              "    }\n",
              "\n",
              "    .dataframe thead th {\n",
              "        text-align: right;\n",
              "    }\n",
              "</style>\n",
              "<table border=\"1\" class=\"dataframe\">\n",
              "  <thead>\n",
              "    <tr style=\"text-align: right;\">\n",
              "      <th></th>\n",
              "      <th>title</th>\n",
              "      <th>year</th>\n",
              "      <th>name</th>\n",
              "      <th>type</th>\n",
              "      <th>character</th>\n",
              "      <th>n</th>\n",
              "    </tr>\n",
              "  </thead>\n",
              "  <tbody>\n",
              "    <tr>\n",
              "      <th>871409</th>\n",
              "      <td>Hot Saturday</td>\n",
              "      <td>1932</td>\n",
              "      <td>Cary Grant</td>\n",
              "      <td>actor</td>\n",
              "      <td>Romer Sheffield</td>\n",
              "      <td>1.0</td>\n",
              "    </tr>\n",
              "    <tr>\n",
              "      <th>871404</th>\n",
              "      <td>Gambling Ship</td>\n",
              "      <td>1933</td>\n",
              "      <td>Cary Grant</td>\n",
              "      <td>actor</td>\n",
              "      <td>Ace Corbin</td>\n",
              "      <td>1.0</td>\n",
              "    </tr>\n",
              "    <tr>\n",
              "      <th>871415</th>\n",
              "      <td>Kiss and Make-Up</td>\n",
              "      <td>1934</td>\n",
              "      <td>Cary Grant</td>\n",
              "      <td>actor</td>\n",
              "      <td>Dr. Maurice Lamar</td>\n",
              "      <td>1.0</td>\n",
              "    </tr>\n",
              "    <tr>\n",
              "      <th>871417</th>\n",
              "      <td>Ladies Should Listen</td>\n",
              "      <td>1934</td>\n",
              "      <td>Cary Grant</td>\n",
              "      <td>actor</td>\n",
              "      <td>Julian De Lussac</td>\n",
              "      <td>1.0</td>\n",
              "    </tr>\n",
              "    <tr>\n",
              "      <th>871449</th>\n",
              "      <td>The Last Outpost</td>\n",
              "      <td>1935</td>\n",
              "      <td>Cary Grant</td>\n",
              "      <td>actor</td>\n",
              "      <td>Michael Andrews</td>\n",
              "      <td>1.0</td>\n",
              "    </tr>\n",
              "    <tr>\n",
              "      <th>871391</th>\n",
              "      <td>Big Brown Eyes</td>\n",
              "      <td>1936</td>\n",
              "      <td>Cary Grant</td>\n",
              "      <td>actor</td>\n",
              "      <td>Danny Barr</td>\n",
              "      <td>1.0</td>\n",
              "    </tr>\n",
              "    <tr>\n",
              "      <th>871442</th>\n",
              "      <td>The Amazing Quest of Ernest Bliss</td>\n",
              "      <td>1936</td>\n",
              "      <td>Cary Grant</td>\n",
              "      <td>actor</td>\n",
              "      <td>Ernest Bliss</td>\n",
              "      <td>1.0</td>\n",
              "    </tr>\n",
              "    <tr>\n",
              "      <th>871406</th>\n",
              "      <td>Gunga Din</td>\n",
              "      <td>1939</td>\n",
              "      <td>Cary Grant</td>\n",
              "      <td>actor</td>\n",
              "      <td>Cutter</td>\n",
              "      <td>1.0</td>\n",
              "    </tr>\n",
              "    <tr>\n",
              "      <th>871431</th>\n",
              "      <td>Only Angels Have Wings</td>\n",
              "      <td>1939</td>\n",
              "      <td>Cary Grant</td>\n",
              "      <td>actor</td>\n",
              "      <td>Geoff Carter</td>\n",
              "      <td>1.0</td>\n",
              "    </tr>\n",
              "    <tr>\n",
              "      <th>871407</th>\n",
              "      <td>His Girl Friday</td>\n",
              "      <td>1940</td>\n",
              "      <td>Cary Grant</td>\n",
              "      <td>actor</td>\n",
              "      <td>Walter Burns</td>\n",
              "      <td>1.0</td>\n",
              "    </tr>\n",
              "    <tr>\n",
              "      <th>871448</th>\n",
              "      <td>The Howards of Virginia</td>\n",
              "      <td>1940</td>\n",
              "      <td>Cary Grant</td>\n",
              "      <td>actor</td>\n",
              "      <td>Matt Howard</td>\n",
              "      <td>1.0</td>\n",
              "    </tr>\n",
              "    <tr>\n",
              "      <th>871450</th>\n",
              "      <td>The Philadelphia Story</td>\n",
              "      <td>1940</td>\n",
              "      <td>Cary Grant</td>\n",
              "      <td>actor</td>\n",
              "      <td>C. K. Dexter Haven</td>\n",
              "      <td>1.0</td>\n",
              "    </tr>\n",
              "  </tbody>\n",
              "</table>\n",
              "</div>"
            ],
            "text/plain": [
              "                                    title  year  ...           character    n\n",
              "871409                       Hot Saturday  1932  ...     Romer Sheffield  1.0\n",
              "871404                      Gambling Ship  1933  ...          Ace Corbin  1.0\n",
              "871415                   Kiss and Make-Up  1934  ...   Dr. Maurice Lamar  1.0\n",
              "871417               Ladies Should Listen  1934  ...    Julian De Lussac  1.0\n",
              "871449                   The Last Outpost  1935  ...     Michael Andrews  1.0\n",
              "871391                     Big Brown Eyes  1936  ...          Danny Barr  1.0\n",
              "871442  The Amazing Quest of Ernest Bliss  1936  ...        Ernest Bliss  1.0\n",
              "871406                          Gunga Din  1939  ...              Cutter  1.0\n",
              "871431             Only Angels Have Wings  1939  ...        Geoff Carter  1.0\n",
              "871407                    His Girl Friday  1940  ...        Walter Burns  1.0\n",
              "871448            The Howards of Virginia  1940  ...         Matt Howard  1.0\n",
              "871450             The Philadelphia Story  1940  ...  C. K. Dexter Haven  1.0\n",
              "\n",
              "[12 rows x 6 columns]"
            ]
          },
          "metadata": {
            "tags": []
          },
          "execution_count": 68
        }
      ]
    },
    {
      "cell_type": "markdown",
      "metadata": {
        "id": "91a03-zSkebb",
        "colab_type": "text"
      },
      "source": [
        "#How many roles were available for actors in the 1950s?"
      ]
    },
    {
      "cell_type": "code",
      "metadata": {
        "id": "vcBrnSw-kjzM",
        "colab_type": "code",
        "colab": {
          "base_uri": "https://localhost:8080/",
          "height": 34
        },
        "outputId": "3893a171-0577-4a74-aba7-96ef9f5bbd5b"
      },
      "source": [
        "len(cast[(cast.type == 'actor') & (cast.year == 1950)])"
      ],
      "execution_count": 69,
      "outputs": [
        {
          "output_type": "execute_result",
          "data": {
            "text/plain": [
              "16760"
            ]
          },
          "metadata": {
            "tags": []
          },
          "execution_count": 69
        }
      ]
    },
    {
      "cell_type": "markdown",
      "metadata": {
        "id": "USkdkU3fksu0",
        "colab_type": "text"
      },
      "source": [
        "#How many roles were available for actresses in the 1950s?"
      ]
    },
    {
      "cell_type": "code",
      "metadata": {
        "id": "kv9F4oxgknsV",
        "colab_type": "code",
        "colab": {
          "base_uri": "https://localhost:8080/",
          "height": 34
        },
        "outputId": "054e353b-24b3-4da4-96dd-ef3654db31fd"
      },
      "source": [
        "cast[(cast.type == 'actress') & (cast.year < 1960) & (cast.year >= 1950)].character.count()"
      ],
      "execution_count": 70,
      "outputs": [
        {
          "output_type": "execute_result",
          "data": {
            "text/plain": [
              "57733"
            ]
          },
          "metadata": {
            "tags": []
          },
          "execution_count": 70
        }
      ]
    },
    {
      "cell_type": "markdown",
      "metadata": {
        "id": "MzstOOe5kx10",
        "colab_type": "text"
      },
      "source": [
        "#How many leading roles (n=1) were available from the beginning of film history through 1980?"
      ]
    },
    {
      "cell_type": "code",
      "metadata": {
        "id": "sXdJzf31k0Gx",
        "colab_type": "code",
        "colab": {
          "base_uri": "https://localhost:8080/",
          "height": 34
        },
        "outputId": "3be6b107-d9f2-4420-865a-94e5e877fb65"
      },
      "source": [
        "len(cast[(cast.n == 1) & (cast.year <= 1980)])"
      ],
      "execution_count": 71,
      "outputs": [
        {
          "output_type": "execute_result",
          "data": {
            "text/plain": [
              "65140"
            ]
          },
          "metadata": {
            "tags": []
          },
          "execution_count": 71
        }
      ]
    },
    {
      "cell_type": "markdown",
      "metadata": {
        "id": "T8gM8wzVk2yE",
        "colab_type": "text"
      },
      "source": [
        "#How many non-leading roles were available through from the beginning of film history through 1980?"
      ]
    },
    {
      "cell_type": "code",
      "metadata": {
        "id": "mqhPn7ANk4ql",
        "colab_type": "code",
        "colab": {
          "base_uri": "https://localhost:8080/",
          "height": 34
        },
        "outputId": "5a413c7c-08bb-4089-a4e4-bc47d638860e"
      },
      "source": [
        "len(cast[(cast.n != 1) & (cast.year <= 1980)])"
      ],
      "execution_count": 72,
      "outputs": [
        {
          "output_type": "execute_result",
          "data": {
            "text/plain": [
              "1117667"
            ]
          },
          "metadata": {
            "tags": []
          },
          "execution_count": 72
        }
      ]
    },
    {
      "cell_type": "markdown",
      "metadata": {
        "id": "IptcmYT6k8sL",
        "colab_type": "text"
      },
      "source": [
        "#How many roles through 1980 were minor enough that they did not warrant a numeric \"n\" rank?"
      ]
    },
    {
      "cell_type": "code",
      "metadata": {
        "id": "Rd1kjL8ok5_U",
        "colab_type": "code",
        "colab": {
          "base_uri": "https://localhost:8080/",
          "height": 34
        },
        "outputId": "262d74e5-85ba-4cf1-ef8f-958eafe86b2b"
      },
      "source": [
        "len(cast[(cast.n.isna()) & (cast.year <= 1980)])"
      ],
      "execution_count": 73,
      "outputs": [
        {
          "output_type": "execute_result",
          "data": {
            "text/plain": [
              "448347"
            ]
          },
          "metadata": {
            "tags": []
          },
          "execution_count": 73
        }
      ]
    }
  ]
}